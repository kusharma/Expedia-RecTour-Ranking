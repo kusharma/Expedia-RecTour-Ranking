{
 "cells": [
  {
   "cell_type": "markdown",
   "metadata": {
    "id": "pwQajobYgIEK"
   },
   "source": [
    "### Learning to rank with XGB - more data\n",
    "\n",
    "\n",
    "- 1 Million rows\n",
    "\n",
    "- loss considers NDCG\n",
    "\n",
    "- Feature and row selection as in https://docs.google.com/document/d/1R9itgngZUNzkBqWzXstLiBXXoYJa8-ahS66JrqC3kDk/edit\n",
    "\n",
    "- after feature selection: check for queries with one row/no click/transaction\n",
    "- preprocessed: no queries with only one result, numerical variables scaled\n",
    "- click and transaction in one relevance label (click weight: 1, transaction weight: 2)\n",
    "\n"
   ]
  },
  {
   "cell_type": "markdown",
   "metadata": {
    "id": "VjlmDv9Qdia8"
   },
   "source": [
    "code folllows this example: https://xgboost.readthedocs.io/en/stable/tutorials/learning_to_rank.html"
   ]
  },
  {
   "cell_type": "code",
   "execution_count": 2,
   "metadata": {
    "id": "figfZqQHFaX-"
   },
   "outputs": [],
   "source": [
    "import pandas as pd\n",
    "df = pd.read_csv('/home/constructor/FinalProjects/Expedia_new/allRank_WS/expedia_data/processed/MillionRows/AllDest100Rank.csv')"
   ]
  },
  {
   "cell_type": "markdown",
   "metadata": {
    "id": "RS3abC_SMZKI"
   },
   "source": [
    "#### Create relevance column from user interactions (clicks, bookings)"
   ]
  },
  {
   "cell_type": "code",
   "execution_count": 3,
   "metadata": {},
   "outputs": [],
   "source": [
    "df[\"relevance\"] = 0  # Initialize with default value\n",
    "df.loc[df[\"num_clicks\"] > 0, \"relevance\"] = 1  # Set value to 1 if first_column > 0\n",
    "df.loc[df[\"is_trans\"] > 0, \"relevance\"] = 2  # Add 2 if second_column > 0"
   ]
  },
  {
   "cell_type": "markdown",
   "metadata": {
    "id": "RS3abC_SMZKI"
   },
   "source": [
    "#### Drop columns (features) not needed "
   ]
  },
  {
   "cell_type": "code",
   "execution_count": 4,
   "metadata": {
    "colab": {
     "base_uri": "https://localhost:8080/"
    },
    "id": "edMZUDCfLsTS",
    "outputId": "07bcd197-640b-4db3-aa1a-6ecf674c1644"
   },
   "outputs": [
    {
     "data": {
      "text/plain": [
       "(9171332, 40)"
      ]
     },
     "execution_count": 4,
     "metadata": {},
     "output_type": "execute_result"
    }
   ],
   "source": [
    "df = df.drop(columns = [\"search_day_of_week\", \"search_hour_of_day\",\n",
    "                        \"checkout_date\", \"infant_count\", \"room_count\", \"rank\",\n",
    "                        \"user_id\",\"is_trans\", \"num_clicks\"])\n",
    "\n",
    "df.shape"
   ]
  },
  {
   "cell_type": "markdown",
   "metadata": {
    "id": "rIEg3YZkPZXV"
   },
   "source": [
    "#### Drop or filter rows based on conditions"
   ]
  },
  {
   "cell_type": "code",
   "execution_count": 5,
   "metadata": {
    "colab": {
     "base_uri": "https://localhost:8080/"
    },
    "id": "DyRPP3NdTKso",
    "outputId": "0f093790-d303-4161-e314-945c5ba45369"
   },
   "outputs": [
    {
     "name": "stderr",
     "output_type": "stream",
     "text": [
      "/tmp/ipykernel_276502/2764890452.py:5: SettingWithCopyWarning: \n",
      "A value is trying to be set on a copy of a slice from a DataFrame\n",
      "\n",
      "See the caveats in the documentation: https://pandas.pydata.org/pandas-docs/stable/user_guide/indexing.html#returning-a-view-versus-a-copy\n",
      "  df_model.drop(columns='sort_type', inplace=True)\n"
     ]
    }
   ],
   "source": [
    "# Keeping only recommended sort_type\n",
    "\n",
    "df_model = df[df[\"sort_type\"] == \"RECOMMENDED\"]\n",
    "\n",
    "df_model.drop(columns='sort_type', inplace=True)\n",
    "\n",
    "# remove star_rating = Not Available\n",
    "df_model = df_model[df_model[\"star_rating\"] != \"Not Available\"]\n",
    "\n",
    "# remove if review rating == 0, because indicates that no rating could be given\n",
    "df_model = df_model[df_model[\"review_rating\"] != 0.0]\n",
    "\n",
    "# transfer star rating to a numeric value\n",
    "df_model[\"star_rating\"] = pd.to_numeric(df_model[\"star_rating\"])\n",
    "\n",
    "# exclude ads\n",
    "df_model = df_model[df_model['is_travel_ad'] == 0]\n",
    "\n",
    "# Extract month from checkin_date\n",
    "\n",
    "df_model[\"checkin_month\"] = pd.to_datetime(df_model[\"checkin_date\"]).dt.month\n",
    "\n",
    "# transform month to category\n",
    "df_model[\"checkin_month\"] = df_model[\"checkin_month\"].astype(\"category\")\n",
    "df_model['checkin_day'] = df_model['checkin_day'].astype('category')\n",
    "df_model['checkout_day'] = df_model['checkout_day'].astype('category')\n",
    "\n",
    "# drop string and date time of checkin\n",
    "df_model = df_model.drop(columns = [\"checkin_date\"])\n",
    "\n",
    "# replace True False strings with 1 and 0\n",
    "\n",
    "df_model = df_model.replace({\"True\": 1, \"False\": 0})"
   ]
  },
  {
   "cell_type": "code",
   "execution_count": 6,
   "metadata": {
    "id": "uifYi1S8xnxM"
   },
   "outputs": [],
   "source": [
    "amenities =  ['AirConditioning',\n",
    "  'AirportTransfer',\n",
    "  'Bar',\n",
    "  'FreeAirportTransportation',\n",
    "  'FreeBreakfast',\n",
    "  'FreeParking',\n",
    "  'FreeWiFi',\n",
    "  'Gym',\n",
    "  'HighSpeedInternet',\n",
    "  'HotTub',\n",
    "  'LaundryFacility',\n",
    "  'Parking',\n",
    "  'PetsAllowed',\n",
    "  'PrivatePool',\n",
    "  'SpaServices',\n",
    "  'SwimmingPool',\n",
    "  'WasherDryer',\n",
    "  'WiFi']\n",
    "\n",
    "\n",
    "\n",
    "# change type to category:\n",
    "for amenity in amenities:\n",
    "  df_model[amenity] = df_model[amenity].astype('int')"
   ]
  },
  {
   "cell_type": "code",
   "execution_count": 7,
   "metadata": {},
   "outputs": [],
   "source": [
    "df_amenities = pd.read_csv('/home/constructor/FinalProjects/Expedia_new/allRank_WS/expedia_data/processed/MillionRows/amenities.tsv.gz', compression='gzip', sep='\\t')"
   ]
  },
  {
   "cell_type": "code",
   "execution_count": 8,
   "metadata": {},
   "outputs": [],
   "source": [
    "df_model['number_of_amenities'] = df_model[df_amenities.columns.difference(['prop_id'])].sum(axis=1)"
   ]
  },
  {
   "cell_type": "code",
   "execution_count": 9,
   "metadata": {
    "colab": {
     "base_uri": "https://localhost:8080/"
    },
    "id": "9K1jkcC5hIXQ",
    "outputId": "a317fc34-57ca-4b55-8e62-569739fd94ab"
   },
   "outputs": [
    {
     "data": {
      "text/plain": [
       "['checkin_day', 'checkout_day', 'checkin_month']"
      ]
     },
     "execution_count": 9,
     "metadata": {},
     "output_type": "execute_result"
    }
   ],
   "source": [
    "categorical_features = df_model.select_dtypes(include=['category','object']).columns.tolist()\n",
    "\n",
    "categorical_features"
   ]
  },
  {
   "cell_type": "code",
   "execution_count": 23,
   "metadata": {
    "colab": {
     "base_uri": "https://localhost:8080/"
    },
    "id": "LLVjLGYX30Vj",
    "outputId": "b430dc2e-0f8b-4f4b-88cb-a1824c229495"
   },
   "outputs": [
    {
     "data": {
      "text/plain": [
       "(7609371, 40)"
      ]
     },
     "execution_count": 23,
     "metadata": {},
     "output_type": "execute_result"
    }
   ],
   "source": [
    "# drop rows with NaN values\n",
    "df_model = df_model.dropna()\n",
    "\n",
    "df_model.shape"
   ]
  },
  {
   "cell_type": "code",
   "execution_count": 24,
   "metadata": {
    "colab": {
     "base_uri": "https://localhost:8080/"
    },
    "id": "au-ElXio7xJG",
    "outputId": "f9846644-0bb9-4d05-99c7-27158c2bc34b"
   },
   "outputs": [
    {
     "data": {
      "text/plain": [
       "(7608825, 40)"
      ]
     },
     "execution_count": 24,
     "metadata": {},
     "output_type": "execute_result"
    }
   ],
   "source": [
    "#### check data before test - train split\n",
    "\n",
    "# are there qids with only one row?\n",
    "# throw out rows where qid is unique - for those ndcg is not possible to calculate\n",
    "# Find counts of each group\n",
    "group_counts = df_model[\"search_id\"].value_counts()\n",
    "unique_groups = group_counts[group_counts == 1].index\n",
    "\n",
    "filtered_df = df_model[~df_model[\"search_id\"].isin(unique_groups)]\n",
    "filtered_df.shape"
   ]
  },
  {
   "cell_type": "markdown",
   "metadata": {
    "id": "CRBpRKg7Kx1n"
   },
   "source": [
    "#### Train test split\n"
   ]
  },
  {
   "cell_type": "code",
   "execution_count": 12,
   "metadata": {
    "colab": {
     "base_uri": "https://localhost:8080/"
    },
    "id": "5QeV6PzdbTkn",
    "outputId": "a8d51773-df39-4752-ae4a-5857e121deb8"
   },
   "outputs": [
    {
     "data": {
      "text/plain": [
       "((5335572, 40), (2273799, 40))"
      ]
     },
     "execution_count": 12,
     "metadata": {},
     "output_type": "execute_result"
    }
   ],
   "source": [
    "from sklearn.model_selection import GroupShuffleSplit\n",
    "\n",
    "def split_by_qid(df, test_size):\n",
    "    gss = GroupShuffleSplit(test_size=test_size, n_splits=1, random_state=42)\n",
    "    ids = df['search_id'].unique()\n",
    "    train_idx, test_idx = next(gss.split(ids, groups=ids))\n",
    "    return df[df['search_id'].isin(ids[train_idx])], df[df['search_id'].isin(ids[test_idx])]\n",
    "\n",
    "#_, temp_df = split_by_qid(df2, test_size=0.2)\n",
    "train_df, test_df = split_by_qid(df_model, test_size=0.3)\n",
    "\n",
    "train_df.shape, test_df.shape"
   ]
  },
  {
   "cell_type": "code",
   "execution_count": 13,
   "metadata": {
    "id": "cy6weOYZPHYo"
   },
   "outputs": [],
   "source": [
    "# data needs to be ordered by qid for XGBRank function\n",
    "train_df = train_df.sort_values(by = \"search_id\")\n",
    "X_train = train_df.drop(columns = [\"search_id\", \"relevance\"])\n",
    "\n",
    "# relevance label is outcome var\n",
    "y_train = train_df[\"relevance\"]\n",
    "qid_train = train_df[\"search_id\"]"
   ]
  },
  {
   "cell_type": "code",
   "execution_count": 14,
   "metadata": {
    "id": "2PF00IvgPt7y"
   },
   "outputs": [],
   "source": [
    "# same data format for test data\n",
    "test_df = test_df.sort_values(by = \"search_id\")\n",
    "\n",
    "X_test = test_df.drop(columns = [\"search_id\", \"relevance\"])\n",
    "\n",
    "y_test = test_df[\"relevance\"]\n",
    "qid_test = test_df[\"search_id\"]"
   ]
  },
  {
   "cell_type": "code",
   "execution_count": 15,
   "metadata": {
    "colab": {
     "base_uri": "https://localhost:8080/"
    },
    "id": "bhNAAjKgn9EW",
    "outputId": "3a2ea5b0-a082-45b5-de26-a015a44d3312"
   },
   "outputs": [
    {
     "data": {
      "text/plain": [
       "(['checkin_day', 'checkout_day', 'checkin_month'],\n",
       " ['is_mobile',\n",
       "  'adult_count',\n",
       "  'child_count',\n",
       "  'length_of_stay',\n",
       "  'booking_window',\n",
       "  'prop_id',\n",
       "  'is_travel_ad',\n",
       "  'review_rating',\n",
       "  'review_count',\n",
       "  'star_rating',\n",
       "  'is_free_cancellation',\n",
       "  'is_drr',\n",
       "  'price_bucket',\n",
       "  'AirConditioning',\n",
       "  'AirportTransfer',\n",
       "  'Bar',\n",
       "  'FreeAirportTransportation',\n",
       "  'FreeBreakfast',\n",
       "  'FreeParking',\n",
       "  'FreeWiFi',\n",
       "  'Gym',\n",
       "  'HighSpeedInternet',\n",
       "  'HotTub',\n",
       "  'LaundryFacility',\n",
       "  'Parking',\n",
       "  'PetsAllowed',\n",
       "  'PrivatePool',\n",
       "  'SpaServices',\n",
       "  'SwimmingPool',\n",
       "  'WasherDryer',\n",
       "  'WiFi',\n",
       "  'number_of_amenities'])"
      ]
     },
     "execution_count": 15,
     "metadata": {},
     "output_type": "execute_result"
    }
   ],
   "source": [
    "categorical_features = X_train.select_dtypes(include=['category','object']).columns.tolist()\n",
    "numeric_features = X_train.select_dtypes(exclude=['category','object']).columns.tolist()\n",
    "\n",
    "# take out destination ID and geo_location_country and point_of_sale from list so it can be encoded separately\n",
    "numeric_features.remove(\"destination_id\")\n",
    "numeric_features.remove(\"geo_location_country\")\n",
    "numeric_features.remove(\"point_of_sale\")\n",
    "\n",
    "\n",
    "categorical_features, numeric_features"
   ]
  },
  {
   "cell_type": "markdown",
   "metadata": {
    "id": "BiMIHiTGIS0t"
   },
   "source": [
    "#### Feature pre-processing"
   ]
  },
  {
   "cell_type": "code",
   "execution_count": 16,
   "metadata": {
    "colab": {
     "base_uri": "https://localhost:8080/"
    },
    "id": "AuMqqsIpUmEI",
    "outputId": "eee5605d-1f35-4f91-e7f2-85f1ad3718d1"
   },
   "outputs": [],
   "source": [
    "!pip install -q category_encoders"
   ]
  },
  {
   "cell_type": "code",
   "execution_count": 17,
   "metadata": {
    "id": "biUiETuoKCDC"
   },
   "outputs": [],
   "source": [
    "import sklearn\n",
    "import category_encoders as ce\n",
    "from sklearn.preprocessing import StandardScaler\n",
    "### encode categorical with high cardinality\n",
    "sklearn.set_config(transform_output=\"pandas\")\n",
    "from category_encoders.target_encoder import TargetEncoder\n",
    "\n"
   ]
  },
  {
   "cell_type": "code",
   "execution_count": 18,
   "metadata": {
    "id": "8hj_r0OxUxMv"
   },
   "outputs": [],
   "source": [
    "# Set the option to opt-in to the future behavior\n",
    "pd.set_option('future.no_silent_downcasting', True)\n",
    "\n",
    "### encode destination ID and geo_location_country and point_of_sale\n",
    "enc = TargetEncoder(cols=[\"destination_id\", \"geo_location_country\", \"point_of_sale\",\"prop_id\"]).fit(X_train, y_train)\n",
    "\n",
    "X_train = enc.transform(X_train)\n",
    "X_test = enc.transform(X_test)"
   ]
  },
  {
   "cell_type": "code",
   "execution_count": 19,
   "metadata": {
    "colab": {
     "base_uri": "https://localhost:8080/"
    },
    "id": "QtvQKSyyhQXJ",
    "outputId": "ce19c555-4876-40e5-b89e-1b495aa11587"
   },
   "outputs": [
    {
     "data": {
      "text/plain": [
       "(['adult_count',\n",
       "  'child_count',\n",
       "  'length_of_stay',\n",
       "  'booking_window',\n",
       "  'review_count',\n",
       "  'number_of_amenities'],\n",
       " ['checkin_day', 'checkout_day', 'checkin_month'])"
      ]
     },
     "execution_count": 19,
     "metadata": {},
     "output_type": "execute_result"
    }
   ],
   "source": [
    "numeric_features = ['adult_count',\n",
    " 'child_count',\n",
    " 'length_of_stay',\n",
    " 'booking_window',\n",
    " 'review_count','number_of_amenities']\n",
    "\n",
    "numeric_features, categorical_features"
   ]
  },
  {
   "cell_type": "code",
   "execution_count": 20,
   "metadata": {
    "id": "L5bdqyul33NQ"
   },
   "outputs": [],
   "source": [
    "# scale numerical\n",
    "scaler=StandardScaler()\n",
    "X_train[numeric_features] = scaler.fit_transform(X_train[numeric_features])\n",
    "X_test[numeric_features] = scaler.transform(X_test[numeric_features])"
   ]
  },
  {
   "cell_type": "code",
   "execution_count": 21,
   "metadata": {
    "id": "PCRGE20rhTvE"
   },
   "outputs": [],
   "source": [
    "# create dummies for categorical\n",
    "X_train = pd.get_dummies(X_train, columns=categorical_features)\n",
    "X_test = pd.get_dummies(X_test, columns=categorical_features)"
   ]
  },
  {
   "cell_type": "code",
   "execution_count": 22,
   "metadata": {},
   "outputs": [],
   "source": [
    "from sklearn.datasets import dump_svmlight_file\n",
    "\n",
    "# Save X_train as SVMLight file with .txt extension\n",
    "file_path_train = '/home/constructor/FinalProjects/Expedia_new/allRank_WS/expedia_data/0501_61C_MoreRank/train.txt'\n",
    "dump_svmlight_file(X_train, y_train, f=file_path_train, query_id=qid_train)\n",
    "\n",
    "# Save X_test as SVMLight file with .txt extension\n",
    "file_path_test = '/home/constructor/FinalProjects/Expedia_new/allRank_WS/expedia_data/0501_61C_MoreRank/test.txt'\n",
    "dump_svmlight_file(X_test, y_test, f=file_path_test, query_id=qid_test)"
   ]
  },
  {
   "cell_type": "code",
   "execution_count": 28,
   "metadata": {},
   "outputs": [],
   "source": [
    "!pip install -q xgboost"
   ]
  },
  {
   "cell_type": "code",
   "execution_count": 29,
   "metadata": {
    "id": "v7_sUpqeOm19"
   },
   "outputs": [],
   "source": [
    "import xgboost as xgb"
   ]
  },
  {
   "cell_type": "code",
   "execution_count": 30,
   "metadata": {
    "id": "OO1JJgMymL15"
   },
   "outputs": [],
   "source": [
    "# use the examplary code from xgboost documentation as a starting point:\n",
    "# https://xgboost.readthedocs.io/en/stable/python/examples/learning_to_rank.html#sphx-glr-python-examples-learning-to-rank-py\n",
    "# specifically for click data\n",
    "\n",
    "ranker = xgb.XGBRanker(\n",
    "        n_estimators=100, #512\n",
    "        tree_method=\"hist\",\n",
    "        device=\"cuda\",\n",
    "        learning_rate=0.01,\n",
    "        reg_lambda=0.05,\n",
    "        subsample=0.8,\n",
    "        sampling_method=\"gradient_based\",\n",
    "        # to handle categorical features with many features\n",
    "        #enable_categorical=True,\n",
    "        # above 7 categories no one hot encoding\n",
    "        #max_cat_to_onehot = 7,\n",
    "        #max_cat_threshold = 15,\n",
    "        # LTR specific parameters\n",
    "        objective=\"rank:ndcg\",\n",
    "        # - Enable bias estimation\n",
    "        lambdarank_unbiased=True,\n",
    "        # - normalization (1 / (norm + 1))\n",
    "        lambdarank_bias_norm=1,\n",
    "        # - Focus on the top 12 documents\n",
    "        lambdarank_num_pair_per_sample=12,\n",
    "        lambdarank_pair_method=\"topk\",\n",
    "        ndcg_exp_gain=True,\n",
    "        eval_metric=[\"ndcg@1\", \"ndcg@3\", \"ndcg@5\", \"ndcg@10\", \"ndcg@50\"],\n",
    "        lambdarank_normalization = False\n",
    " )"
   ]
  },
  {
   "cell_type": "code",
   "execution_count": 32,
   "metadata": {
    "id": "Yo2J79r1Fbe_"
   },
   "outputs": [],
   "source": [
    "corr = X_train[[\"point_of_sale\", \"geo_location_country\", \"is_mobile\",\n",
    "                \"destination_id\", \"adult_count\", \"child_count\", \"length_of_stay\",\n",
    "                \"booking_window\", \"review_rating\", \"review_count\", \"star_rating\",\n",
    "                \"is_free_cancellation\", \"is_drr\", \"price_bucket\",\n",
    "                ]].corr(numeric_only=True)"
   ]
  },
  {
   "cell_type": "code",
   "execution_count": 33,
   "metadata": {
    "colab": {
     "base_uri": "https://localhost:8080/",
     "height": 588
    },
    "id": "I3r6N5SewfIM",
    "outputId": "88e9f6d6-6271-4969-ba1c-17e5b5c4933f"
   },
   "outputs": [
    {
     "data": {
      "text/plain": [
       "<Axes: >"
      ]
     },
     "execution_count": 33,
     "metadata": {},
     "output_type": "execute_result"
    },
    {
     "data": {
      "image/png": "[encoded data removed]",
      "text/plain": [
       "<Figure size 640x480 with 2 Axes>"
      ]
     },
     "metadata": {},
     "output_type": "display_data"
    }
   ],
   "source": [
    "import seaborn as sns\n",
    "sns.heatmap(corr)"
   ]
  },
  {
   "cell_type": "code",
   "execution_count": 34,
   "metadata": {
    "colab": {
     "base_uri": "https://localhost:8080/",
     "height": 754
    },
    "id": "IMuLMWlQ7FjV",
    "outputId": "40035229-d25a-4a19-8187-2af5f2159db3"
   },
   "outputs": [
    {
     "name": "stderr",
     "output_type": "stream",
     "text": [
      "/home/constructor/.conda/envs/expedia_310/lib/python3.10/site-packages/xgboost/sklearn.py:889: UserWarning: `early_stopping_rounds` in `fit` method is deprecated for better compatibility with scikit-learn, use `early_stopping_rounds` in constructor or`set_params` instead.\n",
      "  warnings.warn(\n",
      "/home/constructor/.conda/envs/expedia_310/lib/python3.10/site-packages/xgboost/core.py:160: UserWarning: [15:59:10] WARNING: /workspace/src/learner.cc:742: \n",
      "Parameters: { \"lambdarank_normalization\" } are not used.\n",
      "\n",
      "  warnings.warn(smsg, UserWarning)\n"
     ]
    },
    {
     "name": "stdout",
     "output_type": "stream",
     "text": [
      "[0]\tvalidation_0-ndcg@1:0.18389\tvalidation_0-ndcg@3:0.25726\tvalidation_0-ndcg@5:0.29882\tvalidation_0-ndcg@10:0.35528\tvalidation_0-ndcg@50:0.44575\n",
      "[1]\tvalidation_0-ndcg@1:0.18742\tvalidation_0-ndcg@3:0.25901\tvalidation_0-ndcg@5:0.30000\tvalidation_0-ndcg@10:0.35608\tvalidation_0-ndcg@50:0.44717\n",
      "[2]\tvalidation_0-ndcg@1:0.18666\tvalidation_0-ndcg@3:0.25946\tvalidation_0-ndcg@5:0.30146\tvalidation_0-ndcg@10:0.35696\tvalidation_0-ndcg@50:0.44778\n",
      "[3]\tvalidation_0-ndcg@1:0.18734\tvalidation_0-ndcg@3:0.26029\tvalidation_0-ndcg@5:0.30183\tvalidation_0-ndcg@10:0.35763\tvalidation_0-ndcg@50:0.44809\n",
      "[4]\tvalidation_0-ndcg@1:0.18742\tvalidation_0-ndcg@3:0.26011\tvalidation_0-ndcg@5:0.30180\tvalidation_0-ndcg@10:0.35795\tvalidation_0-ndcg@50:0.44831\n",
      "[5]\tvalidation_0-ndcg@1:0.18806\tvalidation_0-ndcg@3:0.26028\tvalidation_0-ndcg@5:0.30217\tvalidation_0-ndcg@10:0.35825\tvalidation_0-ndcg@50:0.44840\n",
      "[6]\tvalidation_0-ndcg@1:0.18797\tvalidation_0-ndcg@3:0.26036\tvalidation_0-ndcg@5:0.30233\tvalidation_0-ndcg@10:0.35828\tvalidation_0-ndcg@50:0.44856\n",
      "[7]\tvalidation_0-ndcg@1:0.18822\tvalidation_0-ndcg@3:0.26057\tvalidation_0-ndcg@5:0.30232\tvalidation_0-ndcg@10:0.35848\tvalidation_0-ndcg@50:0.44872\n",
      "[8]\tvalidation_0-ndcg@1:0.18797\tvalidation_0-ndcg@3:0.26065\tvalidation_0-ndcg@5:0.30223\tvalidation_0-ndcg@10:0.35873\tvalidation_0-ndcg@50:0.44884\n",
      "[9]\tvalidation_0-ndcg@1:0.18856\tvalidation_0-ndcg@3:0.26067\tvalidation_0-ndcg@5:0.30240\tvalidation_0-ndcg@10:0.35883\tvalidation_0-ndcg@50:0.44883\n",
      "[10]\tvalidation_0-ndcg@1:0.18797\tvalidation_0-ndcg@3:0.26045\tvalidation_0-ndcg@5:0.30230\tvalidation_0-ndcg@10:0.35868\tvalidation_0-ndcg@50:0.44866\n",
      "[11]\tvalidation_0-ndcg@1:0.18779\tvalidation_0-ndcg@3:0.26045\tvalidation_0-ndcg@5:0.30259\tvalidation_0-ndcg@10:0.35889\tvalidation_0-ndcg@50:0.44876\n",
      "[12]\tvalidation_0-ndcg@1:0.18759\tvalidation_0-ndcg@3:0.26040\tvalidation_0-ndcg@5:0.30283\tvalidation_0-ndcg@10:0.35886\tvalidation_0-ndcg@50:0.44869\n",
      "[13]\tvalidation_0-ndcg@1:0.18778\tvalidation_0-ndcg@3:0.26043\tvalidation_0-ndcg@5:0.30287\tvalidation_0-ndcg@10:0.35886\tvalidation_0-ndcg@50:0.44875\n",
      "[14]\tvalidation_0-ndcg@1:0.18751\tvalidation_0-ndcg@3:0.26011\tvalidation_0-ndcg@5:0.30250\tvalidation_0-ndcg@10:0.35869\tvalidation_0-ndcg@50:0.44860\n",
      "[15]\tvalidation_0-ndcg@1:0.18812\tvalidation_0-ndcg@3:0.26041\tvalidation_0-ndcg@5:0.30272\tvalidation_0-ndcg@10:0.35902\tvalidation_0-ndcg@50:0.44894\n",
      "[16]\tvalidation_0-ndcg@1:0.18809\tvalidation_0-ndcg@3:0.26037\tvalidation_0-ndcg@5:0.30284\tvalidation_0-ndcg@10:0.35905\tvalidation_0-ndcg@50:0.44891\n",
      "[17]\tvalidation_0-ndcg@1:0.18806\tvalidation_0-ndcg@3:0.26067\tvalidation_0-ndcg@5:0.30300\tvalidation_0-ndcg@10:0.35921\tvalidation_0-ndcg@50:0.44905\n",
      "[18]\tvalidation_0-ndcg@1:0.18832\tvalidation_0-ndcg@3:0.26081\tvalidation_0-ndcg@5:0.30295\tvalidation_0-ndcg@10:0.35932\tvalidation_0-ndcg@50:0.44909\n",
      "[19]\tvalidation_0-ndcg@1:0.18838\tvalidation_0-ndcg@3:0.26102\tvalidation_0-ndcg@5:0.30301\tvalidation_0-ndcg@10:0.35944\tvalidation_0-ndcg@50:0.44922\n",
      "[20]\tvalidation_0-ndcg@1:0.18869\tvalidation_0-ndcg@3:0.26113\tvalidation_0-ndcg@5:0.30329\tvalidation_0-ndcg@10:0.35951\tvalidation_0-ndcg@50:0.44941\n",
      "[21]\tvalidation_0-ndcg@1:0.18869\tvalidation_0-ndcg@3:0.26109\tvalidation_0-ndcg@5:0.30336\tvalidation_0-ndcg@10:0.35952\tvalidation_0-ndcg@50:0.44939\n",
      "[22]\tvalidation_0-ndcg@1:0.18917\tvalidation_0-ndcg@3:0.26171\tvalidation_0-ndcg@5:0.30365\tvalidation_0-ndcg@10:0.35967\tvalidation_0-ndcg@50:0.44960\n",
      "[23]\tvalidation_0-ndcg@1:0.18887\tvalidation_0-ndcg@3:0.26160\tvalidation_0-ndcg@5:0.30369\tvalidation_0-ndcg@10:0.35980\tvalidation_0-ndcg@50:0.44957\n",
      "[24]\tvalidation_0-ndcg@1:0.18908\tvalidation_0-ndcg@3:0.26164\tvalidation_0-ndcg@5:0.30376\tvalidation_0-ndcg@10:0.35976\tvalidation_0-ndcg@50:0.44960\n",
      "[25]\tvalidation_0-ndcg@1:0.18911\tvalidation_0-ndcg@3:0.26158\tvalidation_0-ndcg@5:0.30370\tvalidation_0-ndcg@10:0.35985\tvalidation_0-ndcg@50:0.44965\n",
      "[26]\tvalidation_0-ndcg@1:0.18896\tvalidation_0-ndcg@3:0.26146\tvalidation_0-ndcg@5:0.30364\tvalidation_0-ndcg@10:0.35988\tvalidation_0-ndcg@50:0.44956\n",
      "[27]\tvalidation_0-ndcg@1:0.18887\tvalidation_0-ndcg@3:0.26139\tvalidation_0-ndcg@5:0.30365\tvalidation_0-ndcg@10:0.35981\tvalidation_0-ndcg@50:0.44948\n",
      "[28]\tvalidation_0-ndcg@1:0.18888\tvalidation_0-ndcg@3:0.26141\tvalidation_0-ndcg@5:0.30357\tvalidation_0-ndcg@10:0.35971\tvalidation_0-ndcg@50:0.44947\n",
      "[29]\tvalidation_0-ndcg@1:0.18893\tvalidation_0-ndcg@3:0.26150\tvalidation_0-ndcg@5:0.30358\tvalidation_0-ndcg@10:0.35978\tvalidation_0-ndcg@50:0.44954\n",
      "[30]\tvalidation_0-ndcg@1:0.18915\tvalidation_0-ndcg@3:0.26166\tvalidation_0-ndcg@5:0.30379\tvalidation_0-ndcg@10:0.35986\tvalidation_0-ndcg@50:0.44966\n",
      "[31]\tvalidation_0-ndcg@1:0.18934\tvalidation_0-ndcg@3:0.26166\tvalidation_0-ndcg@5:0.30382\tvalidation_0-ndcg@10:0.36000\tvalidation_0-ndcg@50:0.44975\n",
      "[32]\tvalidation_0-ndcg@1:0.18947\tvalidation_0-ndcg@3:0.26161\tvalidation_0-ndcg@5:0.30384\tvalidation_0-ndcg@10:0.35991\tvalidation_0-ndcg@50:0.44973\n",
      "[33]\tvalidation_0-ndcg@1:0.18959\tvalidation_0-ndcg@3:0.26183\tvalidation_0-ndcg@5:0.30379\tvalidation_0-ndcg@10:0.36001\tvalidation_0-ndcg@50:0.44979\n",
      "[34]\tvalidation_0-ndcg@1:0.18941\tvalidation_0-ndcg@3:0.26171\tvalidation_0-ndcg@5:0.30375\tvalidation_0-ndcg@10:0.35995\tvalidation_0-ndcg@50:0.44972\n",
      "[35]\tvalidation_0-ndcg@1:0.18938\tvalidation_0-ndcg@3:0.26190\tvalidation_0-ndcg@5:0.30398\tvalidation_0-ndcg@10:0.36001\tvalidation_0-ndcg@50:0.44986\n",
      "[36]\tvalidation_0-ndcg@1:0.18943\tvalidation_0-ndcg@3:0.26181\tvalidation_0-ndcg@5:0.30404\tvalidation_0-ndcg@10:0.36016\tvalidation_0-ndcg@50:0.44997\n",
      "[37]\tvalidation_0-ndcg@1:0.18964\tvalidation_0-ndcg@3:0.26235\tvalidation_0-ndcg@5:0.30413\tvalidation_0-ndcg@10:0.36019\tvalidation_0-ndcg@50:0.45017\n",
      "[38]\tvalidation_0-ndcg@1:0.18974\tvalidation_0-ndcg@3:0.26237\tvalidation_0-ndcg@5:0.30431\tvalidation_0-ndcg@10:0.36038\tvalidation_0-ndcg@50:0.45030\n",
      "[39]\tvalidation_0-ndcg@1:0.18965\tvalidation_0-ndcg@3:0.26245\tvalidation_0-ndcg@5:0.30421\tvalidation_0-ndcg@10:0.36040\tvalidation_0-ndcg@50:0.45030\n",
      "[40]\tvalidation_0-ndcg@1:0.18957\tvalidation_0-ndcg@3:0.26251\tvalidation_0-ndcg@5:0.30428\tvalidation_0-ndcg@10:0.36031\tvalidation_0-ndcg@50:0.45025\n",
      "[41]\tvalidation_0-ndcg@1:0.18989\tvalidation_0-ndcg@3:0.26264\tvalidation_0-ndcg@5:0.30442\tvalidation_0-ndcg@10:0.36054\tvalidation_0-ndcg@50:0.45041\n",
      "[42]\tvalidation_0-ndcg@1:0.19012\tvalidation_0-ndcg@3:0.26273\tvalidation_0-ndcg@5:0.30445\tvalidation_0-ndcg@10:0.36066\tvalidation_0-ndcg@50:0.45048\n",
      "[43]\tvalidation_0-ndcg@1:0.19012\tvalidation_0-ndcg@3:0.26266\tvalidation_0-ndcg@5:0.30442\tvalidation_0-ndcg@10:0.36066\tvalidation_0-ndcg@50:0.45046\n",
      "[44]\tvalidation_0-ndcg@1:0.19007\tvalidation_0-ndcg@3:0.26262\tvalidation_0-ndcg@5:0.30429\tvalidation_0-ndcg@10:0.36074\tvalidation_0-ndcg@50:0.45044\n",
      "[45]\tvalidation_0-ndcg@1:0.19035\tvalidation_0-ndcg@3:0.26292\tvalidation_0-ndcg@5:0.30456\tvalidation_0-ndcg@10:0.36093\tvalidation_0-ndcg@50:0.45064\n",
      "[46]\tvalidation_0-ndcg@1:0.19025\tvalidation_0-ndcg@3:0.26307\tvalidation_0-ndcg@5:0.30452\tvalidation_0-ndcg@10:0.36099\tvalidation_0-ndcg@50:0.45062\n",
      "[47]\tvalidation_0-ndcg@1:0.19002\tvalidation_0-ndcg@3:0.26290\tvalidation_0-ndcg@5:0.30441\tvalidation_0-ndcg@10:0.36097\tvalidation_0-ndcg@50:0.45055\n",
      "[48]\tvalidation_0-ndcg@1:0.18998\tvalidation_0-ndcg@3:0.26298\tvalidation_0-ndcg@5:0.30442\tvalidation_0-ndcg@10:0.36096\tvalidation_0-ndcg@50:0.45058\n",
      "[49]\tvalidation_0-ndcg@1:0.19003\tvalidation_0-ndcg@3:0.26291\tvalidation_0-ndcg@5:0.30452\tvalidation_0-ndcg@10:0.36106\tvalidation_0-ndcg@50:0.45058\n",
      "[50]\tvalidation_0-ndcg@1:0.19017\tvalidation_0-ndcg@3:0.26305\tvalidation_0-ndcg@5:0.30472\tvalidation_0-ndcg@10:0.36115\tvalidation_0-ndcg@50:0.45071\n",
      "[51]\tvalidation_0-ndcg@1:0.18974\tvalidation_0-ndcg@3:0.26284\tvalidation_0-ndcg@5:0.30453\tvalidation_0-ndcg@10:0.36100\tvalidation_0-ndcg@50:0.45058\n",
      "[52]\tvalidation_0-ndcg@1:0.18991\tvalidation_0-ndcg@3:0.26304\tvalidation_0-ndcg@5:0.30461\tvalidation_0-ndcg@10:0.36113\tvalidation_0-ndcg@50:0.45068\n",
      "[53]\tvalidation_0-ndcg@1:0.19004\tvalidation_0-ndcg@3:0.26291\tvalidation_0-ndcg@5:0.30465\tvalidation_0-ndcg@10:0.36114\tvalidation_0-ndcg@50:0.45069\n",
      "[54]\tvalidation_0-ndcg@1:0.18992\tvalidation_0-ndcg@3:0.26286\tvalidation_0-ndcg@5:0.30465\tvalidation_0-ndcg@10:0.36116\tvalidation_0-ndcg@50:0.45068\n",
      "[55]\tvalidation_0-ndcg@1:0.18982\tvalidation_0-ndcg@3:0.26285\tvalidation_0-ndcg@5:0.30451\tvalidation_0-ndcg@10:0.36107\tvalidation_0-ndcg@50:0.45066\n",
      "[56]\tvalidation_0-ndcg@1:0.18979\tvalidation_0-ndcg@3:0.26281\tvalidation_0-ndcg@5:0.30470\tvalidation_0-ndcg@10:0.36122\tvalidation_0-ndcg@50:0.45068\n",
      "[57]\tvalidation_0-ndcg@1:0.18985\tvalidation_0-ndcg@3:0.26311\tvalidation_0-ndcg@5:0.30478\tvalidation_0-ndcg@10:0.36134\tvalidation_0-ndcg@50:0.45077\n",
      "[58]\tvalidation_0-ndcg@1:0.18991\tvalidation_0-ndcg@3:0.26310\tvalidation_0-ndcg@5:0.30491\tvalidation_0-ndcg@10:0.36136\tvalidation_0-ndcg@50:0.45079\n",
      "[59]\tvalidation_0-ndcg@1:0.18989\tvalidation_0-ndcg@3:0.26315\tvalidation_0-ndcg@5:0.30500\tvalidation_0-ndcg@10:0.36141\tvalidation_0-ndcg@50:0.45080\n",
      "[60]\tvalidation_0-ndcg@1:0.19016\tvalidation_0-ndcg@3:0.26348\tvalidation_0-ndcg@5:0.30511\tvalidation_0-ndcg@10:0.36162\tvalidation_0-ndcg@50:0.45101\n",
      "[61]\tvalidation_0-ndcg@1:0.19011\tvalidation_0-ndcg@3:0.26338\tvalidation_0-ndcg@5:0.30519\tvalidation_0-ndcg@10:0.36163\tvalidation_0-ndcg@50:0.45102\n",
      "[62]\tvalidation_0-ndcg@1:0.19004\tvalidation_0-ndcg@3:0.26334\tvalidation_0-ndcg@5:0.30515\tvalidation_0-ndcg@10:0.36151\tvalidation_0-ndcg@50:0.45102\n",
      "[63]\tvalidation_0-ndcg@1:0.19022\tvalidation_0-ndcg@3:0.26336\tvalidation_0-ndcg@5:0.30508\tvalidation_0-ndcg@10:0.36153\tvalidation_0-ndcg@50:0.45102\n",
      "[64]\tvalidation_0-ndcg@1:0.19029\tvalidation_0-ndcg@3:0.26353\tvalidation_0-ndcg@5:0.30503\tvalidation_0-ndcg@10:0.36166\tvalidation_0-ndcg@50:0.45106\n",
      "[65]\tvalidation_0-ndcg@1:0.19038\tvalidation_0-ndcg@3:0.26354\tvalidation_0-ndcg@5:0.30508\tvalidation_0-ndcg@10:0.36166\tvalidation_0-ndcg@50:0.45111\n",
      "[66]\tvalidation_0-ndcg@1:0.19030\tvalidation_0-ndcg@3:0.26344\tvalidation_0-ndcg@5:0.30509\tvalidation_0-ndcg@10:0.36159\tvalidation_0-ndcg@50:0.45110\n",
      "[67]\tvalidation_0-ndcg@1:0.19034\tvalidation_0-ndcg@3:0.26355\tvalidation_0-ndcg@5:0.30510\tvalidation_0-ndcg@10:0.36161\tvalidation_0-ndcg@50:0.45114\n",
      "[68]\tvalidation_0-ndcg@1:0.19034\tvalidation_0-ndcg@3:0.26338\tvalidation_0-ndcg@5:0.30509\tvalidation_0-ndcg@10:0.36166\tvalidation_0-ndcg@50:0.45112\n",
      "[69]\tvalidation_0-ndcg@1:0.19036\tvalidation_0-ndcg@3:0.26330\tvalidation_0-ndcg@5:0.30512\tvalidation_0-ndcg@10:0.36160\tvalidation_0-ndcg@50:0.45111\n",
      "[70]\tvalidation_0-ndcg@1:0.19025\tvalidation_0-ndcg@3:0.26333\tvalidation_0-ndcg@5:0.30518\tvalidation_0-ndcg@10:0.36161\tvalidation_0-ndcg@50:0.45112\n",
      "[71]\tvalidation_0-ndcg@1:0.19028\tvalidation_0-ndcg@3:0.26337\tvalidation_0-ndcg@5:0.30521\tvalidation_0-ndcg@10:0.36161\tvalidation_0-ndcg@50:0.45112\n",
      "[72]\tvalidation_0-ndcg@1:0.19032\tvalidation_0-ndcg@3:0.26339\tvalidation_0-ndcg@5:0.30532\tvalidation_0-ndcg@10:0.36171\tvalidation_0-ndcg@50:0.45116\n",
      "[73]\tvalidation_0-ndcg@1:0.19019\tvalidation_0-ndcg@3:0.26340\tvalidation_0-ndcg@5:0.30522\tvalidation_0-ndcg@10:0.36163\tvalidation_0-ndcg@50:0.45112\n",
      "[74]\tvalidation_0-ndcg@1:0.19047\tvalidation_0-ndcg@3:0.26346\tvalidation_0-ndcg@5:0.30534\tvalidation_0-ndcg@10:0.36172\tvalidation_0-ndcg@50:0.45120\n",
      "[75]\tvalidation_0-ndcg@1:0.19031\tvalidation_0-ndcg@3:0.26353\tvalidation_0-ndcg@5:0.30518\tvalidation_0-ndcg@10:0.36160\tvalidation_0-ndcg@50:0.45115\n",
      "[76]\tvalidation_0-ndcg@1:0.19037\tvalidation_0-ndcg@3:0.26349\tvalidation_0-ndcg@5:0.30512\tvalidation_0-ndcg@10:0.36167\tvalidation_0-ndcg@50:0.45116\n",
      "[77]\tvalidation_0-ndcg@1:0.19049\tvalidation_0-ndcg@3:0.26355\tvalidation_0-ndcg@5:0.30517\tvalidation_0-ndcg@10:0.36172\tvalidation_0-ndcg@50:0.45123\n",
      "[78]\tvalidation_0-ndcg@1:0.19044\tvalidation_0-ndcg@3:0.26363\tvalidation_0-ndcg@5:0.30522\tvalidation_0-ndcg@10:0.36169\tvalidation_0-ndcg@50:0.45127\n",
      "[79]\tvalidation_0-ndcg@1:0.19051\tvalidation_0-ndcg@3:0.26360\tvalidation_0-ndcg@5:0.30528\tvalidation_0-ndcg@10:0.36168\tvalidation_0-ndcg@50:0.45128\n",
      "[80]\tvalidation_0-ndcg@1:0.19037\tvalidation_0-ndcg@3:0.26356\tvalidation_0-ndcg@5:0.30533\tvalidation_0-ndcg@10:0.36172\tvalidation_0-ndcg@50:0.45128\n",
      "[81]\tvalidation_0-ndcg@1:0.19046\tvalidation_0-ndcg@3:0.26372\tvalidation_0-ndcg@5:0.30535\tvalidation_0-ndcg@10:0.36171\tvalidation_0-ndcg@50:0.45132\n",
      "[82]\tvalidation_0-ndcg@1:0.19030\tvalidation_0-ndcg@3:0.26370\tvalidation_0-ndcg@5:0.30524\tvalidation_0-ndcg@10:0.36165\tvalidation_0-ndcg@50:0.45126\n",
      "[83]\tvalidation_0-ndcg@1:0.19038\tvalidation_0-ndcg@3:0.26367\tvalidation_0-ndcg@5:0.30537\tvalidation_0-ndcg@10:0.36172\tvalidation_0-ndcg@50:0.45136\n",
      "[84]\tvalidation_0-ndcg@1:0.19038\tvalidation_0-ndcg@3:0.26364\tvalidation_0-ndcg@5:0.30540\tvalidation_0-ndcg@10:0.36177\tvalidation_0-ndcg@50:0.45136\n",
      "[85]\tvalidation_0-ndcg@1:0.19031\tvalidation_0-ndcg@3:0.26359\tvalidation_0-ndcg@5:0.30529\tvalidation_0-ndcg@10:0.36174\tvalidation_0-ndcg@50:0.45130\n",
      "[86]\tvalidation_0-ndcg@1:0.19033\tvalidation_0-ndcg@3:0.26356\tvalidation_0-ndcg@5:0.30534\tvalidation_0-ndcg@10:0.36174\tvalidation_0-ndcg@50:0.45131\n",
      "[87]\tvalidation_0-ndcg@1:0.19042\tvalidation_0-ndcg@3:0.26364\tvalidation_0-ndcg@5:0.30531\tvalidation_0-ndcg@10:0.36177\tvalidation_0-ndcg@50:0.45133\n",
      "[88]\tvalidation_0-ndcg@1:0.19031\tvalidation_0-ndcg@3:0.26360\tvalidation_0-ndcg@5:0.30537\tvalidation_0-ndcg@10:0.36174\tvalidation_0-ndcg@50:0.45132\n",
      "[89]\tvalidation_0-ndcg@1:0.19038\tvalidation_0-ndcg@3:0.26361\tvalidation_0-ndcg@5:0.30546\tvalidation_0-ndcg@10:0.36176\tvalidation_0-ndcg@50:0.45135\n",
      "[90]\tvalidation_0-ndcg@1:0.19045\tvalidation_0-ndcg@3:0.26356\tvalidation_0-ndcg@5:0.30549\tvalidation_0-ndcg@10:0.36174\tvalidation_0-ndcg@50:0.45136\n",
      "[91]\tvalidation_0-ndcg@1:0.19043\tvalidation_0-ndcg@3:0.26352\tvalidation_0-ndcg@5:0.30555\tvalidation_0-ndcg@10:0.36182\tvalidation_0-ndcg@50:0.45138\n",
      "[92]\tvalidation_0-ndcg@1:0.19050\tvalidation_0-ndcg@3:0.26361\tvalidation_0-ndcg@5:0.30557\tvalidation_0-ndcg@10:0.36191\tvalidation_0-ndcg@50:0.45142\n",
      "[93]\tvalidation_0-ndcg@1:0.19026\tvalidation_0-ndcg@3:0.26351\tvalidation_0-ndcg@5:0.30543\tvalidation_0-ndcg@10:0.36173\tvalidation_0-ndcg@50:0.45132\n",
      "[94]\tvalidation_0-ndcg@1:0.19027\tvalidation_0-ndcg@3:0.26351\tvalidation_0-ndcg@5:0.30539\tvalidation_0-ndcg@10:0.36179\tvalidation_0-ndcg@50:0.45134\n",
      "[95]\tvalidation_0-ndcg@1:0.19037\tvalidation_0-ndcg@3:0.26352\tvalidation_0-ndcg@5:0.30544\tvalidation_0-ndcg@10:0.36179\tvalidation_0-ndcg@50:0.45139\n",
      "[96]\tvalidation_0-ndcg@1:0.19030\tvalidation_0-ndcg@3:0.26345\tvalidation_0-ndcg@5:0.30536\tvalidation_0-ndcg@10:0.36179\tvalidation_0-ndcg@50:0.45135\n",
      "[97]\tvalidation_0-ndcg@1:0.19014\tvalidation_0-ndcg@3:0.26345\tvalidation_0-ndcg@5:0.30536\tvalidation_0-ndcg@10:0.36171\tvalidation_0-ndcg@50:0.45130\n",
      "[98]\tvalidation_0-ndcg@1:0.19012\tvalidation_0-ndcg@3:0.26342\tvalidation_0-ndcg@5:0.30544\tvalidation_0-ndcg@10:0.36165\tvalidation_0-ndcg@50:0.45131\n",
      "[99]\tvalidation_0-ndcg@1:0.19022\tvalidation_0-ndcg@3:0.26348\tvalidation_0-ndcg@5:0.30553\tvalidation_0-ndcg@10:0.36174\tvalidation_0-ndcg@50:0.45136\n"
     ]
    },
    {
     "data": {
      "text/html": [
       "<style>#sk-container-id-1 {\n",
       "  /* Definition of color scheme common for light and dark mode */\n",
       "  --sklearn-color-text: black;\n",
       "  --sklearn-color-line: gray;\n",
       "  /* Definition of color scheme for unfitted estimators */\n",
       "  --sklearn-color-unfitted-level-0: #fff5e6;\n",
       "  --sklearn-color-unfitted-level-1: #f6e4d2;\n",
       "  --sklearn-color-unfitted-level-2: #ffe0b3;\n",
       "  --sklearn-color-unfitted-level-3: chocolate;\n",
       "  /* Definition of color scheme for fitted estimators */\n",
       "  --sklearn-color-fitted-level-0: #f0f8ff;\n",
       "  --sklearn-color-fitted-level-1: #d4ebff;\n",
       "  --sklearn-color-fitted-level-2: #b3dbfd;\n",
       "  --sklearn-color-fitted-level-3: cornflowerblue;\n",
       "\n",
       "  /* Specific color for light theme */\n",
       "  --sklearn-color-text-on-default-background: var(--sg-text-color, var(--theme-code-foreground, var(--jp-content-font-color1, black)));\n",
       "  --sklearn-color-background: var(--sg-background-color, var(--theme-background, var(--jp-layout-color0, white)));\n",
       "  --sklearn-color-border-box: var(--sg-text-color, var(--theme-code-foreground, var(--jp-content-font-color1, black)));\n",
       "  --sklearn-color-icon: #696969;\n",
       "\n",
       "  @media (prefers-color-scheme: dark) {\n",
       "    /* Redefinition of color scheme for dark theme */\n",
       "    --sklearn-color-text-on-default-background: var(--sg-text-color, var(--theme-code-foreground, var(--jp-content-font-color1, white)));\n",
       "    --sklearn-color-background: var(--sg-background-color, var(--theme-background, var(--jp-layout-color0, #111)));\n",
       "    --sklearn-color-border-box: var(--sg-text-color, var(--theme-code-foreground, var(--jp-content-font-color1, white)));\n",
       "    --sklearn-color-icon: #878787;\n",
       "  }\n",
       "}\n",
       "\n",
       "#sk-container-id-1 {\n",
       "  color: var(--sklearn-color-text);\n",
       "}\n",
       "\n",
       "#sk-container-id-1 pre {\n",
       "  padding: 0;\n",
       "}\n",
       "\n",
       "#sk-container-id-1 input.sk-hidden--visually {\n",
       "  border: 0;\n",
       "  clip: rect(1px 1px 1px 1px);\n",
       "  clip: rect(1px, 1px, 1px, 1px);\n",
       "  height: 1px;\n",
       "  margin: -1px;\n",
       "  overflow: hidden;\n",
       "  padding: 0;\n",
       "  position: absolute;\n",
       "  width: 1px;\n",
       "}\n",
       "\n",
       "#sk-container-id-1 div.sk-dashed-wrapped {\n",
       "  border: 1px dashed var(--sklearn-color-line);\n",
       "  margin: 0 0.4em 0.5em 0.4em;\n",
       "  box-sizing: border-box;\n",
       "  padding-bottom: 0.4em;\n",
       "  background-color: var(--sklearn-color-background);\n",
       "}\n",
       "\n",
       "#sk-container-id-1 div.sk-container {\n",
       "  /* jupyter's `normalize.less` sets `[hidden] { display: none; }`\n",
       "     but bootstrap.min.css set `[hidden] { display: none !important; }`\n",
       "     so we also need the `!important` here to be able to override the\n",
       "     default hidden behavior on the sphinx rendered scikit-learn.org.\n",
       "     See: https://github.com/scikit-learn/scikit-learn/issues/21755 */\n",
       "  display: inline-block !important;\n",
       "  position: relative;\n",
       "}\n",
       "\n",
       "#sk-container-id-1 div.sk-text-repr-fallback {\n",
       "  display: none;\n",
       "}\n",
       "\n",
       "div.sk-parallel-item,\n",
       "div.sk-serial,\n",
       "div.sk-item {\n",
       "  /* draw centered vertical line to link estimators */\n",
       "  background-image: linear-gradient(var(--sklearn-color-text-on-default-background), var(--sklearn-color-text-on-default-background));\n",
       "  background-size: 2px 100%;\n",
       "  background-repeat: no-repeat;\n",
       "  background-position: center center;\n",
       "}\n",
       "\n",
       "/* Parallel-specific style estimator block */\n",
       "\n",
       "#sk-container-id-1 div.sk-parallel-item::after {\n",
       "  content: \"\";\n",
       "  width: 100%;\n",
       "  border-bottom: 2px solid var(--sklearn-color-text-on-default-background);\n",
       "  flex-grow: 1;\n",
       "}\n",
       "\n",
       "#sk-container-id-1 div.sk-parallel {\n",
       "  display: flex;\n",
       "  align-items: stretch;\n",
       "  justify-content: center;\n",
       "  background-color: var(--sklearn-color-background);\n",
       "  position: relative;\n",
       "}\n",
       "\n",
       "#sk-container-id-1 div.sk-parallel-item {\n",
       "  display: flex;\n",
       "  flex-direction: column;\n",
       "}\n",
       "\n",
       "#sk-container-id-1 div.sk-parallel-item:first-child::after {\n",
       "  align-self: flex-end;\n",
       "  width: 50%;\n",
       "}\n",
       "\n",
       "#sk-container-id-1 div.sk-parallel-item:last-child::after {\n",
       "  align-self: flex-start;\n",
       "  width: 50%;\n",
       "}\n",
       "\n",
       "#sk-container-id-1 div.sk-parallel-item:only-child::after {\n",
       "  width: 0;\n",
       "}\n",
       "\n",
       "/* Serial-specific style estimator block */\n",
       "\n",
       "#sk-container-id-1 div.sk-serial {\n",
       "  display: flex;\n",
       "  flex-direction: column;\n",
       "  align-items: center;\n",
       "  background-color: var(--sklearn-color-background);\n",
       "  padding-right: 1em;\n",
       "  padding-left: 1em;\n",
       "}\n",
       "\n",
       "\n",
       "/* Toggleable style: style used for estimator/Pipeline/ColumnTransformer box that is\n",
       "clickable and can be expanded/collapsed.\n",
       "- Pipeline and ColumnTransformer use this feature and define the default style\n",
       "- Estimators will overwrite some part of the style using the `sk-estimator` class\n",
       "*/\n",
       "\n",
       "/* Pipeline and ColumnTransformer style (default) */\n",
       "\n",
       "#sk-container-id-1 div.sk-toggleable {\n",
       "  /* Default theme specific background. It is overwritten whether we have a\n",
       "  specific estimator or a Pipeline/ColumnTransformer */\n",
       "  background-color: var(--sklearn-color-background);\n",
       "}\n",
       "\n",
       "/* Toggleable label */\n",
       "#sk-container-id-1 label.sk-toggleable__label {\n",
       "  cursor: pointer;\n",
       "  display: block;\n",
       "  width: 100%;\n",
       "  margin-bottom: 0;\n",
       "  padding: 0.5em;\n",
       "  box-sizing: border-box;\n",
       "  text-align: center;\n",
       "}\n",
       "\n",
       "#sk-container-id-1 label.sk-toggleable__label-arrow:before {\n",
       "  /* Arrow on the left of the label */\n",
       "  content: \"▸\";\n",
       "  float: left;\n",
       "  margin-right: 0.25em;\n",
       "  color: var(--sklearn-color-icon);\n",
       "}\n",
       "\n",
       "#sk-container-id-1 label.sk-toggleable__label-arrow:hover:before {\n",
       "  color: var(--sklearn-color-text);\n",
       "}\n",
       "\n",
       "/* Toggleable content - dropdown */\n",
       "\n",
       "#sk-container-id-1 div.sk-toggleable__content {\n",
       "  max-height: 0;\n",
       "  max-width: 0;\n",
       "  overflow: hidden;\n",
       "  text-align: left;\n",
       "  /* unfitted */\n",
       "  background-color: var(--sklearn-color-unfitted-level-0);\n",
       "}\n",
       "\n",
       "#sk-container-id-1 div.sk-toggleable__content.fitted {\n",
       "  /* fitted */\n",
       "  background-color: var(--sklearn-color-fitted-level-0);\n",
       "}\n",
       "\n",
       "#sk-container-id-1 div.sk-toggleable__content pre {\n",
       "  margin: 0.2em;\n",
       "  border-radius: 0.25em;\n",
       "  color: var(--sklearn-color-text);\n",
       "  /* unfitted */\n",
       "  background-color: var(--sklearn-color-unfitted-level-0);\n",
       "}\n",
       "\n",
       "#sk-container-id-1 div.sk-toggleable__content.fitted pre {\n",
       "  /* unfitted */\n",
       "  background-color: var(--sklearn-color-fitted-level-0);\n",
       "}\n",
       "\n",
       "#sk-container-id-1 input.sk-toggleable__control:checked~div.sk-toggleable__content {\n",
       "  /* Expand drop-down */\n",
       "  max-height: 200px;\n",
       "  max-width: 100%;\n",
       "  overflow: auto;\n",
       "}\n",
       "\n",
       "#sk-container-id-1 input.sk-toggleable__control:checked~label.sk-toggleable__label-arrow:before {\n",
       "  content: \"▾\";\n",
       "}\n",
       "\n",
       "/* Pipeline/ColumnTransformer-specific style */\n",
       "\n",
       "#sk-container-id-1 div.sk-label input.sk-toggleable__control:checked~label.sk-toggleable__label {\n",
       "  color: var(--sklearn-color-text);\n",
       "  background-color: var(--sklearn-color-unfitted-level-2);\n",
       "}\n",
       "\n",
       "#sk-container-id-1 div.sk-label.fitted input.sk-toggleable__control:checked~label.sk-toggleable__label {\n",
       "  background-color: var(--sklearn-color-fitted-level-2);\n",
       "}\n",
       "\n",
       "/* Estimator-specific style */\n",
       "\n",
       "/* Colorize estimator box */\n",
       "#sk-container-id-1 div.sk-estimator input.sk-toggleable__control:checked~label.sk-toggleable__label {\n",
       "  /* unfitted */\n",
       "  background-color: var(--sklearn-color-unfitted-level-2);\n",
       "}\n",
       "\n",
       "#sk-container-id-1 div.sk-estimator.fitted input.sk-toggleable__control:checked~label.sk-toggleable__label {\n",
       "  /* fitted */\n",
       "  background-color: var(--sklearn-color-fitted-level-2);\n",
       "}\n",
       "\n",
       "#sk-container-id-1 div.sk-label label.sk-toggleable__label,\n",
       "#sk-container-id-1 div.sk-label label {\n",
       "  /* The background is the default theme color */\n",
       "  color: var(--sklearn-color-text-on-default-background);\n",
       "}\n",
       "\n",
       "/* On hover, darken the color of the background */\n",
       "#sk-container-id-1 div.sk-label:hover label.sk-toggleable__label {\n",
       "  color: var(--sklearn-color-text);\n",
       "  background-color: var(--sklearn-color-unfitted-level-2);\n",
       "}\n",
       "\n",
       "/* Label box, darken color on hover, fitted */\n",
       "#sk-container-id-1 div.sk-label.fitted:hover label.sk-toggleable__label.fitted {\n",
       "  color: var(--sklearn-color-text);\n",
       "  background-color: var(--sklearn-color-fitted-level-2);\n",
       "}\n",
       "\n",
       "/* Estimator label */\n",
       "\n",
       "#sk-container-id-1 div.sk-label label {\n",
       "  font-family: monospace;\n",
       "  font-weight: bold;\n",
       "  display: inline-block;\n",
       "  line-height: 1.2em;\n",
       "}\n",
       "\n",
       "#sk-container-id-1 div.sk-label-container {\n",
       "  text-align: center;\n",
       "}\n",
       "\n",
       "/* Estimator-specific */\n",
       "#sk-container-id-1 div.sk-estimator {\n",
       "  font-family: monospace;\n",
       "  border: 1px dotted var(--sklearn-color-border-box);\n",
       "  border-radius: 0.25em;\n",
       "  box-sizing: border-box;\n",
       "  margin-bottom: 0.5em;\n",
       "  /* unfitted */\n",
       "  background-color: var(--sklearn-color-unfitted-level-0);\n",
       "}\n",
       "\n",
       "#sk-container-id-1 div.sk-estimator.fitted {\n",
       "  /* fitted */\n",
       "  background-color: var(--sklearn-color-fitted-level-0);\n",
       "}\n",
       "\n",
       "/* on hover */\n",
       "#sk-container-id-1 div.sk-estimator:hover {\n",
       "  /* unfitted */\n",
       "  background-color: var(--sklearn-color-unfitted-level-2);\n",
       "}\n",
       "\n",
       "#sk-container-id-1 div.sk-estimator.fitted:hover {\n",
       "  /* fitted */\n",
       "  background-color: var(--sklearn-color-fitted-level-2);\n",
       "}\n",
       "\n",
       "/* Specification for estimator info (e.g. \"i\" and \"?\") */\n",
       "\n",
       "/* Common style for \"i\" and \"?\" */\n",
       "\n",
       ".sk-estimator-doc-link,\n",
       "a:link.sk-estimator-doc-link,\n",
       "a:visited.sk-estimator-doc-link {\n",
       "  float: right;\n",
       "  font-size: smaller;\n",
       "  line-height: 1em;\n",
       "  font-family: monospace;\n",
       "  background-color: var(--sklearn-color-background);\n",
       "  border-radius: 1em;\n",
       "  height: 1em;\n",
       "  width: 1em;\n",
       "  text-decoration: none !important;\n",
       "  margin-left: 1ex;\n",
       "  /* unfitted */\n",
       "  border: var(--sklearn-color-unfitted-level-1) 1pt solid;\n",
       "  color: var(--sklearn-color-unfitted-level-1);\n",
       "}\n",
       "\n",
       ".sk-estimator-doc-link.fitted,\n",
       "a:link.sk-estimator-doc-link.fitted,\n",
       "a:visited.sk-estimator-doc-link.fitted {\n",
       "  /* fitted */\n",
       "  border: var(--sklearn-color-fitted-level-1) 1pt solid;\n",
       "  color: var(--sklearn-color-fitted-level-1);\n",
       "}\n",
       "\n",
       "/* On hover */\n",
       "div.sk-estimator:hover .sk-estimator-doc-link:hover,\n",
       ".sk-estimator-doc-link:hover,\n",
       "div.sk-label-container:hover .sk-estimator-doc-link:hover,\n",
       ".sk-estimator-doc-link:hover {\n",
       "  /* unfitted */\n",
       "  background-color: var(--sklearn-color-unfitted-level-3);\n",
       "  color: var(--sklearn-color-background);\n",
       "  text-decoration: none;\n",
       "}\n",
       "\n",
       "div.sk-estimator.fitted:hover .sk-estimator-doc-link.fitted:hover,\n",
       ".sk-estimator-doc-link.fitted:hover,\n",
       "div.sk-label-container:hover .sk-estimator-doc-link.fitted:hover,\n",
       ".sk-estimator-doc-link.fitted:hover {\n",
       "  /* fitted */\n",
       "  background-color: var(--sklearn-color-fitted-level-3);\n",
       "  color: var(--sklearn-color-background);\n",
       "  text-decoration: none;\n",
       "}\n",
       "\n",
       "/* Span, style for the box shown on hovering the info icon */\n",
       ".sk-estimator-doc-link span {\n",
       "  display: none;\n",
       "  z-index: 9999;\n",
       "  position: relative;\n",
       "  font-weight: normal;\n",
       "  right: .2ex;\n",
       "  padding: .5ex;\n",
       "  margin: .5ex;\n",
       "  width: min-content;\n",
       "  min-width: 20ex;\n",
       "  max-width: 50ex;\n",
       "  color: var(--sklearn-color-text);\n",
       "  box-shadow: 2pt 2pt 4pt #999;\n",
       "  /* unfitted */\n",
       "  background: var(--sklearn-color-unfitted-level-0);\n",
       "  border: .5pt solid var(--sklearn-color-unfitted-level-3);\n",
       "}\n",
       "\n",
       ".sk-estimator-doc-link.fitted span {\n",
       "  /* fitted */\n",
       "  background: var(--sklearn-color-fitted-level-0);\n",
       "  border: var(--sklearn-color-fitted-level-3);\n",
       "}\n",
       "\n",
       ".sk-estimator-doc-link:hover span {\n",
       "  display: block;\n",
       "}\n",
       "\n",
       "/* \"?\"-specific style due to the `<a>` HTML tag */\n",
       "\n",
       "#sk-container-id-1 a.estimator_doc_link {\n",
       "  float: right;\n",
       "  font-size: 1rem;\n",
       "  line-height: 1em;\n",
       "  font-family: monospace;\n",
       "  background-color: var(--sklearn-color-background);\n",
       "  border-radius: 1rem;\n",
       "  height: 1rem;\n",
       "  width: 1rem;\n",
       "  text-decoration: none;\n",
       "  /* unfitted */\n",
       "  color: var(--sklearn-color-unfitted-level-1);\n",
       "  border: var(--sklearn-color-unfitted-level-1) 1pt solid;\n",
       "}\n",
       "\n",
       "#sk-container-id-1 a.estimator_doc_link.fitted {\n",
       "  /* fitted */\n",
       "  border: var(--sklearn-color-fitted-level-1) 1pt solid;\n",
       "  color: var(--sklearn-color-fitted-level-1);\n",
       "}\n",
       "\n",
       "/* On hover */\n",
       "#sk-container-id-1 a.estimator_doc_link:hover {\n",
       "  /* unfitted */\n",
       "  background-color: var(--sklearn-color-unfitted-level-3);\n",
       "  color: var(--sklearn-color-background);\n",
       "  text-decoration: none;\n",
       "}\n",
       "\n",
       "#sk-container-id-1 a.estimator_doc_link.fitted:hover {\n",
       "  /* fitted */\n",
       "  background-color: var(--sklearn-color-fitted-level-3);\n",
       "}\n",
       "</style><div id=\"sk-container-id-1\" class=\"sk-top-container\"><div class=\"sk-text-repr-fallback\"><pre>XGBRanker(base_score=None, booster=None, callbacks=None, colsample_bylevel=None,\n",
       "          colsample_bynode=None, colsample_bytree=None, device=&#x27;cuda&#x27;,\n",
       "          early_stopping_rounds=None, enable_categorical=False,\n",
       "          eval_metric=[&#x27;ndcg@1&#x27;, &#x27;ndcg@3&#x27;, &#x27;ndcg@5&#x27;, &#x27;ndcg@10&#x27;, &#x27;ndcg@50&#x27;],\n",
       "          feature_types=None, gamma=None, grow_policy=None,\n",
       "          importance_type=None, interaction_constraints=None,\n",
       "          lambdarank_bias_norm=1, lambdarank_normalization=False,\n",
       "          lambdarank_num_pair_per_sample=12, lambdarank_pair_method=&#x27;topk&#x27;,\n",
       "          lambdarank_unbiased=True, learning_rate=0.01, max_bin=None,\n",
       "          max_cat_threshold=None, max_cat_to_onehot=None, max_delta_step=None,\n",
       "          max_depth=None, max_leaves=None, min_child_weight=None, missing=nan,\n",
       "          monotone_constraints=None, ...)</pre><b>In a Jupyter environment, please rerun this cell to show the HTML representation or trust the notebook. <br />On GitHub, the HTML representation is unable to render, please try loading this page with nbviewer.org.</b></div><div class=\"sk-container\" hidden><div class=\"sk-item\"><div class=\"sk-estimator fitted sk-toggleable\"><input class=\"sk-toggleable__control sk-hidden--visually\" id=\"sk-estimator-id-1\" type=\"checkbox\" checked><label for=\"sk-estimator-id-1\" class=\"sk-toggleable__label fitted sk-toggleable__label-arrow fitted\">&nbsp;XGBRanker<span class=\"sk-estimator-doc-link fitted\">i<span>Fitted</span></span></label><div class=\"sk-toggleable__content fitted\"><pre>XGBRanker(base_score=None, booster=None, callbacks=None, colsample_bylevel=None,\n",
       "          colsample_bynode=None, colsample_bytree=None, device=&#x27;cuda&#x27;,\n",
       "          early_stopping_rounds=None, enable_categorical=False,\n",
       "          eval_metric=[&#x27;ndcg@1&#x27;, &#x27;ndcg@3&#x27;, &#x27;ndcg@5&#x27;, &#x27;ndcg@10&#x27;, &#x27;ndcg@50&#x27;],\n",
       "          feature_types=None, gamma=None, grow_policy=None,\n",
       "          importance_type=None, interaction_constraints=None,\n",
       "          lambdarank_bias_norm=1, lambdarank_normalization=False,\n",
       "          lambdarank_num_pair_per_sample=12, lambdarank_pair_method=&#x27;topk&#x27;,\n",
       "          lambdarank_unbiased=True, learning_rate=0.01, max_bin=None,\n",
       "          max_cat_threshold=None, max_cat_to_onehot=None, max_delta_step=None,\n",
       "          max_depth=None, max_leaves=None, min_child_weight=None, missing=nan,\n",
       "          monotone_constraints=None, ...)</pre></div> </div></div></div></div>"
      ],
      "text/plain": [
       "XGBRanker(base_score=None, booster=None, callbacks=None, colsample_bylevel=None,\n",
       "          colsample_bynode=None, colsample_bytree=None, device='cuda',\n",
       "          early_stopping_rounds=None, enable_categorical=False,\n",
       "          eval_metric=['ndcg@1', 'ndcg@3', 'ndcg@5', 'ndcg@10', 'ndcg@50'],\n",
       "          feature_types=None, gamma=None, grow_policy=None,\n",
       "          importance_type=None, interaction_constraints=None,\n",
       "          lambdarank_bias_norm=1, lambdarank_normalization=False,\n",
       "          lambdarank_num_pair_per_sample=12, lambdarank_pair_method='topk',\n",
       "          lambdarank_unbiased=True, learning_rate=0.01, max_bin=None,\n",
       "          max_cat_threshold=None, max_cat_to_onehot=None, max_delta_step=None,\n",
       "          max_depth=None, max_leaves=None, min_child_weight=None, missing=nan,\n",
       "          monotone_constraints=None, ...)"
      ]
     },
     "execution_count": 34,
     "metadata": {},
     "output_type": "execute_result"
    }
   ],
   "source": [
    "# fit on training data\n",
    "\n",
    "ranker.fit(\n",
    "    X_train,\n",
    "    y_train,\n",
    "    qid=qid_train,\n",
    "    eval_set=[(X_test, y_test)],\n",
    "    eval_qid=[qid_test],\n",
    "    verbose = True,\n",
    "    early_stopping_rounds = 15\n",
    ")"
   ]
  },
  {
   "cell_type": "markdown",
   "metadata": {
    "id": "d0PWzNJmSL0k"
   },
   "source": [
    "Prediction: needs to be done by query in query_test\n",
    "\n",
    "---\n",
    "\n",
    "To do:\n",
    "- calculate a scores by query, then calculate ndcg for each query\n",
    "- how needs data to be stored/ordered/porvided?\n",
    "- what is the scoring function used as default\n",
    "- should it be replaced by NDCG?"
   ]
  },
  {
   "cell_type": "code",
   "execution_count": null,
   "metadata": {
    "id": "_LL_RxCXKDk7"
   },
   "outputs": [],
   "source": [
    "import numpy as np\n",
    "\n",
    "def ndcg(y_score, y_true, k):\n",
    "    order = np.argsort(y_score)[::-1]\n",
    "    y_true = np.take(y_true, order[:k])\n",
    "\n",
    "    gain = 2 ** y_true - 1\n",
    "\n",
    "    discounts = np.log2(np.arange(len(y_true)) + 2)\n",
    "    return np.sum(gain / discounts)"
   ]
  },
  {
   "cell_type": "code",
   "execution_count": null,
   "metadata": {
    "colab": {
     "base_uri": "https://localhost:8080/"
    },
    "id": "rRkL9q_TR-3i",
    "outputId": "b08f34e4-8ee6-450d-878d-ed1fc34d6452"
   },
   "outputs": [
    {
     "data": {
      "text/plain": [
       "0.6210364520430335"
      ]
     },
     "execution_count": 54,
     "metadata": {},
     "output_type": "execute_result"
    }
   ],
   "source": [
    "# this yields the same result as ndcg@10 when I provide the eval set in the ranker.fit\n",
    "# https://forecastegy.com/posts/xgboost-learning-to-rank-python/\n",
    "\n",
    "# here I did not provide eval_set and calculated the NDCG \"by hand\" with ranker.predict\n",
    "qids = np.unique(qid_test)\n",
    "\n",
    "\n",
    "ndcg_ = list()\n",
    "\n",
    "for i, qid in enumerate(qids):\n",
    "    y = y_test[qid_test == qid]\n",
    "\n",
    "    if np.sum(y) == 0:\n",
    "        continue\n",
    "\n",
    "    p = ranker.predict(X_test[qid_test == qid])\n",
    "\n",
    "    idcg = ndcg(y, y, k=10)\n",
    "    ndcg_.append(ndcg(p, y, k=10) / idcg)\n",
    "\n",
    "np.mean(ndcg_)\n",
    "# 0.618\n",
    "\n",
    "# calculates scores over all queries\n",
    "# scores = ranker.predict(X_test, qid = qid_test)\n",
    "\n",
    "# y_test_df = pd.DataFrame({\"relevance\": y_test, \"predicted_scores\": scores, \"qid\": qid_test})"
   ]
  },
  {
   "cell_type": "code",
   "execution_count": null,
   "metadata": {
    "id": "0qfMdpSW8Z3C"
   },
   "outputs": [],
   "source": [
    "qids = np.unique(qid_test)\n",
    "\n",
    "\n",
    "scores = list()\n",
    "\n",
    "for i, qid in enumerate(qids):\n",
    "    y = y_test[qid_test == qid]\n",
    "\n",
    "    if np.sum(y) == 0:\n",
    "        continue\n",
    "\n",
    "    scores.append(ranker.predict(X_test[qid_test == qid]))"
   ]
  },
  {
   "cell_type": "code",
   "execution_count": null,
   "metadata": {
    "id": "Ouf4Jxj8hJXK"
   },
   "outputs": [],
   "source": [
    "from sklearn.metrics import ndcg_score\n",
    "\n",
    "# throw out rows where qid is unique - for those ndcg is not possible to calculate\n",
    "# Find counts of each group\n",
    "group_counts = y_test_df['qid'].value_counts()\n",
    "unique_groups = group_counts[group_counts == 1].index\n",
    "filtered_df = y_test_df[~y_test_df['qid'].isin(unique_groups)]\n"
   ]
  },
  {
   "cell_type": "code",
   "execution_count": null,
   "metadata": {
    "colab": {
     "base_uri": "https://localhost:8080/",
     "height": 448
    },
    "id": "FADBEMU58Qg3",
    "outputId": "bc346fcb-0038-4d3f-cc13-831c20180db6"
   },
   "outputs": [
    {
     "data": {
      "text/plain": [
       "(116639, 3)"
      ]
     },
     "execution_count": 48,
     "metadata": {},
     "output_type": "execute_result"
    },
    {
     "data": {
      "image/png": "[encoded data removed]",
      "text/plain": [
       "<Figure size 640x480 with 1 Axes>"
      ]
     },
     "metadata": {},
     "output_type": "display_data"
    }
   ],
   "source": [
    "### scatter plot of relevance and score\n",
    "# we expect a higher predicted ranking vor values 1 and 2 on x - axis\n",
    "plt.scatter(y_test_df[\"relevance\"], y_test_df[\"predicted_scores\"])\n",
    "\n",
    "y_test_df.shape # can this plot be made for a specific search"
   ]
  },
  {
   "cell_type": "code",
   "execution_count": 37,
   "metadata": {
    "colab": {
     "base_uri": "https://localhost:8080/",
     "height": 472
    },
    "id": "1cW1dt6-3rYE",
    "outputId": "2295425d-1cea-42a0-e423-c83285366e81"
   },
   "outputs": [
    {
     "data": {
      "image/png": "[encoded data removed]",
      "text/plain": [
       "<Figure size 640x480 with 1 Axes>"
      ]
     },
     "metadata": {},
     "output_type": "display_data"
    }
   ],
   "source": [
    "#### show feature importance\n",
    "import matplotlib.pyplot as plt\n",
    "from xgboost import plot_importance\n",
    "# from matplotlib import pyplot\n",
    "\n",
    "plot_importance(ranker, max_num_features=20)\n",
    "plt.show()\n",
    "\n",
    "\n"
   ]
  },
  {
   "cell_type": "code",
   "execution_count": null,
   "metadata": {},
   "outputs": [],
   "source": []
  }
 ],
 "metadata": {
  "accelerator": "GPU",
  "colab": {
   "gpuType": "T4",
   "machine_shape": "hm",
   "provenance": []
  },
  "kernelspec": {
   "display_name": "Python 3 (ipykernel)",
   "language": "python",
   "name": "python3"
  },
  "language_info": {
   "codemirror_mode": {
    "name": "ipython",
    "version": 3
   },
   "file_extension": ".py",
   "mimetype": "text/x-python",
   "name": "python",
   "nbconvert_exporter": "python",
   "pygments_lexer": "ipython3",
   "version": "3.10.14"
  }
 },
 "nbformat": 4,
 "nbformat_minor": 4
}
