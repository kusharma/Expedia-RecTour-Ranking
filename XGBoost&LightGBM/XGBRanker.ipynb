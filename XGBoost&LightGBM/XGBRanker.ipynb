{
  "nbformat": 4,
  "nbformat_minor": 0,
  "metadata": {
    "colab": {
      "provenance": [],
      "machine_shape": "hm",
      "gpuType": "T4"
    },
    "kernelspec": {
      "name": "python3",
      "display_name": "Python 3"
    },
    "language_info": {
      "name": "python"
    },
    "accelerator": "GPU"
  },
  "cells": [
    {
      "cell_type": "markdown",
      "source": [
        "### Learning to rank with XGB and LightGBM\n",
        "\n",
        "in case of questions on this notebook: contact Lorenz Schmid, schmid.lorenz@web.de\n",
        "- Settings in Google Colab: T4 GPU, RAM: 50.99 GB\n",
        "\n",
        "- 1 Million rows - Top 500 destinations\n",
        "\n",
        "- loss is NDCG-informed\n",
        "\n",
        "- initial rank und rank noad not used for ranking\n",
        "\n",
        "- Feature and row selection as in https://docs.google.com/document/d/1R9itgngZUNzkBqWzXstLiBXXoYJa8-ahS66JrqC3kDk/edit\n",
        "\n",
        "- after feature selection: check for queries with one row/no click/transaction\n",
        "- preprocessed: no queries with only one result, numerical variables scaled\n",
        "- click and transaction in one relevance label (click weight: 1, transaction weight: 2)\n",
        "\n"
      ],
      "metadata": {
        "id": "pwQajobYgIEK"
      }
    },
    {
      "cell_type": "markdown",
      "source": [
        "XGB code based on this example: https://xgboost.readthedocs.io/en/stable/tutorials/learning_to_rank.html"
      ],
      "metadata": {
        "id": "VjlmDv9Qdia8"
      }
    },
    {
      "cell_type": "code",
      "execution_count": null,
      "metadata": {
        "colab": {
          "base_uri": "https://localhost:8080/"
        },
        "id": "IeaIAPszgDIk",
        "outputId": "a48257b7-d7bf-44c4-e873-fc273be14473"
      },
      "outputs": [
        {
          "output_type": "stream",
          "name": "stdout",
          "text": [
            "Drive already mounted at /content/drive; to attempt to forcibly remount, call drive.mount(\"/content/drive\", force_remount=True).\n"
          ]
        }
      ],
      "source": [
        "# from google.colab import drive\n",
        "# drive.mount('/content/drive')"
      ]
    },
    {
      "cell_type": "code",
      "source": [
        "# load pre-pared subset of the data, needs to be included in shared data for code to run\n",
        "\n",
        "import pandas as pd\n",
        "# df = pd.read_csv(\"/content/drive/MyDrive/expedia/millionrows_Top500Destinations.csv\")\n",
        "df = pd.read_csv(\"path/millionrows_Top500Destinations.csv\")"
      ],
      "metadata": {
        "id": "figfZqQHFaX-"
      },
      "execution_count": null,
      "outputs": []
    },
    {
      "cell_type": "code",
      "source": [
        "df.head()"
      ],
      "metadata": {
        "colab": {
          "base_uri": "https://localhost:8080/",
          "height": 255
        },
        "id": "E03BT7BLFxBr",
        "outputId": "63d5243c-1c32-4ecd-a393-e4daa22901fb"
      },
      "execution_count": null,
      "outputs": [
        {
          "output_type": "execute_result",
          "data": {
            "text/plain": [
              "   user_id  search_id  point_of_sale  geo_location_country  is_mobile  \\\n",
              "0        2          2              1                     1          0   \n",
              "1        2          2              1                     1          0   \n",
              "2        2          2              1                     1          0   \n",
              "3        2          2              1                     1          0   \n",
              "4        2          2              1                     1          0   \n",
              "\n",
              "   destination_id checkin_date checkout_date  adult_count  child_count  ...  \\\n",
              "0              49   2021-07-07    2021-07-12            2            0  ...   \n",
              "1              49   2021-07-07    2021-07-12            2            0  ...   \n",
              "2              49   2021-07-07    2021-07-12            2            0  ...   \n",
              "3              49   2021-07-07    2021-07-12            2            0  ...   \n",
              "4              49   2021-07-07    2021-07-12            2            0  ...   \n",
              "\n",
              "   HighSpeedInternet  HotTub LaundryFacility  Parking  PetsAllowed  \\\n",
              "0               True   False            True    False        False   \n",
              "1               True   False            True     True        False   \n",
              "2               True   False            True     True         True   \n",
              "3              False   False            True     True         True   \n",
              "4              False   False            True     True         True   \n",
              "\n",
              "   PrivatePool  SpaServices  SwimmingPool  WasherDryer   WiFi  \n",
              "0        False        False         False        False  False  \n",
              "1        False        False          True        False  False  \n",
              "2        False        False          True        False   True  \n",
              "3        False        False         False        False   True  \n",
              "4        False        False         False        False  False  \n",
              "\n",
              "[5 rows x 49 columns]"
            ],
            "text/html": [
              "\n",
              "  <div id=\"df-31107671-23c3-4ff9-ac55-a280094421c1\" class=\"colab-df-container\">\n",
              "    <div>\n",
              "<style scoped>\n",
              "    .dataframe tbody tr th:only-of-type {\n",
              "        vertical-align: middle;\n",
              "    }\n",
              "\n",
              "    .dataframe tbody tr th {\n",
              "        vertical-align: top;\n",
              "    }\n",
              "\n",
              "    .dataframe thead th {\n",
              "        text-align: right;\n",
              "    }\n",
              "</style>\n",
              "<table border=\"1\" class=\"dataframe\">\n",
              "  <thead>\n",
              "    <tr style=\"text-align: right;\">\n",
              "      <th></th>\n",
              "      <th>user_id</th>\n",
              "      <th>search_id</th>\n",
              "      <th>point_of_sale</th>\n",
              "      <th>geo_location_country</th>\n",
              "      <th>is_mobile</th>\n",
              "      <th>destination_id</th>\n",
              "      <th>checkin_date</th>\n",
              "      <th>checkout_date</th>\n",
              "      <th>adult_count</th>\n",
              "      <th>child_count</th>\n",
              "      <th>...</th>\n",
              "      <th>HighSpeedInternet</th>\n",
              "      <th>HotTub</th>\n",
              "      <th>LaundryFacility</th>\n",
              "      <th>Parking</th>\n",
              "      <th>PetsAllowed</th>\n",
              "      <th>PrivatePool</th>\n",
              "      <th>SpaServices</th>\n",
              "      <th>SwimmingPool</th>\n",
              "      <th>WasherDryer</th>\n",
              "      <th>WiFi</th>\n",
              "    </tr>\n",
              "  </thead>\n",
              "  <tbody>\n",
              "    <tr>\n",
              "      <th>0</th>\n",
              "      <td>2</td>\n",
              "      <td>2</td>\n",
              "      <td>1</td>\n",
              "      <td>1</td>\n",
              "      <td>0</td>\n",
              "      <td>49</td>\n",
              "      <td>2021-07-07</td>\n",
              "      <td>2021-07-12</td>\n",
              "      <td>2</td>\n",
              "      <td>0</td>\n",
              "      <td>...</td>\n",
              "      <td>True</td>\n",
              "      <td>False</td>\n",
              "      <td>True</td>\n",
              "      <td>False</td>\n",
              "      <td>False</td>\n",
              "      <td>False</td>\n",
              "      <td>False</td>\n",
              "      <td>False</td>\n",
              "      <td>False</td>\n",
              "      <td>False</td>\n",
              "    </tr>\n",
              "    <tr>\n",
              "      <th>1</th>\n",
              "      <td>2</td>\n",
              "      <td>2</td>\n",
              "      <td>1</td>\n",
              "      <td>1</td>\n",
              "      <td>0</td>\n",
              "      <td>49</td>\n",
              "      <td>2021-07-07</td>\n",
              "      <td>2021-07-12</td>\n",
              "      <td>2</td>\n",
              "      <td>0</td>\n",
              "      <td>...</td>\n",
              "      <td>True</td>\n",
              "      <td>False</td>\n",
              "      <td>True</td>\n",
              "      <td>True</td>\n",
              "      <td>False</td>\n",
              "      <td>False</td>\n",
              "      <td>False</td>\n",
              "      <td>True</td>\n",
              "      <td>False</td>\n",
              "      <td>False</td>\n",
              "    </tr>\n",
              "    <tr>\n",
              "      <th>2</th>\n",
              "      <td>2</td>\n",
              "      <td>2</td>\n",
              "      <td>1</td>\n",
              "      <td>1</td>\n",
              "      <td>0</td>\n",
              "      <td>49</td>\n",
              "      <td>2021-07-07</td>\n",
              "      <td>2021-07-12</td>\n",
              "      <td>2</td>\n",
              "      <td>0</td>\n",
              "      <td>...</td>\n",
              "      <td>True</td>\n",
              "      <td>False</td>\n",
              "      <td>True</td>\n",
              "      <td>True</td>\n",
              "      <td>True</td>\n",
              "      <td>False</td>\n",
              "      <td>False</td>\n",
              "      <td>True</td>\n",
              "      <td>False</td>\n",
              "      <td>True</td>\n",
              "    </tr>\n",
              "    <tr>\n",
              "      <th>3</th>\n",
              "      <td>2</td>\n",
              "      <td>2</td>\n",
              "      <td>1</td>\n",
              "      <td>1</td>\n",
              "      <td>0</td>\n",
              "      <td>49</td>\n",
              "      <td>2021-07-07</td>\n",
              "      <td>2021-07-12</td>\n",
              "      <td>2</td>\n",
              "      <td>0</td>\n",
              "      <td>...</td>\n",
              "      <td>False</td>\n",
              "      <td>False</td>\n",
              "      <td>True</td>\n",
              "      <td>True</td>\n",
              "      <td>True</td>\n",
              "      <td>False</td>\n",
              "      <td>False</td>\n",
              "      <td>False</td>\n",
              "      <td>False</td>\n",
              "      <td>True</td>\n",
              "    </tr>\n",
              "    <tr>\n",
              "      <th>4</th>\n",
              "      <td>2</td>\n",
              "      <td>2</td>\n",
              "      <td>1</td>\n",
              "      <td>1</td>\n",
              "      <td>0</td>\n",
              "      <td>49</td>\n",
              "      <td>2021-07-07</td>\n",
              "      <td>2021-07-12</td>\n",
              "      <td>2</td>\n",
              "      <td>0</td>\n",
              "      <td>...</td>\n",
              "      <td>False</td>\n",
              "      <td>False</td>\n",
              "      <td>True</td>\n",
              "      <td>True</td>\n",
              "      <td>True</td>\n",
              "      <td>False</td>\n",
              "      <td>False</td>\n",
              "      <td>False</td>\n",
              "      <td>False</td>\n",
              "      <td>False</td>\n",
              "    </tr>\n",
              "  </tbody>\n",
              "</table>\n",
              "<p>5 rows × 49 columns</p>\n",
              "</div>\n",
              "    <div class=\"colab-df-buttons\">\n",
              "\n",
              "  <div class=\"colab-df-container\">\n",
              "    <button class=\"colab-df-convert\" onclick=\"convertToInteractive('df-31107671-23c3-4ff9-ac55-a280094421c1')\"\n",
              "            title=\"Convert this dataframe to an interactive table.\"\n",
              "            style=\"display:none;\">\n",
              "\n",
              "  <svg xmlns=\"http://www.w3.org/2000/svg\" height=\"24px\" viewBox=\"0 -960 960 960\">\n",
              "    <path d=\"M120-120v-720h720v720H120Zm60-500h600v-160H180v160Zm220 220h160v-160H400v160Zm0 220h160v-160H400v160ZM180-400h160v-160H180v160Zm440 0h160v-160H620v160ZM180-180h160v-160H180v160Zm440 0h160v-160H620v160Z\"/>\n",
              "  </svg>\n",
              "    </button>\n",
              "\n",
              "  <style>\n",
              "    .colab-df-container {\n",
              "      display:flex;\n",
              "      gap: 12px;\n",
              "    }\n",
              "\n",
              "    .colab-df-convert {\n",
              "      background-color: #E8F0FE;\n",
              "      border: none;\n",
              "      border-radius: 50%;\n",
              "      cursor: pointer;\n",
              "      display: none;\n",
              "      fill: #1967D2;\n",
              "      height: 32px;\n",
              "      padding: 0 0 0 0;\n",
              "      width: 32px;\n",
              "    }\n",
              "\n",
              "    .colab-df-convert:hover {\n",
              "      background-color: #E2EBFA;\n",
              "      box-shadow: 0px 1px 2px rgba(60, 64, 67, 0.3), 0px 1px 3px 1px rgba(60, 64, 67, 0.15);\n",
              "      fill: #174EA6;\n",
              "    }\n",
              "\n",
              "    .colab-df-buttons div {\n",
              "      margin-bottom: 4px;\n",
              "    }\n",
              "\n",
              "    [theme=dark] .colab-df-convert {\n",
              "      background-color: #3B4455;\n",
              "      fill: #D2E3FC;\n",
              "    }\n",
              "\n",
              "    [theme=dark] .colab-df-convert:hover {\n",
              "      background-color: #434B5C;\n",
              "      box-shadow: 0px 1px 3px 1px rgba(0, 0, 0, 0.15);\n",
              "      filter: drop-shadow(0px 1px 2px rgba(0, 0, 0, 0.3));\n",
              "      fill: #FFFFFF;\n",
              "    }\n",
              "  </style>\n",
              "\n",
              "    <script>\n",
              "      const buttonEl =\n",
              "        document.querySelector('#df-31107671-23c3-4ff9-ac55-a280094421c1 button.colab-df-convert');\n",
              "      buttonEl.style.display =\n",
              "        google.colab.kernel.accessAllowed ? 'block' : 'none';\n",
              "\n",
              "      async function convertToInteractive(key) {\n",
              "        const element = document.querySelector('#df-31107671-23c3-4ff9-ac55-a280094421c1');\n",
              "        const dataTable =\n",
              "          await google.colab.kernel.invokeFunction('convertToInteractive',\n",
              "                                                    [key], {});\n",
              "        if (!dataTable) return;\n",
              "\n",
              "        const docLinkHtml = 'Like what you see? Visit the ' +\n",
              "          '<a target=\"_blank\" href=https://colab.research.google.com/notebooks/data_table.ipynb>data table notebook</a>'\n",
              "          + ' to learn more about interactive tables.';\n",
              "        element.innerHTML = '';\n",
              "        dataTable['output_type'] = 'display_data';\n",
              "        await google.colab.output.renderOutput(dataTable, element);\n",
              "        const docLink = document.createElement('div');\n",
              "        docLink.innerHTML = docLinkHtml;\n",
              "        element.appendChild(docLink);\n",
              "      }\n",
              "    </script>\n",
              "  </div>\n",
              "\n",
              "\n",
              "<div id=\"df-7d6b182b-cb32-4c44-9da0-52a35416392d\">\n",
              "  <button class=\"colab-df-quickchart\" onclick=\"quickchart('df-7d6b182b-cb32-4c44-9da0-52a35416392d')\"\n",
              "            title=\"Suggest charts\"\n",
              "            style=\"display:none;\">\n",
              "\n",
              "<svg xmlns=\"http://www.w3.org/2000/svg\" height=\"24px\"viewBox=\"0 0 24 24\"\n",
              "     width=\"24px\">\n",
              "    <g>\n",
              "        <path d=\"M19 3H5c-1.1 0-2 .9-2 2v14c0 1.1.9 2 2 2h14c1.1 0 2-.9 2-2V5c0-1.1-.9-2-2-2zM9 17H7v-7h2v7zm4 0h-2V7h2v10zm4 0h-2v-4h2v4z\"/>\n",
              "    </g>\n",
              "</svg>\n",
              "  </button>\n",
              "\n",
              "<style>\n",
              "  .colab-df-quickchart {\n",
              "      --bg-color: #E8F0FE;\n",
              "      --fill-color: #1967D2;\n",
              "      --hover-bg-color: #E2EBFA;\n",
              "      --hover-fill-color: #174EA6;\n",
              "      --disabled-fill-color: #AAA;\n",
              "      --disabled-bg-color: #DDD;\n",
              "  }\n",
              "\n",
              "  [theme=dark] .colab-df-quickchart {\n",
              "      --bg-color: #3B4455;\n",
              "      --fill-color: #D2E3FC;\n",
              "      --hover-bg-color: #434B5C;\n",
              "      --hover-fill-color: #FFFFFF;\n",
              "      --disabled-bg-color: #3B4455;\n",
              "      --disabled-fill-color: #666;\n",
              "  }\n",
              "\n",
              "  .colab-df-quickchart {\n",
              "    background-color: var(--bg-color);\n",
              "    border: none;\n",
              "    border-radius: 50%;\n",
              "    cursor: pointer;\n",
              "    display: none;\n",
              "    fill: var(--fill-color);\n",
              "    height: 32px;\n",
              "    padding: 0;\n",
              "    width: 32px;\n",
              "  }\n",
              "\n",
              "  .colab-df-quickchart:hover {\n",
              "    background-color: var(--hover-bg-color);\n",
              "    box-shadow: 0 1px 2px rgba(60, 64, 67, 0.3), 0 1px 3px 1px rgba(60, 64, 67, 0.15);\n",
              "    fill: var(--button-hover-fill-color);\n",
              "  }\n",
              "\n",
              "  .colab-df-quickchart-complete:disabled,\n",
              "  .colab-df-quickchart-complete:disabled:hover {\n",
              "    background-color: var(--disabled-bg-color);\n",
              "    fill: var(--disabled-fill-color);\n",
              "    box-shadow: none;\n",
              "  }\n",
              "\n",
              "  .colab-df-spinner {\n",
              "    border: 2px solid var(--fill-color);\n",
              "    border-color: transparent;\n",
              "    border-bottom-color: var(--fill-color);\n",
              "    animation:\n",
              "      spin 1s steps(1) infinite;\n",
              "  }\n",
              "\n",
              "  @keyframes spin {\n",
              "    0% {\n",
              "      border-color: transparent;\n",
              "      border-bottom-color: var(--fill-color);\n",
              "      border-left-color: var(--fill-color);\n",
              "    }\n",
              "    20% {\n",
              "      border-color: transparent;\n",
              "      border-left-color: var(--fill-color);\n",
              "      border-top-color: var(--fill-color);\n",
              "    }\n",
              "    30% {\n",
              "      border-color: transparent;\n",
              "      border-left-color: var(--fill-color);\n",
              "      border-top-color: var(--fill-color);\n",
              "      border-right-color: var(--fill-color);\n",
              "    }\n",
              "    40% {\n",
              "      border-color: transparent;\n",
              "      border-right-color: var(--fill-color);\n",
              "      border-top-color: var(--fill-color);\n",
              "    }\n",
              "    60% {\n",
              "      border-color: transparent;\n",
              "      border-right-color: var(--fill-color);\n",
              "    }\n",
              "    80% {\n",
              "      border-color: transparent;\n",
              "      border-right-color: var(--fill-color);\n",
              "      border-bottom-color: var(--fill-color);\n",
              "    }\n",
              "    90% {\n",
              "      border-color: transparent;\n",
              "      border-bottom-color: var(--fill-color);\n",
              "    }\n",
              "  }\n",
              "</style>\n",
              "\n",
              "  <script>\n",
              "    async function quickchart(key) {\n",
              "      const quickchartButtonEl =\n",
              "        document.querySelector('#' + key + ' button');\n",
              "      quickchartButtonEl.disabled = true;  // To prevent multiple clicks.\n",
              "      quickchartButtonEl.classList.add('colab-df-spinner');\n",
              "      try {\n",
              "        const charts = await google.colab.kernel.invokeFunction(\n",
              "            'suggestCharts', [key], {});\n",
              "      } catch (error) {\n",
              "        console.error('Error during call to suggestCharts:', error);\n",
              "      }\n",
              "      quickchartButtonEl.classList.remove('colab-df-spinner');\n",
              "      quickchartButtonEl.classList.add('colab-df-quickchart-complete');\n",
              "    }\n",
              "    (() => {\n",
              "      let quickchartButtonEl =\n",
              "        document.querySelector('#df-7d6b182b-cb32-4c44-9da0-52a35416392d button');\n",
              "      quickchartButtonEl.style.display =\n",
              "        google.colab.kernel.accessAllowed ? 'block' : 'none';\n",
              "    })();\n",
              "  </script>\n",
              "</div>\n",
              "\n",
              "    </div>\n",
              "  </div>\n"
            ],
            "application/vnd.google.colaboratory.intrinsic+json": {
              "type": "dataframe",
              "variable_name": "df"
            }
          },
          "metadata": {},
          "execution_count": 92
        }
      ]
    },
    {
      "cell_type": "code",
      "source": [
        "df.shape"
      ],
      "metadata": {
        "colab": {
          "base_uri": "https://localhost:8080/"
        },
        "id": "GSAOdxMOOt5q",
        "outputId": "2e2a8be6-ff84-4fba-fcb2-5b203d7fef90"
      },
      "execution_count": null,
      "outputs": [
        {
          "output_type": "execute_result",
          "data": {
            "text/plain": [
              "(2049518, 49)"
            ]
          },
          "metadata": {},
          "execution_count": 93
        }
      ]
    },
    {
      "cell_type": "code",
      "source": [
        "df.dtypes"
      ],
      "metadata": {
        "colab": {
          "base_uri": "https://localhost:8080/"
        },
        "id": "CewRoNBnM-xr",
        "outputId": "75486bb5-fc4b-4954-d9d1-5b95e5509f1a"
      },
      "execution_count": null,
      "outputs": [
        {
          "output_type": "execute_result",
          "data": {
            "text/plain": [
              "user_id                        int64\n",
              "search_id                      int64\n",
              "point_of_sale                  int64\n",
              "geo_location_country           int64\n",
              "is_mobile                      int64\n",
              "destination_id                 int64\n",
              "checkin_date                  object\n",
              "checkout_date                 object\n",
              "adult_count                    int64\n",
              "child_count                    int64\n",
              "infant_count                   int64\n",
              "room_count                     int64\n",
              "sort_type                     object\n",
              "length_of_stay               float64\n",
              "booking_window               float64\n",
              "search_day_of_week             int64\n",
              "search_hour_of_day             int64\n",
              "checkin_day                    int64\n",
              "checkout_day                   int64\n",
              "rank                           int64\n",
              "prop_id                        int64\n",
              "is_travel_ad                   int64\n",
              "review_rating                float64\n",
              "review_count                 float64\n",
              "star_rating                   object\n",
              "is_free_cancellation           int64\n",
              "is_drr                         int64\n",
              "price_bucket                 float64\n",
              "num_clicks                     int64\n",
              "is_trans                       int64\n",
              "rank_noad                    float64\n",
              "AirConditioning               object\n",
              "AirportTransfer               object\n",
              "Bar                           object\n",
              "FreeAirportTransportation     object\n",
              "FreeBreakfast                 object\n",
              "FreeParking                   object\n",
              "FreeWiFi                      object\n",
              "Gym                           object\n",
              "HighSpeedInternet             object\n",
              "HotTub                        object\n",
              "LaundryFacility               object\n",
              "Parking                       object\n",
              "PetsAllowed                   object\n",
              "PrivatePool                   object\n",
              "SpaServices                   object\n",
              "SwimmingPool                  object\n",
              "WasherDryer                   object\n",
              "WiFi                          object\n",
              "dtype: object"
            ]
          },
          "metadata": {},
          "execution_count": 94
        }
      ]
    },
    {
      "cell_type": "code",
      "source": [
        "# how many queries in test data?\n",
        "len(df[\"search_id\"].unique())"
      ],
      "metadata": {
        "colab": {
          "base_uri": "https://localhost:8080/"
        },
        "id": "brcIp8yI1eWP",
        "outputId": "185f3a68-958a-4ecd-80b8-d7fd7b5775b1"
      },
      "execution_count": null,
      "outputs": [
        {
          "output_type": "execute_result",
          "data": {
            "text/plain": [
              "75642"
            ]
          },
          "metadata": {},
          "execution_count": 95
        }
      ]
    },
    {
      "cell_type": "code",
      "source": [
        "len(df[\"user_id\"].unique())"
      ],
      "metadata": {
        "colab": {
          "base_uri": "https://localhost:8080/"
        },
        "id": "MJsnxIvRT5ys",
        "outputId": "42d220e7-c5b6-44d8-ec8d-71b1f0818d40"
      },
      "execution_count": null,
      "outputs": [
        {
          "output_type": "execute_result",
          "data": {
            "text/plain": [
              "48716"
            ]
          },
          "metadata": {},
          "execution_count": 96
        }
      ]
    },
    {
      "cell_type": "markdown",
      "source": [
        "#### drop columns not needed - first step"
      ],
      "metadata": {
        "id": "RS3abC_SMZKI"
      }
    },
    {
      "cell_type": "code",
      "source": [
        "df = df.drop(columns = [\"search_day_of_week\", \"search_hour_of_day\",\n",
        "                        \"checkout_date\", \"infant_count\", \"room_count\", \"rank\",\n",
        "                        \"user_id\", \"rank_noad\"])\n",
        "\n",
        "df.shape"
      ],
      "metadata": {
        "colab": {
          "base_uri": "https://localhost:8080/"
        },
        "id": "edMZUDCfLsTS",
        "outputId": "6b0a0555-5d2b-4e62-8865-6084fc78b28b"
      },
      "execution_count": null,
      "outputs": [
        {
          "output_type": "execute_result",
          "data": {
            "text/plain": [
              "(2049518, 41)"
            ]
          },
          "metadata": {},
          "execution_count": 97
        }
      ]
    },
    {
      "cell_type": "code",
      "source": [
        "## create relvance label\n",
        "# 1 for clicked on\n",
        "# 2 for transaction\n",
        "\n",
        "df[\"relevance\"] = 0  # Initialize with default value\n",
        "df.loc[df[\"num_clicks\"] > 0, \"relevance\"] = 1  # Set value to 1 if first_column > 0\n",
        "df.loc[df[\"is_trans\"] > 0, \"relevance\"] = 2  # Add 2 if second_column > 0\n"
      ],
      "metadata": {
        "id": "Bf7SRHYXMIS9"
      },
      "execution_count": null,
      "outputs": []
    },
    {
      "cell_type": "code",
      "source": [
        "### drop num clicks and is_trans\n",
        "df = df.drop(columns = [\"is_trans\", \"num_clicks\"])\n",
        "df.shape"
      ],
      "metadata": {
        "colab": {
          "base_uri": "https://localhost:8080/"
        },
        "id": "Cf_XKqhNOx63",
        "outputId": "202c44e3-5360-4142-821f-cdba5c1fb7af"
      },
      "execution_count": null,
      "outputs": [
        {
          "output_type": "execute_result",
          "data": {
            "text/plain": [
              "(2049518, 40)"
            ]
          },
          "metadata": {},
          "execution_count": 99
        }
      ]
    },
    {
      "cell_type": "code",
      "source": [
        "#### barplot of relevance labels\n",
        "import matplotlib.pyplot as plt\n",
        "frequency_counts = df[\"relevance\"].value_counts()"
      ],
      "metadata": {
        "id": "ARE6N8n31ypj"
      },
      "execution_count": null,
      "outputs": []
    },
    {
      "cell_type": "code",
      "source": [
        "frequency_counts"
      ],
      "metadata": {
        "colab": {
          "base_uri": "https://localhost:8080/"
        },
        "id": "EyTqgnroP3yZ",
        "outputId": "dd0eafd8-f5d9-4934-b435-be794307fccd"
      },
      "execution_count": null,
      "outputs": [
        {
          "output_type": "execute_result",
          "data": {
            "text/plain": [
              "relevance\n",
              "0    1908184\n",
              "1     131053\n",
              "2      10281\n",
              "Name: count, dtype: int64"
            ]
          },
          "metadata": {},
          "execution_count": 101
        }
      ]
    },
    {
      "cell_type": "markdown",
      "source": [
        "#### Drop rows based on conditions - new data set object is created"
      ],
      "metadata": {
        "id": "rIEg3YZkPZXV"
      }
    },
    {
      "cell_type": "code",
      "source": [
        "## what are values in sort_type\n",
        "df[\"sort_type\"].value_counts()"
      ],
      "metadata": {
        "colab": {
          "base_uri": "https://localhost:8080/"
        },
        "id": "fAOWm-qLPXox",
        "outputId": "60a714de-5bbd-4a15-b4b5-274fea79e1f5"
      },
      "execution_count": null,
      "outputs": [
        {
          "output_type": "execute_result",
          "data": {
            "text/plain": [
              "sort_type\n",
              "RECOMMENDED                      1881566\n",
              "PRICE ASCENDING                   107997\n",
              "STAR RATING DESCENDING             15118\n",
              "GUEST RATINGS DESCENDING           14661\n",
              "SPECIAL - DIRECT HOTEL SEARCH      11913\n",
              "DEALS                              10316\n",
              "VACATION RENTAL                     7947\n",
              "Name: count, dtype: int64"
            ]
          },
          "metadata": {},
          "execution_count": 102
        }
      ]
    },
    {
      "cell_type": "code",
      "source": [
        "# keep only sort_type == RECOMMENDED\n",
        "df_model = df[df[\"sort_type\"] == \"RECOMMENDED\"]\n",
        "df_model.shape"
      ],
      "metadata": {
        "colab": {
          "base_uri": "https://localhost:8080/"
        },
        "id": "DyRPP3NdTKso",
        "outputId": "38e3d957-1c8c-4d68-ce13-29dff676ec82"
      },
      "execution_count": null,
      "outputs": [
        {
          "output_type": "execute_result",
          "data": {
            "text/plain": [
              "(1881566, 40)"
            ]
          },
          "metadata": {},
          "execution_count": 103
        }
      ]
    },
    {
      "cell_type": "code",
      "source": [
        "#### are there sort_type other than recommended\n",
        "df_model[\"sort_type\"].value_counts()"
      ],
      "metadata": {
        "colab": {
          "base_uri": "https://localhost:8080/"
        },
        "id": "B1sQniLvQqSa",
        "outputId": "a4bc030e-810a-4dc9-8f46-6bea8fa5fd3a"
      },
      "execution_count": null,
      "outputs": [
        {
          "output_type": "execute_result",
          "data": {
            "text/plain": [
              "sort_type\n",
              "RECOMMENDED    1881566\n",
              "Name: count, dtype: int64"
            ]
          },
          "metadata": {},
          "execution_count": 104
        }
      ]
    },
    {
      "cell_type": "code",
      "source": [
        "df_model = df_model.drop(columns = \"sort_type\")"
      ],
      "metadata": {
        "id": "Ds6LXM0LQnpp"
      },
      "execution_count": null,
      "outputs": []
    },
    {
      "cell_type": "code",
      "source": [
        "df_model[\"star_rating\"].value_counts()"
      ],
      "metadata": {
        "colab": {
          "base_uri": "https://localhost:8080/"
        },
        "id": "SGKwyiUXPXkz",
        "outputId": "4362d232-424c-4f0f-da2d-e1f3e8cddbf5"
      },
      "execution_count": null,
      "outputs": [
        {
          "output_type": "execute_result",
          "data": {
            "text/plain": [
              "star_rating\n",
              "4.0              715088\n",
              "3.0              627137\n",
              "5.0              283367\n",
              "2.0              133366\n",
              "0                 85191\n",
              "Not Available     36587\n",
              "1.0                 793\n",
              "0.0                  37\n",
              "Name: count, dtype: int64"
            ]
          },
          "metadata": {},
          "execution_count": 106
        }
      ]
    },
    {
      "cell_type": "code",
      "source": [
        "### remove Not Available and transfer to integer\n",
        "df_model = df_model[df_model[\"star_rating\"] != \"Not Available\"]\n",
        "df_model[\"star_rating\"].value_counts()"
      ],
      "metadata": {
        "colab": {
          "base_uri": "https://localhost:8080/"
        },
        "id": "CkcWMpYmPXgW",
        "outputId": "01e79ea6-2c7b-4087-fea1-02375615ef11"
      },
      "execution_count": null,
      "outputs": [
        {
          "output_type": "execute_result",
          "data": {
            "text/plain": [
              "star_rating\n",
              "4.0    715088\n",
              "3.0    627137\n",
              "5.0    283367\n",
              "2.0    133366\n",
              "0       85191\n",
              "1.0       793\n",
              "0.0        37\n",
              "Name: count, dtype: int64"
            ]
          },
          "metadata": {},
          "execution_count": 107
        }
      ]
    },
    {
      "cell_type": "code",
      "source": [
        "# transfer star rating to a numeric value\n",
        "df_model[\"star_rating\"] = pd.to_numeric(df_model[\"star_rating\"])"
      ],
      "metadata": {
        "id": "23cz8AS_g57B"
      },
      "execution_count": null,
      "outputs": []
    },
    {
      "cell_type": "code",
      "source": [
        "df_model[\"star_rating\"].value_counts()"
      ],
      "metadata": {
        "colab": {
          "base_uri": "https://localhost:8080/"
        },
        "id": "uOcanyKzma3m",
        "outputId": "c19e2abc-d51f-4aaf-d08f-3f941f1a07ee"
      },
      "execution_count": null,
      "outputs": [
        {
          "output_type": "execute_result",
          "data": {
            "text/plain": [
              "star_rating\n",
              "4.0    715088\n",
              "3.0    627137\n",
              "5.0    283367\n",
              "2.0    133366\n",
              "0.0     85228\n",
              "1.0       793\n",
              "Name: count, dtype: int64"
            ]
          },
          "metadata": {},
          "execution_count": 109
        }
      ]
    },
    {
      "cell_type": "code",
      "source": [
        "df_model[\"review_rating\"].value_counts()"
      ],
      "metadata": {
        "colab": {
          "base_uri": "https://localhost:8080/"
        },
        "id": "MRGODqGsZTSz",
        "outputId": "51ea9e19-40f0-40cb-aa69-fd8039509b2c"
      },
      "execution_count": null,
      "outputs": [
        {
          "output_type": "execute_result",
          "data": {
            "text/plain": [
              "review_rating\n",
              "4.0    1206031\n",
              "5.0     493645\n",
              "3.0     107968\n",
              "0.0      27600\n",
              "2.0       9032\n",
              "1.0        703\n",
              "Name: count, dtype: int64"
            ]
          },
          "metadata": {},
          "execution_count": 110
        }
      ]
    },
    {
      "cell_type": "code",
      "source": [
        "## remove if review rating == 0, because indicates that no rating could be given\n",
        "df_model = df_model[df_model[\"review_rating\"] != 0.0]\n",
        "df_model[\"review_rating\"].value_counts()"
      ],
      "metadata": {
        "colab": {
          "base_uri": "https://localhost:8080/"
        },
        "id": "jAwSI8mKYPec",
        "outputId": "790c65a0-1ab0-429b-eabd-78ad77d19b87"
      },
      "execution_count": null,
      "outputs": [
        {
          "output_type": "execute_result",
          "data": {
            "text/plain": [
              "review_rating\n",
              "4.0    1206031\n",
              "5.0     493645\n",
              "3.0     107968\n",
              "2.0       9032\n",
              "1.0        703\n",
              "Name: count, dtype: int64"
            ]
          },
          "metadata": {},
          "execution_count": 111
        }
      ]
    },
    {
      "cell_type": "code",
      "source": [
        "## rows without valid values are already dropped with review_rating\n",
        "df_model['review_count'].value_counts()"
      ],
      "metadata": {
        "colab": {
          "base_uri": "https://localhost:8080/"
        },
        "id": "AWT8JlpzYShV",
        "outputId": "c62ccc4a-da76-4bee-cddc-8aa0c8b0b32b"
      },
      "execution_count": null,
      "outputs": [
        {
          "output_type": "execute_result",
          "data": {
            "text/plain": [
              "review_count\n",
              "1025.0     358711\n",
              "1000.0     156005\n",
              "25.0       116550\n",
              "50.0        46534\n",
              "75.0        35742\n",
              "            ...  \n",
              "22100.0         3\n",
              "27775.0         3\n",
              "27750.0         2\n",
              "14325.0         2\n",
              "14675.0         1\n",
              "Name: count, Length: 747, dtype: int64"
            ]
          },
          "metadata": {},
          "execution_count": 112
        }
      ]
    },
    {
      "cell_type": "code",
      "source": [
        "df_model['price_bucket'].value_counts()"
      ],
      "metadata": {
        "colab": {
          "base_uri": "https://localhost:8080/"
        },
        "id": "xm03bGQy22x5",
        "outputId": "3852a46e-0c72-42de-ba52-df90aa5c1aa6"
      },
      "execution_count": null,
      "outputs": [
        {
          "output_type": "execute_result",
          "data": {
            "text/plain": [
              "price_bucket\n",
              "4.0    389951\n",
              "3.0    383366\n",
              "2.0    369453\n",
              "5.0    354746\n",
              "1.0    319863\n",
              "Name: count, dtype: int64"
            ]
          },
          "metadata": {},
          "execution_count": 113
        }
      ]
    },
    {
      "cell_type": "code",
      "source": [
        "import numpy as np"
      ],
      "metadata": {
        "id": "zzaAqG5Qgd8T"
      },
      "execution_count": null,
      "outputs": []
    },
    {
      "cell_type": "code",
      "source": [
        "df_model[\"price_bucket\"].mean()"
      ],
      "metadata": {
        "colab": {
          "base_uri": "https://localhost:8080/"
        },
        "id": "_Mo2ax0ugX0r",
        "outputId": "49502322-1ec8-43c3-c77a-57167ef36dc1"
      },
      "execution_count": null,
      "outputs": [
        {
          "output_type": "execute_result",
          "data": {
            "text/plain": [
              "3.049667130521482"
            ]
          },
          "metadata": {},
          "execution_count": 115
        }
      ]
    },
    {
      "cell_type": "markdown",
      "source": [
        "#### Exclude ads"
      ],
      "metadata": {
        "id": "9zOXN7PFwCbh"
      }
    },
    {
      "cell_type": "code",
      "source": [
        "df_model['is_travel_ad'].value_counts()"
      ],
      "metadata": {
        "colab": {
          "base_uri": "https://localhost:8080/"
        },
        "id": "G8M8-8Q8vpKA",
        "outputId": "1bfae096-07f7-4218-ee2e-ea54f0504f11"
      },
      "execution_count": null,
      "outputs": [
        {
          "output_type": "execute_result",
          "data": {
            "text/plain": [
              "is_travel_ad\n",
              "0    1633412\n",
              "1     183967\n",
              "Name: count, dtype: int64"
            ]
          },
          "metadata": {},
          "execution_count": 116
        }
      ]
    },
    {
      "cell_type": "code",
      "source": [
        "# only rows that are no ads stay in df\n",
        "df_model = df_model[df_model['is_travel_ad'] == 0]\n",
        "df_model.shape"
      ],
      "metadata": {
        "colab": {
          "base_uri": "https://localhost:8080/"
        },
        "id": "vIWwuOJbwICV",
        "outputId": "116f3d60-4a94-419e-dc84-5fc08d8ae997"
      },
      "execution_count": null,
      "outputs": [
        {
          "output_type": "execute_result",
          "data": {
            "text/plain": [
              "(1633412, 39)"
            ]
          },
          "metadata": {},
          "execution_count": 117
        }
      ]
    },
    {
      "cell_type": "code",
      "source": [
        "df_model = df_model.drop(columns = \"is_travel_ad\")"
      ],
      "metadata": {
        "id": "dcTRy4r6zHdz"
      },
      "execution_count": null,
      "outputs": []
    },
    {
      "cell_type": "code",
      "source": [
        "#df_model['rank_noad'].value_counts()"
      ],
      "metadata": {
        "id": "B6NhVwQVvUgs"
      },
      "execution_count": null,
      "outputs": []
    },
    {
      "cell_type": "markdown",
      "source": [
        "#### Extract month from checkin_date"
      ],
      "metadata": {
        "id": "_6Ps2IaNzTRb"
      }
    },
    {
      "cell_type": "code",
      "source": [
        "df_model[\"in_date\"] = pd.to_datetime(df_model[\"checkin_date\"])\n",
        "df_model[\"in_date\"]"
      ],
      "metadata": {
        "colab": {
          "base_uri": "https://localhost:8080/"
        },
        "id": "YX8XJodq2P84",
        "outputId": "37252108-f62f-414d-f521-5e1db24fb017"
      },
      "execution_count": null,
      "outputs": [
        {
          "output_type": "execute_result",
          "data": {
            "text/plain": [
              "0         2021-07-07\n",
              "3         2021-07-07\n",
              "4         2021-07-07\n",
              "5         2021-07-07\n",
              "6         2021-07-07\n",
              "             ...    \n",
              "2049513   2021-06-21\n",
              "2049514   2021-06-21\n",
              "2049515   2021-06-21\n",
              "2049516   2021-06-21\n",
              "2049517   2021-06-21\n",
              "Name: in_date, Length: 1633412, dtype: datetime64[ns]"
            ]
          },
          "metadata": {},
          "execution_count": 120
        }
      ]
    },
    {
      "cell_type": "code",
      "source": [
        "# Extract the month\n",
        "df_model[\"checkin_month\"] = df_model[\"in_date\"].dt.month"
      ],
      "metadata": {
        "id": "J492vh0MU_ub"
      },
      "execution_count": null,
      "outputs": []
    },
    {
      "cell_type": "code",
      "source": [
        "# transform month to category\n",
        "df_model[\"checkin_month\"] = df_model[\"checkin_month\"].astype(\"category\")"
      ],
      "metadata": {
        "id": "LwJ6SVnzSVzC"
      },
      "execution_count": null,
      "outputs": []
    },
    {
      "cell_type": "code",
      "source": [
        "# drop string and date time of checkin\n",
        "df_model = df_model.drop(columns = [\"checkin_date\", \"in_date\"])"
      ],
      "metadata": {
        "id": "q47Ew5iQVeGS"
      },
      "execution_count": null,
      "outputs": []
    },
    {
      "cell_type": "markdown",
      "source": [
        "#### Transform amenities from string into category"
      ],
      "metadata": {
        "id": "olW-mM2fzYTd"
      }
    },
    {
      "cell_type": "code",
      "source": [
        "### replace True False strings with 1 and 0\n",
        "\n",
        "df_model = df_model.replace({\"True\": 1, \"False\": 0})"
      ],
      "metadata": {
        "id": "x6erLiWesPHu"
      },
      "execution_count": null,
      "outputs": []
    },
    {
      "cell_type": "code",
      "source": [
        "df_model.head()"
      ],
      "metadata": {
        "colab": {
          "base_uri": "https://localhost:8080/",
          "height": 255
        },
        "id": "H2k8ZHG2sUH8",
        "outputId": "9b07255d-a1dc-4af6-fc46-32b0b39da9c4"
      },
      "execution_count": null,
      "outputs": [
        {
          "output_type": "execute_result",
          "data": {
            "text/plain": [
              "   search_id  point_of_sale  geo_location_country  is_mobile  destination_id  \\\n",
              "0          2              1                     1          0              49   \n",
              "3          2              1                     1          0              49   \n",
              "4          2              1                     1          0              49   \n",
              "5          2              1                     1          0              49   \n",
              "6          2              1                     1          0              49   \n",
              "\n",
              "   adult_count  child_count  length_of_stay  booking_window  checkin_day  ...  \\\n",
              "0            2            0             5.0            26.0            2  ...   \n",
              "3            2            0             5.0            26.0            2  ...   \n",
              "4            2            0             5.0            26.0            2  ...   \n",
              "5            2            0             5.0            26.0            2  ...   \n",
              "6            2            0             5.0            26.0            2  ...   \n",
              "\n",
              "   LaundryFacility  Parking  PetsAllowed  PrivatePool  SpaServices  \\\n",
              "0                1        0            0            0            0   \n",
              "3                1        1            1            0            0   \n",
              "4                1        1            1            0            0   \n",
              "5                1        0            1            0            0   \n",
              "6                1        1            0            0            0   \n",
              "\n",
              "   SwimmingPool  WasherDryer  WiFi relevance checkin_month  \n",
              "0             0            0     0         1             7  \n",
              "3             0            0     1         0             7  \n",
              "4             0            0     0         0             7  \n",
              "5             0            0     0         0             7  \n",
              "6             0            0     0         0             7  \n",
              "\n",
              "[5 rows x 38 columns]"
            ],
            "text/html": [
              "\n",
              "  <div id=\"df-790b4efc-2f0c-48da-baa7-1dc794d4b16a\" class=\"colab-df-container\">\n",
              "    <div>\n",
              "<style scoped>\n",
              "    .dataframe tbody tr th:only-of-type {\n",
              "        vertical-align: middle;\n",
              "    }\n",
              "\n",
              "    .dataframe tbody tr th {\n",
              "        vertical-align: top;\n",
              "    }\n",
              "\n",
              "    .dataframe thead th {\n",
              "        text-align: right;\n",
              "    }\n",
              "</style>\n",
              "<table border=\"1\" class=\"dataframe\">\n",
              "  <thead>\n",
              "    <tr style=\"text-align: right;\">\n",
              "      <th></th>\n",
              "      <th>search_id</th>\n",
              "      <th>point_of_sale</th>\n",
              "      <th>geo_location_country</th>\n",
              "      <th>is_mobile</th>\n",
              "      <th>destination_id</th>\n",
              "      <th>adult_count</th>\n",
              "      <th>child_count</th>\n",
              "      <th>length_of_stay</th>\n",
              "      <th>booking_window</th>\n",
              "      <th>checkin_day</th>\n",
              "      <th>...</th>\n",
              "      <th>LaundryFacility</th>\n",
              "      <th>Parking</th>\n",
              "      <th>PetsAllowed</th>\n",
              "      <th>PrivatePool</th>\n",
              "      <th>SpaServices</th>\n",
              "      <th>SwimmingPool</th>\n",
              "      <th>WasherDryer</th>\n",
              "      <th>WiFi</th>\n",
              "      <th>relevance</th>\n",
              "      <th>checkin_month</th>\n",
              "    </tr>\n",
              "  </thead>\n",
              "  <tbody>\n",
              "    <tr>\n",
              "      <th>0</th>\n",
              "      <td>2</td>\n",
              "      <td>1</td>\n",
              "      <td>1</td>\n",
              "      <td>0</td>\n",
              "      <td>49</td>\n",
              "      <td>2</td>\n",
              "      <td>0</td>\n",
              "      <td>5.0</td>\n",
              "      <td>26.0</td>\n",
              "      <td>2</td>\n",
              "      <td>...</td>\n",
              "      <td>1</td>\n",
              "      <td>0</td>\n",
              "      <td>0</td>\n",
              "      <td>0</td>\n",
              "      <td>0</td>\n",
              "      <td>0</td>\n",
              "      <td>0</td>\n",
              "      <td>0</td>\n",
              "      <td>1</td>\n",
              "      <td>7</td>\n",
              "    </tr>\n",
              "    <tr>\n",
              "      <th>3</th>\n",
              "      <td>2</td>\n",
              "      <td>1</td>\n",
              "      <td>1</td>\n",
              "      <td>0</td>\n",
              "      <td>49</td>\n",
              "      <td>2</td>\n",
              "      <td>0</td>\n",
              "      <td>5.0</td>\n",
              "      <td>26.0</td>\n",
              "      <td>2</td>\n",
              "      <td>...</td>\n",
              "      <td>1</td>\n",
              "      <td>1</td>\n",
              "      <td>1</td>\n",
              "      <td>0</td>\n",
              "      <td>0</td>\n",
              "      <td>0</td>\n",
              "      <td>0</td>\n",
              "      <td>1</td>\n",
              "      <td>0</td>\n",
              "      <td>7</td>\n",
              "    </tr>\n",
              "    <tr>\n",
              "      <th>4</th>\n",
              "      <td>2</td>\n",
              "      <td>1</td>\n",
              "      <td>1</td>\n",
              "      <td>0</td>\n",
              "      <td>49</td>\n",
              "      <td>2</td>\n",
              "      <td>0</td>\n",
              "      <td>5.0</td>\n",
              "      <td>26.0</td>\n",
              "      <td>2</td>\n",
              "      <td>...</td>\n",
              "      <td>1</td>\n",
              "      <td>1</td>\n",
              "      <td>1</td>\n",
              "      <td>0</td>\n",
              "      <td>0</td>\n",
              "      <td>0</td>\n",
              "      <td>0</td>\n",
              "      <td>0</td>\n",
              "      <td>0</td>\n",
              "      <td>7</td>\n",
              "    </tr>\n",
              "    <tr>\n",
              "      <th>5</th>\n",
              "      <td>2</td>\n",
              "      <td>1</td>\n",
              "      <td>1</td>\n",
              "      <td>0</td>\n",
              "      <td>49</td>\n",
              "      <td>2</td>\n",
              "      <td>0</td>\n",
              "      <td>5.0</td>\n",
              "      <td>26.0</td>\n",
              "      <td>2</td>\n",
              "      <td>...</td>\n",
              "      <td>1</td>\n",
              "      <td>0</td>\n",
              "      <td>1</td>\n",
              "      <td>0</td>\n",
              "      <td>0</td>\n",
              "      <td>0</td>\n",
              "      <td>0</td>\n",
              "      <td>0</td>\n",
              "      <td>0</td>\n",
              "      <td>7</td>\n",
              "    </tr>\n",
              "    <tr>\n",
              "      <th>6</th>\n",
              "      <td>2</td>\n",
              "      <td>1</td>\n",
              "      <td>1</td>\n",
              "      <td>0</td>\n",
              "      <td>49</td>\n",
              "      <td>2</td>\n",
              "      <td>0</td>\n",
              "      <td>5.0</td>\n",
              "      <td>26.0</td>\n",
              "      <td>2</td>\n",
              "      <td>...</td>\n",
              "      <td>1</td>\n",
              "      <td>1</td>\n",
              "      <td>0</td>\n",
              "      <td>0</td>\n",
              "      <td>0</td>\n",
              "      <td>0</td>\n",
              "      <td>0</td>\n",
              "      <td>0</td>\n",
              "      <td>0</td>\n",
              "      <td>7</td>\n",
              "    </tr>\n",
              "  </tbody>\n",
              "</table>\n",
              "<p>5 rows × 38 columns</p>\n",
              "</div>\n",
              "    <div class=\"colab-df-buttons\">\n",
              "\n",
              "  <div class=\"colab-df-container\">\n",
              "    <button class=\"colab-df-convert\" onclick=\"convertToInteractive('df-790b4efc-2f0c-48da-baa7-1dc794d4b16a')\"\n",
              "            title=\"Convert this dataframe to an interactive table.\"\n",
              "            style=\"display:none;\">\n",
              "\n",
              "  <svg xmlns=\"http://www.w3.org/2000/svg\" height=\"24px\" viewBox=\"0 -960 960 960\">\n",
              "    <path d=\"M120-120v-720h720v720H120Zm60-500h600v-160H180v160Zm220 220h160v-160H400v160Zm0 220h160v-160H400v160ZM180-400h160v-160H180v160Zm440 0h160v-160H620v160ZM180-180h160v-160H180v160Zm440 0h160v-160H620v160Z\"/>\n",
              "  </svg>\n",
              "    </button>\n",
              "\n",
              "  <style>\n",
              "    .colab-df-container {\n",
              "      display:flex;\n",
              "      gap: 12px;\n",
              "    }\n",
              "\n",
              "    .colab-df-convert {\n",
              "      background-color: #E8F0FE;\n",
              "      border: none;\n",
              "      border-radius: 50%;\n",
              "      cursor: pointer;\n",
              "      display: none;\n",
              "      fill: #1967D2;\n",
              "      height: 32px;\n",
              "      padding: 0 0 0 0;\n",
              "      width: 32px;\n",
              "    }\n",
              "\n",
              "    .colab-df-convert:hover {\n",
              "      background-color: #E2EBFA;\n",
              "      box-shadow: 0px 1px 2px rgba(60, 64, 67, 0.3), 0px 1px 3px 1px rgba(60, 64, 67, 0.15);\n",
              "      fill: #174EA6;\n",
              "    }\n",
              "\n",
              "    .colab-df-buttons div {\n",
              "      margin-bottom: 4px;\n",
              "    }\n",
              "\n",
              "    [theme=dark] .colab-df-convert {\n",
              "      background-color: #3B4455;\n",
              "      fill: #D2E3FC;\n",
              "    }\n",
              "\n",
              "    [theme=dark] .colab-df-convert:hover {\n",
              "      background-color: #434B5C;\n",
              "      box-shadow: 0px 1px 3px 1px rgba(0, 0, 0, 0.15);\n",
              "      filter: drop-shadow(0px 1px 2px rgba(0, 0, 0, 0.3));\n",
              "      fill: #FFFFFF;\n",
              "    }\n",
              "  </style>\n",
              "\n",
              "    <script>\n",
              "      const buttonEl =\n",
              "        document.querySelector('#df-790b4efc-2f0c-48da-baa7-1dc794d4b16a button.colab-df-convert');\n",
              "      buttonEl.style.display =\n",
              "        google.colab.kernel.accessAllowed ? 'block' : 'none';\n",
              "\n",
              "      async function convertToInteractive(key) {\n",
              "        const element = document.querySelector('#df-790b4efc-2f0c-48da-baa7-1dc794d4b16a');\n",
              "        const dataTable =\n",
              "          await google.colab.kernel.invokeFunction('convertToInteractive',\n",
              "                                                    [key], {});\n",
              "        if (!dataTable) return;\n",
              "\n",
              "        const docLinkHtml = 'Like what you see? Visit the ' +\n",
              "          '<a target=\"_blank\" href=https://colab.research.google.com/notebooks/data_table.ipynb>data table notebook</a>'\n",
              "          + ' to learn more about interactive tables.';\n",
              "        element.innerHTML = '';\n",
              "        dataTable['output_type'] = 'display_data';\n",
              "        await google.colab.output.renderOutput(dataTable, element);\n",
              "        const docLink = document.createElement('div');\n",
              "        docLink.innerHTML = docLinkHtml;\n",
              "        element.appendChild(docLink);\n",
              "      }\n",
              "    </script>\n",
              "  </div>\n",
              "\n",
              "\n",
              "<div id=\"df-4334e708-e81e-4027-a21a-8b2ae3573809\">\n",
              "  <button class=\"colab-df-quickchart\" onclick=\"quickchart('df-4334e708-e81e-4027-a21a-8b2ae3573809')\"\n",
              "            title=\"Suggest charts\"\n",
              "            style=\"display:none;\">\n",
              "\n",
              "<svg xmlns=\"http://www.w3.org/2000/svg\" height=\"24px\"viewBox=\"0 0 24 24\"\n",
              "     width=\"24px\">\n",
              "    <g>\n",
              "        <path d=\"M19 3H5c-1.1 0-2 .9-2 2v14c0 1.1.9 2 2 2h14c1.1 0 2-.9 2-2V5c0-1.1-.9-2-2-2zM9 17H7v-7h2v7zm4 0h-2V7h2v10zm4 0h-2v-4h2v4z\"/>\n",
              "    </g>\n",
              "</svg>\n",
              "  </button>\n",
              "\n",
              "<style>\n",
              "  .colab-df-quickchart {\n",
              "      --bg-color: #E8F0FE;\n",
              "      --fill-color: #1967D2;\n",
              "      --hover-bg-color: #E2EBFA;\n",
              "      --hover-fill-color: #174EA6;\n",
              "      --disabled-fill-color: #AAA;\n",
              "      --disabled-bg-color: #DDD;\n",
              "  }\n",
              "\n",
              "  [theme=dark] .colab-df-quickchart {\n",
              "      --bg-color: #3B4455;\n",
              "      --fill-color: #D2E3FC;\n",
              "      --hover-bg-color: #434B5C;\n",
              "      --hover-fill-color: #FFFFFF;\n",
              "      --disabled-bg-color: #3B4455;\n",
              "      --disabled-fill-color: #666;\n",
              "  }\n",
              "\n",
              "  .colab-df-quickchart {\n",
              "    background-color: var(--bg-color);\n",
              "    border: none;\n",
              "    border-radius: 50%;\n",
              "    cursor: pointer;\n",
              "    display: none;\n",
              "    fill: var(--fill-color);\n",
              "    height: 32px;\n",
              "    padding: 0;\n",
              "    width: 32px;\n",
              "  }\n",
              "\n",
              "  .colab-df-quickchart:hover {\n",
              "    background-color: var(--hover-bg-color);\n",
              "    box-shadow: 0 1px 2px rgba(60, 64, 67, 0.3), 0 1px 3px 1px rgba(60, 64, 67, 0.15);\n",
              "    fill: var(--button-hover-fill-color);\n",
              "  }\n",
              "\n",
              "  .colab-df-quickchart-complete:disabled,\n",
              "  .colab-df-quickchart-complete:disabled:hover {\n",
              "    background-color: var(--disabled-bg-color);\n",
              "    fill: var(--disabled-fill-color);\n",
              "    box-shadow: none;\n",
              "  }\n",
              "\n",
              "  .colab-df-spinner {\n",
              "    border: 2px solid var(--fill-color);\n",
              "    border-color: transparent;\n",
              "    border-bottom-color: var(--fill-color);\n",
              "    animation:\n",
              "      spin 1s steps(1) infinite;\n",
              "  }\n",
              "\n",
              "  @keyframes spin {\n",
              "    0% {\n",
              "      border-color: transparent;\n",
              "      border-bottom-color: var(--fill-color);\n",
              "      border-left-color: var(--fill-color);\n",
              "    }\n",
              "    20% {\n",
              "      border-color: transparent;\n",
              "      border-left-color: var(--fill-color);\n",
              "      border-top-color: var(--fill-color);\n",
              "    }\n",
              "    30% {\n",
              "      border-color: transparent;\n",
              "      border-left-color: var(--fill-color);\n",
              "      border-top-color: var(--fill-color);\n",
              "      border-right-color: var(--fill-color);\n",
              "    }\n",
              "    40% {\n",
              "      border-color: transparent;\n",
              "      border-right-color: var(--fill-color);\n",
              "      border-top-color: var(--fill-color);\n",
              "    }\n",
              "    60% {\n",
              "      border-color: transparent;\n",
              "      border-right-color: var(--fill-color);\n",
              "    }\n",
              "    80% {\n",
              "      border-color: transparent;\n",
              "      border-right-color: var(--fill-color);\n",
              "      border-bottom-color: var(--fill-color);\n",
              "    }\n",
              "    90% {\n",
              "      border-color: transparent;\n",
              "      border-bottom-color: var(--fill-color);\n",
              "    }\n",
              "  }\n",
              "</style>\n",
              "\n",
              "  <script>\n",
              "    async function quickchart(key) {\n",
              "      const quickchartButtonEl =\n",
              "        document.querySelector('#' + key + ' button');\n",
              "      quickchartButtonEl.disabled = true;  // To prevent multiple clicks.\n",
              "      quickchartButtonEl.classList.add('colab-df-spinner');\n",
              "      try {\n",
              "        const charts = await google.colab.kernel.invokeFunction(\n",
              "            'suggestCharts', [key], {});\n",
              "      } catch (error) {\n",
              "        console.error('Error during call to suggestCharts:', error);\n",
              "      }\n",
              "      quickchartButtonEl.classList.remove('colab-df-spinner');\n",
              "      quickchartButtonEl.classList.add('colab-df-quickchart-complete');\n",
              "    }\n",
              "    (() => {\n",
              "      let quickchartButtonEl =\n",
              "        document.querySelector('#df-4334e708-e81e-4027-a21a-8b2ae3573809 button');\n",
              "      quickchartButtonEl.style.display =\n",
              "        google.colab.kernel.accessAllowed ? 'block' : 'none';\n",
              "    })();\n",
              "  </script>\n",
              "</div>\n",
              "\n",
              "    </div>\n",
              "  </div>\n"
            ],
            "application/vnd.google.colaboratory.intrinsic+json": {
              "type": "dataframe",
              "variable_name": "df_model"
            }
          },
          "metadata": {},
          "execution_count": 125
        }
      ]
    },
    {
      "cell_type": "code",
      "source": [
        "amenities =  ['AirConditioning',\n",
        "  'AirportTransfer',\n",
        "  'Bar',\n",
        "  'FreeAirportTransportation',\n",
        "  'FreeBreakfast',\n",
        "  'FreeParking',\n",
        "  'FreeWiFi',\n",
        "  'Gym',\n",
        "  'HighSpeedInternet',\n",
        "  'HotTub',\n",
        "  'LaundryFacility',\n",
        "  'Parking',\n",
        "  'PetsAllowed',\n",
        "  'PrivatePool',\n",
        "  'SpaServices',\n",
        "  'SwimmingPool',\n",
        "  'WasherDryer',\n",
        "  'WiFi']\n",
        "\n",
        "\n",
        "\n",
        "# change type to category:\n",
        "for amenity in amenities:\n",
        "  df_model[amenity] = df_model[amenity].astype('int')"
      ],
      "metadata": {
        "id": "uifYi1S8xnxM"
      },
      "execution_count": null,
      "outputs": []
    },
    {
      "cell_type": "code",
      "source": [
        "# df_model['is_mobile'] = df_model['is_mobile'].astype('category')\n",
        "# df_model['is_free_cancellation'] = df_model['is_free_cancellation'].astype('category')\n",
        "# df_model['is_drr'] = df_model['is_drr'].astype('category')\n",
        "df_model['checkin_day'] = df_model['checkin_day'].astype('category')\n",
        "df_model['checkout_day'] = df_model['checkout_day'].astype('category')"
      ],
      "metadata": {
        "id": "kn9KF69Acqkm"
      },
      "execution_count": null,
      "outputs": []
    },
    {
      "cell_type": "code",
      "source": [
        "df_model.dtypes"
      ],
      "metadata": {
        "colab": {
          "base_uri": "https://localhost:8080/"
        },
        "id": "-QfSevXsl22X",
        "outputId": "d00b3d8e-e822-40f3-e789-f5f73d2d377e"
      },
      "execution_count": null,
      "outputs": [
        {
          "output_type": "execute_result",
          "data": {
            "text/plain": [
              "search_id                       int64\n",
              "point_of_sale                   int64\n",
              "geo_location_country            int64\n",
              "is_mobile                       int64\n",
              "destination_id                  int64\n",
              "adult_count                     int64\n",
              "child_count                     int64\n",
              "length_of_stay                float64\n",
              "booking_window                float64\n",
              "checkin_day                  category\n",
              "checkout_day                 category\n",
              "prop_id                         int64\n",
              "review_rating                 float64\n",
              "review_count                  float64\n",
              "star_rating                   float64\n",
              "is_free_cancellation            int64\n",
              "is_drr                          int64\n",
              "price_bucket                  float64\n",
              "AirConditioning                 int64\n",
              "AirportTransfer                 int64\n",
              "Bar                             int64\n",
              "FreeAirportTransportation       int64\n",
              "FreeBreakfast                   int64\n",
              "FreeParking                     int64\n",
              "FreeWiFi                        int64\n",
              "Gym                             int64\n",
              "HighSpeedInternet               int64\n",
              "HotTub                          int64\n",
              "LaundryFacility                 int64\n",
              "Parking                         int64\n",
              "PetsAllowed                     int64\n",
              "PrivatePool                     int64\n",
              "SpaServices                     int64\n",
              "SwimmingPool                    int64\n",
              "WasherDryer                     int64\n",
              "WiFi                            int64\n",
              "relevance                       int64\n",
              "checkin_month                category\n",
              "dtype: object"
            ]
          },
          "metadata": {},
          "execution_count": 128
        }
      ]
    },
    {
      "cell_type": "code",
      "source": [
        "## keep only integer/float columns for XGB\n",
        "df_model.head()"
      ],
      "metadata": {
        "colab": {
          "base_uri": "https://localhost:8080/",
          "height": 255
        },
        "id": "bKDKaEWCKtbh",
        "outputId": "ea35a35f-82de-461d-fe95-db97e8839a21"
      },
      "execution_count": null,
      "outputs": [
        {
          "output_type": "execute_result",
          "data": {
            "text/plain": [
              "   search_id  point_of_sale  geo_location_country  is_mobile  destination_id  \\\n",
              "0          2              1                     1          0              49   \n",
              "3          2              1                     1          0              49   \n",
              "4          2              1                     1          0              49   \n",
              "5          2              1                     1          0              49   \n",
              "6          2              1                     1          0              49   \n",
              "\n",
              "   adult_count  child_count  length_of_stay  booking_window checkin_day  ...  \\\n",
              "0            2            0             5.0            26.0           2  ...   \n",
              "3            2            0             5.0            26.0           2  ...   \n",
              "4            2            0             5.0            26.0           2  ...   \n",
              "5            2            0             5.0            26.0           2  ...   \n",
              "6            2            0             5.0            26.0           2  ...   \n",
              "\n",
              "  LaundryFacility  Parking  PetsAllowed  PrivatePool  SpaServices  \\\n",
              "0               1        0            0            0            0   \n",
              "3               1        1            1            0            0   \n",
              "4               1        1            1            0            0   \n",
              "5               1        0            1            0            0   \n",
              "6               1        1            0            0            0   \n",
              "\n",
              "   SwimmingPool  WasherDryer  WiFi  relevance  checkin_month  \n",
              "0             0            0     0          1              7  \n",
              "3             0            0     1          0              7  \n",
              "4             0            0     0          0              7  \n",
              "5             0            0     0          0              7  \n",
              "6             0            0     0          0              7  \n",
              "\n",
              "[5 rows x 38 columns]"
            ],
            "text/html": [
              "\n",
              "  <div id=\"df-fd1dda5f-0ce7-4549-8ff7-8410a926d1c5\" class=\"colab-df-container\">\n",
              "    <div>\n",
              "<style scoped>\n",
              "    .dataframe tbody tr th:only-of-type {\n",
              "        vertical-align: middle;\n",
              "    }\n",
              "\n",
              "    .dataframe tbody tr th {\n",
              "        vertical-align: top;\n",
              "    }\n",
              "\n",
              "    .dataframe thead th {\n",
              "        text-align: right;\n",
              "    }\n",
              "</style>\n",
              "<table border=\"1\" class=\"dataframe\">\n",
              "  <thead>\n",
              "    <tr style=\"text-align: right;\">\n",
              "      <th></th>\n",
              "      <th>search_id</th>\n",
              "      <th>point_of_sale</th>\n",
              "      <th>geo_location_country</th>\n",
              "      <th>is_mobile</th>\n",
              "      <th>destination_id</th>\n",
              "      <th>adult_count</th>\n",
              "      <th>child_count</th>\n",
              "      <th>length_of_stay</th>\n",
              "      <th>booking_window</th>\n",
              "      <th>checkin_day</th>\n",
              "      <th>...</th>\n",
              "      <th>LaundryFacility</th>\n",
              "      <th>Parking</th>\n",
              "      <th>PetsAllowed</th>\n",
              "      <th>PrivatePool</th>\n",
              "      <th>SpaServices</th>\n",
              "      <th>SwimmingPool</th>\n",
              "      <th>WasherDryer</th>\n",
              "      <th>WiFi</th>\n",
              "      <th>relevance</th>\n",
              "      <th>checkin_month</th>\n",
              "    </tr>\n",
              "  </thead>\n",
              "  <tbody>\n",
              "    <tr>\n",
              "      <th>0</th>\n",
              "      <td>2</td>\n",
              "      <td>1</td>\n",
              "      <td>1</td>\n",
              "      <td>0</td>\n",
              "      <td>49</td>\n",
              "      <td>2</td>\n",
              "      <td>0</td>\n",
              "      <td>5.0</td>\n",
              "      <td>26.0</td>\n",
              "      <td>2</td>\n",
              "      <td>...</td>\n",
              "      <td>1</td>\n",
              "      <td>0</td>\n",
              "      <td>0</td>\n",
              "      <td>0</td>\n",
              "      <td>0</td>\n",
              "      <td>0</td>\n",
              "      <td>0</td>\n",
              "      <td>0</td>\n",
              "      <td>1</td>\n",
              "      <td>7</td>\n",
              "    </tr>\n",
              "    <tr>\n",
              "      <th>3</th>\n",
              "      <td>2</td>\n",
              "      <td>1</td>\n",
              "      <td>1</td>\n",
              "      <td>0</td>\n",
              "      <td>49</td>\n",
              "      <td>2</td>\n",
              "      <td>0</td>\n",
              "      <td>5.0</td>\n",
              "      <td>26.0</td>\n",
              "      <td>2</td>\n",
              "      <td>...</td>\n",
              "      <td>1</td>\n",
              "      <td>1</td>\n",
              "      <td>1</td>\n",
              "      <td>0</td>\n",
              "      <td>0</td>\n",
              "      <td>0</td>\n",
              "      <td>0</td>\n",
              "      <td>1</td>\n",
              "      <td>0</td>\n",
              "      <td>7</td>\n",
              "    </tr>\n",
              "    <tr>\n",
              "      <th>4</th>\n",
              "      <td>2</td>\n",
              "      <td>1</td>\n",
              "      <td>1</td>\n",
              "      <td>0</td>\n",
              "      <td>49</td>\n",
              "      <td>2</td>\n",
              "      <td>0</td>\n",
              "      <td>5.0</td>\n",
              "      <td>26.0</td>\n",
              "      <td>2</td>\n",
              "      <td>...</td>\n",
              "      <td>1</td>\n",
              "      <td>1</td>\n",
              "      <td>1</td>\n",
              "      <td>0</td>\n",
              "      <td>0</td>\n",
              "      <td>0</td>\n",
              "      <td>0</td>\n",
              "      <td>0</td>\n",
              "      <td>0</td>\n",
              "      <td>7</td>\n",
              "    </tr>\n",
              "    <tr>\n",
              "      <th>5</th>\n",
              "      <td>2</td>\n",
              "      <td>1</td>\n",
              "      <td>1</td>\n",
              "      <td>0</td>\n",
              "      <td>49</td>\n",
              "      <td>2</td>\n",
              "      <td>0</td>\n",
              "      <td>5.0</td>\n",
              "      <td>26.0</td>\n",
              "      <td>2</td>\n",
              "      <td>...</td>\n",
              "      <td>1</td>\n",
              "      <td>0</td>\n",
              "      <td>1</td>\n",
              "      <td>0</td>\n",
              "      <td>0</td>\n",
              "      <td>0</td>\n",
              "      <td>0</td>\n",
              "      <td>0</td>\n",
              "      <td>0</td>\n",
              "      <td>7</td>\n",
              "    </tr>\n",
              "    <tr>\n",
              "      <th>6</th>\n",
              "      <td>2</td>\n",
              "      <td>1</td>\n",
              "      <td>1</td>\n",
              "      <td>0</td>\n",
              "      <td>49</td>\n",
              "      <td>2</td>\n",
              "      <td>0</td>\n",
              "      <td>5.0</td>\n",
              "      <td>26.0</td>\n",
              "      <td>2</td>\n",
              "      <td>...</td>\n",
              "      <td>1</td>\n",
              "      <td>1</td>\n",
              "      <td>0</td>\n",
              "      <td>0</td>\n",
              "      <td>0</td>\n",
              "      <td>0</td>\n",
              "      <td>0</td>\n",
              "      <td>0</td>\n",
              "      <td>0</td>\n",
              "      <td>7</td>\n",
              "    </tr>\n",
              "  </tbody>\n",
              "</table>\n",
              "<p>5 rows × 38 columns</p>\n",
              "</div>\n",
              "    <div class=\"colab-df-buttons\">\n",
              "\n",
              "  <div class=\"colab-df-container\">\n",
              "    <button class=\"colab-df-convert\" onclick=\"convertToInteractive('df-fd1dda5f-0ce7-4549-8ff7-8410a926d1c5')\"\n",
              "            title=\"Convert this dataframe to an interactive table.\"\n",
              "            style=\"display:none;\">\n",
              "\n",
              "  <svg xmlns=\"http://www.w3.org/2000/svg\" height=\"24px\" viewBox=\"0 -960 960 960\">\n",
              "    <path d=\"M120-120v-720h720v720H120Zm60-500h600v-160H180v160Zm220 220h160v-160H400v160Zm0 220h160v-160H400v160ZM180-400h160v-160H180v160Zm440 0h160v-160H620v160ZM180-180h160v-160H180v160Zm440 0h160v-160H620v160Z\"/>\n",
              "  </svg>\n",
              "    </button>\n",
              "\n",
              "  <style>\n",
              "    .colab-df-container {\n",
              "      display:flex;\n",
              "      gap: 12px;\n",
              "    }\n",
              "\n",
              "    .colab-df-convert {\n",
              "      background-color: #E8F0FE;\n",
              "      border: none;\n",
              "      border-radius: 50%;\n",
              "      cursor: pointer;\n",
              "      display: none;\n",
              "      fill: #1967D2;\n",
              "      height: 32px;\n",
              "      padding: 0 0 0 0;\n",
              "      width: 32px;\n",
              "    }\n",
              "\n",
              "    .colab-df-convert:hover {\n",
              "      background-color: #E2EBFA;\n",
              "      box-shadow: 0px 1px 2px rgba(60, 64, 67, 0.3), 0px 1px 3px 1px rgba(60, 64, 67, 0.15);\n",
              "      fill: #174EA6;\n",
              "    }\n",
              "\n",
              "    .colab-df-buttons div {\n",
              "      margin-bottom: 4px;\n",
              "    }\n",
              "\n",
              "    [theme=dark] .colab-df-convert {\n",
              "      background-color: #3B4455;\n",
              "      fill: #D2E3FC;\n",
              "    }\n",
              "\n",
              "    [theme=dark] .colab-df-convert:hover {\n",
              "      background-color: #434B5C;\n",
              "      box-shadow: 0px 1px 3px 1px rgba(0, 0, 0, 0.15);\n",
              "      filter: drop-shadow(0px 1px 2px rgba(0, 0, 0, 0.3));\n",
              "      fill: #FFFFFF;\n",
              "    }\n",
              "  </style>\n",
              "\n",
              "    <script>\n",
              "      const buttonEl =\n",
              "        document.querySelector('#df-fd1dda5f-0ce7-4549-8ff7-8410a926d1c5 button.colab-df-convert');\n",
              "      buttonEl.style.display =\n",
              "        google.colab.kernel.accessAllowed ? 'block' : 'none';\n",
              "\n",
              "      async function convertToInteractive(key) {\n",
              "        const element = document.querySelector('#df-fd1dda5f-0ce7-4549-8ff7-8410a926d1c5');\n",
              "        const dataTable =\n",
              "          await google.colab.kernel.invokeFunction('convertToInteractive',\n",
              "                                                    [key], {});\n",
              "        if (!dataTable) return;\n",
              "\n",
              "        const docLinkHtml = 'Like what you see? Visit the ' +\n",
              "          '<a target=\"_blank\" href=https://colab.research.google.com/notebooks/data_table.ipynb>data table notebook</a>'\n",
              "          + ' to learn more about interactive tables.';\n",
              "        element.innerHTML = '';\n",
              "        dataTable['output_type'] = 'display_data';\n",
              "        await google.colab.output.renderOutput(dataTable, element);\n",
              "        const docLink = document.createElement('div');\n",
              "        docLink.innerHTML = docLinkHtml;\n",
              "        element.appendChild(docLink);\n",
              "      }\n",
              "    </script>\n",
              "  </div>\n",
              "\n",
              "\n",
              "<div id=\"df-098045bd-ebd7-4bf5-9735-7430ed479be9\">\n",
              "  <button class=\"colab-df-quickchart\" onclick=\"quickchart('df-098045bd-ebd7-4bf5-9735-7430ed479be9')\"\n",
              "            title=\"Suggest charts\"\n",
              "            style=\"display:none;\">\n",
              "\n",
              "<svg xmlns=\"http://www.w3.org/2000/svg\" height=\"24px\"viewBox=\"0 0 24 24\"\n",
              "     width=\"24px\">\n",
              "    <g>\n",
              "        <path d=\"M19 3H5c-1.1 0-2 .9-2 2v14c0 1.1.9 2 2 2h14c1.1 0 2-.9 2-2V5c0-1.1-.9-2-2-2zM9 17H7v-7h2v7zm4 0h-2V7h2v10zm4 0h-2v-4h2v4z\"/>\n",
              "    </g>\n",
              "</svg>\n",
              "  </button>\n",
              "\n",
              "<style>\n",
              "  .colab-df-quickchart {\n",
              "      --bg-color: #E8F0FE;\n",
              "      --fill-color: #1967D2;\n",
              "      --hover-bg-color: #E2EBFA;\n",
              "      --hover-fill-color: #174EA6;\n",
              "      --disabled-fill-color: #AAA;\n",
              "      --disabled-bg-color: #DDD;\n",
              "  }\n",
              "\n",
              "  [theme=dark] .colab-df-quickchart {\n",
              "      --bg-color: #3B4455;\n",
              "      --fill-color: #D2E3FC;\n",
              "      --hover-bg-color: #434B5C;\n",
              "      --hover-fill-color: #FFFFFF;\n",
              "      --disabled-bg-color: #3B4455;\n",
              "      --disabled-fill-color: #666;\n",
              "  }\n",
              "\n",
              "  .colab-df-quickchart {\n",
              "    background-color: var(--bg-color);\n",
              "    border: none;\n",
              "    border-radius: 50%;\n",
              "    cursor: pointer;\n",
              "    display: none;\n",
              "    fill: var(--fill-color);\n",
              "    height: 32px;\n",
              "    padding: 0;\n",
              "    width: 32px;\n",
              "  }\n",
              "\n",
              "  .colab-df-quickchart:hover {\n",
              "    background-color: var(--hover-bg-color);\n",
              "    box-shadow: 0 1px 2px rgba(60, 64, 67, 0.3), 0 1px 3px 1px rgba(60, 64, 67, 0.15);\n",
              "    fill: var(--button-hover-fill-color);\n",
              "  }\n",
              "\n",
              "  .colab-df-quickchart-complete:disabled,\n",
              "  .colab-df-quickchart-complete:disabled:hover {\n",
              "    background-color: var(--disabled-bg-color);\n",
              "    fill: var(--disabled-fill-color);\n",
              "    box-shadow: none;\n",
              "  }\n",
              "\n",
              "  .colab-df-spinner {\n",
              "    border: 2px solid var(--fill-color);\n",
              "    border-color: transparent;\n",
              "    border-bottom-color: var(--fill-color);\n",
              "    animation:\n",
              "      spin 1s steps(1) infinite;\n",
              "  }\n",
              "\n",
              "  @keyframes spin {\n",
              "    0% {\n",
              "      border-color: transparent;\n",
              "      border-bottom-color: var(--fill-color);\n",
              "      border-left-color: var(--fill-color);\n",
              "    }\n",
              "    20% {\n",
              "      border-color: transparent;\n",
              "      border-left-color: var(--fill-color);\n",
              "      border-top-color: var(--fill-color);\n",
              "    }\n",
              "    30% {\n",
              "      border-color: transparent;\n",
              "      border-left-color: var(--fill-color);\n",
              "      border-top-color: var(--fill-color);\n",
              "      border-right-color: var(--fill-color);\n",
              "    }\n",
              "    40% {\n",
              "      border-color: transparent;\n",
              "      border-right-color: var(--fill-color);\n",
              "      border-top-color: var(--fill-color);\n",
              "    }\n",
              "    60% {\n",
              "      border-color: transparent;\n",
              "      border-right-color: var(--fill-color);\n",
              "    }\n",
              "    80% {\n",
              "      border-color: transparent;\n",
              "      border-right-color: var(--fill-color);\n",
              "      border-bottom-color: var(--fill-color);\n",
              "    }\n",
              "    90% {\n",
              "      border-color: transparent;\n",
              "      border-bottom-color: var(--fill-color);\n",
              "    }\n",
              "  }\n",
              "</style>\n",
              "\n",
              "  <script>\n",
              "    async function quickchart(key) {\n",
              "      const quickchartButtonEl =\n",
              "        document.querySelector('#' + key + ' button');\n",
              "      quickchartButtonEl.disabled = true;  // To prevent multiple clicks.\n",
              "      quickchartButtonEl.classList.add('colab-df-spinner');\n",
              "      try {\n",
              "        const charts = await google.colab.kernel.invokeFunction(\n",
              "            'suggestCharts', [key], {});\n",
              "      } catch (error) {\n",
              "        console.error('Error during call to suggestCharts:', error);\n",
              "      }\n",
              "      quickchartButtonEl.classList.remove('colab-df-spinner');\n",
              "      quickchartButtonEl.classList.add('colab-df-quickchart-complete');\n",
              "    }\n",
              "    (() => {\n",
              "      let quickchartButtonEl =\n",
              "        document.querySelector('#df-098045bd-ebd7-4bf5-9735-7430ed479be9 button');\n",
              "      quickchartButtonEl.style.display =\n",
              "        google.colab.kernel.accessAllowed ? 'block' : 'none';\n",
              "    })();\n",
              "  </script>\n",
              "</div>\n",
              "\n",
              "    </div>\n",
              "  </div>\n"
            ],
            "application/vnd.google.colaboratory.intrinsic+json": {
              "type": "dataframe",
              "variable_name": "df_model"
            }
          },
          "metadata": {},
          "execution_count": 129
        }
      ]
    },
    {
      "cell_type": "code",
      "source": [
        "categorical_features = df_model.select_dtypes(include=['category']).columns.tolist()\n",
        "# numeric_features = df_model.select_dtypes(exclude=['category']).columns.tolist()\n",
        "\n",
        "\n",
        "categorical_features"
      ],
      "metadata": {
        "colab": {
          "base_uri": "https://localhost:8080/"
        },
        "id": "9K1jkcC5hIXQ",
        "outputId": "1e1abcd9-2de9-4319-e38e-035577608742"
      },
      "execution_count": null,
      "outputs": [
        {
          "output_type": "execute_result",
          "data": {
            "text/plain": [
              "['checkin_day', 'checkout_day', 'checkin_month']"
            ]
          },
          "metadata": {},
          "execution_count": 130
        }
      ]
    },
    {
      "cell_type": "code",
      "source": [
        "df_model.shape"
      ],
      "metadata": {
        "colab": {
          "base_uri": "https://localhost:8080/"
        },
        "id": "wXq4g_GJN5xq",
        "outputId": "8c2d8323-b29d-4a69-baf3-239f25754edf"
      },
      "execution_count": null,
      "outputs": [
        {
          "output_type": "execute_result",
          "data": {
            "text/plain": [
              "(1633412, 38)"
            ]
          },
          "metadata": {},
          "execution_count": 131
        }
      ]
    },
    {
      "cell_type": "code",
      "source": [
        "# drop rows with NaN values\n",
        "# there should be no more rows dropped\n",
        "df_model = df_model.dropna()\n",
        "\n",
        "df_model.shape"
      ],
      "metadata": {
        "colab": {
          "base_uri": "https://localhost:8080/"
        },
        "id": "LLVjLGYX30Vj",
        "outputId": "0a85290a-7a37-4ddf-e104-32128bacda1f"
      },
      "execution_count": null,
      "outputs": [
        {
          "output_type": "execute_result",
          "data": {
            "text/plain": [
              "(1633412, 38)"
            ]
          },
          "metadata": {},
          "execution_count": 132
        }
      ]
    },
    {
      "cell_type": "code",
      "source": [
        "#### check data before test - train split\n",
        "\n",
        "# are there qids with only one row?\n",
        "# throw out rows where qid is unique - for those ndcg is not possible to calculate\n",
        "# Find counts of each group\n",
        "group_counts = df_model[\"search_id\"].value_counts()\n",
        "unique_groups = group_counts[group_counts == 1].index\n",
        "\n",
        "filtered_df = df_model[~df_model[\"search_id\"].isin(unique_groups)]\n",
        "filtered_df.shape"
      ],
      "metadata": {
        "colab": {
          "base_uri": "https://localhost:8080/"
        },
        "id": "au-ElXio7xJG",
        "outputId": "fd454896-4bd7-42a2-d840-2759bc081502"
      },
      "execution_count": null,
      "outputs": [
        {
          "output_type": "execute_result",
          "data": {
            "text/plain": [
              "(1633131, 38)"
            ]
          },
          "metadata": {},
          "execution_count": 133
        }
      ]
    },
    {
      "cell_type": "code",
      "source": [
        "df_model = filtered_df"
      ],
      "metadata": {
        "id": "_-ECkZQpYeRC"
      },
      "execution_count": null,
      "outputs": []
    },
    {
      "cell_type": "code",
      "source": [
        "### drop property id, should not be used as feature\n",
        "\n",
        "df_model = df_model.drop(columns = \"prop_id\")"
      ],
      "metadata": {
        "id": "WtlnvKWBGV1b"
      },
      "execution_count": null,
      "outputs": []
    },
    {
      "cell_type": "markdown",
      "source": [
        "#### Train test split\n",
        "\n",
        "- check here for qids with only one row/ queries with only zeros in relevance"
      ],
      "metadata": {
        "id": "CRBpRKg7Kx1n"
      }
    },
    {
      "cell_type": "code",
      "source": [
        "from sklearn.model_selection import GroupShuffleSplit\n",
        "\n",
        "def split_by_qid(df, test_size):\n",
        "    gss = GroupShuffleSplit(test_size=test_size, n_splits=1, random_state=42)\n",
        "    ids = df['search_id'].unique()\n",
        "    train_idx, test_idx = next(gss.split(ids, groups=ids))\n",
        "    return df[df['search_id'].isin(ids[train_idx])], df[df['search_id'].isin(ids[test_idx])]\n",
        "\n",
        "#_, temp_df = split_by_qid(df2, test_size=0.2)\n",
        "train_df, test_df = split_by_qid(df_model, test_size=0.3)\n",
        "\n",
        "train_df.shape, test_df.shape"
      ],
      "metadata": {
        "colab": {
          "base_uri": "https://localhost:8080/"
        },
        "id": "5QeV6PzdbTkn",
        "outputId": "a881c2d2-9c7b-4871-82e7-d2d4d6601d18"
      },
      "execution_count": null,
      "outputs": [
        {
          "output_type": "execute_result",
          "data": {
            "text/plain": [
              "((1142054, 37), (491077, 37))"
            ]
          },
          "metadata": {},
          "execution_count": 136
        }
      ]
    },
    {
      "cell_type": "code",
      "source": [
        "# data needs to be ordered by qid for XGBRank function\n",
        "train_df = train_df.sort_values(by = \"search_id\")\n",
        "X_train = train_df.drop(columns = [\"search_id\", \"relevance\"])\n",
        "\n",
        "\n",
        "# feature names for plots later on\n",
        "#features_list = X.columns.tolist()\n",
        "\n",
        "# scale features\n",
        "#X = normalize(X)\n",
        "\n",
        "# relevance label is outcome var\n",
        "y_train = train_df[\"relevance\"]\n",
        "qid_train = train_df[\"search_id\"]"
      ],
      "metadata": {
        "id": "cy6weOYZPHYo"
      },
      "execution_count": null,
      "outputs": []
    },
    {
      "cell_type": "code",
      "source": [
        "X_train.dtypes"
      ],
      "metadata": {
        "colab": {
          "base_uri": "https://localhost:8080/"
        },
        "id": "rla0Ti9HPxnJ",
        "outputId": "def83898-5b6d-4380-b433-2a33fffac83e"
      },
      "execution_count": null,
      "outputs": [
        {
          "output_type": "execute_result",
          "data": {
            "text/plain": [
              "point_of_sale                   int64\n",
              "geo_location_country            int64\n",
              "is_mobile                       int64\n",
              "destination_id                  int64\n",
              "adult_count                     int64\n",
              "child_count                     int64\n",
              "length_of_stay                float64\n",
              "booking_window                float64\n",
              "checkin_day                  category\n",
              "checkout_day                 category\n",
              "review_rating                 float64\n",
              "review_count                  float64\n",
              "star_rating                   float64\n",
              "is_free_cancellation            int64\n",
              "is_drr                          int64\n",
              "price_bucket                  float64\n",
              "AirConditioning                 int64\n",
              "AirportTransfer                 int64\n",
              "Bar                             int64\n",
              "FreeAirportTransportation       int64\n",
              "FreeBreakfast                   int64\n",
              "FreeParking                     int64\n",
              "FreeWiFi                        int64\n",
              "Gym                             int64\n",
              "HighSpeedInternet               int64\n",
              "HotTub                          int64\n",
              "LaundryFacility                 int64\n",
              "Parking                         int64\n",
              "PetsAllowed                     int64\n",
              "PrivatePool                     int64\n",
              "SpaServices                     int64\n",
              "SwimmingPool                    int64\n",
              "WasherDryer                     int64\n",
              "WiFi                            int64\n",
              "checkin_month                category\n",
              "dtype: object"
            ]
          },
          "metadata": {},
          "execution_count": 138
        }
      ]
    },
    {
      "cell_type": "code",
      "source": [
        "# same data format for test data\n",
        "test_df = test_df.sort_values(by = \"search_id\")\n",
        "\n",
        "X_test = test_df.drop(columns = [\"search_id\", \"relevance\"])\n",
        "\n",
        "#X_test = normalize(X_test)\n",
        "\n",
        "y_test = test_df[\"relevance\"]\n",
        "y_test_pred = test_df[[\"relevance\", \"search_id\"]]\n",
        "qid_test = test_df[\"search_id\"]"
      ],
      "metadata": {
        "id": "2PF00IvgPt7y"
      },
      "execution_count": null,
      "outputs": []
    },
    {
      "cell_type": "code",
      "source": [
        "categorical_features = X_train.select_dtypes(include=['category']).columns.tolist()\n",
        "numeric_features = X_train.select_dtypes(exclude=['category']).columns.tolist()\n",
        "\n",
        "# take out destination ID and geo_location_country and point_of_sale from list so it can be encoded separately\n",
        "numeric_features.remove(\"destination_id\")\n",
        "numeric_features.remove(\"geo_location_country\")\n",
        "numeric_features.remove(\"point_of_sale\")\n",
        "\n",
        "\n",
        "categorical_features, numeric_features"
      ],
      "metadata": {
        "colab": {
          "base_uri": "https://localhost:8080/"
        },
        "id": "bhNAAjKgn9EW",
        "outputId": "4a3a4452-c30a-406c-f147-2f6e8455718c"
      },
      "execution_count": null,
      "outputs": [
        {
          "output_type": "execute_result",
          "data": {
            "text/plain": [
              "(['checkin_day', 'checkout_day', 'checkin_month'],\n",
              " ['is_mobile',\n",
              "  'adult_count',\n",
              "  'child_count',\n",
              "  'length_of_stay',\n",
              "  'booking_window',\n",
              "  'review_rating',\n",
              "  'review_count',\n",
              "  'star_rating',\n",
              "  'is_free_cancellation',\n",
              "  'is_drr',\n",
              "  'price_bucket',\n",
              "  'AirConditioning',\n",
              "  'AirportTransfer',\n",
              "  'Bar',\n",
              "  'FreeAirportTransportation',\n",
              "  'FreeBreakfast',\n",
              "  'FreeParking',\n",
              "  'FreeWiFi',\n",
              "  'Gym',\n",
              "  'HighSpeedInternet',\n",
              "  'HotTub',\n",
              "  'LaundryFacility',\n",
              "  'Parking',\n",
              "  'PetsAllowed',\n",
              "  'PrivatePool',\n",
              "  'SpaServices',\n",
              "  'SwimmingPool',\n",
              "  'WasherDryer',\n",
              "  'WiFi'])"
            ]
          },
          "metadata": {},
          "execution_count": 140
        }
      ]
    },
    {
      "cell_type": "markdown",
      "source": [
        "#### Feature pre-processing"
      ],
      "metadata": {
        "id": "BiMIHiTGIS0t"
      }
    },
    {
      "cell_type": "code",
      "source": [
        "!pip install category_encoders"
      ],
      "metadata": {
        "colab": {
          "base_uri": "https://localhost:8080/"
        },
        "id": "AuMqqsIpUmEI",
        "outputId": "bbc5b845-a7ff-48b8-dc28-39c3bbf1f00e"
      },
      "execution_count": null,
      "outputs": [
        {
          "output_type": "stream",
          "name": "stdout",
          "text": [
            "Requirement already satisfied: category_encoders in /usr/local/lib/python3.10/dist-packages (2.6.3)\n",
            "Requirement already satisfied: numpy>=1.14.0 in /usr/local/lib/python3.10/dist-packages (from category_encoders) (1.25.2)\n",
            "Requirement already satisfied: scikit-learn>=0.20.0 in /usr/local/lib/python3.10/dist-packages (from category_encoders) (1.2.2)\n",
            "Requirement already satisfied: scipy>=1.0.0 in /usr/local/lib/python3.10/dist-packages (from category_encoders) (1.11.4)\n",
            "Requirement already satisfied: statsmodels>=0.9.0 in /usr/local/lib/python3.10/dist-packages (from category_encoders) (0.14.2)\n",
            "Requirement already satisfied: pandas>=1.0.5 in /usr/local/lib/python3.10/dist-packages (from category_encoders) (2.0.3)\n",
            "Requirement already satisfied: patsy>=0.5.1 in /usr/local/lib/python3.10/dist-packages (from category_encoders) (0.5.6)\n",
            "Requirement already satisfied: python-dateutil>=2.8.2 in /usr/local/lib/python3.10/dist-packages (from pandas>=1.0.5->category_encoders) (2.8.2)\n",
            "Requirement already satisfied: pytz>=2020.1 in /usr/local/lib/python3.10/dist-packages (from pandas>=1.0.5->category_encoders) (2023.4)\n",
            "Requirement already satisfied: tzdata>=2022.1 in /usr/local/lib/python3.10/dist-packages (from pandas>=1.0.5->category_encoders) (2024.1)\n",
            "Requirement already satisfied: six in /usr/local/lib/python3.10/dist-packages (from patsy>=0.5.1->category_encoders) (1.16.0)\n",
            "Requirement already satisfied: joblib>=1.1.1 in /usr/local/lib/python3.10/dist-packages (from scikit-learn>=0.20.0->category_encoders) (1.4.2)\n",
            "Requirement already satisfied: threadpoolctl>=2.0.0 in /usr/local/lib/python3.10/dist-packages (from scikit-learn>=0.20.0->category_encoders) (3.5.0)\n",
            "Requirement already satisfied: packaging>=21.3 in /usr/local/lib/python3.10/dist-packages (from statsmodels>=0.9.0->category_encoders) (24.1)\n"
          ]
        }
      ]
    },
    {
      "cell_type": "code",
      "source": [
        "import sklearn\n",
        "import category_encoders as ce\n",
        "from sklearn.preprocessing import StandardScaler\n",
        "### encode categorical with high cardinality\n",
        "sklearn.set_config(transform_output=\"pandas\")\n",
        "from category_encoders.target_encoder import TargetEncoder\n",
        "\n"
      ],
      "metadata": {
        "id": "biUiETuoKCDC"
      },
      "execution_count": null,
      "outputs": []
    },
    {
      "cell_type": "code",
      "source": [
        "### encode destination ID and geo_location_country and point_of_sale\n",
        "enc = TargetEncoder(cols=[\"destination_id\", \"geo_location_country\", \"point_of_sale\"]).fit(X_train, y_train)\n",
        "\n",
        "X_train = enc.transform(X_train)\n",
        "X_test = enc.transform(X_test)"
      ],
      "metadata": {
        "id": "8hj_r0OxUxMv"
      },
      "execution_count": null,
      "outputs": []
    },
    {
      "cell_type": "code",
      "source": [
        "X_train.dtypes"
      ],
      "metadata": {
        "colab": {
          "base_uri": "https://localhost:8080/"
        },
        "id": "G9aXbYX1WJJr",
        "outputId": "751a6825-481a-4b4d-ea90-bf4f949291d6"
      },
      "execution_count": null,
      "outputs": [
        {
          "output_type": "execute_result",
          "data": {
            "text/plain": [
              "point_of_sale                 float64\n",
              "geo_location_country          float64\n",
              "is_mobile                       int64\n",
              "destination_id                float64\n",
              "adult_count                     int64\n",
              "child_count                     int64\n",
              "length_of_stay                float64\n",
              "booking_window                float64\n",
              "checkin_day                  category\n",
              "checkout_day                 category\n",
              "review_rating                 float64\n",
              "review_count                  float64\n",
              "star_rating                   float64\n",
              "is_free_cancellation            int64\n",
              "is_drr                          int64\n",
              "price_bucket                  float64\n",
              "AirConditioning                 int64\n",
              "AirportTransfer                 int64\n",
              "Bar                             int64\n",
              "FreeAirportTransportation       int64\n",
              "FreeBreakfast                   int64\n",
              "FreeParking                     int64\n",
              "FreeWiFi                        int64\n",
              "Gym                             int64\n",
              "HighSpeedInternet               int64\n",
              "HotTub                          int64\n",
              "LaundryFacility                 int64\n",
              "Parking                         int64\n",
              "PetsAllowed                     int64\n",
              "PrivatePool                     int64\n",
              "SpaServices                     int64\n",
              "SwimmingPool                    int64\n",
              "WasherDryer                     int64\n",
              "WiFi                            int64\n",
              "checkin_month                category\n",
              "dtype: object"
            ]
          },
          "metadata": {},
          "execution_count": 144
        }
      ]
    },
    {
      "cell_type": "code",
      "source": [
        "# remove ordinal features before scaling of numeric\n",
        "# most binary features are already 0, 1 encoded\n",
        "\n",
        "numeric_features = ['adult_count',\n",
        " 'child_count',\n",
        " 'length_of_stay',\n",
        " 'booking_window',\n",
        " 'review_count']\n",
        "\n",
        "numeric_features, categorical_features"
      ],
      "metadata": {
        "id": "QtvQKSyyhQXJ",
        "colab": {
          "base_uri": "https://localhost:8080/"
        },
        "outputId": "1791704c-62c9-4d5d-ce48-2ff8d4f2c8fa"
      },
      "execution_count": null,
      "outputs": [
        {
          "output_type": "execute_result",
          "data": {
            "text/plain": [
              "(['adult_count',\n",
              "  'child_count',\n",
              "  'length_of_stay',\n",
              "  'booking_window',\n",
              "  'review_count'],\n",
              " ['checkin_day', 'checkout_day', 'checkin_month'])"
            ]
          },
          "metadata": {},
          "execution_count": 145
        }
      ]
    },
    {
      "cell_type": "code",
      "source": [
        "# scale numerical\n",
        "scaler=StandardScaler()\n",
        "X_train[numeric_features] = scaler.fit_transform(X_train[numeric_features])\n",
        "X_test[numeric_features] = scaler.transform(X_test[numeric_features])"
      ],
      "metadata": {
        "id": "L5bdqyul33NQ"
      },
      "execution_count": null,
      "outputs": []
    },
    {
      "cell_type": "code",
      "source": [
        "# create dummies for categorical\n",
        "\n",
        "X_train = pd.get_dummies(X_train, columns=categorical_features)\n",
        "X_test = pd.get_dummies(X_test, columns=categorical_features)"
      ],
      "metadata": {
        "id": "PCRGE20rhTvE"
      },
      "execution_count": null,
      "outputs": []
    },
    {
      "cell_type": "code",
      "source": [
        "X_train.head()"
      ],
      "metadata": {
        "colab": {
          "base_uri": "https://localhost:8080/",
          "height": 255
        },
        "id": "xyGezmGhhWan",
        "outputId": "cedda225-1d5b-47e4-9430-7ada1d8b87bf"
      },
      "execution_count": null,
      "outputs": [
        {
          "output_type": "execute_result",
          "data": {
            "text/plain": [
              "    point_of_sale  geo_location_country  is_mobile  destination_id  \\\n",
              "0        0.072653              0.073411          0        0.060241   \n",
              "27       0.072653              0.073411          0        0.060241   \n",
              "25       0.072653              0.073411          0        0.060241   \n",
              "24       0.072653              0.073411          0        0.060241   \n",
              "23       0.072653              0.073411          0        0.060241   \n",
              "\n",
              "    adult_count  child_count  length_of_stay  booking_window  review_rating  \\\n",
              "0     -0.213174    -0.346087        0.856117       -0.242449            4.0   \n",
              "27    -0.213174    -0.346087        0.856117       -0.242449            5.0   \n",
              "25    -0.213174    -0.346087        0.856117       -0.242449            4.0   \n",
              "24    -0.213174    -0.346087        0.856117       -0.242449            5.0   \n",
              "23    -0.213174    -0.346087        0.856117       -0.242449            4.0   \n",
              "\n",
              "    review_count  ...  checkin_month_3  checkin_month_4  checkin_month_5  \\\n",
              "0      -0.043666  ...            False            False            False   \n",
              "27     -0.248428  ...            False            False            False   \n",
              "25     -0.092418  ...            False            False            False   \n",
              "24      0.005087  ...            False            False            False   \n",
              "23     -0.131421  ...            False            False            False   \n",
              "\n",
              "    checkin_month_6  checkin_month_7  checkin_month_8  checkin_month_9  \\\n",
              "0             False             True            False            False   \n",
              "27            False             True            False            False   \n",
              "25            False             True            False            False   \n",
              "24            False             True            False            False   \n",
              "23            False             True            False            False   \n",
              "\n",
              "    checkin_month_10  checkin_month_11  checkin_month_12  \n",
              "0              False             False             False  \n",
              "27             False             False             False  \n",
              "25             False             False             False  \n",
              "24             False             False             False  \n",
              "23             False             False             False  \n",
              "\n",
              "[5 rows x 58 columns]"
            ],
            "text/html": [
              "\n",
              "  <div id=\"df-91f99061-5acf-4fa1-a92f-301fc233bb80\" class=\"colab-df-container\">\n",
              "    <div>\n",
              "<style scoped>\n",
              "    .dataframe tbody tr th:only-of-type {\n",
              "        vertical-align: middle;\n",
              "    }\n",
              "\n",
              "    .dataframe tbody tr th {\n",
              "        vertical-align: top;\n",
              "    }\n",
              "\n",
              "    .dataframe thead th {\n",
              "        text-align: right;\n",
              "    }\n",
              "</style>\n",
              "<table border=\"1\" class=\"dataframe\">\n",
              "  <thead>\n",
              "    <tr style=\"text-align: right;\">\n",
              "      <th></th>\n",
              "      <th>point_of_sale</th>\n",
              "      <th>geo_location_country</th>\n",
              "      <th>is_mobile</th>\n",
              "      <th>destination_id</th>\n",
              "      <th>adult_count</th>\n",
              "      <th>child_count</th>\n",
              "      <th>length_of_stay</th>\n",
              "      <th>booking_window</th>\n",
              "      <th>review_rating</th>\n",
              "      <th>review_count</th>\n",
              "      <th>...</th>\n",
              "      <th>checkin_month_3</th>\n",
              "      <th>checkin_month_4</th>\n",
              "      <th>checkin_month_5</th>\n",
              "      <th>checkin_month_6</th>\n",
              "      <th>checkin_month_7</th>\n",
              "      <th>checkin_month_8</th>\n",
              "      <th>checkin_month_9</th>\n",
              "      <th>checkin_month_10</th>\n",
              "      <th>checkin_month_11</th>\n",
              "      <th>checkin_month_12</th>\n",
              "    </tr>\n",
              "  </thead>\n",
              "  <tbody>\n",
              "    <tr>\n",
              "      <th>0</th>\n",
              "      <td>0.072653</td>\n",
              "      <td>0.073411</td>\n",
              "      <td>0</td>\n",
              "      <td>0.060241</td>\n",
              "      <td>-0.213174</td>\n",
              "      <td>-0.346087</td>\n",
              "      <td>0.856117</td>\n",
              "      <td>-0.242449</td>\n",
              "      <td>4.0</td>\n",
              "      <td>-0.043666</td>\n",
              "      <td>...</td>\n",
              "      <td>False</td>\n",
              "      <td>False</td>\n",
              "      <td>False</td>\n",
              "      <td>False</td>\n",
              "      <td>True</td>\n",
              "      <td>False</td>\n",
              "      <td>False</td>\n",
              "      <td>False</td>\n",
              "      <td>False</td>\n",
              "      <td>False</td>\n",
              "    </tr>\n",
              "    <tr>\n",
              "      <th>27</th>\n",
              "      <td>0.072653</td>\n",
              "      <td>0.073411</td>\n",
              "      <td>0</td>\n",
              "      <td>0.060241</td>\n",
              "      <td>-0.213174</td>\n",
              "      <td>-0.346087</td>\n",
              "      <td>0.856117</td>\n",
              "      <td>-0.242449</td>\n",
              "      <td>5.0</td>\n",
              "      <td>-0.248428</td>\n",
              "      <td>...</td>\n",
              "      <td>False</td>\n",
              "      <td>False</td>\n",
              "      <td>False</td>\n",
              "      <td>False</td>\n",
              "      <td>True</td>\n",
              "      <td>False</td>\n",
              "      <td>False</td>\n",
              "      <td>False</td>\n",
              "      <td>False</td>\n",
              "      <td>False</td>\n",
              "    </tr>\n",
              "    <tr>\n",
              "      <th>25</th>\n",
              "      <td>0.072653</td>\n",
              "      <td>0.073411</td>\n",
              "      <td>0</td>\n",
              "      <td>0.060241</td>\n",
              "      <td>-0.213174</td>\n",
              "      <td>-0.346087</td>\n",
              "      <td>0.856117</td>\n",
              "      <td>-0.242449</td>\n",
              "      <td>4.0</td>\n",
              "      <td>-0.092418</td>\n",
              "      <td>...</td>\n",
              "      <td>False</td>\n",
              "      <td>False</td>\n",
              "      <td>False</td>\n",
              "      <td>False</td>\n",
              "      <td>True</td>\n",
              "      <td>False</td>\n",
              "      <td>False</td>\n",
              "      <td>False</td>\n",
              "      <td>False</td>\n",
              "      <td>False</td>\n",
              "    </tr>\n",
              "    <tr>\n",
              "      <th>24</th>\n",
              "      <td>0.072653</td>\n",
              "      <td>0.073411</td>\n",
              "      <td>0</td>\n",
              "      <td>0.060241</td>\n",
              "      <td>-0.213174</td>\n",
              "      <td>-0.346087</td>\n",
              "      <td>0.856117</td>\n",
              "      <td>-0.242449</td>\n",
              "      <td>5.0</td>\n",
              "      <td>0.005087</td>\n",
              "      <td>...</td>\n",
              "      <td>False</td>\n",
              "      <td>False</td>\n",
              "      <td>False</td>\n",
              "      <td>False</td>\n",
              "      <td>True</td>\n",
              "      <td>False</td>\n",
              "      <td>False</td>\n",
              "      <td>False</td>\n",
              "      <td>False</td>\n",
              "      <td>False</td>\n",
              "    </tr>\n",
              "    <tr>\n",
              "      <th>23</th>\n",
              "      <td>0.072653</td>\n",
              "      <td>0.073411</td>\n",
              "      <td>0</td>\n",
              "      <td>0.060241</td>\n",
              "      <td>-0.213174</td>\n",
              "      <td>-0.346087</td>\n",
              "      <td>0.856117</td>\n",
              "      <td>-0.242449</td>\n",
              "      <td>4.0</td>\n",
              "      <td>-0.131421</td>\n",
              "      <td>...</td>\n",
              "      <td>False</td>\n",
              "      <td>False</td>\n",
              "      <td>False</td>\n",
              "      <td>False</td>\n",
              "      <td>True</td>\n",
              "      <td>False</td>\n",
              "      <td>False</td>\n",
              "      <td>False</td>\n",
              "      <td>False</td>\n",
              "      <td>False</td>\n",
              "    </tr>\n",
              "  </tbody>\n",
              "</table>\n",
              "<p>5 rows × 58 columns</p>\n",
              "</div>\n",
              "    <div class=\"colab-df-buttons\">\n",
              "\n",
              "  <div class=\"colab-df-container\">\n",
              "    <button class=\"colab-df-convert\" onclick=\"convertToInteractive('df-91f99061-5acf-4fa1-a92f-301fc233bb80')\"\n",
              "            title=\"Convert this dataframe to an interactive table.\"\n",
              "            style=\"display:none;\">\n",
              "\n",
              "  <svg xmlns=\"http://www.w3.org/2000/svg\" height=\"24px\" viewBox=\"0 -960 960 960\">\n",
              "    <path d=\"M120-120v-720h720v720H120Zm60-500h600v-160H180v160Zm220 220h160v-160H400v160Zm0 220h160v-160H400v160ZM180-400h160v-160H180v160Zm440 0h160v-160H620v160ZM180-180h160v-160H180v160Zm440 0h160v-160H620v160Z\"/>\n",
              "  </svg>\n",
              "    </button>\n",
              "\n",
              "  <style>\n",
              "    .colab-df-container {\n",
              "      display:flex;\n",
              "      gap: 12px;\n",
              "    }\n",
              "\n",
              "    .colab-df-convert {\n",
              "      background-color: #E8F0FE;\n",
              "      border: none;\n",
              "      border-radius: 50%;\n",
              "      cursor: pointer;\n",
              "      display: none;\n",
              "      fill: #1967D2;\n",
              "      height: 32px;\n",
              "      padding: 0 0 0 0;\n",
              "      width: 32px;\n",
              "    }\n",
              "\n",
              "    .colab-df-convert:hover {\n",
              "      background-color: #E2EBFA;\n",
              "      box-shadow: 0px 1px 2px rgba(60, 64, 67, 0.3), 0px 1px 3px 1px rgba(60, 64, 67, 0.15);\n",
              "      fill: #174EA6;\n",
              "    }\n",
              "\n",
              "    .colab-df-buttons div {\n",
              "      margin-bottom: 4px;\n",
              "    }\n",
              "\n",
              "    [theme=dark] .colab-df-convert {\n",
              "      background-color: #3B4455;\n",
              "      fill: #D2E3FC;\n",
              "    }\n",
              "\n",
              "    [theme=dark] .colab-df-convert:hover {\n",
              "      background-color: #434B5C;\n",
              "      box-shadow: 0px 1px 3px 1px rgba(0, 0, 0, 0.15);\n",
              "      filter: drop-shadow(0px 1px 2px rgba(0, 0, 0, 0.3));\n",
              "      fill: #FFFFFF;\n",
              "    }\n",
              "  </style>\n",
              "\n",
              "    <script>\n",
              "      const buttonEl =\n",
              "        document.querySelector('#df-91f99061-5acf-4fa1-a92f-301fc233bb80 button.colab-df-convert');\n",
              "      buttonEl.style.display =\n",
              "        google.colab.kernel.accessAllowed ? 'block' : 'none';\n",
              "\n",
              "      async function convertToInteractive(key) {\n",
              "        const element = document.querySelector('#df-91f99061-5acf-4fa1-a92f-301fc233bb80');\n",
              "        const dataTable =\n",
              "          await google.colab.kernel.invokeFunction('convertToInteractive',\n",
              "                                                    [key], {});\n",
              "        if (!dataTable) return;\n",
              "\n",
              "        const docLinkHtml = 'Like what you see? Visit the ' +\n",
              "          '<a target=\"_blank\" href=https://colab.research.google.com/notebooks/data_table.ipynb>data table notebook</a>'\n",
              "          + ' to learn more about interactive tables.';\n",
              "        element.innerHTML = '';\n",
              "        dataTable['output_type'] = 'display_data';\n",
              "        await google.colab.output.renderOutput(dataTable, element);\n",
              "        const docLink = document.createElement('div');\n",
              "        docLink.innerHTML = docLinkHtml;\n",
              "        element.appendChild(docLink);\n",
              "      }\n",
              "    </script>\n",
              "  </div>\n",
              "\n",
              "\n",
              "<div id=\"df-605e4479-dd0e-4dc8-98b9-a85d9eb08781\">\n",
              "  <button class=\"colab-df-quickchart\" onclick=\"quickchart('df-605e4479-dd0e-4dc8-98b9-a85d9eb08781')\"\n",
              "            title=\"Suggest charts\"\n",
              "            style=\"display:none;\">\n",
              "\n",
              "<svg xmlns=\"http://www.w3.org/2000/svg\" height=\"24px\"viewBox=\"0 0 24 24\"\n",
              "     width=\"24px\">\n",
              "    <g>\n",
              "        <path d=\"M19 3H5c-1.1 0-2 .9-2 2v14c0 1.1.9 2 2 2h14c1.1 0 2-.9 2-2V5c0-1.1-.9-2-2-2zM9 17H7v-7h2v7zm4 0h-2V7h2v10zm4 0h-2v-4h2v4z\"/>\n",
              "    </g>\n",
              "</svg>\n",
              "  </button>\n",
              "\n",
              "<style>\n",
              "  .colab-df-quickchart {\n",
              "      --bg-color: #E8F0FE;\n",
              "      --fill-color: #1967D2;\n",
              "      --hover-bg-color: #E2EBFA;\n",
              "      --hover-fill-color: #174EA6;\n",
              "      --disabled-fill-color: #AAA;\n",
              "      --disabled-bg-color: #DDD;\n",
              "  }\n",
              "\n",
              "  [theme=dark] .colab-df-quickchart {\n",
              "      --bg-color: #3B4455;\n",
              "      --fill-color: #D2E3FC;\n",
              "      --hover-bg-color: #434B5C;\n",
              "      --hover-fill-color: #FFFFFF;\n",
              "      --disabled-bg-color: #3B4455;\n",
              "      --disabled-fill-color: #666;\n",
              "  }\n",
              "\n",
              "  .colab-df-quickchart {\n",
              "    background-color: var(--bg-color);\n",
              "    border: none;\n",
              "    border-radius: 50%;\n",
              "    cursor: pointer;\n",
              "    display: none;\n",
              "    fill: var(--fill-color);\n",
              "    height: 32px;\n",
              "    padding: 0;\n",
              "    width: 32px;\n",
              "  }\n",
              "\n",
              "  .colab-df-quickchart:hover {\n",
              "    background-color: var(--hover-bg-color);\n",
              "    box-shadow: 0 1px 2px rgba(60, 64, 67, 0.3), 0 1px 3px 1px rgba(60, 64, 67, 0.15);\n",
              "    fill: var(--button-hover-fill-color);\n",
              "  }\n",
              "\n",
              "  .colab-df-quickchart-complete:disabled,\n",
              "  .colab-df-quickchart-complete:disabled:hover {\n",
              "    background-color: var(--disabled-bg-color);\n",
              "    fill: var(--disabled-fill-color);\n",
              "    box-shadow: none;\n",
              "  }\n",
              "\n",
              "  .colab-df-spinner {\n",
              "    border: 2px solid var(--fill-color);\n",
              "    border-color: transparent;\n",
              "    border-bottom-color: var(--fill-color);\n",
              "    animation:\n",
              "      spin 1s steps(1) infinite;\n",
              "  }\n",
              "\n",
              "  @keyframes spin {\n",
              "    0% {\n",
              "      border-color: transparent;\n",
              "      border-bottom-color: var(--fill-color);\n",
              "      border-left-color: var(--fill-color);\n",
              "    }\n",
              "    20% {\n",
              "      border-color: transparent;\n",
              "      border-left-color: var(--fill-color);\n",
              "      border-top-color: var(--fill-color);\n",
              "    }\n",
              "    30% {\n",
              "      border-color: transparent;\n",
              "      border-left-color: var(--fill-color);\n",
              "      border-top-color: var(--fill-color);\n",
              "      border-right-color: var(--fill-color);\n",
              "    }\n",
              "    40% {\n",
              "      border-color: transparent;\n",
              "      border-right-color: var(--fill-color);\n",
              "      border-top-color: var(--fill-color);\n",
              "    }\n",
              "    60% {\n",
              "      border-color: transparent;\n",
              "      border-right-color: var(--fill-color);\n",
              "    }\n",
              "    80% {\n",
              "      border-color: transparent;\n",
              "      border-right-color: var(--fill-color);\n",
              "      border-bottom-color: var(--fill-color);\n",
              "    }\n",
              "    90% {\n",
              "      border-color: transparent;\n",
              "      border-bottom-color: var(--fill-color);\n",
              "    }\n",
              "  }\n",
              "</style>\n",
              "\n",
              "  <script>\n",
              "    async function quickchart(key) {\n",
              "      const quickchartButtonEl =\n",
              "        document.querySelector('#' + key + ' button');\n",
              "      quickchartButtonEl.disabled = true;  // To prevent multiple clicks.\n",
              "      quickchartButtonEl.classList.add('colab-df-spinner');\n",
              "      try {\n",
              "        const charts = await google.colab.kernel.invokeFunction(\n",
              "            'suggestCharts', [key], {});\n",
              "      } catch (error) {\n",
              "        console.error('Error during call to suggestCharts:', error);\n",
              "      }\n",
              "      quickchartButtonEl.classList.remove('colab-df-spinner');\n",
              "      quickchartButtonEl.classList.add('colab-df-quickchart-complete');\n",
              "    }\n",
              "    (() => {\n",
              "      let quickchartButtonEl =\n",
              "        document.querySelector('#df-605e4479-dd0e-4dc8-98b9-a85d9eb08781 button');\n",
              "      quickchartButtonEl.style.display =\n",
              "        google.colab.kernel.accessAllowed ? 'block' : 'none';\n",
              "    })();\n",
              "  </script>\n",
              "</div>\n",
              "\n",
              "    </div>\n",
              "  </div>\n"
            ],
            "application/vnd.google.colaboratory.intrinsic+json": {
              "type": "dataframe",
              "variable_name": "X_train"
            }
          },
          "metadata": {},
          "execution_count": 148
        }
      ]
    },
    {
      "cell_type": "code",
      "source": [
        "X_train.dtypes"
      ],
      "metadata": {
        "id": "-L_Kpy7HUYub",
        "colab": {
          "base_uri": "https://localhost:8080/"
        },
        "outputId": "6aa87812-5409-4243-f664-d86c5309316b"
      },
      "execution_count": null,
      "outputs": [
        {
          "output_type": "execute_result",
          "data": {
            "text/plain": [
              "point_of_sale                float64\n",
              "geo_location_country         float64\n",
              "is_mobile                      int64\n",
              "destination_id               float64\n",
              "adult_count                  float64\n",
              "child_count                  float64\n",
              "length_of_stay               float64\n",
              "booking_window               float64\n",
              "review_rating                float64\n",
              "review_count                 float64\n",
              "star_rating                  float64\n",
              "is_free_cancellation           int64\n",
              "is_drr                         int64\n",
              "price_bucket                 float64\n",
              "AirConditioning                int64\n",
              "AirportTransfer                int64\n",
              "Bar                            int64\n",
              "FreeAirportTransportation      int64\n",
              "FreeBreakfast                  int64\n",
              "FreeParking                    int64\n",
              "FreeWiFi                       int64\n",
              "Gym                            int64\n",
              "HighSpeedInternet              int64\n",
              "HotTub                         int64\n",
              "LaundryFacility                int64\n",
              "Parking                        int64\n",
              "PetsAllowed                    int64\n",
              "PrivatePool                    int64\n",
              "SpaServices                    int64\n",
              "SwimmingPool                   int64\n",
              "WasherDryer                    int64\n",
              "WiFi                           int64\n",
              "checkin_day_0                   bool\n",
              "checkin_day_1                   bool\n",
              "checkin_day_2                   bool\n",
              "checkin_day_3                   bool\n",
              "checkin_day_4                   bool\n",
              "checkin_day_5                   bool\n",
              "checkin_day_6                   bool\n",
              "checkout_day_0                  bool\n",
              "checkout_day_1                  bool\n",
              "checkout_day_2                  bool\n",
              "checkout_day_3                  bool\n",
              "checkout_day_4                  bool\n",
              "checkout_day_5                  bool\n",
              "checkout_day_6                  bool\n",
              "checkin_month_1                 bool\n",
              "checkin_month_2                 bool\n",
              "checkin_month_3                 bool\n",
              "checkin_month_4                 bool\n",
              "checkin_month_5                 bool\n",
              "checkin_month_6                 bool\n",
              "checkin_month_7                 bool\n",
              "checkin_month_8                 bool\n",
              "checkin_month_9                 bool\n",
              "checkin_month_10                bool\n",
              "checkin_month_11                bool\n",
              "checkin_month_12                bool\n",
              "dtype: object"
            ]
          },
          "metadata": {},
          "execution_count": 149
        }
      ]
    },
    {
      "cell_type": "code",
      "source": [
        "#len(group_train)"
      ],
      "metadata": {
        "id": "2rlNaNUk9d1Z"
      },
      "execution_count": null,
      "outputs": []
    },
    {
      "cell_type": "code",
      "source": [
        "import xgboost as xgb"
      ],
      "metadata": {
        "id": "v7_sUpqeOm19"
      },
      "execution_count": null,
      "outputs": []
    },
    {
      "cell_type": "code",
      "source": [
        "# use the examplary code from xgboost documentation as a starting point:\n",
        "# https://xgboost.readthedocs.io/en/stable/python/examples/learning_to_rank.html#sphx-glr-python-examples-learning-to-rank-py\n",
        "# specifically for click data\n",
        "\n",
        "ranker = xgb.XGBRanker(\n",
        "        n_estimators=100, #512\n",
        "        tree_method=\"hist\",\n",
        "        device=\"cuda\",\n",
        "        learning_rate=0.01,\n",
        "        reg_lambda=0.05,\n",
        "        subsample=0.8,\n",
        "        sampling_method=\"gradient_based\",\n",
        "        # LTR specific parameters\n",
        "        objective=\"rank:ndcg\",\n",
        "        # - Enable bias estimation\n",
        "        lambdarank_unbiased=True,\n",
        "        # - normalization (1 / (norm + 1))\n",
        "        lambdarank_bias_norm=1,\n",
        "        # - Focus on the top 12 documents\n",
        "        lambdarank_num_pair_per_sample=12,\n",
        "        lambdarank_pair_method=\"topk\",\n",
        "        ndcg_exp_gain=True,\n",
        "        eval_metric=[\"ndcg@1\", \"ndcg@5\", \"ndcg@10\", \"ndcg@20\", \"ndcg@30\"],\n",
        "        lambdarank_normalization = False\n",
        " )"
      ],
      "metadata": {
        "id": "OO1JJgMymL15"
      },
      "execution_count": null,
      "outputs": []
    },
    {
      "cell_type": "code",
      "source": [
        "# ranker = xgb.XGBRanker(\n",
        "#        n_estimators=1000,\n",
        "#        learning_rate=0.1,\n",
        "#        objective='rank:pairwise', # this is RankNet loss or the pairwise logistic loss\n",
        "#        lambdarank_num_pair_per_sample=25,\n",
        "#        lambdarank_pair_method=\"topk\",\n",
        "#        reg_lambda=0.05,\n",
        "#        # verbose = True,\n",
        "#        tree_method = 'hist',\n",
        "#        eval_metric = 'ndcg',\n",
        "#        eta = 0.3\n",
        "#    )\n",
        "\n"
      ],
      "metadata": {
        "id": "uUgklupOOt7L"
      },
      "execution_count": null,
      "outputs": []
    },
    {
      "cell_type": "code",
      "source": [
        "# was used to check if there are heavily correlated features\n",
        "\n",
        "# corr = X_train[[\"point_of_sale\", \"geo_location_country\", \"is_mobile\",\n",
        "#                \"destination_id\", \"adult_count\", \"child_count\", \"length_of_stay\",\n",
        "#                \"booking_window\", \"review_rating\", \"review_count\", \"star_rating\",\n",
        "#                \"is_free_cancellation\", \"is_drr\", \"price_bucket\"]].corr(numeric_only=True)"
      ],
      "metadata": {
        "id": "Yo2J79r1Fbe_"
      },
      "execution_count": null,
      "outputs": []
    },
    {
      "cell_type": "code",
      "source": [
        "import seaborn as sns\n",
        "# sns.heatmap(corr)"
      ],
      "metadata": {
        "id": "I3r6N5SewfIM"
      },
      "execution_count": null,
      "outputs": []
    },
    {
      "cell_type": "code",
      "source": [
        "# fit on training data\n",
        "\n",
        "ranker.fit(\n",
        "    X_train,\n",
        "    y_train,\n",
        "    qid=qid_train,\n",
        "    eval_set=[(X_test, y_test)],\n",
        "    eval_qid=[qid_test],\n",
        "    verbose = True,\n",
        "    early_stopping_rounds = 15\n",
        ")"
      ],
      "metadata": {
        "id": "IMuLMWlQ7FjV",
        "colab": {
          "base_uri": "https://localhost:8080/",
          "height": 1000
        },
        "outputId": "41ead0d2-2ef1-4470-ca20-4e288e340300"
      },
      "execution_count": null,
      "outputs": [
        {
          "output_type": "stream",
          "name": "stderr",
          "text": [
            "/usr/local/lib/python3.10/dist-packages/xgboost/sklearn.py:889: UserWarning: `early_stopping_rounds` in `fit` method is deprecated for better compatibility with scikit-learn, use `early_stopping_rounds` in constructor or`set_params` instead.\n",
            "  warnings.warn(\n",
            "/usr/local/lib/python3.10/dist-packages/xgboost/core.py:160: UserWarning: [12:21:24] WARNING: /workspace/src/learner.cc:742: \n",
            "Parameters: { \"lambdarank_normalization\" } are not used.\n",
            "\n",
            "  warnings.warn(smsg, UserWarning)\n"
          ]
        },
        {
          "output_type": "stream",
          "name": "stdout",
          "text": [
            "[0]\tvalidation_0-ndcg@1:0.16074\tvalidation_0-ndcg@5:0.27037\tvalidation_0-ndcg@10:0.34229\tvalidation_0-ndcg@20:0.42182\tvalidation_0-ndcg@30:0.45360\n",
            "[1]\tvalidation_0-ndcg@1:0.16649\tvalidation_0-ndcg@5:0.27450\tvalidation_0-ndcg@10:0.34817\tvalidation_0-ndcg@20:0.42848\tvalidation_0-ndcg@30:0.45800\n",
            "[2]\tvalidation_0-ndcg@1:0.18196\tvalidation_0-ndcg@5:0.29216\tvalidation_0-ndcg@10:0.36545\tvalidation_0-ndcg@20:0.44180\tvalidation_0-ndcg@30:0.47013\n",
            "[3]\tvalidation_0-ndcg@1:0.18813\tvalidation_0-ndcg@5:0.30151\tvalidation_0-ndcg@10:0.37311\tvalidation_0-ndcg@20:0.44898\tvalidation_0-ndcg@30:0.47600\n",
            "[4]\tvalidation_0-ndcg@1:0.19208\tvalidation_0-ndcg@5:0.30472\tvalidation_0-ndcg@10:0.37727\tvalidation_0-ndcg@20:0.45280\tvalidation_0-ndcg@30:0.47914\n",
            "[5]\tvalidation_0-ndcg@1:0.19389\tvalidation_0-ndcg@5:0.30677\tvalidation_0-ndcg@10:0.38095\tvalidation_0-ndcg@20:0.45556\tvalidation_0-ndcg@30:0.48131\n",
            "[6]\tvalidation_0-ndcg@1:0.19660\tvalidation_0-ndcg@5:0.31116\tvalidation_0-ndcg@10:0.38439\tvalidation_0-ndcg@20:0.45798\tvalidation_0-ndcg@30:0.48365\n",
            "[7]\tvalidation_0-ndcg@1:0.19814\tvalidation_0-ndcg@5:0.31272\tvalidation_0-ndcg@10:0.38559\tvalidation_0-ndcg@20:0.45940\tvalidation_0-ndcg@30:0.48478\n",
            "[8]\tvalidation_0-ndcg@1:0.19932\tvalidation_0-ndcg@5:0.31586\tvalidation_0-ndcg@10:0.38768\tvalidation_0-ndcg@20:0.46133\tvalidation_0-ndcg@30:0.48659\n",
            "[9]\tvalidation_0-ndcg@1:0.20200\tvalidation_0-ndcg@5:0.31720\tvalidation_0-ndcg@10:0.38869\tvalidation_0-ndcg@20:0.46266\tvalidation_0-ndcg@30:0.48766\n",
            "[10]\tvalidation_0-ndcg@1:0.20235\tvalidation_0-ndcg@5:0.31853\tvalidation_0-ndcg@10:0.38861\tvalidation_0-ndcg@20:0.46258\tvalidation_0-ndcg@30:0.48775\n",
            "[11]\tvalidation_0-ndcg@1:0.20319\tvalidation_0-ndcg@5:0.31875\tvalidation_0-ndcg@10:0.38928\tvalidation_0-ndcg@20:0.46292\tvalidation_0-ndcg@30:0.48813\n",
            "[12]\tvalidation_0-ndcg@1:0.20348\tvalidation_0-ndcg@5:0.31899\tvalidation_0-ndcg@10:0.38964\tvalidation_0-ndcg@20:0.46336\tvalidation_0-ndcg@30:0.48850\n",
            "[13]\tvalidation_0-ndcg@1:0.20526\tvalidation_0-ndcg@5:0.32038\tvalidation_0-ndcg@10:0.39088\tvalidation_0-ndcg@20:0.46476\tvalidation_0-ndcg@30:0.48967\n",
            "[14]\tvalidation_0-ndcg@1:0.20571\tvalidation_0-ndcg@5:0.32186\tvalidation_0-ndcg@10:0.39217\tvalidation_0-ndcg@20:0.46562\tvalidation_0-ndcg@30:0.49042\n",
            "[15]\tvalidation_0-ndcg@1:0.20810\tvalidation_0-ndcg@5:0.32382\tvalidation_0-ndcg@10:0.39331\tvalidation_0-ndcg@20:0.46677\tvalidation_0-ndcg@30:0.49175\n",
            "[16]\tvalidation_0-ndcg@1:0.20768\tvalidation_0-ndcg@5:0.32460\tvalidation_0-ndcg@10:0.39374\tvalidation_0-ndcg@20:0.46707\tvalidation_0-ndcg@30:0.49193\n",
            "[17]\tvalidation_0-ndcg@1:0.20812\tvalidation_0-ndcg@5:0.32478\tvalidation_0-ndcg@10:0.39416\tvalidation_0-ndcg@20:0.46762\tvalidation_0-ndcg@30:0.49237\n",
            "[18]\tvalidation_0-ndcg@1:0.20729\tvalidation_0-ndcg@5:0.32577\tvalidation_0-ndcg@10:0.39438\tvalidation_0-ndcg@20:0.46801\tvalidation_0-ndcg@30:0.49270\n",
            "[19]\tvalidation_0-ndcg@1:0.20778\tvalidation_0-ndcg@5:0.32552\tvalidation_0-ndcg@10:0.39449\tvalidation_0-ndcg@20:0.46825\tvalidation_0-ndcg@30:0.49296\n",
            "[20]\tvalidation_0-ndcg@1:0.20963\tvalidation_0-ndcg@5:0.32688\tvalidation_0-ndcg@10:0.39568\tvalidation_0-ndcg@20:0.46920\tvalidation_0-ndcg@30:0.49398\n",
            "[21]\tvalidation_0-ndcg@1:0.20928\tvalidation_0-ndcg@5:0.32748\tvalidation_0-ndcg@10:0.39623\tvalidation_0-ndcg@20:0.46980\tvalidation_0-ndcg@30:0.49428\n",
            "[22]\tvalidation_0-ndcg@1:0.20965\tvalidation_0-ndcg@5:0.32856\tvalidation_0-ndcg@10:0.39704\tvalidation_0-ndcg@20:0.47024\tvalidation_0-ndcg@30:0.49456\n",
            "[23]\tvalidation_0-ndcg@1:0.20926\tvalidation_0-ndcg@5:0.32856\tvalidation_0-ndcg@10:0.39704\tvalidation_0-ndcg@20:0.46993\tvalidation_0-ndcg@30:0.49447\n",
            "[24]\tvalidation_0-ndcg@1:0.21018\tvalidation_0-ndcg@5:0.32872\tvalidation_0-ndcg@10:0.39741\tvalidation_0-ndcg@20:0.47042\tvalidation_0-ndcg@30:0.49476\n",
            "[25]\tvalidation_0-ndcg@1:0.21028\tvalidation_0-ndcg@5:0.32869\tvalidation_0-ndcg@10:0.39765\tvalidation_0-ndcg@20:0.47059\tvalidation_0-ndcg@30:0.49488\n",
            "[26]\tvalidation_0-ndcg@1:0.21060\tvalidation_0-ndcg@5:0.32910\tvalidation_0-ndcg@10:0.39775\tvalidation_0-ndcg@20:0.47088\tvalidation_0-ndcg@30:0.49506\n",
            "[27]\tvalidation_0-ndcg@1:0.21220\tvalidation_0-ndcg@5:0.32984\tvalidation_0-ndcg@10:0.39850\tvalidation_0-ndcg@20:0.47162\tvalidation_0-ndcg@30:0.49579\n",
            "[28]\tvalidation_0-ndcg@1:0.21273\tvalidation_0-ndcg@5:0.33028\tvalidation_0-ndcg@10:0.39914\tvalidation_0-ndcg@20:0.47216\tvalidation_0-ndcg@30:0.49619\n",
            "[29]\tvalidation_0-ndcg@1:0.21214\tvalidation_0-ndcg@5:0.33011\tvalidation_0-ndcg@10:0.39882\tvalidation_0-ndcg@20:0.47201\tvalidation_0-ndcg@30:0.49610\n",
            "[30]\tvalidation_0-ndcg@1:0.21239\tvalidation_0-ndcg@5:0.33070\tvalidation_0-ndcg@10:0.40012\tvalidation_0-ndcg@20:0.47228\tvalidation_0-ndcg@30:0.49655\n",
            "[31]\tvalidation_0-ndcg@1:0.21262\tvalidation_0-ndcg@5:0.33060\tvalidation_0-ndcg@10:0.39984\tvalidation_0-ndcg@20:0.47241\tvalidation_0-ndcg@30:0.49651\n",
            "[32]\tvalidation_0-ndcg@1:0.21233\tvalidation_0-ndcg@5:0.33045\tvalidation_0-ndcg@10:0.39972\tvalidation_0-ndcg@20:0.47207\tvalidation_0-ndcg@30:0.49630\n",
            "[33]\tvalidation_0-ndcg@1:0.21241\tvalidation_0-ndcg@5:0.33113\tvalidation_0-ndcg@10:0.40011\tvalidation_0-ndcg@20:0.47247\tvalidation_0-ndcg@30:0.49659\n",
            "[34]\tvalidation_0-ndcg@1:0.21280\tvalidation_0-ndcg@5:0.33144\tvalidation_0-ndcg@10:0.40055\tvalidation_0-ndcg@20:0.47285\tvalidation_0-ndcg@30:0.49689\n",
            "[35]\tvalidation_0-ndcg@1:0.21343\tvalidation_0-ndcg@5:0.33178\tvalidation_0-ndcg@10:0.40081\tvalidation_0-ndcg@20:0.47314\tvalidation_0-ndcg@30:0.49715\n",
            "[36]\tvalidation_0-ndcg@1:0.21451\tvalidation_0-ndcg@5:0.33200\tvalidation_0-ndcg@10:0.40142\tvalidation_0-ndcg@20:0.47389\tvalidation_0-ndcg@30:0.49776\n",
            "[37]\tvalidation_0-ndcg@1:0.21427\tvalidation_0-ndcg@5:0.33175\tvalidation_0-ndcg@10:0.40154\tvalidation_0-ndcg@20:0.47348\tvalidation_0-ndcg@30:0.49757\n",
            "[38]\tvalidation_0-ndcg@1:0.21394\tvalidation_0-ndcg@5:0.33165\tvalidation_0-ndcg@10:0.40137\tvalidation_0-ndcg@20:0.47342\tvalidation_0-ndcg@30:0.49753\n",
            "[39]\tvalidation_0-ndcg@1:0.21482\tvalidation_0-ndcg@5:0.33193\tvalidation_0-ndcg@10:0.40179\tvalidation_0-ndcg@20:0.47354\tvalidation_0-ndcg@30:0.49777\n",
            "[40]\tvalidation_0-ndcg@1:0.21385\tvalidation_0-ndcg@5:0.33179\tvalidation_0-ndcg@10:0.40127\tvalidation_0-ndcg@20:0.47328\tvalidation_0-ndcg@30:0.49748\n",
            "[41]\tvalidation_0-ndcg@1:0.21478\tvalidation_0-ndcg@5:0.33246\tvalidation_0-ndcg@10:0.40188\tvalidation_0-ndcg@20:0.47397\tvalidation_0-ndcg@30:0.49790\n",
            "[42]\tvalidation_0-ndcg@1:0.21454\tvalidation_0-ndcg@5:0.33242\tvalidation_0-ndcg@10:0.40195\tvalidation_0-ndcg@20:0.47398\tvalidation_0-ndcg@30:0.49798\n",
            "[43]\tvalidation_0-ndcg@1:0.21495\tvalidation_0-ndcg@5:0.33311\tvalidation_0-ndcg@10:0.40199\tvalidation_0-ndcg@20:0.47413\tvalidation_0-ndcg@30:0.49821\n",
            "[44]\tvalidation_0-ndcg@1:0.21595\tvalidation_0-ndcg@5:0.33311\tvalidation_0-ndcg@10:0.40220\tvalidation_0-ndcg@20:0.47444\tvalidation_0-ndcg@30:0.49842\n",
            "[45]\tvalidation_0-ndcg@1:0.21643\tvalidation_0-ndcg@5:0.33289\tvalidation_0-ndcg@10:0.40235\tvalidation_0-ndcg@20:0.47455\tvalidation_0-ndcg@30:0.49854\n",
            "[46]\tvalidation_0-ndcg@1:0.21561\tvalidation_0-ndcg@5:0.33278\tvalidation_0-ndcg@10:0.40224\tvalidation_0-ndcg@20:0.47436\tvalidation_0-ndcg@30:0.49830\n",
            "[47]\tvalidation_0-ndcg@1:0.21486\tvalidation_0-ndcg@5:0.33252\tvalidation_0-ndcg@10:0.40192\tvalidation_0-ndcg@20:0.47394\tvalidation_0-ndcg@30:0.49797\n",
            "[48]\tvalidation_0-ndcg@1:0.21477\tvalidation_0-ndcg@5:0.33282\tvalidation_0-ndcg@10:0.40206\tvalidation_0-ndcg@20:0.47395\tvalidation_0-ndcg@30:0.49814\n",
            "[49]\tvalidation_0-ndcg@1:0.21438\tvalidation_0-ndcg@5:0.33271\tvalidation_0-ndcg@10:0.40219\tvalidation_0-ndcg@20:0.47411\tvalidation_0-ndcg@30:0.49819\n",
            "[50]\tvalidation_0-ndcg@1:0.21459\tvalidation_0-ndcg@5:0.33287\tvalidation_0-ndcg@10:0.40209\tvalidation_0-ndcg@20:0.47415\tvalidation_0-ndcg@30:0.49821\n",
            "[51]\tvalidation_0-ndcg@1:0.21495\tvalidation_0-ndcg@5:0.33305\tvalidation_0-ndcg@10:0.40230\tvalidation_0-ndcg@20:0.47447\tvalidation_0-ndcg@30:0.49841\n",
            "[52]\tvalidation_0-ndcg@1:0.21490\tvalidation_0-ndcg@5:0.33344\tvalidation_0-ndcg@10:0.40260\tvalidation_0-ndcg@20:0.47438\tvalidation_0-ndcg@30:0.49841\n",
            "[53]\tvalidation_0-ndcg@1:0.21549\tvalidation_0-ndcg@5:0.33404\tvalidation_0-ndcg@10:0.40318\tvalidation_0-ndcg@20:0.47497\tvalidation_0-ndcg@30:0.49891\n",
            "[54]\tvalidation_0-ndcg@1:0.21551\tvalidation_0-ndcg@5:0.33449\tvalidation_0-ndcg@10:0.40353\tvalidation_0-ndcg@20:0.47512\tvalidation_0-ndcg@30:0.49912\n",
            "[55]\tvalidation_0-ndcg@1:0.21540\tvalidation_0-ndcg@5:0.33408\tvalidation_0-ndcg@10:0.40320\tvalidation_0-ndcg@20:0.47511\tvalidation_0-ndcg@30:0.49901\n",
            "[56]\tvalidation_0-ndcg@1:0.21583\tvalidation_0-ndcg@5:0.33401\tvalidation_0-ndcg@10:0.40351\tvalidation_0-ndcg@20:0.47523\tvalidation_0-ndcg@30:0.49914\n",
            "[57]\tvalidation_0-ndcg@1:0.21551\tvalidation_0-ndcg@5:0.33367\tvalidation_0-ndcg@10:0.40344\tvalidation_0-ndcg@20:0.47490\tvalidation_0-ndcg@30:0.49886\n",
            "[58]\tvalidation_0-ndcg@1:0.21533\tvalidation_0-ndcg@5:0.33338\tvalidation_0-ndcg@10:0.40331\tvalidation_0-ndcg@20:0.47486\tvalidation_0-ndcg@30:0.49883\n",
            "[59]\tvalidation_0-ndcg@1:0.21606\tvalidation_0-ndcg@5:0.33336\tvalidation_0-ndcg@10:0.40351\tvalidation_0-ndcg@20:0.47496\tvalidation_0-ndcg@30:0.49893\n",
            "[60]\tvalidation_0-ndcg@1:0.21546\tvalidation_0-ndcg@5:0.33359\tvalidation_0-ndcg@10:0.40327\tvalidation_0-ndcg@20:0.47490\tvalidation_0-ndcg@30:0.49876\n",
            "[61]\tvalidation_0-ndcg@1:0.21588\tvalidation_0-ndcg@5:0.33397\tvalidation_0-ndcg@10:0.40326\tvalidation_0-ndcg@20:0.47493\tvalidation_0-ndcg@30:0.49890\n",
            "[62]\tvalidation_0-ndcg@1:0.21582\tvalidation_0-ndcg@5:0.33388\tvalidation_0-ndcg@10:0.40341\tvalidation_0-ndcg@20:0.47498\tvalidation_0-ndcg@30:0.49889\n",
            "[63]\tvalidation_0-ndcg@1:0.21556\tvalidation_0-ndcg@5:0.33405\tvalidation_0-ndcg@10:0.40329\tvalidation_0-ndcg@20:0.47506\tvalidation_0-ndcg@30:0.49900\n",
            "[64]\tvalidation_0-ndcg@1:0.21562\tvalidation_0-ndcg@5:0.33434\tvalidation_0-ndcg@10:0.40332\tvalidation_0-ndcg@20:0.47507\tvalidation_0-ndcg@30:0.49898\n",
            "[65]\tvalidation_0-ndcg@1:0.21495\tvalidation_0-ndcg@5:0.33420\tvalidation_0-ndcg@10:0.40355\tvalidation_0-ndcg@20:0.47505\tvalidation_0-ndcg@30:0.49895\n",
            "[66]\tvalidation_0-ndcg@1:0.21488\tvalidation_0-ndcg@5:0.33405\tvalidation_0-ndcg@10:0.40368\tvalidation_0-ndcg@20:0.47512\tvalidation_0-ndcg@30:0.49897\n",
            "[67]\tvalidation_0-ndcg@1:0.21509\tvalidation_0-ndcg@5:0.33422\tvalidation_0-ndcg@10:0.40361\tvalidation_0-ndcg@20:0.47514\tvalidation_0-ndcg@30:0.49903\n",
            "[68]\tvalidation_0-ndcg@1:0.21527\tvalidation_0-ndcg@5:0.33462\tvalidation_0-ndcg@10:0.40370\tvalidation_0-ndcg@20:0.47525\tvalidation_0-ndcg@30:0.49912\n",
            "[69]\tvalidation_0-ndcg@1:0.21507\tvalidation_0-ndcg@5:0.33418\tvalidation_0-ndcg@10:0.40354\tvalidation_0-ndcg@20:0.47497\tvalidation_0-ndcg@30:0.49888\n",
            "[70]\tvalidation_0-ndcg@1:0.21554\tvalidation_0-ndcg@5:0.33464\tvalidation_0-ndcg@10:0.40352\tvalidation_0-ndcg@20:0.47536\tvalidation_0-ndcg@30:0.49918\n",
            "[71]\tvalidation_0-ndcg@1:0.21459\tvalidation_0-ndcg@5:0.33444\tvalidation_0-ndcg@10:0.40344\tvalidation_0-ndcg@20:0.47489\tvalidation_0-ndcg@30:0.49878\n",
            "[72]\tvalidation_0-ndcg@1:0.21451\tvalidation_0-ndcg@5:0.33436\tvalidation_0-ndcg@10:0.40340\tvalidation_0-ndcg@20:0.47493\tvalidation_0-ndcg@30:0.49879\n",
            "[73]\tvalidation_0-ndcg@1:0.21427\tvalidation_0-ndcg@5:0.33421\tvalidation_0-ndcg@10:0.40354\tvalidation_0-ndcg@20:0.47493\tvalidation_0-ndcg@30:0.49882\n",
            "[74]\tvalidation_0-ndcg@1:0.21446\tvalidation_0-ndcg@5:0.33384\tvalidation_0-ndcg@10:0.40321\tvalidation_0-ndcg@20:0.47500\tvalidation_0-ndcg@30:0.49882\n",
            "[75]\tvalidation_0-ndcg@1:0.21448\tvalidation_0-ndcg@5:0.33417\tvalidation_0-ndcg@10:0.40333\tvalidation_0-ndcg@20:0.47516\tvalidation_0-ndcg@30:0.49897\n",
            "[76]\tvalidation_0-ndcg@1:0.21474\tvalidation_0-ndcg@5:0.33457\tvalidation_0-ndcg@10:0.40346\tvalidation_0-ndcg@20:0.47544\tvalidation_0-ndcg@30:0.49915\n",
            "[77]\tvalidation_0-ndcg@1:0.21435\tvalidation_0-ndcg@5:0.33478\tvalidation_0-ndcg@10:0.40347\tvalidation_0-ndcg@20:0.47546\tvalidation_0-ndcg@30:0.49922\n",
            "[78]\tvalidation_0-ndcg@1:0.21503\tvalidation_0-ndcg@5:0.33484\tvalidation_0-ndcg@10:0.40382\tvalidation_0-ndcg@20:0.47543\tvalidation_0-ndcg@30:0.49942\n",
            "[79]\tvalidation_0-ndcg@1:0.21465\tvalidation_0-ndcg@5:0.33450\tvalidation_0-ndcg@10:0.40382\tvalidation_0-ndcg@20:0.47538\tvalidation_0-ndcg@30:0.49933\n",
            "[80]\tvalidation_0-ndcg@1:0.21432\tvalidation_0-ndcg@5:0.33443\tvalidation_0-ndcg@10:0.40376\tvalidation_0-ndcg@20:0.47546\tvalidation_0-ndcg@30:0.49935\n",
            "[81]\tvalidation_0-ndcg@1:0.21438\tvalidation_0-ndcg@5:0.33438\tvalidation_0-ndcg@10:0.40371\tvalidation_0-ndcg@20:0.47544\tvalidation_0-ndcg@30:0.49936\n",
            "[82]\tvalidation_0-ndcg@1:0.21478\tvalidation_0-ndcg@5:0.33432\tvalidation_0-ndcg@10:0.40386\tvalidation_0-ndcg@20:0.47551\tvalidation_0-ndcg@30:0.49940\n",
            "[83]\tvalidation_0-ndcg@1:0.21507\tvalidation_0-ndcg@5:0.33475\tvalidation_0-ndcg@10:0.40422\tvalidation_0-ndcg@20:0.47563\tvalidation_0-ndcg@30:0.49958\n",
            "[84]\tvalidation_0-ndcg@1:0.21543\tvalidation_0-ndcg@5:0.33545\tvalidation_0-ndcg@10:0.40440\tvalidation_0-ndcg@20:0.47586\tvalidation_0-ndcg@30:0.49985\n",
            "[85]\tvalidation_0-ndcg@1:0.21504\tvalidation_0-ndcg@5:0.33495\tvalidation_0-ndcg@10:0.40411\tvalidation_0-ndcg@20:0.47556\tvalidation_0-ndcg@30:0.49959\n",
            "[86]\tvalidation_0-ndcg@1:0.21604\tvalidation_0-ndcg@5:0.33525\tvalidation_0-ndcg@10:0.40426\tvalidation_0-ndcg@20:0.47579\tvalidation_0-ndcg@30:0.49982\n",
            "[87]\tvalidation_0-ndcg@1:0.21559\tvalidation_0-ndcg@5:0.33495\tvalidation_0-ndcg@10:0.40409\tvalidation_0-ndcg@20:0.47562\tvalidation_0-ndcg@30:0.49962\n",
            "[88]\tvalidation_0-ndcg@1:0.21554\tvalidation_0-ndcg@5:0.33510\tvalidation_0-ndcg@10:0.40418\tvalidation_0-ndcg@20:0.47561\tvalidation_0-ndcg@30:0.49966\n",
            "[89]\tvalidation_0-ndcg@1:0.21629\tvalidation_0-ndcg@5:0.33533\tvalidation_0-ndcg@10:0.40425\tvalidation_0-ndcg@20:0.47577\tvalidation_0-ndcg@30:0.49979\n",
            "[90]\tvalidation_0-ndcg@1:0.21590\tvalidation_0-ndcg@5:0.33480\tvalidation_0-ndcg@10:0.40406\tvalidation_0-ndcg@20:0.47557\tvalidation_0-ndcg@30:0.49956\n",
            "[91]\tvalidation_0-ndcg@1:0.21619\tvalidation_0-ndcg@5:0.33510\tvalidation_0-ndcg@10:0.40423\tvalidation_0-ndcg@20:0.47568\tvalidation_0-ndcg@30:0.49972\n",
            "[92]\tvalidation_0-ndcg@1:0.21579\tvalidation_0-ndcg@5:0.33479\tvalidation_0-ndcg@10:0.40422\tvalidation_0-ndcg@20:0.47562\tvalidation_0-ndcg@30:0.49956\n",
            "[93]\tvalidation_0-ndcg@1:0.21575\tvalidation_0-ndcg@5:0.33488\tvalidation_0-ndcg@10:0.40418\tvalidation_0-ndcg@20:0.47556\tvalidation_0-ndcg@30:0.49953\n",
            "[94]\tvalidation_0-ndcg@1:0.21648\tvalidation_0-ndcg@5:0.33522\tvalidation_0-ndcg@10:0.40459\tvalidation_0-ndcg@20:0.47568\tvalidation_0-ndcg@30:0.49976\n",
            "[95]\tvalidation_0-ndcg@1:0.21579\tvalidation_0-ndcg@5:0.33514\tvalidation_0-ndcg@10:0.40430\tvalidation_0-ndcg@20:0.47570\tvalidation_0-ndcg@30:0.49971\n",
            "[96]\tvalidation_0-ndcg@1:0.21672\tvalidation_0-ndcg@5:0.33551\tvalidation_0-ndcg@10:0.40491\tvalidation_0-ndcg@20:0.47609\tvalidation_0-ndcg@30:0.50005\n",
            "[97]\tvalidation_0-ndcg@1:0.21632\tvalidation_0-ndcg@5:0.33529\tvalidation_0-ndcg@10:0.40475\tvalidation_0-ndcg@20:0.47599\tvalidation_0-ndcg@30:0.49988\n",
            "[98]\tvalidation_0-ndcg@1:0.21672\tvalidation_0-ndcg@5:0.33560\tvalidation_0-ndcg@10:0.40500\tvalidation_0-ndcg@20:0.47607\tvalidation_0-ndcg@30:0.50008\n",
            "[99]\tvalidation_0-ndcg@1:0.21709\tvalidation_0-ndcg@5:0.33595\tvalidation_0-ndcg@10:0.40524\tvalidation_0-ndcg@20:0.47622\tvalidation_0-ndcg@30:0.50019\n"
          ]
        },
        {
          "output_type": "execute_result",
          "data": {
            "text/plain": [
              "XGBRanker(base_score=None, booster=None, callbacks=None, colsample_bylevel=None,\n",
              "          colsample_bynode=None, colsample_bytree=None, device='cuda',\n",
              "          early_stopping_rounds=None, enable_categorical=False,\n",
              "          eval_metric=['ndcg@1', 'ndcg@5', 'ndcg@10', 'ndcg@20', 'ndcg@30'],\n",
              "          feature_types=None, gamma=None, grow_policy=None,\n",
              "          importance_type=None, interaction_constraints=None,\n",
              "          lambdarank_bias_norm=1, lambdarank_normalization=False,\n",
              "          lambdarank_num_pair_per_sample=12, lambdarank_pair_method='topk',\n",
              "          lambdarank_unbiased=True, learning_rate=0.01, max_bin=None,\n",
              "          max_cat_threshold=None, max_cat_to_onehot=None, max_delta_step=None,\n",
              "          max_depth=None, max_leaves=None, min_child_weight=None, missing=nan,\n",
              "          monotone_constraints=None, ...)"
            ],
            "text/html": [
              "<style>#sk-container-id-2 {color: black;background-color: white;}#sk-container-id-2 pre{padding: 0;}#sk-container-id-2 div.sk-toggleable {background-color: white;}#sk-container-id-2 label.sk-toggleable__label {cursor: pointer;display: block;width: 100%;margin-bottom: 0;padding: 0.3em;box-sizing: border-box;text-align: center;}#sk-container-id-2 label.sk-toggleable__label-arrow:before {content: \"▸\";float: left;margin-right: 0.25em;color: #696969;}#sk-container-id-2 label.sk-toggleable__label-arrow:hover:before {color: black;}#sk-container-id-2 div.sk-estimator:hover label.sk-toggleable__label-arrow:before {color: black;}#sk-container-id-2 div.sk-toggleable__content {max-height: 0;max-width: 0;overflow: hidden;text-align: left;background-color: #f0f8ff;}#sk-container-id-2 div.sk-toggleable__content pre {margin: 0.2em;color: black;border-radius: 0.25em;background-color: #f0f8ff;}#sk-container-id-2 input.sk-toggleable__control:checked~div.sk-toggleable__content {max-height: 200px;max-width: 100%;overflow: auto;}#sk-container-id-2 input.sk-toggleable__control:checked~label.sk-toggleable__label-arrow:before {content: \"▾\";}#sk-container-id-2 div.sk-estimator input.sk-toggleable__control:checked~label.sk-toggleable__label {background-color: #d4ebff;}#sk-container-id-2 div.sk-label input.sk-toggleable__control:checked~label.sk-toggleable__label {background-color: #d4ebff;}#sk-container-id-2 input.sk-hidden--visually {border: 0;clip: rect(1px 1px 1px 1px);clip: rect(1px, 1px, 1px, 1px);height: 1px;margin: -1px;overflow: hidden;padding: 0;position: absolute;width: 1px;}#sk-container-id-2 div.sk-estimator {font-family: monospace;background-color: #f0f8ff;border: 1px dotted black;border-radius: 0.25em;box-sizing: border-box;margin-bottom: 0.5em;}#sk-container-id-2 div.sk-estimator:hover {background-color: #d4ebff;}#sk-container-id-2 div.sk-parallel-item::after {content: \"\";width: 100%;border-bottom: 1px solid gray;flex-grow: 1;}#sk-container-id-2 div.sk-label:hover label.sk-toggleable__label {background-color: #d4ebff;}#sk-container-id-2 div.sk-serial::before {content: \"\";position: absolute;border-left: 1px solid gray;box-sizing: border-box;top: 0;bottom: 0;left: 50%;z-index: 0;}#sk-container-id-2 div.sk-serial {display: flex;flex-direction: column;align-items: center;background-color: white;padding-right: 0.2em;padding-left: 0.2em;position: relative;}#sk-container-id-2 div.sk-item {position: relative;z-index: 1;}#sk-container-id-2 div.sk-parallel {display: flex;align-items: stretch;justify-content: center;background-color: white;position: relative;}#sk-container-id-2 div.sk-item::before, #sk-container-id-2 div.sk-parallel-item::before {content: \"\";position: absolute;border-left: 1px solid gray;box-sizing: border-box;top: 0;bottom: 0;left: 50%;z-index: -1;}#sk-container-id-2 div.sk-parallel-item {display: flex;flex-direction: column;z-index: 1;position: relative;background-color: white;}#sk-container-id-2 div.sk-parallel-item:first-child::after {align-self: flex-end;width: 50%;}#sk-container-id-2 div.sk-parallel-item:last-child::after {align-self: flex-start;width: 50%;}#sk-container-id-2 div.sk-parallel-item:only-child::after {width: 0;}#sk-container-id-2 div.sk-dashed-wrapped {border: 1px dashed gray;margin: 0 0.4em 0.5em 0.4em;box-sizing: border-box;padding-bottom: 0.4em;background-color: white;}#sk-container-id-2 div.sk-label label {font-family: monospace;font-weight: bold;display: inline-block;line-height: 1.2em;}#sk-container-id-2 div.sk-label-container {text-align: center;}#sk-container-id-2 div.sk-container {/* jupyter's `normalize.less` sets `[hidden] { display: none; }` but bootstrap.min.css set `[hidden] { display: none !important; }` so we also need the `!important` here to be able to override the default hidden behavior on the sphinx rendered scikit-learn.org. See: https://github.com/scikit-learn/scikit-learn/issues/21755 */display: inline-block !important;position: relative;}#sk-container-id-2 div.sk-text-repr-fallback {display: none;}</style><div id=\"sk-container-id-2\" class=\"sk-top-container\"><div class=\"sk-text-repr-fallback\"><pre>XGBRanker(base_score=None, booster=None, callbacks=None, colsample_bylevel=None,\n",
              "          colsample_bynode=None, colsample_bytree=None, device=&#x27;cuda&#x27;,\n",
              "          early_stopping_rounds=None, enable_categorical=False,\n",
              "          eval_metric=[&#x27;ndcg@1&#x27;, &#x27;ndcg@5&#x27;, &#x27;ndcg@10&#x27;, &#x27;ndcg@20&#x27;, &#x27;ndcg@30&#x27;],\n",
              "          feature_types=None, gamma=None, grow_policy=None,\n",
              "          importance_type=None, interaction_constraints=None,\n",
              "          lambdarank_bias_norm=1, lambdarank_normalization=False,\n",
              "          lambdarank_num_pair_per_sample=12, lambdarank_pair_method=&#x27;topk&#x27;,\n",
              "          lambdarank_unbiased=True, learning_rate=0.01, max_bin=None,\n",
              "          max_cat_threshold=None, max_cat_to_onehot=None, max_delta_step=None,\n",
              "          max_depth=None, max_leaves=None, min_child_weight=None, missing=nan,\n",
              "          monotone_constraints=None, ...)</pre><b>In a Jupyter environment, please rerun this cell to show the HTML representation or trust the notebook. <br />On GitHub, the HTML representation is unable to render, please try loading this page with nbviewer.org.</b></div><div class=\"sk-container\" hidden><div class=\"sk-item\"><div class=\"sk-estimator sk-toggleable\"><input class=\"sk-toggleable__control sk-hidden--visually\" id=\"sk-estimator-id-2\" type=\"checkbox\" checked><label for=\"sk-estimator-id-2\" class=\"sk-toggleable__label sk-toggleable__label-arrow\">XGBRanker</label><div class=\"sk-toggleable__content\"><pre>XGBRanker(base_score=None, booster=None, callbacks=None, colsample_bylevel=None,\n",
              "          colsample_bynode=None, colsample_bytree=None, device=&#x27;cuda&#x27;,\n",
              "          early_stopping_rounds=None, enable_categorical=False,\n",
              "          eval_metric=[&#x27;ndcg@1&#x27;, &#x27;ndcg@5&#x27;, &#x27;ndcg@10&#x27;, &#x27;ndcg@20&#x27;, &#x27;ndcg@30&#x27;],\n",
              "          feature_types=None, gamma=None, grow_policy=None,\n",
              "          importance_type=None, interaction_constraints=None,\n",
              "          lambdarank_bias_norm=1, lambdarank_normalization=False,\n",
              "          lambdarank_num_pair_per_sample=12, lambdarank_pair_method=&#x27;topk&#x27;,\n",
              "          lambdarank_unbiased=True, learning_rate=0.01, max_bin=None,\n",
              "          max_cat_threshold=None, max_cat_to_onehot=None, max_delta_step=None,\n",
              "          max_depth=None, max_leaves=None, min_child_weight=None, missing=nan,\n",
              "          monotone_constraints=None, ...)</pre></div></div></div></div></div>"
            ]
          },
          "metadata": {},
          "execution_count": 156
        }
      ]
    },
    {
      "cell_type": "code",
      "source": [
        "#ranker.evals_result_"
      ],
      "metadata": {
        "id": "cjQrgCJ2M49p"
      },
      "execution_count": null,
      "outputs": []
    },
    {
      "cell_type": "code",
      "source": [
        "# from sklearn.model_selection import StratifiedGroupKFold, cross_val_score\n",
        "# Works with cv in scikit-learn, along with HPO utilities like GridSearchCV\n",
        "# kfold = StratifiedGroupKFold(n_splits = 5, shuffle=False)\n",
        "\n",
        "# what is the default scoring for XGBRanker -> is it eval_metric from the model above\n",
        "\n",
        "# cross_val_score(ranker, X, y, cv=kfold, groups=X.qid)"
      ],
      "metadata": {
        "id": "pMuxiHl7Qvps"
      },
      "execution_count": null,
      "outputs": []
    },
    {
      "cell_type": "markdown",
      "source": [
        "Prediction: needs to be done by query in query_test"
      ],
      "metadata": {
        "id": "d0PWzNJmSL0k"
      }
    },
    {
      "cell_type": "code",
      "source": [
        "import numpy as np\n",
        "\n",
        "### NDCG function as used by us\n",
        "\n",
        "def ndcg(y_score, y_true, k):\n",
        "    order = np.argsort(y_score)[::-1]\n",
        "    y_true = np.take(y_true, order[:k])\n",
        "\n",
        "    gain = 2 ** y_true - 1\n",
        "\n",
        "    discounts = np.log2(np.arange(len(y_true)) + 2)\n",
        "    return np.sum(gain / discounts)"
      ],
      "metadata": {
        "id": "_LL_RxCXKDk7"
      },
      "execution_count": null,
      "outputs": []
    },
    {
      "cell_type": "code",
      "source": [
        "X_test[\"search_id\"] = qid_test\n",
        "\n",
        "\n",
        "qids = np.unique(qid_test)\n"
      ],
      "metadata": {
        "id": "J-uDoqtBgZ4o"
      },
      "execution_count": null,
      "outputs": []
    },
    {
      "cell_type": "code",
      "source": [
        "qids = np.unique(qid_test)\n",
        "\n",
        "\n",
        "ndcg_ = list()\n",
        "\n",
        "for i, qid in enumerate(qids):\n",
        "    y = y_test_pred.loc[y_test_pred['search_id'] == qid, \"relevance\"]\n",
        "\n",
        "    if np.sum(y) == 0:\n",
        "        continue\n",
        "    X_pred = X_test[X_test[\"search_id\"] == qid].drop(columns =[\"search_id\"])\n",
        "\n",
        "    p = ranker.predict(X_pred)\n",
        "\n",
        "    idcg = ndcg(y, y, k=10)\n",
        "    ndcg_.append(ndcg(p, y, k=10) / idcg)\n",
        "\n",
        "np.mean(ndcg_)"
      ],
      "metadata": {
        "colab": {
          "base_uri": "https://localhost:8080/"
        },
        "id": "_XW9FuQof-M1",
        "outputId": "f7a141f4-eddd-494e-a141-6a389c4fe9d0"
      },
      "execution_count": null,
      "outputs": [
        {
          "output_type": "execute_result",
          "data": {
            "text/plain": [
              "0.3757188698715466"
            ]
          },
          "metadata": {},
          "execution_count": 160
        }
      ]
    },
    {
      "cell_type": "code",
      "source": [
        "\n",
        "ndcg_ = list()\n",
        "\n",
        "for i, qid in enumerate(qids):\n",
        "    y = y_test_pred.loc[y_test_pred['search_id'] == qid, \"relevance\"]\n",
        "\n",
        "    if np.sum(y) == 0:\n",
        "        continue\n",
        "    X_pred = X_test[X_test[\"search_id\"] == qid].drop(columns =[\"search_id\"])\n",
        "\n",
        "    p = ranker.predict(X_pred)\n",
        "\n",
        "    idcg = ndcg(y, y, k=5)\n",
        "    ndcg_.append(ndcg(p, y, k=5) / idcg)\n",
        "\n",
        "np.mean(ndcg_)"
      ],
      "metadata": {
        "colab": {
          "base_uri": "https://localhost:8080/"
        },
        "id": "ciuwWUXzjQIu",
        "outputId": "6464d626-4bd8-4570-b96b-96a5e87e7538"
      },
      "execution_count": null,
      "outputs": [
        {
          "output_type": "execute_result",
          "data": {
            "text/plain": [
              "0.3029246237874578"
            ]
          },
          "metadata": {},
          "execution_count": 168
        }
      ]
    },
    {
      "cell_type": "code",
      "source": [
        "\n",
        "ndcg_ = list()\n",
        "\n",
        "for i, qid in enumerate(qids):\n",
        "    y = y_test_pred.loc[y_test_pred['search_id'] == qid, \"relevance\"]\n",
        "\n",
        "    if np.sum(y) == 0:\n",
        "        continue\n",
        "    X_pred = X_test[X_test[\"search_id\"] == qid].drop(columns =[\"search_id\"])\n",
        "\n",
        "    p = ranker.predict(X_pred)\n",
        "\n",
        "    idcg = ndcg(y, y, k=20)\n",
        "    ndcg_.append(ndcg(p, y, k=20) / idcg)\n",
        "\n",
        "np.mean(ndcg_)"
      ],
      "metadata": {
        "colab": {
          "base_uri": "https://localhost:8080/"
        },
        "id": "lR3lZyZ7jS6g",
        "outputId": "b9cf387b-c066-4005-ab69-8c236dd5ae67"
      },
      "execution_count": null,
      "outputs": [
        {
          "output_type": "execute_result",
          "data": {
            "text/plain": [
              "0.4501900026041219"
            ]
          },
          "metadata": {},
          "execution_count": 169
        }
      ]
    },
    {
      "cell_type": "code",
      "source": [
        "\n",
        "ndcg_ = list()\n",
        "\n",
        "for i, qid in enumerate(qids):\n",
        "    y = y_test_pred.loc[y_test_pred['search_id'] == qid, \"relevance\"]\n",
        "\n",
        "    if np.sum(y) == 0:\n",
        "        continue\n",
        "    X_pred = X_test[X_test[\"search_id\"] == qid].drop(columns =[\"search_id\"])\n",
        "\n",
        "    p = ranker.predict(X_pred)\n",
        "\n",
        "    idcg = ndcg(y, y, k=30)\n",
        "    ndcg_.append(ndcg(p, y, k=30) / idcg)\n",
        "\n",
        "np.mean(ndcg_)"
      ],
      "metadata": {
        "colab": {
          "base_uri": "https://localhost:8080/"
        },
        "id": "Dw7L2tuEjXLn",
        "outputId": "c37484f1-6735-4922-f9d3-d8939ac61fe7"
      },
      "execution_count": null,
      "outputs": [
        {
          "output_type": "execute_result",
          "data": {
            "text/plain": [
              "0.475356249777268"
            ]
          },
          "metadata": {},
          "execution_count": 170
        }
      ]
    },
    {
      "cell_type": "markdown",
      "source": [
        "#### Light GBM"
      ],
      "metadata": {
        "id": "ao8QPcpYPzje"
      }
    },
    {
      "cell_type": "code",
      "source": [
        "X_train.shape, y_train.shape, qid_train.shape"
      ],
      "metadata": {
        "colab": {
          "base_uri": "https://localhost:8080/"
        },
        "id": "UYs2eTxhPyTQ",
        "outputId": "8b730602-2293-4c5d-c307-639317dfc908"
      },
      "execution_count": null,
      "outputs": [
        {
          "output_type": "execute_result",
          "data": {
            "text/plain": [
              "((1142054, 58), (1142054,), (1142054,))"
            ]
          },
          "metadata": {},
          "execution_count": 74
        }
      ]
    },
    {
      "cell_type": "code",
      "source": [
        "X_test.shape, y_test.shape, qid_test.shape"
      ],
      "metadata": {
        "colab": {
          "base_uri": "https://localhost:8080/"
        },
        "id": "ma-My3MAQCb1",
        "outputId": "75fe50e7-fa50-422d-b349-169e07d13643"
      },
      "execution_count": null,
      "outputs": [
        {
          "output_type": "execute_result",
          "data": {
            "text/plain": [
              "((491077, 59), (491077,), (491077,))"
            ]
          },
          "metadata": {},
          "execution_count": 75
        }
      ]
    },
    {
      "cell_type": "code",
      "source": [
        "import lightgbm as lgb\n",
        "\n",
        "X_train_arr = X_train.values\n",
        "\n",
        "y_train_array = y_train.values.ravel()\n",
        "\n",
        "query_group_sizes_train = []\n",
        "for i in train_df['search_id'].value_counts():\n",
        "  query_group_sizes_train.append(i)\n",
        "\n",
        "query_group_sizes_train_arr = np.array(query_group_sizes_train)\n",
        "\n",
        "train_data = lgb.Dataset(X_train_arr, label=y_train_array, group=query_group_sizes_train_arr)"
      ],
      "metadata": {
        "id": "QcFnMDFcPyP5"
      },
      "execution_count": null,
      "outputs": []
    },
    {
      "cell_type": "code",
      "source": [
        "# Define LightGBM parameters for ranker\n",
        "params = {\n",
        "    'objective': 'lambdarank',  # Ranking objective\n",
        "    'metric': 'ndcg',  # Evaluation metric\n",
        "    'learning_rate': 0.01,\n",
        "    'verbose': 0\n",
        "}"
      ],
      "metadata": {
        "id": "GXLqxeDMPyMy"
      },
      "execution_count": null,
      "outputs": []
    },
    {
      "cell_type": "code",
      "source": [
        "num_rounds = 1000\n",
        "ranker_model = lgb.train(params, train_data, num_rounds)"
      ],
      "metadata": {
        "id": "8qu4VBTqPyJ6"
      },
      "execution_count": null,
      "outputs": []
    },
    {
      "cell_type": "code",
      "source": [
        "ndcg_ = list()\n",
        "\n",
        "for i, qid in enumerate(qids):\n",
        "    y = y_test[qid_test == qid]\n",
        "\n",
        "    if np.sum(y) == 0:\n",
        "        continue\n",
        "\n",
        "    X_pred = X_test[X_test[\"search_id\"] == qid].drop(columns =[\"search_id\"])\n",
        "    p = ranker_model.predict(X_pred)\n",
        "\n",
        "    idcg = ndcg(y, y, k=5)\n",
        "    ndcg_.append(ndcg(p, y, k=5) / idcg)\n",
        "\n",
        "np.mean(ndcg_)"
      ],
      "metadata": {
        "colab": {
          "base_uri": "https://localhost:8080/"
        },
        "id": "7RF0hF2XgIMc",
        "outputId": "432f93de-425b-4540-94ae-6913bde7fff5"
      },
      "execution_count": null,
      "outputs": [
        {
          "output_type": "execute_result",
          "data": {
            "text/plain": [
              "0.31290167210137176"
            ]
          },
          "metadata": {},
          "execution_count": 79
        }
      ]
    },
    {
      "cell_type": "code",
      "source": [
        "ndcg_ = list()\n",
        "\n",
        "for i, qid in enumerate(qids):\n",
        "    y = y_test[qid_test == qid]\n",
        "\n",
        "    if np.sum(y) == 0:\n",
        "        continue\n",
        "\n",
        "    X_pred = X_test[X_test[\"search_id\"] == qid].drop(columns =[\"search_id\"])\n",
        "    p = ranker_model.predict(X_pred)\n",
        "\n",
        "    idcg = ndcg(y, y, k=10)\n",
        "    ndcg_.append(ndcg(p, y, k=10) / idcg)\n",
        "\n",
        "np.mean(ndcg_)"
      ],
      "metadata": {
        "colab": {
          "base_uri": "https://localhost:8080/"
        },
        "id": "6z4CdnOMhUhN",
        "outputId": "0ff41ab9-744e-43d1-b29a-cce3dc8ce5f2"
      },
      "execution_count": null,
      "outputs": [
        {
          "output_type": "execute_result",
          "data": {
            "text/plain": [
              "0.3866071194108189"
            ]
          },
          "metadata": {},
          "execution_count": 80
        }
      ]
    },
    {
      "cell_type": "code",
      "source": [
        "ndcg_ = list()\n",
        "\n",
        "for i, qid in enumerate(qids):\n",
        "    y = y_test[qid_test == qid]\n",
        "\n",
        "    if np.sum(y) == 0:\n",
        "        continue\n",
        "\n",
        "    X_pred = X_test[X_test[\"search_id\"] == qid].drop(columns =[\"search_id\"])\n",
        "    p = ranker_model.predict(X_pred)\n",
        "\n",
        "    idcg = ndcg(y, y, k=20)\n",
        "    ndcg_.append(ndcg(p, y, k=20) / idcg)\n",
        "\n",
        "np.mean(ndcg_)"
      ],
      "metadata": {
        "colab": {
          "base_uri": "https://localhost:8080/"
        },
        "id": "bGqUkKmqiroy",
        "outputId": "c569932c-bf26-48b0-eed5-12a0363f4f71"
      },
      "execution_count": null,
      "outputs": [
        {
          "output_type": "execute_result",
          "data": {
            "text/plain": [
              "0.4596371441497926"
            ]
          },
          "metadata": {},
          "execution_count": 81
        }
      ]
    },
    {
      "cell_type": "code",
      "source": [
        "ndcg_ = list()\n",
        "\n",
        "for i, qid in enumerate(qids):\n",
        "    y = y_test[qid_test == qid]\n",
        "\n",
        "    if np.sum(y) == 0:\n",
        "        continue\n",
        "\n",
        "    X_pred = X_test[X_test[\"search_id\"] == qid].drop(columns =[\"search_id\"])\n",
        "    p = ranker_model.predict(X_pred)\n",
        "\n",
        "    idcg = ndcg(y, y, k=30)\n",
        "    ndcg_.append(ndcg(p, y, k=30) / idcg)\n",
        "\n",
        "np.mean(ndcg_)"
      ],
      "metadata": {
        "colab": {
          "base_uri": "https://localhost:8080/"
        },
        "id": "VRMjtj8jiuQl",
        "outputId": "23f80080-f2d9-4df8-e184-b6188884e8fc"
      },
      "execution_count": null,
      "outputs": [
        {
          "output_type": "execute_result",
          "data": {
            "text/plain": [
              "0.4832222449785688"
            ]
          },
          "metadata": {},
          "execution_count": 82
        }
      ]
    }
  ]
}