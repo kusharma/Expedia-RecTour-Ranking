{
  "nbformat": 4,
  "nbformat_minor": 0,
  "metadata": {
    "colab": {
      "provenance": [],
      "machine_shape": "hm"
    },
    "kernelspec": {
      "name": "python3",
      "display_name": "Python 3"
    },
    "language_info": {
      "name": "python"
    }
  },
  "cells": [
    {
      "cell_type": "markdown",
      "source": [
        "### Learning to rank with XGB - more data\n",
        "\n",
        "\n",
        "- 1 Million rows\n",
        "\n",
        "- Feature and row selection as in https://docs.google.com/document/d/1R9itgngZUNzkBqWzXstLiBXXoYJa8-ahS66JrqC3kDk/edit\n",
        "\n",
        "- after feature selection: check for queries with one row/no click/transaction\n",
        "- preprocessed: no queries with only one result, numerical variables scaled\n",
        "- click and transaction in one relevance label (click weight: 1, transaction weight: 2)\n",
        "\n"
      ],
      "metadata": {
        "id": "pwQajobYgIEK"
      }
    },
    {
      "cell_type": "markdown",
      "source": [
        "code folllows this example: https://xgboost.readthedocs.io/en/stable/tutorials/learning_to_rank.html"
      ],
      "metadata": {
        "id": "VjlmDv9Qdia8"
      }
    },
    {
      "cell_type": "code",
      "execution_count": 1,
      "metadata": {
        "colab": {
          "base_uri": "https://localhost:8080/"
        },
        "id": "IeaIAPszgDIk",
        "outputId": "e6db84e0-1073-4ca4-cd69-498e172de263"
      },
      "outputs": [
        {
          "output_type": "stream",
          "name": "stdout",
          "text": [
            "Mounted at /content/drive\n"
          ]
        }
      ],
      "source": [
        "from google.colab import drive\n",
        "drive.mount('/content/drive')"
      ]
    },
    {
      "cell_type": "code",
      "source": [
        "import pandas as pd\n",
        "df = pd.read_csv(\"/content/drive/MyDrive/expedia/millionrows_Top500Destinations.csv\")"
      ],
      "metadata": {
        "id": "figfZqQHFaX-"
      },
      "execution_count": 2,
      "outputs": []
    },
    {
      "cell_type": "code",
      "source": [
        "df.head()"
      ],
      "metadata": {
        "colab": {
          "base_uri": "https://localhost:8080/",
          "height": 256
        },
        "id": "E03BT7BLFxBr",
        "outputId": "c32d009c-4572-4bea-af3f-c731346b4dcf"
      },
      "execution_count": 3,
      "outputs": [
        {
          "output_type": "execute_result",
          "data": {
            "text/plain": [
              "   user_id  search_id  point_of_sale  geo_location_country  is_mobile  \\\n",
              "0        2          2              1                     1          0   \n",
              "1        2          2              1                     1          0   \n",
              "2        2          2              1                     1          0   \n",
              "3        2          2              1                     1          0   \n",
              "4        2          2              1                     1          0   \n",
              "\n",
              "   destination_id checkin_date checkout_date  adult_count  child_count  ...  \\\n",
              "0              49   2021-07-07    2021-07-12            2            0  ...   \n",
              "1              49   2021-07-07    2021-07-12            2            0  ...   \n",
              "2              49   2021-07-07    2021-07-12            2            0  ...   \n",
              "3              49   2021-07-07    2021-07-12            2            0  ...   \n",
              "4              49   2021-07-07    2021-07-12            2            0  ...   \n",
              "\n",
              "   HighSpeedInternet  HotTub LaundryFacility  Parking  PetsAllowed  \\\n",
              "0               True   False            True    False        False   \n",
              "1               True   False            True     True        False   \n",
              "2               True   False            True     True         True   \n",
              "3              False   False            True     True         True   \n",
              "4              False   False            True     True         True   \n",
              "\n",
              "   PrivatePool  SpaServices  SwimmingPool  WasherDryer   WiFi  \n",
              "0        False        False         False        False  False  \n",
              "1        False        False          True        False  False  \n",
              "2        False        False          True        False   True  \n",
              "3        False        False         False        False   True  \n",
              "4        False        False         False        False  False  \n",
              "\n",
              "[5 rows x 49 columns]"
            ],
            "text/html": [
              "\n",
              "  <div id=\"df-133b5582-942a-4dbc-b841-31207f56a85b\" class=\"colab-df-container\">\n",
              "    <div>\n",
              "<style scoped>\n",
              "    .dataframe tbody tr th:only-of-type {\n",
              "        vertical-align: middle;\n",
              "    }\n",
              "\n",
              "    .dataframe tbody tr th {\n",
              "        vertical-align: top;\n",
              "    }\n",
              "\n",
              "    .dataframe thead th {\n",
              "        text-align: right;\n",
              "    }\n",
              "</style>\n",
              "<table border=\"1\" class=\"dataframe\">\n",
              "  <thead>\n",
              "    <tr style=\"text-align: right;\">\n",
              "      <th></th>\n",
              "      <th>user_id</th>\n",
              "      <th>search_id</th>\n",
              "      <th>point_of_sale</th>\n",
              "      <th>geo_location_country</th>\n",
              "      <th>is_mobile</th>\n",
              "      <th>destination_id</th>\n",
              "      <th>checkin_date</th>\n",
              "      <th>checkout_date</th>\n",
              "      <th>adult_count</th>\n",
              "      <th>child_count</th>\n",
              "      <th>...</th>\n",
              "      <th>HighSpeedInternet</th>\n",
              "      <th>HotTub</th>\n",
              "      <th>LaundryFacility</th>\n",
              "      <th>Parking</th>\n",
              "      <th>PetsAllowed</th>\n",
              "      <th>PrivatePool</th>\n",
              "      <th>SpaServices</th>\n",
              "      <th>SwimmingPool</th>\n",
              "      <th>WasherDryer</th>\n",
              "      <th>WiFi</th>\n",
              "    </tr>\n",
              "  </thead>\n",
              "  <tbody>\n",
              "    <tr>\n",
              "      <th>0</th>\n",
              "      <td>2</td>\n",
              "      <td>2</td>\n",
              "      <td>1</td>\n",
              "      <td>1</td>\n",
              "      <td>0</td>\n",
              "      <td>49</td>\n",
              "      <td>2021-07-07</td>\n",
              "      <td>2021-07-12</td>\n",
              "      <td>2</td>\n",
              "      <td>0</td>\n",
              "      <td>...</td>\n",
              "      <td>True</td>\n",
              "      <td>False</td>\n",
              "      <td>True</td>\n",
              "      <td>False</td>\n",
              "      <td>False</td>\n",
              "      <td>False</td>\n",
              "      <td>False</td>\n",
              "      <td>False</td>\n",
              "      <td>False</td>\n",
              "      <td>False</td>\n",
              "    </tr>\n",
              "    <tr>\n",
              "      <th>1</th>\n",
              "      <td>2</td>\n",
              "      <td>2</td>\n",
              "      <td>1</td>\n",
              "      <td>1</td>\n",
              "      <td>0</td>\n",
              "      <td>49</td>\n",
              "      <td>2021-07-07</td>\n",
              "      <td>2021-07-12</td>\n",
              "      <td>2</td>\n",
              "      <td>0</td>\n",
              "      <td>...</td>\n",
              "      <td>True</td>\n",
              "      <td>False</td>\n",
              "      <td>True</td>\n",
              "      <td>True</td>\n",
              "      <td>False</td>\n",
              "      <td>False</td>\n",
              "      <td>False</td>\n",
              "      <td>True</td>\n",
              "      <td>False</td>\n",
              "      <td>False</td>\n",
              "    </tr>\n",
              "    <tr>\n",
              "      <th>2</th>\n",
              "      <td>2</td>\n",
              "      <td>2</td>\n",
              "      <td>1</td>\n",
              "      <td>1</td>\n",
              "      <td>0</td>\n",
              "      <td>49</td>\n",
              "      <td>2021-07-07</td>\n",
              "      <td>2021-07-12</td>\n",
              "      <td>2</td>\n",
              "      <td>0</td>\n",
              "      <td>...</td>\n",
              "      <td>True</td>\n",
              "      <td>False</td>\n",
              "      <td>True</td>\n",
              "      <td>True</td>\n",
              "      <td>True</td>\n",
              "      <td>False</td>\n",
              "      <td>False</td>\n",
              "      <td>True</td>\n",
              "      <td>False</td>\n",
              "      <td>True</td>\n",
              "    </tr>\n",
              "    <tr>\n",
              "      <th>3</th>\n",
              "      <td>2</td>\n",
              "      <td>2</td>\n",
              "      <td>1</td>\n",
              "      <td>1</td>\n",
              "      <td>0</td>\n",
              "      <td>49</td>\n",
              "      <td>2021-07-07</td>\n",
              "      <td>2021-07-12</td>\n",
              "      <td>2</td>\n",
              "      <td>0</td>\n",
              "      <td>...</td>\n",
              "      <td>False</td>\n",
              "      <td>False</td>\n",
              "      <td>True</td>\n",
              "      <td>True</td>\n",
              "      <td>True</td>\n",
              "      <td>False</td>\n",
              "      <td>False</td>\n",
              "      <td>False</td>\n",
              "      <td>False</td>\n",
              "      <td>True</td>\n",
              "    </tr>\n",
              "    <tr>\n",
              "      <th>4</th>\n",
              "      <td>2</td>\n",
              "      <td>2</td>\n",
              "      <td>1</td>\n",
              "      <td>1</td>\n",
              "      <td>0</td>\n",
              "      <td>49</td>\n",
              "      <td>2021-07-07</td>\n",
              "      <td>2021-07-12</td>\n",
              "      <td>2</td>\n",
              "      <td>0</td>\n",
              "      <td>...</td>\n",
              "      <td>False</td>\n",
              "      <td>False</td>\n",
              "      <td>True</td>\n",
              "      <td>True</td>\n",
              "      <td>True</td>\n",
              "      <td>False</td>\n",
              "      <td>False</td>\n",
              "      <td>False</td>\n",
              "      <td>False</td>\n",
              "      <td>False</td>\n",
              "    </tr>\n",
              "  </tbody>\n",
              "</table>\n",
              "<p>5 rows × 49 columns</p>\n",
              "</div>\n",
              "    <div class=\"colab-df-buttons\">\n",
              "\n",
              "  <div class=\"colab-df-container\">\n",
              "    <button class=\"colab-df-convert\" onclick=\"convertToInteractive('df-133b5582-942a-4dbc-b841-31207f56a85b')\"\n",
              "            title=\"Convert this dataframe to an interactive table.\"\n",
              "            style=\"display:none;\">\n",
              "\n",
              "  <svg xmlns=\"http://www.w3.org/2000/svg\" height=\"24px\" viewBox=\"0 -960 960 960\">\n",
              "    <path d=\"M120-120v-720h720v720H120Zm60-500h600v-160H180v160Zm220 220h160v-160H400v160Zm0 220h160v-160H400v160ZM180-400h160v-160H180v160Zm440 0h160v-160H620v160ZM180-180h160v-160H180v160Zm440 0h160v-160H620v160Z\"/>\n",
              "  </svg>\n",
              "    </button>\n",
              "\n",
              "  <style>\n",
              "    .colab-df-container {\n",
              "      display:flex;\n",
              "      gap: 12px;\n",
              "    }\n",
              "\n",
              "    .colab-df-convert {\n",
              "      background-color: #E8F0FE;\n",
              "      border: none;\n",
              "      border-radius: 50%;\n",
              "      cursor: pointer;\n",
              "      display: none;\n",
              "      fill: #1967D2;\n",
              "      height: 32px;\n",
              "      padding: 0 0 0 0;\n",
              "      width: 32px;\n",
              "    }\n",
              "\n",
              "    .colab-df-convert:hover {\n",
              "      background-color: #E2EBFA;\n",
              "      box-shadow: 0px 1px 2px rgba(60, 64, 67, 0.3), 0px 1px 3px 1px rgba(60, 64, 67, 0.15);\n",
              "      fill: #174EA6;\n",
              "    }\n",
              "\n",
              "    .colab-df-buttons div {\n",
              "      margin-bottom: 4px;\n",
              "    }\n",
              "\n",
              "    [theme=dark] .colab-df-convert {\n",
              "      background-color: #3B4455;\n",
              "      fill: #D2E3FC;\n",
              "    }\n",
              "\n",
              "    [theme=dark] .colab-df-convert:hover {\n",
              "      background-color: #434B5C;\n",
              "      box-shadow: 0px 1px 3px 1px rgba(0, 0, 0, 0.15);\n",
              "      filter: drop-shadow(0px 1px 2px rgba(0, 0, 0, 0.3));\n",
              "      fill: #FFFFFF;\n",
              "    }\n",
              "  </style>\n",
              "\n",
              "    <script>\n",
              "      const buttonEl =\n",
              "        document.querySelector('#df-133b5582-942a-4dbc-b841-31207f56a85b button.colab-df-convert');\n",
              "      buttonEl.style.display =\n",
              "        google.colab.kernel.accessAllowed ? 'block' : 'none';\n",
              "\n",
              "      async function convertToInteractive(key) {\n",
              "        const element = document.querySelector('#df-133b5582-942a-4dbc-b841-31207f56a85b');\n",
              "        const dataTable =\n",
              "          await google.colab.kernel.invokeFunction('convertToInteractive',\n",
              "                                                    [key], {});\n",
              "        if (!dataTable) return;\n",
              "\n",
              "        const docLinkHtml = 'Like what you see? Visit the ' +\n",
              "          '<a target=\"_blank\" href=https://colab.research.google.com/notebooks/data_table.ipynb>data table notebook</a>'\n",
              "          + ' to learn more about interactive tables.';\n",
              "        element.innerHTML = '';\n",
              "        dataTable['output_type'] = 'display_data';\n",
              "        await google.colab.output.renderOutput(dataTable, element);\n",
              "        const docLink = document.createElement('div');\n",
              "        docLink.innerHTML = docLinkHtml;\n",
              "        element.appendChild(docLink);\n",
              "      }\n",
              "    </script>\n",
              "  </div>\n",
              "\n",
              "\n",
              "<div id=\"df-dea00f14-27d5-46ca-880d-babcf643d666\">\n",
              "  <button class=\"colab-df-quickchart\" onclick=\"quickchart('df-dea00f14-27d5-46ca-880d-babcf643d666')\"\n",
              "            title=\"Suggest charts\"\n",
              "            style=\"display:none;\">\n",
              "\n",
              "<svg xmlns=\"http://www.w3.org/2000/svg\" height=\"24px\"viewBox=\"0 0 24 24\"\n",
              "     width=\"24px\">\n",
              "    <g>\n",
              "        <path d=\"M19 3H5c-1.1 0-2 .9-2 2v14c0 1.1.9 2 2 2h14c1.1 0 2-.9 2-2V5c0-1.1-.9-2-2-2zM9 17H7v-7h2v7zm4 0h-2V7h2v10zm4 0h-2v-4h2v4z\"/>\n",
              "    </g>\n",
              "</svg>\n",
              "  </button>\n",
              "\n",
              "<style>\n",
              "  .colab-df-quickchart {\n",
              "      --bg-color: #E8F0FE;\n",
              "      --fill-color: #1967D2;\n",
              "      --hover-bg-color: #E2EBFA;\n",
              "      --hover-fill-color: #174EA6;\n",
              "      --disabled-fill-color: #AAA;\n",
              "      --disabled-bg-color: #DDD;\n",
              "  }\n",
              "\n",
              "  [theme=dark] .colab-df-quickchart {\n",
              "      --bg-color: #3B4455;\n",
              "      --fill-color: #D2E3FC;\n",
              "      --hover-bg-color: #434B5C;\n",
              "      --hover-fill-color: #FFFFFF;\n",
              "      --disabled-bg-color: #3B4455;\n",
              "      --disabled-fill-color: #666;\n",
              "  }\n",
              "\n",
              "  .colab-df-quickchart {\n",
              "    background-color: var(--bg-color);\n",
              "    border: none;\n",
              "    border-radius: 50%;\n",
              "    cursor: pointer;\n",
              "    display: none;\n",
              "    fill: var(--fill-color);\n",
              "    height: 32px;\n",
              "    padding: 0;\n",
              "    width: 32px;\n",
              "  }\n",
              "\n",
              "  .colab-df-quickchart:hover {\n",
              "    background-color: var(--hover-bg-color);\n",
              "    box-shadow: 0 1px 2px rgba(60, 64, 67, 0.3), 0 1px 3px 1px rgba(60, 64, 67, 0.15);\n",
              "    fill: var(--button-hover-fill-color);\n",
              "  }\n",
              "\n",
              "  .colab-df-quickchart-complete:disabled,\n",
              "  .colab-df-quickchart-complete:disabled:hover {\n",
              "    background-color: var(--disabled-bg-color);\n",
              "    fill: var(--disabled-fill-color);\n",
              "    box-shadow: none;\n",
              "  }\n",
              "\n",
              "  .colab-df-spinner {\n",
              "    border: 2px solid var(--fill-color);\n",
              "    border-color: transparent;\n",
              "    border-bottom-color: var(--fill-color);\n",
              "    animation:\n",
              "      spin 1s steps(1) infinite;\n",
              "  }\n",
              "\n",
              "  @keyframes spin {\n",
              "    0% {\n",
              "      border-color: transparent;\n",
              "      border-bottom-color: var(--fill-color);\n",
              "      border-left-color: var(--fill-color);\n",
              "    }\n",
              "    20% {\n",
              "      border-color: transparent;\n",
              "      border-left-color: var(--fill-color);\n",
              "      border-top-color: var(--fill-color);\n",
              "    }\n",
              "    30% {\n",
              "      border-color: transparent;\n",
              "      border-left-color: var(--fill-color);\n",
              "      border-top-color: var(--fill-color);\n",
              "      border-right-color: var(--fill-color);\n",
              "    }\n",
              "    40% {\n",
              "      border-color: transparent;\n",
              "      border-right-color: var(--fill-color);\n",
              "      border-top-color: var(--fill-color);\n",
              "    }\n",
              "    60% {\n",
              "      border-color: transparent;\n",
              "      border-right-color: var(--fill-color);\n",
              "    }\n",
              "    80% {\n",
              "      border-color: transparent;\n",
              "      border-right-color: var(--fill-color);\n",
              "      border-bottom-color: var(--fill-color);\n",
              "    }\n",
              "    90% {\n",
              "      border-color: transparent;\n",
              "      border-bottom-color: var(--fill-color);\n",
              "    }\n",
              "  }\n",
              "</style>\n",
              "\n",
              "  <script>\n",
              "    async function quickchart(key) {\n",
              "      const quickchartButtonEl =\n",
              "        document.querySelector('#' + key + ' button');\n",
              "      quickchartButtonEl.disabled = true;  // To prevent multiple clicks.\n",
              "      quickchartButtonEl.classList.add('colab-df-spinner');\n",
              "      try {\n",
              "        const charts = await google.colab.kernel.invokeFunction(\n",
              "            'suggestCharts', [key], {});\n",
              "      } catch (error) {\n",
              "        console.error('Error during call to suggestCharts:', error);\n",
              "      }\n",
              "      quickchartButtonEl.classList.remove('colab-df-spinner');\n",
              "      quickchartButtonEl.classList.add('colab-df-quickchart-complete');\n",
              "    }\n",
              "    (() => {\n",
              "      let quickchartButtonEl =\n",
              "        document.querySelector('#df-dea00f14-27d5-46ca-880d-babcf643d666 button');\n",
              "      quickchartButtonEl.style.display =\n",
              "        google.colab.kernel.accessAllowed ? 'block' : 'none';\n",
              "    })();\n",
              "  </script>\n",
              "</div>\n",
              "    </div>\n",
              "  </div>\n"
            ],
            "application/vnd.google.colaboratory.intrinsic+json": {
              "type": "dataframe",
              "variable_name": "df"
            }
          },
          "metadata": {},
          "execution_count": 3
        }
      ]
    },
    {
      "cell_type": "code",
      "source": [
        "df.shape"
      ],
      "metadata": {
        "colab": {
          "base_uri": "https://localhost:8080/"
        },
        "id": "GSAOdxMOOt5q",
        "outputId": "42405e02-aefe-46c5-be43-6b507bcc80dc"
      },
      "execution_count": 4,
      "outputs": [
        {
          "output_type": "execute_result",
          "data": {
            "text/plain": [
              "(2049518, 49)"
            ]
          },
          "metadata": {},
          "execution_count": 4
        }
      ]
    },
    {
      "cell_type": "code",
      "source": [
        "df.dtypes"
      ],
      "metadata": {
        "colab": {
          "base_uri": "https://localhost:8080/"
        },
        "id": "CewRoNBnM-xr",
        "outputId": "c327bbc0-40e7-41cf-d665-8eed723b4d29"
      },
      "execution_count": 5,
      "outputs": [
        {
          "output_type": "execute_result",
          "data": {
            "text/plain": [
              "user_id                        int64\n",
              "search_id                      int64\n",
              "point_of_sale                  int64\n",
              "geo_location_country           int64\n",
              "is_mobile                      int64\n",
              "destination_id                 int64\n",
              "checkin_date                  object\n",
              "checkout_date                 object\n",
              "adult_count                    int64\n",
              "child_count                    int64\n",
              "infant_count                   int64\n",
              "room_count                     int64\n",
              "sort_type                     object\n",
              "length_of_stay               float64\n",
              "booking_window               float64\n",
              "search_day_of_week             int64\n",
              "search_hour_of_day             int64\n",
              "checkin_day                    int64\n",
              "checkout_day                   int64\n",
              "rank                           int64\n",
              "prop_id                        int64\n",
              "is_travel_ad                   int64\n",
              "review_rating                float64\n",
              "review_count                 float64\n",
              "star_rating                   object\n",
              "is_free_cancellation           int64\n",
              "is_drr                         int64\n",
              "price_bucket                 float64\n",
              "num_clicks                     int64\n",
              "is_trans                       int64\n",
              "rank_noad                    float64\n",
              "AirConditioning               object\n",
              "AirportTransfer               object\n",
              "Bar                           object\n",
              "FreeAirportTransportation     object\n",
              "FreeBreakfast                 object\n",
              "FreeParking                   object\n",
              "FreeWiFi                      object\n",
              "Gym                           object\n",
              "HighSpeedInternet             object\n",
              "HotTub                        object\n",
              "LaundryFacility               object\n",
              "Parking                       object\n",
              "PetsAllowed                   object\n",
              "PrivatePool                   object\n",
              "SpaServices                   object\n",
              "SwimmingPool                  object\n",
              "WasherDryer                   object\n",
              "WiFi                          object\n",
              "dtype: object"
            ]
          },
          "metadata": {},
          "execution_count": 5
        }
      ]
    },
    {
      "cell_type": "code",
      "source": [
        "# how many queries in test data?\n",
        "len(df[\"search_id\"].unique())"
      ],
      "metadata": {
        "colab": {
          "base_uri": "https://localhost:8080/"
        },
        "id": "brcIp8yI1eWP",
        "outputId": "ee8113b0-bde2-4390-e5a4-7579313c4935"
      },
      "execution_count": 6,
      "outputs": [
        {
          "output_type": "execute_result",
          "data": {
            "text/plain": [
              "75642"
            ]
          },
          "metadata": {},
          "execution_count": 6
        }
      ]
    },
    {
      "cell_type": "code",
      "source": [
        "len(df[\"user_id\"].unique())"
      ],
      "metadata": {
        "colab": {
          "base_uri": "https://localhost:8080/"
        },
        "id": "MJsnxIvRT5ys",
        "outputId": "c54ebb89-a36d-4df3-c749-cc91a477d4e6"
      },
      "execution_count": 7,
      "outputs": [
        {
          "output_type": "execute_result",
          "data": {
            "text/plain": [
              "48716"
            ]
          },
          "metadata": {},
          "execution_count": 7
        }
      ]
    },
    {
      "cell_type": "markdown",
      "source": [
        "#### drop columns not needed - first step"
      ],
      "metadata": {
        "id": "RS3abC_SMZKI"
      }
    },
    {
      "cell_type": "code",
      "source": [
        "df = df.drop(columns = [\"prop_id\", \"search_day_of_week\", \"search_hour_of_day\",\n",
        "                        \"checkout_date\", \"infant_count\", \"room_count\", \"rank\",\n",
        "                        \"user_id\"])\n",
        "\n",
        "df.shape"
      ],
      "metadata": {
        "colab": {
          "base_uri": "https://localhost:8080/"
        },
        "id": "edMZUDCfLsTS",
        "outputId": "d09177f6-85ac-472a-e389-ef4ebfd844c6"
      },
      "execution_count": 8,
      "outputs": [
        {
          "output_type": "execute_result",
          "data": {
            "text/plain": [
              "(2049518, 41)"
            ]
          },
          "metadata": {},
          "execution_count": 8
        }
      ]
    },
    {
      "cell_type": "code",
      "source": [
        "## create relvance label\n",
        "# 1 for clicked on\n",
        "# 2 for transaction\n",
        "\n",
        "df[\"relevance\"] = 0  # Initialize with default value\n",
        "df.loc[df[\"num_clicks\"] > 0, \"relevance\"] = 1  # Set value to 1 if first_column > 0\n",
        "df.loc[df[\"is_trans\"] > 0, \"relevance\"] = 2  # Add 2 if second_column > 0\n"
      ],
      "metadata": {
        "id": "Bf7SRHYXMIS9"
      },
      "execution_count": 9,
      "outputs": []
    },
    {
      "cell_type": "code",
      "source": [
        "### drop num clicks and is_trans\n",
        "df = df.drop(columns = [\"is_trans\", \"num_clicks\"])\n",
        "df.shape"
      ],
      "metadata": {
        "colab": {
          "base_uri": "https://localhost:8080/"
        },
        "id": "Cf_XKqhNOx63",
        "outputId": "55b2f891-5fb1-45f8-9e7a-67552145078c"
      },
      "execution_count": 10,
      "outputs": [
        {
          "output_type": "execute_result",
          "data": {
            "text/plain": [
              "(2049518, 40)"
            ]
          },
          "metadata": {},
          "execution_count": 10
        }
      ]
    },
    {
      "cell_type": "code",
      "source": [
        "#### barplot of relevance labels\n",
        "import matplotlib.pyplot as plt\n",
        "frequency_counts = df[\"relevance\"].value_counts()"
      ],
      "metadata": {
        "id": "ARE6N8n31ypj"
      },
      "execution_count": 11,
      "outputs": []
    },
    {
      "cell_type": "code",
      "source": [
        "frequency_counts"
      ],
      "metadata": {
        "colab": {
          "base_uri": "https://localhost:8080/"
        },
        "id": "EyTqgnroP3yZ",
        "outputId": "545cbd50-9295-4a77-8f23-aeb30a87ac8e"
      },
      "execution_count": 12,
      "outputs": [
        {
          "output_type": "execute_result",
          "data": {
            "text/plain": [
              "relevance\n",
              "0    1908184\n",
              "1     131053\n",
              "2      10281\n",
              "Name: count, dtype: int64"
            ]
          },
          "metadata": {},
          "execution_count": 12
        }
      ]
    },
    {
      "cell_type": "markdown",
      "source": [
        "#### Drop rows based on conditions - new data set object is created"
      ],
      "metadata": {
        "id": "rIEg3YZkPZXV"
      }
    },
    {
      "cell_type": "code",
      "source": [
        "## what are values in sort_type\n",
        "df[\"sort_type\"].value_counts()"
      ],
      "metadata": {
        "colab": {
          "base_uri": "https://localhost:8080/"
        },
        "id": "fAOWm-qLPXox",
        "outputId": "b5993660-a739-4c71-ab42-efe8e57bd1ca"
      },
      "execution_count": 13,
      "outputs": [
        {
          "output_type": "execute_result",
          "data": {
            "text/plain": [
              "sort_type\n",
              "RECOMMENDED                      1881566\n",
              "PRICE ASCENDING                   107997\n",
              "STAR RATING DESCENDING             15118\n",
              "GUEST RATINGS DESCENDING           14661\n",
              "SPECIAL - DIRECT HOTEL SEARCH      11913\n",
              "DEALS                              10316\n",
              "VACATION RENTAL                     7947\n",
              "Name: count, dtype: int64"
            ]
          },
          "metadata": {},
          "execution_count": 13
        }
      ]
    },
    {
      "cell_type": "code",
      "source": [
        "# drop everything that is not sort_type == RECOMMENDED\n",
        "df_model = df[df[\"sort_type\"] == \"RECOMMENDED\"]\n",
        "df_model.shape"
      ],
      "metadata": {
        "colab": {
          "base_uri": "https://localhost:8080/"
        },
        "id": "DyRPP3NdTKso",
        "outputId": "cb29e4e7-e5a3-481d-fdca-dd66d29748f4"
      },
      "execution_count": 14,
      "outputs": [
        {
          "output_type": "execute_result",
          "data": {
            "text/plain": [
              "(1881566, 40)"
            ]
          },
          "metadata": {},
          "execution_count": 14
        }
      ]
    },
    {
      "cell_type": "code",
      "source": [
        "#### are there sort_type other than recommended\n",
        "df_model[\"sort_type\"].value_counts()"
      ],
      "metadata": {
        "colab": {
          "base_uri": "https://localhost:8080/"
        },
        "id": "B1sQniLvQqSa",
        "outputId": "4089bdd8-8300-4e09-ae6e-5f4a743d5f10"
      },
      "execution_count": 15,
      "outputs": [
        {
          "output_type": "execute_result",
          "data": {
            "text/plain": [
              "sort_type\n",
              "RECOMMENDED    1881566\n",
              "Name: count, dtype: int64"
            ]
          },
          "metadata": {},
          "execution_count": 15
        }
      ]
    },
    {
      "cell_type": "code",
      "source": [
        "df_model = df_model.drop(columns = \"sort_type\")"
      ],
      "metadata": {
        "id": "Ds6LXM0LQnpp"
      },
      "execution_count": 16,
      "outputs": []
    },
    {
      "cell_type": "code",
      "source": [
        "df_model[\"star_rating\"].value_counts()"
      ],
      "metadata": {
        "colab": {
          "base_uri": "https://localhost:8080/"
        },
        "id": "SGKwyiUXPXkz",
        "outputId": "79939d0c-27a5-4422-bbc7-a7af68b2ba0e"
      },
      "execution_count": 17,
      "outputs": [
        {
          "output_type": "execute_result",
          "data": {
            "text/plain": [
              "star_rating\n",
              "4.0              715088\n",
              "3.0              627137\n",
              "5.0              283367\n",
              "2.0              133366\n",
              "0                 85191\n",
              "Not Available     36587\n",
              "1.0                 793\n",
              "0.0                  37\n",
              "Name: count, dtype: int64"
            ]
          },
          "metadata": {},
          "execution_count": 17
        }
      ]
    },
    {
      "cell_type": "code",
      "source": [
        "### remove Not Available and transfer to integer\n",
        "df_model = df_model[df_model[\"star_rating\"] != \"Not Available\"]\n",
        "df_model[\"star_rating\"].value_counts()"
      ],
      "metadata": {
        "colab": {
          "base_uri": "https://localhost:8080/"
        },
        "id": "CkcWMpYmPXgW",
        "outputId": "17b04b71-f5a8-48c1-937d-45c55d1a59eb"
      },
      "execution_count": 18,
      "outputs": [
        {
          "output_type": "execute_result",
          "data": {
            "text/plain": [
              "star_rating\n",
              "4.0    715088\n",
              "3.0    627137\n",
              "5.0    283367\n",
              "2.0    133366\n",
              "0       85191\n",
              "1.0       793\n",
              "0.0        37\n",
              "Name: count, dtype: int64"
            ]
          },
          "metadata": {},
          "execution_count": 18
        }
      ]
    },
    {
      "cell_type": "code",
      "source": [
        "# transfer star rating to a numeric value\n",
        "df_model[\"star_rating\"] = pd.to_numeric(df_model[\"star_rating\"])"
      ],
      "metadata": {
        "id": "23cz8AS_g57B"
      },
      "execution_count": 19,
      "outputs": []
    },
    {
      "cell_type": "code",
      "source": [
        "df_model[\"star_rating\"].value_counts()"
      ],
      "metadata": {
        "colab": {
          "base_uri": "https://localhost:8080/"
        },
        "id": "uOcanyKzma3m",
        "outputId": "74f0674d-d054-4364-a795-90b860ca4857"
      },
      "execution_count": 20,
      "outputs": [
        {
          "output_type": "execute_result",
          "data": {
            "text/plain": [
              "star_rating\n",
              "4.0    715088\n",
              "3.0    627137\n",
              "5.0    283367\n",
              "2.0    133366\n",
              "0.0     85228\n",
              "1.0       793\n",
              "Name: count, dtype: int64"
            ]
          },
          "metadata": {},
          "execution_count": 20
        }
      ]
    },
    {
      "cell_type": "code",
      "source": [
        "df_model[\"review_rating\"].value_counts()"
      ],
      "metadata": {
        "colab": {
          "base_uri": "https://localhost:8080/"
        },
        "id": "MRGODqGsZTSz",
        "outputId": "3c452bdf-3a34-49d9-eab9-af19dfd02298"
      },
      "execution_count": 21,
      "outputs": [
        {
          "output_type": "execute_result",
          "data": {
            "text/plain": [
              "review_rating\n",
              "4.0    1206031\n",
              "5.0     493645\n",
              "3.0     107968\n",
              "0.0      27600\n",
              "2.0       9032\n",
              "1.0        703\n",
              "Name: count, dtype: int64"
            ]
          },
          "metadata": {},
          "execution_count": 21
        }
      ]
    },
    {
      "cell_type": "code",
      "source": [
        "## remove if review rating == 0, because indicates that no rating could be given\n",
        "df_model = df_model[df_model[\"review_rating\"] != 0.0]\n",
        "df_model[\"review_rating\"].value_counts()"
      ],
      "metadata": {
        "colab": {
          "base_uri": "https://localhost:8080/"
        },
        "id": "jAwSI8mKYPec",
        "outputId": "fb3e869e-aa9d-41bc-c084-b1ae96f631a4"
      },
      "execution_count": 22,
      "outputs": [
        {
          "output_type": "execute_result",
          "data": {
            "text/plain": [
              "review_rating\n",
              "4.0    1206031\n",
              "5.0     493645\n",
              "3.0     107968\n",
              "2.0       9032\n",
              "1.0        703\n",
              "Name: count, dtype: int64"
            ]
          },
          "metadata": {},
          "execution_count": 22
        }
      ]
    },
    {
      "cell_type": "code",
      "source": [
        "## rows without valid values are already dropped with review_rating\n",
        "df_model['review_count'].value_counts()"
      ],
      "metadata": {
        "colab": {
          "base_uri": "https://localhost:8080/"
        },
        "id": "AWT8JlpzYShV",
        "outputId": "9331311a-80a1-4e38-ae6b-17c1b3128050"
      },
      "execution_count": 23,
      "outputs": [
        {
          "output_type": "execute_result",
          "data": {
            "text/plain": [
              "review_count\n",
              "1025.0     358711\n",
              "1000.0     156005\n",
              "25.0       116550\n",
              "50.0        46534\n",
              "75.0        35742\n",
              "            ...  \n",
              "22100.0         3\n",
              "27775.0         3\n",
              "27750.0         2\n",
              "14325.0         2\n",
              "14675.0         1\n",
              "Name: count, Length: 747, dtype: int64"
            ]
          },
          "metadata": {},
          "execution_count": 23
        }
      ]
    },
    {
      "cell_type": "code",
      "source": [
        "df_model['price_bucket'].value_counts()"
      ],
      "metadata": {
        "colab": {
          "base_uri": "https://localhost:8080/"
        },
        "id": "xm03bGQy22x5",
        "outputId": "fcd0a250-45fa-42f1-ac9d-b653809d4503"
      },
      "execution_count": 24,
      "outputs": [
        {
          "output_type": "execute_result",
          "data": {
            "text/plain": [
              "price_bucket\n",
              "4.0    389951\n",
              "3.0    383366\n",
              "2.0    369453\n",
              "5.0    354746\n",
              "1.0    319863\n",
              "Name: count, dtype: int64"
            ]
          },
          "metadata": {},
          "execution_count": 24
        }
      ]
    },
    {
      "cell_type": "code",
      "source": [
        "import numpy as np"
      ],
      "metadata": {
        "id": "zzaAqG5Qgd8T"
      },
      "execution_count": 25,
      "outputs": []
    },
    {
      "cell_type": "code",
      "source": [
        "df_model[\"price_bucket\"].mean()"
      ],
      "metadata": {
        "colab": {
          "base_uri": "https://localhost:8080/"
        },
        "id": "_Mo2ax0ugX0r",
        "outputId": "212358d4-6778-40d1-9875-0ab1bce991f5"
      },
      "execution_count": 26,
      "outputs": [
        {
          "output_type": "execute_result",
          "data": {
            "text/plain": [
              "3.049667130521482"
            ]
          },
          "metadata": {},
          "execution_count": 26
        }
      ]
    },
    {
      "cell_type": "markdown",
      "source": [
        "#### Exclude ads"
      ],
      "metadata": {
        "id": "9zOXN7PFwCbh"
      }
    },
    {
      "cell_type": "code",
      "source": [
        "df_model['is_travel_ad'].value_counts()"
      ],
      "metadata": {
        "colab": {
          "base_uri": "https://localhost:8080/"
        },
        "id": "G8M8-8Q8vpKA",
        "outputId": "020b16e2-78b4-4e8c-f429-239250da701c"
      },
      "execution_count": 27,
      "outputs": [
        {
          "output_type": "execute_result",
          "data": {
            "text/plain": [
              "is_travel_ad\n",
              "0    1633412\n",
              "1     183967\n",
              "Name: count, dtype: int64"
            ]
          },
          "metadata": {},
          "execution_count": 27
        }
      ]
    },
    {
      "cell_type": "code",
      "source": [
        "# only rows that are no ads stay in df\n",
        "df_model = df_model[df_model['is_travel_ad'] == 0]\n",
        "df_model.shape"
      ],
      "metadata": {
        "colab": {
          "base_uri": "https://localhost:8080/"
        },
        "id": "vIWwuOJbwICV",
        "outputId": "6e383abb-eb45-4bb4-b7cd-75253533a439"
      },
      "execution_count": 28,
      "outputs": [
        {
          "output_type": "execute_result",
          "data": {
            "text/plain": [
              "(1633412, 39)"
            ]
          },
          "metadata": {},
          "execution_count": 28
        }
      ]
    },
    {
      "cell_type": "code",
      "source": [
        "df_model = df_model.drop(columns = \"is_travel_ad\")"
      ],
      "metadata": {
        "id": "dcTRy4r6zHdz"
      },
      "execution_count": 29,
      "outputs": []
    },
    {
      "cell_type": "code",
      "source": [
        "df_model['rank_noad'].value_counts()"
      ],
      "metadata": {
        "colab": {
          "base_uri": "https://localhost:8080/"
        },
        "id": "B6NhVwQVvUgs",
        "outputId": "10e779e1-1d59-474a-cbc4-d18b220281f2"
      },
      "execution_count": 30,
      "outputs": [
        {
          "output_type": "execute_result",
          "data": {
            "text/plain": [
              "rank_noad\n",
              "2.0     67698\n",
              "3.0     67037\n",
              "1.0     66633\n",
              "4.0     66430\n",
              "5.0     65730\n",
              "        ...  \n",
              "65.0        1\n",
              "64.0        1\n",
              "63.0        1\n",
              "61.0        1\n",
              "83.0        1\n",
              "Name: count, Length: 82, dtype: int64"
            ]
          },
          "metadata": {},
          "execution_count": 30
        }
      ]
    },
    {
      "cell_type": "markdown",
      "source": [
        "#### Extract month from checkin_date"
      ],
      "metadata": {
        "id": "_6Ps2IaNzTRb"
      }
    },
    {
      "cell_type": "code",
      "source": [],
      "metadata": {
        "id": "aLkVXUNDzS8G"
      },
      "execution_count": 30,
      "outputs": []
    },
    {
      "cell_type": "code",
      "source": [
        "df_model[\"in_date\"] = pd.to_datetime(df_model[\"checkin_date\"])\n",
        "df_model[\"in_date\"]"
      ],
      "metadata": {
        "colab": {
          "base_uri": "https://localhost:8080/"
        },
        "id": "YX8XJodq2P84",
        "outputId": "5bb08cab-c39f-43a8-fdd8-3b57f7c1f50e"
      },
      "execution_count": 31,
      "outputs": [
        {
          "output_type": "execute_result",
          "data": {
            "text/plain": [
              "0         2021-07-07\n",
              "3         2021-07-07\n",
              "4         2021-07-07\n",
              "5         2021-07-07\n",
              "6         2021-07-07\n",
              "             ...    \n",
              "2049513   2021-06-21\n",
              "2049514   2021-06-21\n",
              "2049515   2021-06-21\n",
              "2049516   2021-06-21\n",
              "2049517   2021-06-21\n",
              "Name: in_date, Length: 1633412, dtype: datetime64[ns]"
            ]
          },
          "metadata": {},
          "execution_count": 31
        }
      ]
    },
    {
      "cell_type": "code",
      "source": [
        "# Extract the month\n",
        "df_model[\"checkin_month\"] = df_model[\"in_date\"].dt.month"
      ],
      "metadata": {
        "id": "J492vh0MU_ub"
      },
      "execution_count": 32,
      "outputs": []
    },
    {
      "cell_type": "code",
      "source": [
        "# transform month to category\n",
        "df_model[\"checkin_month\"] = df_model[\"checkin_month\"].astype(\"category\")"
      ],
      "metadata": {
        "id": "LwJ6SVnzSVzC"
      },
      "execution_count": 33,
      "outputs": []
    },
    {
      "cell_type": "code",
      "source": [
        "# drop string and date time of checkin\n",
        "df_model = df_model.drop(columns = [\"checkin_date\", \"in_date\"])"
      ],
      "metadata": {
        "id": "q47Ew5iQVeGS"
      },
      "execution_count": 34,
      "outputs": []
    },
    {
      "cell_type": "markdown",
      "source": [
        "#### Transform amenities from string into category"
      ],
      "metadata": {
        "id": "olW-mM2fzYTd"
      }
    },
    {
      "cell_type": "code",
      "source": [
        "### replace True False strings with 1 and 0\n",
        "\n",
        "df_model = df_model.replace({\"True\": 1, \"False\": 0})"
      ],
      "metadata": {
        "id": "x6erLiWesPHu"
      },
      "execution_count": 35,
      "outputs": []
    },
    {
      "cell_type": "code",
      "source": [
        "df_model.head()"
      ],
      "metadata": {
        "colab": {
          "base_uri": "https://localhost:8080/",
          "height": 256
        },
        "id": "H2k8ZHG2sUH8",
        "outputId": "2612d37c-c6fe-4f63-a130-780845216a98"
      },
      "execution_count": 36,
      "outputs": [
        {
          "output_type": "execute_result",
          "data": {
            "text/plain": [
              "   search_id  point_of_sale  geo_location_country  is_mobile  destination_id  \\\n",
              "0          2              1                     1          0              49   \n",
              "3          2              1                     1          0              49   \n",
              "4          2              1                     1          0              49   \n",
              "5          2              1                     1          0              49   \n",
              "6          2              1                     1          0              49   \n",
              "\n",
              "   adult_count  child_count  length_of_stay  booking_window  checkin_day  ...  \\\n",
              "0            2            0             5.0            26.0            2  ...   \n",
              "3            2            0             5.0            26.0            2  ...   \n",
              "4            2            0             5.0            26.0            2  ...   \n",
              "5            2            0             5.0            26.0            2  ...   \n",
              "6            2            0             5.0            26.0            2  ...   \n",
              "\n",
              "   LaundryFacility  Parking  PetsAllowed  PrivatePool  SpaServices  \\\n",
              "0                1        0            0            0            0   \n",
              "3                1        1            1            0            0   \n",
              "4                1        1            1            0            0   \n",
              "5                1        0            1            0            0   \n",
              "6                1        1            0            0            0   \n",
              "\n",
              "   SwimmingPool  WasherDryer  WiFi relevance checkin_month  \n",
              "0             0            0     0         1             7  \n",
              "3             0            0     1         0             7  \n",
              "4             0            0     0         0             7  \n",
              "5             0            0     0         0             7  \n",
              "6             0            0     0         0             7  \n",
              "\n",
              "[5 rows x 38 columns]"
            ],
            "text/html": [
              "\n",
              "  <div id=\"df-7b7c864c-a959-4eb2-849a-a4c4738635a5\" class=\"colab-df-container\">\n",
              "    <div>\n",
              "<style scoped>\n",
              "    .dataframe tbody tr th:only-of-type {\n",
              "        vertical-align: middle;\n",
              "    }\n",
              "\n",
              "    .dataframe tbody tr th {\n",
              "        vertical-align: top;\n",
              "    }\n",
              "\n",
              "    .dataframe thead th {\n",
              "        text-align: right;\n",
              "    }\n",
              "</style>\n",
              "<table border=\"1\" class=\"dataframe\">\n",
              "  <thead>\n",
              "    <tr style=\"text-align: right;\">\n",
              "      <th></th>\n",
              "      <th>search_id</th>\n",
              "      <th>point_of_sale</th>\n",
              "      <th>geo_location_country</th>\n",
              "      <th>is_mobile</th>\n",
              "      <th>destination_id</th>\n",
              "      <th>adult_count</th>\n",
              "      <th>child_count</th>\n",
              "      <th>length_of_stay</th>\n",
              "      <th>booking_window</th>\n",
              "      <th>checkin_day</th>\n",
              "      <th>...</th>\n",
              "      <th>LaundryFacility</th>\n",
              "      <th>Parking</th>\n",
              "      <th>PetsAllowed</th>\n",
              "      <th>PrivatePool</th>\n",
              "      <th>SpaServices</th>\n",
              "      <th>SwimmingPool</th>\n",
              "      <th>WasherDryer</th>\n",
              "      <th>WiFi</th>\n",
              "      <th>relevance</th>\n",
              "      <th>checkin_month</th>\n",
              "    </tr>\n",
              "  </thead>\n",
              "  <tbody>\n",
              "    <tr>\n",
              "      <th>0</th>\n",
              "      <td>2</td>\n",
              "      <td>1</td>\n",
              "      <td>1</td>\n",
              "      <td>0</td>\n",
              "      <td>49</td>\n",
              "      <td>2</td>\n",
              "      <td>0</td>\n",
              "      <td>5.0</td>\n",
              "      <td>26.0</td>\n",
              "      <td>2</td>\n",
              "      <td>...</td>\n",
              "      <td>1</td>\n",
              "      <td>0</td>\n",
              "      <td>0</td>\n",
              "      <td>0</td>\n",
              "      <td>0</td>\n",
              "      <td>0</td>\n",
              "      <td>0</td>\n",
              "      <td>0</td>\n",
              "      <td>1</td>\n",
              "      <td>7</td>\n",
              "    </tr>\n",
              "    <tr>\n",
              "      <th>3</th>\n",
              "      <td>2</td>\n",
              "      <td>1</td>\n",
              "      <td>1</td>\n",
              "      <td>0</td>\n",
              "      <td>49</td>\n",
              "      <td>2</td>\n",
              "      <td>0</td>\n",
              "      <td>5.0</td>\n",
              "      <td>26.0</td>\n",
              "      <td>2</td>\n",
              "      <td>...</td>\n",
              "      <td>1</td>\n",
              "      <td>1</td>\n",
              "      <td>1</td>\n",
              "      <td>0</td>\n",
              "      <td>0</td>\n",
              "      <td>0</td>\n",
              "      <td>0</td>\n",
              "      <td>1</td>\n",
              "      <td>0</td>\n",
              "      <td>7</td>\n",
              "    </tr>\n",
              "    <tr>\n",
              "      <th>4</th>\n",
              "      <td>2</td>\n",
              "      <td>1</td>\n",
              "      <td>1</td>\n",
              "      <td>0</td>\n",
              "      <td>49</td>\n",
              "      <td>2</td>\n",
              "      <td>0</td>\n",
              "      <td>5.0</td>\n",
              "      <td>26.0</td>\n",
              "      <td>2</td>\n",
              "      <td>...</td>\n",
              "      <td>1</td>\n",
              "      <td>1</td>\n",
              "      <td>1</td>\n",
              "      <td>0</td>\n",
              "      <td>0</td>\n",
              "      <td>0</td>\n",
              "      <td>0</td>\n",
              "      <td>0</td>\n",
              "      <td>0</td>\n",
              "      <td>7</td>\n",
              "    </tr>\n",
              "    <tr>\n",
              "      <th>5</th>\n",
              "      <td>2</td>\n",
              "      <td>1</td>\n",
              "      <td>1</td>\n",
              "      <td>0</td>\n",
              "      <td>49</td>\n",
              "      <td>2</td>\n",
              "      <td>0</td>\n",
              "      <td>5.0</td>\n",
              "      <td>26.0</td>\n",
              "      <td>2</td>\n",
              "      <td>...</td>\n",
              "      <td>1</td>\n",
              "      <td>0</td>\n",
              "      <td>1</td>\n",
              "      <td>0</td>\n",
              "      <td>0</td>\n",
              "      <td>0</td>\n",
              "      <td>0</td>\n",
              "      <td>0</td>\n",
              "      <td>0</td>\n",
              "      <td>7</td>\n",
              "    </tr>\n",
              "    <tr>\n",
              "      <th>6</th>\n",
              "      <td>2</td>\n",
              "      <td>1</td>\n",
              "      <td>1</td>\n",
              "      <td>0</td>\n",
              "      <td>49</td>\n",
              "      <td>2</td>\n",
              "      <td>0</td>\n",
              "      <td>5.0</td>\n",
              "      <td>26.0</td>\n",
              "      <td>2</td>\n",
              "      <td>...</td>\n",
              "      <td>1</td>\n",
              "      <td>1</td>\n",
              "      <td>0</td>\n",
              "      <td>0</td>\n",
              "      <td>0</td>\n",
              "      <td>0</td>\n",
              "      <td>0</td>\n",
              "      <td>0</td>\n",
              "      <td>0</td>\n",
              "      <td>7</td>\n",
              "    </tr>\n",
              "  </tbody>\n",
              "</table>\n",
              "<p>5 rows × 38 columns</p>\n",
              "</div>\n",
              "    <div class=\"colab-df-buttons\">\n",
              "\n",
              "  <div class=\"colab-df-container\">\n",
              "    <button class=\"colab-df-convert\" onclick=\"convertToInteractive('df-7b7c864c-a959-4eb2-849a-a4c4738635a5')\"\n",
              "            title=\"Convert this dataframe to an interactive table.\"\n",
              "            style=\"display:none;\">\n",
              "\n",
              "  <svg xmlns=\"http://www.w3.org/2000/svg\" height=\"24px\" viewBox=\"0 -960 960 960\">\n",
              "    <path d=\"M120-120v-720h720v720H120Zm60-500h600v-160H180v160Zm220 220h160v-160H400v160Zm0 220h160v-160H400v160ZM180-400h160v-160H180v160Zm440 0h160v-160H620v160ZM180-180h160v-160H180v160Zm440 0h160v-160H620v160Z\"/>\n",
              "  </svg>\n",
              "    </button>\n",
              "\n",
              "  <style>\n",
              "    .colab-df-container {\n",
              "      display:flex;\n",
              "      gap: 12px;\n",
              "    }\n",
              "\n",
              "    .colab-df-convert {\n",
              "      background-color: #E8F0FE;\n",
              "      border: none;\n",
              "      border-radius: 50%;\n",
              "      cursor: pointer;\n",
              "      display: none;\n",
              "      fill: #1967D2;\n",
              "      height: 32px;\n",
              "      padding: 0 0 0 0;\n",
              "      width: 32px;\n",
              "    }\n",
              "\n",
              "    .colab-df-convert:hover {\n",
              "      background-color: #E2EBFA;\n",
              "      box-shadow: 0px 1px 2px rgba(60, 64, 67, 0.3), 0px 1px 3px 1px rgba(60, 64, 67, 0.15);\n",
              "      fill: #174EA6;\n",
              "    }\n",
              "\n",
              "    .colab-df-buttons div {\n",
              "      margin-bottom: 4px;\n",
              "    }\n",
              "\n",
              "    [theme=dark] .colab-df-convert {\n",
              "      background-color: #3B4455;\n",
              "      fill: #D2E3FC;\n",
              "    }\n",
              "\n",
              "    [theme=dark] .colab-df-convert:hover {\n",
              "      background-color: #434B5C;\n",
              "      box-shadow: 0px 1px 3px 1px rgba(0, 0, 0, 0.15);\n",
              "      filter: drop-shadow(0px 1px 2px rgba(0, 0, 0, 0.3));\n",
              "      fill: #FFFFFF;\n",
              "    }\n",
              "  </style>\n",
              "\n",
              "    <script>\n",
              "      const buttonEl =\n",
              "        document.querySelector('#df-7b7c864c-a959-4eb2-849a-a4c4738635a5 button.colab-df-convert');\n",
              "      buttonEl.style.display =\n",
              "        google.colab.kernel.accessAllowed ? 'block' : 'none';\n",
              "\n",
              "      async function convertToInteractive(key) {\n",
              "        const element = document.querySelector('#df-7b7c864c-a959-4eb2-849a-a4c4738635a5');\n",
              "        const dataTable =\n",
              "          await google.colab.kernel.invokeFunction('convertToInteractive',\n",
              "                                                    [key], {});\n",
              "        if (!dataTable) return;\n",
              "\n",
              "        const docLinkHtml = 'Like what you see? Visit the ' +\n",
              "          '<a target=\"_blank\" href=https://colab.research.google.com/notebooks/data_table.ipynb>data table notebook</a>'\n",
              "          + ' to learn more about interactive tables.';\n",
              "        element.innerHTML = '';\n",
              "        dataTable['output_type'] = 'display_data';\n",
              "        await google.colab.output.renderOutput(dataTable, element);\n",
              "        const docLink = document.createElement('div');\n",
              "        docLink.innerHTML = docLinkHtml;\n",
              "        element.appendChild(docLink);\n",
              "      }\n",
              "    </script>\n",
              "  </div>\n",
              "\n",
              "\n",
              "<div id=\"df-d122f643-3a7a-471c-b5ae-bece29349ccd\">\n",
              "  <button class=\"colab-df-quickchart\" onclick=\"quickchart('df-d122f643-3a7a-471c-b5ae-bece29349ccd')\"\n",
              "            title=\"Suggest charts\"\n",
              "            style=\"display:none;\">\n",
              "\n",
              "<svg xmlns=\"http://www.w3.org/2000/svg\" height=\"24px\"viewBox=\"0 0 24 24\"\n",
              "     width=\"24px\">\n",
              "    <g>\n",
              "        <path d=\"M19 3H5c-1.1 0-2 .9-2 2v14c0 1.1.9 2 2 2h14c1.1 0 2-.9 2-2V5c0-1.1-.9-2-2-2zM9 17H7v-7h2v7zm4 0h-2V7h2v10zm4 0h-2v-4h2v4z\"/>\n",
              "    </g>\n",
              "</svg>\n",
              "  </button>\n",
              "\n",
              "<style>\n",
              "  .colab-df-quickchart {\n",
              "      --bg-color: #E8F0FE;\n",
              "      --fill-color: #1967D2;\n",
              "      --hover-bg-color: #E2EBFA;\n",
              "      --hover-fill-color: #174EA6;\n",
              "      --disabled-fill-color: #AAA;\n",
              "      --disabled-bg-color: #DDD;\n",
              "  }\n",
              "\n",
              "  [theme=dark] .colab-df-quickchart {\n",
              "      --bg-color: #3B4455;\n",
              "      --fill-color: #D2E3FC;\n",
              "      --hover-bg-color: #434B5C;\n",
              "      --hover-fill-color: #FFFFFF;\n",
              "      --disabled-bg-color: #3B4455;\n",
              "      --disabled-fill-color: #666;\n",
              "  }\n",
              "\n",
              "  .colab-df-quickchart {\n",
              "    background-color: var(--bg-color);\n",
              "    border: none;\n",
              "    border-radius: 50%;\n",
              "    cursor: pointer;\n",
              "    display: none;\n",
              "    fill: var(--fill-color);\n",
              "    height: 32px;\n",
              "    padding: 0;\n",
              "    width: 32px;\n",
              "  }\n",
              "\n",
              "  .colab-df-quickchart:hover {\n",
              "    background-color: var(--hover-bg-color);\n",
              "    box-shadow: 0 1px 2px rgba(60, 64, 67, 0.3), 0 1px 3px 1px rgba(60, 64, 67, 0.15);\n",
              "    fill: var(--button-hover-fill-color);\n",
              "  }\n",
              "\n",
              "  .colab-df-quickchart-complete:disabled,\n",
              "  .colab-df-quickchart-complete:disabled:hover {\n",
              "    background-color: var(--disabled-bg-color);\n",
              "    fill: var(--disabled-fill-color);\n",
              "    box-shadow: none;\n",
              "  }\n",
              "\n",
              "  .colab-df-spinner {\n",
              "    border: 2px solid var(--fill-color);\n",
              "    border-color: transparent;\n",
              "    border-bottom-color: var(--fill-color);\n",
              "    animation:\n",
              "      spin 1s steps(1) infinite;\n",
              "  }\n",
              "\n",
              "  @keyframes spin {\n",
              "    0% {\n",
              "      border-color: transparent;\n",
              "      border-bottom-color: var(--fill-color);\n",
              "      border-left-color: var(--fill-color);\n",
              "    }\n",
              "    20% {\n",
              "      border-color: transparent;\n",
              "      border-left-color: var(--fill-color);\n",
              "      border-top-color: var(--fill-color);\n",
              "    }\n",
              "    30% {\n",
              "      border-color: transparent;\n",
              "      border-left-color: var(--fill-color);\n",
              "      border-top-color: var(--fill-color);\n",
              "      border-right-color: var(--fill-color);\n",
              "    }\n",
              "    40% {\n",
              "      border-color: transparent;\n",
              "      border-right-color: var(--fill-color);\n",
              "      border-top-color: var(--fill-color);\n",
              "    }\n",
              "    60% {\n",
              "      border-color: transparent;\n",
              "      border-right-color: var(--fill-color);\n",
              "    }\n",
              "    80% {\n",
              "      border-color: transparent;\n",
              "      border-right-color: var(--fill-color);\n",
              "      border-bottom-color: var(--fill-color);\n",
              "    }\n",
              "    90% {\n",
              "      border-color: transparent;\n",
              "      border-bottom-color: var(--fill-color);\n",
              "    }\n",
              "  }\n",
              "</style>\n",
              "\n",
              "  <script>\n",
              "    async function quickchart(key) {\n",
              "      const quickchartButtonEl =\n",
              "        document.querySelector('#' + key + ' button');\n",
              "      quickchartButtonEl.disabled = true;  // To prevent multiple clicks.\n",
              "      quickchartButtonEl.classList.add('colab-df-spinner');\n",
              "      try {\n",
              "        const charts = await google.colab.kernel.invokeFunction(\n",
              "            'suggestCharts', [key], {});\n",
              "      } catch (error) {\n",
              "        console.error('Error during call to suggestCharts:', error);\n",
              "      }\n",
              "      quickchartButtonEl.classList.remove('colab-df-spinner');\n",
              "      quickchartButtonEl.classList.add('colab-df-quickchart-complete');\n",
              "    }\n",
              "    (() => {\n",
              "      let quickchartButtonEl =\n",
              "        document.querySelector('#df-d122f643-3a7a-471c-b5ae-bece29349ccd button');\n",
              "      quickchartButtonEl.style.display =\n",
              "        google.colab.kernel.accessAllowed ? 'block' : 'none';\n",
              "    })();\n",
              "  </script>\n",
              "</div>\n",
              "    </div>\n",
              "  </div>\n"
            ],
            "application/vnd.google.colaboratory.intrinsic+json": {
              "type": "dataframe",
              "variable_name": "df_model"
            }
          },
          "metadata": {},
          "execution_count": 36
        }
      ]
    },
    {
      "cell_type": "code",
      "source": [
        "amenities =  ['AirConditioning',\n",
        "  'AirportTransfer',\n",
        "  'Bar',\n",
        "  'FreeAirportTransportation',\n",
        "  'FreeBreakfast',\n",
        "  'FreeParking',\n",
        "  'FreeWiFi',\n",
        "  'Gym',\n",
        "  'HighSpeedInternet',\n",
        "  'HotTub',\n",
        "  'LaundryFacility',\n",
        "  'Parking',\n",
        "  'PetsAllowed',\n",
        "  'PrivatePool',\n",
        "  'SpaServices',\n",
        "  'SwimmingPool',\n",
        "  'WasherDryer',\n",
        "  'WiFi']\n",
        "\n",
        "\n",
        "\n",
        "# change type to category:\n",
        "for amenity in amenities:\n",
        "  df_model[amenity] = df_model[amenity].astype('int')"
      ],
      "metadata": {
        "id": "uifYi1S8xnxM"
      },
      "execution_count": 37,
      "outputs": []
    },
    {
      "cell_type": "code",
      "source": [
        "# df_model['is_mobile'] = df_model['is_mobile'].astype('category')\n",
        "# df_model['is_free_cancellation'] = df_model['is_free_cancellation'].astype('category')\n",
        "# df_model['is_drr'] = df_model['is_drr'].astype('category')\n",
        "df_model['checkin_day'] = df_model['checkin_day'].astype('category')\n",
        "df_model['checkout_day'] = df_model['checkout_day'].astype('category')"
      ],
      "metadata": {
        "id": "kn9KF69Acqkm"
      },
      "execution_count": 38,
      "outputs": []
    },
    {
      "cell_type": "code",
      "source": [
        "df_model.dtypes"
      ],
      "metadata": {
        "colab": {
          "base_uri": "https://localhost:8080/"
        },
        "id": "-QfSevXsl22X",
        "outputId": "6e5492bd-40eb-435e-ab96-bdc9dd0dfbb6"
      },
      "execution_count": 39,
      "outputs": [
        {
          "output_type": "execute_result",
          "data": {
            "text/plain": [
              "search_id                       int64\n",
              "point_of_sale                   int64\n",
              "geo_location_country            int64\n",
              "is_mobile                       int64\n",
              "destination_id                  int64\n",
              "adult_count                     int64\n",
              "child_count                     int64\n",
              "length_of_stay                float64\n",
              "booking_window                float64\n",
              "checkin_day                  category\n",
              "checkout_day                 category\n",
              "review_rating                 float64\n",
              "review_count                  float64\n",
              "star_rating                   float64\n",
              "is_free_cancellation            int64\n",
              "is_drr                          int64\n",
              "price_bucket                  float64\n",
              "rank_noad                     float64\n",
              "AirConditioning                 int64\n",
              "AirportTransfer                 int64\n",
              "Bar                             int64\n",
              "FreeAirportTransportation       int64\n",
              "FreeBreakfast                   int64\n",
              "FreeParking                     int64\n",
              "FreeWiFi                        int64\n",
              "Gym                             int64\n",
              "HighSpeedInternet               int64\n",
              "HotTub                          int64\n",
              "LaundryFacility                 int64\n",
              "Parking                         int64\n",
              "PetsAllowed                     int64\n",
              "PrivatePool                     int64\n",
              "SpaServices                     int64\n",
              "SwimmingPool                    int64\n",
              "WasherDryer                     int64\n",
              "WiFi                            int64\n",
              "relevance                       int64\n",
              "checkin_month                category\n",
              "dtype: object"
            ]
          },
          "metadata": {},
          "execution_count": 39
        }
      ]
    },
    {
      "cell_type": "code",
      "source": [
        "## keep only integer/float columns for XGB\n",
        "df_model.head()"
      ],
      "metadata": {
        "colab": {
          "base_uri": "https://localhost:8080/",
          "height": 256
        },
        "id": "bKDKaEWCKtbh",
        "outputId": "3c77da3f-bf83-4f14-a6ff-7b61358e7986"
      },
      "execution_count": 40,
      "outputs": [
        {
          "output_type": "execute_result",
          "data": {
            "text/plain": [
              "   search_id  point_of_sale  geo_location_country  is_mobile  destination_id  \\\n",
              "0          2              1                     1          0              49   \n",
              "3          2              1                     1          0              49   \n",
              "4          2              1                     1          0              49   \n",
              "5          2              1                     1          0              49   \n",
              "6          2              1                     1          0              49   \n",
              "\n",
              "   adult_count  child_count  length_of_stay  booking_window checkin_day  ...  \\\n",
              "0            2            0             5.0            26.0           2  ...   \n",
              "3            2            0             5.0            26.0           2  ...   \n",
              "4            2            0             5.0            26.0           2  ...   \n",
              "5            2            0             5.0            26.0           2  ...   \n",
              "6            2            0             5.0            26.0           2  ...   \n",
              "\n",
              "  LaundryFacility  Parking  PetsAllowed  PrivatePool  SpaServices  \\\n",
              "0               1        0            0            0            0   \n",
              "3               1        1            1            0            0   \n",
              "4               1        1            1            0            0   \n",
              "5               1        0            1            0            0   \n",
              "6               1        1            0            0            0   \n",
              "\n",
              "   SwimmingPool  WasherDryer  WiFi  relevance  checkin_month  \n",
              "0             0            0     0          1              7  \n",
              "3             0            0     1          0              7  \n",
              "4             0            0     0          0              7  \n",
              "5             0            0     0          0              7  \n",
              "6             0            0     0          0              7  \n",
              "\n",
              "[5 rows x 38 columns]"
            ],
            "text/html": [
              "\n",
              "  <div id=\"df-1c0b0d8c-b057-48fc-bad1-51ab9e230f3f\" class=\"colab-df-container\">\n",
              "    <div>\n",
              "<style scoped>\n",
              "    .dataframe tbody tr th:only-of-type {\n",
              "        vertical-align: middle;\n",
              "    }\n",
              "\n",
              "    .dataframe tbody tr th {\n",
              "        vertical-align: top;\n",
              "    }\n",
              "\n",
              "    .dataframe thead th {\n",
              "        text-align: right;\n",
              "    }\n",
              "</style>\n",
              "<table border=\"1\" class=\"dataframe\">\n",
              "  <thead>\n",
              "    <tr style=\"text-align: right;\">\n",
              "      <th></th>\n",
              "      <th>search_id</th>\n",
              "      <th>point_of_sale</th>\n",
              "      <th>geo_location_country</th>\n",
              "      <th>is_mobile</th>\n",
              "      <th>destination_id</th>\n",
              "      <th>adult_count</th>\n",
              "      <th>child_count</th>\n",
              "      <th>length_of_stay</th>\n",
              "      <th>booking_window</th>\n",
              "      <th>checkin_day</th>\n",
              "      <th>...</th>\n",
              "      <th>LaundryFacility</th>\n",
              "      <th>Parking</th>\n",
              "      <th>PetsAllowed</th>\n",
              "      <th>PrivatePool</th>\n",
              "      <th>SpaServices</th>\n",
              "      <th>SwimmingPool</th>\n",
              "      <th>WasherDryer</th>\n",
              "      <th>WiFi</th>\n",
              "      <th>relevance</th>\n",
              "      <th>checkin_month</th>\n",
              "    </tr>\n",
              "  </thead>\n",
              "  <tbody>\n",
              "    <tr>\n",
              "      <th>0</th>\n",
              "      <td>2</td>\n",
              "      <td>1</td>\n",
              "      <td>1</td>\n",
              "      <td>0</td>\n",
              "      <td>49</td>\n",
              "      <td>2</td>\n",
              "      <td>0</td>\n",
              "      <td>5.0</td>\n",
              "      <td>26.0</td>\n",
              "      <td>2</td>\n",
              "      <td>...</td>\n",
              "      <td>1</td>\n",
              "      <td>0</td>\n",
              "      <td>0</td>\n",
              "      <td>0</td>\n",
              "      <td>0</td>\n",
              "      <td>0</td>\n",
              "      <td>0</td>\n",
              "      <td>0</td>\n",
              "      <td>1</td>\n",
              "      <td>7</td>\n",
              "    </tr>\n",
              "    <tr>\n",
              "      <th>3</th>\n",
              "      <td>2</td>\n",
              "      <td>1</td>\n",
              "      <td>1</td>\n",
              "      <td>0</td>\n",
              "      <td>49</td>\n",
              "      <td>2</td>\n",
              "      <td>0</td>\n",
              "      <td>5.0</td>\n",
              "      <td>26.0</td>\n",
              "      <td>2</td>\n",
              "      <td>...</td>\n",
              "      <td>1</td>\n",
              "      <td>1</td>\n",
              "      <td>1</td>\n",
              "      <td>0</td>\n",
              "      <td>0</td>\n",
              "      <td>0</td>\n",
              "      <td>0</td>\n",
              "      <td>1</td>\n",
              "      <td>0</td>\n",
              "      <td>7</td>\n",
              "    </tr>\n",
              "    <tr>\n",
              "      <th>4</th>\n",
              "      <td>2</td>\n",
              "      <td>1</td>\n",
              "      <td>1</td>\n",
              "      <td>0</td>\n",
              "      <td>49</td>\n",
              "      <td>2</td>\n",
              "      <td>0</td>\n",
              "      <td>5.0</td>\n",
              "      <td>26.0</td>\n",
              "      <td>2</td>\n",
              "      <td>...</td>\n",
              "      <td>1</td>\n",
              "      <td>1</td>\n",
              "      <td>1</td>\n",
              "      <td>0</td>\n",
              "      <td>0</td>\n",
              "      <td>0</td>\n",
              "      <td>0</td>\n",
              "      <td>0</td>\n",
              "      <td>0</td>\n",
              "      <td>7</td>\n",
              "    </tr>\n",
              "    <tr>\n",
              "      <th>5</th>\n",
              "      <td>2</td>\n",
              "      <td>1</td>\n",
              "      <td>1</td>\n",
              "      <td>0</td>\n",
              "      <td>49</td>\n",
              "      <td>2</td>\n",
              "      <td>0</td>\n",
              "      <td>5.0</td>\n",
              "      <td>26.0</td>\n",
              "      <td>2</td>\n",
              "      <td>...</td>\n",
              "      <td>1</td>\n",
              "      <td>0</td>\n",
              "      <td>1</td>\n",
              "      <td>0</td>\n",
              "      <td>0</td>\n",
              "      <td>0</td>\n",
              "      <td>0</td>\n",
              "      <td>0</td>\n",
              "      <td>0</td>\n",
              "      <td>7</td>\n",
              "    </tr>\n",
              "    <tr>\n",
              "      <th>6</th>\n",
              "      <td>2</td>\n",
              "      <td>1</td>\n",
              "      <td>1</td>\n",
              "      <td>0</td>\n",
              "      <td>49</td>\n",
              "      <td>2</td>\n",
              "      <td>0</td>\n",
              "      <td>5.0</td>\n",
              "      <td>26.0</td>\n",
              "      <td>2</td>\n",
              "      <td>...</td>\n",
              "      <td>1</td>\n",
              "      <td>1</td>\n",
              "      <td>0</td>\n",
              "      <td>0</td>\n",
              "      <td>0</td>\n",
              "      <td>0</td>\n",
              "      <td>0</td>\n",
              "      <td>0</td>\n",
              "      <td>0</td>\n",
              "      <td>7</td>\n",
              "    </tr>\n",
              "  </tbody>\n",
              "</table>\n",
              "<p>5 rows × 38 columns</p>\n",
              "</div>\n",
              "    <div class=\"colab-df-buttons\">\n",
              "\n",
              "  <div class=\"colab-df-container\">\n",
              "    <button class=\"colab-df-convert\" onclick=\"convertToInteractive('df-1c0b0d8c-b057-48fc-bad1-51ab9e230f3f')\"\n",
              "            title=\"Convert this dataframe to an interactive table.\"\n",
              "            style=\"display:none;\">\n",
              "\n",
              "  <svg xmlns=\"http://www.w3.org/2000/svg\" height=\"24px\" viewBox=\"0 -960 960 960\">\n",
              "    <path d=\"M120-120v-720h720v720H120Zm60-500h600v-160H180v160Zm220 220h160v-160H400v160Zm0 220h160v-160H400v160ZM180-400h160v-160H180v160Zm440 0h160v-160H620v160ZM180-180h160v-160H180v160Zm440 0h160v-160H620v160Z\"/>\n",
              "  </svg>\n",
              "    </button>\n",
              "\n",
              "  <style>\n",
              "    .colab-df-container {\n",
              "      display:flex;\n",
              "      gap: 12px;\n",
              "    }\n",
              "\n",
              "    .colab-df-convert {\n",
              "      background-color: #E8F0FE;\n",
              "      border: none;\n",
              "      border-radius: 50%;\n",
              "      cursor: pointer;\n",
              "      display: none;\n",
              "      fill: #1967D2;\n",
              "      height: 32px;\n",
              "      padding: 0 0 0 0;\n",
              "      width: 32px;\n",
              "    }\n",
              "\n",
              "    .colab-df-convert:hover {\n",
              "      background-color: #E2EBFA;\n",
              "      box-shadow: 0px 1px 2px rgba(60, 64, 67, 0.3), 0px 1px 3px 1px rgba(60, 64, 67, 0.15);\n",
              "      fill: #174EA6;\n",
              "    }\n",
              "\n",
              "    .colab-df-buttons div {\n",
              "      margin-bottom: 4px;\n",
              "    }\n",
              "\n",
              "    [theme=dark] .colab-df-convert {\n",
              "      background-color: #3B4455;\n",
              "      fill: #D2E3FC;\n",
              "    }\n",
              "\n",
              "    [theme=dark] .colab-df-convert:hover {\n",
              "      background-color: #434B5C;\n",
              "      box-shadow: 0px 1px 3px 1px rgba(0, 0, 0, 0.15);\n",
              "      filter: drop-shadow(0px 1px 2px rgba(0, 0, 0, 0.3));\n",
              "      fill: #FFFFFF;\n",
              "    }\n",
              "  </style>\n",
              "\n",
              "    <script>\n",
              "      const buttonEl =\n",
              "        document.querySelector('#df-1c0b0d8c-b057-48fc-bad1-51ab9e230f3f button.colab-df-convert');\n",
              "      buttonEl.style.display =\n",
              "        google.colab.kernel.accessAllowed ? 'block' : 'none';\n",
              "\n",
              "      async function convertToInteractive(key) {\n",
              "        const element = document.querySelector('#df-1c0b0d8c-b057-48fc-bad1-51ab9e230f3f');\n",
              "        const dataTable =\n",
              "          await google.colab.kernel.invokeFunction('convertToInteractive',\n",
              "                                                    [key], {});\n",
              "        if (!dataTable) return;\n",
              "\n",
              "        const docLinkHtml = 'Like what you see? Visit the ' +\n",
              "          '<a target=\"_blank\" href=https://colab.research.google.com/notebooks/data_table.ipynb>data table notebook</a>'\n",
              "          + ' to learn more about interactive tables.';\n",
              "        element.innerHTML = '';\n",
              "        dataTable['output_type'] = 'display_data';\n",
              "        await google.colab.output.renderOutput(dataTable, element);\n",
              "        const docLink = document.createElement('div');\n",
              "        docLink.innerHTML = docLinkHtml;\n",
              "        element.appendChild(docLink);\n",
              "      }\n",
              "    </script>\n",
              "  </div>\n",
              "\n",
              "\n",
              "<div id=\"df-d074624a-3e36-4c3a-bd19-f97975ffcd48\">\n",
              "  <button class=\"colab-df-quickchart\" onclick=\"quickchart('df-d074624a-3e36-4c3a-bd19-f97975ffcd48')\"\n",
              "            title=\"Suggest charts\"\n",
              "            style=\"display:none;\">\n",
              "\n",
              "<svg xmlns=\"http://www.w3.org/2000/svg\" height=\"24px\"viewBox=\"0 0 24 24\"\n",
              "     width=\"24px\">\n",
              "    <g>\n",
              "        <path d=\"M19 3H5c-1.1 0-2 .9-2 2v14c0 1.1.9 2 2 2h14c1.1 0 2-.9 2-2V5c0-1.1-.9-2-2-2zM9 17H7v-7h2v7zm4 0h-2V7h2v10zm4 0h-2v-4h2v4z\"/>\n",
              "    </g>\n",
              "</svg>\n",
              "  </button>\n",
              "\n",
              "<style>\n",
              "  .colab-df-quickchart {\n",
              "      --bg-color: #E8F0FE;\n",
              "      --fill-color: #1967D2;\n",
              "      --hover-bg-color: #E2EBFA;\n",
              "      --hover-fill-color: #174EA6;\n",
              "      --disabled-fill-color: #AAA;\n",
              "      --disabled-bg-color: #DDD;\n",
              "  }\n",
              "\n",
              "  [theme=dark] .colab-df-quickchart {\n",
              "      --bg-color: #3B4455;\n",
              "      --fill-color: #D2E3FC;\n",
              "      --hover-bg-color: #434B5C;\n",
              "      --hover-fill-color: #FFFFFF;\n",
              "      --disabled-bg-color: #3B4455;\n",
              "      --disabled-fill-color: #666;\n",
              "  }\n",
              "\n",
              "  .colab-df-quickchart {\n",
              "    background-color: var(--bg-color);\n",
              "    border: none;\n",
              "    border-radius: 50%;\n",
              "    cursor: pointer;\n",
              "    display: none;\n",
              "    fill: var(--fill-color);\n",
              "    height: 32px;\n",
              "    padding: 0;\n",
              "    width: 32px;\n",
              "  }\n",
              "\n",
              "  .colab-df-quickchart:hover {\n",
              "    background-color: var(--hover-bg-color);\n",
              "    box-shadow: 0 1px 2px rgba(60, 64, 67, 0.3), 0 1px 3px 1px rgba(60, 64, 67, 0.15);\n",
              "    fill: var(--button-hover-fill-color);\n",
              "  }\n",
              "\n",
              "  .colab-df-quickchart-complete:disabled,\n",
              "  .colab-df-quickchart-complete:disabled:hover {\n",
              "    background-color: var(--disabled-bg-color);\n",
              "    fill: var(--disabled-fill-color);\n",
              "    box-shadow: none;\n",
              "  }\n",
              "\n",
              "  .colab-df-spinner {\n",
              "    border: 2px solid var(--fill-color);\n",
              "    border-color: transparent;\n",
              "    border-bottom-color: var(--fill-color);\n",
              "    animation:\n",
              "      spin 1s steps(1) infinite;\n",
              "  }\n",
              "\n",
              "  @keyframes spin {\n",
              "    0% {\n",
              "      border-color: transparent;\n",
              "      border-bottom-color: var(--fill-color);\n",
              "      border-left-color: var(--fill-color);\n",
              "    }\n",
              "    20% {\n",
              "      border-color: transparent;\n",
              "      border-left-color: var(--fill-color);\n",
              "      border-top-color: var(--fill-color);\n",
              "    }\n",
              "    30% {\n",
              "      border-color: transparent;\n",
              "      border-left-color: var(--fill-color);\n",
              "      border-top-color: var(--fill-color);\n",
              "      border-right-color: var(--fill-color);\n",
              "    }\n",
              "    40% {\n",
              "      border-color: transparent;\n",
              "      border-right-color: var(--fill-color);\n",
              "      border-top-color: var(--fill-color);\n",
              "    }\n",
              "    60% {\n",
              "      border-color: transparent;\n",
              "      border-right-color: var(--fill-color);\n",
              "    }\n",
              "    80% {\n",
              "      border-color: transparent;\n",
              "      border-right-color: var(--fill-color);\n",
              "      border-bottom-color: var(--fill-color);\n",
              "    }\n",
              "    90% {\n",
              "      border-color: transparent;\n",
              "      border-bottom-color: var(--fill-color);\n",
              "    }\n",
              "  }\n",
              "</style>\n",
              "\n",
              "  <script>\n",
              "    async function quickchart(key) {\n",
              "      const quickchartButtonEl =\n",
              "        document.querySelector('#' + key + ' button');\n",
              "      quickchartButtonEl.disabled = true;  // To prevent multiple clicks.\n",
              "      quickchartButtonEl.classList.add('colab-df-spinner');\n",
              "      try {\n",
              "        const charts = await google.colab.kernel.invokeFunction(\n",
              "            'suggestCharts', [key], {});\n",
              "      } catch (error) {\n",
              "        console.error('Error during call to suggestCharts:', error);\n",
              "      }\n",
              "      quickchartButtonEl.classList.remove('colab-df-spinner');\n",
              "      quickchartButtonEl.classList.add('colab-df-quickchart-complete');\n",
              "    }\n",
              "    (() => {\n",
              "      let quickchartButtonEl =\n",
              "        document.querySelector('#df-d074624a-3e36-4c3a-bd19-f97975ffcd48 button');\n",
              "      quickchartButtonEl.style.display =\n",
              "        google.colab.kernel.accessAllowed ? 'block' : 'none';\n",
              "    })();\n",
              "  </script>\n",
              "</div>\n",
              "    </div>\n",
              "  </div>\n"
            ],
            "application/vnd.google.colaboratory.intrinsic+json": {
              "type": "dataframe",
              "variable_name": "df_model"
            }
          },
          "metadata": {},
          "execution_count": 40
        }
      ]
    },
    {
      "cell_type": "code",
      "source": [
        "categorical_features = df_model.select_dtypes(include=['category']).columns.tolist()\n",
        "# numeric_features = df_model.select_dtypes(exclude=['category']).columns.tolist()\n",
        "\n",
        "\n",
        "categorical_features"
      ],
      "metadata": {
        "colab": {
          "base_uri": "https://localhost:8080/"
        },
        "id": "9K1jkcC5hIXQ",
        "outputId": "719ab759-745b-4bff-ddb3-115f1150b253"
      },
      "execution_count": 41,
      "outputs": [
        {
          "output_type": "execute_result",
          "data": {
            "text/plain": [
              "['checkin_day', 'checkout_day', 'checkin_month']"
            ]
          },
          "metadata": {},
          "execution_count": 41
        }
      ]
    },
    {
      "cell_type": "code",
      "source": [
        "df_model.shape"
      ],
      "metadata": {
        "colab": {
          "base_uri": "https://localhost:8080/"
        },
        "id": "wXq4g_GJN5xq",
        "outputId": "587ff754-20c1-4723-df78-2c74b2b1a727"
      },
      "execution_count": 42,
      "outputs": [
        {
          "output_type": "execute_result",
          "data": {
            "text/plain": [
              "(1633412, 38)"
            ]
          },
          "metadata": {},
          "execution_count": 42
        }
      ]
    },
    {
      "cell_type": "code",
      "source": [
        "# drop rows with NaN values\n",
        "# there should be no more rows dropped\n",
        "df_model = df_model.dropna()\n",
        "\n",
        "df_model.shape"
      ],
      "metadata": {
        "colab": {
          "base_uri": "https://localhost:8080/"
        },
        "id": "LLVjLGYX30Vj",
        "outputId": "f1aef8dd-192b-4e5b-d9a8-25c9b8240337"
      },
      "execution_count": 43,
      "outputs": [
        {
          "output_type": "execute_result",
          "data": {
            "text/plain": [
              "(1633412, 38)"
            ]
          },
          "metadata": {},
          "execution_count": 43
        }
      ]
    },
    {
      "cell_type": "code",
      "source": [
        "#### check data before test - train split\n",
        "\n",
        "# are there qids with only one row?\n",
        "# throw out rows where qid is unique - for those ndcg is not possible to calculate\n",
        "# Find counts of each group\n",
        "group_counts = df_model[\"search_id\"].value_counts()\n",
        "unique_groups = group_counts[group_counts == 1].index\n",
        "\n",
        "filtered_df = df_model[~df_model[\"search_id\"].isin(unique_groups)]\n",
        "filtered_df.shape"
      ],
      "metadata": {
        "colab": {
          "base_uri": "https://localhost:8080/"
        },
        "id": "au-ElXio7xJG",
        "outputId": "f0725839-ba47-4a0b-87f2-eb855a461f7c"
      },
      "execution_count": 44,
      "outputs": [
        {
          "output_type": "execute_result",
          "data": {
            "text/plain": [
              "(1633131, 38)"
            ]
          },
          "metadata": {},
          "execution_count": 44
        }
      ]
    },
    {
      "cell_type": "code",
      "source": [
        "df_model = filtered_df"
      ],
      "metadata": {
        "id": "_-ECkZQpYeRC"
      },
      "execution_count": 45,
      "outputs": []
    },
    {
      "cell_type": "markdown",
      "source": [
        "#### Remove initial rank from features"
      ],
      "metadata": {
        "id": "W-dHGIHQb6bK"
      }
    },
    {
      "cell_type": "code",
      "source": [
        "df_model = df_model.drop(columns = \"rank_noad\")"
      ],
      "metadata": {
        "id": "dLVpJZa_b6Ev"
      },
      "execution_count": 46,
      "outputs": []
    },
    {
      "cell_type": "markdown",
      "source": [
        "#### Train test split\n",
        "\n",
        "- check here for qids with only one row/ queries with only zeros in relevance"
      ],
      "metadata": {
        "id": "CRBpRKg7Kx1n"
      }
    },
    {
      "cell_type": "code",
      "source": [
        "from sklearn.model_selection import GroupShuffleSplit\n",
        "\n",
        "def split_by_qid(df, test_size):\n",
        "    gss = GroupShuffleSplit(test_size=test_size, n_splits=1, random_state=42)\n",
        "    ids = df['search_id'].unique()\n",
        "    train_idx, test_idx = next(gss.split(ids, groups=ids))\n",
        "    return df[df['search_id'].isin(ids[train_idx])], df[df['search_id'].isin(ids[test_idx])]\n",
        "\n",
        "#_, temp_df = split_by_qid(df2, test_size=0.2)\n",
        "train_df, test_df = split_by_qid(df_model, test_size=0.3)\n",
        "\n",
        "train_df.shape, test_df.shape"
      ],
      "metadata": {
        "colab": {
          "base_uri": "https://localhost:8080/"
        },
        "id": "5QeV6PzdbTkn",
        "outputId": "c71f83fe-fd19-40f8-fd26-e88379027023"
      },
      "execution_count": 47,
      "outputs": [
        {
          "output_type": "execute_result",
          "data": {
            "text/plain": [
              "((1142054, 37), (491077, 37))"
            ]
          },
          "metadata": {},
          "execution_count": 47
        }
      ]
    },
    {
      "cell_type": "code",
      "source": [
        "# data needs to be ordered by qid for XGBRank function\n",
        "train_df = train_df.sort_values(by = \"search_id\")\n",
        "X_train = train_df.drop(columns = [\"search_id\", \"relevance\"])\n",
        "\n",
        "\n",
        "# feature names for plots later on\n",
        "#features_list = X.columns.tolist()\n",
        "\n",
        "# scale features\n",
        "#X = normalize(X)\n",
        "\n",
        "# relevance label is outcome var\n",
        "y_train = train_df[\"relevance\"]\n",
        "qid_train = train_df[\"search_id\"]"
      ],
      "metadata": {
        "id": "cy6weOYZPHYo"
      },
      "execution_count": 48,
      "outputs": []
    },
    {
      "cell_type": "code",
      "source": [
        "X_train.dtypes"
      ],
      "metadata": {
        "colab": {
          "base_uri": "https://localhost:8080/"
        },
        "id": "rla0Ti9HPxnJ",
        "outputId": "f1530c16-ba83-4355-b0ba-cc3c1ddc0e97"
      },
      "execution_count": 49,
      "outputs": [
        {
          "output_type": "execute_result",
          "data": {
            "text/plain": [
              "point_of_sale                   int64\n",
              "geo_location_country            int64\n",
              "is_mobile                       int64\n",
              "destination_id                  int64\n",
              "adult_count                     int64\n",
              "child_count                     int64\n",
              "length_of_stay                float64\n",
              "booking_window                float64\n",
              "checkin_day                  category\n",
              "checkout_day                 category\n",
              "review_rating                 float64\n",
              "review_count                  float64\n",
              "star_rating                   float64\n",
              "is_free_cancellation            int64\n",
              "is_drr                          int64\n",
              "price_bucket                  float64\n",
              "AirConditioning                 int64\n",
              "AirportTransfer                 int64\n",
              "Bar                             int64\n",
              "FreeAirportTransportation       int64\n",
              "FreeBreakfast                   int64\n",
              "FreeParking                     int64\n",
              "FreeWiFi                        int64\n",
              "Gym                             int64\n",
              "HighSpeedInternet               int64\n",
              "HotTub                          int64\n",
              "LaundryFacility                 int64\n",
              "Parking                         int64\n",
              "PetsAllowed                     int64\n",
              "PrivatePool                     int64\n",
              "SpaServices                     int64\n",
              "SwimmingPool                    int64\n",
              "WasherDryer                     int64\n",
              "WiFi                            int64\n",
              "checkin_month                category\n",
              "dtype: object"
            ]
          },
          "metadata": {},
          "execution_count": 49
        }
      ]
    },
    {
      "cell_type": "code",
      "source": [
        "# same data format for test data\n",
        "test_df = test_df.sort_values(by = \"search_id\")\n",
        "\n",
        "X_test = test_df.drop(columns = [\"search_id\", \"relevance\"])\n",
        "\n",
        "#X_test = normalize(X_test)\n",
        "\n",
        "y_test = test_df[\"relevance\"]\n",
        "qid_test = test_df[\"search_id\"]"
      ],
      "metadata": {
        "id": "2PF00IvgPt7y"
      },
      "execution_count": 50,
      "outputs": []
    },
    {
      "cell_type": "code",
      "source": [
        "categorical_features = X_train.select_dtypes(include=['category']).columns.tolist()\n",
        "numeric_features = X_train.select_dtypes(exclude=['category']).columns.tolist()\n",
        "\n",
        "# take out destination ID and geo_location_country and point_of_sale from list so it can be encoded separately\n",
        "numeric_features.remove(\"destination_id\")\n",
        "numeric_features.remove(\"geo_location_country\")\n",
        "numeric_features.remove(\"point_of_sale\")\n",
        "\n",
        "\n",
        "categorical_features, numeric_features"
      ],
      "metadata": {
        "colab": {
          "base_uri": "https://localhost:8080/"
        },
        "id": "bhNAAjKgn9EW",
        "outputId": "c6809081-c2dd-4b96-cc03-d7035255c468"
      },
      "execution_count": 51,
      "outputs": [
        {
          "output_type": "execute_result",
          "data": {
            "text/plain": [
              "(['checkin_day', 'checkout_day', 'checkin_month'],\n",
              " ['is_mobile',\n",
              "  'adult_count',\n",
              "  'child_count',\n",
              "  'length_of_stay',\n",
              "  'booking_window',\n",
              "  'review_rating',\n",
              "  'review_count',\n",
              "  'star_rating',\n",
              "  'is_free_cancellation',\n",
              "  'is_drr',\n",
              "  'price_bucket',\n",
              "  'AirConditioning',\n",
              "  'AirportTransfer',\n",
              "  'Bar',\n",
              "  'FreeAirportTransportation',\n",
              "  'FreeBreakfast',\n",
              "  'FreeParking',\n",
              "  'FreeWiFi',\n",
              "  'Gym',\n",
              "  'HighSpeedInternet',\n",
              "  'HotTub',\n",
              "  'LaundryFacility',\n",
              "  'Parking',\n",
              "  'PetsAllowed',\n",
              "  'PrivatePool',\n",
              "  'SpaServices',\n",
              "  'SwimmingPool',\n",
              "  'WasherDryer',\n",
              "  'WiFi'])"
            ]
          },
          "metadata": {},
          "execution_count": 51
        }
      ]
    },
    {
      "cell_type": "markdown",
      "source": [
        "#### Feature pre-processing"
      ],
      "metadata": {
        "id": "BiMIHiTGIS0t"
      }
    },
    {
      "cell_type": "code",
      "source": [
        "!pip install category_encoders"
      ],
      "metadata": {
        "colab": {
          "base_uri": "https://localhost:8080/"
        },
        "id": "AuMqqsIpUmEI",
        "outputId": "a5fe07a8-b06a-4173-f1d0-0c1334ce9b4b"
      },
      "execution_count": 52,
      "outputs": [
        {
          "output_type": "stream",
          "name": "stdout",
          "text": [
            "Collecting category_encoders\n",
            "  Downloading category_encoders-2.6.3-py2.py3-none-any.whl (81 kB)\n",
            "\u001b[2K     \u001b[90m━━━━━━━━━━━━━━━━━━━━━━━━━━━━━━━━━━━━━━━━\u001b[0m \u001b[32m81.9/81.9 kB\u001b[0m \u001b[31m2.4 MB/s\u001b[0m eta \u001b[36m0:00:00\u001b[0m\n",
            "\u001b[?25hRequirement already satisfied: numpy>=1.14.0 in /usr/local/lib/python3.10/dist-packages (from category_encoders) (1.25.2)\n",
            "Requirement already satisfied: scikit-learn>=0.20.0 in /usr/local/lib/python3.10/dist-packages (from category_encoders) (1.2.2)\n",
            "Requirement already satisfied: scipy>=1.0.0 in /usr/local/lib/python3.10/dist-packages (from category_encoders) (1.11.4)\n",
            "Requirement already satisfied: statsmodels>=0.9.0 in /usr/local/lib/python3.10/dist-packages (from category_encoders) (0.14.2)\n",
            "Requirement already satisfied: pandas>=1.0.5 in /usr/local/lib/python3.10/dist-packages (from category_encoders) (2.0.3)\n",
            "Requirement already satisfied: patsy>=0.5.1 in /usr/local/lib/python3.10/dist-packages (from category_encoders) (0.5.6)\n",
            "Requirement already satisfied: python-dateutil>=2.8.2 in /usr/local/lib/python3.10/dist-packages (from pandas>=1.0.5->category_encoders) (2.8.2)\n",
            "Requirement already satisfied: pytz>=2020.1 in /usr/local/lib/python3.10/dist-packages (from pandas>=1.0.5->category_encoders) (2023.4)\n",
            "Requirement already satisfied: tzdata>=2022.1 in /usr/local/lib/python3.10/dist-packages (from pandas>=1.0.5->category_encoders) (2024.1)\n",
            "Requirement already satisfied: six in /usr/local/lib/python3.10/dist-packages (from patsy>=0.5.1->category_encoders) (1.16.0)\n",
            "Requirement already satisfied: joblib>=1.1.1 in /usr/local/lib/python3.10/dist-packages (from scikit-learn>=0.20.0->category_encoders) (1.4.0)\n",
            "Requirement already satisfied: threadpoolctl>=2.0.0 in /usr/local/lib/python3.10/dist-packages (from scikit-learn>=0.20.0->category_encoders) (3.4.0)\n",
            "Requirement already satisfied: packaging>=21.3 in /usr/local/lib/python3.10/dist-packages (from statsmodels>=0.9.0->category_encoders) (24.0)\n",
            "Installing collected packages: category_encoders\n",
            "Successfully installed category_encoders-2.6.3\n"
          ]
        }
      ]
    },
    {
      "cell_type": "code",
      "source": [
        "import sklearn\n",
        "import category_encoders as ce\n",
        "from sklearn.preprocessing import StandardScaler\n",
        "### encode categorical with high cardinality\n",
        "sklearn.set_config(transform_output=\"pandas\")\n",
        "from category_encoders.target_encoder import TargetEncoder\n",
        "\n"
      ],
      "metadata": {
        "id": "biUiETuoKCDC"
      },
      "execution_count": 53,
      "outputs": []
    },
    {
      "cell_type": "code",
      "source": [
        "### encode destination ID and geo_location_country and point_of_sale\n",
        "enc = TargetEncoder(cols=[\"destination_id\", \"geo_location_country\", \"point_of_sale\"]).fit(X_train, y_train)\n",
        "\n",
        "X_train = enc.transform(X_train)\n",
        "X_test = enc.transform(X_test)"
      ],
      "metadata": {
        "id": "8hj_r0OxUxMv"
      },
      "execution_count": 54,
      "outputs": []
    },
    {
      "cell_type": "code",
      "source": [
        "X_train.dtypes"
      ],
      "metadata": {
        "colab": {
          "base_uri": "https://localhost:8080/"
        },
        "id": "G9aXbYX1WJJr",
        "outputId": "e74759b1-9b9a-4b24-f666-350d0d2490d5"
      },
      "execution_count": 55,
      "outputs": [
        {
          "output_type": "execute_result",
          "data": {
            "text/plain": [
              "point_of_sale                 float64\n",
              "geo_location_country          float64\n",
              "is_mobile                       int64\n",
              "destination_id                float64\n",
              "adult_count                     int64\n",
              "child_count                     int64\n",
              "length_of_stay                float64\n",
              "booking_window                float64\n",
              "checkin_day                  category\n",
              "checkout_day                 category\n",
              "review_rating                 float64\n",
              "review_count                  float64\n",
              "star_rating                   float64\n",
              "is_free_cancellation            int64\n",
              "is_drr                          int64\n",
              "price_bucket                  float64\n",
              "AirConditioning                 int64\n",
              "AirportTransfer                 int64\n",
              "Bar                             int64\n",
              "FreeAirportTransportation       int64\n",
              "FreeBreakfast                   int64\n",
              "FreeParking                     int64\n",
              "FreeWiFi                        int64\n",
              "Gym                             int64\n",
              "HighSpeedInternet               int64\n",
              "HotTub                          int64\n",
              "LaundryFacility                 int64\n",
              "Parking                         int64\n",
              "PetsAllowed                     int64\n",
              "PrivatePool                     int64\n",
              "SpaServices                     int64\n",
              "SwimmingPool                    int64\n",
              "WasherDryer                     int64\n",
              "WiFi                            int64\n",
              "checkin_month                category\n",
              "dtype: object"
            ]
          },
          "metadata": {},
          "execution_count": 55
        }
      ]
    },
    {
      "cell_type": "code",
      "source": [
        "# remove ordinal features before scaling of numeric\n",
        "# most binary features are already 0, 1 encoded\n",
        "\n",
        "numeric_features = ['adult_count',\n",
        " 'child_count',\n",
        " 'length_of_stay',\n",
        " 'booking_window',\n",
        " 'review_count']\n",
        "\n",
        "numeric_features, categorical_features"
      ],
      "metadata": {
        "id": "QtvQKSyyhQXJ",
        "colab": {
          "base_uri": "https://localhost:8080/"
        },
        "outputId": "f24dd210-ba84-4d4f-fc57-4068d5b6d93f"
      },
      "execution_count": 56,
      "outputs": [
        {
          "output_type": "execute_result",
          "data": {
            "text/plain": [
              "(['adult_count',\n",
              "  'child_count',\n",
              "  'length_of_stay',\n",
              "  'booking_window',\n",
              "  'review_count'],\n",
              " ['checkin_day', 'checkout_day', 'checkin_month'])"
            ]
          },
          "metadata": {},
          "execution_count": 56
        }
      ]
    },
    {
      "cell_type": "code",
      "source": [
        "# scale numerical\n",
        "scaler=StandardScaler()\n",
        "X_train[numeric_features] = scaler.fit_transform(X_train[numeric_features])\n",
        "X_test[numeric_features] = scaler.transform(X_test[numeric_features])"
      ],
      "metadata": {
        "id": "L5bdqyul33NQ"
      },
      "execution_count": 57,
      "outputs": []
    },
    {
      "cell_type": "code",
      "source": [
        "# create dummies for categorical\n",
        "\n",
        "X_train = pd.get_dummies(X_train, columns=categorical_features)\n",
        "X_test = pd.get_dummies(X_test, columns=categorical_features)"
      ],
      "metadata": {
        "id": "PCRGE20rhTvE"
      },
      "execution_count": 58,
      "outputs": []
    },
    {
      "cell_type": "code",
      "source": [
        "X_train.head()"
      ],
      "metadata": {
        "colab": {
          "base_uri": "https://localhost:8080/",
          "height": 256
        },
        "id": "xyGezmGhhWan",
        "outputId": "646ea69c-1872-4c5b-cc69-fb6282c1df12"
      },
      "execution_count": 59,
      "outputs": [
        {
          "output_type": "execute_result",
          "data": {
            "text/plain": [
              "    point_of_sale  geo_location_country  is_mobile  destination_id  \\\n",
              "0        0.072653              0.073411          0        0.060241   \n",
              "27       0.072653              0.073411          0        0.060241   \n",
              "25       0.072653              0.073411          0        0.060241   \n",
              "24       0.072653              0.073411          0        0.060241   \n",
              "23       0.072653              0.073411          0        0.060241   \n",
              "\n",
              "    adult_count  child_count  length_of_stay  booking_window  review_rating  \\\n",
              "0     -0.213174    -0.346087        0.856117       -0.242449            4.0   \n",
              "27    -0.213174    -0.346087        0.856117       -0.242449            5.0   \n",
              "25    -0.213174    -0.346087        0.856117       -0.242449            4.0   \n",
              "24    -0.213174    -0.346087        0.856117       -0.242449            5.0   \n",
              "23    -0.213174    -0.346087        0.856117       -0.242449            4.0   \n",
              "\n",
              "    review_count  ...  checkin_month_3  checkin_month_4  checkin_month_5  \\\n",
              "0      -0.043666  ...            False            False            False   \n",
              "27     -0.248428  ...            False            False            False   \n",
              "25     -0.092418  ...            False            False            False   \n",
              "24      0.005087  ...            False            False            False   \n",
              "23     -0.131421  ...            False            False            False   \n",
              "\n",
              "    checkin_month_6  checkin_month_7  checkin_month_8  checkin_month_9  \\\n",
              "0             False             True            False            False   \n",
              "27            False             True            False            False   \n",
              "25            False             True            False            False   \n",
              "24            False             True            False            False   \n",
              "23            False             True            False            False   \n",
              "\n",
              "    checkin_month_10  checkin_month_11  checkin_month_12  \n",
              "0              False             False             False  \n",
              "27             False             False             False  \n",
              "25             False             False             False  \n",
              "24             False             False             False  \n",
              "23             False             False             False  \n",
              "\n",
              "[5 rows x 58 columns]"
            ],
            "text/html": [
              "\n",
              "  <div id=\"df-2c4489a3-1403-4969-85fb-1a1ac6f887a0\" class=\"colab-df-container\">\n",
              "    <div>\n",
              "<style scoped>\n",
              "    .dataframe tbody tr th:only-of-type {\n",
              "        vertical-align: middle;\n",
              "    }\n",
              "\n",
              "    .dataframe tbody tr th {\n",
              "        vertical-align: top;\n",
              "    }\n",
              "\n",
              "    .dataframe thead th {\n",
              "        text-align: right;\n",
              "    }\n",
              "</style>\n",
              "<table border=\"1\" class=\"dataframe\">\n",
              "  <thead>\n",
              "    <tr style=\"text-align: right;\">\n",
              "      <th></th>\n",
              "      <th>point_of_sale</th>\n",
              "      <th>geo_location_country</th>\n",
              "      <th>is_mobile</th>\n",
              "      <th>destination_id</th>\n",
              "      <th>adult_count</th>\n",
              "      <th>child_count</th>\n",
              "      <th>length_of_stay</th>\n",
              "      <th>booking_window</th>\n",
              "      <th>review_rating</th>\n",
              "      <th>review_count</th>\n",
              "      <th>...</th>\n",
              "      <th>checkin_month_3</th>\n",
              "      <th>checkin_month_4</th>\n",
              "      <th>checkin_month_5</th>\n",
              "      <th>checkin_month_6</th>\n",
              "      <th>checkin_month_7</th>\n",
              "      <th>checkin_month_8</th>\n",
              "      <th>checkin_month_9</th>\n",
              "      <th>checkin_month_10</th>\n",
              "      <th>checkin_month_11</th>\n",
              "      <th>checkin_month_12</th>\n",
              "    </tr>\n",
              "  </thead>\n",
              "  <tbody>\n",
              "    <tr>\n",
              "      <th>0</th>\n",
              "      <td>0.072653</td>\n",
              "      <td>0.073411</td>\n",
              "      <td>0</td>\n",
              "      <td>0.060241</td>\n",
              "      <td>-0.213174</td>\n",
              "      <td>-0.346087</td>\n",
              "      <td>0.856117</td>\n",
              "      <td>-0.242449</td>\n",
              "      <td>4.0</td>\n",
              "      <td>-0.043666</td>\n",
              "      <td>...</td>\n",
              "      <td>False</td>\n",
              "      <td>False</td>\n",
              "      <td>False</td>\n",
              "      <td>False</td>\n",
              "      <td>True</td>\n",
              "      <td>False</td>\n",
              "      <td>False</td>\n",
              "      <td>False</td>\n",
              "      <td>False</td>\n",
              "      <td>False</td>\n",
              "    </tr>\n",
              "    <tr>\n",
              "      <th>27</th>\n",
              "      <td>0.072653</td>\n",
              "      <td>0.073411</td>\n",
              "      <td>0</td>\n",
              "      <td>0.060241</td>\n",
              "      <td>-0.213174</td>\n",
              "      <td>-0.346087</td>\n",
              "      <td>0.856117</td>\n",
              "      <td>-0.242449</td>\n",
              "      <td>5.0</td>\n",
              "      <td>-0.248428</td>\n",
              "      <td>...</td>\n",
              "      <td>False</td>\n",
              "      <td>False</td>\n",
              "      <td>False</td>\n",
              "      <td>False</td>\n",
              "      <td>True</td>\n",
              "      <td>False</td>\n",
              "      <td>False</td>\n",
              "      <td>False</td>\n",
              "      <td>False</td>\n",
              "      <td>False</td>\n",
              "    </tr>\n",
              "    <tr>\n",
              "      <th>25</th>\n",
              "      <td>0.072653</td>\n",
              "      <td>0.073411</td>\n",
              "      <td>0</td>\n",
              "      <td>0.060241</td>\n",
              "      <td>-0.213174</td>\n",
              "      <td>-0.346087</td>\n",
              "      <td>0.856117</td>\n",
              "      <td>-0.242449</td>\n",
              "      <td>4.0</td>\n",
              "      <td>-0.092418</td>\n",
              "      <td>...</td>\n",
              "      <td>False</td>\n",
              "      <td>False</td>\n",
              "      <td>False</td>\n",
              "      <td>False</td>\n",
              "      <td>True</td>\n",
              "      <td>False</td>\n",
              "      <td>False</td>\n",
              "      <td>False</td>\n",
              "      <td>False</td>\n",
              "      <td>False</td>\n",
              "    </tr>\n",
              "    <tr>\n",
              "      <th>24</th>\n",
              "      <td>0.072653</td>\n",
              "      <td>0.073411</td>\n",
              "      <td>0</td>\n",
              "      <td>0.060241</td>\n",
              "      <td>-0.213174</td>\n",
              "      <td>-0.346087</td>\n",
              "      <td>0.856117</td>\n",
              "      <td>-0.242449</td>\n",
              "      <td>5.0</td>\n",
              "      <td>0.005087</td>\n",
              "      <td>...</td>\n",
              "      <td>False</td>\n",
              "      <td>False</td>\n",
              "      <td>False</td>\n",
              "      <td>False</td>\n",
              "      <td>True</td>\n",
              "      <td>False</td>\n",
              "      <td>False</td>\n",
              "      <td>False</td>\n",
              "      <td>False</td>\n",
              "      <td>False</td>\n",
              "    </tr>\n",
              "    <tr>\n",
              "      <th>23</th>\n",
              "      <td>0.072653</td>\n",
              "      <td>0.073411</td>\n",
              "      <td>0</td>\n",
              "      <td>0.060241</td>\n",
              "      <td>-0.213174</td>\n",
              "      <td>-0.346087</td>\n",
              "      <td>0.856117</td>\n",
              "      <td>-0.242449</td>\n",
              "      <td>4.0</td>\n",
              "      <td>-0.131421</td>\n",
              "      <td>...</td>\n",
              "      <td>False</td>\n",
              "      <td>False</td>\n",
              "      <td>False</td>\n",
              "      <td>False</td>\n",
              "      <td>True</td>\n",
              "      <td>False</td>\n",
              "      <td>False</td>\n",
              "      <td>False</td>\n",
              "      <td>False</td>\n",
              "      <td>False</td>\n",
              "    </tr>\n",
              "  </tbody>\n",
              "</table>\n",
              "<p>5 rows × 58 columns</p>\n",
              "</div>\n",
              "    <div class=\"colab-df-buttons\">\n",
              "\n",
              "  <div class=\"colab-df-container\">\n",
              "    <button class=\"colab-df-convert\" onclick=\"convertToInteractive('df-2c4489a3-1403-4969-85fb-1a1ac6f887a0')\"\n",
              "            title=\"Convert this dataframe to an interactive table.\"\n",
              "            style=\"display:none;\">\n",
              "\n",
              "  <svg xmlns=\"http://www.w3.org/2000/svg\" height=\"24px\" viewBox=\"0 -960 960 960\">\n",
              "    <path d=\"M120-120v-720h720v720H120Zm60-500h600v-160H180v160Zm220 220h160v-160H400v160Zm0 220h160v-160H400v160ZM180-400h160v-160H180v160Zm440 0h160v-160H620v160ZM180-180h160v-160H180v160Zm440 0h160v-160H620v160Z\"/>\n",
              "  </svg>\n",
              "    </button>\n",
              "\n",
              "  <style>\n",
              "    .colab-df-container {\n",
              "      display:flex;\n",
              "      gap: 12px;\n",
              "    }\n",
              "\n",
              "    .colab-df-convert {\n",
              "      background-color: #E8F0FE;\n",
              "      border: none;\n",
              "      border-radius: 50%;\n",
              "      cursor: pointer;\n",
              "      display: none;\n",
              "      fill: #1967D2;\n",
              "      height: 32px;\n",
              "      padding: 0 0 0 0;\n",
              "      width: 32px;\n",
              "    }\n",
              "\n",
              "    .colab-df-convert:hover {\n",
              "      background-color: #E2EBFA;\n",
              "      box-shadow: 0px 1px 2px rgba(60, 64, 67, 0.3), 0px 1px 3px 1px rgba(60, 64, 67, 0.15);\n",
              "      fill: #174EA6;\n",
              "    }\n",
              "\n",
              "    .colab-df-buttons div {\n",
              "      margin-bottom: 4px;\n",
              "    }\n",
              "\n",
              "    [theme=dark] .colab-df-convert {\n",
              "      background-color: #3B4455;\n",
              "      fill: #D2E3FC;\n",
              "    }\n",
              "\n",
              "    [theme=dark] .colab-df-convert:hover {\n",
              "      background-color: #434B5C;\n",
              "      box-shadow: 0px 1px 3px 1px rgba(0, 0, 0, 0.15);\n",
              "      filter: drop-shadow(0px 1px 2px rgba(0, 0, 0, 0.3));\n",
              "      fill: #FFFFFF;\n",
              "    }\n",
              "  </style>\n",
              "\n",
              "    <script>\n",
              "      const buttonEl =\n",
              "        document.querySelector('#df-2c4489a3-1403-4969-85fb-1a1ac6f887a0 button.colab-df-convert');\n",
              "      buttonEl.style.display =\n",
              "        google.colab.kernel.accessAllowed ? 'block' : 'none';\n",
              "\n",
              "      async function convertToInteractive(key) {\n",
              "        const element = document.querySelector('#df-2c4489a3-1403-4969-85fb-1a1ac6f887a0');\n",
              "        const dataTable =\n",
              "          await google.colab.kernel.invokeFunction('convertToInteractive',\n",
              "                                                    [key], {});\n",
              "        if (!dataTable) return;\n",
              "\n",
              "        const docLinkHtml = 'Like what you see? Visit the ' +\n",
              "          '<a target=\"_blank\" href=https://colab.research.google.com/notebooks/data_table.ipynb>data table notebook</a>'\n",
              "          + ' to learn more about interactive tables.';\n",
              "        element.innerHTML = '';\n",
              "        dataTable['output_type'] = 'display_data';\n",
              "        await google.colab.output.renderOutput(dataTable, element);\n",
              "        const docLink = document.createElement('div');\n",
              "        docLink.innerHTML = docLinkHtml;\n",
              "        element.appendChild(docLink);\n",
              "      }\n",
              "    </script>\n",
              "  </div>\n",
              "\n",
              "\n",
              "<div id=\"df-7544a167-381d-45b2-9727-94d5bd2b534e\">\n",
              "  <button class=\"colab-df-quickchart\" onclick=\"quickchart('df-7544a167-381d-45b2-9727-94d5bd2b534e')\"\n",
              "            title=\"Suggest charts\"\n",
              "            style=\"display:none;\">\n",
              "\n",
              "<svg xmlns=\"http://www.w3.org/2000/svg\" height=\"24px\"viewBox=\"0 0 24 24\"\n",
              "     width=\"24px\">\n",
              "    <g>\n",
              "        <path d=\"M19 3H5c-1.1 0-2 .9-2 2v14c0 1.1.9 2 2 2h14c1.1 0 2-.9 2-2V5c0-1.1-.9-2-2-2zM9 17H7v-7h2v7zm4 0h-2V7h2v10zm4 0h-2v-4h2v4z\"/>\n",
              "    </g>\n",
              "</svg>\n",
              "  </button>\n",
              "\n",
              "<style>\n",
              "  .colab-df-quickchart {\n",
              "      --bg-color: #E8F0FE;\n",
              "      --fill-color: #1967D2;\n",
              "      --hover-bg-color: #E2EBFA;\n",
              "      --hover-fill-color: #174EA6;\n",
              "      --disabled-fill-color: #AAA;\n",
              "      --disabled-bg-color: #DDD;\n",
              "  }\n",
              "\n",
              "  [theme=dark] .colab-df-quickchart {\n",
              "      --bg-color: #3B4455;\n",
              "      --fill-color: #D2E3FC;\n",
              "      --hover-bg-color: #434B5C;\n",
              "      --hover-fill-color: #FFFFFF;\n",
              "      --disabled-bg-color: #3B4455;\n",
              "      --disabled-fill-color: #666;\n",
              "  }\n",
              "\n",
              "  .colab-df-quickchart {\n",
              "    background-color: var(--bg-color);\n",
              "    border: none;\n",
              "    border-radius: 50%;\n",
              "    cursor: pointer;\n",
              "    display: none;\n",
              "    fill: var(--fill-color);\n",
              "    height: 32px;\n",
              "    padding: 0;\n",
              "    width: 32px;\n",
              "  }\n",
              "\n",
              "  .colab-df-quickchart:hover {\n",
              "    background-color: var(--hover-bg-color);\n",
              "    box-shadow: 0 1px 2px rgba(60, 64, 67, 0.3), 0 1px 3px 1px rgba(60, 64, 67, 0.15);\n",
              "    fill: var(--button-hover-fill-color);\n",
              "  }\n",
              "\n",
              "  .colab-df-quickchart-complete:disabled,\n",
              "  .colab-df-quickchart-complete:disabled:hover {\n",
              "    background-color: var(--disabled-bg-color);\n",
              "    fill: var(--disabled-fill-color);\n",
              "    box-shadow: none;\n",
              "  }\n",
              "\n",
              "  .colab-df-spinner {\n",
              "    border: 2px solid var(--fill-color);\n",
              "    border-color: transparent;\n",
              "    border-bottom-color: var(--fill-color);\n",
              "    animation:\n",
              "      spin 1s steps(1) infinite;\n",
              "  }\n",
              "\n",
              "  @keyframes spin {\n",
              "    0% {\n",
              "      border-color: transparent;\n",
              "      border-bottom-color: var(--fill-color);\n",
              "      border-left-color: var(--fill-color);\n",
              "    }\n",
              "    20% {\n",
              "      border-color: transparent;\n",
              "      border-left-color: var(--fill-color);\n",
              "      border-top-color: var(--fill-color);\n",
              "    }\n",
              "    30% {\n",
              "      border-color: transparent;\n",
              "      border-left-color: var(--fill-color);\n",
              "      border-top-color: var(--fill-color);\n",
              "      border-right-color: var(--fill-color);\n",
              "    }\n",
              "    40% {\n",
              "      border-color: transparent;\n",
              "      border-right-color: var(--fill-color);\n",
              "      border-top-color: var(--fill-color);\n",
              "    }\n",
              "    60% {\n",
              "      border-color: transparent;\n",
              "      border-right-color: var(--fill-color);\n",
              "    }\n",
              "    80% {\n",
              "      border-color: transparent;\n",
              "      border-right-color: var(--fill-color);\n",
              "      border-bottom-color: var(--fill-color);\n",
              "    }\n",
              "    90% {\n",
              "      border-color: transparent;\n",
              "      border-bottom-color: var(--fill-color);\n",
              "    }\n",
              "  }\n",
              "</style>\n",
              "\n",
              "  <script>\n",
              "    async function quickchart(key) {\n",
              "      const quickchartButtonEl =\n",
              "        document.querySelector('#' + key + ' button');\n",
              "      quickchartButtonEl.disabled = true;  // To prevent multiple clicks.\n",
              "      quickchartButtonEl.classList.add('colab-df-spinner');\n",
              "      try {\n",
              "        const charts = await google.colab.kernel.invokeFunction(\n",
              "            'suggestCharts', [key], {});\n",
              "      } catch (error) {\n",
              "        console.error('Error during call to suggestCharts:', error);\n",
              "      }\n",
              "      quickchartButtonEl.classList.remove('colab-df-spinner');\n",
              "      quickchartButtonEl.classList.add('colab-df-quickchart-complete');\n",
              "    }\n",
              "    (() => {\n",
              "      let quickchartButtonEl =\n",
              "        document.querySelector('#df-7544a167-381d-45b2-9727-94d5bd2b534e button');\n",
              "      quickchartButtonEl.style.display =\n",
              "        google.colab.kernel.accessAllowed ? 'block' : 'none';\n",
              "    })();\n",
              "  </script>\n",
              "</div>\n",
              "    </div>\n",
              "  </div>\n"
            ],
            "application/vnd.google.colaboratory.intrinsic+json": {
              "type": "dataframe",
              "variable_name": "X_train"
            }
          },
          "metadata": {},
          "execution_count": 59
        }
      ]
    },
    {
      "cell_type": "code",
      "source": [
        "X_train.dtypes"
      ],
      "metadata": {
        "id": "-L_Kpy7HUYub",
        "colab": {
          "base_uri": "https://localhost:8080/"
        },
        "outputId": "62ccd21a-baa6-4003-9649-9fd23cb6df29"
      },
      "execution_count": 60,
      "outputs": [
        {
          "output_type": "execute_result",
          "data": {
            "text/plain": [
              "point_of_sale                float64\n",
              "geo_location_country         float64\n",
              "is_mobile                      int64\n",
              "destination_id               float64\n",
              "adult_count                  float64\n",
              "child_count                  float64\n",
              "length_of_stay               float64\n",
              "booking_window               float64\n",
              "review_rating                float64\n",
              "review_count                 float64\n",
              "star_rating                  float64\n",
              "is_free_cancellation           int64\n",
              "is_drr                         int64\n",
              "price_bucket                 float64\n",
              "AirConditioning                int64\n",
              "AirportTransfer                int64\n",
              "Bar                            int64\n",
              "FreeAirportTransportation      int64\n",
              "FreeBreakfast                  int64\n",
              "FreeParking                    int64\n",
              "FreeWiFi                       int64\n",
              "Gym                            int64\n",
              "HighSpeedInternet              int64\n",
              "HotTub                         int64\n",
              "LaundryFacility                int64\n",
              "Parking                        int64\n",
              "PetsAllowed                    int64\n",
              "PrivatePool                    int64\n",
              "SpaServices                    int64\n",
              "SwimmingPool                   int64\n",
              "WasherDryer                    int64\n",
              "WiFi                           int64\n",
              "checkin_day_0                   bool\n",
              "checkin_day_1                   bool\n",
              "checkin_day_2                   bool\n",
              "checkin_day_3                   bool\n",
              "checkin_day_4                   bool\n",
              "checkin_day_5                   bool\n",
              "checkin_day_6                   bool\n",
              "checkout_day_0                  bool\n",
              "checkout_day_1                  bool\n",
              "checkout_day_2                  bool\n",
              "checkout_day_3                  bool\n",
              "checkout_day_4                  bool\n",
              "checkout_day_5                  bool\n",
              "checkout_day_6                  bool\n",
              "checkin_month_1                 bool\n",
              "checkin_month_2                 bool\n",
              "checkin_month_3                 bool\n",
              "checkin_month_4                 bool\n",
              "checkin_month_5                 bool\n",
              "checkin_month_6                 bool\n",
              "checkin_month_7                 bool\n",
              "checkin_month_8                 bool\n",
              "checkin_month_9                 bool\n",
              "checkin_month_10                bool\n",
              "checkin_month_11                bool\n",
              "checkin_month_12                bool\n",
              "dtype: object"
            ]
          },
          "metadata": {},
          "execution_count": 60
        }
      ]
    },
    {
      "cell_type": "code",
      "source": [
        "#len(group_train)"
      ],
      "metadata": {
        "id": "2rlNaNUk9d1Z"
      },
      "execution_count": 61,
      "outputs": []
    },
    {
      "cell_type": "code",
      "source": [
        "import xgboost as xgb"
      ],
      "metadata": {
        "id": "v7_sUpqeOm19"
      },
      "execution_count": 62,
      "outputs": []
    },
    {
      "cell_type": "code",
      "source": [
        "# use the examplary code from xgboost documentation as a starting point:\n",
        "# https://xgboost.readthedocs.io/en/stable/python/examples/learning_to_rank.html#sphx-glr-python-examples-learning-to-rank-py\n",
        "# specifically for click data\n",
        "\n",
        "ranker = xgb.XGBRanker(\n",
        "        n_estimators=100, #512\n",
        "        tree_method=\"hist\",\n",
        "        #device=\"cuda\",\n",
        "        learning_rate=0.01,\n",
        "        reg_lambda=0.05,\n",
        "        subsample=0.8,\n",
        "        #sampling_method=\"gradient_based\",\n",
        "        # to handle categorical features with many features\n",
        "        #enable_categorical=True,\n",
        "        # above 7 categories no one hot encoding\n",
        "        #max_cat_to_onehot = 7,\n",
        "        #max_cat_threshold = 15,\n",
        "        # LTR specific parameters\n",
        "        objective=\"rank:ndcg\",\n",
        "        # - Enable bias estimation\n",
        "        lambdarank_unbiased=True,\n",
        "        # - normalization (1 / (norm + 1))\n",
        "        lambdarank_bias_norm=1,\n",
        "        # - Focus on the top 12 documents\n",
        "        lambdarank_num_pair_per_sample=12,\n",
        "        lambdarank_pair_method=\"topk\",\n",
        "        ndcg_exp_gain=True,\n",
        "        eval_metric=[\"ndcg@1\", \"ndcg@3\", \"ndcg@5\", \"ndcg@10\", \"ndcg@50\"],\n",
        "        lambdarank_normalization = False\n",
        " )"
      ],
      "metadata": {
        "id": "OO1JJgMymL15"
      },
      "execution_count": 63,
      "outputs": []
    },
    {
      "cell_type": "code",
      "source": [
        "# ranker = xgb.XGBRanker(\n",
        "#        n_estimators=1000,\n",
        "#        learning_rate=0.1,\n",
        "#        objective='rank:pairwise', # this is RankNet loss or the pairwise logistic loss\n",
        "#        lambdarank_num_pair_per_sample=25,\n",
        "#        lambdarank_pair_method=\"topk\",\n",
        "#        reg_lambda=0.05,\n",
        "#        # verbose = True,\n",
        "#        tree_method = 'hist',\n",
        "#        eval_metric = 'ndcg',\n",
        "#        eta = 0.3\n",
        "#    )\n",
        "\n"
      ],
      "metadata": {
        "id": "uUgklupOOt7L"
      },
      "execution_count": 64,
      "outputs": []
    },
    {
      "cell_type": "code",
      "source": [
        "#corr = X_train[[\"point_of_sale\", \"geo_location_country\", \"is_mobile\",\n",
        "#                \"destination_id\", \"adult_count\", \"child_count\", \"length_of_stay\",\n",
        "#                \"booking_window\", \"review_rating\", \"review_count\", \"star_rating\",\n",
        "#                \"is_free_cancellation\", \"is_drr\", \"price_bucket\",\n",
        "#                \"rank_noad\"]].corr(numeric_only=True)"
      ],
      "metadata": {
        "id": "Yo2J79r1Fbe_"
      },
      "execution_count": 65,
      "outputs": []
    },
    {
      "cell_type": "code",
      "source": [
        "# import seaborn as sns\n",
        "# sns.heatmap(corr)"
      ],
      "metadata": {
        "id": "I3r6N5SewfIM"
      },
      "execution_count": 66,
      "outputs": []
    },
    {
      "cell_type": "code",
      "source": [
        "# fit on training data\n",
        "\n",
        "ranker.fit(\n",
        "    X_train,\n",
        "    y_train,\n",
        "    qid=qid_train,\n",
        "    eval_set=[(X_test, y_test)],\n",
        "    eval_qid=[qid_test],\n",
        "    verbose = True,\n",
        "    early_stopping_rounds = 15\n",
        ")"
      ],
      "metadata": {
        "id": "IMuLMWlQ7FjV",
        "colab": {
          "base_uri": "https://localhost:8080/",
          "height": 1000
        },
        "outputId": "ac16016c-0580-46af-bca4-aa638d2b324a"
      },
      "execution_count": 67,
      "outputs": [
        {
          "output_type": "stream",
          "name": "stderr",
          "text": [
            "/usr/local/lib/python3.10/dist-packages/xgboost/sklearn.py:889: UserWarning: `early_stopping_rounds` in `fit` method is deprecated for better compatibility with scikit-learn, use `early_stopping_rounds` in constructor or`set_params` instead.\n",
            "  warnings.warn(\n",
            "/usr/local/lib/python3.10/dist-packages/xgboost/core.py:160: UserWarning: [13:30:04] WARNING: /workspace/src/learner.cc:742: \n",
            "Parameters: { \"lambdarank_normalization\" } are not used.\n",
            "\n",
            "  warnings.warn(smsg, UserWarning)\n"
          ]
        },
        {
          "output_type": "stream",
          "name": "stdout",
          "text": [
            "[0]\tvalidation_0-ndcg@1:0.16529\tvalidation_0-ndcg@3:0.22678\tvalidation_0-ndcg@5:0.27422\tvalidation_0-ndcg@10:0.34738\tvalidation_0-ndcg@50:0.45637\n",
            "[1]\tvalidation_0-ndcg@1:0.17884\tvalidation_0-ndcg@3:0.24333\tvalidation_0-ndcg@5:0.28878\tvalidation_0-ndcg@10:0.36105\tvalidation_0-ndcg@50:0.46806\n",
            "[2]\tvalidation_0-ndcg@1:0.18365\tvalidation_0-ndcg@3:0.24787\tvalidation_0-ndcg@5:0.29416\tvalidation_0-ndcg@10:0.36791\tvalidation_0-ndcg@50:0.47204\n",
            "[3]\tvalidation_0-ndcg@1:0.18872\tvalidation_0-ndcg@3:0.25560\tvalidation_0-ndcg@5:0.30094\tvalidation_0-ndcg@10:0.37332\tvalidation_0-ndcg@50:0.47659\n",
            "[4]\tvalidation_0-ndcg@1:0.19576\tvalidation_0-ndcg@3:0.26214\tvalidation_0-ndcg@5:0.30820\tvalidation_0-ndcg@10:0.38036\tvalidation_0-ndcg@50:0.48194\n",
            "[5]\tvalidation_0-ndcg@1:0.19665\tvalidation_0-ndcg@3:0.26336\tvalidation_0-ndcg@5:0.30947\tvalidation_0-ndcg@10:0.38223\tvalidation_0-ndcg@50:0.48297\n",
            "[6]\tvalidation_0-ndcg@1:0.19618\tvalidation_0-ndcg@3:0.26434\tvalidation_0-ndcg@5:0.31018\tvalidation_0-ndcg@10:0.38308\tvalidation_0-ndcg@50:0.48343\n",
            "[7]\tvalidation_0-ndcg@1:0.20014\tvalidation_0-ndcg@3:0.26815\tvalidation_0-ndcg@5:0.31421\tvalidation_0-ndcg@10:0.38695\tvalidation_0-ndcg@50:0.48633\n",
            "[8]\tvalidation_0-ndcg@1:0.20158\tvalidation_0-ndcg@3:0.26987\tvalidation_0-ndcg@5:0.31546\tvalidation_0-ndcg@10:0.38840\tvalidation_0-ndcg@50:0.48738\n",
            "[9]\tvalidation_0-ndcg@1:0.20280\tvalidation_0-ndcg@3:0.27071\tvalidation_0-ndcg@5:0.31603\tvalidation_0-ndcg@10:0.38878\tvalidation_0-ndcg@50:0.48792\n",
            "[10]\tvalidation_0-ndcg@1:0.20267\tvalidation_0-ndcg@3:0.27063\tvalidation_0-ndcg@5:0.31715\tvalidation_0-ndcg@10:0.38985\tvalidation_0-ndcg@50:0.48826\n",
            "[11]\tvalidation_0-ndcg@1:0.20347\tvalidation_0-ndcg@3:0.27160\tvalidation_0-ndcg@5:0.31871\tvalidation_0-ndcg@10:0.39022\tvalidation_0-ndcg@50:0.48897\n",
            "[12]\tvalidation_0-ndcg@1:0.20248\tvalidation_0-ndcg@3:0.27162\tvalidation_0-ndcg@5:0.31888\tvalidation_0-ndcg@10:0.39081\tvalidation_0-ndcg@50:0.48898\n",
            "[13]\tvalidation_0-ndcg@1:0.20301\tvalidation_0-ndcg@3:0.27214\tvalidation_0-ndcg@5:0.32015\tvalidation_0-ndcg@10:0.39177\tvalidation_0-ndcg@50:0.48944\n",
            "[14]\tvalidation_0-ndcg@1:0.20259\tvalidation_0-ndcg@3:0.27331\tvalidation_0-ndcg@5:0.32085\tvalidation_0-ndcg@10:0.39262\tvalidation_0-ndcg@50:0.49002\n",
            "[15]\tvalidation_0-ndcg@1:0.20212\tvalidation_0-ndcg@3:0.27316\tvalidation_0-ndcg@5:0.32116\tvalidation_0-ndcg@10:0.39225\tvalidation_0-ndcg@50:0.48986\n",
            "[16]\tvalidation_0-ndcg@1:0.20334\tvalidation_0-ndcg@3:0.27450\tvalidation_0-ndcg@5:0.32235\tvalidation_0-ndcg@10:0.39339\tvalidation_0-ndcg@50:0.49077\n",
            "[17]\tvalidation_0-ndcg@1:0.20401\tvalidation_0-ndcg@3:0.27402\tvalidation_0-ndcg@5:0.32236\tvalidation_0-ndcg@10:0.39342\tvalidation_0-ndcg@50:0.49098\n",
            "[18]\tvalidation_0-ndcg@1:0.20366\tvalidation_0-ndcg@3:0.27489\tvalidation_0-ndcg@5:0.32285\tvalidation_0-ndcg@10:0.39373\tvalidation_0-ndcg@50:0.49118\n",
            "[19]\tvalidation_0-ndcg@1:0.20455\tvalidation_0-ndcg@3:0.27513\tvalidation_0-ndcg@5:0.32370\tvalidation_0-ndcg@10:0.39420\tvalidation_0-ndcg@50:0.49190\n",
            "[20]\tvalidation_0-ndcg@1:0.20606\tvalidation_0-ndcg@3:0.27615\tvalidation_0-ndcg@5:0.32454\tvalidation_0-ndcg@10:0.39481\tvalidation_0-ndcg@50:0.49253\n",
            "[21]\tvalidation_0-ndcg@1:0.20631\tvalidation_0-ndcg@3:0.27804\tvalidation_0-ndcg@5:0.32512\tvalidation_0-ndcg@10:0.39505\tvalidation_0-ndcg@50:0.49279\n",
            "[22]\tvalidation_0-ndcg@1:0.20524\tvalidation_0-ndcg@3:0.27775\tvalidation_0-ndcg@5:0.32511\tvalidation_0-ndcg@10:0.39525\tvalidation_0-ndcg@50:0.49272\n",
            "[23]\tvalidation_0-ndcg@1:0.20594\tvalidation_0-ndcg@3:0.27824\tvalidation_0-ndcg@5:0.32538\tvalidation_0-ndcg@10:0.39528\tvalidation_0-ndcg@50:0.49295\n",
            "[24]\tvalidation_0-ndcg@1:0.20602\tvalidation_0-ndcg@3:0.27812\tvalidation_0-ndcg@5:0.32548\tvalidation_0-ndcg@10:0.39565\tvalidation_0-ndcg@50:0.49306\n",
            "[25]\tvalidation_0-ndcg@1:0.20608\tvalidation_0-ndcg@3:0.27847\tvalidation_0-ndcg@5:0.32564\tvalidation_0-ndcg@10:0.39568\tvalidation_0-ndcg@50:0.49319\n",
            "[26]\tvalidation_0-ndcg@1:0.20592\tvalidation_0-ndcg@3:0.27817\tvalidation_0-ndcg@5:0.32681\tvalidation_0-ndcg@10:0.39601\tvalidation_0-ndcg@50:0.49339\n",
            "[27]\tvalidation_0-ndcg@1:0.20640\tvalidation_0-ndcg@3:0.27901\tvalidation_0-ndcg@5:0.32729\tvalidation_0-ndcg@10:0.39672\tvalidation_0-ndcg@50:0.49379\n",
            "[28]\tvalidation_0-ndcg@1:0.20697\tvalidation_0-ndcg@3:0.27966\tvalidation_0-ndcg@5:0.32781\tvalidation_0-ndcg@10:0.39744\tvalidation_0-ndcg@50:0.49423\n",
            "[29]\tvalidation_0-ndcg@1:0.20852\tvalidation_0-ndcg@3:0.28050\tvalidation_0-ndcg@5:0.32809\tvalidation_0-ndcg@10:0.39812\tvalidation_0-ndcg@50:0.49499\n",
            "[30]\tvalidation_0-ndcg@1:0.20970\tvalidation_0-ndcg@3:0.28151\tvalidation_0-ndcg@5:0.32884\tvalidation_0-ndcg@10:0.39868\tvalidation_0-ndcg@50:0.49552\n",
            "[31]\tvalidation_0-ndcg@1:0.21088\tvalidation_0-ndcg@3:0.28258\tvalidation_0-ndcg@5:0.32957\tvalidation_0-ndcg@10:0.39925\tvalidation_0-ndcg@50:0.49614\n",
            "[32]\tvalidation_0-ndcg@1:0.21173\tvalidation_0-ndcg@3:0.28311\tvalidation_0-ndcg@5:0.33056\tvalidation_0-ndcg@10:0.39986\tvalidation_0-ndcg@50:0.49663\n",
            "[33]\tvalidation_0-ndcg@1:0.21160\tvalidation_0-ndcg@3:0.28262\tvalidation_0-ndcg@5:0.33086\tvalidation_0-ndcg@10:0.39969\tvalidation_0-ndcg@50:0.49658\n",
            "[34]\tvalidation_0-ndcg@1:0.21233\tvalidation_0-ndcg@3:0.28354\tvalidation_0-ndcg@5:0.33162\tvalidation_0-ndcg@10:0.40016\tvalidation_0-ndcg@50:0.49714\n",
            "[35]\tvalidation_0-ndcg@1:0.21320\tvalidation_0-ndcg@3:0.28369\tvalidation_0-ndcg@5:0.33242\tvalidation_0-ndcg@10:0.40097\tvalidation_0-ndcg@50:0.49757\n",
            "[36]\tvalidation_0-ndcg@1:0.21341\tvalidation_0-ndcg@3:0.28421\tvalidation_0-ndcg@5:0.33225\tvalidation_0-ndcg@10:0.40096\tvalidation_0-ndcg@50:0.49769\n",
            "[37]\tvalidation_0-ndcg@1:0.21373\tvalidation_0-ndcg@3:0.28457\tvalidation_0-ndcg@5:0.33216\tvalidation_0-ndcg@10:0.40093\tvalidation_0-ndcg@50:0.49771\n",
            "[38]\tvalidation_0-ndcg@1:0.21375\tvalidation_0-ndcg@3:0.28499\tvalidation_0-ndcg@5:0.33247\tvalidation_0-ndcg@10:0.40133\tvalidation_0-ndcg@50:0.49795\n",
            "[39]\tvalidation_0-ndcg@1:0.21440\tvalidation_0-ndcg@3:0.28571\tvalidation_0-ndcg@5:0.33273\tvalidation_0-ndcg@10:0.40200\tvalidation_0-ndcg@50:0.49833\n",
            "[40]\tvalidation_0-ndcg@1:0.21522\tvalidation_0-ndcg@3:0.28600\tvalidation_0-ndcg@5:0.33297\tvalidation_0-ndcg@10:0.40230\tvalidation_0-ndcg@50:0.49864\n",
            "[41]\tvalidation_0-ndcg@1:0.21538\tvalidation_0-ndcg@3:0.28619\tvalidation_0-ndcg@5:0.33288\tvalidation_0-ndcg@10:0.40262\tvalidation_0-ndcg@50:0.49882\n",
            "[42]\tvalidation_0-ndcg@1:0.21465\tvalidation_0-ndcg@3:0.28550\tvalidation_0-ndcg@5:0.33327\tvalidation_0-ndcg@10:0.40259\tvalidation_0-ndcg@50:0.49869\n",
            "[43]\tvalidation_0-ndcg@1:0.21453\tvalidation_0-ndcg@3:0.28656\tvalidation_0-ndcg@5:0.33314\tvalidation_0-ndcg@10:0.40221\tvalidation_0-ndcg@50:0.49849\n",
            "[44]\tvalidation_0-ndcg@1:0.21493\tvalidation_0-ndcg@3:0.28629\tvalidation_0-ndcg@5:0.33317\tvalidation_0-ndcg@10:0.40242\tvalidation_0-ndcg@50:0.49870\n",
            "[45]\tvalidation_0-ndcg@1:0.21474\tvalidation_0-ndcg@3:0.28621\tvalidation_0-ndcg@5:0.33265\tvalidation_0-ndcg@10:0.40246\tvalidation_0-ndcg@50:0.49856\n",
            "[46]\tvalidation_0-ndcg@1:0.21407\tvalidation_0-ndcg@3:0.28607\tvalidation_0-ndcg@5:0.33273\tvalidation_0-ndcg@10:0.40218\tvalidation_0-ndcg@50:0.49834\n",
            "[47]\tvalidation_0-ndcg@1:0.21459\tvalidation_0-ndcg@3:0.28578\tvalidation_0-ndcg@5:0.33295\tvalidation_0-ndcg@10:0.40250\tvalidation_0-ndcg@50:0.49855\n",
            "[48]\tvalidation_0-ndcg@1:0.21351\tvalidation_0-ndcg@3:0.28528\tvalidation_0-ndcg@5:0.33278\tvalidation_0-ndcg@10:0.40233\tvalidation_0-ndcg@50:0.49823\n",
            "[49]\tvalidation_0-ndcg@1:0.21302\tvalidation_0-ndcg@3:0.28453\tvalidation_0-ndcg@5:0.33231\tvalidation_0-ndcg@10:0.40204\tvalidation_0-ndcg@50:0.49788\n",
            "[50]\tvalidation_0-ndcg@1:0.21365\tvalidation_0-ndcg@3:0.28491\tvalidation_0-ndcg@5:0.33272\tvalidation_0-ndcg@10:0.40230\tvalidation_0-ndcg@50:0.49829\n",
            "[51]\tvalidation_0-ndcg@1:0.21382\tvalidation_0-ndcg@3:0.28567\tvalidation_0-ndcg@5:0.33297\tvalidation_0-ndcg@10:0.40273\tvalidation_0-ndcg@50:0.49861\n",
            "[52]\tvalidation_0-ndcg@1:0.21394\tvalidation_0-ndcg@3:0.28572\tvalidation_0-ndcg@5:0.33341\tvalidation_0-ndcg@10:0.40265\tvalidation_0-ndcg@50:0.49877\n",
            "[53]\tvalidation_0-ndcg@1:0.21440\tvalidation_0-ndcg@3:0.28545\tvalidation_0-ndcg@5:0.33324\tvalidation_0-ndcg@10:0.40275\tvalidation_0-ndcg@50:0.49873\n",
            "[54]\tvalidation_0-ndcg@1:0.21386\tvalidation_0-ndcg@3:0.28554\tvalidation_0-ndcg@5:0.33300\tvalidation_0-ndcg@10:0.40254\tvalidation_0-ndcg@50:0.49852\n",
            "[55]\tvalidation_0-ndcg@1:0.21423\tvalidation_0-ndcg@3:0.28571\tvalidation_0-ndcg@5:0.33322\tvalidation_0-ndcg@10:0.40276\tvalidation_0-ndcg@50:0.49865\n"
          ]
        },
        {
          "output_type": "execute_result",
          "data": {
            "text/plain": [
              "XGBRanker(base_score=None, booster=None, callbacks=None, colsample_bylevel=None,\n",
              "          colsample_bynode=None, colsample_bytree=None, device=None,\n",
              "          early_stopping_rounds=None, enable_categorical=False,\n",
              "          eval_metric=['ndcg@1', 'ndcg@3', 'ndcg@5', 'ndcg@10', 'ndcg@50'],\n",
              "          feature_types=None, gamma=None, grow_policy=None,\n",
              "          importance_type=None, interaction_constraints=None,\n",
              "          lambdarank_bias_norm=1, lambdarank_normalization=False,\n",
              "          lambdarank_num_pair_per_sample=12, lambdarank_pair_method='topk',\n",
              "          lambdarank_unbiased=True, learning_rate=0.01, max_bin=None,\n",
              "          max_cat_threshold=None, max_cat_to_onehot=None, max_delta_step=None,\n",
              "          max_depth=None, max_leaves=None, min_child_weight=None, missing=nan,\n",
              "          monotone_constraints=None, ...)"
            ],
            "text/html": [
              "<style>#sk-container-id-1 {color: black;background-color: white;}#sk-container-id-1 pre{padding: 0;}#sk-container-id-1 div.sk-toggleable {background-color: white;}#sk-container-id-1 label.sk-toggleable__label {cursor: pointer;display: block;width: 100%;margin-bottom: 0;padding: 0.3em;box-sizing: border-box;text-align: center;}#sk-container-id-1 label.sk-toggleable__label-arrow:before {content: \"▸\";float: left;margin-right: 0.25em;color: #696969;}#sk-container-id-1 label.sk-toggleable__label-arrow:hover:before {color: black;}#sk-container-id-1 div.sk-estimator:hover label.sk-toggleable__label-arrow:before {color: black;}#sk-container-id-1 div.sk-toggleable__content {max-height: 0;max-width: 0;overflow: hidden;text-align: left;background-color: #f0f8ff;}#sk-container-id-1 div.sk-toggleable__content pre {margin: 0.2em;color: black;border-radius: 0.25em;background-color: #f0f8ff;}#sk-container-id-1 input.sk-toggleable__control:checked~div.sk-toggleable__content {max-height: 200px;max-width: 100%;overflow: auto;}#sk-container-id-1 input.sk-toggleable__control:checked~label.sk-toggleable__label-arrow:before {content: \"▾\";}#sk-container-id-1 div.sk-estimator input.sk-toggleable__control:checked~label.sk-toggleable__label {background-color: #d4ebff;}#sk-container-id-1 div.sk-label input.sk-toggleable__control:checked~label.sk-toggleable__label {background-color: #d4ebff;}#sk-container-id-1 input.sk-hidden--visually {border: 0;clip: rect(1px 1px 1px 1px);clip: rect(1px, 1px, 1px, 1px);height: 1px;margin: -1px;overflow: hidden;padding: 0;position: absolute;width: 1px;}#sk-container-id-1 div.sk-estimator {font-family: monospace;background-color: #f0f8ff;border: 1px dotted black;border-radius: 0.25em;box-sizing: border-box;margin-bottom: 0.5em;}#sk-container-id-1 div.sk-estimator:hover {background-color: #d4ebff;}#sk-container-id-1 div.sk-parallel-item::after {content: \"\";width: 100%;border-bottom: 1px solid gray;flex-grow: 1;}#sk-container-id-1 div.sk-label:hover label.sk-toggleable__label {background-color: #d4ebff;}#sk-container-id-1 div.sk-serial::before {content: \"\";position: absolute;border-left: 1px solid gray;box-sizing: border-box;top: 0;bottom: 0;left: 50%;z-index: 0;}#sk-container-id-1 div.sk-serial {display: flex;flex-direction: column;align-items: center;background-color: white;padding-right: 0.2em;padding-left: 0.2em;position: relative;}#sk-container-id-1 div.sk-item {position: relative;z-index: 1;}#sk-container-id-1 div.sk-parallel {display: flex;align-items: stretch;justify-content: center;background-color: white;position: relative;}#sk-container-id-1 div.sk-item::before, #sk-container-id-1 div.sk-parallel-item::before {content: \"\";position: absolute;border-left: 1px solid gray;box-sizing: border-box;top: 0;bottom: 0;left: 50%;z-index: -1;}#sk-container-id-1 div.sk-parallel-item {display: flex;flex-direction: column;z-index: 1;position: relative;background-color: white;}#sk-container-id-1 div.sk-parallel-item:first-child::after {align-self: flex-end;width: 50%;}#sk-container-id-1 div.sk-parallel-item:last-child::after {align-self: flex-start;width: 50%;}#sk-container-id-1 div.sk-parallel-item:only-child::after {width: 0;}#sk-container-id-1 div.sk-dashed-wrapped {border: 1px dashed gray;margin: 0 0.4em 0.5em 0.4em;box-sizing: border-box;padding-bottom: 0.4em;background-color: white;}#sk-container-id-1 div.sk-label label {font-family: monospace;font-weight: bold;display: inline-block;line-height: 1.2em;}#sk-container-id-1 div.sk-label-container {text-align: center;}#sk-container-id-1 div.sk-container {/* jupyter's `normalize.less` sets `[hidden] { display: none; }` but bootstrap.min.css set `[hidden] { display: none !important; }` so we also need the `!important` here to be able to override the default hidden behavior on the sphinx rendered scikit-learn.org. See: https://github.com/scikit-learn/scikit-learn/issues/21755 */display: inline-block !important;position: relative;}#sk-container-id-1 div.sk-text-repr-fallback {display: none;}</style><div id=\"sk-container-id-1\" class=\"sk-top-container\"><div class=\"sk-text-repr-fallback\"><pre>XGBRanker(base_score=None, booster=None, callbacks=None, colsample_bylevel=None,\n",
              "          colsample_bynode=None, colsample_bytree=None, device=None,\n",
              "          early_stopping_rounds=None, enable_categorical=False,\n",
              "          eval_metric=[&#x27;ndcg@1&#x27;, &#x27;ndcg@3&#x27;, &#x27;ndcg@5&#x27;, &#x27;ndcg@10&#x27;, &#x27;ndcg@50&#x27;],\n",
              "          feature_types=None, gamma=None, grow_policy=None,\n",
              "          importance_type=None, interaction_constraints=None,\n",
              "          lambdarank_bias_norm=1, lambdarank_normalization=False,\n",
              "          lambdarank_num_pair_per_sample=12, lambdarank_pair_method=&#x27;topk&#x27;,\n",
              "          lambdarank_unbiased=True, learning_rate=0.01, max_bin=None,\n",
              "          max_cat_threshold=None, max_cat_to_onehot=None, max_delta_step=None,\n",
              "          max_depth=None, max_leaves=None, min_child_weight=None, missing=nan,\n",
              "          monotone_constraints=None, ...)</pre><b>In a Jupyter environment, please rerun this cell to show the HTML representation or trust the notebook. <br />On GitHub, the HTML representation is unable to render, please try loading this page with nbviewer.org.</b></div><div class=\"sk-container\" hidden><div class=\"sk-item\"><div class=\"sk-estimator sk-toggleable\"><input class=\"sk-toggleable__control sk-hidden--visually\" id=\"sk-estimator-id-1\" type=\"checkbox\" checked><label for=\"sk-estimator-id-1\" class=\"sk-toggleable__label sk-toggleable__label-arrow\">XGBRanker</label><div class=\"sk-toggleable__content\"><pre>XGBRanker(base_score=None, booster=None, callbacks=None, colsample_bylevel=None,\n",
              "          colsample_bynode=None, colsample_bytree=None, device=None,\n",
              "          early_stopping_rounds=None, enable_categorical=False,\n",
              "          eval_metric=[&#x27;ndcg@1&#x27;, &#x27;ndcg@3&#x27;, &#x27;ndcg@5&#x27;, &#x27;ndcg@10&#x27;, &#x27;ndcg@50&#x27;],\n",
              "          feature_types=None, gamma=None, grow_policy=None,\n",
              "          importance_type=None, interaction_constraints=None,\n",
              "          lambdarank_bias_norm=1, lambdarank_normalization=False,\n",
              "          lambdarank_num_pair_per_sample=12, lambdarank_pair_method=&#x27;topk&#x27;,\n",
              "          lambdarank_unbiased=True, learning_rate=0.01, max_bin=None,\n",
              "          max_cat_threshold=None, max_cat_to_onehot=None, max_delta_step=None,\n",
              "          max_depth=None, max_leaves=None, min_child_weight=None, missing=nan,\n",
              "          monotone_constraints=None, ...)</pre></div></div></div></div></div>"
            ]
          },
          "metadata": {},
          "execution_count": 67
        }
      ]
    },
    {
      "cell_type": "code",
      "source": [
        "#ranker.evals_result_"
      ],
      "metadata": {
        "id": "cjQrgCJ2M49p"
      },
      "execution_count": 68,
      "outputs": []
    },
    {
      "cell_type": "code",
      "source": [
        "# from sklearn.model_selection import StratifiedGroupKFold, cross_val_score\n",
        "# Works with cv in scikit-learn, along with HPO utilities like GridSearchCV\n",
        "# kfold = StratifiedGroupKFold(n_splits = 5, shuffle=False)\n",
        "\n",
        "# what is the default scoring for XGBRanker -> is it eval_metric from the model above\n",
        "\n",
        "# cross_val_score(ranker, X, y, cv=kfold, groups=X.qid)"
      ],
      "metadata": {
        "id": "pMuxiHl7Qvps"
      },
      "execution_count": 69,
      "outputs": []
    },
    {
      "cell_type": "markdown",
      "source": [
        "Prediction: needs to be done by query in query_test\n",
        "\n",
        "---\n",
        "\n",
        "To do:\n",
        "- calculate a scores by query, then calculate ndcg for each query\n",
        "- how needs data to be stored/ordered/porvided?\n",
        "- what is the scoring function used as default\n",
        "- should it be replaced by NDCG?"
      ],
      "metadata": {
        "id": "d0PWzNJmSL0k"
      }
    },
    {
      "cell_type": "code",
      "source": [
        "import numpy as np\n",
        "\n",
        "def ndcg(y_score, y_true, k):\n",
        "    order = np.argsort(y_score)[::-1]\n",
        "    y_true = np.take(y_true, order[:k])\n",
        "\n",
        "    gain = 2 ** y_true - 1\n",
        "\n",
        "    discounts = np.log2(np.arange(len(y_true)) + 2)\n",
        "    return np.sum(gain / discounts)"
      ],
      "metadata": {
        "id": "_LL_RxCXKDk7"
      },
      "execution_count": null,
      "outputs": []
    },
    {
      "cell_type": "code",
      "source": [
        "\n",
        "\n",
        "#y_true = y_test[qid_test == qid]\n",
        "#y_score = ranker.predict(X_test[qid_test == qid])"
      ],
      "metadata": {
        "id": "J-uDoqtBgZ4o"
      },
      "execution_count": null,
      "outputs": []
    },
    {
      "cell_type": "code",
      "source": [
        "# this yields the same result as ndcg@10 when I provide the eval set in the ranker.fit\n",
        "# https://forecastegy.com/posts/xgboost-learning-to-rank-python/\n",
        "\n",
        "# here I did not provide eval_set and calculated the NDCG \"by hand\" with ranker.predict\n",
        "qids = np.unique(qid_test)\n",
        "\n",
        "\n",
        "ndcg_ = list()\n",
        "\n",
        "for i, qid in enumerate(qids):\n",
        "    y = y_test[qid_test == qid]\n",
        "\n",
        "    if np.sum(y) == 0:\n",
        "        continue\n",
        "\n",
        "    p = ranker.predict(X_test[qid_test == qid])\n",
        "\n",
        "    idcg = ndcg(y, y, k=10)\n",
        "    ndcg_.append(ndcg(p, y, k=10) / idcg)\n",
        "\n",
        "np.mean(ndcg_)\n",
        "# 0.618\n",
        "\n",
        "# calculates scores over all queries\n",
        "# scores = ranker.predict(X_test, qid = qid_test)\n",
        "\n",
        "# y_test_df = pd.DataFrame({\"relevance\": y_test, \"predicted_scores\": scores, \"qid\": qid_test})"
      ],
      "metadata": {
        "id": "rRkL9q_TR-3i",
        "colab": {
          "base_uri": "https://localhost:8080/"
        },
        "outputId": "b08f34e4-8ee6-450d-878d-ed1fc34d6452"
      },
      "execution_count": null,
      "outputs": [
        {
          "output_type": "execute_result",
          "data": {
            "text/plain": [
              "0.6210364520430335"
            ]
          },
          "metadata": {},
          "execution_count": 54
        }
      ]
    },
    {
      "cell_type": "code",
      "source": [
        "qids = np.unique(qid_test)\n",
        "\n",
        "\n",
        "scores = list()\n",
        "\n",
        "for i, qid in enumerate(qids):\n",
        "    y = y_test[qid_test == qid]\n",
        "\n",
        "    if np.sum(y) == 0:\n",
        "        continue\n",
        "\n",
        "    scores.append(ranker.predict(X_test[qid_test == qid]))"
      ],
      "metadata": {
        "id": "0qfMdpSW8Z3C"
      },
      "execution_count": null,
      "outputs": []
    },
    {
      "cell_type": "code",
      "source": [
        "out = np.concatenate(scores).ravel()\n",
        "out"
      ],
      "metadata": {
        "colab": {
          "base_uri": "https://localhost:8080/"
        },
        "id": "7fB0rHgRgCb4",
        "outputId": "1bf75788-8689-4289-b22e-2dc351cfac01"
      },
      "execution_count": null,
      "outputs": [
        {
          "output_type": "execute_result",
          "data": {
            "text/plain": [
              "array([ 0.0187784 , -0.07861909, -0.08131003, ..., -0.0713575 ,\n",
              "       -0.01944461, -0.07990213], dtype=float32)"
            ]
          },
          "metadata": {},
          "execution_count": 57
        }
      ]
    },
    {
      "cell_type": "code",
      "source": [
        "## add qid to score\n",
        "len(out)\n",
        "y_test_df = pd.DataFrame({\"relevance\": y_test, \"predicted_scores\": out, \"qid\": qid_test})"
      ],
      "metadata": {
        "id": "MrNLS0zTeZp3"
      },
      "execution_count": null,
      "outputs": []
    },
    {
      "cell_type": "code",
      "source": [
        "y_test_df.head()"
      ],
      "metadata": {
        "colab": {
          "base_uri": "https://localhost:8080/",
          "height": 206
        },
        "id": "BATnqRzegmdH",
        "outputId": "2f24ac2c-623c-4dec-b4c5-53fc65eeed89"
      },
      "execution_count": null,
      "outputs": [
        {
          "output_type": "execute_result",
          "data": {
            "text/plain": [
              "    relevance  predicted_scores  qid\n",
              "0           0          0.018778    0\n",
              "29          0         -0.078619    0\n",
              "28          0         -0.081310    0\n",
              "27          0         -0.078619    0\n",
              "26          0         -0.078619    0"
            ],
            "text/html": [
              "\n",
              "  <div id=\"df-5d710aee-1e79-4eff-877f-396d2566b58a\" class=\"colab-df-container\">\n",
              "    <div>\n",
              "<style scoped>\n",
              "    .dataframe tbody tr th:only-of-type {\n",
              "        vertical-align: middle;\n",
              "    }\n",
              "\n",
              "    .dataframe tbody tr th {\n",
              "        vertical-align: top;\n",
              "    }\n",
              "\n",
              "    .dataframe thead th {\n",
              "        text-align: right;\n",
              "    }\n",
              "</style>\n",
              "<table border=\"1\" class=\"dataframe\">\n",
              "  <thead>\n",
              "    <tr style=\"text-align: right;\">\n",
              "      <th></th>\n",
              "      <th>relevance</th>\n",
              "      <th>predicted_scores</th>\n",
              "      <th>qid</th>\n",
              "    </tr>\n",
              "  </thead>\n",
              "  <tbody>\n",
              "    <tr>\n",
              "      <th>0</th>\n",
              "      <td>0</td>\n",
              "      <td>0.018778</td>\n",
              "      <td>0</td>\n",
              "    </tr>\n",
              "    <tr>\n",
              "      <th>29</th>\n",
              "      <td>0</td>\n",
              "      <td>-0.078619</td>\n",
              "      <td>0</td>\n",
              "    </tr>\n",
              "    <tr>\n",
              "      <th>28</th>\n",
              "      <td>0</td>\n",
              "      <td>-0.081310</td>\n",
              "      <td>0</td>\n",
              "    </tr>\n",
              "    <tr>\n",
              "      <th>27</th>\n",
              "      <td>0</td>\n",
              "      <td>-0.078619</td>\n",
              "      <td>0</td>\n",
              "    </tr>\n",
              "    <tr>\n",
              "      <th>26</th>\n",
              "      <td>0</td>\n",
              "      <td>-0.078619</td>\n",
              "      <td>0</td>\n",
              "    </tr>\n",
              "  </tbody>\n",
              "</table>\n",
              "</div>\n",
              "    <div class=\"colab-df-buttons\">\n",
              "\n",
              "  <div class=\"colab-df-container\">\n",
              "    <button class=\"colab-df-convert\" onclick=\"convertToInteractive('df-5d710aee-1e79-4eff-877f-396d2566b58a')\"\n",
              "            title=\"Convert this dataframe to an interactive table.\"\n",
              "            style=\"display:none;\">\n",
              "\n",
              "  <svg xmlns=\"http://www.w3.org/2000/svg\" height=\"24px\" viewBox=\"0 -960 960 960\">\n",
              "    <path d=\"M120-120v-720h720v720H120Zm60-500h600v-160H180v160Zm220 220h160v-160H400v160Zm0 220h160v-160H400v160ZM180-400h160v-160H180v160Zm440 0h160v-160H620v160ZM180-180h160v-160H180v160Zm440 0h160v-160H620v160Z\"/>\n",
              "  </svg>\n",
              "    </button>\n",
              "\n",
              "  <style>\n",
              "    .colab-df-container {\n",
              "      display:flex;\n",
              "      gap: 12px;\n",
              "    }\n",
              "\n",
              "    .colab-df-convert {\n",
              "      background-color: #E8F0FE;\n",
              "      border: none;\n",
              "      border-radius: 50%;\n",
              "      cursor: pointer;\n",
              "      display: none;\n",
              "      fill: #1967D2;\n",
              "      height: 32px;\n",
              "      padding: 0 0 0 0;\n",
              "      width: 32px;\n",
              "    }\n",
              "\n",
              "    .colab-df-convert:hover {\n",
              "      background-color: #E2EBFA;\n",
              "      box-shadow: 0px 1px 2px rgba(60, 64, 67, 0.3), 0px 1px 3px 1px rgba(60, 64, 67, 0.15);\n",
              "      fill: #174EA6;\n",
              "    }\n",
              "\n",
              "    .colab-df-buttons div {\n",
              "      margin-bottom: 4px;\n",
              "    }\n",
              "\n",
              "    [theme=dark] .colab-df-convert {\n",
              "      background-color: #3B4455;\n",
              "      fill: #D2E3FC;\n",
              "    }\n",
              "\n",
              "    [theme=dark] .colab-df-convert:hover {\n",
              "      background-color: #434B5C;\n",
              "      box-shadow: 0px 1px 3px 1px rgba(0, 0, 0, 0.15);\n",
              "      filter: drop-shadow(0px 1px 2px rgba(0, 0, 0, 0.3));\n",
              "      fill: #FFFFFF;\n",
              "    }\n",
              "  </style>\n",
              "\n",
              "    <script>\n",
              "      const buttonEl =\n",
              "        document.querySelector('#df-5d710aee-1e79-4eff-877f-396d2566b58a button.colab-df-convert');\n",
              "      buttonEl.style.display =\n",
              "        google.colab.kernel.accessAllowed ? 'block' : 'none';\n",
              "\n",
              "      async function convertToInteractive(key) {\n",
              "        const element = document.querySelector('#df-5d710aee-1e79-4eff-877f-396d2566b58a');\n",
              "        const dataTable =\n",
              "          await google.colab.kernel.invokeFunction('convertToInteractive',\n",
              "                                                    [key], {});\n",
              "        if (!dataTable) return;\n",
              "\n",
              "        const docLinkHtml = 'Like what you see? Visit the ' +\n",
              "          '<a target=\"_blank\" href=https://colab.research.google.com/notebooks/data_table.ipynb>data table notebook</a>'\n",
              "          + ' to learn more about interactive tables.';\n",
              "        element.innerHTML = '';\n",
              "        dataTable['output_type'] = 'display_data';\n",
              "        await google.colab.output.renderOutput(dataTable, element);\n",
              "        const docLink = document.createElement('div');\n",
              "        docLink.innerHTML = docLinkHtml;\n",
              "        element.appendChild(docLink);\n",
              "      }\n",
              "    </script>\n",
              "  </div>\n",
              "\n",
              "\n",
              "<div id=\"df-ba215fc9-b032-4437-bee3-09233fee0e01\">\n",
              "  <button class=\"colab-df-quickchart\" onclick=\"quickchart('df-ba215fc9-b032-4437-bee3-09233fee0e01')\"\n",
              "            title=\"Suggest charts\"\n",
              "            style=\"display:none;\">\n",
              "\n",
              "<svg xmlns=\"http://www.w3.org/2000/svg\" height=\"24px\"viewBox=\"0 0 24 24\"\n",
              "     width=\"24px\">\n",
              "    <g>\n",
              "        <path d=\"M19 3H5c-1.1 0-2 .9-2 2v14c0 1.1.9 2 2 2h14c1.1 0 2-.9 2-2V5c0-1.1-.9-2-2-2zM9 17H7v-7h2v7zm4 0h-2V7h2v10zm4 0h-2v-4h2v4z\"/>\n",
              "    </g>\n",
              "</svg>\n",
              "  </button>\n",
              "\n",
              "<style>\n",
              "  .colab-df-quickchart {\n",
              "      --bg-color: #E8F0FE;\n",
              "      --fill-color: #1967D2;\n",
              "      --hover-bg-color: #E2EBFA;\n",
              "      --hover-fill-color: #174EA6;\n",
              "      --disabled-fill-color: #AAA;\n",
              "      --disabled-bg-color: #DDD;\n",
              "  }\n",
              "\n",
              "  [theme=dark] .colab-df-quickchart {\n",
              "      --bg-color: #3B4455;\n",
              "      --fill-color: #D2E3FC;\n",
              "      --hover-bg-color: #434B5C;\n",
              "      --hover-fill-color: #FFFFFF;\n",
              "      --disabled-bg-color: #3B4455;\n",
              "      --disabled-fill-color: #666;\n",
              "  }\n",
              "\n",
              "  .colab-df-quickchart {\n",
              "    background-color: var(--bg-color);\n",
              "    border: none;\n",
              "    border-radius: 50%;\n",
              "    cursor: pointer;\n",
              "    display: none;\n",
              "    fill: var(--fill-color);\n",
              "    height: 32px;\n",
              "    padding: 0;\n",
              "    width: 32px;\n",
              "  }\n",
              "\n",
              "  .colab-df-quickchart:hover {\n",
              "    background-color: var(--hover-bg-color);\n",
              "    box-shadow: 0 1px 2px rgba(60, 64, 67, 0.3), 0 1px 3px 1px rgba(60, 64, 67, 0.15);\n",
              "    fill: var(--button-hover-fill-color);\n",
              "  }\n",
              "\n",
              "  .colab-df-quickchart-complete:disabled,\n",
              "  .colab-df-quickchart-complete:disabled:hover {\n",
              "    background-color: var(--disabled-bg-color);\n",
              "    fill: var(--disabled-fill-color);\n",
              "    box-shadow: none;\n",
              "  }\n",
              "\n",
              "  .colab-df-spinner {\n",
              "    border: 2px solid var(--fill-color);\n",
              "    border-color: transparent;\n",
              "    border-bottom-color: var(--fill-color);\n",
              "    animation:\n",
              "      spin 1s steps(1) infinite;\n",
              "  }\n",
              "\n",
              "  @keyframes spin {\n",
              "    0% {\n",
              "      border-color: transparent;\n",
              "      border-bottom-color: var(--fill-color);\n",
              "      border-left-color: var(--fill-color);\n",
              "    }\n",
              "    20% {\n",
              "      border-color: transparent;\n",
              "      border-left-color: var(--fill-color);\n",
              "      border-top-color: var(--fill-color);\n",
              "    }\n",
              "    30% {\n",
              "      border-color: transparent;\n",
              "      border-left-color: var(--fill-color);\n",
              "      border-top-color: var(--fill-color);\n",
              "      border-right-color: var(--fill-color);\n",
              "    }\n",
              "    40% {\n",
              "      border-color: transparent;\n",
              "      border-right-color: var(--fill-color);\n",
              "      border-top-color: var(--fill-color);\n",
              "    }\n",
              "    60% {\n",
              "      border-color: transparent;\n",
              "      border-right-color: var(--fill-color);\n",
              "    }\n",
              "    80% {\n",
              "      border-color: transparent;\n",
              "      border-right-color: var(--fill-color);\n",
              "      border-bottom-color: var(--fill-color);\n",
              "    }\n",
              "    90% {\n",
              "      border-color: transparent;\n",
              "      border-bottom-color: var(--fill-color);\n",
              "    }\n",
              "  }\n",
              "</style>\n",
              "\n",
              "  <script>\n",
              "    async function quickchart(key) {\n",
              "      const quickchartButtonEl =\n",
              "        document.querySelector('#' + key + ' button');\n",
              "      quickchartButtonEl.disabled = true;  // To prevent multiple clicks.\n",
              "      quickchartButtonEl.classList.add('colab-df-spinner');\n",
              "      try {\n",
              "        const charts = await google.colab.kernel.invokeFunction(\n",
              "            'suggestCharts', [key], {});\n",
              "      } catch (error) {\n",
              "        console.error('Error during call to suggestCharts:', error);\n",
              "      }\n",
              "      quickchartButtonEl.classList.remove('colab-df-spinner');\n",
              "      quickchartButtonEl.classList.add('colab-df-quickchart-complete');\n",
              "    }\n",
              "    (() => {\n",
              "      let quickchartButtonEl =\n",
              "        document.querySelector('#df-ba215fc9-b032-4437-bee3-09233fee0e01 button');\n",
              "      quickchartButtonEl.style.display =\n",
              "        google.colab.kernel.accessAllowed ? 'block' : 'none';\n",
              "    })();\n",
              "  </script>\n",
              "</div>\n",
              "    </div>\n",
              "  </div>\n"
            ],
            "application/vnd.google.colaboratory.intrinsic+json": {
              "type": "dataframe",
              "variable_name": "y_test_df"
            }
          },
          "metadata": {},
          "execution_count": 59
        }
      ]
    },
    {
      "cell_type": "code",
      "source": [
        "from sklearn.metrics import ndcg_score\n",
        "\n",
        "# throw out rows where qid is unique - for those ndcg is not possible to calculate\n",
        "# Find counts of each group\n",
        "group_counts = y_test_df['qid'].value_counts()\n",
        "unique_groups = group_counts[group_counts == 1].index\n",
        "filtered_df = y_test_df[~y_test_df['qid'].isin(unique_groups)]\n"
      ],
      "metadata": {
        "id": "Ouf4Jxj8hJXK"
      },
      "execution_count": null,
      "outputs": []
    },
    {
      "cell_type": "code",
      "source": [
        "####### why sorted for relevance labels?\n",
        "### --> ordering should coem from the predicted scores\n",
        "\n",
        "\n",
        "\n",
        "ndcg_per_query = []\n",
        "for group_name, group_df in filtered_df.groupby('qid'):\n",
        "    pred_scores = group_df['predicted_scores']\n",
        "    true_labels = group_df['relevance']  # Assuming predicted scores are the same as true labels\n",
        "    ndcg = ndcg_score(y_true = [true_labels], y_score = [pred_scores])\n",
        "    ndcg_per_query.append(ndcg)\n",
        "\n",
        "print('NDCG mean taking into account all values of the ranking', np.mean(ndcg_per_query))"
      ],
      "metadata": {
        "id": "DpXo_BEIpHe3",
        "colab": {
          "base_uri": "https://localhost:8080/"
        },
        "outputId": "143c49c5-ff5d-4d41-c400-480ee5cf68ab"
      },
      "execution_count": null,
      "outputs": [
        {
          "output_type": "stream",
          "name": "stdout",
          "text": [
            "NDCG mean taking into account all values of the ranking 0.6761414359414907\n"
          ]
        }
      ]
    },
    {
      "cell_type": "code",
      "source": [
        "ndcg_per_query = []\n",
        "for group_name, group_df in filtered_df.groupby('qid'):\n",
        "    pred_scores = group_df['predicted_scores']\n",
        "    true_labels = group_df['relevance']  # Assuming predicted scores are the same as true labels\n",
        "    ndcg = ndcg_score([true_labels], [pred_scores], k=20)\n",
        "    ndcg_per_query.append(ndcg)\n",
        "\n",
        "print('NDCG mean taking into account the first 20 values of the ranking', np.mean(ndcg_per_query))"
      ],
      "metadata": {
        "colab": {
          "base_uri": "https://localhost:8080/"
        },
        "id": "9ugzPLyEpDmp",
        "outputId": "ac8632e8-eef7-4440-c6ed-2e4b2c230140"
      },
      "execution_count": null,
      "outputs": [
        {
          "output_type": "stream",
          "name": "stdout",
          "text": [
            "NDCG mean taking into account the first 20 values of the ranking 0.6612530373888119\n"
          ]
        }
      ]
    },
    {
      "cell_type": "code",
      "source": [
        "ndcg_per_query = []\n",
        "for group_name, group_df in filtered_df.groupby('qid'):\n",
        "    pred_scores = group_df['predicted_scores']\n",
        "    true_labels = group_df['relevance']  # Assuming predicted scores are the same as true labels\n",
        "    ndcg = ndcg_score([true_labels], [pred_scores], k=10)\n",
        "    ndcg_per_query.append(ndcg)\n",
        "\n",
        "print('NDCG mean taking into account the first 10 values of the ranking', np.mean(ndcg_per_query))"
      ],
      "metadata": {
        "colab": {
          "base_uri": "https://localhost:8080/"
        },
        "id": "22WZNkGppUTR",
        "outputId": "dae0feb4-064f-4ddf-d221-f78d90ec0189"
      },
      "execution_count": null,
      "outputs": [
        {
          "output_type": "stream",
          "name": "stdout",
          "text": [
            "NDCG mean taking into account the first 10 values of the ranking 0.6195857249396275\n"
          ]
        }
      ]
    },
    {
      "cell_type": "code",
      "source": [
        "ndcg_per_query = []\n",
        "for group_name, group_df in filtered_df.groupby('qid'):\n",
        "    pred_scores = group_df['predicted_scores']\n",
        "    true_labels = sorted(group_df['relevance'],reverse=True)  # Assuming predicted scores are the same as true labels\n",
        "    ndcg = ndcg_score([true_labels], [pred_scores], k=5)\n",
        "    ndcg_per_query.append(ndcg)\n",
        "\n",
        "print('NDCG mean taking into account the first 5 values of the ranking', np.mean(ndcg_per_query))"
      ],
      "metadata": {
        "colab": {
          "base_uri": "https://localhost:8080/"
        },
        "id": "jZYEu87Ypejn",
        "outputId": "1b3100d4-a748-409f-8cb3-83ff732fb397"
      },
      "execution_count": null,
      "outputs": [
        {
          "output_type": "stream",
          "name": "stdout",
          "text": [
            "NDCG mean taking into account the first 5 values of the ranking 0.22098264211090526\n"
          ]
        }
      ]
    },
    {
      "cell_type": "code",
      "source": [
        "ndcg_per_query = []\n",
        "for group_name, group_df in filtered_df.groupby('qid'):\n",
        "    pred_scores = group_df['predicted_scores']\n",
        "    true_labels = sorted(group_df['relevance'],reverse=True)  # Assuming predicted scores are the same as true labels\n",
        "    ndcg = ndcg_score([true_labels], [pred_scores], k=1)\n",
        "    ndcg_per_query.append(ndcg)\n",
        "\n",
        "print('NDCG mean taking into account the first 1 values of the ranking', np.mean(ndcg_per_query))"
      ],
      "metadata": {
        "colab": {
          "base_uri": "https://localhost:8080/"
        },
        "id": "lVvKLCaNpkII",
        "outputId": "2fa41daa-7160-469b-9422-a57503499efe"
      },
      "execution_count": null,
      "outputs": [
        {
          "output_type": "stream",
          "name": "stdout",
          "text": [
            "NDCG mean taking into account the first 1 values of the ranking 0.12331606217616581\n"
          ]
        }
      ]
    },
    {
      "cell_type": "code",
      "source": [
        "### scatter plot of relevance and score\n",
        "# we expect a higher predicted ranking vor values 1 and 2 on x - axis\n",
        "plt.scatter(y_test_df[\"relevance\"], y_test_df[\"predicted_scores\"])\n",
        "\n",
        "y_test_df.shape # can this plot be made for a specific search"
      ],
      "metadata": {
        "colab": {
          "base_uri": "https://localhost:8080/",
          "height": 448
        },
        "id": "FADBEMU58Qg3",
        "outputId": "bc346fcb-0038-4d3f-cc13-831c20180db6"
      },
      "execution_count": null,
      "outputs": [
        {
          "output_type": "execute_result",
          "data": {
            "text/plain": [
              "(116639, 3)"
            ]
          },
          "metadata": {},
          "execution_count": 48
        },
        {
          "output_type": "display_data",
          "data": {
            "text/plain": [
              "<Figure size 640x480 with 1 Axes>"
            ],
            "image/png": "[encoded data removed]"
          },
          "metadata": {}
        }
      ]
    },
    {
      "cell_type": "code",
      "source": [
        "# calculate average predicted score by group\n",
        "\n",
        "y_test_df.groupby(by = \"relevance\").mean()"
      ],
      "metadata": {
        "colab": {
          "base_uri": "https://localhost:8080/",
          "height": 175
        },
        "id": "feRPQt3pphgY",
        "outputId": "0f96f36e-6869-40e5-971a-34c7485ee0af"
      },
      "execution_count": null,
      "outputs": [
        {
          "output_type": "execute_result",
          "data": {
            "text/plain": [
              "           predicted_scores           qid\n",
              "relevance                                \n",
              "0                 -0.304758  48851.244544\n",
              "1                  0.037793  48668.238597\n",
              "2                 -0.034879  51242.193825"
            ],
            "text/html": [
              "\n",
              "  <div id=\"df-4ef3d801-b3e9-4aa5-97b5-044497eea785\" class=\"colab-df-container\">\n",
              "    <div>\n",
              "<style scoped>\n",
              "    .dataframe tbody tr th:only-of-type {\n",
              "        vertical-align: middle;\n",
              "    }\n",
              "\n",
              "    .dataframe tbody tr th {\n",
              "        vertical-align: top;\n",
              "    }\n",
              "\n",
              "    .dataframe thead th {\n",
              "        text-align: right;\n",
              "    }\n",
              "</style>\n",
              "<table border=\"1\" class=\"dataframe\">\n",
              "  <thead>\n",
              "    <tr style=\"text-align: right;\">\n",
              "      <th></th>\n",
              "      <th>predicted_scores</th>\n",
              "      <th>qid</th>\n",
              "    </tr>\n",
              "    <tr>\n",
              "      <th>relevance</th>\n",
              "      <th></th>\n",
              "      <th></th>\n",
              "    </tr>\n",
              "  </thead>\n",
              "  <tbody>\n",
              "    <tr>\n",
              "      <th>0</th>\n",
              "      <td>-0.304758</td>\n",
              "      <td>48851.244544</td>\n",
              "    </tr>\n",
              "    <tr>\n",
              "      <th>1</th>\n",
              "      <td>0.037793</td>\n",
              "      <td>48668.238597</td>\n",
              "    </tr>\n",
              "    <tr>\n",
              "      <th>2</th>\n",
              "      <td>-0.034879</td>\n",
              "      <td>51242.193825</td>\n",
              "    </tr>\n",
              "  </tbody>\n",
              "</table>\n",
              "</div>\n",
              "    <div class=\"colab-df-buttons\">\n",
              "\n",
              "  <div class=\"colab-df-container\">\n",
              "    <button class=\"colab-df-convert\" onclick=\"convertToInteractive('df-4ef3d801-b3e9-4aa5-97b5-044497eea785')\"\n",
              "            title=\"Convert this dataframe to an interactive table.\"\n",
              "            style=\"display:none;\">\n",
              "\n",
              "  <svg xmlns=\"http://www.w3.org/2000/svg\" height=\"24px\" viewBox=\"0 -960 960 960\">\n",
              "    <path d=\"M120-120v-720h720v720H120Zm60-500h600v-160H180v160Zm220 220h160v-160H400v160Zm0 220h160v-160H400v160ZM180-400h160v-160H180v160Zm440 0h160v-160H620v160ZM180-180h160v-160H180v160Zm440 0h160v-160H620v160Z\"/>\n",
              "  </svg>\n",
              "    </button>\n",
              "\n",
              "  <style>\n",
              "    .colab-df-container {\n",
              "      display:flex;\n",
              "      gap: 12px;\n",
              "    }\n",
              "\n",
              "    .colab-df-convert {\n",
              "      background-color: #E8F0FE;\n",
              "      border: none;\n",
              "      border-radius: 50%;\n",
              "      cursor: pointer;\n",
              "      display: none;\n",
              "      fill: #1967D2;\n",
              "      height: 32px;\n",
              "      padding: 0 0 0 0;\n",
              "      width: 32px;\n",
              "    }\n",
              "\n",
              "    .colab-df-convert:hover {\n",
              "      background-color: #E2EBFA;\n",
              "      box-shadow: 0px 1px 2px rgba(60, 64, 67, 0.3), 0px 1px 3px 1px rgba(60, 64, 67, 0.15);\n",
              "      fill: #174EA6;\n",
              "    }\n",
              "\n",
              "    .colab-df-buttons div {\n",
              "      margin-bottom: 4px;\n",
              "    }\n",
              "\n",
              "    [theme=dark] .colab-df-convert {\n",
              "      background-color: #3B4455;\n",
              "      fill: #D2E3FC;\n",
              "    }\n",
              "\n",
              "    [theme=dark] .colab-df-convert:hover {\n",
              "      background-color: #434B5C;\n",
              "      box-shadow: 0px 1px 3px 1px rgba(0, 0, 0, 0.15);\n",
              "      filter: drop-shadow(0px 1px 2px rgba(0, 0, 0, 0.3));\n",
              "      fill: #FFFFFF;\n",
              "    }\n",
              "  </style>\n",
              "\n",
              "    <script>\n",
              "      const buttonEl =\n",
              "        document.querySelector('#df-4ef3d801-b3e9-4aa5-97b5-044497eea785 button.colab-df-convert');\n",
              "      buttonEl.style.display =\n",
              "        google.colab.kernel.accessAllowed ? 'block' : 'none';\n",
              "\n",
              "      async function convertToInteractive(key) {\n",
              "        const element = document.querySelector('#df-4ef3d801-b3e9-4aa5-97b5-044497eea785');\n",
              "        const dataTable =\n",
              "          await google.colab.kernel.invokeFunction('convertToInteractive',\n",
              "                                                    [key], {});\n",
              "        if (!dataTable) return;\n",
              "\n",
              "        const docLinkHtml = 'Like what you see? Visit the ' +\n",
              "          '<a target=\"_blank\" href=https://colab.research.google.com/notebooks/data_table.ipynb>data table notebook</a>'\n",
              "          + ' to learn more about interactive tables.';\n",
              "        element.innerHTML = '';\n",
              "        dataTable['output_type'] = 'display_data';\n",
              "        await google.colab.output.renderOutput(dataTable, element);\n",
              "        const docLink = document.createElement('div');\n",
              "        docLink.innerHTML = docLinkHtml;\n",
              "        element.appendChild(docLink);\n",
              "      }\n",
              "    </script>\n",
              "  </div>\n",
              "\n",
              "\n",
              "<div id=\"df-5d90ce87-2013-4b96-81ef-540db8599f5f\">\n",
              "  <button class=\"colab-df-quickchart\" onclick=\"quickchart('df-5d90ce87-2013-4b96-81ef-540db8599f5f')\"\n",
              "            title=\"Suggest charts\"\n",
              "            style=\"display:none;\">\n",
              "\n",
              "<svg xmlns=\"http://www.w3.org/2000/svg\" height=\"24px\"viewBox=\"0 0 24 24\"\n",
              "     width=\"24px\">\n",
              "    <g>\n",
              "        <path d=\"M19 3H5c-1.1 0-2 .9-2 2v14c0 1.1.9 2 2 2h14c1.1 0 2-.9 2-2V5c0-1.1-.9-2-2-2zM9 17H7v-7h2v7zm4 0h-2V7h2v10zm4 0h-2v-4h2v4z\"/>\n",
              "    </g>\n",
              "</svg>\n",
              "  </button>\n",
              "\n",
              "<style>\n",
              "  .colab-df-quickchart {\n",
              "      --bg-color: #E8F0FE;\n",
              "      --fill-color: #1967D2;\n",
              "      --hover-bg-color: #E2EBFA;\n",
              "      --hover-fill-color: #174EA6;\n",
              "      --disabled-fill-color: #AAA;\n",
              "      --disabled-bg-color: #DDD;\n",
              "  }\n",
              "\n",
              "  [theme=dark] .colab-df-quickchart {\n",
              "      --bg-color: #3B4455;\n",
              "      --fill-color: #D2E3FC;\n",
              "      --hover-bg-color: #434B5C;\n",
              "      --hover-fill-color: #FFFFFF;\n",
              "      --disabled-bg-color: #3B4455;\n",
              "      --disabled-fill-color: #666;\n",
              "  }\n",
              "\n",
              "  .colab-df-quickchart {\n",
              "    background-color: var(--bg-color);\n",
              "    border: none;\n",
              "    border-radius: 50%;\n",
              "    cursor: pointer;\n",
              "    display: none;\n",
              "    fill: var(--fill-color);\n",
              "    height: 32px;\n",
              "    padding: 0;\n",
              "    width: 32px;\n",
              "  }\n",
              "\n",
              "  .colab-df-quickchart:hover {\n",
              "    background-color: var(--hover-bg-color);\n",
              "    box-shadow: 0 1px 2px rgba(60, 64, 67, 0.3), 0 1px 3px 1px rgba(60, 64, 67, 0.15);\n",
              "    fill: var(--button-hover-fill-color);\n",
              "  }\n",
              "\n",
              "  .colab-df-quickchart-complete:disabled,\n",
              "  .colab-df-quickchart-complete:disabled:hover {\n",
              "    background-color: var(--disabled-bg-color);\n",
              "    fill: var(--disabled-fill-color);\n",
              "    box-shadow: none;\n",
              "  }\n",
              "\n",
              "  .colab-df-spinner {\n",
              "    border: 2px solid var(--fill-color);\n",
              "    border-color: transparent;\n",
              "    border-bottom-color: var(--fill-color);\n",
              "    animation:\n",
              "      spin 1s steps(1) infinite;\n",
              "  }\n",
              "\n",
              "  @keyframes spin {\n",
              "    0% {\n",
              "      border-color: transparent;\n",
              "      border-bottom-color: var(--fill-color);\n",
              "      border-left-color: var(--fill-color);\n",
              "    }\n",
              "    20% {\n",
              "      border-color: transparent;\n",
              "      border-left-color: var(--fill-color);\n",
              "      border-top-color: var(--fill-color);\n",
              "    }\n",
              "    30% {\n",
              "      border-color: transparent;\n",
              "      border-left-color: var(--fill-color);\n",
              "      border-top-color: var(--fill-color);\n",
              "      border-right-color: var(--fill-color);\n",
              "    }\n",
              "    40% {\n",
              "      border-color: transparent;\n",
              "      border-right-color: var(--fill-color);\n",
              "      border-top-color: var(--fill-color);\n",
              "    }\n",
              "    60% {\n",
              "      border-color: transparent;\n",
              "      border-right-color: var(--fill-color);\n",
              "    }\n",
              "    80% {\n",
              "      border-color: transparent;\n",
              "      border-right-color: var(--fill-color);\n",
              "      border-bottom-color: var(--fill-color);\n",
              "    }\n",
              "    90% {\n",
              "      border-color: transparent;\n",
              "      border-bottom-color: var(--fill-color);\n",
              "    }\n",
              "  }\n",
              "</style>\n",
              "\n",
              "  <script>\n",
              "    async function quickchart(key) {\n",
              "      const quickchartButtonEl =\n",
              "        document.querySelector('#' + key + ' button');\n",
              "      quickchartButtonEl.disabled = true;  // To prevent multiple clicks.\n",
              "      quickchartButtonEl.classList.add('colab-df-spinner');\n",
              "      try {\n",
              "        const charts = await google.colab.kernel.invokeFunction(\n",
              "            'suggestCharts', [key], {});\n",
              "      } catch (error) {\n",
              "        console.error('Error during call to suggestCharts:', error);\n",
              "      }\n",
              "      quickchartButtonEl.classList.remove('colab-df-spinner');\n",
              "      quickchartButtonEl.classList.add('colab-df-quickchart-complete');\n",
              "    }\n",
              "    (() => {\n",
              "      let quickchartButtonEl =\n",
              "        document.querySelector('#df-5d90ce87-2013-4b96-81ef-540db8599f5f button');\n",
              "      quickchartButtonEl.style.display =\n",
              "        google.colab.kernel.accessAllowed ? 'block' : 'none';\n",
              "    })();\n",
              "  </script>\n",
              "</div>\n",
              "    </div>\n",
              "  </div>\n"
            ],
            "application/vnd.google.colaboratory.intrinsic+json": {
              "type": "dataframe",
              "summary": "{\n  \"name\": \"y_test_df\",\n  \"rows\": 3,\n  \"fields\": [\n    {\n      \"column\": \"relevance\",\n      \"properties\": {\n        \"dtype\": \"number\",\n        \"std\": 1,\n        \"min\": 0,\n        \"max\": 2,\n        \"num_unique_values\": 3,\n        \"samples\": [\n          0,\n          1,\n          2\n        ],\n        \"semantic_type\": \"\",\n        \"description\": \"\"\n      }\n    },\n    {\n      \"column\": \"predicted_scores\",\n      \"properties\": {\n        \"dtype\": \"float32\",\n        \"num_unique_values\": 3,\n        \"samples\": [\n          -0.3047581911087036,\n          0.03779252991080284,\n          -0.03487887606024742\n        ],\n        \"semantic_type\": \"\",\n        \"description\": \"\"\n      }\n    },\n    {\n      \"column\": \"qid\",\n      \"properties\": {\n        \"dtype\": \"number\",\n        \"std\": 1436.1624301539944,\n        \"min\": 48668.2385973828,\n        \"max\": 51242.19382504288,\n        \"num_unique_values\": 3,\n        \"samples\": [\n          48851.24454406803,\n          48668.2385973828,\n          51242.19382504288\n        ],\n        \"semantic_type\": \"\",\n        \"description\": \"\"\n      }\n    }\n  ]\n}"
            }
          },
          "metadata": {},
          "execution_count": 49
        }
      ]
    },
    {
      "cell_type": "code",
      "source": [
        "#### show feature importance\n",
        "from xgboost import plot_importance\n",
        "# from matplotlib import pyplot\n",
        "\n",
        "plot_importance(ranker, max_num_features=20)\n",
        "plt.show()\n",
        "\n",
        "# include label names\n"
      ],
      "metadata": {
        "colab": {
          "base_uri": "https://localhost:8080/",
          "height": 472
        },
        "id": "1cW1dt6-3rYE",
        "outputId": "e3207500-8c41-4172-c6c8-6f3ce89e7d0f"
      },
      "execution_count": 70,
      "outputs": [
        {
          "output_type": "display_data",
          "data": {
            "text/plain": [
              "<Figure size 640x480 with 1 Axes>"
            ],
            "image/png": "[encoded data removed]"
          },
          "metadata": {}
        }
      ]
    }
  ]
}