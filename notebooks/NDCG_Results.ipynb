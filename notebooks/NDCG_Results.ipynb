{
 "cells": [
  {
   "cell_type": "code",
   "execution_count": null,
   "metadata": {},
   "outputs": [],
   "source": [
    "import pandas as pd\n",
    "import numpy as np\n",
    "import seaborn as sns\n",
    "import matplotlib.pyplot as plt"
   ]
  },
  {
   "cell_type": "markdown",
   "metadata": {},
   "source": [
    "## NDCG RESULTS COMPARISON"
   ]
  },
  {
   "cell_type": "markdown",
   "metadata": {},
   "source": [
    "### RESULTS WITHOUT TAKING INTO ACCOUNT THE RANK OF THE ORIGINAL DATASET"
   ]
  },
  {
   "cell_type": "code",
   "execution_count": null,
   "metadata": {},
   "outputs": [],
   "source": [
    "ks = ['K5', 'K10', 'K20', 'K30']\n",
    "original_df = [0.47, 0.51, 0.57, 0.61]\n",
    "\n",
    "#XGBRANK\n",
    "xgb_rank_lambdamart = [0.5738, 0.6259, 0.6713, 0.6830]\n",
    "xgb_norank_lambdamart = [0.33, 0.40, 0.48, 0.50]\n",
    "\n",
    "#LGBMRANK\n",
    "lightgbm_rank_ndcg = [0.56, 0.61, 0.66, 0.67]\n",
    "lgbm_norank_lambdamart = [0.31, 0.39, 0.46, 0.49]\n",
    "\n",
    "#ScratchNN\n",
    "scratchnn_rank_andcg = [0.45, 0.51, 0.56, 0.57]\n",
    "scratchnn_norank_andcg = [0.17, 0.24, 0.34, 0.38]\n",
    "\n",
    "#AllRank NN\n",
    "allrank_rank_andcg = [0.59, 0.64, 0.68, 0.69]\n",
    "allrank_norank_andcg = [0.36, 0.43, 0.49, 0.51]"
   ]
  },
  {
   "cell_type": "code",
   "execution_count": null,
   "metadata": {},
   "outputs": [],
   "source": [
    "plt.style.use('fivethirtyeight')\n",
    "plt.figure(figsize=(10,6), facecolor='white')\n",
    "plt.gca().set_facecolor('white')\n",
    "\n",
    "plt.plot(ks, original_df, label='Original DataFrame', alpha=0.7, linestyle='--', marker='o')\n",
    "plt.plot(ks, xgb_norank_lambdamart, label='XGBRanker', alpha=0.7, marker='o')\n",
    "plt.plot(ks, lgbm_norank_lambdamart, label='LGBMRanker', alpha=0.7, marker='o')\n",
    "plt.plot(ks, scratchnn_norank_andcg, label='Scratch Neural Network', alpha=0.7, marker='o')\n",
    "plt.plot(ks, allrank_norank_andcg, label='AllRank Neural Network', alpha=0.7, marker='o')\n",
    "\n",
    "for i, (x, y) in enumerate(zip(ks, original_df)):\n",
    "    plt.text(x, y+0.01, f'{y:.2f}', ha='center', va='bottom')\n",
    "\n",
    "#for i, (x, y) in enumerate(zip(ks, xgb_norank_lambdamart)):\n",
    " #   plt.text(x, y+0.01, f'{y:.2f}', ha='center', va='bottom')\n",
    "\n",
    "for i, (x, y) in enumerate(zip(ks, lgbm_norank_lambdamart)):\n",
    "    plt.text(x, y-0.01, f'{y:.2f}', ha='center', va='top')\n",
    "\n",
    "for i, (x, y) in enumerate(zip(ks, scratchnn_norank_andcg)):\n",
    "    plt.text(x, y-0.01, f'{y:.2f}', ha='center', va='top')\n",
    "\n",
    "for i, (x, y) in enumerate(zip(ks, allrank_norank_andcg)):\n",
    "    plt.text(x, y+0.01, f'{y:.2f}', ha='center', va='bottom')\n",
    "\n",
    "plt.title('')\n",
    "plt.ylabel('NDCG Score')\n",
    "plt.xlabel('Ranking')\n",
    "plt.legend(loc='upper left')\n",
    "plt.ylim(0.1,0.8)\n",
    "plt.show()"
   ]
  },
  {
   "cell_type": "markdown",
   "metadata": {},
   "source": [
    "### RESULTS TAKING INTO ACCOUNT THE RANK OF THE ORIGINAL DATASET"
   ]
  },
  {
   "cell_type": "code",
   "execution_count": null,
   "metadata": {},
   "outputs": [],
   "source": [
    "ks = ['K5', 'K10', 'K20', 'K30']\n",
    "\n",
    "scratch_nn_sdg = [0.45, 0.51, 0.56, 0.57]\n",
    "nn_allrank = [0.59, 0.64, 0.68, 0.69]\n",
    "xgboost_ndcg = [0.57, 0.63, 0.67, 0.68]\n",
    "lightgbm_ndcg = [0.56, 0.61, 0.66, 0.67]\n",
    "\n",
    "original_df = [0.47, 0.51, 0.57, 0.61]\n",
    "\n",
    "plt.style.use('fivethirtyeight')\n",
    "plt.figure(figsize=(10,6), facecolor='white')\n",
    "plt.gca().set_facecolor('white')\n",
    "\n",
    "plt.plot(ks, original_df, label='Original DataFrame', alpha=0.7, linestyle='--', marker='o')\n",
    "plt.plot(ks, xgboost_ndcg, label='XGBRanker', alpha=0.7, marker='o')\n",
    "plt.plot(ks, lightgbm_ndcg, label='LGBMRanker', alpha=0.7, marker='o')\n",
    "plt.plot(ks, scratch_nn_sdg, label='Scratch Neural Network', alpha=0.7, marker='o')\n",
    "plt.plot(ks, nn_allrank, label='AllRank Neural Network', alpha=0.7, marker='o')\n",
    "\n",
    "for i, (x, y) in enumerate(zip(ks, original_df)):\n",
    "    plt.text(x, y+0.01, f'{y:.2f}', ha='center', va='bottom')\n",
    "\n",
    "#for i, (x, y) in enumerate(zip(ks, xgboost_ndcg)):\n",
    " #   plt.text(x, y+0.01, f'{y:.2f}', ha='center', va='bottom')\n",
    "\n",
    "for i, (x, y) in enumerate(zip(ks, lightgbm_ndcg)):\n",
    "    plt.text(x, y-0.01, f'{y:.2f}', ha='center', va='top')\n",
    "\n",
    "for i, (x, y) in enumerate(zip(ks, scratch_nn_sdg)):\n",
    "    plt.text(x, y-0.01, f'{y:.2f}', ha='center', va='top')\n",
    "\n",
    "for i, (x, y) in enumerate(zip(ks, nn_allrank)):\n",
    "    plt.text(x, y+0.01, f'{y:.2f}', ha='center', va='bottom')\n",
    "\n",
    "plt.title('')\n",
    "plt.ylabel('NDCG Score')\n",
    "plt.xlabel('Ranking')\n",
    "plt.legend(loc='upper left')\n",
    "plt.ylim(0.4,0.8)\n",
    "plt.show()"
   ]
  }
 ],
 "metadata": {
  "kernelspec": {
   "display_name": "Expedia",
   "language": "python",
   "name": "expedia"
  },
  "language_info": {
   "name": "python",
   "version": "3.10.14"
  }
 },
 "nbformat": 4,
 "nbformat_minor": 2
}
