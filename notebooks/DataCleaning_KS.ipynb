{
 "cells": [
  {
   "cell_type": "markdown",
   "metadata": {
    "id": "Nnt9MYtp9h9u"
   },
   "source": [
    "# **Mounting google drive**"
   ]
  },
  {
   "cell_type": "code",
   "execution_count": null,
   "metadata": {},
   "outputs": [],
   "source": [
    "# Execute only in case of using Google Colab\n",
    "# from google.colab import drive\n",
    "# drive.mount('/content/drive')"
   ]
  },
  {
   "cell_type": "markdown",
   "metadata": {
    "id": "Tyelk56g9nWf"
   },
   "source": [
    "# **Importing libraries**"
   ]
  },
  {
   "cell_type": "code",
   "execution_count": 3,
   "metadata": {
    "id": "pXvhv3cC2yIw"
   },
   "outputs": [],
   "source": [
    "import pandas as pd\n",
    "import numpy as np\n",
    "import matplotlib.pyplot as plt\n",
    "from tqdm import tqdm\n",
    "import timeit\n",
    "import hashlib\n",
    "import dask.dataframe as dd\n",
    "from dask.diagnostics import ProgressBar\n",
    "import gc\n",
    "import pandas as pd\n",
    "from tqdm import tqdm\n",
    "\n",
    "pd.set_option('display.max_columns', None)"
   ]
  },
  {
   "cell_type": "code",
   "execution_count": 4,
   "metadata": {},
   "outputs": [],
   "source": [
    "df_amenities = pd.read_csv('path/amenities.tsv.gz', compression='gzip', sep='\\t')"
   ]
  },
  {
   "cell_type": "code",
   "execution_count": null,
   "metadata": {
    "colab": {
     "base_uri": "https://localhost:8080/",
     "height": 66,
     "referenced_widgets": [
      "e4265c038ce2471f9f80a6fb360ecb03",
      "736fcbdae8894a349c47100ad3042e4d",
      "8fab6f254343463b9f32b4a8b1f3e4a1",
      "20b02ffe8bb54195b6b40c6c80c9d393",
      "668fa06f837c40efbcd4488bce03cbe0",
      "10139cdbf4154e3fbee11d3fd49e2cfe",
      "fa679dcf77d14c2bacec1885e75f3f54",
      "9325cc11c71c4629b34f7703b55b11f8",
      "2625df58c5d842de84ea9267039bfda2",
      "f4e0523d5cf042d28d295a133cbe8f98",
      "2ec2c345a2db4f3e8d8b3dee7da2e12f"
     ]
    },
    "id": "DhZKZ2CtK9Yz",
    "outputId": "91c4c866-4574-49cc-8b0c-8e3561f1f7e2"
   },
   "outputs": [],
   "source": [
    "# Load dataset with tqdm progress bar\n",
    "with tqdm(total=1, desc=\"Loading dataset\") as pbar:\n",
    "   df2 = pd.read_csv('path/main.tsv.gz', compression='gzip', sep='\\t')\n",
    "   pbar.update(1)\n",
    "\n",
    "print(\"Dataset loaded successfully!\")\n",
    "df=df2.copy()"
   ]
  },
  {
   "cell_type": "markdown",
   "metadata": {
    "id": "Ygm4-atdHCYV"
   },
   "source": [
    "Converting search id and user id from strings to unique ids\n",
    "\n",
    "# Function to convert string to integer ID\n",
    "def convert_to_int_id(string):\n",
    "    # Convert string to bytes and hash it using MD5\n",
    "    hash_object = hashlib.md5(string.encode())\n",
    "    # Convert hexadecimal digest to integer\n",
    "    int_id = int(hash_object.hexdigest(), 16)\n",
    "    return int_id\n",
    "\n",
    "\n",
    "df['search_id'] = pd.factorize(df['search_id'].apply(convert_to_int_id))[0]\n",
    "df['user_id'] = pd.factorize(df['user_id'].apply(convert_to_int_id))[0]\n",
    "\n"
   ]
  },
  {
   "cell_type": "code",
   "execution_count": null,
   "metadata": {
    "colab": {
     "base_uri": "https://localhost:8080/",
     "height": 356
    },
    "id": "IVjk6phq1Izx",
    "outputId": "7bc0fd40-e583-4434-86a5-ed520e53f942"
   },
   "outputs": [],
   "source": [
    "# Function to convert string to integer ID\n",
    "def convert_to_int_id(string):\n",
    "    # Convert string to bytes and hash it using MD5\n",
    "    hash_object = hashlib.md5(string.encode())\n",
    "    # Convert hexadecimal digest to integer\n",
    "    int_id = int(hash_object.hexdigest(), 16)\n",
    "    return int_id\n",
    "\n",
    "\n",
    "df['search_id'] = pd.factorize(df['search_id'].apply(convert_to_int_id))[0]\n",
    "df['user_id'] = pd.factorize(df['user_id'].apply(convert_to_int_id))[0]\n",
    "\n"
   ]
  },
  {
   "cell_type": "markdown",
   "metadata": {
    "id": "30lgGzjHJqEO"
   },
   "source": [
    "# **Introducing new features**\n",
    "\n",
    "- length of stay (checkout_date-checkin_date)\n",
    "- booking window (day of year(checkin)-day of year(serch_timestamp))\n",
    "- search_day_of_week= df['search_timestamp'].dt.dayofweek\n",
    "- search_hour_of_day= df['search_timestamp'].dt.hour"
   ]
  },
  {
   "cell_type": "code",
   "execution_count": null,
   "metadata": {
    "id": "oDr96_e557cE"
   },
   "outputs": [],
   "source": [
    "df['length_of_stay']=(pd.to_datetime(df['checkout_date'])-pd.to_datetime(df['checkin_date'])).dt.days\n",
    "df['booking_window'] = ((pd.to_datetime(df['checkin_date'], utc=True))  - pd.to_datetime(df['search_timestamp'], utc=True)).dt.days\n",
    "df['booking_window'] = df['booking_window'].apply(lambda x: 0 if x < 0 else x) # ensures that all negative values in the 'booking_window' column are set to 0.\n",
    "df.dropna(subset=['booking_window', 'checkin_date', 'checkout_date'], inplace=True)# drop queries where no information on checkin_date and checkout_date\n",
    "df['search_timestamp']=pd.to_datetime(df['search_timestamp'])\n",
    "df['search_day_of_week'], df['search_hour_of_day']=df['search_timestamp'].dt.dayofweek, df['search_timestamp'].dt.hour\n",
    "df['checkin_day']=pd.to_datetime(df['checkin_date']).dt.dayofweek\n",
    "df['checkout_day']=pd.to_datetime(df['checkin_date']).dt.dayofweek\n",
    "\n"
   ]
  },
  {
   "cell_type": "code",
   "execution_count": null,
   "metadata": {},
   "outputs": [],
   "source": [
    "df.drop(columns=['user_id','search_timestamp','applied_filters','room_count','infant_count'],inplace=True)"
   ]
  },
  {
   "cell_type": "markdown",
   "metadata": {
    "id": "fIWG6ddOPdBE"
   },
   "source": [
    "Let's say we have the following data:\n",
    "\n",
    "checkin_date: 2021-06-01\n",
    "checkout_date: 2021-06-05\n",
    "The expression (df['checkin_date'] + pd.to_timedelta(range((df['checkout_date'] - df['checkin_date']).days), 'D')).dt.dayofweek calculates the day of the week for each day of the stay (from check-in to check-out) in the given date range.\n",
    "\n",
    "Here's how it works step by step:\n",
    "\n",
    "Calculate the duration of the stay: (df['checkout_date'] - df['checkin_date']).days, which gives us 4 days (from June 1st to June 5th, inclusive).\n",
    "Generate a range of timedelta objects for each day of the stay: range(4) gives us [0, 1, 2, 3].\n",
    "Add these timedelta objects to the check-in date: df['checkin_date'] + pd.to_timedelta(range(4), 'D') gives us the dates [2021-06-01, 2021-06-02, 2021-06-03, 2021-06-04].\n",
    "Extract the day of the week for each date: .dt.dayofweek gives us [1, 2, 3, 4], where 0 represents Monday, 1 represents Tuesday, and so on.\n",
    "So, the final output would be [1, 2, 3, 4], indicating that the stay covers Tuesday, Wednesday, Thursday, and Friday."
   ]
  },
  {
   "cell_type": "markdown",
   "metadata": {
    "id": "TTngKhoQl8GM"
   },
   "source": [
    "# **Explode of impression columns**"
   ]
  },
  {
   "cell_type": "code",
   "execution_count": null,
   "metadata": {},
   "outputs": [],
   "source": [
    "df=df[df['sort_type']=='RECOMMENDED']"
   ]
  },
  {
   "cell_type": "code",
   "execution_count": null,
   "metadata": {},
   "outputs": [],
   "source": [
    "df.drop(columns=['sort_type'],inplace=True)"
   ]
  },
  {
   "cell_type": "code",
   "execution_count": null,
   "metadata": {},
   "outputs": [],
   "source": [
    "\n",
    "\n",
    "# Assuming 'df' and 'impression_column_names' are defined\n",
    "impression_column_names = ['rank', 'prop_id', 'is_travel_ad', 'review_rating', 'review_count', 'star_rating', 'is_free_cancellation', 'is_drr', 'price_bucket', 'num_clicks', 'is_trans']\n",
    "base_columns = list(df.columns)\n",
    "exploded_column_names = base_columns + impression_column_names\n",
    "\n",
    "# Define the chunk size based on total number of rows divided by 3\n",
    "chunk_size = len(df) // 6\n",
    "\n",
    "# Function to process each chunk\n",
    "def process_data(df_chunk):\n",
    "    exploded_rows = []\n",
    "    for index, row in tqdm(df_chunk.iterrows(), total=len(df_chunk), desc=\"Splitting impressions\", unit=\"row\"):\n",
    "        impressions = row['impressions'].split('|')\n",
    "        for impression in impressions:\n",
    "            impression_data = impression.split(',')\n",
    "            full_row_data = list(row.values) + impression_data\n",
    "            if len(full_row_data) != len(exploded_column_names):\n",
    "                print(f\"Data length mismatch at index {index}: expected {len(exploded_column_names)}, got {len(full_row_data)}\")\n",
    "            else:\n",
    "                exploded_rows.append(full_row_data)\n",
    "    if exploded_rows and len(exploded_rows[0]) == len(exploded_column_names):\n",
    "        return pd.DataFrame(exploded_rows, columns=exploded_column_names)\n",
    "    else:\n",
    "        print(\"Error: Data length mismatch detected, DataFrame not created.\")\n",
    "        return None\n",
    "\n",
    "# Sequentially process each chunk, save, and clean up\n",
    "for i in range(6):\n",
    "    # Select the chunk based on the current iteration\n",
    "    df_chunk = df.iloc[i * chunk_size: (i + 1) * chunk_size].copy()\n",
    "\n",
    "    # Process the chunk\n",
    "    exploded_df = process_data(df_chunk)\n",
    "\n",
    "    # Save the processed chunk if no errors occurred\n",
    "    if exploded_df is not None:\n",
    "        exploded_df.to_parquet(f'../expedia_data/processed/MillionRows_Impression_{i + 1}.parquet', index=False)\n",
    "    \n",
    "    # Clean up processed DataFrame to free up memory\n",
    "    del df_chunk, exploded_df\n",
    "    gc.collect()\n",
    "\n",
    "# Optionally, drop the remaining part of df if it won't be used further\n",
    "del df\n",
    "gc.collect()\n"
   ]
  },
  {
   "cell_type": "code",
   "execution_count": null,
   "metadata": {},
   "outputs": [],
   "source": [
    "import pandas as pd\n",
    "import gc\n",
    "from tqdm import tqdm\n",
    "\n",
    "# Function to load, append, and clean up dataframes, including dropping the 'impressions' column\n",
    "def load_and_append(file_paths):\n",
    "    appended_df = pd.DataFrame()  # Initialize an empty dataframe for appending\n",
    "    for file_path in tqdm(file_paths, desc='Loading and Appending Files'):\n",
    "        # Load the dataframe from a Parquet file\n",
    "        temp_df = pd.read_parquet(file_path)\n",
    "        \n",
    "        # Drop the 'impressions' column if it exists\n",
    "        if 'impressions' in temp_df.columns:\n",
    "            temp_df.drop(columns=['impressions'], inplace=True)\n",
    "        \n",
    "        # Append it to the main dataframe\n",
    "        appended_df = pd.concat([appended_df, temp_df], ignore_index=True)\n",
    "        \n",
    "        # Clear the temporary dataframe from memory\n",
    "        del temp_df\n",
    "        gc.collect()\n",
    "    \n",
    "    return appended_df\n",
    "\n",
    "# Define the paths to the files based on how many chunks and their naming conventions\n",
    "file_paths = [f'../expedia_data/processed/MillionRows_Impression_{i}.parquet' for i in range(1, 7)]\n",
    "\n",
    "# Process the loading and appending with tqdm for the first three files\n",
    "appended_df_1_to_3 = load_and_append(file_paths[:3])\n",
    "# Save the combined dataframe of the first three chunks\n",
    "appended_df_1_to_3.to_parquet('../expedia_data/processed/MillionRows_Impression_Combined_1_to_3.parquet', index=False)\n",
    "del appended_df_1_to_3\n",
    "gc.collect()\n",
    "\n",
    "# Process the loading and appending with tqdm for the last three files\n",
    "appended_df_4_to_6 = load_and_append(file_paths[3:])\n",
    "# Save the combined dataframe of the last three chunks\n",
    "appended_df_4_to_6.to_parquet('../expedia_data/processed/MillionRows_Impression_Combined_4_to_6.parquet', index=False)\n",
    "del appended_df_4_to_6\n",
    "gc.collect()\n"
   ]
  },
  {
   "cell_type": "code",
   "execution_count": null,
   "metadata": {},
   "outputs": [],
   "source": [
    "gc.collect()\n",
    "\n",
    "AllRowsImpression_df = pd.read_parquet('../expedia_data/processed/AllRows/Impression_Combined_1_to_3.parquet')\n",
    "df4_to_6 = pd.read_parquet('../expedia_data/processed/AllRows/Impression_Combined_4_to_6.parquet')\n",
    "\n",
    "AllRowsImpression_df = pd.concat([AllRowsImpression_df, df4_to_6], ignore_index=True)\n",
    "\n",
    "AllRowsImpression_df.to_parquet('path/processed/AllRows/AllRowsImpression.parquet', index=False)\n",
    "\n",
    "del df4_to_6, AllRowsImpression_df\n",
    "gc.collect()"
   ]
  },
  {
   "cell_type": "code",
   "execution_count": 5,
   "metadata": {
    "colab": {
     "base_uri": "https://localhost:8080/",
     "height": 141
    },
    "id": "FwLT5F4s37pW",
    "outputId": "9600cb2c-ae2e-46b0-b145-74ae3cb73bcc"
   },
   "outputs": [],
   "source": [
    "df1=pd.read_parquet('path/processed/AllRows/AllRowsImpression.parquet')"
   ]
  },
  {
   "cell_type": "code",
   "execution_count": 6,
   "metadata": {},
   "outputs": [
    {
     "data": {
      "text/plain": [
       "(172009471, 26)"
      ]
     },
     "execution_count": 6,
     "metadata": {},
     "output_type": "execute_result"
    }
   ],
   "source": [
    "df1.shape"
   ]
  },
  {
   "cell_type": "code",
   "execution_count": 7,
   "metadata": {
    "id": "PQL_LxZ7or6C"
   },
   "outputs": [
    {
     "name": "stderr",
     "output_type": "stream",
     "text": [
      "Converting columns: 100%|███████████████████████████████████████████████████████████████| 10/10 [04:02<00:00, 24.24s/it]\n"
     ]
    }
   ],
   "source": [
    "df_searchid_grouped = df1.groupby('search_id', as_index=False).agg({'num_clicks':'sum', 'is_trans':'sum'})\n",
    "\n",
    "searchid_tokeep = df_searchid_grouped[df_searchid_grouped['num_clicks'] != 0]['search_id'].tolist()  #filters out rows in df_m where the sum of 'num_clicks' isn't zero, then extracts the corresponding 'search_id' values into a list.\n",
    "df1 = df1[df1['search_id'].isin(searchid_tokeep)]\n",
    "\n",
    "# Grouping the DataFrame by 'search_id' and filtering out groups with only one row\n",
    "df1 = df1.groupby('search_id').filter(lambda x: len(x) > 1)\n",
    "\n",
    "columns_converted = ['rank', 'is_travel_ad', 'review_rating', 'review_count', 'star_rating',\n",
    "                     'is_free_cancellation', 'is_drr', 'price_bucket', 'num_clicks', 'is_trans']\n",
    "\n",
    "# Use tqdm to track progress across columns\n",
    "for column in tqdm(columns_converted, desc=\"Converting columns\"):\n",
    "    df1[column] = pd.to_numeric(df1[column], errors='coerce')\n",
    "\n",
    "searchid_withtrans_nobooking = df1[((df1['is_trans'] > 0) & (df1['num_clicks'] == 0))]['search_id'].tolist()\n",
    "# Filter 'df1' to remove rows with 'search_id's in 'searchid_withtrans_nobooking'\n",
    "df1 = df1[~df1['search_id'].isin(searchid_withtrans_nobooking)]\n"
   ]
  },
  {
   "cell_type": "code",
   "execution_count": null,
   "metadata": {},
   "outputs": [],
   "source": [
    "# Assuming df1 is your DataFrame\n",
    "df_m3 = df1[df1['is_travel_ad'] == 0].copy()\n",
    "\n",
    "df_m3['rank_noad'] = df_m3.groupby('search_id').cumcount() + 1\n",
    "\n",
    "# Create a dictionary to map search_id to rank_noad\n",
    "rank_noad_map = df_m3.set_index('search_id')['rank_noad'].to_dict()\n",
    "\n",
    "# Initialize rank_noad column with 0\n",
    "df1['rank_noad'] = 0\n",
    "\n",
    "# Update rank_noad column using the map\n",
    "for search_id, rank_noad in tqdm(rank_noad_map.items(), total=len(rank_noad_map)):\n",
    "    df1.loc[df1['search_id'] == search_id, 'rank_noad'] = rank_noad"
   ]
  },
  {
   "cell_type": "code",
   "execution_count": null,
   "metadata": {},
   "outputs": [],
   "source": [
    "df1.columns"
   ]
  },
  {
   "cell_type": "code",
   "execution_count": null,
   "metadata": {},
   "outputs": [],
   "source": [
    "df_amenities['prop_id'] = df_amenities['prop_id'].astype(int)\n",
    "df1['prop_id'] = df1['prop_id'].astype(int)\n",
    "\n",
    "df_merged = df1.merge(df_amenities, on='prop_id', how='left')\n",
    "\n",
    "for col in df_amenities.columns:\n",
    "    if col in df_merged.columns:\n",
    "        df_merged[col] = df_merged[col]\n",
    "\n",
    "\n",
    "# Clip values of 'star_rating' column to a range of 0 to 5\n",
    "df_merged['star_rating'] = df_merged['star_rating'].clip(upper=5)\n",
    "# Convert 'review_count' to numeric type\n",
    "df_merged['review_count'] = pd.to_numeric(df_merged['review_count'], errors='coerce')\n",
    "\n",
    "# Drop rows where 'review_count' is NA\n",
    "df_merged.dropna(subset=['review_count'], inplace=True)\n",
    "\n",
    "# Fill NA values based on conditions\n",
    "df_merged.loc[df_merged['review_count'] == 0, 'star_rating'] = df_merged.loc[df_merged['review_count'] == 0, 'star_rating'].fillna('Not Available')\n",
    "df_merged.loc[(df_merged['review_count'] > 0) & (df_merged['star_rating'].isna()), 'star_rating'] = 0\n",
    "\n",
    "# Fill NA values based on conditions\n",
    "df_merged.loc[df_merged['review_count'] == 0, 'review_rating'] = df_merged.loc[df_merged['review_count'] == 0, 'review_rating'].fillna('Not Available')\n",
    "df_merged.loc[(df_merged['review_count'] > 0) & (df_merged['review_rating'].isna()), 'review_rating'] = 0\n",
    "\n",
    "df_merged.dropna(subset=['price_bucket'], inplace=True)\n",
    "\n",
    "df_searchid_grouped = df_merged.groupby('search_id', as_index=False).agg({'num_clicks':'sum', 'is_trans':'sum'})\n",
    "\n",
    "searchid_tokeep = df_searchid_grouped[df_searchid_grouped['num_clicks'] != 0]['search_id'].tolist()  #filters out rows in df_m where the sum of 'num_clicks' isn't zero, then extracts the corresponding 'search_id' values into a list.\n",
    "df_merged = df_merged[df_merged['search_id'].isin(searchid_tokeep)]\n",
    "\n",
    "# Group by search_id and aggregate the sum of num_clicks and count of rows per search_id\n",
    "df_searchid_grouped = df_merged.groupby('search_id', as_index=False).agg({'num_clicks':'sum', 'is_trans':'count'})\n",
    "\n",
    "# Filter search_ids with 0 clicks or just one value\n",
    "searchids_to_keep = df_searchid_grouped[(df_searchid_grouped['num_clicks'] != 0) & (df_searchid_grouped['is_trans'] > 1)]['search_id'].tolist()\n",
    "\n",
    "# Filter df_merged based on search_ids to keep\n",
    "df_filtered = df_merged[df_merged['search_id'].isin(searchids_to_keep)]\n",
    "\n",
    "grouped_df = df_amenities.groupby('prop_id').sum()\n",
    "\n",
    "# Calculate the number_of_amenities column as the sum of all other columns\n",
    "grouped_df['number_of_amenities'] = grouped_df.sum(axis=1)\n",
    "\n",
    "df_filtered = pd.merge(df_filtered, grouped_df[['number_of_amenities']], left_on='prop_id', right_index=True, how='left')\n",
    "\n",
    "#df_filtered['number_of_amenities'].fillna(0, inplace=True)\n",
    "\n",
    "df_filtered['number_of_amenities'] = df_filtered['number_of_amenities'].fillna(0)"
   ]
  },
  {
   "cell_type": "code",
   "execution_count": null,
   "metadata": {
    "id": "5InOlBp1s3OA"
   },
   "outputs": [],
   "source": [
    "# Convert all columns except 'prop_id' to boolean dtype\n",
    "df_amenities.iloc[:, 1:] = df_amenities.iloc[:, 1:].astype(bool)\n",
    "\n",
    "# Replace True/False values with 'True'/'False'\n",
    "# df_amenities.iloc[:, 1:] = df_amenities.iloc[:, 1:].replace({True: 'True', False: 'False'})"
   ]
  },
  {
   "cell_type": "code",
   "execution_count": null,
   "metadata": {
    "colab": {
     "base_uri": "https://localhost:8080/"
    },
    "id": "mDltaneWe2nU",
    "outputId": "c09f6c91-e767-45fc-b3a7-c0594a296ef2"
   },
   "outputs": [],
   "source": [
    "amenities_columns=dict(df_amenities.dtypes)\n",
    "amenities_columns"
   ]
  },
  {
   "cell_type": "code",
   "execution_count": null,
   "metadata": {
    "colab": {
     "base_uri": "https://localhost:8080/"
    },
    "id": "IxrJzlAgs-L_",
    "outputId": "08c863d0-5c91-407c-ddb2-78ed13b5da6b"
   },
   "outputs": [],
   "source": [
    "df_amenities.info()"
   ]
  },
  {
   "cell_type": "code",
   "execution_count": null,
   "metadata": {
    "id": "9dwNl8pWxIYS"
   },
   "outputs": [],
   "source": [
    "exploded_df_merged = df1.drop(columns=['search_timestamp'], axis=1).merge(df_amenities, on='prop_id', how='left')\n"
   ]
  },
  {
   "cell_type": "code",
   "execution_count": null,
   "metadata": {
    "colab": {
     "base_uri": "https://localhost:8080/"
    },
    "id": "ulckVWBUxV44",
    "outputId": "49ef5ff7-0632-4177-81a7-3b807685e84e"
   },
   "outputs": [],
   "source": [
    "exploded_df_merged.shape"
   ]
  },
  {
   "cell_type": "code",
   "execution_count": null,
   "metadata": {
    "colab": {
     "base_uri": "https://localhost:8080/"
    },
    "id": "lCKaPqDexYsC",
    "outputId": "dfe00fe3-355c-4acc-8ea8-cce2a694b060"
   },
   "outputs": [],
   "source": [
    "exploded_df_merged.isna().sum()"
   ]
  },
  {
   "cell_type": "code",
   "execution_count": null,
   "metadata": {
    "id": "H_Yrxz_l55h9"
   },
   "outputs": [],
   "source": [
    "for col in df_amenities.columns:\n",
    "    if col in exploded_df_merged.columns:\n",
    "        exploded_df_merged[col].fillna(0, inplace=True)\n"
   ]
  },
  {
   "cell_type": "code",
   "execution_count": null,
   "metadata": {},
   "outputs": [],
   "source": [
    "exploded_df_merged.to_csv('../expedia_data/processed/merged_hundredk_rows_Impression.csv', index=False)"
   ]
  },
  {
   "cell_type": "code",
   "execution_count": null,
   "metadata": {},
   "outputs": [],
   "source": [
    "gc.collect()"
   ]
  },
  {
   "cell_type": "code",
   "execution_count": null,
   "metadata": {
    "colab": {
     "base_uri": "https://localhost:8080/"
    },
    "id": "hAnQenUa94UU",
    "outputId": "e6df5571-181f-47e3-d87b-16a05674971d"
   },
   "outputs": [],
   "source": [
    "exploded_df_merged.shape"
   ]
  },
  {
   "cell_type": "code",
   "execution_count": null,
   "metadata": {
    "id": "c04XOxIezw-r"
   },
   "outputs": [],
   "source": [
    "df2=exploded_df_merged.copy()"
   ]
  },
  {
   "cell_type": "code",
   "execution_count": null,
   "metadata": {},
   "outputs": [],
   "source": [
    "exploded_df_merged.shape"
   ]
  },
  {
   "cell_type": "code",
   "execution_count": null,
   "metadata": {
    "colab": {
     "base_uri": "https://localhost:8080/"
    },
    "id": "Cw2y76cUzlj8",
    "outputId": "4fb2d2a5-5a98-4708-bfe3-f3010c3ead3a"
   },
   "outputs": [],
   "source": [
    "# Clip values of 'star_rating' column to a range of 0 to 5\n",
    "df2['star_rating'] = df2['star_rating'].clip(upper=5)\n",
    "# Convert 'review_count' to numeric type\n",
    "df2['review_count'] = pd.to_numeric(df2['review_count'], errors='coerce')\n",
    "\n",
    "# Drop rows where 'review_count' is NA\n",
    "df2.dropna(subset=['review_count'], inplace=True)\n",
    "\n",
    "# Fill NA values based on conditions\n",
    "df2.loc[df2['review_count'] == 0, 'star_rating'] = df2.loc[df2['review_count'] == 0, 'star_rating'].fillna('Not Available')\n",
    "df2.loc[(df2['review_count'] > 0) & (df2['star_rating'].isna()), 'star_rating'] = 0\n",
    "\n",
    "print(exploded_df_merged[['star_rating']].value_counts(dropna=False))\n",
    "print(df2[['star_rating']].value_counts(dropna=False))"
   ]
  },
  {
   "cell_type": "code",
   "execution_count": null,
   "metadata": {
    "colab": {
     "base_uri": "https://localhost:8080/"
    },
    "id": "a513qRgw9qR2",
    "outputId": "1932ca60-43cf-49d7-a0e4-3e84194e9da8"
   },
   "outputs": [],
   "source": [
    "df2.shape"
   ]
  },
  {
   "cell_type": "code",
   "execution_count": null,
   "metadata": {
    "id": "3VjKZqHlztU2"
   },
   "outputs": [],
   "source": [
    "df3=df2.copy()\n"
   ]
  },
  {
   "cell_type": "code",
   "execution_count": null,
   "metadata": {
    "colab": {
     "base_uri": "https://localhost:8080/"
    },
    "id": "DSSk_aiBqd0W",
    "outputId": "3767eab0-75d6-4e4d-e750-bd8fc54bbe0c"
   },
   "outputs": [],
   "source": [
    "df_amenities.info()"
   ]
  },
  {
   "cell_type": "code",
   "execution_count": null,
   "metadata": {},
   "outputs": [],
   "source": [
    "df_amenities"
   ]
  },
  {
   "cell_type": "code",
   "execution_count": null,
   "metadata": {
    "colab": {
     "base_uri": "https://localhost:8080/"
    },
    "id": "nLcK68urztU2",
    "outputId": "4d731647-be5a-497d-842c-a8f2451b4596"
   },
   "outputs": [],
   "source": [
    "# Fill NA values based on conditions\n",
    "df3.loc[df3['review_count'] == 0, 'review_rating'] = df3.loc[df3['review_count'] == 0, 'review_rating'].fillna('Not Available')\n",
    "df3.loc[(df3['review_count'] > 0) & (df3['review_rating'].isna()), 'review_rating'] = 0\n",
    "print(exploded_df_merged[['review_rating']].value_counts(dropna=False))\n",
    "print(df3[['review_rating']].value_counts(dropna=False))"
   ]
  },
  {
   "cell_type": "code",
   "execution_count": null,
   "metadata": {
    "id": "cim6rxAHztU3"
   },
   "outputs": [],
   "source": [
    "df4=df3.copy()"
   ]
  },
  {
   "cell_type": "code",
   "execution_count": null,
   "metadata": {
    "id": "c1CSLeuPztU3"
   },
   "outputs": [],
   "source": [
    "'''\n",
    "df3.loc[df3['review_count'] == 0, 'price_bucket'] = df3.loc[df3['review_count'] == 0, 'price_bucket'].fillna('Not Available')\n",
    "df3.loc[(df3['review_count'] > 0) & (df3['price_bucket'].isna()), 'price_bucket'] = 0\n",
    "print(exploded_df_top50dest_searched[['price_bucket']].value_counts(dropna=False))\n",
    "print(df3[['price_bucket']].value_counts(dropna=False))\n",
    "'''\n",
    "df4.dropna(subset=['price_bucket'], inplace=True)\n"
   ]
  },
  {
   "cell_type": "code",
   "execution_count": null,
   "metadata": {
    "colab": {
     "base_uri": "https://localhost:8080/"
    },
    "id": "FkHdkLYv7TRe",
    "outputId": "6664c26a-950e-49b7-b559-8cff7de61306"
   },
   "outputs": [],
   "source": [
    "df4.shape"
   ]
  },
  {
   "cell_type": "code",
   "execution_count": null,
   "metadata": {
    "id": "9W965ebmNhni"
   },
   "outputs": [],
   "source": [
    "df5=df4.copy()"
   ]
  },
  {
   "cell_type": "code",
   "execution_count": null,
   "metadata": {
    "id": "IwhYgGcUO7hM"
   },
   "outputs": [],
   "source": [
    "df_searchid_grouped = df5.groupby('search_id', as_index=False).agg({'num_clicks':'sum', 'is_trans':'sum'})\n",
    "\n",
    "searchid_tokeep = df_searchid_grouped[df_searchid_grouped['num_clicks'] != 0]['search_id'].tolist()  #filters out rows in df_m where the sum of 'num_clicks' isn't zero, then extracts the corresponding 'search_id' values into a list.\n",
    "df5 = df5[df5['search_id'].isin(searchid_tokeep)]\n",
    "\n",
    "condition = df5['rank'].astype(int) > 30\n",
    "df5 = df5[~condition]"
   ]
  },
  {
   "cell_type": "code",
   "execution_count": null,
   "metadata": {
    "colab": {
     "base_uri": "https://localhost:8080/"
    },
    "id": "JBp5oTsT7ig6",
    "outputId": "0afa8efe-3d39-4b20-825b-940b230ae99c"
   },
   "outputs": [],
   "source": [
    "# Group by search_id and aggregate the sum of num_clicks and count of rows per search_id\n",
    "df_searchid_grouped = df5.groupby('search_id', as_index=False).agg({'num_clicks':'sum', 'is_trans':'count'})\n",
    "\n",
    "# Filter search_ids with 0 clicks or just one value\n",
    "searchids_to_keep = df_searchid_grouped[(df_searchid_grouped['num_clicks'] != 0) & (df_searchid_grouped['is_trans'] > 1)]['search_id'].tolist()\n",
    "\n",
    "# Filter df5 based on search_ids to keep\n",
    "df5_filtered = df5[df5['search_id'].isin(searchids_to_keep)]\n",
    "\n",
    "# Print shape of df5\n",
    "print(\"Shape of df5:\", df5.shape)\n",
    "\n",
    "# Print shape of df5_filtered\n",
    "print(\"Shape of df5_filtered:\", df5_filtered.shape)"
   ]
  },
  {
   "cell_type": "code",
   "execution_count": null,
   "metadata": {
    "colab": {
     "base_uri": "https://localhost:8080/"
    },
    "id": "rk7X2mQNMoq7",
    "outputId": "0e8c3f19-2df7-44ed-8dc0-2113bc30c5f2"
   },
   "outputs": [],
   "source": [
    "# Group by destination_id and aggregate using count for 'is_trans' and 'search_id'\n",
    "destination_stats = df5_filtered.groupby('destination_id').agg({'is_trans': 'sum', 'search_id': 'count'})\n",
    "\n",
    "# Rename the columns for clarity\n",
    "destination_stats.rename(columns={'is_trans': 'number_of_bookings', 'search_id': 'number_of_searches'}, inplace=True)\n",
    "\n",
    "print(destination_stats[:500])"
   ]
  },
  {
   "cell_type": "code",
   "execution_count": null,
   "metadata": {
    "id": "yXQ3uWUuNCIu"
   },
   "outputs": [],
   "source": [
    "destination_stats.sort_values(by='number_of_searches', ascending=False)\n",
    "top_500_destinations_searched = destination_stats.nlargest(500, 'number_of_searches').index\n",
    "top_500_destinations_booked = destination_stats.nlargest(500, 'number_of_bookings').index"
   ]
  },
  {
   "cell_type": "code",
   "execution_count": null,
   "metadata": {
    "colab": {
     "base_uri": "https://localhost:8080/"
    },
    "id": "zoRTz7YXIE7X",
    "outputId": "89700ef9-ed09-4dc0-9ead-b5000c9ee662"
   },
   "outputs": [],
   "source": [
    "exploded_df_top500dest_searched=df5_filtered[df5_filtered['destination_id'].isin(top_500_destinations_searched)]\n",
    "\n",
    "searchings_per_destination = exploded_df_top500dest_searched.groupby('destination_id').size().reset_index(name='number_of_searches')\n",
    "searchings_per_destination = searchings_per_destination.set_index('destination_id').sort_values(by='number_of_searches', ascending=False)\n",
    "print(searchings_per_destination)\n",
    "\n"
   ]
  },
  {
   "cell_type": "code",
   "execution_count": null,
   "metadata": {
    "colab": {
     "base_uri": "https://localhost:8080/"
    },
    "id": "6AxC0k77wVhs",
    "outputId": "ffa9d9e1-10cc-40df-8f0d-d328fedb65f9"
   },
   "outputs": [],
   "source": [
    "exploded_df_top500dest_searched.shape"
   ]
  },
  {
   "cell_type": "code",
   "execution_count": null,
   "metadata": {},
   "outputs": [],
   "source": [
    "exploded_df_top500dest_searched.to_csv('../expedia_data/processed/exploded_df_100Krows_Top500Destinations.csv', index=False)"
   ]
  },
  {
   "cell_type": "code",
   "execution_count": null,
   "metadata": {},
   "outputs": [],
   "source": [
    "exploded_df_top500dest_searched"
   ]
  },
  {
   "cell_type": "code",
   "execution_count": null,
   "metadata": {},
   "outputs": [],
   "source": [
    "gc.collect()"
   ]
  },
  {
   "cell_type": "code",
   "execution_count": null,
   "metadata": {
    "colab": {
     "base_uri": "https://localhost:8080/"
    },
    "id": "yC1cC4j4FzPP",
    "outputId": "3c2ada11-d39e-4e8f-905f-f82ceb62f1cf"
   },
   "outputs": [],
   "source": [
    "df6.shape"
   ]
  },
  {
   "cell_type": "code",
   "execution_count": null,
   "metadata": {
    "id": "R-2W48jTEwCQ"
   },
   "outputs": [],
   "source": [
    "grouped_df = df_amenities.groupby('prop_id').sum()\n",
    "\n",
    "# Calculate the number_of_amenities column as the sum of all other columns\n",
    "grouped_df['number_of_amenities'] = grouped_df.sum(axis=1)\n",
    "\n",
    "df7 = pd.merge(df6, grouped_df[['number_of_amenities']], left_on='prop_id', right_index=True, how='left')"
   ]
  },
  {
   "cell_type": "code",
   "execution_count": null,
   "metadata": {},
   "outputs": [],
   "source": [
    "df7"
   ]
  },
  {
   "cell_type": "code",
   "execution_count": null,
   "metadata": {
    "id": "nj2JOVhVR53-"
   },
   "outputs": [],
   "source": [
    "# Replace missing values in 'number_of_amenities' with 0\n",
    "df7['number_of_amenities'].fillna(0, inplace=True)\n"
   ]
  }
 ],
 "metadata": {
  "accelerator": "GPU",
  "colab": {
   "gpuType": "T4",
   "machine_shape": "hm",
   "provenance": []
  },
  "kernelspec": {
   "display_name": "Python 3 (ipykernel)",
   "language": "python",
   "name": "python3"
  },
  "language_info": {
   "codemirror_mode": {
    "name": "ipython",
    "version": 3
   },
   "file_extension": ".py",
   "mimetype": "text/x-python",
   "name": "python",
   "nbconvert_exporter": "python",
   "pygments_lexer": "ipython3",
   "version": "3.10.14"
  },
  "widgets": {
   "application/vnd.jupyter.widget-state+json": {
    "04f49eea3eb544a180f73fd8ae6a7d16": {
     "model_module": "@jupyter-widgets/controls",
     "model_module_version": "1.5.0",
     "model_name": "HTMLModel",
     "state": {
      "_dom_classes": [],
      "_model_module": "@jupyter-widgets/controls",
      "_model_module_version": "1.5.0",
      "_model_name": "HTMLModel",
      "_view_count": null,
      "_view_module": "@jupyter-widgets/controls",
      "_view_module_version": "1.5.0",
      "_view_name": "HTMLView",
      "description": "",
      "description_tooltip": null,
      "layout": "IPY_MODEL_42ace39d6f8044eb853b132f661aa1b1",
      "placeholder": "​",
      "style": "IPY_MODEL_219be4e0390c400b9fcb728a8a1a2ae2",
      "value": " 51/51 [00:00&lt;00:00, 100.36it/s]"
     }
    },
    "10139cdbf4154e3fbee11d3fd49e2cfe": {
     "model_module": "@jupyter-widgets/base",
     "model_module_version": "1.2.0",
     "model_name": "LayoutModel",
     "state": {
      "_model_module": "@jupyter-widgets/base",
      "_model_module_version": "1.2.0",
      "_model_name": "LayoutModel",
      "_view_count": null,
      "_view_module": "@jupyter-widgets/base",
      "_view_module_version": "1.2.0",
      "_view_name": "LayoutView",
      "align_content": null,
      "align_items": null,
      "align_self": null,
      "border": null,
      "bottom": null,
      "display": null,
      "flex": null,
      "flex_flow": null,
      "grid_area": null,
      "grid_auto_columns": null,
      "grid_auto_flow": null,
      "grid_auto_rows": null,
      "grid_column": null,
      "grid_gap": null,
      "grid_row": null,
      "grid_template_areas": null,
      "grid_template_columns": null,
      "grid_template_rows": null,
      "height": null,
      "justify_content": null,
      "justify_items": null,
      "left": null,
      "margin": null,
      "max_height": null,
      "max_width": null,
      "min_height": null,
      "min_width": null,
      "object_fit": null,
      "object_position": null,
      "order": null,
      "overflow": null,
      "overflow_x": null,
      "overflow_y": null,
      "padding": null,
      "right": null,
      "top": null,
      "visibility": null,
      "width": null
     }
    },
    "18210c6605cf46d4854f74ab960bf6c1": {
     "model_module": "@jupyter-widgets/controls",
     "model_module_version": "1.5.0",
     "model_name": "ProgressStyleModel",
     "state": {
      "_model_module": "@jupyter-widgets/controls",
      "_model_module_version": "1.5.0",
      "_model_name": "ProgressStyleModel",
      "_view_count": null,
      "_view_module": "@jupyter-widgets/base",
      "_view_module_version": "1.2.0",
      "_view_name": "StyleView",
      "bar_color": null,
      "description_width": ""
     }
    },
    "20b02ffe8bb54195b6b40c6c80c9d393": {
     "model_module": "@jupyter-widgets/controls",
     "model_module_version": "1.5.0",
     "model_name": "HTMLModel",
     "state": {
      "_dom_classes": [],
      "_model_module": "@jupyter-widgets/controls",
      "_model_module_version": "1.5.0",
      "_model_name": "HTMLModel",
      "_view_count": null,
      "_view_module": "@jupyter-widgets/controls",
      "_view_module_version": "1.5.0",
      "_view_name": "HTMLView",
      "description": "",
      "description_tooltip": null,
      "layout": "IPY_MODEL_f4e0523d5cf042d28d295a133cbe8f98",
      "placeholder": "​",
      "style": "IPY_MODEL_2ec2c345a2db4f3e8d8b3dee7da2e12f",
      "value": " 1/1 [00:04&lt;00:00,  4.28s/it]"
     }
    },
    "219be4e0390c400b9fcb728a8a1a2ae2": {
     "model_module": "@jupyter-widgets/controls",
     "model_module_version": "1.5.0",
     "model_name": "DescriptionStyleModel",
     "state": {
      "_model_module": "@jupyter-widgets/controls",
      "_model_module_version": "1.5.0",
      "_model_name": "DescriptionStyleModel",
      "_view_count": null,
      "_view_module": "@jupyter-widgets/base",
      "_view_module_version": "1.2.0",
      "_view_name": "StyleView",
      "description_width": ""
     }
    },
    "22566dd5d3f9490d8bf77f3ae22bb861": {
     "model_module": "@jupyter-widgets/base",
     "model_module_version": "1.2.0",
     "model_name": "LayoutModel",
     "state": {
      "_model_module": "@jupyter-widgets/base",
      "_model_module_version": "1.2.0",
      "_model_name": "LayoutModel",
      "_view_count": null,
      "_view_module": "@jupyter-widgets/base",
      "_view_module_version": "1.2.0",
      "_view_name": "LayoutView",
      "align_content": null,
      "align_items": null,
      "align_self": null,
      "border": null,
      "bottom": null,
      "display": null,
      "flex": null,
      "flex_flow": null,
      "grid_area": null,
      "grid_auto_columns": null,
      "grid_auto_flow": null,
      "grid_auto_rows": null,
      "grid_column": null,
      "grid_gap": null,
      "grid_row": null,
      "grid_template_areas": null,
      "grid_template_columns": null,
      "grid_template_rows": null,
      "height": null,
      "justify_content": null,
      "justify_items": null,
      "left": null,
      "margin": null,
      "max_height": null,
      "max_width": null,
      "min_height": null,
      "min_width": null,
      "object_fit": null,
      "object_position": null,
      "order": null,
      "overflow": null,
      "overflow_x": null,
      "overflow_y": null,
      "padding": null,
      "right": null,
      "top": null,
      "visibility": null,
      "width": null
     }
    },
    "2405c50ce6834074a520d73dac385e61": {
     "model_module": "@jupyter-widgets/base",
     "model_module_version": "1.2.0",
     "model_name": "LayoutModel",
     "state": {
      "_model_module": "@jupyter-widgets/base",
      "_model_module_version": "1.2.0",
      "_model_name": "LayoutModel",
      "_view_count": null,
      "_view_module": "@jupyter-widgets/base",
      "_view_module_version": "1.2.0",
      "_view_name": "LayoutView",
      "align_content": null,
      "align_items": null,
      "align_self": null,
      "border": null,
      "bottom": null,
      "display": null,
      "flex": null,
      "flex_flow": null,
      "grid_area": null,
      "grid_auto_columns": null,
      "grid_auto_flow": null,
      "grid_auto_rows": null,
      "grid_column": null,
      "grid_gap": null,
      "grid_row": null,
      "grid_template_areas": null,
      "grid_template_columns": null,
      "grid_template_rows": null,
      "height": null,
      "justify_content": null,
      "justify_items": null,
      "left": null,
      "margin": null,
      "max_height": null,
      "max_width": null,
      "min_height": null,
      "min_width": null,
      "object_fit": null,
      "object_position": null,
      "order": null,
      "overflow": null,
      "overflow_x": null,
      "overflow_y": null,
      "padding": null,
      "right": null,
      "top": null,
      "visibility": null,
      "width": null
     }
    },
    "2625df58c5d842de84ea9267039bfda2": {
     "model_module": "@jupyter-widgets/controls",
     "model_module_version": "1.5.0",
     "model_name": "ProgressStyleModel",
     "state": {
      "_model_module": "@jupyter-widgets/controls",
      "_model_module_version": "1.5.0",
      "_model_name": "ProgressStyleModel",
      "_view_count": null,
      "_view_module": "@jupyter-widgets/base",
      "_view_module_version": "1.2.0",
      "_view_name": "StyleView",
      "bar_color": null,
      "description_width": ""
     }
    },
    "28d87495291c40839d2673aa0bea8a0b": {
     "model_module": "@jupyter-widgets/base",
     "model_module_version": "1.2.0",
     "model_name": "LayoutModel",
     "state": {
      "_model_module": "@jupyter-widgets/base",
      "_model_module_version": "1.2.0",
      "_model_name": "LayoutModel",
      "_view_count": null,
      "_view_module": "@jupyter-widgets/base",
      "_view_module_version": "1.2.0",
      "_view_name": "LayoutView",
      "align_content": null,
      "align_items": null,
      "align_self": null,
      "border": null,
      "bottom": null,
      "display": null,
      "flex": null,
      "flex_flow": null,
      "grid_area": null,
      "grid_auto_columns": null,
      "grid_auto_flow": null,
      "grid_auto_rows": null,
      "grid_column": null,
      "grid_gap": null,
      "grid_row": null,
      "grid_template_areas": null,
      "grid_template_columns": null,
      "grid_template_rows": null,
      "height": null,
      "justify_content": null,
      "justify_items": null,
      "left": null,
      "margin": null,
      "max_height": null,
      "max_width": null,
      "min_height": null,
      "min_width": null,
      "object_fit": null,
      "object_position": null,
      "order": null,
      "overflow": null,
      "overflow_x": null,
      "overflow_y": null,
      "padding": null,
      "right": null,
      "top": null,
      "visibility": null,
      "width": null
     }
    },
    "2ec2c345a2db4f3e8d8b3dee7da2e12f": {
     "model_module": "@jupyter-widgets/controls",
     "model_module_version": "1.5.0",
     "model_name": "DescriptionStyleModel",
     "state": {
      "_model_module": "@jupyter-widgets/controls",
      "_model_module_version": "1.5.0",
      "_model_name": "DescriptionStyleModel",
      "_view_count": null,
      "_view_module": "@jupyter-widgets/base",
      "_view_module_version": "1.2.0",
      "_view_name": "StyleView",
      "description_width": ""
     }
    },
    "2fc5840a51fa4f038aa4cb84e183c47c": {
     "model_module": "@jupyter-widgets/base",
     "model_module_version": "1.2.0",
     "model_name": "LayoutModel",
     "state": {
      "_model_module": "@jupyter-widgets/base",
      "_model_module_version": "1.2.0",
      "_model_name": "LayoutModel",
      "_view_count": null,
      "_view_module": "@jupyter-widgets/base",
      "_view_module_version": "1.2.0",
      "_view_name": "LayoutView",
      "align_content": null,
      "align_items": null,
      "align_self": null,
      "border": null,
      "bottom": null,
      "display": null,
      "flex": null,
      "flex_flow": null,
      "grid_area": null,
      "grid_auto_columns": null,
      "grid_auto_flow": null,
      "grid_auto_rows": null,
      "grid_column": null,
      "grid_gap": null,
      "grid_row": null,
      "grid_template_areas": null,
      "grid_template_columns": null,
      "grid_template_rows": null,
      "height": null,
      "justify_content": null,
      "justify_items": null,
      "left": null,
      "margin": null,
      "max_height": null,
      "max_width": null,
      "min_height": null,
      "min_width": null,
      "object_fit": null,
      "object_position": null,
      "order": null,
      "overflow": null,
      "overflow_x": null,
      "overflow_y": null,
      "padding": null,
      "right": null,
      "top": null,
      "visibility": null,
      "width": null
     }
    },
    "317de16e90214e97a695f5bbce40573d": {
     "model_module": "@jupyter-widgets/base",
     "model_module_version": "1.2.0",
     "model_name": "LayoutModel",
     "state": {
      "_model_module": "@jupyter-widgets/base",
      "_model_module_version": "1.2.0",
      "_model_name": "LayoutModel",
      "_view_count": null,
      "_view_module": "@jupyter-widgets/base",
      "_view_module_version": "1.2.0",
      "_view_name": "LayoutView",
      "align_content": null,
      "align_items": null,
      "align_self": null,
      "border": null,
      "bottom": null,
      "display": null,
      "flex": null,
      "flex_flow": null,
      "grid_area": null,
      "grid_auto_columns": null,
      "grid_auto_flow": null,
      "grid_auto_rows": null,
      "grid_column": null,
      "grid_gap": null,
      "grid_row": null,
      "grid_template_areas": null,
      "grid_template_columns": null,
      "grid_template_rows": null,
      "height": null,
      "justify_content": null,
      "justify_items": null,
      "left": null,
      "margin": null,
      "max_height": null,
      "max_width": null,
      "min_height": null,
      "min_width": null,
      "object_fit": null,
      "object_position": null,
      "order": null,
      "overflow": null,
      "overflow_x": null,
      "overflow_y": null,
      "padding": null,
      "right": null,
      "top": null,
      "visibility": null,
      "width": null
     }
    },
    "33fc51e4b5e642af83d3a2d7cb7a0d7a": {
     "model_module": "@jupyter-widgets/controls",
     "model_module_version": "1.5.0",
     "model_name": "FloatProgressModel",
     "state": {
      "_dom_classes": [],
      "_model_module": "@jupyter-widgets/controls",
      "_model_module_version": "1.5.0",
      "_model_name": "FloatProgressModel",
      "_view_count": null,
      "_view_module": "@jupyter-widgets/controls",
      "_view_module_version": "1.5.0",
      "_view_name": "ProgressView",
      "bar_style": "success",
      "description": "",
      "description_tooltip": null,
      "layout": "IPY_MODEL_5a31a463a5464846aab011dd1e765af0",
      "max": 41846,
      "min": 0,
      "orientation": "horizontal",
      "style": "IPY_MODEL_5f0636e913414cddb7ca015e899ece44",
      "value": 41846
     }
    },
    "3720d71da9144d66b914dfe692a891cb": {
     "model_module": "@jupyter-widgets/base",
     "model_module_version": "1.2.0",
     "model_name": "LayoutModel",
     "state": {
      "_model_module": "@jupyter-widgets/base",
      "_model_module_version": "1.2.0",
      "_model_name": "LayoutModel",
      "_view_count": null,
      "_view_module": "@jupyter-widgets/base",
      "_view_module_version": "1.2.0",
      "_view_name": "LayoutView",
      "align_content": null,
      "align_items": null,
      "align_self": null,
      "border": null,
      "bottom": null,
      "display": null,
      "flex": null,
      "flex_flow": null,
      "grid_area": null,
      "grid_auto_columns": null,
      "grid_auto_flow": null,
      "grid_auto_rows": null,
      "grid_column": null,
      "grid_gap": null,
      "grid_row": null,
      "grid_template_areas": null,
      "grid_template_columns": null,
      "grid_template_rows": null,
      "height": null,
      "justify_content": null,
      "justify_items": null,
      "left": null,
      "margin": null,
      "max_height": null,
      "max_width": null,
      "min_height": null,
      "min_width": null,
      "object_fit": null,
      "object_position": null,
      "order": null,
      "overflow": null,
      "overflow_x": null,
      "overflow_y": null,
      "padding": null,
      "right": null,
      "top": null,
      "visibility": null,
      "width": null
     }
    },
    "3a1bc8d429264c7da44fd8dd5bee2435": {
     "model_module": "@jupyter-widgets/controls",
     "model_module_version": "1.5.0",
     "model_name": "HTMLModel",
     "state": {
      "_dom_classes": [],
      "_model_module": "@jupyter-widgets/controls",
      "_model_module_version": "1.5.0",
      "_model_name": "HTMLModel",
      "_view_count": null,
      "_view_module": "@jupyter-widgets/controls",
      "_view_module_version": "1.5.0",
      "_view_name": "HTMLView",
      "description": "",
      "description_tooltip": null,
      "layout": "IPY_MODEL_2fc5840a51fa4f038aa4cb84e183c47c",
      "placeholder": "​",
      "style": "IPY_MODEL_8a186bed59974b6fa9a574b65dc1e71d",
      "value": "Replacing values: 100%"
     }
    },
    "3fd2beed434f4537859bb9be7dffdfee": {
     "model_module": "@jupyter-widgets/controls",
     "model_module_version": "1.5.0",
     "model_name": "HTMLModel",
     "state": {
      "_dom_classes": [],
      "_model_module": "@jupyter-widgets/controls",
      "_model_module_version": "1.5.0",
      "_model_name": "HTMLModel",
      "_view_count": null,
      "_view_module": "@jupyter-widgets/controls",
      "_view_module_version": "1.5.0",
      "_view_name": "HTMLView",
      "description": "",
      "description_tooltip": null,
      "layout": "IPY_MODEL_317de16e90214e97a695f5bbce40573d",
      "placeholder": "​",
      "style": "IPY_MODEL_64f5cccc142840d1a4bafea591bc4394",
      "value": " 51/51 [00:00&lt;00:00, 1292.87it/s]"
     }
    },
    "42ace39d6f8044eb853b132f661aa1b1": {
     "model_module": "@jupyter-widgets/base",
     "model_module_version": "1.2.0",
     "model_name": "LayoutModel",
     "state": {
      "_model_module": "@jupyter-widgets/base",
      "_model_module_version": "1.2.0",
      "_model_name": "LayoutModel",
      "_view_count": null,
      "_view_module": "@jupyter-widgets/base",
      "_view_module_version": "1.2.0",
      "_view_name": "LayoutView",
      "align_content": null,
      "align_items": null,
      "align_self": null,
      "border": null,
      "bottom": null,
      "display": null,
      "flex": null,
      "flex_flow": null,
      "grid_area": null,
      "grid_auto_columns": null,
      "grid_auto_flow": null,
      "grid_auto_rows": null,
      "grid_column": null,
      "grid_gap": null,
      "grid_row": null,
      "grid_template_areas": null,
      "grid_template_columns": null,
      "grid_template_rows": null,
      "height": null,
      "justify_content": null,
      "justify_items": null,
      "left": null,
      "margin": null,
      "max_height": null,
      "max_width": null,
      "min_height": null,
      "min_width": null,
      "object_fit": null,
      "object_position": null,
      "order": null,
      "overflow": null,
      "overflow_x": null,
      "overflow_y": null,
      "padding": null,
      "right": null,
      "top": null,
      "visibility": null,
      "width": null
     }
    },
    "43000d97d50c464486d3d20e839bc57e": {
     "model_module": "@jupyter-widgets/controls",
     "model_module_version": "1.5.0",
     "model_name": "HBoxModel",
     "state": {
      "_dom_classes": [],
      "_model_module": "@jupyter-widgets/controls",
      "_model_module_version": "1.5.0",
      "_model_name": "HBoxModel",
      "_view_count": null,
      "_view_module": "@jupyter-widgets/controls",
      "_view_module_version": "1.5.0",
      "_view_name": "HBoxView",
      "box_style": "",
      "children": [
       "IPY_MODEL_9d525f90e62c41949c66bab88d43652e",
       "IPY_MODEL_646d8279d9114f50953ac2c6faefdc8f",
       "IPY_MODEL_3fd2beed434f4537859bb9be7dffdfee"
      ],
      "layout": "IPY_MODEL_ebfdc9bdf66e4c34a48b9c25c2d5b639"
     }
    },
    "43f3ac618f0f4de391a3280730fcf2d4": {
     "model_module": "@jupyter-widgets/base",
     "model_module_version": "1.2.0",
     "model_name": "LayoutModel",
     "state": {
      "_model_module": "@jupyter-widgets/base",
      "_model_module_version": "1.2.0",
      "_model_name": "LayoutModel",
      "_view_count": null,
      "_view_module": "@jupyter-widgets/base",
      "_view_module_version": "1.2.0",
      "_view_name": "LayoutView",
      "align_content": null,
      "align_items": null,
      "align_self": null,
      "border": null,
      "bottom": null,
      "display": null,
      "flex": null,
      "flex_flow": null,
      "grid_area": null,
      "grid_auto_columns": null,
      "grid_auto_flow": null,
      "grid_auto_rows": null,
      "grid_column": null,
      "grid_gap": null,
      "grid_row": null,
      "grid_template_areas": null,
      "grid_template_columns": null,
      "grid_template_rows": null,
      "height": null,
      "justify_content": null,
      "justify_items": null,
      "left": null,
      "margin": null,
      "max_height": null,
      "max_width": null,
      "min_height": null,
      "min_width": null,
      "object_fit": null,
      "object_position": null,
      "order": null,
      "overflow": null,
      "overflow_x": null,
      "overflow_y": null,
      "padding": null,
      "right": null,
      "top": null,
      "visibility": null,
      "width": null
     }
    },
    "4500c009381246ecb1887de9a18b1a11": {
     "model_module": "@jupyter-widgets/controls",
     "model_module_version": "1.5.0",
     "model_name": "HBoxModel",
     "state": {
      "_dom_classes": [],
      "_model_module": "@jupyter-widgets/controls",
      "_model_module_version": "1.5.0",
      "_model_name": "HBoxModel",
      "_view_count": null,
      "_view_module": "@jupyter-widgets/controls",
      "_view_module_version": "1.5.0",
      "_view_name": "HBoxView",
      "box_style": "",
      "children": [
       "IPY_MODEL_3a1bc8d429264c7da44fd8dd5bee2435",
       "IPY_MODEL_33fc51e4b5e642af83d3a2d7cb7a0d7a",
       "IPY_MODEL_9f570e5ce65140c4bdf113e2ee3800f5"
      ],
      "layout": "IPY_MODEL_67a6f99dd2874aee87711667d2ef971f"
     }
    },
    "4c941c5bcca5400eacecf7b8c53a7979": {
     "model_module": "@jupyter-widgets/controls",
     "model_module_version": "1.5.0",
     "model_name": "HTMLModel",
     "state": {
      "_dom_classes": [],
      "_model_module": "@jupyter-widgets/controls",
      "_model_module_version": "1.5.0",
      "_model_name": "HTMLModel",
      "_view_count": null,
      "_view_module": "@jupyter-widgets/controls",
      "_view_module_version": "1.5.0",
      "_view_name": "HTMLView",
      "description": "",
      "description_tooltip": null,
      "layout": "IPY_MODEL_3720d71da9144d66b914dfe692a891cb",
      "placeholder": "​",
      "style": "IPY_MODEL_6b796165ae9c4e93b7fad7b4a2567829",
      "value": "Replacing values: 100%"
     }
    },
    "4e9feaf6ee1749ef873152c675506e62": {
     "model_module": "@jupyter-widgets/base",
     "model_module_version": "1.2.0",
     "model_name": "LayoutModel",
     "state": {
      "_model_module": "@jupyter-widgets/base",
      "_model_module_version": "1.2.0",
      "_model_name": "LayoutModel",
      "_view_count": null,
      "_view_module": "@jupyter-widgets/base",
      "_view_module_version": "1.2.0",
      "_view_name": "LayoutView",
      "align_content": null,
      "align_items": null,
      "align_self": null,
      "border": null,
      "bottom": null,
      "display": null,
      "flex": null,
      "flex_flow": null,
      "grid_area": null,
      "grid_auto_columns": null,
      "grid_auto_flow": null,
      "grid_auto_rows": null,
      "grid_column": null,
      "grid_gap": null,
      "grid_row": null,
      "grid_template_areas": null,
      "grid_template_columns": null,
      "grid_template_rows": null,
      "height": null,
      "justify_content": null,
      "justify_items": null,
      "left": null,
      "margin": null,
      "max_height": null,
      "max_width": null,
      "min_height": null,
      "min_width": null,
      "object_fit": null,
      "object_position": null,
      "order": null,
      "overflow": null,
      "overflow_x": null,
      "overflow_y": null,
      "padding": null,
      "right": null,
      "top": null,
      "visibility": null,
      "width": null
     }
    },
    "520a11acccf24c5fbe3149433a0c7fde": {
     "model_module": "@jupyter-widgets/controls",
     "model_module_version": "1.5.0",
     "model_name": "FloatProgressModel",
     "state": {
      "_dom_classes": [],
      "_model_module": "@jupyter-widgets/controls",
      "_model_module_version": "1.5.0",
      "_model_name": "FloatProgressModel",
      "_view_count": null,
      "_view_module": "@jupyter-widgets/controls",
      "_view_module_version": "1.5.0",
      "_view_name": "ProgressView",
      "bar_style": "success",
      "description": "",
      "description_tooltip": null,
      "layout": "IPY_MODEL_5a53ab0813c346b487b8a519addeeb93",
      "max": 42075,
      "min": 0,
      "orientation": "horizontal",
      "style": "IPY_MODEL_5e6051358d9b40faa6edaac22b2364cb",
      "value": 42075
     }
    },
    "545a5ca034a741b79abc592e5de3381a": {
     "model_module": "@jupyter-widgets/controls",
     "model_module_version": "1.5.0",
     "model_name": "HTMLModel",
     "state": {
      "_dom_classes": [],
      "_model_module": "@jupyter-widgets/controls",
      "_model_module_version": "1.5.0",
      "_model_name": "HTMLModel",
      "_view_count": null,
      "_view_module": "@jupyter-widgets/controls",
      "_view_module_version": "1.5.0",
      "_view_name": "HTMLView",
      "description": "",
      "description_tooltip": null,
      "layout": "IPY_MODEL_b583583261794660a5162a0a7bb2393a",
      "placeholder": "​",
      "style": "IPY_MODEL_becca19ab42d4656a852030fe260a479",
      "value": "Converting columns: 100%"
     }
    },
    "56ba7ee02b4f4c2da66ab4f1769c19ad": {
     "model_module": "@jupyter-widgets/controls",
     "model_module_version": "1.5.0",
     "model_name": "DescriptionStyleModel",
     "state": {
      "_model_module": "@jupyter-widgets/controls",
      "_model_module_version": "1.5.0",
      "_model_name": "DescriptionStyleModel",
      "_view_count": null,
      "_view_module": "@jupyter-widgets/base",
      "_view_module_version": "1.2.0",
      "_view_name": "StyleView",
      "description_width": ""
     }
    },
    "5a31a463a5464846aab011dd1e765af0": {
     "model_module": "@jupyter-widgets/base",
     "model_module_version": "1.2.0",
     "model_name": "LayoutModel",
     "state": {
      "_model_module": "@jupyter-widgets/base",
      "_model_module_version": "1.2.0",
      "_model_name": "LayoutModel",
      "_view_count": null,
      "_view_module": "@jupyter-widgets/base",
      "_view_module_version": "1.2.0",
      "_view_name": "LayoutView",
      "align_content": null,
      "align_items": null,
      "align_self": null,
      "border": null,
      "bottom": null,
      "display": null,
      "flex": null,
      "flex_flow": null,
      "grid_area": null,
      "grid_auto_columns": null,
      "grid_auto_flow": null,
      "grid_auto_rows": null,
      "grid_column": null,
      "grid_gap": null,
      "grid_row": null,
      "grid_template_areas": null,
      "grid_template_columns": null,
      "grid_template_rows": null,
      "height": null,
      "justify_content": null,
      "justify_items": null,
      "left": null,
      "margin": null,
      "max_height": null,
      "max_width": null,
      "min_height": null,
      "min_width": null,
      "object_fit": null,
      "object_position": null,
      "order": null,
      "overflow": null,
      "overflow_x": null,
      "overflow_y": null,
      "padding": null,
      "right": null,
      "top": null,
      "visibility": null,
      "width": null
     }
    },
    "5a53ab0813c346b487b8a519addeeb93": {
     "model_module": "@jupyter-widgets/base",
     "model_module_version": "1.2.0",
     "model_name": "LayoutModel",
     "state": {
      "_model_module": "@jupyter-widgets/base",
      "_model_module_version": "1.2.0",
      "_model_name": "LayoutModel",
      "_view_count": null,
      "_view_module": "@jupyter-widgets/base",
      "_view_module_version": "1.2.0",
      "_view_name": "LayoutView",
      "align_content": null,
      "align_items": null,
      "align_self": null,
      "border": null,
      "bottom": null,
      "display": null,
      "flex": null,
      "flex_flow": null,
      "grid_area": null,
      "grid_auto_columns": null,
      "grid_auto_flow": null,
      "grid_auto_rows": null,
      "grid_column": null,
      "grid_gap": null,
      "grid_row": null,
      "grid_template_areas": null,
      "grid_template_columns": null,
      "grid_template_rows": null,
      "height": null,
      "justify_content": null,
      "justify_items": null,
      "left": null,
      "margin": null,
      "max_height": null,
      "max_width": null,
      "min_height": null,
      "min_width": null,
      "object_fit": null,
      "object_position": null,
      "order": null,
      "overflow": null,
      "overflow_x": null,
      "overflow_y": null,
      "padding": null,
      "right": null,
      "top": null,
      "visibility": null,
      "width": null
     }
    },
    "5e6051358d9b40faa6edaac22b2364cb": {
     "model_module": "@jupyter-widgets/controls",
     "model_module_version": "1.5.0",
     "model_name": "ProgressStyleModel",
     "state": {
      "_model_module": "@jupyter-widgets/controls",
      "_model_module_version": "1.5.0",
      "_model_name": "ProgressStyleModel",
      "_view_count": null,
      "_view_module": "@jupyter-widgets/base",
      "_view_module_version": "1.2.0",
      "_view_name": "StyleView",
      "bar_color": null,
      "description_width": ""
     }
    },
    "5f0636e913414cddb7ca015e899ece44": {
     "model_module": "@jupyter-widgets/controls",
     "model_module_version": "1.5.0",
     "model_name": "ProgressStyleModel",
     "state": {
      "_model_module": "@jupyter-widgets/controls",
      "_model_module_version": "1.5.0",
      "_model_name": "ProgressStyleModel",
      "_view_count": null,
      "_view_module": "@jupyter-widgets/base",
      "_view_module_version": "1.2.0",
      "_view_name": "StyleView",
      "bar_color": null,
      "description_width": ""
     }
    },
    "5fc67f5a838d49168ef2ae2189b54a10": {
     "model_module": "@jupyter-widgets/controls",
     "model_module_version": "1.5.0",
     "model_name": "HBoxModel",
     "state": {
      "_dom_classes": [],
      "_model_module": "@jupyter-widgets/controls",
      "_model_module_version": "1.5.0",
      "_model_name": "HBoxModel",
      "_view_count": null,
      "_view_module": "@jupyter-widgets/controls",
      "_view_module_version": "1.5.0",
      "_view_name": "HBoxView",
      "box_style": "",
      "children": [
       "IPY_MODEL_545a5ca034a741b79abc592e5de3381a",
       "IPY_MODEL_f213810e57754918ad2415f300b9e67a",
       "IPY_MODEL_04f49eea3eb544a180f73fd8ae6a7d16"
      ],
      "layout": "IPY_MODEL_a051aa51edd8486ba2c25b7ada3abafd"
     }
    },
    "646d8279d9114f50953ac2c6faefdc8f": {
     "model_module": "@jupyter-widgets/controls",
     "model_module_version": "1.5.0",
     "model_name": "FloatProgressModel",
     "state": {
      "_dom_classes": [],
      "_model_module": "@jupyter-widgets/controls",
      "_model_module_version": "1.5.0",
      "_model_name": "FloatProgressModel",
      "_view_count": null,
      "_view_module": "@jupyter-widgets/controls",
      "_view_module_version": "1.5.0",
      "_view_name": "ProgressView",
      "bar_style": "success",
      "description": "",
      "description_tooltip": null,
      "layout": "IPY_MODEL_28d87495291c40839d2673aa0bea8a0b",
      "max": 51,
      "min": 0,
      "orientation": "horizontal",
      "style": "IPY_MODEL_c304bfead0104a72b247bcf192cd91d1",
      "value": 51
     }
    },
    "64f5cccc142840d1a4bafea591bc4394": {
     "model_module": "@jupyter-widgets/controls",
     "model_module_version": "1.5.0",
     "model_name": "DescriptionStyleModel",
     "state": {
      "_model_module": "@jupyter-widgets/controls",
      "_model_module_version": "1.5.0",
      "_model_name": "DescriptionStyleModel",
      "_view_count": null,
      "_view_module": "@jupyter-widgets/base",
      "_view_module_version": "1.2.0",
      "_view_name": "StyleView",
      "description_width": ""
     }
    },
    "668fa06f837c40efbcd4488bce03cbe0": {
     "model_module": "@jupyter-widgets/base",
     "model_module_version": "1.2.0",
     "model_name": "LayoutModel",
     "state": {
      "_model_module": "@jupyter-widgets/base",
      "_model_module_version": "1.2.0",
      "_model_name": "LayoutModel",
      "_view_count": null,
      "_view_module": "@jupyter-widgets/base",
      "_view_module_version": "1.2.0",
      "_view_name": "LayoutView",
      "align_content": null,
      "align_items": null,
      "align_self": null,
      "border": null,
      "bottom": null,
      "display": null,
      "flex": null,
      "flex_flow": null,
      "grid_area": null,
      "grid_auto_columns": null,
      "grid_auto_flow": null,
      "grid_auto_rows": null,
      "grid_column": null,
      "grid_gap": null,
      "grid_row": null,
      "grid_template_areas": null,
      "grid_template_columns": null,
      "grid_template_rows": null,
      "height": null,
      "justify_content": null,
      "justify_items": null,
      "left": null,
      "margin": null,
      "max_height": null,
      "max_width": null,
      "min_height": null,
      "min_width": null,
      "object_fit": null,
      "object_position": null,
      "order": null,
      "overflow": null,
      "overflow_x": null,
      "overflow_y": null,
      "padding": null,
      "right": null,
      "top": null,
      "visibility": null,
      "width": null
     }
    },
    "67a6f99dd2874aee87711667d2ef971f": {
     "model_module": "@jupyter-widgets/base",
     "model_module_version": "1.2.0",
     "model_name": "LayoutModel",
     "state": {
      "_model_module": "@jupyter-widgets/base",
      "_model_module_version": "1.2.0",
      "_model_name": "LayoutModel",
      "_view_count": null,
      "_view_module": "@jupyter-widgets/base",
      "_view_module_version": "1.2.0",
      "_view_name": "LayoutView",
      "align_content": null,
      "align_items": null,
      "align_self": null,
      "border": null,
      "bottom": null,
      "display": null,
      "flex": null,
      "flex_flow": null,
      "grid_area": null,
      "grid_auto_columns": null,
      "grid_auto_flow": null,
      "grid_auto_rows": null,
      "grid_column": null,
      "grid_gap": null,
      "grid_row": null,
      "grid_template_areas": null,
      "grid_template_columns": null,
      "grid_template_rows": null,
      "height": null,
      "justify_content": null,
      "justify_items": null,
      "left": null,
      "margin": null,
      "max_height": null,
      "max_width": null,
      "min_height": null,
      "min_width": null,
      "object_fit": null,
      "object_position": null,
      "order": null,
      "overflow": null,
      "overflow_x": null,
      "overflow_y": null,
      "padding": null,
      "right": null,
      "top": null,
      "visibility": null,
      "width": null
     }
    },
    "6b796165ae9c4e93b7fad7b4a2567829": {
     "model_module": "@jupyter-widgets/controls",
     "model_module_version": "1.5.0",
     "model_name": "DescriptionStyleModel",
     "state": {
      "_model_module": "@jupyter-widgets/controls",
      "_model_module_version": "1.5.0",
      "_model_name": "DescriptionStyleModel",
      "_view_count": null,
      "_view_module": "@jupyter-widgets/base",
      "_view_module_version": "1.2.0",
      "_view_name": "StyleView",
      "description_width": ""
     }
    },
    "736fcbdae8894a349c47100ad3042e4d": {
     "model_module": "@jupyter-widgets/controls",
     "model_module_version": "1.5.0",
     "model_name": "HTMLModel",
     "state": {
      "_dom_classes": [],
      "_model_module": "@jupyter-widgets/controls",
      "_model_module_version": "1.5.0",
      "_model_name": "HTMLModel",
      "_view_count": null,
      "_view_module": "@jupyter-widgets/controls",
      "_view_module_version": "1.5.0",
      "_view_name": "HTMLView",
      "description": "",
      "description_tooltip": null,
      "layout": "IPY_MODEL_10139cdbf4154e3fbee11d3fd49e2cfe",
      "placeholder": "​",
      "style": "IPY_MODEL_fa679dcf77d14c2bacec1885e75f3f54",
      "value": "Loading dataset: 100%"
     }
    },
    "76c8fb18a3e54589b7ccf9c249a8d4d1": {
     "model_module": "@jupyter-widgets/controls",
     "model_module_version": "1.5.0",
     "model_name": "DescriptionStyleModel",
     "state": {
      "_model_module": "@jupyter-widgets/controls",
      "_model_module_version": "1.5.0",
      "_model_name": "DescriptionStyleModel",
      "_view_count": null,
      "_view_module": "@jupyter-widgets/base",
      "_view_module_version": "1.2.0",
      "_view_name": "StyleView",
      "description_width": ""
     }
    },
    "7ac0f0c9d64e4ffb96833dfaf375273d": {
     "model_module": "@jupyter-widgets/controls",
     "model_module_version": "1.5.0",
     "model_name": "HBoxModel",
     "state": {
      "_dom_classes": [],
      "_model_module": "@jupyter-widgets/controls",
      "_model_module_version": "1.5.0",
      "_model_name": "HBoxModel",
      "_view_count": null,
      "_view_module": "@jupyter-widgets/controls",
      "_view_module_version": "1.5.0",
      "_view_name": "HBoxView",
      "box_style": "",
      "children": [
       "IPY_MODEL_4c941c5bcca5400eacecf7b8c53a7979",
       "IPY_MODEL_520a11acccf24c5fbe3149433a0c7fde",
       "IPY_MODEL_841bd643d9a84e599eb9bc3b0eedb5ea"
      ],
      "layout": "IPY_MODEL_d8fdcf17dcb446fcad0ac24d308b968f"
     }
    },
    "7c19e96dc5bc4bcdaf09404c03eb4df7": {
     "model_module": "@jupyter-widgets/controls",
     "model_module_version": "1.5.0",
     "model_name": "DescriptionStyleModel",
     "state": {
      "_model_module": "@jupyter-widgets/controls",
      "_model_module_version": "1.5.0",
      "_model_name": "DescriptionStyleModel",
      "_view_count": null,
      "_view_module": "@jupyter-widgets/base",
      "_view_module_version": "1.2.0",
      "_view_name": "StyleView",
      "description_width": ""
     }
    },
    "841bd643d9a84e599eb9bc3b0eedb5ea": {
     "model_module": "@jupyter-widgets/controls",
     "model_module_version": "1.5.0",
     "model_name": "HTMLModel",
     "state": {
      "_dom_classes": [],
      "_model_module": "@jupyter-widgets/controls",
      "_model_module_version": "1.5.0",
      "_model_name": "HTMLModel",
      "_view_count": null,
      "_view_module": "@jupyter-widgets/controls",
      "_view_module_version": "1.5.0",
      "_view_name": "HTMLView",
      "description": "",
      "description_tooltip": null,
      "layout": "IPY_MODEL_2405c50ce6834074a520d73dac385e61",
      "placeholder": "​",
      "style": "IPY_MODEL_56ba7ee02b4f4c2da66ab4f1769c19ad",
      "value": " 42075/42075 [00:04&lt;00:00, 9774.70it/s]"
     }
    },
    "8a186bed59974b6fa9a574b65dc1e71d": {
     "model_module": "@jupyter-widgets/controls",
     "model_module_version": "1.5.0",
     "model_name": "DescriptionStyleModel",
     "state": {
      "_model_module": "@jupyter-widgets/controls",
      "_model_module_version": "1.5.0",
      "_model_name": "DescriptionStyleModel",
      "_view_count": null,
      "_view_module": "@jupyter-widgets/base",
      "_view_module_version": "1.2.0",
      "_view_name": "StyleView",
      "description_width": ""
     }
    },
    "8e0c417f386a42fb8b519eff662c7599": {
     "model_module": "@jupyter-widgets/base",
     "model_module_version": "1.2.0",
     "model_name": "LayoutModel",
     "state": {
      "_model_module": "@jupyter-widgets/base",
      "_model_module_version": "1.2.0",
      "_model_name": "LayoutModel",
      "_view_count": null,
      "_view_module": "@jupyter-widgets/base",
      "_view_module_version": "1.2.0",
      "_view_name": "LayoutView",
      "align_content": null,
      "align_items": null,
      "align_self": null,
      "border": null,
      "bottom": null,
      "display": null,
      "flex": null,
      "flex_flow": null,
      "grid_area": null,
      "grid_auto_columns": null,
      "grid_auto_flow": null,
      "grid_auto_rows": null,
      "grid_column": null,
      "grid_gap": null,
      "grid_row": null,
      "grid_template_areas": null,
      "grid_template_columns": null,
      "grid_template_rows": null,
      "height": null,
      "justify_content": null,
      "justify_items": null,
      "left": null,
      "margin": null,
      "max_height": null,
      "max_width": null,
      "min_height": null,
      "min_width": null,
      "object_fit": null,
      "object_position": null,
      "order": null,
      "overflow": null,
      "overflow_x": null,
      "overflow_y": null,
      "padding": null,
      "right": null,
      "top": null,
      "visibility": null,
      "width": null
     }
    },
    "8fab6f254343463b9f32b4a8b1f3e4a1": {
     "model_module": "@jupyter-widgets/controls",
     "model_module_version": "1.5.0",
     "model_name": "FloatProgressModel",
     "state": {
      "_dom_classes": [],
      "_model_module": "@jupyter-widgets/controls",
      "_model_module_version": "1.5.0",
      "_model_name": "FloatProgressModel",
      "_view_count": null,
      "_view_module": "@jupyter-widgets/controls",
      "_view_module_version": "1.5.0",
      "_view_name": "ProgressView",
      "bar_style": "success",
      "description": "",
      "description_tooltip": null,
      "layout": "IPY_MODEL_9325cc11c71c4629b34f7703b55b11f8",
      "max": 1,
      "min": 0,
      "orientation": "horizontal",
      "style": "IPY_MODEL_2625df58c5d842de84ea9267039bfda2",
      "value": 1
     }
    },
    "9325cc11c71c4629b34f7703b55b11f8": {
     "model_module": "@jupyter-widgets/base",
     "model_module_version": "1.2.0",
     "model_name": "LayoutModel",
     "state": {
      "_model_module": "@jupyter-widgets/base",
      "_model_module_version": "1.2.0",
      "_model_name": "LayoutModel",
      "_view_count": null,
      "_view_module": "@jupyter-widgets/base",
      "_view_module_version": "1.2.0",
      "_view_name": "LayoutView",
      "align_content": null,
      "align_items": null,
      "align_self": null,
      "border": null,
      "bottom": null,
      "display": null,
      "flex": null,
      "flex_flow": null,
      "grid_area": null,
      "grid_auto_columns": null,
      "grid_auto_flow": null,
      "grid_auto_rows": null,
      "grid_column": null,
      "grid_gap": null,
      "grid_row": null,
      "grid_template_areas": null,
      "grid_template_columns": null,
      "grid_template_rows": null,
      "height": null,
      "justify_content": null,
      "justify_items": null,
      "left": null,
      "margin": null,
      "max_height": null,
      "max_width": null,
      "min_height": null,
      "min_width": null,
      "object_fit": null,
      "object_position": null,
      "order": null,
      "overflow": null,
      "overflow_x": null,
      "overflow_y": null,
      "padding": null,
      "right": null,
      "top": null,
      "visibility": null,
      "width": null
     }
    },
    "96caddf4647e4491aa1d63a42ce320ee": {
     "model_module": "@jupyter-widgets/controls",
     "model_module_version": "1.5.0",
     "model_name": "DescriptionStyleModel",
     "state": {
      "_model_module": "@jupyter-widgets/controls",
      "_model_module_version": "1.5.0",
      "_model_name": "DescriptionStyleModel",
      "_view_count": null,
      "_view_module": "@jupyter-widgets/base",
      "_view_module_version": "1.2.0",
      "_view_name": "StyleView",
      "description_width": ""
     }
    },
    "9d525f90e62c41949c66bab88d43652e": {
     "model_module": "@jupyter-widgets/controls",
     "model_module_version": "1.5.0",
     "model_name": "HTMLModel",
     "state": {
      "_dom_classes": [],
      "_model_module": "@jupyter-widgets/controls",
      "_model_module_version": "1.5.0",
      "_model_name": "HTMLModel",
      "_view_count": null,
      "_view_module": "@jupyter-widgets/controls",
      "_view_module_version": "1.5.0",
      "_view_name": "HTMLView",
      "description": "",
      "description_tooltip": null,
      "layout": "IPY_MODEL_22566dd5d3f9490d8bf77f3ae22bb861",
      "placeholder": "​",
      "style": "IPY_MODEL_76c8fb18a3e54589b7ccf9c249a8d4d1",
      "value": "Converting columns: 100%"
     }
    },
    "9f570e5ce65140c4bdf113e2ee3800f5": {
     "model_module": "@jupyter-widgets/controls",
     "model_module_version": "1.5.0",
     "model_name": "HTMLModel",
     "state": {
      "_dom_classes": [],
      "_model_module": "@jupyter-widgets/controls",
      "_model_module_version": "1.5.0",
      "_model_name": "HTMLModel",
      "_view_count": null,
      "_view_module": "@jupyter-widgets/controls",
      "_view_module_version": "1.5.0",
      "_view_name": "HTMLView",
      "description": "",
      "description_tooltip": null,
      "layout": "IPY_MODEL_a04077c4e9e647c8b99dc0683fdd11fa",
      "placeholder": "​",
      "style": "IPY_MODEL_fb2862a64a4540e4a1d67258a63901ba",
      "value": " 41846/41846 [00:04&lt;00:00, 8735.79it/s]"
     }
    },
    "a04077c4e9e647c8b99dc0683fdd11fa": {
     "model_module": "@jupyter-widgets/base",
     "model_module_version": "1.2.0",
     "model_name": "LayoutModel",
     "state": {
      "_model_module": "@jupyter-widgets/base",
      "_model_module_version": "1.2.0",
      "_model_name": "LayoutModel",
      "_view_count": null,
      "_view_module": "@jupyter-widgets/base",
      "_view_module_version": "1.2.0",
      "_view_name": "LayoutView",
      "align_content": null,
      "align_items": null,
      "align_self": null,
      "border": null,
      "bottom": null,
      "display": null,
      "flex": null,
      "flex_flow": null,
      "grid_area": null,
      "grid_auto_columns": null,
      "grid_auto_flow": null,
      "grid_auto_rows": null,
      "grid_column": null,
      "grid_gap": null,
      "grid_row": null,
      "grid_template_areas": null,
      "grid_template_columns": null,
      "grid_template_rows": null,
      "height": null,
      "justify_content": null,
      "justify_items": null,
      "left": null,
      "margin": null,
      "max_height": null,
      "max_width": null,
      "min_height": null,
      "min_width": null,
      "object_fit": null,
      "object_position": null,
      "order": null,
      "overflow": null,
      "overflow_x": null,
      "overflow_y": null,
      "padding": null,
      "right": null,
      "top": null,
      "visibility": null,
      "width": null
     }
    },
    "a051aa51edd8486ba2c25b7ada3abafd": {
     "model_module": "@jupyter-widgets/base",
     "model_module_version": "1.2.0",
     "model_name": "LayoutModel",
     "state": {
      "_model_module": "@jupyter-widgets/base",
      "_model_module_version": "1.2.0",
      "_model_name": "LayoutModel",
      "_view_count": null,
      "_view_module": "@jupyter-widgets/base",
      "_view_module_version": "1.2.0",
      "_view_name": "LayoutView",
      "align_content": null,
      "align_items": null,
      "align_self": null,
      "border": null,
      "bottom": null,
      "display": null,
      "flex": null,
      "flex_flow": null,
      "grid_area": null,
      "grid_auto_columns": null,
      "grid_auto_flow": null,
      "grid_auto_rows": null,
      "grid_column": null,
      "grid_gap": null,
      "grid_row": null,
      "grid_template_areas": null,
      "grid_template_columns": null,
      "grid_template_rows": null,
      "height": null,
      "justify_content": null,
      "justify_items": null,
      "left": null,
      "margin": null,
      "max_height": null,
      "max_width": null,
      "min_height": null,
      "min_width": null,
      "object_fit": null,
      "object_position": null,
      "order": null,
      "overflow": null,
      "overflow_x": null,
      "overflow_y": null,
      "padding": null,
      "right": null,
      "top": null,
      "visibility": null,
      "width": null
     }
    },
    "a7c84df6131842a6b770bf765cff7e3f": {
     "model_module": "@jupyter-widgets/controls",
     "model_module_version": "1.5.0",
     "model_name": "HTMLModel",
     "state": {
      "_dom_classes": [],
      "_model_module": "@jupyter-widgets/controls",
      "_model_module_version": "1.5.0",
      "_model_name": "HTMLModel",
      "_view_count": null,
      "_view_module": "@jupyter-widgets/controls",
      "_view_module_version": "1.5.0",
      "_view_name": "HTMLView",
      "description": "",
      "description_tooltip": null,
      "layout": "IPY_MODEL_a99323453b2149bca64b257ac0d9a6a7",
      "placeholder": "​",
      "style": "IPY_MODEL_7c19e96dc5bc4bcdaf09404c03eb4df7",
      "value": "Replacing values: 100%"
     }
    },
    "a99323453b2149bca64b257ac0d9a6a7": {
     "model_module": "@jupyter-widgets/base",
     "model_module_version": "1.2.0",
     "model_name": "LayoutModel",
     "state": {
      "_model_module": "@jupyter-widgets/base",
      "_model_module_version": "1.2.0",
      "_model_name": "LayoutModel",
      "_view_count": null,
      "_view_module": "@jupyter-widgets/base",
      "_view_module_version": "1.2.0",
      "_view_name": "LayoutView",
      "align_content": null,
      "align_items": null,
      "align_self": null,
      "border": null,
      "bottom": null,
      "display": null,
      "flex": null,
      "flex_flow": null,
      "grid_area": null,
      "grid_auto_columns": null,
      "grid_auto_flow": null,
      "grid_auto_rows": null,
      "grid_column": null,
      "grid_gap": null,
      "grid_row": null,
      "grid_template_areas": null,
      "grid_template_columns": null,
      "grid_template_rows": null,
      "height": null,
      "justify_content": null,
      "justify_items": null,
      "left": null,
      "margin": null,
      "max_height": null,
      "max_width": null,
      "min_height": null,
      "min_width": null,
      "object_fit": null,
      "object_position": null,
      "order": null,
      "overflow": null,
      "overflow_x": null,
      "overflow_y": null,
      "padding": null,
      "right": null,
      "top": null,
      "visibility": null,
      "width": null
     }
    },
    "b583583261794660a5162a0a7bb2393a": {
     "model_module": "@jupyter-widgets/base",
     "model_module_version": "1.2.0",
     "model_name": "LayoutModel",
     "state": {
      "_model_module": "@jupyter-widgets/base",
      "_model_module_version": "1.2.0",
      "_model_name": "LayoutModel",
      "_view_count": null,
      "_view_module": "@jupyter-widgets/base",
      "_view_module_version": "1.2.0",
      "_view_name": "LayoutView",
      "align_content": null,
      "align_items": null,
      "align_self": null,
      "border": null,
      "bottom": null,
      "display": null,
      "flex": null,
      "flex_flow": null,
      "grid_area": null,
      "grid_auto_columns": null,
      "grid_auto_flow": null,
      "grid_auto_rows": null,
      "grid_column": null,
      "grid_gap": null,
      "grid_row": null,
      "grid_template_areas": null,
      "grid_template_columns": null,
      "grid_template_rows": null,
      "height": null,
      "justify_content": null,
      "justify_items": null,
      "left": null,
      "margin": null,
      "max_height": null,
      "max_width": null,
      "min_height": null,
      "min_width": null,
      "object_fit": null,
      "object_position": null,
      "order": null,
      "overflow": null,
      "overflow_x": null,
      "overflow_y": null,
      "padding": null,
      "right": null,
      "top": null,
      "visibility": null,
      "width": null
     }
    },
    "ba61f3ff669c4e4e82216b2e92d0ada0": {
     "model_module": "@jupyter-widgets/controls",
     "model_module_version": "1.5.0",
     "model_name": "HTMLModel",
     "state": {
      "_dom_classes": [],
      "_model_module": "@jupyter-widgets/controls",
      "_model_module_version": "1.5.0",
      "_model_name": "HTMLModel",
      "_view_count": null,
      "_view_module": "@jupyter-widgets/controls",
      "_view_module_version": "1.5.0",
      "_view_name": "HTMLView",
      "description": "",
      "description_tooltip": null,
      "layout": "IPY_MODEL_4e9feaf6ee1749ef873152c675506e62",
      "placeholder": "​",
      "style": "IPY_MODEL_96caddf4647e4491aa1d63a42ce320ee",
      "value": " 126060/126060 [00:12&lt;00:00, 9892.46it/s]"
     }
    },
    "becca19ab42d4656a852030fe260a479": {
     "model_module": "@jupyter-widgets/controls",
     "model_module_version": "1.5.0",
     "model_name": "DescriptionStyleModel",
     "state": {
      "_model_module": "@jupyter-widgets/controls",
      "_model_module_version": "1.5.0",
      "_model_name": "DescriptionStyleModel",
      "_view_count": null,
      "_view_module": "@jupyter-widgets/base",
      "_view_module_version": "1.2.0",
      "_view_name": "StyleView",
      "description_width": ""
     }
    },
    "c304bfead0104a72b247bcf192cd91d1": {
     "model_module": "@jupyter-widgets/controls",
     "model_module_version": "1.5.0",
     "model_name": "ProgressStyleModel",
     "state": {
      "_model_module": "@jupyter-widgets/controls",
      "_model_module_version": "1.5.0",
      "_model_name": "ProgressStyleModel",
      "_view_count": null,
      "_view_module": "@jupyter-widgets/base",
      "_view_module_version": "1.2.0",
      "_view_name": "StyleView",
      "bar_color": null,
      "description_width": ""
     }
    },
    "d1b477ed74624aebb4b3cf612d21bd71": {
     "model_module": "@jupyter-widgets/controls",
     "model_module_version": "1.5.0",
     "model_name": "FloatProgressModel",
     "state": {
      "_dom_classes": [],
      "_model_module": "@jupyter-widgets/controls",
      "_model_module_version": "1.5.0",
      "_model_name": "FloatProgressModel",
      "_view_count": null,
      "_view_module": "@jupyter-widgets/controls",
      "_view_module_version": "1.5.0",
      "_view_name": "ProgressView",
      "bar_style": "success",
      "description": "",
      "description_tooltip": null,
      "layout": "IPY_MODEL_8e0c417f386a42fb8b519eff662c7599",
      "max": 126060,
      "min": 0,
      "orientation": "horizontal",
      "style": "IPY_MODEL_18210c6605cf46d4854f74ab960bf6c1",
      "value": 126060
     }
    },
    "d8fdcf17dcb446fcad0ac24d308b968f": {
     "model_module": "@jupyter-widgets/base",
     "model_module_version": "1.2.0",
     "model_name": "LayoutModel",
     "state": {
      "_model_module": "@jupyter-widgets/base",
      "_model_module_version": "1.2.0",
      "_model_name": "LayoutModel",
      "_view_count": null,
      "_view_module": "@jupyter-widgets/base",
      "_view_module_version": "1.2.0",
      "_view_name": "LayoutView",
      "align_content": null,
      "align_items": null,
      "align_self": null,
      "border": null,
      "bottom": null,
      "display": null,
      "flex": null,
      "flex_flow": null,
      "grid_area": null,
      "grid_auto_columns": null,
      "grid_auto_flow": null,
      "grid_auto_rows": null,
      "grid_column": null,
      "grid_gap": null,
      "grid_row": null,
      "grid_template_areas": null,
      "grid_template_columns": null,
      "grid_template_rows": null,
      "height": null,
      "justify_content": null,
      "justify_items": null,
      "left": null,
      "margin": null,
      "max_height": null,
      "max_width": null,
      "min_height": null,
      "min_width": null,
      "object_fit": null,
      "object_position": null,
      "order": null,
      "overflow": null,
      "overflow_x": null,
      "overflow_y": null,
      "padding": null,
      "right": null,
      "top": null,
      "visibility": null,
      "width": null
     }
    },
    "da353e972cb04325b28cafd592e97daa": {
     "model_module": "@jupyter-widgets/base",
     "model_module_version": "1.2.0",
     "model_name": "LayoutModel",
     "state": {
      "_model_module": "@jupyter-widgets/base",
      "_model_module_version": "1.2.0",
      "_model_name": "LayoutModel",
      "_view_count": null,
      "_view_module": "@jupyter-widgets/base",
      "_view_module_version": "1.2.0",
      "_view_name": "LayoutView",
      "align_content": null,
      "align_items": null,
      "align_self": null,
      "border": null,
      "bottom": null,
      "display": null,
      "flex": null,
      "flex_flow": null,
      "grid_area": null,
      "grid_auto_columns": null,
      "grid_auto_flow": null,
      "grid_auto_rows": null,
      "grid_column": null,
      "grid_gap": null,
      "grid_row": null,
      "grid_template_areas": null,
      "grid_template_columns": null,
      "grid_template_rows": null,
      "height": null,
      "justify_content": null,
      "justify_items": null,
      "left": null,
      "margin": null,
      "max_height": null,
      "max_width": null,
      "min_height": null,
      "min_width": null,
      "object_fit": null,
      "object_position": null,
      "order": null,
      "overflow": null,
      "overflow_x": null,
      "overflow_y": null,
      "padding": null,
      "right": null,
      "top": null,
      "visibility": null,
      "width": null
     }
    },
    "e4265c038ce2471f9f80a6fb360ecb03": {
     "model_module": "@jupyter-widgets/controls",
     "model_module_version": "1.5.0",
     "model_name": "HBoxModel",
     "state": {
      "_dom_classes": [],
      "_model_module": "@jupyter-widgets/controls",
      "_model_module_version": "1.5.0",
      "_model_name": "HBoxModel",
      "_view_count": null,
      "_view_module": "@jupyter-widgets/controls",
      "_view_module_version": "1.5.0",
      "_view_name": "HBoxView",
      "box_style": "",
      "children": [
       "IPY_MODEL_736fcbdae8894a349c47100ad3042e4d",
       "IPY_MODEL_8fab6f254343463b9f32b4a8b1f3e4a1",
       "IPY_MODEL_20b02ffe8bb54195b6b40c6c80c9d393"
      ],
      "layout": "IPY_MODEL_668fa06f837c40efbcd4488bce03cbe0"
     }
    },
    "e57e522dcfd24932aa2c32ac073e9f3b": {
     "model_module": "@jupyter-widgets/controls",
     "model_module_version": "1.5.0",
     "model_name": "ProgressStyleModel",
     "state": {
      "_model_module": "@jupyter-widgets/controls",
      "_model_module_version": "1.5.0",
      "_model_name": "ProgressStyleModel",
      "_view_count": null,
      "_view_module": "@jupyter-widgets/base",
      "_view_module_version": "1.2.0",
      "_view_name": "StyleView",
      "bar_color": null,
      "description_width": ""
     }
    },
    "ebfdc9bdf66e4c34a48b9c25c2d5b639": {
     "model_module": "@jupyter-widgets/base",
     "model_module_version": "1.2.0",
     "model_name": "LayoutModel",
     "state": {
      "_model_module": "@jupyter-widgets/base",
      "_model_module_version": "1.2.0",
      "_model_name": "LayoutModel",
      "_view_count": null,
      "_view_module": "@jupyter-widgets/base",
      "_view_module_version": "1.2.0",
      "_view_name": "LayoutView",
      "align_content": null,
      "align_items": null,
      "align_self": null,
      "border": null,
      "bottom": null,
      "display": null,
      "flex": null,
      "flex_flow": null,
      "grid_area": null,
      "grid_auto_columns": null,
      "grid_auto_flow": null,
      "grid_auto_rows": null,
      "grid_column": null,
      "grid_gap": null,
      "grid_row": null,
      "grid_template_areas": null,
      "grid_template_columns": null,
      "grid_template_rows": null,
      "height": null,
      "justify_content": null,
      "justify_items": null,
      "left": null,
      "margin": null,
      "max_height": null,
      "max_width": null,
      "min_height": null,
      "min_width": null,
      "object_fit": null,
      "object_position": null,
      "order": null,
      "overflow": null,
      "overflow_x": null,
      "overflow_y": null,
      "padding": null,
      "right": null,
      "top": null,
      "visibility": null,
      "width": null
     }
    },
    "f213810e57754918ad2415f300b9e67a": {
     "model_module": "@jupyter-widgets/controls",
     "model_module_version": "1.5.0",
     "model_name": "FloatProgressModel",
     "state": {
      "_dom_classes": [],
      "_model_module": "@jupyter-widgets/controls",
      "_model_module_version": "1.5.0",
      "_model_name": "FloatProgressModel",
      "_view_count": null,
      "_view_module": "@jupyter-widgets/controls",
      "_view_module_version": "1.5.0",
      "_view_name": "ProgressView",
      "bar_style": "success",
      "description": "",
      "description_tooltip": null,
      "layout": "IPY_MODEL_da353e972cb04325b28cafd592e97daa",
      "max": 51,
      "min": 0,
      "orientation": "horizontal",
      "style": "IPY_MODEL_e57e522dcfd24932aa2c32ac073e9f3b",
      "value": 51
     }
    },
    "f4e0523d5cf042d28d295a133cbe8f98": {
     "model_module": "@jupyter-widgets/base",
     "model_module_version": "1.2.0",
     "model_name": "LayoutModel",
     "state": {
      "_model_module": "@jupyter-widgets/base",
      "_model_module_version": "1.2.0",
      "_model_name": "LayoutModel",
      "_view_count": null,
      "_view_module": "@jupyter-widgets/base",
      "_view_module_version": "1.2.0",
      "_view_name": "LayoutView",
      "align_content": null,
      "align_items": null,
      "align_self": null,
      "border": null,
      "bottom": null,
      "display": null,
      "flex": null,
      "flex_flow": null,
      "grid_area": null,
      "grid_auto_columns": null,
      "grid_auto_flow": null,
      "grid_auto_rows": null,
      "grid_column": null,
      "grid_gap": null,
      "grid_row": null,
      "grid_template_areas": null,
      "grid_template_columns": null,
      "grid_template_rows": null,
      "height": null,
      "justify_content": null,
      "justify_items": null,
      "left": null,
      "margin": null,
      "max_height": null,
      "max_width": null,
      "min_height": null,
      "min_width": null,
      "object_fit": null,
      "object_position": null,
      "order": null,
      "overflow": null,
      "overflow_x": null,
      "overflow_y": null,
      "padding": null,
      "right": null,
      "top": null,
      "visibility": null,
      "width": null
     }
    },
    "fa679dcf77d14c2bacec1885e75f3f54": {
     "model_module": "@jupyter-widgets/controls",
     "model_module_version": "1.5.0",
     "model_name": "DescriptionStyleModel",
     "state": {
      "_model_module": "@jupyter-widgets/controls",
      "_model_module_version": "1.5.0",
      "_model_name": "DescriptionStyleModel",
      "_view_count": null,
      "_view_module": "@jupyter-widgets/base",
      "_view_module_version": "1.2.0",
      "_view_name": "StyleView",
      "description_width": ""
     }
    },
    "fb2862a64a4540e4a1d67258a63901ba": {
     "model_module": "@jupyter-widgets/controls",
     "model_module_version": "1.5.0",
     "model_name": "DescriptionStyleModel",
     "state": {
      "_model_module": "@jupyter-widgets/controls",
      "_model_module_version": "1.5.0",
      "_model_name": "DescriptionStyleModel",
      "_view_count": null,
      "_view_module": "@jupyter-widgets/base",
      "_view_module_version": "1.2.0",
      "_view_name": "StyleView",
      "description_width": ""
     }
    },
    "fc50bfa47e234926b751bd32fc89209f": {
     "model_module": "@jupyter-widgets/controls",
     "model_module_version": "1.5.0",
     "model_name": "HBoxModel",
     "state": {
      "_dom_classes": [],
      "_model_module": "@jupyter-widgets/controls",
      "_model_module_version": "1.5.0",
      "_model_name": "HBoxModel",
      "_view_count": null,
      "_view_module": "@jupyter-widgets/controls",
      "_view_module_version": "1.5.0",
      "_view_name": "HBoxView",
      "box_style": "",
      "children": [
       "IPY_MODEL_a7c84df6131842a6b770bf765cff7e3f",
       "IPY_MODEL_d1b477ed74624aebb4b3cf612d21bd71",
       "IPY_MODEL_ba61f3ff669c4e4e82216b2e92d0ada0"
      ],
      "layout": "IPY_MODEL_43f3ac618f0f4de391a3280730fcf2d4"
     }
    }
   }
  }
 },
 "nbformat": 4,
 "nbformat_minor": 4
}
