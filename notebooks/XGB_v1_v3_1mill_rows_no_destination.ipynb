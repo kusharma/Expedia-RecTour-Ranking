{
  "nbformat": 4,
  "nbformat_minor": 0,
  "metadata": {
    "colab": {
      "provenance": [],
      "machine_shape": "hm"
    },
    "kernelspec": {
      "name": "python3",
      "display_name": "Python 3"
    },
    "language_info": {
      "name": "python"
    }
  },
  "cells": [
    {
      "cell_type": "markdown",
      "source": [
        "### Learning to rank with XGB - more data\n",
        "\n",
        "\n",
        "- 1 Million rows\n",
        "\n",
        "- Feature and row selection as in https://docs.google.com/document/d/1R9itgngZUNzkBqWzXstLiBXXoYJa8-ahS66JrqC3kDk/edit\n",
        "\n",
        "- after feature selection: check for queries with one row/no click/transaction\n",
        "- preprocessed: no queries with only one result, numerical variables scaled\n",
        "- click and transaction in one relevance label (click weight: 1, transaction weight: 2)\n",
        "\n"
      ],
      "metadata": {
        "id": "pwQajobYgIEK"
      }
    },
    {
      "cell_type": "markdown",
      "source": [
        "code folllows this example: https://xgboost.readthedocs.io/en/stable/tutorials/learning_to_rank.html"
      ],
      "metadata": {
        "id": "VjlmDv9Qdia8"
      }
    },
    {
      "cell_type": "code",
      "execution_count": 52,
      "metadata": {
        "colab": {
          "base_uri": "https://localhost:8080/"
        },
        "id": "IeaIAPszgDIk",
        "outputId": "783108c9-11ac-432d-f2c2-2687bfbcd27e"
      },
      "outputs": [
        {
          "output_type": "stream",
          "name": "stdout",
          "text": [
            "Drive already mounted at /content/drive; to attempt to forcibly remount, call drive.mount(\"/content/drive\", force_remount=True).\n"
          ]
        }
      ],
      "source": [
        "from google.colab import drive\n",
        "drive.mount('/content/drive')"
      ]
    },
    {
      "cell_type": "code",
      "source": [
        "import pandas as pd\n",
        "df = pd.read_csv(\"/content/drive/MyDrive/expedia/millionrows_Top500Destinations.csv\")"
      ],
      "metadata": {
        "id": "figfZqQHFaX-"
      },
      "execution_count": 53,
      "outputs": []
    },
    {
      "cell_type": "code",
      "source": [
        "df.head()"
      ],
      "metadata": {
        "colab": {
          "base_uri": "https://localhost:8080/",
          "height": 256
        },
        "id": "E03BT7BLFxBr",
        "outputId": "adc3350f-80f6-4486-cceb-38755df8b15f"
      },
      "execution_count": 54,
      "outputs": [
        {
          "output_type": "execute_result",
          "data": {
            "text/plain": [
              "   user_id  search_id  point_of_sale  geo_location_country  is_mobile  \\\n",
              "0        2          2              1                     1          0   \n",
              "1        2          2              1                     1          0   \n",
              "2        2          2              1                     1          0   \n",
              "3        2          2              1                     1          0   \n",
              "4        2          2              1                     1          0   \n",
              "\n",
              "   destination_id checkin_date checkout_date  adult_count  child_count  ...  \\\n",
              "0              49   2021-07-07    2021-07-12            2            0  ...   \n",
              "1              49   2021-07-07    2021-07-12            2            0  ...   \n",
              "2              49   2021-07-07    2021-07-12            2            0  ...   \n",
              "3              49   2021-07-07    2021-07-12            2            0  ...   \n",
              "4              49   2021-07-07    2021-07-12            2            0  ...   \n",
              "\n",
              "   HighSpeedInternet  HotTub LaundryFacility  Parking  PetsAllowed  \\\n",
              "0               True   False            True    False        False   \n",
              "1               True   False            True     True        False   \n",
              "2               True   False            True     True         True   \n",
              "3              False   False            True     True         True   \n",
              "4              False   False            True     True         True   \n",
              "\n",
              "   PrivatePool  SpaServices  SwimmingPool  WasherDryer   WiFi  \n",
              "0        False        False         False        False  False  \n",
              "1        False        False          True        False  False  \n",
              "2        False        False          True        False   True  \n",
              "3        False        False         False        False   True  \n",
              "4        False        False         False        False  False  \n",
              "\n",
              "[5 rows x 49 columns]"
            ],
            "text/html": [
              "\n",
              "  <div id=\"df-0d7d4d21-7dea-43df-b7c6-cecd5a3a3060\" class=\"colab-df-container\">\n",
              "    <div>\n",
              "<style scoped>\n",
              "    .dataframe tbody tr th:only-of-type {\n",
              "        vertical-align: middle;\n",
              "    }\n",
              "\n",
              "    .dataframe tbody tr th {\n",
              "        vertical-align: top;\n",
              "    }\n",
              "\n",
              "    .dataframe thead th {\n",
              "        text-align: right;\n",
              "    }\n",
              "</style>\n",
              "<table border=\"1\" class=\"dataframe\">\n",
              "  <thead>\n",
              "    <tr style=\"text-align: right;\">\n",
              "      <th></th>\n",
              "      <th>user_id</th>\n",
              "      <th>search_id</th>\n",
              "      <th>point_of_sale</th>\n",
              "      <th>geo_location_country</th>\n",
              "      <th>is_mobile</th>\n",
              "      <th>destination_id</th>\n",
              "      <th>checkin_date</th>\n",
              "      <th>checkout_date</th>\n",
              "      <th>adult_count</th>\n",
              "      <th>child_count</th>\n",
              "      <th>...</th>\n",
              "      <th>HighSpeedInternet</th>\n",
              "      <th>HotTub</th>\n",
              "      <th>LaundryFacility</th>\n",
              "      <th>Parking</th>\n",
              "      <th>PetsAllowed</th>\n",
              "      <th>PrivatePool</th>\n",
              "      <th>SpaServices</th>\n",
              "      <th>SwimmingPool</th>\n",
              "      <th>WasherDryer</th>\n",
              "      <th>WiFi</th>\n",
              "    </tr>\n",
              "  </thead>\n",
              "  <tbody>\n",
              "    <tr>\n",
              "      <th>0</th>\n",
              "      <td>2</td>\n",
              "      <td>2</td>\n",
              "      <td>1</td>\n",
              "      <td>1</td>\n",
              "      <td>0</td>\n",
              "      <td>49</td>\n",
              "      <td>2021-07-07</td>\n",
              "      <td>2021-07-12</td>\n",
              "      <td>2</td>\n",
              "      <td>0</td>\n",
              "      <td>...</td>\n",
              "      <td>True</td>\n",
              "      <td>False</td>\n",
              "      <td>True</td>\n",
              "      <td>False</td>\n",
              "      <td>False</td>\n",
              "      <td>False</td>\n",
              "      <td>False</td>\n",
              "      <td>False</td>\n",
              "      <td>False</td>\n",
              "      <td>False</td>\n",
              "    </tr>\n",
              "    <tr>\n",
              "      <th>1</th>\n",
              "      <td>2</td>\n",
              "      <td>2</td>\n",
              "      <td>1</td>\n",
              "      <td>1</td>\n",
              "      <td>0</td>\n",
              "      <td>49</td>\n",
              "      <td>2021-07-07</td>\n",
              "      <td>2021-07-12</td>\n",
              "      <td>2</td>\n",
              "      <td>0</td>\n",
              "      <td>...</td>\n",
              "      <td>True</td>\n",
              "      <td>False</td>\n",
              "      <td>True</td>\n",
              "      <td>True</td>\n",
              "      <td>False</td>\n",
              "      <td>False</td>\n",
              "      <td>False</td>\n",
              "      <td>True</td>\n",
              "      <td>False</td>\n",
              "      <td>False</td>\n",
              "    </tr>\n",
              "    <tr>\n",
              "      <th>2</th>\n",
              "      <td>2</td>\n",
              "      <td>2</td>\n",
              "      <td>1</td>\n",
              "      <td>1</td>\n",
              "      <td>0</td>\n",
              "      <td>49</td>\n",
              "      <td>2021-07-07</td>\n",
              "      <td>2021-07-12</td>\n",
              "      <td>2</td>\n",
              "      <td>0</td>\n",
              "      <td>...</td>\n",
              "      <td>True</td>\n",
              "      <td>False</td>\n",
              "      <td>True</td>\n",
              "      <td>True</td>\n",
              "      <td>True</td>\n",
              "      <td>False</td>\n",
              "      <td>False</td>\n",
              "      <td>True</td>\n",
              "      <td>False</td>\n",
              "      <td>True</td>\n",
              "    </tr>\n",
              "    <tr>\n",
              "      <th>3</th>\n",
              "      <td>2</td>\n",
              "      <td>2</td>\n",
              "      <td>1</td>\n",
              "      <td>1</td>\n",
              "      <td>0</td>\n",
              "      <td>49</td>\n",
              "      <td>2021-07-07</td>\n",
              "      <td>2021-07-12</td>\n",
              "      <td>2</td>\n",
              "      <td>0</td>\n",
              "      <td>...</td>\n",
              "      <td>False</td>\n",
              "      <td>False</td>\n",
              "      <td>True</td>\n",
              "      <td>True</td>\n",
              "      <td>True</td>\n",
              "      <td>False</td>\n",
              "      <td>False</td>\n",
              "      <td>False</td>\n",
              "      <td>False</td>\n",
              "      <td>True</td>\n",
              "    </tr>\n",
              "    <tr>\n",
              "      <th>4</th>\n",
              "      <td>2</td>\n",
              "      <td>2</td>\n",
              "      <td>1</td>\n",
              "      <td>1</td>\n",
              "      <td>0</td>\n",
              "      <td>49</td>\n",
              "      <td>2021-07-07</td>\n",
              "      <td>2021-07-12</td>\n",
              "      <td>2</td>\n",
              "      <td>0</td>\n",
              "      <td>...</td>\n",
              "      <td>False</td>\n",
              "      <td>False</td>\n",
              "      <td>True</td>\n",
              "      <td>True</td>\n",
              "      <td>True</td>\n",
              "      <td>False</td>\n",
              "      <td>False</td>\n",
              "      <td>False</td>\n",
              "      <td>False</td>\n",
              "      <td>False</td>\n",
              "    </tr>\n",
              "  </tbody>\n",
              "</table>\n",
              "<p>5 rows × 49 columns</p>\n",
              "</div>\n",
              "    <div class=\"colab-df-buttons\">\n",
              "\n",
              "  <div class=\"colab-df-container\">\n",
              "    <button class=\"colab-df-convert\" onclick=\"convertToInteractive('df-0d7d4d21-7dea-43df-b7c6-cecd5a3a3060')\"\n",
              "            title=\"Convert this dataframe to an interactive table.\"\n",
              "            style=\"display:none;\">\n",
              "\n",
              "  <svg xmlns=\"http://www.w3.org/2000/svg\" height=\"24px\" viewBox=\"0 -960 960 960\">\n",
              "    <path d=\"M120-120v-720h720v720H120Zm60-500h600v-160H180v160Zm220 220h160v-160H400v160Zm0 220h160v-160H400v160ZM180-400h160v-160H180v160Zm440 0h160v-160H620v160ZM180-180h160v-160H180v160Zm440 0h160v-160H620v160Z\"/>\n",
              "  </svg>\n",
              "    </button>\n",
              "\n",
              "  <style>\n",
              "    .colab-df-container {\n",
              "      display:flex;\n",
              "      gap: 12px;\n",
              "    }\n",
              "\n",
              "    .colab-df-convert {\n",
              "      background-color: #E8F0FE;\n",
              "      border: none;\n",
              "      border-radius: 50%;\n",
              "      cursor: pointer;\n",
              "      display: none;\n",
              "      fill: #1967D2;\n",
              "      height: 32px;\n",
              "      padding: 0 0 0 0;\n",
              "      width: 32px;\n",
              "    }\n",
              "\n",
              "    .colab-df-convert:hover {\n",
              "      background-color: #E2EBFA;\n",
              "      box-shadow: 0px 1px 2px rgba(60, 64, 67, 0.3), 0px 1px 3px 1px rgba(60, 64, 67, 0.15);\n",
              "      fill: #174EA6;\n",
              "    }\n",
              "\n",
              "    .colab-df-buttons div {\n",
              "      margin-bottom: 4px;\n",
              "    }\n",
              "\n",
              "    [theme=dark] .colab-df-convert {\n",
              "      background-color: #3B4455;\n",
              "      fill: #D2E3FC;\n",
              "    }\n",
              "\n",
              "    [theme=dark] .colab-df-convert:hover {\n",
              "      background-color: #434B5C;\n",
              "      box-shadow: 0px 1px 3px 1px rgba(0, 0, 0, 0.15);\n",
              "      filter: drop-shadow(0px 1px 2px rgba(0, 0, 0, 0.3));\n",
              "      fill: #FFFFFF;\n",
              "    }\n",
              "  </style>\n",
              "\n",
              "    <script>\n",
              "      const buttonEl =\n",
              "        document.querySelector('#df-0d7d4d21-7dea-43df-b7c6-cecd5a3a3060 button.colab-df-convert');\n",
              "      buttonEl.style.display =\n",
              "        google.colab.kernel.accessAllowed ? 'block' : 'none';\n",
              "\n",
              "      async function convertToInteractive(key) {\n",
              "        const element = document.querySelector('#df-0d7d4d21-7dea-43df-b7c6-cecd5a3a3060');\n",
              "        const dataTable =\n",
              "          await google.colab.kernel.invokeFunction('convertToInteractive',\n",
              "                                                    [key], {});\n",
              "        if (!dataTable) return;\n",
              "\n",
              "        const docLinkHtml = 'Like what you see? Visit the ' +\n",
              "          '<a target=\"_blank\" href=https://colab.research.google.com/notebooks/data_table.ipynb>data table notebook</a>'\n",
              "          + ' to learn more about interactive tables.';\n",
              "        element.innerHTML = '';\n",
              "        dataTable['output_type'] = 'display_data';\n",
              "        await google.colab.output.renderOutput(dataTable, element);\n",
              "        const docLink = document.createElement('div');\n",
              "        docLink.innerHTML = docLinkHtml;\n",
              "        element.appendChild(docLink);\n",
              "      }\n",
              "    </script>\n",
              "  </div>\n",
              "\n",
              "\n",
              "<div id=\"df-7706c9b1-aef0-4470-8d33-6fadc5f5463e\">\n",
              "  <button class=\"colab-df-quickchart\" onclick=\"quickchart('df-7706c9b1-aef0-4470-8d33-6fadc5f5463e')\"\n",
              "            title=\"Suggest charts\"\n",
              "            style=\"display:none;\">\n",
              "\n",
              "<svg xmlns=\"http://www.w3.org/2000/svg\" height=\"24px\"viewBox=\"0 0 24 24\"\n",
              "     width=\"24px\">\n",
              "    <g>\n",
              "        <path d=\"M19 3H5c-1.1 0-2 .9-2 2v14c0 1.1.9 2 2 2h14c1.1 0 2-.9 2-2V5c0-1.1-.9-2-2-2zM9 17H7v-7h2v7zm4 0h-2V7h2v10zm4 0h-2v-4h2v4z\"/>\n",
              "    </g>\n",
              "</svg>\n",
              "  </button>\n",
              "\n",
              "<style>\n",
              "  .colab-df-quickchart {\n",
              "      --bg-color: #E8F0FE;\n",
              "      --fill-color: #1967D2;\n",
              "      --hover-bg-color: #E2EBFA;\n",
              "      --hover-fill-color: #174EA6;\n",
              "      --disabled-fill-color: #AAA;\n",
              "      --disabled-bg-color: #DDD;\n",
              "  }\n",
              "\n",
              "  [theme=dark] .colab-df-quickchart {\n",
              "      --bg-color: #3B4455;\n",
              "      --fill-color: #D2E3FC;\n",
              "      --hover-bg-color: #434B5C;\n",
              "      --hover-fill-color: #FFFFFF;\n",
              "      --disabled-bg-color: #3B4455;\n",
              "      --disabled-fill-color: #666;\n",
              "  }\n",
              "\n",
              "  .colab-df-quickchart {\n",
              "    background-color: var(--bg-color);\n",
              "    border: none;\n",
              "    border-radius: 50%;\n",
              "    cursor: pointer;\n",
              "    display: none;\n",
              "    fill: var(--fill-color);\n",
              "    height: 32px;\n",
              "    padding: 0;\n",
              "    width: 32px;\n",
              "  }\n",
              "\n",
              "  .colab-df-quickchart:hover {\n",
              "    background-color: var(--hover-bg-color);\n",
              "    box-shadow: 0 1px 2px rgba(60, 64, 67, 0.3), 0 1px 3px 1px rgba(60, 64, 67, 0.15);\n",
              "    fill: var(--button-hover-fill-color);\n",
              "  }\n",
              "\n",
              "  .colab-df-quickchart-complete:disabled,\n",
              "  .colab-df-quickchart-complete:disabled:hover {\n",
              "    background-color: var(--disabled-bg-color);\n",
              "    fill: var(--disabled-fill-color);\n",
              "    box-shadow: none;\n",
              "  }\n",
              "\n",
              "  .colab-df-spinner {\n",
              "    border: 2px solid var(--fill-color);\n",
              "    border-color: transparent;\n",
              "    border-bottom-color: var(--fill-color);\n",
              "    animation:\n",
              "      spin 1s steps(1) infinite;\n",
              "  }\n",
              "\n",
              "  @keyframes spin {\n",
              "    0% {\n",
              "      border-color: transparent;\n",
              "      border-bottom-color: var(--fill-color);\n",
              "      border-left-color: var(--fill-color);\n",
              "    }\n",
              "    20% {\n",
              "      border-color: transparent;\n",
              "      border-left-color: var(--fill-color);\n",
              "      border-top-color: var(--fill-color);\n",
              "    }\n",
              "    30% {\n",
              "      border-color: transparent;\n",
              "      border-left-color: var(--fill-color);\n",
              "      border-top-color: var(--fill-color);\n",
              "      border-right-color: var(--fill-color);\n",
              "    }\n",
              "    40% {\n",
              "      border-color: transparent;\n",
              "      border-right-color: var(--fill-color);\n",
              "      border-top-color: var(--fill-color);\n",
              "    }\n",
              "    60% {\n",
              "      border-color: transparent;\n",
              "      border-right-color: var(--fill-color);\n",
              "    }\n",
              "    80% {\n",
              "      border-color: transparent;\n",
              "      border-right-color: var(--fill-color);\n",
              "      border-bottom-color: var(--fill-color);\n",
              "    }\n",
              "    90% {\n",
              "      border-color: transparent;\n",
              "      border-bottom-color: var(--fill-color);\n",
              "    }\n",
              "  }\n",
              "</style>\n",
              "\n",
              "  <script>\n",
              "    async function quickchart(key) {\n",
              "      const quickchartButtonEl =\n",
              "        document.querySelector('#' + key + ' button');\n",
              "      quickchartButtonEl.disabled = true;  // To prevent multiple clicks.\n",
              "      quickchartButtonEl.classList.add('colab-df-spinner');\n",
              "      try {\n",
              "        const charts = await google.colab.kernel.invokeFunction(\n",
              "            'suggestCharts', [key], {});\n",
              "      } catch (error) {\n",
              "        console.error('Error during call to suggestCharts:', error);\n",
              "      }\n",
              "      quickchartButtonEl.classList.remove('colab-df-spinner');\n",
              "      quickchartButtonEl.classList.add('colab-df-quickchart-complete');\n",
              "    }\n",
              "    (() => {\n",
              "      let quickchartButtonEl =\n",
              "        document.querySelector('#df-7706c9b1-aef0-4470-8d33-6fadc5f5463e button');\n",
              "      quickchartButtonEl.style.display =\n",
              "        google.colab.kernel.accessAllowed ? 'block' : 'none';\n",
              "    })();\n",
              "  </script>\n",
              "</div>\n",
              "    </div>\n",
              "  </div>\n"
            ],
            "application/vnd.google.colaboratory.intrinsic+json": {
              "type": "dataframe",
              "variable_name": "df"
            }
          },
          "metadata": {},
          "execution_count": 54
        }
      ]
    },
    {
      "cell_type": "code",
      "source": [
        "df.shape"
      ],
      "metadata": {
        "colab": {
          "base_uri": "https://localhost:8080/"
        },
        "id": "GSAOdxMOOt5q",
        "outputId": "c972eb0a-f28b-4a95-9d3b-30c71e56dd03"
      },
      "execution_count": 55,
      "outputs": [
        {
          "output_type": "execute_result",
          "data": {
            "text/plain": [
              "(2049518, 49)"
            ]
          },
          "metadata": {},
          "execution_count": 55
        }
      ]
    },
    {
      "cell_type": "code",
      "source": [
        "df.dtypes"
      ],
      "metadata": {
        "colab": {
          "base_uri": "https://localhost:8080/"
        },
        "id": "CewRoNBnM-xr",
        "outputId": "06e8fc4b-d09d-4a42-fc4c-52fd46c6b7fc"
      },
      "execution_count": 56,
      "outputs": [
        {
          "output_type": "execute_result",
          "data": {
            "text/plain": [
              "user_id                        int64\n",
              "search_id                      int64\n",
              "point_of_sale                  int64\n",
              "geo_location_country           int64\n",
              "is_mobile                      int64\n",
              "destination_id                 int64\n",
              "checkin_date                  object\n",
              "checkout_date                 object\n",
              "adult_count                    int64\n",
              "child_count                    int64\n",
              "infant_count                   int64\n",
              "room_count                     int64\n",
              "sort_type                     object\n",
              "length_of_stay               float64\n",
              "booking_window               float64\n",
              "search_day_of_week             int64\n",
              "search_hour_of_day             int64\n",
              "checkin_day                    int64\n",
              "checkout_day                   int64\n",
              "rank                           int64\n",
              "prop_id                        int64\n",
              "is_travel_ad                   int64\n",
              "review_rating                float64\n",
              "review_count                 float64\n",
              "star_rating                   object\n",
              "is_free_cancellation           int64\n",
              "is_drr                         int64\n",
              "price_bucket                 float64\n",
              "num_clicks                     int64\n",
              "is_trans                       int64\n",
              "rank_noad                    float64\n",
              "AirConditioning               object\n",
              "AirportTransfer               object\n",
              "Bar                           object\n",
              "FreeAirportTransportation     object\n",
              "FreeBreakfast                 object\n",
              "FreeParking                   object\n",
              "FreeWiFi                      object\n",
              "Gym                           object\n",
              "HighSpeedInternet             object\n",
              "HotTub                        object\n",
              "LaundryFacility               object\n",
              "Parking                       object\n",
              "PetsAllowed                   object\n",
              "PrivatePool                   object\n",
              "SpaServices                   object\n",
              "SwimmingPool                  object\n",
              "WasherDryer                   object\n",
              "WiFi                          object\n",
              "dtype: object"
            ]
          },
          "metadata": {},
          "execution_count": 56
        }
      ]
    },
    {
      "cell_type": "code",
      "source": [
        "# how many queries in test data?\n",
        "len(df[\"search_id\"].unique())"
      ],
      "metadata": {
        "colab": {
          "base_uri": "https://localhost:8080/"
        },
        "id": "brcIp8yI1eWP",
        "outputId": "dd460a68-223b-46b8-bd30-870b10b515bf"
      },
      "execution_count": 57,
      "outputs": [
        {
          "output_type": "execute_result",
          "data": {
            "text/plain": [
              "75642"
            ]
          },
          "metadata": {},
          "execution_count": 57
        }
      ]
    },
    {
      "cell_type": "code",
      "source": [
        "len(df[\"user_id\"].unique())"
      ],
      "metadata": {
        "colab": {
          "base_uri": "https://localhost:8080/"
        },
        "id": "MJsnxIvRT5ys",
        "outputId": "f30f9774-6255-4b47-d439-e3f5b655fbb5"
      },
      "execution_count": 58,
      "outputs": [
        {
          "output_type": "execute_result",
          "data": {
            "text/plain": [
              "48716"
            ]
          },
          "metadata": {},
          "execution_count": 58
        }
      ]
    },
    {
      "cell_type": "markdown",
      "source": [
        "#### drop columns not needed - first step"
      ],
      "metadata": {
        "id": "RS3abC_SMZKI"
      }
    },
    {
      "cell_type": "code",
      "source": [
        "df = df.drop(columns = [\"prop_id\", \"search_day_of_week\", \"search_hour_of_day\",\n",
        "                        \"checkout_date\", \"infant_count\", \"room_count\", \"rank\",\n",
        "                        \"user_id\"])\n",
        "\n",
        "df.shape"
      ],
      "metadata": {
        "colab": {
          "base_uri": "https://localhost:8080/"
        },
        "id": "edMZUDCfLsTS",
        "outputId": "7c5ca7a4-4f76-41a7-dd52-dbcfac8a813b"
      },
      "execution_count": 59,
      "outputs": [
        {
          "output_type": "execute_result",
          "data": {
            "text/plain": [
              "(2049518, 41)"
            ]
          },
          "metadata": {},
          "execution_count": 59
        }
      ]
    },
    {
      "cell_type": "code",
      "source": [
        "## create relvance label\n",
        "# 1 for clicked on\n",
        "# 2 for transaction\n",
        "\n",
        "df[\"relevance\"] = 0  # Initialize with default value\n",
        "df.loc[df[\"num_clicks\"] > 0, \"relevance\"] = 1  # Set value to 1 if first_column > 0\n",
        "df.loc[df[\"is_trans\"] > 0, \"relevance\"] = 2  # Add 2 if second_column > 0\n"
      ],
      "metadata": {
        "id": "Bf7SRHYXMIS9"
      },
      "execution_count": 60,
      "outputs": []
    },
    {
      "cell_type": "code",
      "source": [
        "### drop num clicks and is_trans\n",
        "df = df.drop(columns = [\"is_trans\", \"num_clicks\"])\n",
        "df.shape"
      ],
      "metadata": {
        "colab": {
          "base_uri": "https://localhost:8080/"
        },
        "id": "Cf_XKqhNOx63",
        "outputId": "1fdea857-ea87-4939-a2ad-072bbfcb0fe4"
      },
      "execution_count": 61,
      "outputs": [
        {
          "output_type": "execute_result",
          "data": {
            "text/plain": [
              "(2049518, 40)"
            ]
          },
          "metadata": {},
          "execution_count": 61
        }
      ]
    },
    {
      "cell_type": "code",
      "source": [
        "#### barplot of relevance labels\n",
        "import matplotlib.pyplot as plt\n",
        "frequency_counts = df[\"relevance\"].value_counts()"
      ],
      "metadata": {
        "id": "ARE6N8n31ypj"
      },
      "execution_count": 62,
      "outputs": []
    },
    {
      "cell_type": "code",
      "source": [
        "frequency_counts"
      ],
      "metadata": {
        "colab": {
          "base_uri": "https://localhost:8080/"
        },
        "id": "EyTqgnroP3yZ",
        "outputId": "ee90ec92-584d-4941-a4ae-4e2dafe5ed27"
      },
      "execution_count": 63,
      "outputs": [
        {
          "output_type": "execute_result",
          "data": {
            "text/plain": [
              "relevance\n",
              "0    1908184\n",
              "1     131053\n",
              "2      10281\n",
              "Name: count, dtype: int64"
            ]
          },
          "metadata": {},
          "execution_count": 63
        }
      ]
    },
    {
      "cell_type": "markdown",
      "source": [
        "#### Drop rows based on conditions - new data set object is created"
      ],
      "metadata": {
        "id": "rIEg3YZkPZXV"
      }
    },
    {
      "cell_type": "code",
      "source": [
        "## what are values in sort_type\n",
        "df[\"sort_type\"].value_counts()"
      ],
      "metadata": {
        "colab": {
          "base_uri": "https://localhost:8080/"
        },
        "id": "fAOWm-qLPXox",
        "outputId": "2ce5d2b3-9e90-441a-819e-9c0f92b6b8b6"
      },
      "execution_count": 64,
      "outputs": [
        {
          "output_type": "execute_result",
          "data": {
            "text/plain": [
              "sort_type\n",
              "RECOMMENDED                      1881566\n",
              "PRICE ASCENDING                   107997\n",
              "STAR RATING DESCENDING             15118\n",
              "GUEST RATINGS DESCENDING           14661\n",
              "SPECIAL - DIRECT HOTEL SEARCH      11913\n",
              "DEALS                              10316\n",
              "VACATION RENTAL                     7947\n",
              "Name: count, dtype: int64"
            ]
          },
          "metadata": {},
          "execution_count": 64
        }
      ]
    },
    {
      "cell_type": "code",
      "source": [
        "# drop everything that is not sort_type == RECOMMENDED\n",
        "df_model = df[df[\"sort_type\"] == \"RECOMMENDED\"]\n",
        "df_model.shape"
      ],
      "metadata": {
        "colab": {
          "base_uri": "https://localhost:8080/"
        },
        "id": "DyRPP3NdTKso",
        "outputId": "556ea87c-4b9e-412a-bb8c-2c089f83b22e"
      },
      "execution_count": 65,
      "outputs": [
        {
          "output_type": "execute_result",
          "data": {
            "text/plain": [
              "(1881566, 40)"
            ]
          },
          "metadata": {},
          "execution_count": 65
        }
      ]
    },
    {
      "cell_type": "code",
      "source": [
        "#### are there sort_type other than recommended\n",
        "df_model[\"sort_type\"].value_counts()"
      ],
      "metadata": {
        "colab": {
          "base_uri": "https://localhost:8080/"
        },
        "id": "B1sQniLvQqSa",
        "outputId": "da0c596c-85bc-44de-9f14-724eeb80417a"
      },
      "execution_count": 66,
      "outputs": [
        {
          "output_type": "execute_result",
          "data": {
            "text/plain": [
              "sort_type\n",
              "RECOMMENDED    1881566\n",
              "Name: count, dtype: int64"
            ]
          },
          "metadata": {},
          "execution_count": 66
        }
      ]
    },
    {
      "cell_type": "code",
      "source": [
        "df_model = df_model.drop(columns = \"sort_type\")"
      ],
      "metadata": {
        "id": "Ds6LXM0LQnpp"
      },
      "execution_count": 67,
      "outputs": []
    },
    {
      "cell_type": "code",
      "source": [
        "df_model[\"star_rating\"].value_counts()"
      ],
      "metadata": {
        "colab": {
          "base_uri": "https://localhost:8080/"
        },
        "id": "SGKwyiUXPXkz",
        "outputId": "5235e44f-2962-405f-9402-2f89d0910a32"
      },
      "execution_count": 68,
      "outputs": [
        {
          "output_type": "execute_result",
          "data": {
            "text/plain": [
              "star_rating\n",
              "4.0              715088\n",
              "3.0              627137\n",
              "5.0              283367\n",
              "2.0              133366\n",
              "0                 85191\n",
              "Not Available     36587\n",
              "1.0                 793\n",
              "0.0                  37\n",
              "Name: count, dtype: int64"
            ]
          },
          "metadata": {},
          "execution_count": 68
        }
      ]
    },
    {
      "cell_type": "code",
      "source": [
        "### remove Not Available and transfer to integer\n",
        "df_model = df_model[df_model[\"star_rating\"] != \"Not Available\"]\n",
        "df_model[\"star_rating\"].value_counts()"
      ],
      "metadata": {
        "colab": {
          "base_uri": "https://localhost:8080/"
        },
        "id": "CkcWMpYmPXgW",
        "outputId": "11cb9c4b-025d-4aed-acb0-98f34772c8e5"
      },
      "execution_count": 69,
      "outputs": [
        {
          "output_type": "execute_result",
          "data": {
            "text/plain": [
              "star_rating\n",
              "4.0    715088\n",
              "3.0    627137\n",
              "5.0    283367\n",
              "2.0    133366\n",
              "0       85191\n",
              "1.0       793\n",
              "0.0        37\n",
              "Name: count, dtype: int64"
            ]
          },
          "metadata": {},
          "execution_count": 69
        }
      ]
    },
    {
      "cell_type": "code",
      "source": [
        "# transfer star rating to a numeric value\n",
        "df_model[\"star_rating\"] = pd.to_numeric(df_model[\"star_rating\"])"
      ],
      "metadata": {
        "id": "23cz8AS_g57B"
      },
      "execution_count": 70,
      "outputs": []
    },
    {
      "cell_type": "code",
      "source": [
        "df_model[\"star_rating\"].value_counts()"
      ],
      "metadata": {
        "colab": {
          "base_uri": "https://localhost:8080/"
        },
        "id": "uOcanyKzma3m",
        "outputId": "22b18f47-630f-4063-d827-96f4ffc0b4a1"
      },
      "execution_count": 71,
      "outputs": [
        {
          "output_type": "execute_result",
          "data": {
            "text/plain": [
              "star_rating\n",
              "4.0    715088\n",
              "3.0    627137\n",
              "5.0    283367\n",
              "2.0    133366\n",
              "0.0     85228\n",
              "1.0       793\n",
              "Name: count, dtype: int64"
            ]
          },
          "metadata": {},
          "execution_count": 71
        }
      ]
    },
    {
      "cell_type": "code",
      "source": [
        "df_model[\"review_rating\"].value_counts()"
      ],
      "metadata": {
        "colab": {
          "base_uri": "https://localhost:8080/"
        },
        "id": "MRGODqGsZTSz",
        "outputId": "e5644b05-e636-463b-e883-67c3776784c8"
      },
      "execution_count": 72,
      "outputs": [
        {
          "output_type": "execute_result",
          "data": {
            "text/plain": [
              "review_rating\n",
              "4.0    1206031\n",
              "5.0     493645\n",
              "3.0     107968\n",
              "0.0      27600\n",
              "2.0       9032\n",
              "1.0        703\n",
              "Name: count, dtype: int64"
            ]
          },
          "metadata": {},
          "execution_count": 72
        }
      ]
    },
    {
      "cell_type": "code",
      "source": [
        "## remove if review rating == 0, because indicates that no rating could be given\n",
        "df_model = df_model[df_model[\"review_rating\"] != 0.0]\n",
        "df_model[\"review_rating\"].value_counts()"
      ],
      "metadata": {
        "colab": {
          "base_uri": "https://localhost:8080/"
        },
        "id": "jAwSI8mKYPec",
        "outputId": "f9dd198a-b08e-4884-fc83-791c15803f3b"
      },
      "execution_count": 73,
      "outputs": [
        {
          "output_type": "execute_result",
          "data": {
            "text/plain": [
              "review_rating\n",
              "4.0    1206031\n",
              "5.0     493645\n",
              "3.0     107968\n",
              "2.0       9032\n",
              "1.0        703\n",
              "Name: count, dtype: int64"
            ]
          },
          "metadata": {},
          "execution_count": 73
        }
      ]
    },
    {
      "cell_type": "code",
      "source": [
        "## rows without valid values are already dropped with review_rating\n",
        "df_model['review_count'].value_counts()"
      ],
      "metadata": {
        "colab": {
          "base_uri": "https://localhost:8080/"
        },
        "id": "AWT8JlpzYShV",
        "outputId": "0ed03731-7eb4-4b9f-f6d5-faaabc8961c6"
      },
      "execution_count": 74,
      "outputs": [
        {
          "output_type": "execute_result",
          "data": {
            "text/plain": [
              "review_count\n",
              "1025.0     358711\n",
              "1000.0     156005\n",
              "25.0       116550\n",
              "50.0        46534\n",
              "75.0        35742\n",
              "            ...  \n",
              "22100.0         3\n",
              "27775.0         3\n",
              "27750.0         2\n",
              "14325.0         2\n",
              "14675.0         1\n",
              "Name: count, Length: 747, dtype: int64"
            ]
          },
          "metadata": {},
          "execution_count": 74
        }
      ]
    },
    {
      "cell_type": "code",
      "source": [
        "df_model['price_bucket'].value_counts()"
      ],
      "metadata": {
        "colab": {
          "base_uri": "https://localhost:8080/"
        },
        "id": "xm03bGQy22x5",
        "outputId": "c0734656-6439-4fd1-dbeb-655a917be063"
      },
      "execution_count": 75,
      "outputs": [
        {
          "output_type": "execute_result",
          "data": {
            "text/plain": [
              "price_bucket\n",
              "4.0    389951\n",
              "3.0    383366\n",
              "2.0    369453\n",
              "5.0    354746\n",
              "1.0    319863\n",
              "Name: count, dtype: int64"
            ]
          },
          "metadata": {},
          "execution_count": 75
        }
      ]
    },
    {
      "cell_type": "code",
      "source": [
        "import numpy as np"
      ],
      "metadata": {
        "id": "zzaAqG5Qgd8T"
      },
      "execution_count": 76,
      "outputs": []
    },
    {
      "cell_type": "code",
      "source": [
        "df_model[\"price_bucket\"].mean()"
      ],
      "metadata": {
        "colab": {
          "base_uri": "https://localhost:8080/"
        },
        "id": "_Mo2ax0ugX0r",
        "outputId": "7783ac36-01b3-4be3-a555-6187275ce297"
      },
      "execution_count": 77,
      "outputs": [
        {
          "output_type": "execute_result",
          "data": {
            "text/plain": [
              "3.049667130521482"
            ]
          },
          "metadata": {},
          "execution_count": 77
        }
      ]
    },
    {
      "cell_type": "markdown",
      "source": [
        "#### Exclude ads"
      ],
      "metadata": {
        "id": "9zOXN7PFwCbh"
      }
    },
    {
      "cell_type": "code",
      "source": [
        "df_model['is_travel_ad'].value_counts()"
      ],
      "metadata": {
        "colab": {
          "base_uri": "https://localhost:8080/"
        },
        "id": "G8M8-8Q8vpKA",
        "outputId": "fdb8b6a8-0135-420a-f360-48163fa560c3"
      },
      "execution_count": 78,
      "outputs": [
        {
          "output_type": "execute_result",
          "data": {
            "text/plain": [
              "is_travel_ad\n",
              "0    1633412\n",
              "1     183967\n",
              "Name: count, dtype: int64"
            ]
          },
          "metadata": {},
          "execution_count": 78
        }
      ]
    },
    {
      "cell_type": "code",
      "source": [
        "# only rows that are no ads stay in df\n",
        "df_model = df_model[df_model['is_travel_ad'] == 0]\n",
        "df_model.shape"
      ],
      "metadata": {
        "colab": {
          "base_uri": "https://localhost:8080/"
        },
        "id": "vIWwuOJbwICV",
        "outputId": "e38f8c91-cbee-4a9d-ae3b-62ddc8f9a1d9"
      },
      "execution_count": 79,
      "outputs": [
        {
          "output_type": "execute_result",
          "data": {
            "text/plain": [
              "(1633412, 39)"
            ]
          },
          "metadata": {},
          "execution_count": 79
        }
      ]
    },
    {
      "cell_type": "code",
      "source": [
        "df_model = df_model.drop(columns = \"is_travel_ad\")"
      ],
      "metadata": {
        "id": "dcTRy4r6zHdz"
      },
      "execution_count": 80,
      "outputs": []
    },
    {
      "cell_type": "code",
      "source": [
        "df_model['rank_noad'].value_counts()"
      ],
      "metadata": {
        "colab": {
          "base_uri": "https://localhost:8080/"
        },
        "id": "B6NhVwQVvUgs",
        "outputId": "ccf04f0d-8be6-4393-fdf0-eb9e59287274"
      },
      "execution_count": 81,
      "outputs": [
        {
          "output_type": "execute_result",
          "data": {
            "text/plain": [
              "rank_noad\n",
              "2.0     67698\n",
              "3.0     67037\n",
              "1.0     66633\n",
              "4.0     66430\n",
              "5.0     65730\n",
              "        ...  \n",
              "65.0        1\n",
              "64.0        1\n",
              "63.0        1\n",
              "61.0        1\n",
              "83.0        1\n",
              "Name: count, Length: 82, dtype: int64"
            ]
          },
          "metadata": {},
          "execution_count": 81
        }
      ]
    },
    {
      "cell_type": "markdown",
      "source": [
        "#### Extract month from checkin_date"
      ],
      "metadata": {
        "id": "_6Ps2IaNzTRb"
      }
    },
    {
      "cell_type": "code",
      "source": [],
      "metadata": {
        "id": "aLkVXUNDzS8G"
      },
      "execution_count": 81,
      "outputs": []
    },
    {
      "cell_type": "code",
      "source": [
        "df_model[\"in_date\"] = pd.to_datetime(df_model[\"checkin_date\"])\n",
        "df_model[\"in_date\"]"
      ],
      "metadata": {
        "colab": {
          "base_uri": "https://localhost:8080/"
        },
        "id": "YX8XJodq2P84",
        "outputId": "e5287dd0-1467-4bf6-fd63-1c9dcf4a4f89"
      },
      "execution_count": 82,
      "outputs": [
        {
          "output_type": "execute_result",
          "data": {
            "text/plain": [
              "0         2021-07-07\n",
              "3         2021-07-07\n",
              "4         2021-07-07\n",
              "5         2021-07-07\n",
              "6         2021-07-07\n",
              "             ...    \n",
              "2049513   2021-06-21\n",
              "2049514   2021-06-21\n",
              "2049515   2021-06-21\n",
              "2049516   2021-06-21\n",
              "2049517   2021-06-21\n",
              "Name: in_date, Length: 1633412, dtype: datetime64[ns]"
            ]
          },
          "metadata": {},
          "execution_count": 82
        }
      ]
    },
    {
      "cell_type": "code",
      "source": [
        "# Extract the month\n",
        "df_model[\"checkin_month\"] = df_model[\"in_date\"].dt.month"
      ],
      "metadata": {
        "id": "J492vh0MU_ub"
      },
      "execution_count": 83,
      "outputs": []
    },
    {
      "cell_type": "code",
      "source": [
        "# transform month to category\n",
        "df_model[\"checkin_month\"] = df_model[\"checkin_month\"].astype(\"category\")"
      ],
      "metadata": {
        "id": "LwJ6SVnzSVzC"
      },
      "execution_count": 84,
      "outputs": []
    },
    {
      "cell_type": "code",
      "source": [
        "# drop string and date time of checkin\n",
        "df_model = df_model.drop(columns = [\"checkin_date\", \"in_date\"])"
      ],
      "metadata": {
        "id": "q47Ew5iQVeGS"
      },
      "execution_count": 85,
      "outputs": []
    },
    {
      "cell_type": "markdown",
      "source": [
        "#### Transform amenities from string into category"
      ],
      "metadata": {
        "id": "olW-mM2fzYTd"
      }
    },
    {
      "cell_type": "code",
      "source": [
        "### replace True False strings with 1 and 0\n",
        "\n",
        "df_model = df_model.replace({\"True\": 1, \"False\": 0})"
      ],
      "metadata": {
        "id": "x6erLiWesPHu"
      },
      "execution_count": 86,
      "outputs": []
    },
    {
      "cell_type": "code",
      "source": [
        "df_model.head()"
      ],
      "metadata": {
        "colab": {
          "base_uri": "https://localhost:8080/",
          "height": 256
        },
        "id": "H2k8ZHG2sUH8",
        "outputId": "5833d7dc-7848-4a96-c49b-f007da24501c"
      },
      "execution_count": 87,
      "outputs": [
        {
          "output_type": "execute_result",
          "data": {
            "text/plain": [
              "   search_id  point_of_sale  geo_location_country  is_mobile  destination_id  \\\n",
              "0          2              1                     1          0              49   \n",
              "3          2              1                     1          0              49   \n",
              "4          2              1                     1          0              49   \n",
              "5          2              1                     1          0              49   \n",
              "6          2              1                     1          0              49   \n",
              "\n",
              "   adult_count  child_count  length_of_stay  booking_window  checkin_day  ...  \\\n",
              "0            2            0             5.0            26.0            2  ...   \n",
              "3            2            0             5.0            26.0            2  ...   \n",
              "4            2            0             5.0            26.0            2  ...   \n",
              "5            2            0             5.0            26.0            2  ...   \n",
              "6            2            0             5.0            26.0            2  ...   \n",
              "\n",
              "   LaundryFacility  Parking  PetsAllowed  PrivatePool  SpaServices  \\\n",
              "0                1        0            0            0            0   \n",
              "3                1        1            1            0            0   \n",
              "4                1        1            1            0            0   \n",
              "5                1        0            1            0            0   \n",
              "6                1        1            0            0            0   \n",
              "\n",
              "   SwimmingPool  WasherDryer  WiFi relevance checkin_month  \n",
              "0             0            0     0         1             7  \n",
              "3             0            0     1         0             7  \n",
              "4             0            0     0         0             7  \n",
              "5             0            0     0         0             7  \n",
              "6             0            0     0         0             7  \n",
              "\n",
              "[5 rows x 38 columns]"
            ],
            "text/html": [
              "\n",
              "  <div id=\"df-8701ac6e-bed0-4c7e-87c3-fffa7fc7606d\" class=\"colab-df-container\">\n",
              "    <div>\n",
              "<style scoped>\n",
              "    .dataframe tbody tr th:only-of-type {\n",
              "        vertical-align: middle;\n",
              "    }\n",
              "\n",
              "    .dataframe tbody tr th {\n",
              "        vertical-align: top;\n",
              "    }\n",
              "\n",
              "    .dataframe thead th {\n",
              "        text-align: right;\n",
              "    }\n",
              "</style>\n",
              "<table border=\"1\" class=\"dataframe\">\n",
              "  <thead>\n",
              "    <tr style=\"text-align: right;\">\n",
              "      <th></th>\n",
              "      <th>search_id</th>\n",
              "      <th>point_of_sale</th>\n",
              "      <th>geo_location_country</th>\n",
              "      <th>is_mobile</th>\n",
              "      <th>destination_id</th>\n",
              "      <th>adult_count</th>\n",
              "      <th>child_count</th>\n",
              "      <th>length_of_stay</th>\n",
              "      <th>booking_window</th>\n",
              "      <th>checkin_day</th>\n",
              "      <th>...</th>\n",
              "      <th>LaundryFacility</th>\n",
              "      <th>Parking</th>\n",
              "      <th>PetsAllowed</th>\n",
              "      <th>PrivatePool</th>\n",
              "      <th>SpaServices</th>\n",
              "      <th>SwimmingPool</th>\n",
              "      <th>WasherDryer</th>\n",
              "      <th>WiFi</th>\n",
              "      <th>relevance</th>\n",
              "      <th>checkin_month</th>\n",
              "    </tr>\n",
              "  </thead>\n",
              "  <tbody>\n",
              "    <tr>\n",
              "      <th>0</th>\n",
              "      <td>2</td>\n",
              "      <td>1</td>\n",
              "      <td>1</td>\n",
              "      <td>0</td>\n",
              "      <td>49</td>\n",
              "      <td>2</td>\n",
              "      <td>0</td>\n",
              "      <td>5.0</td>\n",
              "      <td>26.0</td>\n",
              "      <td>2</td>\n",
              "      <td>...</td>\n",
              "      <td>1</td>\n",
              "      <td>0</td>\n",
              "      <td>0</td>\n",
              "      <td>0</td>\n",
              "      <td>0</td>\n",
              "      <td>0</td>\n",
              "      <td>0</td>\n",
              "      <td>0</td>\n",
              "      <td>1</td>\n",
              "      <td>7</td>\n",
              "    </tr>\n",
              "    <tr>\n",
              "      <th>3</th>\n",
              "      <td>2</td>\n",
              "      <td>1</td>\n",
              "      <td>1</td>\n",
              "      <td>0</td>\n",
              "      <td>49</td>\n",
              "      <td>2</td>\n",
              "      <td>0</td>\n",
              "      <td>5.0</td>\n",
              "      <td>26.0</td>\n",
              "      <td>2</td>\n",
              "      <td>...</td>\n",
              "      <td>1</td>\n",
              "      <td>1</td>\n",
              "      <td>1</td>\n",
              "      <td>0</td>\n",
              "      <td>0</td>\n",
              "      <td>0</td>\n",
              "      <td>0</td>\n",
              "      <td>1</td>\n",
              "      <td>0</td>\n",
              "      <td>7</td>\n",
              "    </tr>\n",
              "    <tr>\n",
              "      <th>4</th>\n",
              "      <td>2</td>\n",
              "      <td>1</td>\n",
              "      <td>1</td>\n",
              "      <td>0</td>\n",
              "      <td>49</td>\n",
              "      <td>2</td>\n",
              "      <td>0</td>\n",
              "      <td>5.0</td>\n",
              "      <td>26.0</td>\n",
              "      <td>2</td>\n",
              "      <td>...</td>\n",
              "      <td>1</td>\n",
              "      <td>1</td>\n",
              "      <td>1</td>\n",
              "      <td>0</td>\n",
              "      <td>0</td>\n",
              "      <td>0</td>\n",
              "      <td>0</td>\n",
              "      <td>0</td>\n",
              "      <td>0</td>\n",
              "      <td>7</td>\n",
              "    </tr>\n",
              "    <tr>\n",
              "      <th>5</th>\n",
              "      <td>2</td>\n",
              "      <td>1</td>\n",
              "      <td>1</td>\n",
              "      <td>0</td>\n",
              "      <td>49</td>\n",
              "      <td>2</td>\n",
              "      <td>0</td>\n",
              "      <td>5.0</td>\n",
              "      <td>26.0</td>\n",
              "      <td>2</td>\n",
              "      <td>...</td>\n",
              "      <td>1</td>\n",
              "      <td>0</td>\n",
              "      <td>1</td>\n",
              "      <td>0</td>\n",
              "      <td>0</td>\n",
              "      <td>0</td>\n",
              "      <td>0</td>\n",
              "      <td>0</td>\n",
              "      <td>0</td>\n",
              "      <td>7</td>\n",
              "    </tr>\n",
              "    <tr>\n",
              "      <th>6</th>\n",
              "      <td>2</td>\n",
              "      <td>1</td>\n",
              "      <td>1</td>\n",
              "      <td>0</td>\n",
              "      <td>49</td>\n",
              "      <td>2</td>\n",
              "      <td>0</td>\n",
              "      <td>5.0</td>\n",
              "      <td>26.0</td>\n",
              "      <td>2</td>\n",
              "      <td>...</td>\n",
              "      <td>1</td>\n",
              "      <td>1</td>\n",
              "      <td>0</td>\n",
              "      <td>0</td>\n",
              "      <td>0</td>\n",
              "      <td>0</td>\n",
              "      <td>0</td>\n",
              "      <td>0</td>\n",
              "      <td>0</td>\n",
              "      <td>7</td>\n",
              "    </tr>\n",
              "  </tbody>\n",
              "</table>\n",
              "<p>5 rows × 38 columns</p>\n",
              "</div>\n",
              "    <div class=\"colab-df-buttons\">\n",
              "\n",
              "  <div class=\"colab-df-container\">\n",
              "    <button class=\"colab-df-convert\" onclick=\"convertToInteractive('df-8701ac6e-bed0-4c7e-87c3-fffa7fc7606d')\"\n",
              "            title=\"Convert this dataframe to an interactive table.\"\n",
              "            style=\"display:none;\">\n",
              "\n",
              "  <svg xmlns=\"http://www.w3.org/2000/svg\" height=\"24px\" viewBox=\"0 -960 960 960\">\n",
              "    <path d=\"M120-120v-720h720v720H120Zm60-500h600v-160H180v160Zm220 220h160v-160H400v160Zm0 220h160v-160H400v160ZM180-400h160v-160H180v160Zm440 0h160v-160H620v160ZM180-180h160v-160H180v160Zm440 0h160v-160H620v160Z\"/>\n",
              "  </svg>\n",
              "    </button>\n",
              "\n",
              "  <style>\n",
              "    .colab-df-container {\n",
              "      display:flex;\n",
              "      gap: 12px;\n",
              "    }\n",
              "\n",
              "    .colab-df-convert {\n",
              "      background-color: #E8F0FE;\n",
              "      border: none;\n",
              "      border-radius: 50%;\n",
              "      cursor: pointer;\n",
              "      display: none;\n",
              "      fill: #1967D2;\n",
              "      height: 32px;\n",
              "      padding: 0 0 0 0;\n",
              "      width: 32px;\n",
              "    }\n",
              "\n",
              "    .colab-df-convert:hover {\n",
              "      background-color: #E2EBFA;\n",
              "      box-shadow: 0px 1px 2px rgba(60, 64, 67, 0.3), 0px 1px 3px 1px rgba(60, 64, 67, 0.15);\n",
              "      fill: #174EA6;\n",
              "    }\n",
              "\n",
              "    .colab-df-buttons div {\n",
              "      margin-bottom: 4px;\n",
              "    }\n",
              "\n",
              "    [theme=dark] .colab-df-convert {\n",
              "      background-color: #3B4455;\n",
              "      fill: #D2E3FC;\n",
              "    }\n",
              "\n",
              "    [theme=dark] .colab-df-convert:hover {\n",
              "      background-color: #434B5C;\n",
              "      box-shadow: 0px 1px 3px 1px rgba(0, 0, 0, 0.15);\n",
              "      filter: drop-shadow(0px 1px 2px rgba(0, 0, 0, 0.3));\n",
              "      fill: #FFFFFF;\n",
              "    }\n",
              "  </style>\n",
              "\n",
              "    <script>\n",
              "      const buttonEl =\n",
              "        document.querySelector('#df-8701ac6e-bed0-4c7e-87c3-fffa7fc7606d button.colab-df-convert');\n",
              "      buttonEl.style.display =\n",
              "        google.colab.kernel.accessAllowed ? 'block' : 'none';\n",
              "\n",
              "      async function convertToInteractive(key) {\n",
              "        const element = document.querySelector('#df-8701ac6e-bed0-4c7e-87c3-fffa7fc7606d');\n",
              "        const dataTable =\n",
              "          await google.colab.kernel.invokeFunction('convertToInteractive',\n",
              "                                                    [key], {});\n",
              "        if (!dataTable) return;\n",
              "\n",
              "        const docLinkHtml = 'Like what you see? Visit the ' +\n",
              "          '<a target=\"_blank\" href=https://colab.research.google.com/notebooks/data_table.ipynb>data table notebook</a>'\n",
              "          + ' to learn more about interactive tables.';\n",
              "        element.innerHTML = '';\n",
              "        dataTable['output_type'] = 'display_data';\n",
              "        await google.colab.output.renderOutput(dataTable, element);\n",
              "        const docLink = document.createElement('div');\n",
              "        docLink.innerHTML = docLinkHtml;\n",
              "        element.appendChild(docLink);\n",
              "      }\n",
              "    </script>\n",
              "  </div>\n",
              "\n",
              "\n",
              "<div id=\"df-be40c653-f8b1-4828-82e8-2c7626db554c\">\n",
              "  <button class=\"colab-df-quickchart\" onclick=\"quickchart('df-be40c653-f8b1-4828-82e8-2c7626db554c')\"\n",
              "            title=\"Suggest charts\"\n",
              "            style=\"display:none;\">\n",
              "\n",
              "<svg xmlns=\"http://www.w3.org/2000/svg\" height=\"24px\"viewBox=\"0 0 24 24\"\n",
              "     width=\"24px\">\n",
              "    <g>\n",
              "        <path d=\"M19 3H5c-1.1 0-2 .9-2 2v14c0 1.1.9 2 2 2h14c1.1 0 2-.9 2-2V5c0-1.1-.9-2-2-2zM9 17H7v-7h2v7zm4 0h-2V7h2v10zm4 0h-2v-4h2v4z\"/>\n",
              "    </g>\n",
              "</svg>\n",
              "  </button>\n",
              "\n",
              "<style>\n",
              "  .colab-df-quickchart {\n",
              "      --bg-color: #E8F0FE;\n",
              "      --fill-color: #1967D2;\n",
              "      --hover-bg-color: #E2EBFA;\n",
              "      --hover-fill-color: #174EA6;\n",
              "      --disabled-fill-color: #AAA;\n",
              "      --disabled-bg-color: #DDD;\n",
              "  }\n",
              "\n",
              "  [theme=dark] .colab-df-quickchart {\n",
              "      --bg-color: #3B4455;\n",
              "      --fill-color: #D2E3FC;\n",
              "      --hover-bg-color: #434B5C;\n",
              "      --hover-fill-color: #FFFFFF;\n",
              "      --disabled-bg-color: #3B4455;\n",
              "      --disabled-fill-color: #666;\n",
              "  }\n",
              "\n",
              "  .colab-df-quickchart {\n",
              "    background-color: var(--bg-color);\n",
              "    border: none;\n",
              "    border-radius: 50%;\n",
              "    cursor: pointer;\n",
              "    display: none;\n",
              "    fill: var(--fill-color);\n",
              "    height: 32px;\n",
              "    padding: 0;\n",
              "    width: 32px;\n",
              "  }\n",
              "\n",
              "  .colab-df-quickchart:hover {\n",
              "    background-color: var(--hover-bg-color);\n",
              "    box-shadow: 0 1px 2px rgba(60, 64, 67, 0.3), 0 1px 3px 1px rgba(60, 64, 67, 0.15);\n",
              "    fill: var(--button-hover-fill-color);\n",
              "  }\n",
              "\n",
              "  .colab-df-quickchart-complete:disabled,\n",
              "  .colab-df-quickchart-complete:disabled:hover {\n",
              "    background-color: var(--disabled-bg-color);\n",
              "    fill: var(--disabled-fill-color);\n",
              "    box-shadow: none;\n",
              "  }\n",
              "\n",
              "  .colab-df-spinner {\n",
              "    border: 2px solid var(--fill-color);\n",
              "    border-color: transparent;\n",
              "    border-bottom-color: var(--fill-color);\n",
              "    animation:\n",
              "      spin 1s steps(1) infinite;\n",
              "  }\n",
              "\n",
              "  @keyframes spin {\n",
              "    0% {\n",
              "      border-color: transparent;\n",
              "      border-bottom-color: var(--fill-color);\n",
              "      border-left-color: var(--fill-color);\n",
              "    }\n",
              "    20% {\n",
              "      border-color: transparent;\n",
              "      border-left-color: var(--fill-color);\n",
              "      border-top-color: var(--fill-color);\n",
              "    }\n",
              "    30% {\n",
              "      border-color: transparent;\n",
              "      border-left-color: var(--fill-color);\n",
              "      border-top-color: var(--fill-color);\n",
              "      border-right-color: var(--fill-color);\n",
              "    }\n",
              "    40% {\n",
              "      border-color: transparent;\n",
              "      border-right-color: var(--fill-color);\n",
              "      border-top-color: var(--fill-color);\n",
              "    }\n",
              "    60% {\n",
              "      border-color: transparent;\n",
              "      border-right-color: var(--fill-color);\n",
              "    }\n",
              "    80% {\n",
              "      border-color: transparent;\n",
              "      border-right-color: var(--fill-color);\n",
              "      border-bottom-color: var(--fill-color);\n",
              "    }\n",
              "    90% {\n",
              "      border-color: transparent;\n",
              "      border-bottom-color: var(--fill-color);\n",
              "    }\n",
              "  }\n",
              "</style>\n",
              "\n",
              "  <script>\n",
              "    async function quickchart(key) {\n",
              "      const quickchartButtonEl =\n",
              "        document.querySelector('#' + key + ' button');\n",
              "      quickchartButtonEl.disabled = true;  // To prevent multiple clicks.\n",
              "      quickchartButtonEl.classList.add('colab-df-spinner');\n",
              "      try {\n",
              "        const charts = await google.colab.kernel.invokeFunction(\n",
              "            'suggestCharts', [key], {});\n",
              "      } catch (error) {\n",
              "        console.error('Error during call to suggestCharts:', error);\n",
              "      }\n",
              "      quickchartButtonEl.classList.remove('colab-df-spinner');\n",
              "      quickchartButtonEl.classList.add('colab-df-quickchart-complete');\n",
              "    }\n",
              "    (() => {\n",
              "      let quickchartButtonEl =\n",
              "        document.querySelector('#df-be40c653-f8b1-4828-82e8-2c7626db554c button');\n",
              "      quickchartButtonEl.style.display =\n",
              "        google.colab.kernel.accessAllowed ? 'block' : 'none';\n",
              "    })();\n",
              "  </script>\n",
              "</div>\n",
              "    </div>\n",
              "  </div>\n"
            ],
            "application/vnd.google.colaboratory.intrinsic+json": {
              "type": "dataframe",
              "variable_name": "df_model"
            }
          },
          "metadata": {},
          "execution_count": 87
        }
      ]
    },
    {
      "cell_type": "code",
      "source": [
        "amenities =  ['AirConditioning',\n",
        "  'AirportTransfer',\n",
        "  'Bar',\n",
        "  'FreeAirportTransportation',\n",
        "  'FreeBreakfast',\n",
        "  'FreeParking',\n",
        "  'FreeWiFi',\n",
        "  'Gym',\n",
        "  'HighSpeedInternet',\n",
        "  'HotTub',\n",
        "  'LaundryFacility',\n",
        "  'Parking',\n",
        "  'PetsAllowed',\n",
        "  'PrivatePool',\n",
        "  'SpaServices',\n",
        "  'SwimmingPool',\n",
        "  'WasherDryer',\n",
        "  'WiFi']\n",
        "\n",
        "\n",
        "\n",
        "# change type to category:\n",
        "for amenity in amenities:\n",
        "  df_model[amenity] = df_model[amenity].astype('int')"
      ],
      "metadata": {
        "id": "uifYi1S8xnxM"
      },
      "execution_count": 88,
      "outputs": []
    },
    {
      "cell_type": "code",
      "source": [
        "# df_model['is_mobile'] = df_model['is_mobile'].astype('category')\n",
        "# df_model['is_free_cancellation'] = df_model['is_free_cancellation'].astype('category')\n",
        "# df_model['is_drr'] = df_model['is_drr'].astype('category')\n",
        "df_model['checkin_day'] = df_model['checkin_day'].astype('category')\n",
        "df_model['checkout_day'] = df_model['checkout_day'].astype('category')"
      ],
      "metadata": {
        "id": "kn9KF69Acqkm"
      },
      "execution_count": 89,
      "outputs": []
    },
    {
      "cell_type": "code",
      "source": [
        "df_model.dtypes"
      ],
      "metadata": {
        "colab": {
          "base_uri": "https://localhost:8080/"
        },
        "id": "-QfSevXsl22X",
        "outputId": "260eb574-946d-427a-d02f-b64aa77aef38"
      },
      "execution_count": 90,
      "outputs": [
        {
          "output_type": "execute_result",
          "data": {
            "text/plain": [
              "search_id                       int64\n",
              "point_of_sale                   int64\n",
              "geo_location_country            int64\n",
              "is_mobile                       int64\n",
              "destination_id                  int64\n",
              "adult_count                     int64\n",
              "child_count                     int64\n",
              "length_of_stay                float64\n",
              "booking_window                float64\n",
              "checkin_day                  category\n",
              "checkout_day                 category\n",
              "review_rating                 float64\n",
              "review_count                  float64\n",
              "star_rating                   float64\n",
              "is_free_cancellation            int64\n",
              "is_drr                          int64\n",
              "price_bucket                  float64\n",
              "rank_noad                     float64\n",
              "AirConditioning                 int64\n",
              "AirportTransfer                 int64\n",
              "Bar                             int64\n",
              "FreeAirportTransportation       int64\n",
              "FreeBreakfast                   int64\n",
              "FreeParking                     int64\n",
              "FreeWiFi                        int64\n",
              "Gym                             int64\n",
              "HighSpeedInternet               int64\n",
              "HotTub                          int64\n",
              "LaundryFacility                 int64\n",
              "Parking                         int64\n",
              "PetsAllowed                     int64\n",
              "PrivatePool                     int64\n",
              "SpaServices                     int64\n",
              "SwimmingPool                    int64\n",
              "WasherDryer                     int64\n",
              "WiFi                            int64\n",
              "relevance                       int64\n",
              "checkin_month                category\n",
              "dtype: object"
            ]
          },
          "metadata": {},
          "execution_count": 90
        }
      ]
    },
    {
      "cell_type": "code",
      "source": [
        "## keep only integer/float columns for XGB\n",
        "df_model.head()"
      ],
      "metadata": {
        "colab": {
          "base_uri": "https://localhost:8080/",
          "height": 256
        },
        "id": "bKDKaEWCKtbh",
        "outputId": "9e91b893-703b-45fe-ce3e-8beb4edb93e9"
      },
      "execution_count": 91,
      "outputs": [
        {
          "output_type": "execute_result",
          "data": {
            "text/plain": [
              "   search_id  point_of_sale  geo_location_country  is_mobile  destination_id  \\\n",
              "0          2              1                     1          0              49   \n",
              "3          2              1                     1          0              49   \n",
              "4          2              1                     1          0              49   \n",
              "5          2              1                     1          0              49   \n",
              "6          2              1                     1          0              49   \n",
              "\n",
              "   adult_count  child_count  length_of_stay  booking_window checkin_day  ...  \\\n",
              "0            2            0             5.0            26.0           2  ...   \n",
              "3            2            0             5.0            26.0           2  ...   \n",
              "4            2            0             5.0            26.0           2  ...   \n",
              "5            2            0             5.0            26.0           2  ...   \n",
              "6            2            0             5.0            26.0           2  ...   \n",
              "\n",
              "  LaundryFacility  Parking  PetsAllowed  PrivatePool  SpaServices  \\\n",
              "0               1        0            0            0            0   \n",
              "3               1        1            1            0            0   \n",
              "4               1        1            1            0            0   \n",
              "5               1        0            1            0            0   \n",
              "6               1        1            0            0            0   \n",
              "\n",
              "   SwimmingPool  WasherDryer  WiFi  relevance  checkin_month  \n",
              "0             0            0     0          1              7  \n",
              "3             0            0     1          0              7  \n",
              "4             0            0     0          0              7  \n",
              "5             0            0     0          0              7  \n",
              "6             0            0     0          0              7  \n",
              "\n",
              "[5 rows x 38 columns]"
            ],
            "text/html": [
              "\n",
              "  <div id=\"df-6a3e8922-43f1-4a6e-a40c-e1dd99cc147d\" class=\"colab-df-container\">\n",
              "    <div>\n",
              "<style scoped>\n",
              "    .dataframe tbody tr th:only-of-type {\n",
              "        vertical-align: middle;\n",
              "    }\n",
              "\n",
              "    .dataframe tbody tr th {\n",
              "        vertical-align: top;\n",
              "    }\n",
              "\n",
              "    .dataframe thead th {\n",
              "        text-align: right;\n",
              "    }\n",
              "</style>\n",
              "<table border=\"1\" class=\"dataframe\">\n",
              "  <thead>\n",
              "    <tr style=\"text-align: right;\">\n",
              "      <th></th>\n",
              "      <th>search_id</th>\n",
              "      <th>point_of_sale</th>\n",
              "      <th>geo_location_country</th>\n",
              "      <th>is_mobile</th>\n",
              "      <th>destination_id</th>\n",
              "      <th>adult_count</th>\n",
              "      <th>child_count</th>\n",
              "      <th>length_of_stay</th>\n",
              "      <th>booking_window</th>\n",
              "      <th>checkin_day</th>\n",
              "      <th>...</th>\n",
              "      <th>LaundryFacility</th>\n",
              "      <th>Parking</th>\n",
              "      <th>PetsAllowed</th>\n",
              "      <th>PrivatePool</th>\n",
              "      <th>SpaServices</th>\n",
              "      <th>SwimmingPool</th>\n",
              "      <th>WasherDryer</th>\n",
              "      <th>WiFi</th>\n",
              "      <th>relevance</th>\n",
              "      <th>checkin_month</th>\n",
              "    </tr>\n",
              "  </thead>\n",
              "  <tbody>\n",
              "    <tr>\n",
              "      <th>0</th>\n",
              "      <td>2</td>\n",
              "      <td>1</td>\n",
              "      <td>1</td>\n",
              "      <td>0</td>\n",
              "      <td>49</td>\n",
              "      <td>2</td>\n",
              "      <td>0</td>\n",
              "      <td>5.0</td>\n",
              "      <td>26.0</td>\n",
              "      <td>2</td>\n",
              "      <td>...</td>\n",
              "      <td>1</td>\n",
              "      <td>0</td>\n",
              "      <td>0</td>\n",
              "      <td>0</td>\n",
              "      <td>0</td>\n",
              "      <td>0</td>\n",
              "      <td>0</td>\n",
              "      <td>0</td>\n",
              "      <td>1</td>\n",
              "      <td>7</td>\n",
              "    </tr>\n",
              "    <tr>\n",
              "      <th>3</th>\n",
              "      <td>2</td>\n",
              "      <td>1</td>\n",
              "      <td>1</td>\n",
              "      <td>0</td>\n",
              "      <td>49</td>\n",
              "      <td>2</td>\n",
              "      <td>0</td>\n",
              "      <td>5.0</td>\n",
              "      <td>26.0</td>\n",
              "      <td>2</td>\n",
              "      <td>...</td>\n",
              "      <td>1</td>\n",
              "      <td>1</td>\n",
              "      <td>1</td>\n",
              "      <td>0</td>\n",
              "      <td>0</td>\n",
              "      <td>0</td>\n",
              "      <td>0</td>\n",
              "      <td>1</td>\n",
              "      <td>0</td>\n",
              "      <td>7</td>\n",
              "    </tr>\n",
              "    <tr>\n",
              "      <th>4</th>\n",
              "      <td>2</td>\n",
              "      <td>1</td>\n",
              "      <td>1</td>\n",
              "      <td>0</td>\n",
              "      <td>49</td>\n",
              "      <td>2</td>\n",
              "      <td>0</td>\n",
              "      <td>5.0</td>\n",
              "      <td>26.0</td>\n",
              "      <td>2</td>\n",
              "      <td>...</td>\n",
              "      <td>1</td>\n",
              "      <td>1</td>\n",
              "      <td>1</td>\n",
              "      <td>0</td>\n",
              "      <td>0</td>\n",
              "      <td>0</td>\n",
              "      <td>0</td>\n",
              "      <td>0</td>\n",
              "      <td>0</td>\n",
              "      <td>7</td>\n",
              "    </tr>\n",
              "    <tr>\n",
              "      <th>5</th>\n",
              "      <td>2</td>\n",
              "      <td>1</td>\n",
              "      <td>1</td>\n",
              "      <td>0</td>\n",
              "      <td>49</td>\n",
              "      <td>2</td>\n",
              "      <td>0</td>\n",
              "      <td>5.0</td>\n",
              "      <td>26.0</td>\n",
              "      <td>2</td>\n",
              "      <td>...</td>\n",
              "      <td>1</td>\n",
              "      <td>0</td>\n",
              "      <td>1</td>\n",
              "      <td>0</td>\n",
              "      <td>0</td>\n",
              "      <td>0</td>\n",
              "      <td>0</td>\n",
              "      <td>0</td>\n",
              "      <td>0</td>\n",
              "      <td>7</td>\n",
              "    </tr>\n",
              "    <tr>\n",
              "      <th>6</th>\n",
              "      <td>2</td>\n",
              "      <td>1</td>\n",
              "      <td>1</td>\n",
              "      <td>0</td>\n",
              "      <td>49</td>\n",
              "      <td>2</td>\n",
              "      <td>0</td>\n",
              "      <td>5.0</td>\n",
              "      <td>26.0</td>\n",
              "      <td>2</td>\n",
              "      <td>...</td>\n",
              "      <td>1</td>\n",
              "      <td>1</td>\n",
              "      <td>0</td>\n",
              "      <td>0</td>\n",
              "      <td>0</td>\n",
              "      <td>0</td>\n",
              "      <td>0</td>\n",
              "      <td>0</td>\n",
              "      <td>0</td>\n",
              "      <td>7</td>\n",
              "    </tr>\n",
              "  </tbody>\n",
              "</table>\n",
              "<p>5 rows × 38 columns</p>\n",
              "</div>\n",
              "    <div class=\"colab-df-buttons\">\n",
              "\n",
              "  <div class=\"colab-df-container\">\n",
              "    <button class=\"colab-df-convert\" onclick=\"convertToInteractive('df-6a3e8922-43f1-4a6e-a40c-e1dd99cc147d')\"\n",
              "            title=\"Convert this dataframe to an interactive table.\"\n",
              "            style=\"display:none;\">\n",
              "\n",
              "  <svg xmlns=\"http://www.w3.org/2000/svg\" height=\"24px\" viewBox=\"0 -960 960 960\">\n",
              "    <path d=\"M120-120v-720h720v720H120Zm60-500h600v-160H180v160Zm220 220h160v-160H400v160Zm0 220h160v-160H400v160ZM180-400h160v-160H180v160Zm440 0h160v-160H620v160ZM180-180h160v-160H180v160Zm440 0h160v-160H620v160Z\"/>\n",
              "  </svg>\n",
              "    </button>\n",
              "\n",
              "  <style>\n",
              "    .colab-df-container {\n",
              "      display:flex;\n",
              "      gap: 12px;\n",
              "    }\n",
              "\n",
              "    .colab-df-convert {\n",
              "      background-color: #E8F0FE;\n",
              "      border: none;\n",
              "      border-radius: 50%;\n",
              "      cursor: pointer;\n",
              "      display: none;\n",
              "      fill: #1967D2;\n",
              "      height: 32px;\n",
              "      padding: 0 0 0 0;\n",
              "      width: 32px;\n",
              "    }\n",
              "\n",
              "    .colab-df-convert:hover {\n",
              "      background-color: #E2EBFA;\n",
              "      box-shadow: 0px 1px 2px rgba(60, 64, 67, 0.3), 0px 1px 3px 1px rgba(60, 64, 67, 0.15);\n",
              "      fill: #174EA6;\n",
              "    }\n",
              "\n",
              "    .colab-df-buttons div {\n",
              "      margin-bottom: 4px;\n",
              "    }\n",
              "\n",
              "    [theme=dark] .colab-df-convert {\n",
              "      background-color: #3B4455;\n",
              "      fill: #D2E3FC;\n",
              "    }\n",
              "\n",
              "    [theme=dark] .colab-df-convert:hover {\n",
              "      background-color: #434B5C;\n",
              "      box-shadow: 0px 1px 3px 1px rgba(0, 0, 0, 0.15);\n",
              "      filter: drop-shadow(0px 1px 2px rgba(0, 0, 0, 0.3));\n",
              "      fill: #FFFFFF;\n",
              "    }\n",
              "  </style>\n",
              "\n",
              "    <script>\n",
              "      const buttonEl =\n",
              "        document.querySelector('#df-6a3e8922-43f1-4a6e-a40c-e1dd99cc147d button.colab-df-convert');\n",
              "      buttonEl.style.display =\n",
              "        google.colab.kernel.accessAllowed ? 'block' : 'none';\n",
              "\n",
              "      async function convertToInteractive(key) {\n",
              "        const element = document.querySelector('#df-6a3e8922-43f1-4a6e-a40c-e1dd99cc147d');\n",
              "        const dataTable =\n",
              "          await google.colab.kernel.invokeFunction('convertToInteractive',\n",
              "                                                    [key], {});\n",
              "        if (!dataTable) return;\n",
              "\n",
              "        const docLinkHtml = 'Like what you see? Visit the ' +\n",
              "          '<a target=\"_blank\" href=https://colab.research.google.com/notebooks/data_table.ipynb>data table notebook</a>'\n",
              "          + ' to learn more about interactive tables.';\n",
              "        element.innerHTML = '';\n",
              "        dataTable['output_type'] = 'display_data';\n",
              "        await google.colab.output.renderOutput(dataTable, element);\n",
              "        const docLink = document.createElement('div');\n",
              "        docLink.innerHTML = docLinkHtml;\n",
              "        element.appendChild(docLink);\n",
              "      }\n",
              "    </script>\n",
              "  </div>\n",
              "\n",
              "\n",
              "<div id=\"df-4864b2d8-4fcc-474f-92be-b364dd5255e8\">\n",
              "  <button class=\"colab-df-quickchart\" onclick=\"quickchart('df-4864b2d8-4fcc-474f-92be-b364dd5255e8')\"\n",
              "            title=\"Suggest charts\"\n",
              "            style=\"display:none;\">\n",
              "\n",
              "<svg xmlns=\"http://www.w3.org/2000/svg\" height=\"24px\"viewBox=\"0 0 24 24\"\n",
              "     width=\"24px\">\n",
              "    <g>\n",
              "        <path d=\"M19 3H5c-1.1 0-2 .9-2 2v14c0 1.1.9 2 2 2h14c1.1 0 2-.9 2-2V5c0-1.1-.9-2-2-2zM9 17H7v-7h2v7zm4 0h-2V7h2v10zm4 0h-2v-4h2v4z\"/>\n",
              "    </g>\n",
              "</svg>\n",
              "  </button>\n",
              "\n",
              "<style>\n",
              "  .colab-df-quickchart {\n",
              "      --bg-color: #E8F0FE;\n",
              "      --fill-color: #1967D2;\n",
              "      --hover-bg-color: #E2EBFA;\n",
              "      --hover-fill-color: #174EA6;\n",
              "      --disabled-fill-color: #AAA;\n",
              "      --disabled-bg-color: #DDD;\n",
              "  }\n",
              "\n",
              "  [theme=dark] .colab-df-quickchart {\n",
              "      --bg-color: #3B4455;\n",
              "      --fill-color: #D2E3FC;\n",
              "      --hover-bg-color: #434B5C;\n",
              "      --hover-fill-color: #FFFFFF;\n",
              "      --disabled-bg-color: #3B4455;\n",
              "      --disabled-fill-color: #666;\n",
              "  }\n",
              "\n",
              "  .colab-df-quickchart {\n",
              "    background-color: var(--bg-color);\n",
              "    border: none;\n",
              "    border-radius: 50%;\n",
              "    cursor: pointer;\n",
              "    display: none;\n",
              "    fill: var(--fill-color);\n",
              "    height: 32px;\n",
              "    padding: 0;\n",
              "    width: 32px;\n",
              "  }\n",
              "\n",
              "  .colab-df-quickchart:hover {\n",
              "    background-color: var(--hover-bg-color);\n",
              "    box-shadow: 0 1px 2px rgba(60, 64, 67, 0.3), 0 1px 3px 1px rgba(60, 64, 67, 0.15);\n",
              "    fill: var(--button-hover-fill-color);\n",
              "  }\n",
              "\n",
              "  .colab-df-quickchart-complete:disabled,\n",
              "  .colab-df-quickchart-complete:disabled:hover {\n",
              "    background-color: var(--disabled-bg-color);\n",
              "    fill: var(--disabled-fill-color);\n",
              "    box-shadow: none;\n",
              "  }\n",
              "\n",
              "  .colab-df-spinner {\n",
              "    border: 2px solid var(--fill-color);\n",
              "    border-color: transparent;\n",
              "    border-bottom-color: var(--fill-color);\n",
              "    animation:\n",
              "      spin 1s steps(1) infinite;\n",
              "  }\n",
              "\n",
              "  @keyframes spin {\n",
              "    0% {\n",
              "      border-color: transparent;\n",
              "      border-bottom-color: var(--fill-color);\n",
              "      border-left-color: var(--fill-color);\n",
              "    }\n",
              "    20% {\n",
              "      border-color: transparent;\n",
              "      border-left-color: var(--fill-color);\n",
              "      border-top-color: var(--fill-color);\n",
              "    }\n",
              "    30% {\n",
              "      border-color: transparent;\n",
              "      border-left-color: var(--fill-color);\n",
              "      border-top-color: var(--fill-color);\n",
              "      border-right-color: var(--fill-color);\n",
              "    }\n",
              "    40% {\n",
              "      border-color: transparent;\n",
              "      border-right-color: var(--fill-color);\n",
              "      border-top-color: var(--fill-color);\n",
              "    }\n",
              "    60% {\n",
              "      border-color: transparent;\n",
              "      border-right-color: var(--fill-color);\n",
              "    }\n",
              "    80% {\n",
              "      border-color: transparent;\n",
              "      border-right-color: var(--fill-color);\n",
              "      border-bottom-color: var(--fill-color);\n",
              "    }\n",
              "    90% {\n",
              "      border-color: transparent;\n",
              "      border-bottom-color: var(--fill-color);\n",
              "    }\n",
              "  }\n",
              "</style>\n",
              "\n",
              "  <script>\n",
              "    async function quickchart(key) {\n",
              "      const quickchartButtonEl =\n",
              "        document.querySelector('#' + key + ' button');\n",
              "      quickchartButtonEl.disabled = true;  // To prevent multiple clicks.\n",
              "      quickchartButtonEl.classList.add('colab-df-spinner');\n",
              "      try {\n",
              "        const charts = await google.colab.kernel.invokeFunction(\n",
              "            'suggestCharts', [key], {});\n",
              "      } catch (error) {\n",
              "        console.error('Error during call to suggestCharts:', error);\n",
              "      }\n",
              "      quickchartButtonEl.classList.remove('colab-df-spinner');\n",
              "      quickchartButtonEl.classList.add('colab-df-quickchart-complete');\n",
              "    }\n",
              "    (() => {\n",
              "      let quickchartButtonEl =\n",
              "        document.querySelector('#df-4864b2d8-4fcc-474f-92be-b364dd5255e8 button');\n",
              "      quickchartButtonEl.style.display =\n",
              "        google.colab.kernel.accessAllowed ? 'block' : 'none';\n",
              "    })();\n",
              "  </script>\n",
              "</div>\n",
              "    </div>\n",
              "  </div>\n"
            ],
            "application/vnd.google.colaboratory.intrinsic+json": {
              "type": "dataframe",
              "variable_name": "df_model"
            }
          },
          "metadata": {},
          "execution_count": 91
        }
      ]
    },
    {
      "cell_type": "code",
      "source": [
        "categorical_features = df_model.select_dtypes(include=['category']).columns.tolist()\n",
        "# numeric_features = df_model.select_dtypes(exclude=['category']).columns.tolist()\n",
        "\n",
        "\n",
        "categorical_features"
      ],
      "metadata": {
        "colab": {
          "base_uri": "https://localhost:8080/"
        },
        "id": "9K1jkcC5hIXQ",
        "outputId": "afc87f8d-d434-4007-b436-e10540670878"
      },
      "execution_count": 92,
      "outputs": [
        {
          "output_type": "execute_result",
          "data": {
            "text/plain": [
              "['checkin_day', 'checkout_day', 'checkin_month']"
            ]
          },
          "metadata": {},
          "execution_count": 92
        }
      ]
    },
    {
      "cell_type": "code",
      "source": [
        "df_model.shape"
      ],
      "metadata": {
        "colab": {
          "base_uri": "https://localhost:8080/"
        },
        "id": "wXq4g_GJN5xq",
        "outputId": "4d0207c7-91a5-4df5-fb9b-e0014f9c3174"
      },
      "execution_count": 93,
      "outputs": [
        {
          "output_type": "execute_result",
          "data": {
            "text/plain": [
              "(1633412, 38)"
            ]
          },
          "metadata": {},
          "execution_count": 93
        }
      ]
    },
    {
      "cell_type": "code",
      "source": [
        "# drop rows with NaN values\n",
        "# there should be no more rows dropped\n",
        "df_model = df_model.dropna()\n",
        "\n",
        "df_model.shape"
      ],
      "metadata": {
        "colab": {
          "base_uri": "https://localhost:8080/"
        },
        "id": "LLVjLGYX30Vj",
        "outputId": "4d70cacd-5ddc-441e-93a5-ec1dc7754c55"
      },
      "execution_count": 94,
      "outputs": [
        {
          "output_type": "execute_result",
          "data": {
            "text/plain": [
              "(1633412, 38)"
            ]
          },
          "metadata": {},
          "execution_count": 94
        }
      ]
    },
    {
      "cell_type": "code",
      "source": [
        "#### check data before test - train split\n",
        "\n",
        "# are there qids with only one row?\n",
        "# throw out rows where qid is unique - for those ndcg is not possible to calculate\n",
        "# Find counts of each group\n",
        "group_counts = df_model[\"search_id\"].value_counts()\n",
        "unique_groups = group_counts[group_counts == 1].index\n",
        "\n",
        "filtered_df = df_model[~df_model[\"search_id\"].isin(unique_groups)]\n",
        "filtered_df.shape"
      ],
      "metadata": {
        "colab": {
          "base_uri": "https://localhost:8080/"
        },
        "id": "au-ElXio7xJG",
        "outputId": "f60fdc6c-da9d-46f0-fadc-0c9a411038da"
      },
      "execution_count": 95,
      "outputs": [
        {
          "output_type": "execute_result",
          "data": {
            "text/plain": [
              "(1633131, 38)"
            ]
          },
          "metadata": {},
          "execution_count": 95
        }
      ]
    },
    {
      "cell_type": "code",
      "source": [
        "df_model = filtered_df"
      ],
      "metadata": {
        "id": "_-ECkZQpYeRC"
      },
      "execution_count": 96,
      "outputs": []
    },
    {
      "cell_type": "markdown",
      "source": [
        "#### Remove destination id from features"
      ],
      "metadata": {
        "id": "W-dHGIHQb6bK"
      }
    },
    {
      "cell_type": "code",
      "source": [
        "df_model = df_model.drop(columns = \"destination_id\")"
      ],
      "metadata": {
        "id": "dLVpJZa_b6Ev"
      },
      "execution_count": 97,
      "outputs": []
    },
    {
      "cell_type": "markdown",
      "source": [
        "#### Train test split\n",
        "\n",
        "- check here for qids with only one row/ queries with only zeros in relevance"
      ],
      "metadata": {
        "id": "CRBpRKg7Kx1n"
      }
    },
    {
      "cell_type": "code",
      "source": [
        "from sklearn.model_selection import GroupShuffleSplit\n",
        "\n",
        "def split_by_qid(df, test_size):\n",
        "    gss = GroupShuffleSplit(test_size=test_size, n_splits=1, random_state=42)\n",
        "    ids = df['search_id'].unique()\n",
        "    train_idx, test_idx = next(gss.split(ids, groups=ids))\n",
        "    return df[df['search_id'].isin(ids[train_idx])], df[df['search_id'].isin(ids[test_idx])]\n",
        "\n",
        "#_, temp_df = split_by_qid(df2, test_size=0.2)\n",
        "train_df, test_df = split_by_qid(df_model, test_size=0.3)\n",
        "\n",
        "train_df.shape, test_df.shape"
      ],
      "metadata": {
        "colab": {
          "base_uri": "https://localhost:8080/"
        },
        "id": "5QeV6PzdbTkn",
        "outputId": "867a649a-8fe6-46a6-82b9-470642e371a5"
      },
      "execution_count": 98,
      "outputs": [
        {
          "output_type": "execute_result",
          "data": {
            "text/plain": [
              "((1142054, 37), (491077, 37))"
            ]
          },
          "metadata": {},
          "execution_count": 98
        }
      ]
    },
    {
      "cell_type": "code",
      "source": [
        "# data needs to be ordered by qid for XGBRank function\n",
        "train_df = train_df.sort_values(by = \"search_id\")\n",
        "X_train = train_df.drop(columns = [\"search_id\", \"relevance\"])\n",
        "\n",
        "\n",
        "# feature names for plots later on\n",
        "#features_list = X.columns.tolist()\n",
        "\n",
        "# scale features\n",
        "#X = normalize(X)\n",
        "\n",
        "# relevance label is outcome var\n",
        "y_train = train_df[\"relevance\"]\n",
        "qid_train = train_df[\"search_id\"]"
      ],
      "metadata": {
        "id": "cy6weOYZPHYo"
      },
      "execution_count": 99,
      "outputs": []
    },
    {
      "cell_type": "code",
      "source": [
        "X_train.dtypes"
      ],
      "metadata": {
        "colab": {
          "base_uri": "https://localhost:8080/"
        },
        "id": "rla0Ti9HPxnJ",
        "outputId": "d0a43b6b-c7a4-491b-96f6-d0a8a295e6af"
      },
      "execution_count": 100,
      "outputs": [
        {
          "output_type": "execute_result",
          "data": {
            "text/plain": [
              "point_of_sale                   int64\n",
              "geo_location_country            int64\n",
              "is_mobile                       int64\n",
              "adult_count                     int64\n",
              "child_count                     int64\n",
              "length_of_stay                float64\n",
              "booking_window                float64\n",
              "checkin_day                  category\n",
              "checkout_day                 category\n",
              "review_rating                 float64\n",
              "review_count                  float64\n",
              "star_rating                   float64\n",
              "is_free_cancellation            int64\n",
              "is_drr                          int64\n",
              "price_bucket                  float64\n",
              "rank_noad                     float64\n",
              "AirConditioning                 int64\n",
              "AirportTransfer                 int64\n",
              "Bar                             int64\n",
              "FreeAirportTransportation       int64\n",
              "FreeBreakfast                   int64\n",
              "FreeParking                     int64\n",
              "FreeWiFi                        int64\n",
              "Gym                             int64\n",
              "HighSpeedInternet               int64\n",
              "HotTub                          int64\n",
              "LaundryFacility                 int64\n",
              "Parking                         int64\n",
              "PetsAllowed                     int64\n",
              "PrivatePool                     int64\n",
              "SpaServices                     int64\n",
              "SwimmingPool                    int64\n",
              "WasherDryer                     int64\n",
              "WiFi                            int64\n",
              "checkin_month                category\n",
              "dtype: object"
            ]
          },
          "metadata": {},
          "execution_count": 100
        }
      ]
    },
    {
      "cell_type": "code",
      "source": [
        "# same data format for test data\n",
        "test_df = test_df.sort_values(by = \"search_id\")\n",
        "\n",
        "X_test = test_df.drop(columns = [\"search_id\", \"relevance\"])\n",
        "\n",
        "#X_test = normalize(X_test)\n",
        "\n",
        "y_test = test_df[\"relevance\"]\n",
        "qid_test = test_df[\"search_id\"]"
      ],
      "metadata": {
        "id": "2PF00IvgPt7y"
      },
      "execution_count": 101,
      "outputs": []
    },
    {
      "cell_type": "code",
      "source": [
        "categorical_features = X_train.select_dtypes(include=['category']).columns.tolist()\n",
        "numeric_features = X_train.select_dtypes(exclude=['category']).columns.tolist()\n",
        "\n",
        "# take out destination ID and geo_location_country and point_of_sale from list so it can be encoded separately\n",
        "#numeric_features.remove(\"destination_id\")\n",
        "numeric_features.remove(\"geo_location_country\")\n",
        "numeric_features.remove(\"point_of_sale\")\n",
        "\n",
        "\n",
        "categorical_features, numeric_features"
      ],
      "metadata": {
        "colab": {
          "base_uri": "https://localhost:8080/"
        },
        "id": "bhNAAjKgn9EW",
        "outputId": "ffc6caf1-c4f3-47dd-f44e-7a8ccea74ef3"
      },
      "execution_count": 102,
      "outputs": [
        {
          "output_type": "execute_result",
          "data": {
            "text/plain": [
              "(['checkin_day', 'checkout_day', 'checkin_month'],\n",
              " ['is_mobile',\n",
              "  'adult_count',\n",
              "  'child_count',\n",
              "  'length_of_stay',\n",
              "  'booking_window',\n",
              "  'review_rating',\n",
              "  'review_count',\n",
              "  'star_rating',\n",
              "  'is_free_cancellation',\n",
              "  'is_drr',\n",
              "  'price_bucket',\n",
              "  'rank_noad',\n",
              "  'AirConditioning',\n",
              "  'AirportTransfer',\n",
              "  'Bar',\n",
              "  'FreeAirportTransportation',\n",
              "  'FreeBreakfast',\n",
              "  'FreeParking',\n",
              "  'FreeWiFi',\n",
              "  'Gym',\n",
              "  'HighSpeedInternet',\n",
              "  'HotTub',\n",
              "  'LaundryFacility',\n",
              "  'Parking',\n",
              "  'PetsAllowed',\n",
              "  'PrivatePool',\n",
              "  'SpaServices',\n",
              "  'SwimmingPool',\n",
              "  'WasherDryer',\n",
              "  'WiFi'])"
            ]
          },
          "metadata": {},
          "execution_count": 102
        }
      ]
    },
    {
      "cell_type": "markdown",
      "source": [
        "#### Feature pre-processing"
      ],
      "metadata": {
        "id": "BiMIHiTGIS0t"
      }
    },
    {
      "cell_type": "code",
      "source": [
        "!pip install category_encoders"
      ],
      "metadata": {
        "colab": {
          "base_uri": "https://localhost:8080/"
        },
        "id": "AuMqqsIpUmEI",
        "outputId": "6e04f3ac-7f85-446e-e623-8ec99631a292"
      },
      "execution_count": 103,
      "outputs": [
        {
          "output_type": "stream",
          "name": "stdout",
          "text": [
            "Collecting category_encoders\n",
            "  Downloading category_encoders-2.6.3-py2.py3-none-any.whl (81 kB)\n",
            "\u001b[?25l     \u001b[90m━━━━━━━━━━━━━━━━━━━━━━━━━━━━━━━━━━━━━━━━\u001b[0m \u001b[32m0.0/81.9 kB\u001b[0m \u001b[31m?\u001b[0m eta \u001b[36m-:--:--\u001b[0m\r\u001b[2K     \u001b[90m━━━━━━━━━━━━━━━━━━━━━━━━━━━━━━━━━━━━━━━━\u001b[0m \u001b[32m81.9/81.9 kB\u001b[0m \u001b[31m2.7 MB/s\u001b[0m eta \u001b[36m0:00:00\u001b[0m\n",
            "\u001b[?25hRequirement already satisfied: numpy>=1.14.0 in /usr/local/lib/python3.10/dist-packages (from category_encoders) (1.25.2)\n",
            "Requirement already satisfied: scikit-learn>=0.20.0 in /usr/local/lib/python3.10/dist-packages (from category_encoders) (1.2.2)\n",
            "Requirement already satisfied: scipy>=1.0.0 in /usr/local/lib/python3.10/dist-packages (from category_encoders) (1.11.4)\n",
            "Requirement already satisfied: statsmodels>=0.9.0 in /usr/local/lib/python3.10/dist-packages (from category_encoders) (0.14.2)\n",
            "Requirement already satisfied: pandas>=1.0.5 in /usr/local/lib/python3.10/dist-packages (from category_encoders) (2.0.3)\n",
            "Requirement already satisfied: patsy>=0.5.1 in /usr/local/lib/python3.10/dist-packages (from category_encoders) (0.5.6)\n",
            "Requirement already satisfied: python-dateutil>=2.8.2 in /usr/local/lib/python3.10/dist-packages (from pandas>=1.0.5->category_encoders) (2.8.2)\n",
            "Requirement already satisfied: pytz>=2020.1 in /usr/local/lib/python3.10/dist-packages (from pandas>=1.0.5->category_encoders) (2023.4)\n",
            "Requirement already satisfied: tzdata>=2022.1 in /usr/local/lib/python3.10/dist-packages (from pandas>=1.0.5->category_encoders) (2024.1)\n",
            "Requirement already satisfied: six in /usr/local/lib/python3.10/dist-packages (from patsy>=0.5.1->category_encoders) (1.16.0)\n",
            "Requirement already satisfied: joblib>=1.1.1 in /usr/local/lib/python3.10/dist-packages (from scikit-learn>=0.20.0->category_encoders) (1.4.0)\n",
            "Requirement already satisfied: threadpoolctl>=2.0.0 in /usr/local/lib/python3.10/dist-packages (from scikit-learn>=0.20.0->category_encoders) (3.4.0)\n",
            "Requirement already satisfied: packaging>=21.3 in /usr/local/lib/python3.10/dist-packages (from statsmodels>=0.9.0->category_encoders) (24.0)\n",
            "Installing collected packages: category_encoders\n",
            "Successfully installed category_encoders-2.6.3\n"
          ]
        }
      ]
    },
    {
      "cell_type": "code",
      "source": [
        "import sklearn\n",
        "import category_encoders as ce\n",
        "from sklearn.preprocessing import StandardScaler\n",
        "### encode categorical with high cardinality\n",
        "sklearn.set_config(transform_output=\"pandas\")\n",
        "from category_encoders.target_encoder import TargetEncoder\n",
        "\n"
      ],
      "metadata": {
        "id": "biUiETuoKCDC"
      },
      "execution_count": 104,
      "outputs": []
    },
    {
      "cell_type": "code",
      "source": [
        "### encode destination ID and geo_location_country and point_of_sale\n",
        "enc = TargetEncoder(cols=[\"geo_location_country\", \"point_of_sale\"]).fit(X_train, y_train)\n",
        "\n",
        "X_train = enc.transform(X_train)\n",
        "X_test = enc.transform(X_test)"
      ],
      "metadata": {
        "id": "8hj_r0OxUxMv"
      },
      "execution_count": 105,
      "outputs": []
    },
    {
      "cell_type": "code",
      "source": [
        "X_train.dtypes"
      ],
      "metadata": {
        "colab": {
          "base_uri": "https://localhost:8080/"
        },
        "id": "G9aXbYX1WJJr",
        "outputId": "f9c73a91-8cd2-4608-c300-f9365f5ed2ef"
      },
      "execution_count": 106,
      "outputs": [
        {
          "output_type": "execute_result",
          "data": {
            "text/plain": [
              "point_of_sale                 float64\n",
              "geo_location_country          float64\n",
              "is_mobile                       int64\n",
              "adult_count                     int64\n",
              "child_count                     int64\n",
              "length_of_stay                float64\n",
              "booking_window                float64\n",
              "checkin_day                  category\n",
              "checkout_day                 category\n",
              "review_rating                 float64\n",
              "review_count                  float64\n",
              "star_rating                   float64\n",
              "is_free_cancellation            int64\n",
              "is_drr                          int64\n",
              "price_bucket                  float64\n",
              "rank_noad                     float64\n",
              "AirConditioning                 int64\n",
              "AirportTransfer                 int64\n",
              "Bar                             int64\n",
              "FreeAirportTransportation       int64\n",
              "FreeBreakfast                   int64\n",
              "FreeParking                     int64\n",
              "FreeWiFi                        int64\n",
              "Gym                             int64\n",
              "HighSpeedInternet               int64\n",
              "HotTub                          int64\n",
              "LaundryFacility                 int64\n",
              "Parking                         int64\n",
              "PetsAllowed                     int64\n",
              "PrivatePool                     int64\n",
              "SpaServices                     int64\n",
              "SwimmingPool                    int64\n",
              "WasherDryer                     int64\n",
              "WiFi                            int64\n",
              "checkin_month                category\n",
              "dtype: object"
            ]
          },
          "metadata": {},
          "execution_count": 106
        }
      ]
    },
    {
      "cell_type": "code",
      "source": [
        "# remove ordinal features before scaling of numeric\n",
        "# most binary features are already 0, 1 encoded\n",
        "\n",
        "numeric_features = ['adult_count',\n",
        " 'child_count',\n",
        " 'length_of_stay',\n",
        " 'booking_window',\n",
        " 'review_count']\n",
        "\n",
        "numeric_features, categorical_features"
      ],
      "metadata": {
        "id": "QtvQKSyyhQXJ",
        "colab": {
          "base_uri": "https://localhost:8080/"
        },
        "outputId": "01985544-2c18-41a4-e4b8-4272454db4cb"
      },
      "execution_count": 107,
      "outputs": [
        {
          "output_type": "execute_result",
          "data": {
            "text/plain": [
              "(['adult_count',\n",
              "  'child_count',\n",
              "  'length_of_stay',\n",
              "  'booking_window',\n",
              "  'review_count'],\n",
              " ['checkin_day', 'checkout_day', 'checkin_month'])"
            ]
          },
          "metadata": {},
          "execution_count": 107
        }
      ]
    },
    {
      "cell_type": "code",
      "source": [
        "# scale numerical\n",
        "scaler=StandardScaler()\n",
        "X_train[numeric_features] = scaler.fit_transform(X_train[numeric_features])\n",
        "X_test[numeric_features] = scaler.transform(X_test[numeric_features])"
      ],
      "metadata": {
        "id": "L5bdqyul33NQ"
      },
      "execution_count": 108,
      "outputs": []
    },
    {
      "cell_type": "code",
      "source": [
        "# create dummies for categorical\n",
        "\n",
        "X_train = pd.get_dummies(X_train, columns=categorical_features)\n",
        "X_test = pd.get_dummies(X_test, columns=categorical_features)"
      ],
      "metadata": {
        "id": "PCRGE20rhTvE"
      },
      "execution_count": 109,
      "outputs": []
    },
    {
      "cell_type": "code",
      "source": [
        "X_train.head()"
      ],
      "metadata": {
        "colab": {
          "base_uri": "https://localhost:8080/",
          "height": 256
        },
        "id": "xyGezmGhhWan",
        "outputId": "4c4419d2-c07c-472f-9976-466dde99f65d"
      },
      "execution_count": 110,
      "outputs": [
        {
          "output_type": "execute_result",
          "data": {
            "text/plain": [
              "    point_of_sale  geo_location_country  is_mobile  adult_count  child_count  \\\n",
              "0        0.072653              0.073411          0    -0.213174    -0.346087   \n",
              "27       0.072653              0.073411          0    -0.213174    -0.346087   \n",
              "25       0.072653              0.073411          0    -0.213174    -0.346087   \n",
              "24       0.072653              0.073411          0    -0.213174    -0.346087   \n",
              "23       0.072653              0.073411          0    -0.213174    -0.346087   \n",
              "\n",
              "    length_of_stay  booking_window  review_rating  review_count  star_rating  \\\n",
              "0         0.856117       -0.242449            4.0     -0.043666          4.0   \n",
              "27        0.856117       -0.242449            5.0     -0.248428          5.0   \n",
              "25        0.856117       -0.242449            4.0     -0.092418          4.0   \n",
              "24        0.856117       -0.242449            5.0      0.005087          5.0   \n",
              "23        0.856117       -0.242449            4.0     -0.131421          5.0   \n",
              "\n",
              "    ...  checkin_month_3  checkin_month_4  checkin_month_5  checkin_month_6  \\\n",
              "0   ...            False            False            False            False   \n",
              "27  ...            False            False            False            False   \n",
              "25  ...            False            False            False            False   \n",
              "24  ...            False            False            False            False   \n",
              "23  ...            False            False            False            False   \n",
              "\n",
              "    checkin_month_7  checkin_month_8  checkin_month_9  checkin_month_10  \\\n",
              "0              True            False            False             False   \n",
              "27             True            False            False             False   \n",
              "25             True            False            False             False   \n",
              "24             True            False            False             False   \n",
              "23             True            False            False             False   \n",
              "\n",
              "    checkin_month_11  checkin_month_12  \n",
              "0              False             False  \n",
              "27             False             False  \n",
              "25             False             False  \n",
              "24             False             False  \n",
              "23             False             False  \n",
              "\n",
              "[5 rows x 58 columns]"
            ],
            "text/html": [
              "\n",
              "  <div id=\"df-aca9d6ea-b0ed-4e2e-8b6c-718c979f8b6e\" class=\"colab-df-container\">\n",
              "    <div>\n",
              "<style scoped>\n",
              "    .dataframe tbody tr th:only-of-type {\n",
              "        vertical-align: middle;\n",
              "    }\n",
              "\n",
              "    .dataframe tbody tr th {\n",
              "        vertical-align: top;\n",
              "    }\n",
              "\n",
              "    .dataframe thead th {\n",
              "        text-align: right;\n",
              "    }\n",
              "</style>\n",
              "<table border=\"1\" class=\"dataframe\">\n",
              "  <thead>\n",
              "    <tr style=\"text-align: right;\">\n",
              "      <th></th>\n",
              "      <th>point_of_sale</th>\n",
              "      <th>geo_location_country</th>\n",
              "      <th>is_mobile</th>\n",
              "      <th>adult_count</th>\n",
              "      <th>child_count</th>\n",
              "      <th>length_of_stay</th>\n",
              "      <th>booking_window</th>\n",
              "      <th>review_rating</th>\n",
              "      <th>review_count</th>\n",
              "      <th>star_rating</th>\n",
              "      <th>...</th>\n",
              "      <th>checkin_month_3</th>\n",
              "      <th>checkin_month_4</th>\n",
              "      <th>checkin_month_5</th>\n",
              "      <th>checkin_month_6</th>\n",
              "      <th>checkin_month_7</th>\n",
              "      <th>checkin_month_8</th>\n",
              "      <th>checkin_month_9</th>\n",
              "      <th>checkin_month_10</th>\n",
              "      <th>checkin_month_11</th>\n",
              "      <th>checkin_month_12</th>\n",
              "    </tr>\n",
              "  </thead>\n",
              "  <tbody>\n",
              "    <tr>\n",
              "      <th>0</th>\n",
              "      <td>0.072653</td>\n",
              "      <td>0.073411</td>\n",
              "      <td>0</td>\n",
              "      <td>-0.213174</td>\n",
              "      <td>-0.346087</td>\n",
              "      <td>0.856117</td>\n",
              "      <td>-0.242449</td>\n",
              "      <td>4.0</td>\n",
              "      <td>-0.043666</td>\n",
              "      <td>4.0</td>\n",
              "      <td>...</td>\n",
              "      <td>False</td>\n",
              "      <td>False</td>\n",
              "      <td>False</td>\n",
              "      <td>False</td>\n",
              "      <td>True</td>\n",
              "      <td>False</td>\n",
              "      <td>False</td>\n",
              "      <td>False</td>\n",
              "      <td>False</td>\n",
              "      <td>False</td>\n",
              "    </tr>\n",
              "    <tr>\n",
              "      <th>27</th>\n",
              "      <td>0.072653</td>\n",
              "      <td>0.073411</td>\n",
              "      <td>0</td>\n",
              "      <td>-0.213174</td>\n",
              "      <td>-0.346087</td>\n",
              "      <td>0.856117</td>\n",
              "      <td>-0.242449</td>\n",
              "      <td>5.0</td>\n",
              "      <td>-0.248428</td>\n",
              "      <td>5.0</td>\n",
              "      <td>...</td>\n",
              "      <td>False</td>\n",
              "      <td>False</td>\n",
              "      <td>False</td>\n",
              "      <td>False</td>\n",
              "      <td>True</td>\n",
              "      <td>False</td>\n",
              "      <td>False</td>\n",
              "      <td>False</td>\n",
              "      <td>False</td>\n",
              "      <td>False</td>\n",
              "    </tr>\n",
              "    <tr>\n",
              "      <th>25</th>\n",
              "      <td>0.072653</td>\n",
              "      <td>0.073411</td>\n",
              "      <td>0</td>\n",
              "      <td>-0.213174</td>\n",
              "      <td>-0.346087</td>\n",
              "      <td>0.856117</td>\n",
              "      <td>-0.242449</td>\n",
              "      <td>4.0</td>\n",
              "      <td>-0.092418</td>\n",
              "      <td>4.0</td>\n",
              "      <td>...</td>\n",
              "      <td>False</td>\n",
              "      <td>False</td>\n",
              "      <td>False</td>\n",
              "      <td>False</td>\n",
              "      <td>True</td>\n",
              "      <td>False</td>\n",
              "      <td>False</td>\n",
              "      <td>False</td>\n",
              "      <td>False</td>\n",
              "      <td>False</td>\n",
              "    </tr>\n",
              "    <tr>\n",
              "      <th>24</th>\n",
              "      <td>0.072653</td>\n",
              "      <td>0.073411</td>\n",
              "      <td>0</td>\n",
              "      <td>-0.213174</td>\n",
              "      <td>-0.346087</td>\n",
              "      <td>0.856117</td>\n",
              "      <td>-0.242449</td>\n",
              "      <td>5.0</td>\n",
              "      <td>0.005087</td>\n",
              "      <td>5.0</td>\n",
              "      <td>...</td>\n",
              "      <td>False</td>\n",
              "      <td>False</td>\n",
              "      <td>False</td>\n",
              "      <td>False</td>\n",
              "      <td>True</td>\n",
              "      <td>False</td>\n",
              "      <td>False</td>\n",
              "      <td>False</td>\n",
              "      <td>False</td>\n",
              "      <td>False</td>\n",
              "    </tr>\n",
              "    <tr>\n",
              "      <th>23</th>\n",
              "      <td>0.072653</td>\n",
              "      <td>0.073411</td>\n",
              "      <td>0</td>\n",
              "      <td>-0.213174</td>\n",
              "      <td>-0.346087</td>\n",
              "      <td>0.856117</td>\n",
              "      <td>-0.242449</td>\n",
              "      <td>4.0</td>\n",
              "      <td>-0.131421</td>\n",
              "      <td>5.0</td>\n",
              "      <td>...</td>\n",
              "      <td>False</td>\n",
              "      <td>False</td>\n",
              "      <td>False</td>\n",
              "      <td>False</td>\n",
              "      <td>True</td>\n",
              "      <td>False</td>\n",
              "      <td>False</td>\n",
              "      <td>False</td>\n",
              "      <td>False</td>\n",
              "      <td>False</td>\n",
              "    </tr>\n",
              "  </tbody>\n",
              "</table>\n",
              "<p>5 rows × 58 columns</p>\n",
              "</div>\n",
              "    <div class=\"colab-df-buttons\">\n",
              "\n",
              "  <div class=\"colab-df-container\">\n",
              "    <button class=\"colab-df-convert\" onclick=\"convertToInteractive('df-aca9d6ea-b0ed-4e2e-8b6c-718c979f8b6e')\"\n",
              "            title=\"Convert this dataframe to an interactive table.\"\n",
              "            style=\"display:none;\">\n",
              "\n",
              "  <svg xmlns=\"http://www.w3.org/2000/svg\" height=\"24px\" viewBox=\"0 -960 960 960\">\n",
              "    <path d=\"M120-120v-720h720v720H120Zm60-500h600v-160H180v160Zm220 220h160v-160H400v160Zm0 220h160v-160H400v160ZM180-400h160v-160H180v160Zm440 0h160v-160H620v160ZM180-180h160v-160H180v160Zm440 0h160v-160H620v160Z\"/>\n",
              "  </svg>\n",
              "    </button>\n",
              "\n",
              "  <style>\n",
              "    .colab-df-container {\n",
              "      display:flex;\n",
              "      gap: 12px;\n",
              "    }\n",
              "\n",
              "    .colab-df-convert {\n",
              "      background-color: #E8F0FE;\n",
              "      border: none;\n",
              "      border-radius: 50%;\n",
              "      cursor: pointer;\n",
              "      display: none;\n",
              "      fill: #1967D2;\n",
              "      height: 32px;\n",
              "      padding: 0 0 0 0;\n",
              "      width: 32px;\n",
              "    }\n",
              "\n",
              "    .colab-df-convert:hover {\n",
              "      background-color: #E2EBFA;\n",
              "      box-shadow: 0px 1px 2px rgba(60, 64, 67, 0.3), 0px 1px 3px 1px rgba(60, 64, 67, 0.15);\n",
              "      fill: #174EA6;\n",
              "    }\n",
              "\n",
              "    .colab-df-buttons div {\n",
              "      margin-bottom: 4px;\n",
              "    }\n",
              "\n",
              "    [theme=dark] .colab-df-convert {\n",
              "      background-color: #3B4455;\n",
              "      fill: #D2E3FC;\n",
              "    }\n",
              "\n",
              "    [theme=dark] .colab-df-convert:hover {\n",
              "      background-color: #434B5C;\n",
              "      box-shadow: 0px 1px 3px 1px rgba(0, 0, 0, 0.15);\n",
              "      filter: drop-shadow(0px 1px 2px rgba(0, 0, 0, 0.3));\n",
              "      fill: #FFFFFF;\n",
              "    }\n",
              "  </style>\n",
              "\n",
              "    <script>\n",
              "      const buttonEl =\n",
              "        document.querySelector('#df-aca9d6ea-b0ed-4e2e-8b6c-718c979f8b6e button.colab-df-convert');\n",
              "      buttonEl.style.display =\n",
              "        google.colab.kernel.accessAllowed ? 'block' : 'none';\n",
              "\n",
              "      async function convertToInteractive(key) {\n",
              "        const element = document.querySelector('#df-aca9d6ea-b0ed-4e2e-8b6c-718c979f8b6e');\n",
              "        const dataTable =\n",
              "          await google.colab.kernel.invokeFunction('convertToInteractive',\n",
              "                                                    [key], {});\n",
              "        if (!dataTable) return;\n",
              "\n",
              "        const docLinkHtml = 'Like what you see? Visit the ' +\n",
              "          '<a target=\"_blank\" href=https://colab.research.google.com/notebooks/data_table.ipynb>data table notebook</a>'\n",
              "          + ' to learn more about interactive tables.';\n",
              "        element.innerHTML = '';\n",
              "        dataTable['output_type'] = 'display_data';\n",
              "        await google.colab.output.renderOutput(dataTable, element);\n",
              "        const docLink = document.createElement('div');\n",
              "        docLink.innerHTML = docLinkHtml;\n",
              "        element.appendChild(docLink);\n",
              "      }\n",
              "    </script>\n",
              "  </div>\n",
              "\n",
              "\n",
              "<div id=\"df-dd417201-4bb1-4ddc-98c8-7c0c96afd64f\">\n",
              "  <button class=\"colab-df-quickchart\" onclick=\"quickchart('df-dd417201-4bb1-4ddc-98c8-7c0c96afd64f')\"\n",
              "            title=\"Suggest charts\"\n",
              "            style=\"display:none;\">\n",
              "\n",
              "<svg xmlns=\"http://www.w3.org/2000/svg\" height=\"24px\"viewBox=\"0 0 24 24\"\n",
              "     width=\"24px\">\n",
              "    <g>\n",
              "        <path d=\"M19 3H5c-1.1 0-2 .9-2 2v14c0 1.1.9 2 2 2h14c1.1 0 2-.9 2-2V5c0-1.1-.9-2-2-2zM9 17H7v-7h2v7zm4 0h-2V7h2v10zm4 0h-2v-4h2v4z\"/>\n",
              "    </g>\n",
              "</svg>\n",
              "  </button>\n",
              "\n",
              "<style>\n",
              "  .colab-df-quickchart {\n",
              "      --bg-color: #E8F0FE;\n",
              "      --fill-color: #1967D2;\n",
              "      --hover-bg-color: #E2EBFA;\n",
              "      --hover-fill-color: #174EA6;\n",
              "      --disabled-fill-color: #AAA;\n",
              "      --disabled-bg-color: #DDD;\n",
              "  }\n",
              "\n",
              "  [theme=dark] .colab-df-quickchart {\n",
              "      --bg-color: #3B4455;\n",
              "      --fill-color: #D2E3FC;\n",
              "      --hover-bg-color: #434B5C;\n",
              "      --hover-fill-color: #FFFFFF;\n",
              "      --disabled-bg-color: #3B4455;\n",
              "      --disabled-fill-color: #666;\n",
              "  }\n",
              "\n",
              "  .colab-df-quickchart {\n",
              "    background-color: var(--bg-color);\n",
              "    border: none;\n",
              "    border-radius: 50%;\n",
              "    cursor: pointer;\n",
              "    display: none;\n",
              "    fill: var(--fill-color);\n",
              "    height: 32px;\n",
              "    padding: 0;\n",
              "    width: 32px;\n",
              "  }\n",
              "\n",
              "  .colab-df-quickchart:hover {\n",
              "    background-color: var(--hover-bg-color);\n",
              "    box-shadow: 0 1px 2px rgba(60, 64, 67, 0.3), 0 1px 3px 1px rgba(60, 64, 67, 0.15);\n",
              "    fill: var(--button-hover-fill-color);\n",
              "  }\n",
              "\n",
              "  .colab-df-quickchart-complete:disabled,\n",
              "  .colab-df-quickchart-complete:disabled:hover {\n",
              "    background-color: var(--disabled-bg-color);\n",
              "    fill: var(--disabled-fill-color);\n",
              "    box-shadow: none;\n",
              "  }\n",
              "\n",
              "  .colab-df-spinner {\n",
              "    border: 2px solid var(--fill-color);\n",
              "    border-color: transparent;\n",
              "    border-bottom-color: var(--fill-color);\n",
              "    animation:\n",
              "      spin 1s steps(1) infinite;\n",
              "  }\n",
              "\n",
              "  @keyframes spin {\n",
              "    0% {\n",
              "      border-color: transparent;\n",
              "      border-bottom-color: var(--fill-color);\n",
              "      border-left-color: var(--fill-color);\n",
              "    }\n",
              "    20% {\n",
              "      border-color: transparent;\n",
              "      border-left-color: var(--fill-color);\n",
              "      border-top-color: var(--fill-color);\n",
              "    }\n",
              "    30% {\n",
              "      border-color: transparent;\n",
              "      border-left-color: var(--fill-color);\n",
              "      border-top-color: var(--fill-color);\n",
              "      border-right-color: var(--fill-color);\n",
              "    }\n",
              "    40% {\n",
              "      border-color: transparent;\n",
              "      border-right-color: var(--fill-color);\n",
              "      border-top-color: var(--fill-color);\n",
              "    }\n",
              "    60% {\n",
              "      border-color: transparent;\n",
              "      border-right-color: var(--fill-color);\n",
              "    }\n",
              "    80% {\n",
              "      border-color: transparent;\n",
              "      border-right-color: var(--fill-color);\n",
              "      border-bottom-color: var(--fill-color);\n",
              "    }\n",
              "    90% {\n",
              "      border-color: transparent;\n",
              "      border-bottom-color: var(--fill-color);\n",
              "    }\n",
              "  }\n",
              "</style>\n",
              "\n",
              "  <script>\n",
              "    async function quickchart(key) {\n",
              "      const quickchartButtonEl =\n",
              "        document.querySelector('#' + key + ' button');\n",
              "      quickchartButtonEl.disabled = true;  // To prevent multiple clicks.\n",
              "      quickchartButtonEl.classList.add('colab-df-spinner');\n",
              "      try {\n",
              "        const charts = await google.colab.kernel.invokeFunction(\n",
              "            'suggestCharts', [key], {});\n",
              "      } catch (error) {\n",
              "        console.error('Error during call to suggestCharts:', error);\n",
              "      }\n",
              "      quickchartButtonEl.classList.remove('colab-df-spinner');\n",
              "      quickchartButtonEl.classList.add('colab-df-quickchart-complete');\n",
              "    }\n",
              "    (() => {\n",
              "      let quickchartButtonEl =\n",
              "        document.querySelector('#df-dd417201-4bb1-4ddc-98c8-7c0c96afd64f button');\n",
              "      quickchartButtonEl.style.display =\n",
              "        google.colab.kernel.accessAllowed ? 'block' : 'none';\n",
              "    })();\n",
              "  </script>\n",
              "</div>\n",
              "    </div>\n",
              "  </div>\n"
            ],
            "application/vnd.google.colaboratory.intrinsic+json": {
              "type": "dataframe",
              "variable_name": "X_train"
            }
          },
          "metadata": {},
          "execution_count": 110
        }
      ]
    },
    {
      "cell_type": "code",
      "source": [
        "X_train.dtypes"
      ],
      "metadata": {
        "id": "-L_Kpy7HUYub",
        "colab": {
          "base_uri": "https://localhost:8080/"
        },
        "outputId": "7f5d0962-f009-4460-9608-3c62a368e4fd"
      },
      "execution_count": 111,
      "outputs": [
        {
          "output_type": "execute_result",
          "data": {
            "text/plain": [
              "point_of_sale                float64\n",
              "geo_location_country         float64\n",
              "is_mobile                      int64\n",
              "adult_count                  float64\n",
              "child_count                  float64\n",
              "length_of_stay               float64\n",
              "booking_window               float64\n",
              "review_rating                float64\n",
              "review_count                 float64\n",
              "star_rating                  float64\n",
              "is_free_cancellation           int64\n",
              "is_drr                         int64\n",
              "price_bucket                 float64\n",
              "rank_noad                    float64\n",
              "AirConditioning                int64\n",
              "AirportTransfer                int64\n",
              "Bar                            int64\n",
              "FreeAirportTransportation      int64\n",
              "FreeBreakfast                  int64\n",
              "FreeParking                    int64\n",
              "FreeWiFi                       int64\n",
              "Gym                            int64\n",
              "HighSpeedInternet              int64\n",
              "HotTub                         int64\n",
              "LaundryFacility                int64\n",
              "Parking                        int64\n",
              "PetsAllowed                    int64\n",
              "PrivatePool                    int64\n",
              "SpaServices                    int64\n",
              "SwimmingPool                   int64\n",
              "WasherDryer                    int64\n",
              "WiFi                           int64\n",
              "checkin_day_0                   bool\n",
              "checkin_day_1                   bool\n",
              "checkin_day_2                   bool\n",
              "checkin_day_3                   bool\n",
              "checkin_day_4                   bool\n",
              "checkin_day_5                   bool\n",
              "checkin_day_6                   bool\n",
              "checkout_day_0                  bool\n",
              "checkout_day_1                  bool\n",
              "checkout_day_2                  bool\n",
              "checkout_day_3                  bool\n",
              "checkout_day_4                  bool\n",
              "checkout_day_5                  bool\n",
              "checkout_day_6                  bool\n",
              "checkin_month_1                 bool\n",
              "checkin_month_2                 bool\n",
              "checkin_month_3                 bool\n",
              "checkin_month_4                 bool\n",
              "checkin_month_5                 bool\n",
              "checkin_month_6                 bool\n",
              "checkin_month_7                 bool\n",
              "checkin_month_8                 bool\n",
              "checkin_month_9                 bool\n",
              "checkin_month_10                bool\n",
              "checkin_month_11                bool\n",
              "checkin_month_12                bool\n",
              "dtype: object"
            ]
          },
          "metadata": {},
          "execution_count": 111
        }
      ]
    },
    {
      "cell_type": "code",
      "source": [
        "#len(group_train)"
      ],
      "metadata": {
        "id": "2rlNaNUk9d1Z"
      },
      "execution_count": 112,
      "outputs": []
    },
    {
      "cell_type": "code",
      "source": [
        "import xgboost as xgb"
      ],
      "metadata": {
        "id": "v7_sUpqeOm19"
      },
      "execution_count": 113,
      "outputs": []
    },
    {
      "cell_type": "code",
      "source": [
        "# use the examplary code from xgboost documentation as a starting point:\n",
        "# https://xgboost.readthedocs.io/en/stable/python/examples/learning_to_rank.html#sphx-glr-python-examples-learning-to-rank-py\n",
        "# specifically for click data\n",
        "\n",
        "ranker = xgb.XGBRanker(\n",
        "        n_estimators=100, #512\n",
        "        tree_method=\"hist\",\n",
        "        #device=\"cuda\",\n",
        "        learning_rate=0.01,\n",
        "        reg_lambda=0.05,\n",
        "        subsample=0.8,\n",
        "        #sampling_method=\"gradient_based\",\n",
        "        # to handle categorical features with many features\n",
        "        #enable_categorical=True,\n",
        "        # above 7 categories no one hot encoding\n",
        "        #max_cat_to_onehot = 7,\n",
        "        #max_cat_threshold = 15,\n",
        "        # LTR specific parameters\n",
        "        objective=\"rank:ndcg\",\n",
        "        # - Enable bias estimation\n",
        "        lambdarank_unbiased=True,\n",
        "        # - normalization (1 / (norm + 1))\n",
        "        lambdarank_bias_norm=1,\n",
        "        # - Focus on the top 12 documents\n",
        "        lambdarank_num_pair_per_sample=12,\n",
        "        lambdarank_pair_method=\"topk\",\n",
        "        ndcg_exp_gain=True,\n",
        "        eval_metric=[\"ndcg@1\", \"ndcg@3\", \"ndcg@5\", \"ndcg@10\", \"ndcg@50\"],\n",
        "        lambdarank_normalization = False\n",
        " )"
      ],
      "metadata": {
        "id": "OO1JJgMymL15"
      },
      "execution_count": 114,
      "outputs": []
    },
    {
      "cell_type": "code",
      "source": [
        "# ranker = xgb.XGBRanker(\n",
        "#        n_estimators=1000,\n",
        "#        learning_rate=0.1,\n",
        "#        objective='rank:pairwise', # this is RankNet loss or the pairwise logistic loss\n",
        "#        lambdarank_num_pair_per_sample=25,\n",
        "#        lambdarank_pair_method=\"topk\",\n",
        "#        reg_lambda=0.05,\n",
        "#        # verbose = True,\n",
        "#        tree_method = 'hist',\n",
        "#        eval_metric = 'ndcg',\n",
        "#        eta = 0.3\n",
        "#    )\n",
        "\n"
      ],
      "metadata": {
        "id": "uUgklupOOt7L"
      },
      "execution_count": 115,
      "outputs": []
    },
    {
      "cell_type": "code",
      "source": [
        "#corr = X_train[[\"point_of_sale\", \"geo_location_country\", \"is_mobile\",\n",
        "#                \"destination_id\", \"adult_count\", \"child_count\", \"length_of_stay\",\n",
        "#                \"booking_window\", \"review_rating\", \"review_count\", \"star_rating\",\n",
        "#                \"is_free_cancellation\", \"is_drr\", \"price_bucket\",\n",
        "#                \"rank_noad\"]].corr(numeric_only=True)"
      ],
      "metadata": {
        "id": "Yo2J79r1Fbe_"
      },
      "execution_count": 116,
      "outputs": []
    },
    {
      "cell_type": "code",
      "source": [
        "# import seaborn as sns\n",
        "# sns.heatmap(corr)"
      ],
      "metadata": {
        "id": "I3r6N5SewfIM"
      },
      "execution_count": 117,
      "outputs": []
    },
    {
      "cell_type": "code",
      "source": [
        "# fit on training data\n",
        "\n",
        "ranker.fit(\n",
        "    X_train,\n",
        "    y_train,\n",
        "    qid=qid_train,\n",
        "    eval_set=[(X_test, y_test)],\n",
        "    eval_qid=[qid_test],\n",
        "    verbose = True,\n",
        "    early_stopping_rounds = 15\n",
        ")"
      ],
      "metadata": {
        "id": "IMuLMWlQ7FjV",
        "colab": {
          "base_uri": "https://localhost:8080/",
          "height": 915
        },
        "outputId": "9d7bcf9d-21c4-47f0-deea-37282b5627da"
      },
      "execution_count": 118,
      "outputs": [
        {
          "output_type": "stream",
          "name": "stderr",
          "text": [
            "/usr/local/lib/python3.10/dist-packages/xgboost/sklearn.py:889: UserWarning: `early_stopping_rounds` in `fit` method is deprecated for better compatibility with scikit-learn, use `early_stopping_rounds` in constructor or`set_params` instead.\n",
            "  warnings.warn(\n",
            "/usr/local/lib/python3.10/dist-packages/xgboost/core.py:160: UserWarning: [13:34:51] WARNING: /workspace/src/learner.cc:742: \n",
            "Parameters: { \"lambdarank_normalization\" } are not used.\n",
            "\n",
            "  warnings.warn(smsg, UserWarning)\n"
          ]
        },
        {
          "output_type": "stream",
          "name": "stdout",
          "text": [
            "[0]\tvalidation_0-ndcg@1:0.49377\tvalidation_0-ndcg@3:0.53342\tvalidation_0-ndcg@5:0.56999\tvalidation_0-ndcg@10:0.62160\tvalidation_0-ndcg@50:0.68053\n",
            "[1]\tvalidation_0-ndcg@1:0.49338\tvalidation_0-ndcg@3:0.53737\tvalidation_0-ndcg@5:0.57308\tvalidation_0-ndcg@10:0.62454\tvalidation_0-ndcg@50:0.68234\n",
            "[2]\tvalidation_0-ndcg@1:0.49357\tvalidation_0-ndcg@3:0.53766\tvalidation_0-ndcg@5:0.57350\tvalidation_0-ndcg@10:0.62516\tvalidation_0-ndcg@50:0.68279\n",
            "[3]\tvalidation_0-ndcg@1:0.49338\tvalidation_0-ndcg@3:0.53785\tvalidation_0-ndcg@5:0.57366\tvalidation_0-ndcg@10:0.62544\tvalidation_0-ndcg@50:0.68273\n",
            "[4]\tvalidation_0-ndcg@1:0.49362\tvalidation_0-ndcg@3:0.53825\tvalidation_0-ndcg@5:0.57466\tvalidation_0-ndcg@10:0.62562\tvalidation_0-ndcg@50:0.68308\n",
            "[5]\tvalidation_0-ndcg@1:0.49382\tvalidation_0-ndcg@3:0.53853\tvalidation_0-ndcg@5:0.57460\tvalidation_0-ndcg@10:0.62564\tvalidation_0-ndcg@50:0.68318\n",
            "[6]\tvalidation_0-ndcg@1:0.49367\tvalidation_0-ndcg@3:0.53839\tvalidation_0-ndcg@5:0.57430\tvalidation_0-ndcg@10:0.62576\tvalidation_0-ndcg@50:0.68322\n",
            "[7]\tvalidation_0-ndcg@1:0.49362\tvalidation_0-ndcg@3:0.53846\tvalidation_0-ndcg@5:0.57402\tvalidation_0-ndcg@10:0.62578\tvalidation_0-ndcg@50:0.68316\n",
            "[8]\tvalidation_0-ndcg@1:0.49349\tvalidation_0-ndcg@3:0.53832\tvalidation_0-ndcg@5:0.57387\tvalidation_0-ndcg@10:0.62578\tvalidation_0-ndcg@50:0.68309\n",
            "[9]\tvalidation_0-ndcg@1:0.49349\tvalidation_0-ndcg@3:0.53821\tvalidation_0-ndcg@5:0.57412\tvalidation_0-ndcg@10:0.62601\tvalidation_0-ndcg@50:0.68312\n",
            "[10]\tvalidation_0-ndcg@1:0.49364\tvalidation_0-ndcg@3:0.53846\tvalidation_0-ndcg@5:0.57425\tvalidation_0-ndcg@10:0.62609\tvalidation_0-ndcg@50:0.68334\n",
            "[11]\tvalidation_0-ndcg@1:0.49383\tvalidation_0-ndcg@3:0.53852\tvalidation_0-ndcg@5:0.57427\tvalidation_0-ndcg@10:0.62624\tvalidation_0-ndcg@50:0.68335\n",
            "[12]\tvalidation_0-ndcg@1:0.49383\tvalidation_0-ndcg@3:0.53845\tvalidation_0-ndcg@5:0.57415\tvalidation_0-ndcg@10:0.62610\tvalidation_0-ndcg@50:0.68332\n",
            "[13]\tvalidation_0-ndcg@1:0.49378\tvalidation_0-ndcg@3:0.53869\tvalidation_0-ndcg@5:0.57437\tvalidation_0-ndcg@10:0.62623\tvalidation_0-ndcg@50:0.68337\n",
            "[14]\tvalidation_0-ndcg@1:0.49398\tvalidation_0-ndcg@3:0.53862\tvalidation_0-ndcg@5:0.57450\tvalidation_0-ndcg@10:0.62636\tvalidation_0-ndcg@50:0.68344\n",
            "[15]\tvalidation_0-ndcg@1:0.49398\tvalidation_0-ndcg@3:0.53902\tvalidation_0-ndcg@5:0.57488\tvalidation_0-ndcg@10:0.62638\tvalidation_0-ndcg@50:0.68356\n",
            "[16]\tvalidation_0-ndcg@1:0.49388\tvalidation_0-ndcg@3:0.53867\tvalidation_0-ndcg@5:0.57482\tvalidation_0-ndcg@10:0.62647\tvalidation_0-ndcg@50:0.68344\n",
            "[17]\tvalidation_0-ndcg@1:0.49383\tvalidation_0-ndcg@3:0.53827\tvalidation_0-ndcg@5:0.57463\tvalidation_0-ndcg@10:0.62628\tvalidation_0-ndcg@50:0.68334\n",
            "[18]\tvalidation_0-ndcg@1:0.49388\tvalidation_0-ndcg@3:0.53863\tvalidation_0-ndcg@5:0.57452\tvalidation_0-ndcg@10:0.62631\tvalidation_0-ndcg@50:0.68339\n",
            "[19]\tvalidation_0-ndcg@1:0.49393\tvalidation_0-ndcg@3:0.53866\tvalidation_0-ndcg@5:0.57455\tvalidation_0-ndcg@10:0.62640\tvalidation_0-ndcg@50:0.68346\n",
            "[20]\tvalidation_0-ndcg@1:0.49388\tvalidation_0-ndcg@3:0.53890\tvalidation_0-ndcg@5:0.57471\tvalidation_0-ndcg@10:0.62628\tvalidation_0-ndcg@50:0.68345\n",
            "[21]\tvalidation_0-ndcg@1:0.49393\tvalidation_0-ndcg@3:0.53906\tvalidation_0-ndcg@5:0.57495\tvalidation_0-ndcg@10:0.62635\tvalidation_0-ndcg@50:0.68352\n",
            "[22]\tvalidation_0-ndcg@1:0.49398\tvalidation_0-ndcg@3:0.53887\tvalidation_0-ndcg@5:0.57473\tvalidation_0-ndcg@10:0.62642\tvalidation_0-ndcg@50:0.68346\n",
            "[23]\tvalidation_0-ndcg@1:0.49398\tvalidation_0-ndcg@3:0.53880\tvalidation_0-ndcg@5:0.57470\tvalidation_0-ndcg@10:0.62636\tvalidation_0-ndcg@50:0.68347\n",
            "[24]\tvalidation_0-ndcg@1:0.49407\tvalidation_0-ndcg@3:0.53888\tvalidation_0-ndcg@5:0.57476\tvalidation_0-ndcg@10:0.62658\tvalidation_0-ndcg@50:0.68352\n",
            "[25]\tvalidation_0-ndcg@1:0.49403\tvalidation_0-ndcg@3:0.53887\tvalidation_0-ndcg@5:0.57488\tvalidation_0-ndcg@10:0.62653\tvalidation_0-ndcg@50:0.68352\n",
            "[26]\tvalidation_0-ndcg@1:0.49388\tvalidation_0-ndcg@3:0.53869\tvalidation_0-ndcg@5:0.57491\tvalidation_0-ndcg@10:0.62643\tvalidation_0-ndcg@50:0.68351\n",
            "[27]\tvalidation_0-ndcg@1:0.49378\tvalidation_0-ndcg@3:0.53869\tvalidation_0-ndcg@5:0.57481\tvalidation_0-ndcg@10:0.62653\tvalidation_0-ndcg@50:0.68348\n",
            "[28]\tvalidation_0-ndcg@1:0.49369\tvalidation_0-ndcg@3:0.53869\tvalidation_0-ndcg@5:0.57445\tvalidation_0-ndcg@10:0.62648\tvalidation_0-ndcg@50:0.68339\n",
            "[29]\tvalidation_0-ndcg@1:0.49378\tvalidation_0-ndcg@3:0.53855\tvalidation_0-ndcg@5:0.57469\tvalidation_0-ndcg@10:0.62661\tvalidation_0-ndcg@50:0.68342\n"
          ]
        },
        {
          "output_type": "execute_result",
          "data": {
            "text/plain": [
              "XGBRanker(base_score=None, booster=None, callbacks=None, colsample_bylevel=None,\n",
              "          colsample_bynode=None, colsample_bytree=None, device=None,\n",
              "          early_stopping_rounds=None, enable_categorical=False,\n",
              "          eval_metric=['ndcg@1', 'ndcg@3', 'ndcg@5', 'ndcg@10', 'ndcg@50'],\n",
              "          feature_types=None, gamma=None, grow_policy=None,\n",
              "          importance_type=None, interaction_constraints=None,\n",
              "          lambdarank_bias_norm=1, lambdarank_normalization=False,\n",
              "          lambdarank_num_pair_per_sample=12, lambdarank_pair_method='topk',\n",
              "          lambdarank_unbiased=True, learning_rate=0.01, max_bin=None,\n",
              "          max_cat_threshold=None, max_cat_to_onehot=None, max_delta_step=None,\n",
              "          max_depth=None, max_leaves=None, min_child_weight=None, missing=nan,\n",
              "          monotone_constraints=None, ...)"
            ],
            "text/html": [
              "<style>#sk-container-id-1 {color: black;background-color: white;}#sk-container-id-1 pre{padding: 0;}#sk-container-id-1 div.sk-toggleable {background-color: white;}#sk-container-id-1 label.sk-toggleable__label {cursor: pointer;display: block;width: 100%;margin-bottom: 0;padding: 0.3em;box-sizing: border-box;text-align: center;}#sk-container-id-1 label.sk-toggleable__label-arrow:before {content: \"▸\";float: left;margin-right: 0.25em;color: #696969;}#sk-container-id-1 label.sk-toggleable__label-arrow:hover:before {color: black;}#sk-container-id-1 div.sk-estimator:hover label.sk-toggleable__label-arrow:before {color: black;}#sk-container-id-1 div.sk-toggleable__content {max-height: 0;max-width: 0;overflow: hidden;text-align: left;background-color: #f0f8ff;}#sk-container-id-1 div.sk-toggleable__content pre {margin: 0.2em;color: black;border-radius: 0.25em;background-color: #f0f8ff;}#sk-container-id-1 input.sk-toggleable__control:checked~div.sk-toggleable__content {max-height: 200px;max-width: 100%;overflow: auto;}#sk-container-id-1 input.sk-toggleable__control:checked~label.sk-toggleable__label-arrow:before {content: \"▾\";}#sk-container-id-1 div.sk-estimator input.sk-toggleable__control:checked~label.sk-toggleable__label {background-color: #d4ebff;}#sk-container-id-1 div.sk-label input.sk-toggleable__control:checked~label.sk-toggleable__label {background-color: #d4ebff;}#sk-container-id-1 input.sk-hidden--visually {border: 0;clip: rect(1px 1px 1px 1px);clip: rect(1px, 1px, 1px, 1px);height: 1px;margin: -1px;overflow: hidden;padding: 0;position: absolute;width: 1px;}#sk-container-id-1 div.sk-estimator {font-family: monospace;background-color: #f0f8ff;border: 1px dotted black;border-radius: 0.25em;box-sizing: border-box;margin-bottom: 0.5em;}#sk-container-id-1 div.sk-estimator:hover {background-color: #d4ebff;}#sk-container-id-1 div.sk-parallel-item::after {content: \"\";width: 100%;border-bottom: 1px solid gray;flex-grow: 1;}#sk-container-id-1 div.sk-label:hover label.sk-toggleable__label {background-color: #d4ebff;}#sk-container-id-1 div.sk-serial::before {content: \"\";position: absolute;border-left: 1px solid gray;box-sizing: border-box;top: 0;bottom: 0;left: 50%;z-index: 0;}#sk-container-id-1 div.sk-serial {display: flex;flex-direction: column;align-items: center;background-color: white;padding-right: 0.2em;padding-left: 0.2em;position: relative;}#sk-container-id-1 div.sk-item {position: relative;z-index: 1;}#sk-container-id-1 div.sk-parallel {display: flex;align-items: stretch;justify-content: center;background-color: white;position: relative;}#sk-container-id-1 div.sk-item::before, #sk-container-id-1 div.sk-parallel-item::before {content: \"\";position: absolute;border-left: 1px solid gray;box-sizing: border-box;top: 0;bottom: 0;left: 50%;z-index: -1;}#sk-container-id-1 div.sk-parallel-item {display: flex;flex-direction: column;z-index: 1;position: relative;background-color: white;}#sk-container-id-1 div.sk-parallel-item:first-child::after {align-self: flex-end;width: 50%;}#sk-container-id-1 div.sk-parallel-item:last-child::after {align-self: flex-start;width: 50%;}#sk-container-id-1 div.sk-parallel-item:only-child::after {width: 0;}#sk-container-id-1 div.sk-dashed-wrapped {border: 1px dashed gray;margin: 0 0.4em 0.5em 0.4em;box-sizing: border-box;padding-bottom: 0.4em;background-color: white;}#sk-container-id-1 div.sk-label label {font-family: monospace;font-weight: bold;display: inline-block;line-height: 1.2em;}#sk-container-id-1 div.sk-label-container {text-align: center;}#sk-container-id-1 div.sk-container {/* jupyter's `normalize.less` sets `[hidden] { display: none; }` but bootstrap.min.css set `[hidden] { display: none !important; }` so we also need the `!important` here to be able to override the default hidden behavior on the sphinx rendered scikit-learn.org. See: https://github.com/scikit-learn/scikit-learn/issues/21755 */display: inline-block !important;position: relative;}#sk-container-id-1 div.sk-text-repr-fallback {display: none;}</style><div id=\"sk-container-id-1\" class=\"sk-top-container\"><div class=\"sk-text-repr-fallback\"><pre>XGBRanker(base_score=None, booster=None, callbacks=None, colsample_bylevel=None,\n",
              "          colsample_bynode=None, colsample_bytree=None, device=None,\n",
              "          early_stopping_rounds=None, enable_categorical=False,\n",
              "          eval_metric=[&#x27;ndcg@1&#x27;, &#x27;ndcg@3&#x27;, &#x27;ndcg@5&#x27;, &#x27;ndcg@10&#x27;, &#x27;ndcg@50&#x27;],\n",
              "          feature_types=None, gamma=None, grow_policy=None,\n",
              "          importance_type=None, interaction_constraints=None,\n",
              "          lambdarank_bias_norm=1, lambdarank_normalization=False,\n",
              "          lambdarank_num_pair_per_sample=12, lambdarank_pair_method=&#x27;topk&#x27;,\n",
              "          lambdarank_unbiased=True, learning_rate=0.01, max_bin=None,\n",
              "          max_cat_threshold=None, max_cat_to_onehot=None, max_delta_step=None,\n",
              "          max_depth=None, max_leaves=None, min_child_weight=None, missing=nan,\n",
              "          monotone_constraints=None, ...)</pre><b>In a Jupyter environment, please rerun this cell to show the HTML representation or trust the notebook. <br />On GitHub, the HTML representation is unable to render, please try loading this page with nbviewer.org.</b></div><div class=\"sk-container\" hidden><div class=\"sk-item\"><div class=\"sk-estimator sk-toggleable\"><input class=\"sk-toggleable__control sk-hidden--visually\" id=\"sk-estimator-id-1\" type=\"checkbox\" checked><label for=\"sk-estimator-id-1\" class=\"sk-toggleable__label sk-toggleable__label-arrow\">XGBRanker</label><div class=\"sk-toggleable__content\"><pre>XGBRanker(base_score=None, booster=None, callbacks=None, colsample_bylevel=None,\n",
              "          colsample_bynode=None, colsample_bytree=None, device=None,\n",
              "          early_stopping_rounds=None, enable_categorical=False,\n",
              "          eval_metric=[&#x27;ndcg@1&#x27;, &#x27;ndcg@3&#x27;, &#x27;ndcg@5&#x27;, &#x27;ndcg@10&#x27;, &#x27;ndcg@50&#x27;],\n",
              "          feature_types=None, gamma=None, grow_policy=None,\n",
              "          importance_type=None, interaction_constraints=None,\n",
              "          lambdarank_bias_norm=1, lambdarank_normalization=False,\n",
              "          lambdarank_num_pair_per_sample=12, lambdarank_pair_method=&#x27;topk&#x27;,\n",
              "          lambdarank_unbiased=True, learning_rate=0.01, max_bin=None,\n",
              "          max_cat_threshold=None, max_cat_to_onehot=None, max_delta_step=None,\n",
              "          max_depth=None, max_leaves=None, min_child_weight=None, missing=nan,\n",
              "          monotone_constraints=None, ...)</pre></div></div></div></div></div>"
            ]
          },
          "metadata": {},
          "execution_count": 118
        }
      ]
    },
    {
      "cell_type": "code",
      "source": [
        "#ranker.evals_result_"
      ],
      "metadata": {
        "id": "cjQrgCJ2M49p"
      },
      "execution_count": 119,
      "outputs": []
    },
    {
      "cell_type": "code",
      "source": [
        "# from sklearn.model_selection import StratifiedGroupKFold, cross_val_score\n",
        "# Works with cv in scikit-learn, along with HPO utilities like GridSearchCV\n",
        "# kfold = StratifiedGroupKFold(n_splits = 5, shuffle=False)\n",
        "\n",
        "# what is the default scoring for XGBRanker -> is it eval_metric from the model above\n",
        "\n",
        "# cross_val_score(ranker, X, y, cv=kfold, groups=X.qid)"
      ],
      "metadata": {
        "id": "pMuxiHl7Qvps"
      },
      "execution_count": 120,
      "outputs": []
    },
    {
      "cell_type": "markdown",
      "source": [
        "Prediction: needs to be done by query in query_test\n",
        "\n",
        "---\n",
        "\n",
        "To do:\n",
        "- calculate a scores by query, then calculate ndcg for each query\n",
        "- how needs data to be stored/ordered/porvided?\n",
        "- what is the scoring function used as default\n",
        "- should it be replaced by NDCG?"
      ],
      "metadata": {
        "id": "d0PWzNJmSL0k"
      }
    },
    {
      "cell_type": "code",
      "source": [
        "import numpy as np\n",
        "\n",
        "def ndcg(y_score, y_true, k):\n",
        "    order = np.argsort(y_score)[::-1]\n",
        "    y_true = np.take(y_true, order[:k])\n",
        "\n",
        "    gain = 2 ** y_true - 1\n",
        "\n",
        "    discounts = np.log2(np.arange(len(y_true)) + 2)\n",
        "    return np.sum(gain / discounts)"
      ],
      "metadata": {
        "id": "_LL_RxCXKDk7"
      },
      "execution_count": null,
      "outputs": []
    },
    {
      "cell_type": "code",
      "source": [
        "\n",
        "\n",
        "#y_true = y_test[qid_test == qid]\n",
        "#y_score = ranker.predict(X_test[qid_test == qid])"
      ],
      "metadata": {
        "id": "J-uDoqtBgZ4o"
      },
      "execution_count": null,
      "outputs": []
    },
    {
      "cell_type": "code",
      "source": [
        "# this yields the same result as ndcg@10 when I provide the eval set in the ranker.fit\n",
        "# https://forecastegy.com/posts/xgboost-learning-to-rank-python/\n",
        "\n",
        "# here I did not provide eval_set and calculated the NDCG \"by hand\" with ranker.predict\n",
        "qids = np.unique(qid_test)\n",
        "\n",
        "\n",
        "ndcg_ = list()\n",
        "\n",
        "for i, qid in enumerate(qids):\n",
        "    y = y_test[qid_test == qid]\n",
        "\n",
        "    if np.sum(y) == 0:\n",
        "        continue\n",
        "\n",
        "    p = ranker.predict(X_test[qid_test == qid])\n",
        "\n",
        "    idcg = ndcg(y, y, k=10)\n",
        "    ndcg_.append(ndcg(p, y, k=10) / idcg)\n",
        "\n",
        "np.mean(ndcg_)\n",
        "# 0.618\n",
        "\n",
        "# calculates scores over all queries\n",
        "# scores = ranker.predict(X_test, qid = qid_test)\n",
        "\n",
        "# y_test_df = pd.DataFrame({\"relevance\": y_test, \"predicted_scores\": scores, \"qid\": qid_test})"
      ],
      "metadata": {
        "id": "rRkL9q_TR-3i",
        "colab": {
          "base_uri": "https://localhost:8080/"
        },
        "outputId": "b08f34e4-8ee6-450d-878d-ed1fc34d6452"
      },
      "execution_count": null,
      "outputs": [
        {
          "output_type": "execute_result",
          "data": {
            "text/plain": [
              "0.6210364520430335"
            ]
          },
          "metadata": {},
          "execution_count": 54
        }
      ]
    },
    {
      "cell_type": "code",
      "source": [
        "qids = np.unique(qid_test)\n",
        "\n",
        "\n",
        "scores = list()\n",
        "\n",
        "for i, qid in enumerate(qids):\n",
        "    y = y_test[qid_test == qid]\n",
        "\n",
        "    if np.sum(y) == 0:\n",
        "        continue\n",
        "\n",
        "    scores.append(ranker.predict(X_test[qid_test == qid]))"
      ],
      "metadata": {
        "id": "0qfMdpSW8Z3C"
      },
      "execution_count": null,
      "outputs": []
    },
    {
      "cell_type": "code",
      "source": [
        "out = np.concatenate(scores).ravel()\n",
        "out"
      ],
      "metadata": {
        "colab": {
          "base_uri": "https://localhost:8080/"
        },
        "id": "7fB0rHgRgCb4",
        "outputId": "1bf75788-8689-4289-b22e-2dc351cfac01"
      },
      "execution_count": null,
      "outputs": [
        {
          "output_type": "execute_result",
          "data": {
            "text/plain": [
              "array([ 0.0187784 , -0.07861909, -0.08131003, ..., -0.0713575 ,\n",
              "       -0.01944461, -0.07990213], dtype=float32)"
            ]
          },
          "metadata": {},
          "execution_count": 57
        }
      ]
    },
    {
      "cell_type": "code",
      "source": [
        "## add qid to score\n",
        "len(out)\n",
        "y_test_df = pd.DataFrame({\"relevance\": y_test, \"predicted_scores\": out, \"qid\": qid_test})"
      ],
      "metadata": {
        "id": "MrNLS0zTeZp3"
      },
      "execution_count": null,
      "outputs": []
    },
    {
      "cell_type": "code",
      "source": [
        "y_test_df.head()"
      ],
      "metadata": {
        "colab": {
          "base_uri": "https://localhost:8080/",
          "height": 206
        },
        "id": "BATnqRzegmdH",
        "outputId": "2f24ac2c-623c-4dec-b4c5-53fc65eeed89"
      },
      "execution_count": null,
      "outputs": [
        {
          "output_type": "execute_result",
          "data": {
            "text/plain": [
              "    relevance  predicted_scores  qid\n",
              "0           0          0.018778    0\n",
              "29          0         -0.078619    0\n",
              "28          0         -0.081310    0\n",
              "27          0         -0.078619    0\n",
              "26          0         -0.078619    0"
            ],
            "text/html": [
              "\n",
              "  <div id=\"df-5d710aee-1e79-4eff-877f-396d2566b58a\" class=\"colab-df-container\">\n",
              "    <div>\n",
              "<style scoped>\n",
              "    .dataframe tbody tr th:only-of-type {\n",
              "        vertical-align: middle;\n",
              "    }\n",
              "\n",
              "    .dataframe tbody tr th {\n",
              "        vertical-align: top;\n",
              "    }\n",
              "\n",
              "    .dataframe thead th {\n",
              "        text-align: right;\n",
              "    }\n",
              "</style>\n",
              "<table border=\"1\" class=\"dataframe\">\n",
              "  <thead>\n",
              "    <tr style=\"text-align: right;\">\n",
              "      <th></th>\n",
              "      <th>relevance</th>\n",
              "      <th>predicted_scores</th>\n",
              "      <th>qid</th>\n",
              "    </tr>\n",
              "  </thead>\n",
              "  <tbody>\n",
              "    <tr>\n",
              "      <th>0</th>\n",
              "      <td>0</td>\n",
              "      <td>0.018778</td>\n",
              "      <td>0</td>\n",
              "    </tr>\n",
              "    <tr>\n",
              "      <th>29</th>\n",
              "      <td>0</td>\n",
              "      <td>-0.078619</td>\n",
              "      <td>0</td>\n",
              "    </tr>\n",
              "    <tr>\n",
              "      <th>28</th>\n",
              "      <td>0</td>\n",
              "      <td>-0.081310</td>\n",
              "      <td>0</td>\n",
              "    </tr>\n",
              "    <tr>\n",
              "      <th>27</th>\n",
              "      <td>0</td>\n",
              "      <td>-0.078619</td>\n",
              "      <td>0</td>\n",
              "    </tr>\n",
              "    <tr>\n",
              "      <th>26</th>\n",
              "      <td>0</td>\n",
              "      <td>-0.078619</td>\n",
              "      <td>0</td>\n",
              "    </tr>\n",
              "  </tbody>\n",
              "</table>\n",
              "</div>\n",
              "    <div class=\"colab-df-buttons\">\n",
              "\n",
              "  <div class=\"colab-df-container\">\n",
              "    <button class=\"colab-df-convert\" onclick=\"convertToInteractive('df-5d710aee-1e79-4eff-877f-396d2566b58a')\"\n",
              "            title=\"Convert this dataframe to an interactive table.\"\n",
              "            style=\"display:none;\">\n",
              "\n",
              "  <svg xmlns=\"http://www.w3.org/2000/svg\" height=\"24px\" viewBox=\"0 -960 960 960\">\n",
              "    <path d=\"M120-120v-720h720v720H120Zm60-500h600v-160H180v160Zm220 220h160v-160H400v160Zm0 220h160v-160H400v160ZM180-400h160v-160H180v160Zm440 0h160v-160H620v160ZM180-180h160v-160H180v160Zm440 0h160v-160H620v160Z\"/>\n",
              "  </svg>\n",
              "    </button>\n",
              "\n",
              "  <style>\n",
              "    .colab-df-container {\n",
              "      display:flex;\n",
              "      gap: 12px;\n",
              "    }\n",
              "\n",
              "    .colab-df-convert {\n",
              "      background-color: #E8F0FE;\n",
              "      border: none;\n",
              "      border-radius: 50%;\n",
              "      cursor: pointer;\n",
              "      display: none;\n",
              "      fill: #1967D2;\n",
              "      height: 32px;\n",
              "      padding: 0 0 0 0;\n",
              "      width: 32px;\n",
              "    }\n",
              "\n",
              "    .colab-df-convert:hover {\n",
              "      background-color: #E2EBFA;\n",
              "      box-shadow: 0px 1px 2px rgba(60, 64, 67, 0.3), 0px 1px 3px 1px rgba(60, 64, 67, 0.15);\n",
              "      fill: #174EA6;\n",
              "    }\n",
              "\n",
              "    .colab-df-buttons div {\n",
              "      margin-bottom: 4px;\n",
              "    }\n",
              "\n",
              "    [theme=dark] .colab-df-convert {\n",
              "      background-color: #3B4455;\n",
              "      fill: #D2E3FC;\n",
              "    }\n",
              "\n",
              "    [theme=dark] .colab-df-convert:hover {\n",
              "      background-color: #434B5C;\n",
              "      box-shadow: 0px 1px 3px 1px rgba(0, 0, 0, 0.15);\n",
              "      filter: drop-shadow(0px 1px 2px rgba(0, 0, 0, 0.3));\n",
              "      fill: #FFFFFF;\n",
              "    }\n",
              "  </style>\n",
              "\n",
              "    <script>\n",
              "      const buttonEl =\n",
              "        document.querySelector('#df-5d710aee-1e79-4eff-877f-396d2566b58a button.colab-df-convert');\n",
              "      buttonEl.style.display =\n",
              "        google.colab.kernel.accessAllowed ? 'block' : 'none';\n",
              "\n",
              "      async function convertToInteractive(key) {\n",
              "        const element = document.querySelector('#df-5d710aee-1e79-4eff-877f-396d2566b58a');\n",
              "        const dataTable =\n",
              "          await google.colab.kernel.invokeFunction('convertToInteractive',\n",
              "                                                    [key], {});\n",
              "        if (!dataTable) return;\n",
              "\n",
              "        const docLinkHtml = 'Like what you see? Visit the ' +\n",
              "          '<a target=\"_blank\" href=https://colab.research.google.com/notebooks/data_table.ipynb>data table notebook</a>'\n",
              "          + ' to learn more about interactive tables.';\n",
              "        element.innerHTML = '';\n",
              "        dataTable['output_type'] = 'display_data';\n",
              "        await google.colab.output.renderOutput(dataTable, element);\n",
              "        const docLink = document.createElement('div');\n",
              "        docLink.innerHTML = docLinkHtml;\n",
              "        element.appendChild(docLink);\n",
              "      }\n",
              "    </script>\n",
              "  </div>\n",
              "\n",
              "\n",
              "<div id=\"df-ba215fc9-b032-4437-bee3-09233fee0e01\">\n",
              "  <button class=\"colab-df-quickchart\" onclick=\"quickchart('df-ba215fc9-b032-4437-bee3-09233fee0e01')\"\n",
              "            title=\"Suggest charts\"\n",
              "            style=\"display:none;\">\n",
              "\n",
              "<svg xmlns=\"http://www.w3.org/2000/svg\" height=\"24px\"viewBox=\"0 0 24 24\"\n",
              "     width=\"24px\">\n",
              "    <g>\n",
              "        <path d=\"M19 3H5c-1.1 0-2 .9-2 2v14c0 1.1.9 2 2 2h14c1.1 0 2-.9 2-2V5c0-1.1-.9-2-2-2zM9 17H7v-7h2v7zm4 0h-2V7h2v10zm4 0h-2v-4h2v4z\"/>\n",
              "    </g>\n",
              "</svg>\n",
              "  </button>\n",
              "\n",
              "<style>\n",
              "  .colab-df-quickchart {\n",
              "      --bg-color: #E8F0FE;\n",
              "      --fill-color: #1967D2;\n",
              "      --hover-bg-color: #E2EBFA;\n",
              "      --hover-fill-color: #174EA6;\n",
              "      --disabled-fill-color: #AAA;\n",
              "      --disabled-bg-color: #DDD;\n",
              "  }\n",
              "\n",
              "  [theme=dark] .colab-df-quickchart {\n",
              "      --bg-color: #3B4455;\n",
              "      --fill-color: #D2E3FC;\n",
              "      --hover-bg-color: #434B5C;\n",
              "      --hover-fill-color: #FFFFFF;\n",
              "      --disabled-bg-color: #3B4455;\n",
              "      --disabled-fill-color: #666;\n",
              "  }\n",
              "\n",
              "  .colab-df-quickchart {\n",
              "    background-color: var(--bg-color);\n",
              "    border: none;\n",
              "    border-radius: 50%;\n",
              "    cursor: pointer;\n",
              "    display: none;\n",
              "    fill: var(--fill-color);\n",
              "    height: 32px;\n",
              "    padding: 0;\n",
              "    width: 32px;\n",
              "  }\n",
              "\n",
              "  .colab-df-quickchart:hover {\n",
              "    background-color: var(--hover-bg-color);\n",
              "    box-shadow: 0 1px 2px rgba(60, 64, 67, 0.3), 0 1px 3px 1px rgba(60, 64, 67, 0.15);\n",
              "    fill: var(--button-hover-fill-color);\n",
              "  }\n",
              "\n",
              "  .colab-df-quickchart-complete:disabled,\n",
              "  .colab-df-quickchart-complete:disabled:hover {\n",
              "    background-color: var(--disabled-bg-color);\n",
              "    fill: var(--disabled-fill-color);\n",
              "    box-shadow: none;\n",
              "  }\n",
              "\n",
              "  .colab-df-spinner {\n",
              "    border: 2px solid var(--fill-color);\n",
              "    border-color: transparent;\n",
              "    border-bottom-color: var(--fill-color);\n",
              "    animation:\n",
              "      spin 1s steps(1) infinite;\n",
              "  }\n",
              "\n",
              "  @keyframes spin {\n",
              "    0% {\n",
              "      border-color: transparent;\n",
              "      border-bottom-color: var(--fill-color);\n",
              "      border-left-color: var(--fill-color);\n",
              "    }\n",
              "    20% {\n",
              "      border-color: transparent;\n",
              "      border-left-color: var(--fill-color);\n",
              "      border-top-color: var(--fill-color);\n",
              "    }\n",
              "    30% {\n",
              "      border-color: transparent;\n",
              "      border-left-color: var(--fill-color);\n",
              "      border-top-color: var(--fill-color);\n",
              "      border-right-color: var(--fill-color);\n",
              "    }\n",
              "    40% {\n",
              "      border-color: transparent;\n",
              "      border-right-color: var(--fill-color);\n",
              "      border-top-color: var(--fill-color);\n",
              "    }\n",
              "    60% {\n",
              "      border-color: transparent;\n",
              "      border-right-color: var(--fill-color);\n",
              "    }\n",
              "    80% {\n",
              "      border-color: transparent;\n",
              "      border-right-color: var(--fill-color);\n",
              "      border-bottom-color: var(--fill-color);\n",
              "    }\n",
              "    90% {\n",
              "      border-color: transparent;\n",
              "      border-bottom-color: var(--fill-color);\n",
              "    }\n",
              "  }\n",
              "</style>\n",
              "\n",
              "  <script>\n",
              "    async function quickchart(key) {\n",
              "      const quickchartButtonEl =\n",
              "        document.querySelector('#' + key + ' button');\n",
              "      quickchartButtonEl.disabled = true;  // To prevent multiple clicks.\n",
              "      quickchartButtonEl.classList.add('colab-df-spinner');\n",
              "      try {\n",
              "        const charts = await google.colab.kernel.invokeFunction(\n",
              "            'suggestCharts', [key], {});\n",
              "      } catch (error) {\n",
              "        console.error('Error during call to suggestCharts:', error);\n",
              "      }\n",
              "      quickchartButtonEl.classList.remove('colab-df-spinner');\n",
              "      quickchartButtonEl.classList.add('colab-df-quickchart-complete');\n",
              "    }\n",
              "    (() => {\n",
              "      let quickchartButtonEl =\n",
              "        document.querySelector('#df-ba215fc9-b032-4437-bee3-09233fee0e01 button');\n",
              "      quickchartButtonEl.style.display =\n",
              "        google.colab.kernel.accessAllowed ? 'block' : 'none';\n",
              "    })();\n",
              "  </script>\n",
              "</div>\n",
              "    </div>\n",
              "  </div>\n"
            ],
            "application/vnd.google.colaboratory.intrinsic+json": {
              "type": "dataframe",
              "variable_name": "y_test_df"
            }
          },
          "metadata": {},
          "execution_count": 59
        }
      ]
    },
    {
      "cell_type": "code",
      "source": [
        "from sklearn.metrics import ndcg_score\n",
        "\n",
        "# throw out rows where qid is unique - for those ndcg is not possible to calculate\n",
        "# Find counts of each group\n",
        "group_counts = y_test_df['qid'].value_counts()\n",
        "unique_groups = group_counts[group_counts == 1].index\n",
        "filtered_df = y_test_df[~y_test_df['qid'].isin(unique_groups)]\n"
      ],
      "metadata": {
        "id": "Ouf4Jxj8hJXK"
      },
      "execution_count": null,
      "outputs": []
    },
    {
      "cell_type": "code",
      "source": [
        "####### why sorted for relevance labels?\n",
        "### --> ordering should coem from the predicted scores\n",
        "\n",
        "\n",
        "\n",
        "ndcg_per_query = []\n",
        "for group_name, group_df in filtered_df.groupby('qid'):\n",
        "    pred_scores = group_df['predicted_scores']\n",
        "    true_labels = group_df['relevance']  # Assuming predicted scores are the same as true labels\n",
        "    ndcg = ndcg_score(y_true = [true_labels], y_score = [pred_scores])\n",
        "    ndcg_per_query.append(ndcg)\n",
        "\n",
        "print('NDCG mean taking into account all values of the ranking', np.mean(ndcg_per_query))"
      ],
      "metadata": {
        "id": "DpXo_BEIpHe3",
        "colab": {
          "base_uri": "https://localhost:8080/"
        },
        "outputId": "143c49c5-ff5d-4d41-c400-480ee5cf68ab"
      },
      "execution_count": null,
      "outputs": [
        {
          "output_type": "stream",
          "name": "stdout",
          "text": [
            "NDCG mean taking into account all values of the ranking 0.6761414359414907\n"
          ]
        }
      ]
    },
    {
      "cell_type": "code",
      "source": [
        "ndcg_per_query = []\n",
        "for group_name, group_df in filtered_df.groupby('qid'):\n",
        "    pred_scores = group_df['predicted_scores']\n",
        "    true_labels = group_df['relevance']  # Assuming predicted scores are the same as true labels\n",
        "    ndcg = ndcg_score([true_labels], [pred_scores], k=20)\n",
        "    ndcg_per_query.append(ndcg)\n",
        "\n",
        "print('NDCG mean taking into account the first 20 values of the ranking', np.mean(ndcg_per_query))"
      ],
      "metadata": {
        "colab": {
          "base_uri": "https://localhost:8080/"
        },
        "id": "9ugzPLyEpDmp",
        "outputId": "ac8632e8-eef7-4440-c6ed-2e4b2c230140"
      },
      "execution_count": null,
      "outputs": [
        {
          "output_type": "stream",
          "name": "stdout",
          "text": [
            "NDCG mean taking into account the first 20 values of the ranking 0.6612530373888119\n"
          ]
        }
      ]
    },
    {
      "cell_type": "code",
      "source": [
        "ndcg_per_query = []\n",
        "for group_name, group_df in filtered_df.groupby('qid'):\n",
        "    pred_scores = group_df['predicted_scores']\n",
        "    true_labels = group_df['relevance']  # Assuming predicted scores are the same as true labels\n",
        "    ndcg = ndcg_score([true_labels], [pred_scores], k=10)\n",
        "    ndcg_per_query.append(ndcg)\n",
        "\n",
        "print('NDCG mean taking into account the first 10 values of the ranking', np.mean(ndcg_per_query))"
      ],
      "metadata": {
        "colab": {
          "base_uri": "https://localhost:8080/"
        },
        "id": "22WZNkGppUTR",
        "outputId": "dae0feb4-064f-4ddf-d221-f78d90ec0189"
      },
      "execution_count": null,
      "outputs": [
        {
          "output_type": "stream",
          "name": "stdout",
          "text": [
            "NDCG mean taking into account the first 10 values of the ranking 0.6195857249396275\n"
          ]
        }
      ]
    },
    {
      "cell_type": "code",
      "source": [
        "ndcg_per_query = []\n",
        "for group_name, group_df in filtered_df.groupby('qid'):\n",
        "    pred_scores = group_df['predicted_scores']\n",
        "    true_labels = sorted(group_df['relevance'],reverse=True)  # Assuming predicted scores are the same as true labels\n",
        "    ndcg = ndcg_score([true_labels], [pred_scores], k=5)\n",
        "    ndcg_per_query.append(ndcg)\n",
        "\n",
        "print('NDCG mean taking into account the first 5 values of the ranking', np.mean(ndcg_per_query))"
      ],
      "metadata": {
        "colab": {
          "base_uri": "https://localhost:8080/"
        },
        "id": "jZYEu87Ypejn",
        "outputId": "1b3100d4-a748-409f-8cb3-83ff732fb397"
      },
      "execution_count": null,
      "outputs": [
        {
          "output_type": "stream",
          "name": "stdout",
          "text": [
            "NDCG mean taking into account the first 5 values of the ranking 0.22098264211090526\n"
          ]
        }
      ]
    },
    {
      "cell_type": "code",
      "source": [
        "ndcg_per_query = []\n",
        "for group_name, group_df in filtered_df.groupby('qid'):\n",
        "    pred_scores = group_df['predicted_scores']\n",
        "    true_labels = sorted(group_df['relevance'],reverse=True)  # Assuming predicted scores are the same as true labels\n",
        "    ndcg = ndcg_score([true_labels], [pred_scores], k=1)\n",
        "    ndcg_per_query.append(ndcg)\n",
        "\n",
        "print('NDCG mean taking into account the first 1 values of the ranking', np.mean(ndcg_per_query))"
      ],
      "metadata": {
        "colab": {
          "base_uri": "https://localhost:8080/"
        },
        "id": "lVvKLCaNpkII",
        "outputId": "2fa41daa-7160-469b-9422-a57503499efe"
      },
      "execution_count": null,
      "outputs": [
        {
          "output_type": "stream",
          "name": "stdout",
          "text": [
            "NDCG mean taking into account the first 1 values of the ranking 0.12331606217616581\n"
          ]
        }
      ]
    },
    {
      "cell_type": "code",
      "source": [
        "### scatter plot of relevance and score\n",
        "# we expect a higher predicted ranking vor values 1 and 2 on x - axis\n",
        "plt.scatter(y_test_df[\"relevance\"], y_test_df[\"predicted_scores\"])\n",
        "\n",
        "y_test_df.shape # can this plot be made for a specific search"
      ],
      "metadata": {
        "colab": {
          "base_uri": "https://localhost:8080/",
          "height": 448
        },
        "id": "FADBEMU58Qg3",
        "outputId": "bc346fcb-0038-4d3f-cc13-831c20180db6"
      },
      "execution_count": null,
      "outputs": [
        {
          "output_type": "execute_result",
          "data": {
            "text/plain": [
              "(116639, 3)"
            ]
          },
          "metadata": {},
          "execution_count": 48
        },
        {
          "output_type": "display_data",
          "data": {
            "text/plain": [
              "<Figure size 640x480 with 1 Axes>"
            ],
            "image/png": "[encoded data removed]"
          },
          "metadata": {}
        }
      ]
    },
    {
      "cell_type": "code",
      "source": [
        "# calculate average predicted score by group\n",
        "\n",
        "y_test_df.groupby(by = \"relevance\").mean()"
      ],
      "metadata": {
        "colab": {
          "base_uri": "https://localhost:8080/",
          "height": 175
        },
        "id": "feRPQt3pphgY",
        "outputId": "0f96f36e-6869-40e5-971a-34c7485ee0af"
      },
      "execution_count": null,
      "outputs": [
        {
          "output_type": "execute_result",
          "data": {
            "text/plain": [
              "           predicted_scores           qid\n",
              "relevance                                \n",
              "0                 -0.304758  48851.244544\n",
              "1                  0.037793  48668.238597\n",
              "2                 -0.034879  51242.193825"
            ],
            "text/html": [
              "\n",
              "  <div id=\"df-4ef3d801-b3e9-4aa5-97b5-044497eea785\" class=\"colab-df-container\">\n",
              "    <div>\n",
              "<style scoped>\n",
              "    .dataframe tbody tr th:only-of-type {\n",
              "        vertical-align: middle;\n",
              "    }\n",
              "\n",
              "    .dataframe tbody tr th {\n",
              "        vertical-align: top;\n",
              "    }\n",
              "\n",
              "    .dataframe thead th {\n",
              "        text-align: right;\n",
              "    }\n",
              "</style>\n",
              "<table border=\"1\" class=\"dataframe\">\n",
              "  <thead>\n",
              "    <tr style=\"text-align: right;\">\n",
              "      <th></th>\n",
              "      <th>predicted_scores</th>\n",
              "      <th>qid</th>\n",
              "    </tr>\n",
              "    <tr>\n",
              "      <th>relevance</th>\n",
              "      <th></th>\n",
              "      <th></th>\n",
              "    </tr>\n",
              "  </thead>\n",
              "  <tbody>\n",
              "    <tr>\n",
              "      <th>0</th>\n",
              "      <td>-0.304758</td>\n",
              "      <td>48851.244544</td>\n",
              "    </tr>\n",
              "    <tr>\n",
              "      <th>1</th>\n",
              "      <td>0.037793</td>\n",
              "      <td>48668.238597</td>\n",
              "    </tr>\n",
              "    <tr>\n",
              "      <th>2</th>\n",
              "      <td>-0.034879</td>\n",
              "      <td>51242.193825</td>\n",
              "    </tr>\n",
              "  </tbody>\n",
              "</table>\n",
              "</div>\n",
              "    <div class=\"colab-df-buttons\">\n",
              "\n",
              "  <div class=\"colab-df-container\">\n",
              "    <button class=\"colab-df-convert\" onclick=\"convertToInteractive('df-4ef3d801-b3e9-4aa5-97b5-044497eea785')\"\n",
              "            title=\"Convert this dataframe to an interactive table.\"\n",
              "            style=\"display:none;\">\n",
              "\n",
              "  <svg xmlns=\"http://www.w3.org/2000/svg\" height=\"24px\" viewBox=\"0 -960 960 960\">\n",
              "    <path d=\"M120-120v-720h720v720H120Zm60-500h600v-160H180v160Zm220 220h160v-160H400v160Zm0 220h160v-160H400v160ZM180-400h160v-160H180v160Zm440 0h160v-160H620v160ZM180-180h160v-160H180v160Zm440 0h160v-160H620v160Z\"/>\n",
              "  </svg>\n",
              "    </button>\n",
              "\n",
              "  <style>\n",
              "    .colab-df-container {\n",
              "      display:flex;\n",
              "      gap: 12px;\n",
              "    }\n",
              "\n",
              "    .colab-df-convert {\n",
              "      background-color: #E8F0FE;\n",
              "      border: none;\n",
              "      border-radius: 50%;\n",
              "      cursor: pointer;\n",
              "      display: none;\n",
              "      fill: #1967D2;\n",
              "      height: 32px;\n",
              "      padding: 0 0 0 0;\n",
              "      width: 32px;\n",
              "    }\n",
              "\n",
              "    .colab-df-convert:hover {\n",
              "      background-color: #E2EBFA;\n",
              "      box-shadow: 0px 1px 2px rgba(60, 64, 67, 0.3), 0px 1px 3px 1px rgba(60, 64, 67, 0.15);\n",
              "      fill: #174EA6;\n",
              "    }\n",
              "\n",
              "    .colab-df-buttons div {\n",
              "      margin-bottom: 4px;\n",
              "    }\n",
              "\n",
              "    [theme=dark] .colab-df-convert {\n",
              "      background-color: #3B4455;\n",
              "      fill: #D2E3FC;\n",
              "    }\n",
              "\n",
              "    [theme=dark] .colab-df-convert:hover {\n",
              "      background-color: #434B5C;\n",
              "      box-shadow: 0px 1px 3px 1px rgba(0, 0, 0, 0.15);\n",
              "      filter: drop-shadow(0px 1px 2px rgba(0, 0, 0, 0.3));\n",
              "      fill: #FFFFFF;\n",
              "    }\n",
              "  </style>\n",
              "\n",
              "    <script>\n",
              "      const buttonEl =\n",
              "        document.querySelector('#df-4ef3d801-b3e9-4aa5-97b5-044497eea785 button.colab-df-convert');\n",
              "      buttonEl.style.display =\n",
              "        google.colab.kernel.accessAllowed ? 'block' : 'none';\n",
              "\n",
              "      async function convertToInteractive(key) {\n",
              "        const element = document.querySelector('#df-4ef3d801-b3e9-4aa5-97b5-044497eea785');\n",
              "        const dataTable =\n",
              "          await google.colab.kernel.invokeFunction('convertToInteractive',\n",
              "                                                    [key], {});\n",
              "        if (!dataTable) return;\n",
              "\n",
              "        const docLinkHtml = 'Like what you see? Visit the ' +\n",
              "          '<a target=\"_blank\" href=https://colab.research.google.com/notebooks/data_table.ipynb>data table notebook</a>'\n",
              "          + ' to learn more about interactive tables.';\n",
              "        element.innerHTML = '';\n",
              "        dataTable['output_type'] = 'display_data';\n",
              "        await google.colab.output.renderOutput(dataTable, element);\n",
              "        const docLink = document.createElement('div');\n",
              "        docLink.innerHTML = docLinkHtml;\n",
              "        element.appendChild(docLink);\n",
              "      }\n",
              "    </script>\n",
              "  </div>\n",
              "\n",
              "\n",
              "<div id=\"df-5d90ce87-2013-4b96-81ef-540db8599f5f\">\n",
              "  <button class=\"colab-df-quickchart\" onclick=\"quickchart('df-5d90ce87-2013-4b96-81ef-540db8599f5f')\"\n",
              "            title=\"Suggest charts\"\n",
              "            style=\"display:none;\">\n",
              "\n",
              "<svg xmlns=\"http://www.w3.org/2000/svg\" height=\"24px\"viewBox=\"0 0 24 24\"\n",
              "     width=\"24px\">\n",
              "    <g>\n",
              "        <path d=\"M19 3H5c-1.1 0-2 .9-2 2v14c0 1.1.9 2 2 2h14c1.1 0 2-.9 2-2V5c0-1.1-.9-2-2-2zM9 17H7v-7h2v7zm4 0h-2V7h2v10zm4 0h-2v-4h2v4z\"/>\n",
              "    </g>\n",
              "</svg>\n",
              "  </button>\n",
              "\n",
              "<style>\n",
              "  .colab-df-quickchart {\n",
              "      --bg-color: #E8F0FE;\n",
              "      --fill-color: #1967D2;\n",
              "      --hover-bg-color: #E2EBFA;\n",
              "      --hover-fill-color: #174EA6;\n",
              "      --disabled-fill-color: #AAA;\n",
              "      --disabled-bg-color: #DDD;\n",
              "  }\n",
              "\n",
              "  [theme=dark] .colab-df-quickchart {\n",
              "      --bg-color: #3B4455;\n",
              "      --fill-color: #D2E3FC;\n",
              "      --hover-bg-color: #434B5C;\n",
              "      --hover-fill-color: #FFFFFF;\n",
              "      --disabled-bg-color: #3B4455;\n",
              "      --disabled-fill-color: #666;\n",
              "  }\n",
              "\n",
              "  .colab-df-quickchart {\n",
              "    background-color: var(--bg-color);\n",
              "    border: none;\n",
              "    border-radius: 50%;\n",
              "    cursor: pointer;\n",
              "    display: none;\n",
              "    fill: var(--fill-color);\n",
              "    height: 32px;\n",
              "    padding: 0;\n",
              "    width: 32px;\n",
              "  }\n",
              "\n",
              "  .colab-df-quickchart:hover {\n",
              "    background-color: var(--hover-bg-color);\n",
              "    box-shadow: 0 1px 2px rgba(60, 64, 67, 0.3), 0 1px 3px 1px rgba(60, 64, 67, 0.15);\n",
              "    fill: var(--button-hover-fill-color);\n",
              "  }\n",
              "\n",
              "  .colab-df-quickchart-complete:disabled,\n",
              "  .colab-df-quickchart-complete:disabled:hover {\n",
              "    background-color: var(--disabled-bg-color);\n",
              "    fill: var(--disabled-fill-color);\n",
              "    box-shadow: none;\n",
              "  }\n",
              "\n",
              "  .colab-df-spinner {\n",
              "    border: 2px solid var(--fill-color);\n",
              "    border-color: transparent;\n",
              "    border-bottom-color: var(--fill-color);\n",
              "    animation:\n",
              "      spin 1s steps(1) infinite;\n",
              "  }\n",
              "\n",
              "  @keyframes spin {\n",
              "    0% {\n",
              "      border-color: transparent;\n",
              "      border-bottom-color: var(--fill-color);\n",
              "      border-left-color: var(--fill-color);\n",
              "    }\n",
              "    20% {\n",
              "      border-color: transparent;\n",
              "      border-left-color: var(--fill-color);\n",
              "      border-top-color: var(--fill-color);\n",
              "    }\n",
              "    30% {\n",
              "      border-color: transparent;\n",
              "      border-left-color: var(--fill-color);\n",
              "      border-top-color: var(--fill-color);\n",
              "      border-right-color: var(--fill-color);\n",
              "    }\n",
              "    40% {\n",
              "      border-color: transparent;\n",
              "      border-right-color: var(--fill-color);\n",
              "      border-top-color: var(--fill-color);\n",
              "    }\n",
              "    60% {\n",
              "      border-color: transparent;\n",
              "      border-right-color: var(--fill-color);\n",
              "    }\n",
              "    80% {\n",
              "      border-color: transparent;\n",
              "      border-right-color: var(--fill-color);\n",
              "      border-bottom-color: var(--fill-color);\n",
              "    }\n",
              "    90% {\n",
              "      border-color: transparent;\n",
              "      border-bottom-color: var(--fill-color);\n",
              "    }\n",
              "  }\n",
              "</style>\n",
              "\n",
              "  <script>\n",
              "    async function quickchart(key) {\n",
              "      const quickchartButtonEl =\n",
              "        document.querySelector('#' + key + ' button');\n",
              "      quickchartButtonEl.disabled = true;  // To prevent multiple clicks.\n",
              "      quickchartButtonEl.classList.add('colab-df-spinner');\n",
              "      try {\n",
              "        const charts = await google.colab.kernel.invokeFunction(\n",
              "            'suggestCharts', [key], {});\n",
              "      } catch (error) {\n",
              "        console.error('Error during call to suggestCharts:', error);\n",
              "      }\n",
              "      quickchartButtonEl.classList.remove('colab-df-spinner');\n",
              "      quickchartButtonEl.classList.add('colab-df-quickchart-complete');\n",
              "    }\n",
              "    (() => {\n",
              "      let quickchartButtonEl =\n",
              "        document.querySelector('#df-5d90ce87-2013-4b96-81ef-540db8599f5f button');\n",
              "      quickchartButtonEl.style.display =\n",
              "        google.colab.kernel.accessAllowed ? 'block' : 'none';\n",
              "    })();\n",
              "  </script>\n",
              "</div>\n",
              "    </div>\n",
              "  </div>\n"
            ],
            "application/vnd.google.colaboratory.intrinsic+json": {
              "type": "dataframe",
              "summary": "{\n  \"name\": \"y_test_df\",\n  \"rows\": 3,\n  \"fields\": [\n    {\n      \"column\": \"relevance\",\n      \"properties\": {\n        \"dtype\": \"number\",\n        \"std\": 1,\n        \"min\": 0,\n        \"max\": 2,\n        \"num_unique_values\": 3,\n        \"samples\": [\n          0,\n          1,\n          2\n        ],\n        \"semantic_type\": \"\",\n        \"description\": \"\"\n      }\n    },\n    {\n      \"column\": \"predicted_scores\",\n      \"properties\": {\n        \"dtype\": \"float32\",\n        \"num_unique_values\": 3,\n        \"samples\": [\n          -0.3047581911087036,\n          0.03779252991080284,\n          -0.03487887606024742\n        ],\n        \"semantic_type\": \"\",\n        \"description\": \"\"\n      }\n    },\n    {\n      \"column\": \"qid\",\n      \"properties\": {\n        \"dtype\": \"number\",\n        \"std\": 1436.1624301539944,\n        \"min\": 48668.2385973828,\n        \"max\": 51242.19382504288,\n        \"num_unique_values\": 3,\n        \"samples\": [\n          48851.24454406803,\n          48668.2385973828,\n          51242.19382504288\n        ],\n        \"semantic_type\": \"\",\n        \"description\": \"\"\n      }\n    }\n  ]\n}"
            }
          },
          "metadata": {},
          "execution_count": 49
        }
      ]
    },
    {
      "cell_type": "code",
      "source": [
        "#### show feature importance\n",
        "from xgboost import plot_importance\n",
        "# from matplotlib import pyplot\n",
        "\n",
        "plot_importance(ranker, max_num_features=20)\n",
        "plt.show()\n",
        "\n",
        "# include label names\n"
      ],
      "metadata": {
        "colab": {
          "base_uri": "https://localhost:8080/",
          "height": 472
        },
        "id": "1cW1dt6-3rYE",
        "outputId": "69f0ccdc-5adb-4520-ddfb-30ff19ab19fe"
      },
      "execution_count": 121,
      "outputs": [
        {
          "output_type": "display_data",
          "data": {
            "text/plain": [
              "<Figure size 640x480 with 1 Axes>"
            ],
            "image/png": "[encoded data removed]"
          },
          "metadata": {}
        }
      ]
    }
  ]
}