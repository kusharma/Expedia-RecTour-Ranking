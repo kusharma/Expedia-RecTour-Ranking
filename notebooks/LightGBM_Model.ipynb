{
  "cells": [
    {
      "cell_type": "code",
      "execution_count": 5,
      "metadata": {
        "colab": {
          "base_uri": "https://localhost:8080/"
        },
        "id": "6AwiqfX4ibtI",
        "outputId": "861a1e67-a4c3-4814-cf1b-188ae4ab5067"
      },
      "outputs": [
        {
          "output_type": "stream",
          "name": "stdout",
          "text": [
            "Mounted at /content/drive\n"
          ]
        }
      ],
      "source": [
        "import pandas as pd\n",
        "import numpy as np\n",
        "from google.colab import drive\n",
        "drive.mount('/content/drive')\n",
        "import seaborn as sns\n",
        "import matplotlib.pyplot as plt"
      ]
    },
    {
      "cell_type": "code",
      "execution_count": 6,
      "metadata": {
        "id": "NGJNb05euwTE"
      },
      "outputs": [],
      "source": [
        "from tqdm import tqdm"
      ]
    },
    {
      "cell_type": "code",
      "execution_count": 7,
      "metadata": {
        "id": "SD7KNWdNiigP"
      },
      "outputs": [],
      "source": [
        "pd.set_option('display.max_columns', None)"
      ]
    },
    {
      "cell_type": "code",
      "execution_count": null,
      "metadata": {
        "id": "5Vl_kYgbinP8"
      },
      "outputs": [],
      "source": [
        "df = pd.read_parquet('/content/drive/MyDrive/Expedia/Data/exploded_df_100Krows.parquet')"
      ]
    },
    {
      "cell_type": "code",
      "source": [
        "df.shape"
      ],
      "metadata": {
        "colab": {
          "base_uri": "https://localhost:8080/"
        },
        "id": "aOHWl_4pGiZu",
        "outputId": "53c0bb90-b1d6-407d-eef0-ac200d8d4b2c"
      },
      "execution_count": null,
      "outputs": [
        {
          "output_type": "execute_result",
          "data": {
            "text/plain": [
              "(2574386, 29)"
            ]
          },
          "metadata": {},
          "execution_count": 24
        }
      ]
    },
    {
      "cell_type": "markdown",
      "metadata": {
        "id": "27oLazFTl9Bu"
      },
      "source": [
        "## Separating \"Impressions\" column into different rows"
      ]
    },
    {
      "cell_type": "code",
      "execution_count": null,
      "metadata": {
        "id": "CL02emPSirE7"
      },
      "outputs": [],
      "source": [
        "def preprocess_and_explode(row):\n",
        "    impressions_list = row['impressions'].split('|')\n",
        "    new_rows = []\n",
        "    for impression_group in tqdm(impressions_list):\n",
        "        impressions = impression_group.split(',')\n",
        "        new_row = row.copy()  # Copy the original row data\n",
        "        for i, impression_value in enumerate(impressions):\n",
        "            new_row[f'impression_{i+1}'] = impression_value\n",
        "        new_rows.append(new_row)\n",
        "    return pd.DataFrame(new_rows)"
      ]
    },
    {
      "cell_type": "code",
      "execution_count": null,
      "metadata": {
        "colab": {
          "background_save": true
        },
        "id": "3RlHzP_ujJo8"
      },
      "outputs": [],
      "source": [
        "# Explode the DataFrame by 'impressions' column\n",
        "exploded_df = pd.concat([preprocess_and_explode(row) for _, row in df.iterrows()], ignore_index=True)\n",
        "\n",
        "# Drop the original 'impressions' column\n",
        "exploded_df.drop(columns=['impressions'], inplace=True)\n",
        "exploded_df.shape"
      ]
    },
    {
      "cell_type": "code",
      "execution_count": null,
      "metadata": {
        "id": "bQr3JgxTo_LS"
      },
      "outputs": [],
      "source": [
        "file_path = '/content/drive/My Drive/Expedia/Data/exploded_df_10000rows.csv'\n",
        "exploded_df.to_csv(file_path, index=False)"
      ]
    },
    {
      "cell_type": "code",
      "execution_count": null,
      "metadata": {
        "id": "jD34ZUJhjRdY"
      },
      "outputs": [],
      "source": [
        "exploded_df.rename(columns={'impression_1':'rank', 'impression_2':'prop_id','impression_3':'is_travel_ad','impression_4':'review_rating','impression_5':'review_count',\n",
        "                            'impression_6':'star_rating', 'impression_7':'is_free_cancellation','impression_8':'is_drr','impression_9':'price_bucket','impression_10':'num_clicks',\n",
        "                            'impression_11':'is_trans'}, inplace=True)\n",
        "exploded_df.head()"
      ]
    },
    {
      "cell_type": "code",
      "execution_count": null,
      "metadata": {
        "id": "yl_Ti9uxjjNV"
      },
      "outputs": [],
      "source": [
        "columns_converted = ['rank', 'prop_id', 'is_travel_ad', 'review_rating', 'review_count', 'star_rating',\n",
        "                     'is_free_cancellation', 'is_drr', 'price_bucket', 'num_clicks', 'is_trans']\n",
        "\n",
        "for i in columns_converted:\n",
        "  exploded_df[i] = exploded_df[i].apply(lambda x: pd.to_numeric(x, errors='coerce'))"
      ]
    },
    {
      "cell_type": "markdown",
      "metadata": {
        "id": "VLIIAlXNk5DQ"
      },
      "source": [
        "## Erase SearchID's where number of clicks is 0"
      ]
    },
    {
      "cell_type": "code",
      "execution_count": null,
      "metadata": {
        "id": "tgN8qQo9kR50"
      },
      "outputs": [],
      "source": [
        "df_m = exploded_df.groupby('search_id', as_index=False).agg({'num_clicks':'sum', 'is_trans':'sum'})\n",
        "\n",
        "no_s_id = df_m[df_m['num_clicks'] != 0]['search_id'].tolist()\n",
        "\n",
        "exploded_df = exploded_df[exploded_df['search_id'].isin(no_s_id)]\n",
        "exploded_df.shape"
      ]
    },
    {
      "cell_type": "markdown",
      "metadata": {
        "id": "EGKBMhb1k-VB"
      },
      "source": [
        "## Erase impressions ranked higher than 30"
      ]
    },
    {
      "cell_type": "code",
      "execution_count": null,
      "metadata": {
        "id": "Z-_HoCQ3kSgX"
      },
      "outputs": [],
      "source": [
        "condition = exploded_df['rank'] > 30\n",
        "exploded_df = exploded_df[~condition]\n",
        "print(exploded_df.shape)"
      ]
    },
    {
      "cell_type": "markdown",
      "metadata": {
        "id": "MfjyEIwrq4zz"
      },
      "source": [
        "## Add new ranking excluding Ads"
      ]
    },
    {
      "cell_type": "code",
      "execution_count": null,
      "metadata": {
        "id": "ficELjm6k1zt"
      },
      "outputs": [],
      "source": [
        "df_m3 = exploded_df[exploded_df['is_travel_ad'] == 0]\n",
        "\n",
        "df_m3['rank_noad'] = df_m3.groupby('search_id').cumcount()+1\n",
        "\n",
        "for i, j in exploded_df.iterrows():\n",
        "  if i in df_m3.index:\n",
        "    exploded_df.at[i,'rank_noad'] = int(df_m3.at[i,'rank_noad'])\n",
        "  else:\n",
        "    exploded_df.at[i,'rank_noad'] = int(0)\n",
        "\n",
        "exploded_df.shape"
      ]
    },
    {
      "cell_type": "markdown",
      "metadata": {
        "id": "tgGvCHCtnUku"
      },
      "source": [
        "## Erasing Search ID's with just one impression"
      ]
    },
    {
      "cell_type": "code",
      "execution_count": null,
      "metadata": {
        "id": "JH0kivBQnX2Y"
      },
      "outputs": [],
      "source": [
        "df_m = exploded_df.groupby('search_id', as_index=False).count()\n",
        "multiple_impressions = df_m[df_m['count'] != 0]['search_id'].tolist()"
      ]
    },
    {
      "cell_type": "code",
      "execution_count": null,
      "metadata": {
        "id": "lQ3lKRGIoxm1"
      },
      "outputs": [],
      "source": [
        "exploded_df = exploded_df[exploded_df['search_id'] in multiple_impressions]\n",
        "exploded_df.shape"
      ]
    },
    {
      "cell_type": "code",
      "execution_count": null,
      "metadata": {
        "id": "6SPBLXquqhMo"
      },
      "outputs": [],
      "source": [
        "file_path = '/content/drive/My Drive/Expedia/Data/exploded_df_100000rows.csv'\n",
        "exploded_df.to_csv(file_path, index=False)"
      ]
    },
    {
      "cell_type": "markdown",
      "metadata": {
        "id": "Hn_w36vsl0jz"
      },
      "source": [
        "## Adding Amenities Datset"
      ]
    },
    {
      "cell_type": "code",
      "execution_count": null,
      "metadata": {
        "id": "FUq5wr1tjkGn"
      },
      "outputs": [],
      "source": [
        "df_amenities = pd.read_csv('/content/drive/MyDrive/Expedia/Data/amenities.tsv.gz', compression='gzip', sep='\\t')"
      ]
    },
    {
      "cell_type": "code",
      "execution_count": null,
      "metadata": {
        "id": "iPPl5rmtjo8Q"
      },
      "outputs": [],
      "source": [
        "exploded_df_merged = exploded_df.merge(df_amenities, on='prop_id', how='left')"
      ]
    },
    {
      "cell_type": "code",
      "execution_count": null,
      "metadata": {
        "id": "vHLdy-kHjsm5"
      },
      "outputs": [],
      "source": [
        "print(exploded_df_merged.shape)\n",
        "\n",
        "exploded_df_merged.head()"
      ]
    },
    {
      "cell_type": "markdown",
      "metadata": {
        "id": "xyVkXy_iqofR"
      },
      "source": [
        "## Cleaning Null Values"
      ]
    },
    {
      "cell_type": "code",
      "execution_count": null,
      "metadata": {
        "id": "eJVtF49dqqPJ"
      },
      "outputs": [],
      "source": []
    },
    {
      "cell_type": "markdown",
      "source": [
        "## Uploading PARQUET file"
      ],
      "metadata": {
        "id": "QgF4IRW896Wy"
      }
    },
    {
      "cell_type": "code",
      "source": [
        "df = pd.read_parquet('/content/drive/MyDrive/Expedia/Data/exploded_df_100Krows.parquet')"
      ],
      "metadata": {
        "id": "x79Oa8yW99gF"
      },
      "execution_count": null,
      "outputs": []
    },
    {
      "cell_type": "code",
      "source": [
        "df.shape"
      ],
      "metadata": {
        "colab": {
          "base_uri": "https://localhost:8080/"
        },
        "id": "Lo3MTag5GtQv",
        "outputId": "5cf757d4-edd9-4602-ea82-22437ddae5d2"
      },
      "execution_count": null,
      "outputs": [
        {
          "output_type": "execute_result",
          "data": {
            "text/plain": [
              "(2574386, 29)"
            ]
          },
          "metadata": {},
          "execution_count": 97
        }
      ]
    },
    {
      "cell_type": "code",
      "source": [
        "df.head()"
      ],
      "metadata": {
        "colab": {
          "base_uri": "https://localhost:8080/",
          "height": 309
        },
        "id": "qJq24mERGuXP",
        "outputId": "ac412d22-dd67-49dd-c5ac-7fc61b91d5f3"
      },
      "execution_count": null,
      "outputs": [
        {
          "output_type": "execute_result",
          "data": {
            "text/plain": [
              "   user_id  search_id          search_timestamp  point_of_sale  \\\n",
              "0        0          0 2021-07-02 19:38:00+00:00              2   \n",
              "1        0          0 2021-07-02 19:38:00+00:00              2   \n",
              "2        0          0 2021-07-02 19:38:00+00:00              2   \n",
              "3        0          0 2021-07-02 19:38:00+00:00              2   \n",
              "4        0          0 2021-07-02 19:38:00+00:00              2   \n",
              "\n",
              "   geo_location_country  is_mobile  destination_id checkin_date checkout_date  \\\n",
              "0                     1          0             898   2021-07-04    2021-07-05   \n",
              "1                     1          0             898   2021-07-04    2021-07-05   \n",
              "2                     1          0             898   2021-07-04    2021-07-05   \n",
              "3                     1          0             898   2021-07-04    2021-07-05   \n",
              "4                     1          0             898   2021-07-04    2021-07-05   \n",
              "\n",
              "   adult_count  child_count  infant_count  room_count    sort_type  \\\n",
              "0            2            0             0           1  RECOMMENDED   \n",
              "1            2            0             0           1  RECOMMENDED   \n",
              "2            2            0             0           1  RECOMMENDED   \n",
              "3            2            0             0           1  RECOMMENDED   \n",
              "4            2            0             0           1  RECOMMENDED   \n",
              "\n",
              "   length_of_stay  booking_window  search_day_of_week  search_hour_of_day  \\\n",
              "0             1.0             1.0                   4                  19   \n",
              "1             1.0             1.0                   4                  19   \n",
              "2             1.0             1.0                   4                  19   \n",
              "3             1.0             1.0                   4                  19   \n",
              "4             1.0             1.0                   4                  19   \n",
              "\n",
              "   rank  is_travel_ad  review_rating  review_count  star_rating  \\\n",
              "0     1             1            4.0         250.0          2.0   \n",
              "1     2             1            4.0        1000.0          2.0   \n",
              "2     3             0            5.0         700.0          3.0   \n",
              "3     4             0            4.0         250.0          2.0   \n",
              "4     5             0            4.0         625.0          2.0   \n",
              "\n",
              "   is_free_cancellation  is_drr  price_bucket  num_clicks  is_trans  rank_noad  \n",
              "0                     1       0           3.0           0         0        0.0  \n",
              "1                     1       0           4.0           0         0        0.0  \n",
              "2                     1       0           3.0           0         0        1.0  \n",
              "3                     1       0           3.0           0         0        2.0  \n",
              "4                     0       0           1.0           0         0        3.0  "
            ],
            "text/html": [
              "\n",
              "  <div id=\"df-22ecaefb-5cb4-49e4-9459-506a4b565e0e\" class=\"colab-df-container\">\n",
              "    <div>\n",
              "<style scoped>\n",
              "    .dataframe tbody tr th:only-of-type {\n",
              "        vertical-align: middle;\n",
              "    }\n",
              "\n",
              "    .dataframe tbody tr th {\n",
              "        vertical-align: top;\n",
              "    }\n",
              "\n",
              "    .dataframe thead th {\n",
              "        text-align: right;\n",
              "    }\n",
              "</style>\n",
              "<table border=\"1\" class=\"dataframe\">\n",
              "  <thead>\n",
              "    <tr style=\"text-align: right;\">\n",
              "      <th></th>\n",
              "      <th>user_id</th>\n",
              "      <th>search_id</th>\n",
              "      <th>search_timestamp</th>\n",
              "      <th>point_of_sale</th>\n",
              "      <th>geo_location_country</th>\n",
              "      <th>is_mobile</th>\n",
              "      <th>destination_id</th>\n",
              "      <th>checkin_date</th>\n",
              "      <th>checkout_date</th>\n",
              "      <th>adult_count</th>\n",
              "      <th>child_count</th>\n",
              "      <th>infant_count</th>\n",
              "      <th>room_count</th>\n",
              "      <th>sort_type</th>\n",
              "      <th>length_of_stay</th>\n",
              "      <th>booking_window</th>\n",
              "      <th>search_day_of_week</th>\n",
              "      <th>search_hour_of_day</th>\n",
              "      <th>rank</th>\n",
              "      <th>is_travel_ad</th>\n",
              "      <th>review_rating</th>\n",
              "      <th>review_count</th>\n",
              "      <th>star_rating</th>\n",
              "      <th>is_free_cancellation</th>\n",
              "      <th>is_drr</th>\n",
              "      <th>price_bucket</th>\n",
              "      <th>num_clicks</th>\n",
              "      <th>is_trans</th>\n",
              "      <th>rank_noad</th>\n",
              "    </tr>\n",
              "  </thead>\n",
              "  <tbody>\n",
              "    <tr>\n",
              "      <th>0</th>\n",
              "      <td>0</td>\n",
              "      <td>0</td>\n",
              "      <td>2021-07-02 19:38:00+00:00</td>\n",
              "      <td>2</td>\n",
              "      <td>1</td>\n",
              "      <td>0</td>\n",
              "      <td>898</td>\n",
              "      <td>2021-07-04</td>\n",
              "      <td>2021-07-05</td>\n",
              "      <td>2</td>\n",
              "      <td>0</td>\n",
              "      <td>0</td>\n",
              "      <td>1</td>\n",
              "      <td>RECOMMENDED</td>\n",
              "      <td>1.0</td>\n",
              "      <td>1.0</td>\n",
              "      <td>4</td>\n",
              "      <td>19</td>\n",
              "      <td>1</td>\n",
              "      <td>1</td>\n",
              "      <td>4.0</td>\n",
              "      <td>250.0</td>\n",
              "      <td>2.0</td>\n",
              "      <td>1</td>\n",
              "      <td>0</td>\n",
              "      <td>3.0</td>\n",
              "      <td>0</td>\n",
              "      <td>0</td>\n",
              "      <td>0.0</td>\n",
              "    </tr>\n",
              "    <tr>\n",
              "      <th>1</th>\n",
              "      <td>0</td>\n",
              "      <td>0</td>\n",
              "      <td>2021-07-02 19:38:00+00:00</td>\n",
              "      <td>2</td>\n",
              "      <td>1</td>\n",
              "      <td>0</td>\n",
              "      <td>898</td>\n",
              "      <td>2021-07-04</td>\n",
              "      <td>2021-07-05</td>\n",
              "      <td>2</td>\n",
              "      <td>0</td>\n",
              "      <td>0</td>\n",
              "      <td>1</td>\n",
              "      <td>RECOMMENDED</td>\n",
              "      <td>1.0</td>\n",
              "      <td>1.0</td>\n",
              "      <td>4</td>\n",
              "      <td>19</td>\n",
              "      <td>2</td>\n",
              "      <td>1</td>\n",
              "      <td>4.0</td>\n",
              "      <td>1000.0</td>\n",
              "      <td>2.0</td>\n",
              "      <td>1</td>\n",
              "      <td>0</td>\n",
              "      <td>4.0</td>\n",
              "      <td>0</td>\n",
              "      <td>0</td>\n",
              "      <td>0.0</td>\n",
              "    </tr>\n",
              "    <tr>\n",
              "      <th>2</th>\n",
              "      <td>0</td>\n",
              "      <td>0</td>\n",
              "      <td>2021-07-02 19:38:00+00:00</td>\n",
              "      <td>2</td>\n",
              "      <td>1</td>\n",
              "      <td>0</td>\n",
              "      <td>898</td>\n",
              "      <td>2021-07-04</td>\n",
              "      <td>2021-07-05</td>\n",
              "      <td>2</td>\n",
              "      <td>0</td>\n",
              "      <td>0</td>\n",
              "      <td>1</td>\n",
              "      <td>RECOMMENDED</td>\n",
              "      <td>1.0</td>\n",
              "      <td>1.0</td>\n",
              "      <td>4</td>\n",
              "      <td>19</td>\n",
              "      <td>3</td>\n",
              "      <td>0</td>\n",
              "      <td>5.0</td>\n",
              "      <td>700.0</td>\n",
              "      <td>3.0</td>\n",
              "      <td>1</td>\n",
              "      <td>0</td>\n",
              "      <td>3.0</td>\n",
              "      <td>0</td>\n",
              "      <td>0</td>\n",
              "      <td>1.0</td>\n",
              "    </tr>\n",
              "    <tr>\n",
              "      <th>3</th>\n",
              "      <td>0</td>\n",
              "      <td>0</td>\n",
              "      <td>2021-07-02 19:38:00+00:00</td>\n",
              "      <td>2</td>\n",
              "      <td>1</td>\n",
              "      <td>0</td>\n",
              "      <td>898</td>\n",
              "      <td>2021-07-04</td>\n",
              "      <td>2021-07-05</td>\n",
              "      <td>2</td>\n",
              "      <td>0</td>\n",
              "      <td>0</td>\n",
              "      <td>1</td>\n",
              "      <td>RECOMMENDED</td>\n",
              "      <td>1.0</td>\n",
              "      <td>1.0</td>\n",
              "      <td>4</td>\n",
              "      <td>19</td>\n",
              "      <td>4</td>\n",
              "      <td>0</td>\n",
              "      <td>4.0</td>\n",
              "      <td>250.0</td>\n",
              "      <td>2.0</td>\n",
              "      <td>1</td>\n",
              "      <td>0</td>\n",
              "      <td>3.0</td>\n",
              "      <td>0</td>\n",
              "      <td>0</td>\n",
              "      <td>2.0</td>\n",
              "    </tr>\n",
              "    <tr>\n",
              "      <th>4</th>\n",
              "      <td>0</td>\n",
              "      <td>0</td>\n",
              "      <td>2021-07-02 19:38:00+00:00</td>\n",
              "      <td>2</td>\n",
              "      <td>1</td>\n",
              "      <td>0</td>\n",
              "      <td>898</td>\n",
              "      <td>2021-07-04</td>\n",
              "      <td>2021-07-05</td>\n",
              "      <td>2</td>\n",
              "      <td>0</td>\n",
              "      <td>0</td>\n",
              "      <td>1</td>\n",
              "      <td>RECOMMENDED</td>\n",
              "      <td>1.0</td>\n",
              "      <td>1.0</td>\n",
              "      <td>4</td>\n",
              "      <td>19</td>\n",
              "      <td>5</td>\n",
              "      <td>0</td>\n",
              "      <td>4.0</td>\n",
              "      <td>625.0</td>\n",
              "      <td>2.0</td>\n",
              "      <td>0</td>\n",
              "      <td>0</td>\n",
              "      <td>1.0</td>\n",
              "      <td>0</td>\n",
              "      <td>0</td>\n",
              "      <td>3.0</td>\n",
              "    </tr>\n",
              "  </tbody>\n",
              "</table>\n",
              "</div>\n",
              "    <div class=\"colab-df-buttons\">\n",
              "\n",
              "  <div class=\"colab-df-container\">\n",
              "    <button class=\"colab-df-convert\" onclick=\"convertToInteractive('df-22ecaefb-5cb4-49e4-9459-506a4b565e0e')\"\n",
              "            title=\"Convert this dataframe to an interactive table.\"\n",
              "            style=\"display:none;\">\n",
              "\n",
              "  <svg xmlns=\"http://www.w3.org/2000/svg\" height=\"24px\" viewBox=\"0 -960 960 960\">\n",
              "    <path d=\"M120-120v-720h720v720H120Zm60-500h600v-160H180v160Zm220 220h160v-160H400v160Zm0 220h160v-160H400v160ZM180-400h160v-160H180v160Zm440 0h160v-160H620v160ZM180-180h160v-160H180v160Zm440 0h160v-160H620v160Z\"/>\n",
              "  </svg>\n",
              "    </button>\n",
              "\n",
              "  <style>\n",
              "    .colab-df-container {\n",
              "      display:flex;\n",
              "      gap: 12px;\n",
              "    }\n",
              "\n",
              "    .colab-df-convert {\n",
              "      background-color: #E8F0FE;\n",
              "      border: none;\n",
              "      border-radius: 50%;\n",
              "      cursor: pointer;\n",
              "      display: none;\n",
              "      fill: #1967D2;\n",
              "      height: 32px;\n",
              "      padding: 0 0 0 0;\n",
              "      width: 32px;\n",
              "    }\n",
              "\n",
              "    .colab-df-convert:hover {\n",
              "      background-color: #E2EBFA;\n",
              "      box-shadow: 0px 1px 2px rgba(60, 64, 67, 0.3), 0px 1px 3px 1px rgba(60, 64, 67, 0.15);\n",
              "      fill: #174EA6;\n",
              "    }\n",
              "\n",
              "    .colab-df-buttons div {\n",
              "      margin-bottom: 4px;\n",
              "    }\n",
              "\n",
              "    [theme=dark] .colab-df-convert {\n",
              "      background-color: #3B4455;\n",
              "      fill: #D2E3FC;\n",
              "    }\n",
              "\n",
              "    [theme=dark] .colab-df-convert:hover {\n",
              "      background-color: #434B5C;\n",
              "      box-shadow: 0px 1px 3px 1px rgba(0, 0, 0, 0.15);\n",
              "      filter: drop-shadow(0px 1px 2px rgba(0, 0, 0, 0.3));\n",
              "      fill: #FFFFFF;\n",
              "    }\n",
              "  </style>\n",
              "\n",
              "    <script>\n",
              "      const buttonEl =\n",
              "        document.querySelector('#df-22ecaefb-5cb4-49e4-9459-506a4b565e0e button.colab-df-convert');\n",
              "      buttonEl.style.display =\n",
              "        google.colab.kernel.accessAllowed ? 'block' : 'none';\n",
              "\n",
              "      async function convertToInteractive(key) {\n",
              "        const element = document.querySelector('#df-22ecaefb-5cb4-49e4-9459-506a4b565e0e');\n",
              "        const dataTable =\n",
              "          await google.colab.kernel.invokeFunction('convertToInteractive',\n",
              "                                                    [key], {});\n",
              "        if (!dataTable) return;\n",
              "\n",
              "        const docLinkHtml = 'Like what you see? Visit the ' +\n",
              "          '<a target=\"_blank\" href=https://colab.research.google.com/notebooks/data_table.ipynb>data table notebook</a>'\n",
              "          + ' to learn more about interactive tables.';\n",
              "        element.innerHTML = '';\n",
              "        dataTable['output_type'] = 'display_data';\n",
              "        await google.colab.output.renderOutput(dataTable, element);\n",
              "        const docLink = document.createElement('div');\n",
              "        docLink.innerHTML = docLinkHtml;\n",
              "        element.appendChild(docLink);\n",
              "      }\n",
              "    </script>\n",
              "  </div>\n",
              "\n",
              "\n",
              "<div id=\"df-188f3d32-e011-4d67-b4ef-ae7ee8e4e30f\">\n",
              "  <button class=\"colab-df-quickchart\" onclick=\"quickchart('df-188f3d32-e011-4d67-b4ef-ae7ee8e4e30f')\"\n",
              "            title=\"Suggest charts\"\n",
              "            style=\"display:none;\">\n",
              "\n",
              "<svg xmlns=\"http://www.w3.org/2000/svg\" height=\"24px\"viewBox=\"0 0 24 24\"\n",
              "     width=\"24px\">\n",
              "    <g>\n",
              "        <path d=\"M19 3H5c-1.1 0-2 .9-2 2v14c0 1.1.9 2 2 2h14c1.1 0 2-.9 2-2V5c0-1.1-.9-2-2-2zM9 17H7v-7h2v7zm4 0h-2V7h2v10zm4 0h-2v-4h2v4z\"/>\n",
              "    </g>\n",
              "</svg>\n",
              "  </button>\n",
              "\n",
              "<style>\n",
              "  .colab-df-quickchart {\n",
              "      --bg-color: #E8F0FE;\n",
              "      --fill-color: #1967D2;\n",
              "      --hover-bg-color: #E2EBFA;\n",
              "      --hover-fill-color: #174EA6;\n",
              "      --disabled-fill-color: #AAA;\n",
              "      --disabled-bg-color: #DDD;\n",
              "  }\n",
              "\n",
              "  [theme=dark] .colab-df-quickchart {\n",
              "      --bg-color: #3B4455;\n",
              "      --fill-color: #D2E3FC;\n",
              "      --hover-bg-color: #434B5C;\n",
              "      --hover-fill-color: #FFFFFF;\n",
              "      --disabled-bg-color: #3B4455;\n",
              "      --disabled-fill-color: #666;\n",
              "  }\n",
              "\n",
              "  .colab-df-quickchart {\n",
              "    background-color: var(--bg-color);\n",
              "    border: none;\n",
              "    border-radius: 50%;\n",
              "    cursor: pointer;\n",
              "    display: none;\n",
              "    fill: var(--fill-color);\n",
              "    height: 32px;\n",
              "    padding: 0;\n",
              "    width: 32px;\n",
              "  }\n",
              "\n",
              "  .colab-df-quickchart:hover {\n",
              "    background-color: var(--hover-bg-color);\n",
              "    box-shadow: 0 1px 2px rgba(60, 64, 67, 0.3), 0 1px 3px 1px rgba(60, 64, 67, 0.15);\n",
              "    fill: var(--button-hover-fill-color);\n",
              "  }\n",
              "\n",
              "  .colab-df-quickchart-complete:disabled,\n",
              "  .colab-df-quickchart-complete:disabled:hover {\n",
              "    background-color: var(--disabled-bg-color);\n",
              "    fill: var(--disabled-fill-color);\n",
              "    box-shadow: none;\n",
              "  }\n",
              "\n",
              "  .colab-df-spinner {\n",
              "    border: 2px solid var(--fill-color);\n",
              "    border-color: transparent;\n",
              "    border-bottom-color: var(--fill-color);\n",
              "    animation:\n",
              "      spin 1s steps(1) infinite;\n",
              "  }\n",
              "\n",
              "  @keyframes spin {\n",
              "    0% {\n",
              "      border-color: transparent;\n",
              "      border-bottom-color: var(--fill-color);\n",
              "      border-left-color: var(--fill-color);\n",
              "    }\n",
              "    20% {\n",
              "      border-color: transparent;\n",
              "      border-left-color: var(--fill-color);\n",
              "      border-top-color: var(--fill-color);\n",
              "    }\n",
              "    30% {\n",
              "      border-color: transparent;\n",
              "      border-left-color: var(--fill-color);\n",
              "      border-top-color: var(--fill-color);\n",
              "      border-right-color: var(--fill-color);\n",
              "    }\n",
              "    40% {\n",
              "      border-color: transparent;\n",
              "      border-right-color: var(--fill-color);\n",
              "      border-top-color: var(--fill-color);\n",
              "    }\n",
              "    60% {\n",
              "      border-color: transparent;\n",
              "      border-right-color: var(--fill-color);\n",
              "    }\n",
              "    80% {\n",
              "      border-color: transparent;\n",
              "      border-right-color: var(--fill-color);\n",
              "      border-bottom-color: var(--fill-color);\n",
              "    }\n",
              "    90% {\n",
              "      border-color: transparent;\n",
              "      border-bottom-color: var(--fill-color);\n",
              "    }\n",
              "  }\n",
              "</style>\n",
              "\n",
              "  <script>\n",
              "    async function quickchart(key) {\n",
              "      const quickchartButtonEl =\n",
              "        document.querySelector('#' + key + ' button');\n",
              "      quickchartButtonEl.disabled = true;  // To prevent multiple clicks.\n",
              "      quickchartButtonEl.classList.add('colab-df-spinner');\n",
              "      try {\n",
              "        const charts = await google.colab.kernel.invokeFunction(\n",
              "            'suggestCharts', [key], {});\n",
              "      } catch (error) {\n",
              "        console.error('Error during call to suggestCharts:', error);\n",
              "      }\n",
              "      quickchartButtonEl.classList.remove('colab-df-spinner');\n",
              "      quickchartButtonEl.classList.add('colab-df-quickchart-complete');\n",
              "    }\n",
              "    (() => {\n",
              "      let quickchartButtonEl =\n",
              "        document.querySelector('#df-188f3d32-e011-4d67-b4ef-ae7ee8e4e30f button');\n",
              "      quickchartButtonEl.style.display =\n",
              "        google.colab.kernel.accessAllowed ? 'block' : 'none';\n",
              "    })();\n",
              "  </script>\n",
              "</div>\n",
              "    </div>\n",
              "  </div>\n"
            ],
            "application/vnd.google.colaboratory.intrinsic+json": {
              "type": "dataframe",
              "variable_name": "df"
            }
          },
          "metadata": {},
          "execution_count": 98
        }
      ]
    },
    {
      "cell_type": "code",
      "source": [
        "print(len(df['point_of_sale'].value_counts()))\n",
        "print(len(df['geo_location_country'].value_counts()))\n",
        "print(len(df['is_mobile'].value_counts()))\n",
        "print(len(df['destination_id'].value_counts()))\n",
        "print(len(df['sort_type'].value_counts()))"
      ],
      "metadata": {
        "colab": {
          "base_uri": "https://localhost:8080/"
        },
        "id": "F4zxdtipGvBU",
        "outputId": "b52b6552-73e4-4633-864b-0aec101212d3"
      },
      "execution_count": null,
      "outputs": [
        {
          "output_type": "stream",
          "name": "stdout",
          "text": [
            "86\n",
            "161\n",
            "2\n",
            "13274\n",
            "8\n"
          ]
        }
      ]
    },
    {
      "cell_type": "code",
      "source": [
        "df['sort_type'].value_counts()"
      ],
      "metadata": {
        "colab": {
          "base_uri": "https://localhost:8080/"
        },
        "id": "pWaCg-zwKQRj",
        "outputId": "3edc755f-791b-4b9c-83fc-4a81c436d4fe"
      },
      "execution_count": null,
      "outputs": [
        {
          "output_type": "execute_result",
          "data": {
            "text/plain": [
              "sort_type\n",
              "RECOMMENDED                      2396181\n",
              "PRICE ASCENDING                   125940\n",
              "GUEST RATINGS DESCENDING           12344\n",
              "STAR RATING DESCENDING             11887\n",
              "SPECIAL - DIRECT HOTEL SEARCH      10229\n",
              "DEALS                               8882\n",
              "VACATION RENTAL                     8593\n",
              "BEST_SELLER                          330\n",
              "Name: count, dtype: int64"
            ]
          },
          "metadata": {},
          "execution_count": 68
        }
      ]
    },
    {
      "cell_type": "code",
      "source": [
        "df2 = df.copy()"
      ],
      "metadata": {
        "id": "EUA2lFGYIdGv"
      },
      "execution_count": null,
      "outputs": []
    },
    {
      "cell_type": "code",
      "source": [
        "filtered_destination = df['destination_id'].value_counts()\n",
        "df2 = df2[df2['destination_id'].isin(filtered_destination[filtered_destination > 14000].index)]"
      ],
      "metadata": {
        "id": "V0MrV7eNIfgI"
      },
      "execution_count": null,
      "outputs": []
    },
    {
      "cell_type": "code",
      "source": [
        "df2 = df.copy()"
      ],
      "metadata": {
        "id": "pr7hjF0MRqmQ"
      },
      "execution_count": null,
      "outputs": []
    },
    {
      "cell_type": "code",
      "source": [
        "filtered_destination = df['destination_id'].value_counts()\n",
        "df2 = df2[df2['destination_id'].isin(filtered_destination[filtered_destination > 20000].index)]"
      ],
      "metadata": {
        "id": "2MavlYXGSJTn"
      },
      "execution_count": null,
      "outputs": []
    },
    {
      "cell_type": "code",
      "source": [
        "df2.shape"
      ],
      "metadata": {
        "colab": {
          "base_uri": "https://localhost:8080/"
        },
        "id": "D1uniliwSPMK",
        "outputId": "f2f2c446-1373-430b-8381-9094f1a893c2"
      },
      "execution_count": null,
      "outputs": [
        {
          "output_type": "execute_result",
          "data": {
            "text/plain": [
              "(150362, 29)"
            ]
          },
          "metadata": {},
          "execution_count": 117
        }
      ]
    },
    {
      "cell_type": "code",
      "source": [
        "df2['review_count'] = df2['review_count'].fillna(0)"
      ],
      "metadata": {
        "id": "Qp-KhZizHGAJ"
      },
      "execution_count": null,
      "outputs": []
    },
    {
      "cell_type": "code",
      "source": [
        "df2['star_rating'] = df2['star_rating'].astype('category')\n",
        "df2['star_rating'] = df2['star_rating'].cat.add_categories('Not Available')"
      ],
      "metadata": {
        "id": "aPo-vUE2RaLf"
      },
      "execution_count": null,
      "outputs": []
    },
    {
      "cell_type": "code",
      "source": [
        "for i,j in tqdm(enumerate(df2['review_count']), total=len(df2)):\n",
        "  if j > 0:\n",
        "    df2.loc[i,'star_rating'] = 0\n",
        "  else:\n",
        "    df2.loc[i,'star_rating'] = 'Not Available'\n"
      ],
      "metadata": {
        "id": "fIxg390kQrIB"
      },
      "execution_count": null,
      "outputs": []
    },
    {
      "cell_type": "code",
      "source": [
        "df['review_rating'] = df['review_rating'].astype('category')\n",
        "df['review_rating'] = df['review_rating'].cat.add_categories('Not Available')\n",
        "df['review_rating'] = df['review_rating'].fillna('Not Available')"
      ],
      "metadata": {
        "id": "Sg-pb9THN2lw"
      },
      "execution_count": null,
      "outputs": []
    },
    {
      "cell_type": "code",
      "source": [
        "df['price_bucket'] = df['price_bucket'].astype('category')\n",
        "df['price_bucket'] = df['price_bucket'].cat.add_categories('Not Available')\n",
        "df['price_bucket'] = df['price_bucket'].fillna('Not Available')"
      ],
      "metadata": {
        "id": "gtlx-_FBOX2f"
      },
      "execution_count": null,
      "outputs": []
    },
    {
      "cell_type": "code",
      "source": [
        "df.head()"
      ],
      "metadata": {
        "colab": {
          "base_uri": "https://localhost:8080/",
          "height": 309
        },
        "id": "FpG3io3_OnvU",
        "outputId": "8d04bf16-ba8e-4499-db6f-24888ae664f7"
      },
      "execution_count": null,
      "outputs": [
        {
          "output_type": "execute_result",
          "data": {
            "text/plain": [
              "   user_id  search_id          search_timestamp  point_of_sale  \\\n",
              "0        0          0 2021-07-02 19:38:00+00:00              2   \n",
              "1        0          0 2021-07-02 19:38:00+00:00              2   \n",
              "2        0          0 2021-07-02 19:38:00+00:00              2   \n",
              "3        0          0 2021-07-02 19:38:00+00:00              2   \n",
              "4        0          0 2021-07-02 19:38:00+00:00              2   \n",
              "\n",
              "   geo_location_country  is_mobile  destination_id checkin_date checkout_date  \\\n",
              "0                     1          0             898   2021-07-04    2021-07-05   \n",
              "1                     1          0             898   2021-07-04    2021-07-05   \n",
              "2                     1          0             898   2021-07-04    2021-07-05   \n",
              "3                     1          0             898   2021-07-04    2021-07-05   \n",
              "4                     1          0             898   2021-07-04    2021-07-05   \n",
              "\n",
              "   adult_count  child_count  infant_count  room_count    sort_type  \\\n",
              "0            2            0             0           1  RECOMMENDED   \n",
              "1            2            0             0           1  RECOMMENDED   \n",
              "2            2            0             0           1  RECOMMENDED   \n",
              "3            2            0             0           1  RECOMMENDED   \n",
              "4            2            0             0           1  RECOMMENDED   \n",
              "\n",
              "   length_of_stay  booking_window  search_day_of_week  search_hour_of_day  \\\n",
              "0             1.0             1.0                   4                  19   \n",
              "1             1.0             1.0                   4                  19   \n",
              "2             1.0             1.0                   4                  19   \n",
              "3             1.0             1.0                   4                  19   \n",
              "4             1.0             1.0                   4                  19   \n",
              "\n",
              "   rank  is_travel_ad review_rating  review_count  star_rating  \\\n",
              "0     1             1           4.0         250.0          2.0   \n",
              "1     2             1           4.0        1000.0          2.0   \n",
              "2     3             0           5.0         700.0          3.0   \n",
              "3     4             0           4.0         250.0          2.0   \n",
              "4     5             0           4.0         625.0          2.0   \n",
              "\n",
              "   is_free_cancellation  is_drr price_bucket  num_clicks  is_trans  rank_noad  \n",
              "0                     1       0          3.0           0         0        0.0  \n",
              "1                     1       0          4.0           0         0        0.0  \n",
              "2                     1       0          3.0           0         0        1.0  \n",
              "3                     1       0          3.0           0         0        2.0  \n",
              "4                     0       0          1.0           0         0        3.0  "
            ],
            "text/html": [
              "\n",
              "  <div id=\"df-3240c623-8236-4763-a898-ea8b759100c1\" class=\"colab-df-container\">\n",
              "    <div>\n",
              "<style scoped>\n",
              "    .dataframe tbody tr th:only-of-type {\n",
              "        vertical-align: middle;\n",
              "    }\n",
              "\n",
              "    .dataframe tbody tr th {\n",
              "        vertical-align: top;\n",
              "    }\n",
              "\n",
              "    .dataframe thead th {\n",
              "        text-align: right;\n",
              "    }\n",
              "</style>\n",
              "<table border=\"1\" class=\"dataframe\">\n",
              "  <thead>\n",
              "    <tr style=\"text-align: right;\">\n",
              "      <th></th>\n",
              "      <th>user_id</th>\n",
              "      <th>search_id</th>\n",
              "      <th>search_timestamp</th>\n",
              "      <th>point_of_sale</th>\n",
              "      <th>geo_location_country</th>\n",
              "      <th>is_mobile</th>\n",
              "      <th>destination_id</th>\n",
              "      <th>checkin_date</th>\n",
              "      <th>checkout_date</th>\n",
              "      <th>adult_count</th>\n",
              "      <th>child_count</th>\n",
              "      <th>infant_count</th>\n",
              "      <th>room_count</th>\n",
              "      <th>sort_type</th>\n",
              "      <th>length_of_stay</th>\n",
              "      <th>booking_window</th>\n",
              "      <th>search_day_of_week</th>\n",
              "      <th>search_hour_of_day</th>\n",
              "      <th>rank</th>\n",
              "      <th>is_travel_ad</th>\n",
              "      <th>review_rating</th>\n",
              "      <th>review_count</th>\n",
              "      <th>star_rating</th>\n",
              "      <th>is_free_cancellation</th>\n",
              "      <th>is_drr</th>\n",
              "      <th>price_bucket</th>\n",
              "      <th>num_clicks</th>\n",
              "      <th>is_trans</th>\n",
              "      <th>rank_noad</th>\n",
              "    </tr>\n",
              "  </thead>\n",
              "  <tbody>\n",
              "    <tr>\n",
              "      <th>0</th>\n",
              "      <td>0</td>\n",
              "      <td>0</td>\n",
              "      <td>2021-07-02 19:38:00+00:00</td>\n",
              "      <td>2</td>\n",
              "      <td>1</td>\n",
              "      <td>0</td>\n",
              "      <td>898</td>\n",
              "      <td>2021-07-04</td>\n",
              "      <td>2021-07-05</td>\n",
              "      <td>2</td>\n",
              "      <td>0</td>\n",
              "      <td>0</td>\n",
              "      <td>1</td>\n",
              "      <td>RECOMMENDED</td>\n",
              "      <td>1.0</td>\n",
              "      <td>1.0</td>\n",
              "      <td>4</td>\n",
              "      <td>19</td>\n",
              "      <td>1</td>\n",
              "      <td>1</td>\n",
              "      <td>4.0</td>\n",
              "      <td>250.0</td>\n",
              "      <td>2.0</td>\n",
              "      <td>1</td>\n",
              "      <td>0</td>\n",
              "      <td>3.0</td>\n",
              "      <td>0</td>\n",
              "      <td>0</td>\n",
              "      <td>0.0</td>\n",
              "    </tr>\n",
              "    <tr>\n",
              "      <th>1</th>\n",
              "      <td>0</td>\n",
              "      <td>0</td>\n",
              "      <td>2021-07-02 19:38:00+00:00</td>\n",
              "      <td>2</td>\n",
              "      <td>1</td>\n",
              "      <td>0</td>\n",
              "      <td>898</td>\n",
              "      <td>2021-07-04</td>\n",
              "      <td>2021-07-05</td>\n",
              "      <td>2</td>\n",
              "      <td>0</td>\n",
              "      <td>0</td>\n",
              "      <td>1</td>\n",
              "      <td>RECOMMENDED</td>\n",
              "      <td>1.0</td>\n",
              "      <td>1.0</td>\n",
              "      <td>4</td>\n",
              "      <td>19</td>\n",
              "      <td>2</td>\n",
              "      <td>1</td>\n",
              "      <td>4.0</td>\n",
              "      <td>1000.0</td>\n",
              "      <td>2.0</td>\n",
              "      <td>1</td>\n",
              "      <td>0</td>\n",
              "      <td>4.0</td>\n",
              "      <td>0</td>\n",
              "      <td>0</td>\n",
              "      <td>0.0</td>\n",
              "    </tr>\n",
              "    <tr>\n",
              "      <th>2</th>\n",
              "      <td>0</td>\n",
              "      <td>0</td>\n",
              "      <td>2021-07-02 19:38:00+00:00</td>\n",
              "      <td>2</td>\n",
              "      <td>1</td>\n",
              "      <td>0</td>\n",
              "      <td>898</td>\n",
              "      <td>2021-07-04</td>\n",
              "      <td>2021-07-05</td>\n",
              "      <td>2</td>\n",
              "      <td>0</td>\n",
              "      <td>0</td>\n",
              "      <td>1</td>\n",
              "      <td>RECOMMENDED</td>\n",
              "      <td>1.0</td>\n",
              "      <td>1.0</td>\n",
              "      <td>4</td>\n",
              "      <td>19</td>\n",
              "      <td>3</td>\n",
              "      <td>0</td>\n",
              "      <td>5.0</td>\n",
              "      <td>700.0</td>\n",
              "      <td>3.0</td>\n",
              "      <td>1</td>\n",
              "      <td>0</td>\n",
              "      <td>3.0</td>\n",
              "      <td>0</td>\n",
              "      <td>0</td>\n",
              "      <td>1.0</td>\n",
              "    </tr>\n",
              "    <tr>\n",
              "      <th>3</th>\n",
              "      <td>0</td>\n",
              "      <td>0</td>\n",
              "      <td>2021-07-02 19:38:00+00:00</td>\n",
              "      <td>2</td>\n",
              "      <td>1</td>\n",
              "      <td>0</td>\n",
              "      <td>898</td>\n",
              "      <td>2021-07-04</td>\n",
              "      <td>2021-07-05</td>\n",
              "      <td>2</td>\n",
              "      <td>0</td>\n",
              "      <td>0</td>\n",
              "      <td>1</td>\n",
              "      <td>RECOMMENDED</td>\n",
              "      <td>1.0</td>\n",
              "      <td>1.0</td>\n",
              "      <td>4</td>\n",
              "      <td>19</td>\n",
              "      <td>4</td>\n",
              "      <td>0</td>\n",
              "      <td>4.0</td>\n",
              "      <td>250.0</td>\n",
              "      <td>2.0</td>\n",
              "      <td>1</td>\n",
              "      <td>0</td>\n",
              "      <td>3.0</td>\n",
              "      <td>0</td>\n",
              "      <td>0</td>\n",
              "      <td>2.0</td>\n",
              "    </tr>\n",
              "    <tr>\n",
              "      <th>4</th>\n",
              "      <td>0</td>\n",
              "      <td>0</td>\n",
              "      <td>2021-07-02 19:38:00+00:00</td>\n",
              "      <td>2</td>\n",
              "      <td>1</td>\n",
              "      <td>0</td>\n",
              "      <td>898</td>\n",
              "      <td>2021-07-04</td>\n",
              "      <td>2021-07-05</td>\n",
              "      <td>2</td>\n",
              "      <td>0</td>\n",
              "      <td>0</td>\n",
              "      <td>1</td>\n",
              "      <td>RECOMMENDED</td>\n",
              "      <td>1.0</td>\n",
              "      <td>1.0</td>\n",
              "      <td>4</td>\n",
              "      <td>19</td>\n",
              "      <td>5</td>\n",
              "      <td>0</td>\n",
              "      <td>4.0</td>\n",
              "      <td>625.0</td>\n",
              "      <td>2.0</td>\n",
              "      <td>0</td>\n",
              "      <td>0</td>\n",
              "      <td>1.0</td>\n",
              "      <td>0</td>\n",
              "      <td>0</td>\n",
              "      <td>3.0</td>\n",
              "    </tr>\n",
              "  </tbody>\n",
              "</table>\n",
              "</div>\n",
              "    <div class=\"colab-df-buttons\">\n",
              "\n",
              "  <div class=\"colab-df-container\">\n",
              "    <button class=\"colab-df-convert\" onclick=\"convertToInteractive('df-3240c623-8236-4763-a898-ea8b759100c1')\"\n",
              "            title=\"Convert this dataframe to an interactive table.\"\n",
              "            style=\"display:none;\">\n",
              "\n",
              "  <svg xmlns=\"http://www.w3.org/2000/svg\" height=\"24px\" viewBox=\"0 -960 960 960\">\n",
              "    <path d=\"M120-120v-720h720v720H120Zm60-500h600v-160H180v160Zm220 220h160v-160H400v160Zm0 220h160v-160H400v160ZM180-400h160v-160H180v160Zm440 0h160v-160H620v160ZM180-180h160v-160H180v160Zm440 0h160v-160H620v160Z\"/>\n",
              "  </svg>\n",
              "    </button>\n",
              "\n",
              "  <style>\n",
              "    .colab-df-container {\n",
              "      display:flex;\n",
              "      gap: 12px;\n",
              "    }\n",
              "\n",
              "    .colab-df-convert {\n",
              "      background-color: #E8F0FE;\n",
              "      border: none;\n",
              "      border-radius: 50%;\n",
              "      cursor: pointer;\n",
              "      display: none;\n",
              "      fill: #1967D2;\n",
              "      height: 32px;\n",
              "      padding: 0 0 0 0;\n",
              "      width: 32px;\n",
              "    }\n",
              "\n",
              "    .colab-df-convert:hover {\n",
              "      background-color: #E2EBFA;\n",
              "      box-shadow: 0px 1px 2px rgba(60, 64, 67, 0.3), 0px 1px 3px 1px rgba(60, 64, 67, 0.15);\n",
              "      fill: #174EA6;\n",
              "    }\n",
              "\n",
              "    .colab-df-buttons div {\n",
              "      margin-bottom: 4px;\n",
              "    }\n",
              "\n",
              "    [theme=dark] .colab-df-convert {\n",
              "      background-color: #3B4455;\n",
              "      fill: #D2E3FC;\n",
              "    }\n",
              "\n",
              "    [theme=dark] .colab-df-convert:hover {\n",
              "      background-color: #434B5C;\n",
              "      box-shadow: 0px 1px 3px 1px rgba(0, 0, 0, 0.15);\n",
              "      filter: drop-shadow(0px 1px 2px rgba(0, 0, 0, 0.3));\n",
              "      fill: #FFFFFF;\n",
              "    }\n",
              "  </style>\n",
              "\n",
              "    <script>\n",
              "      const buttonEl =\n",
              "        document.querySelector('#df-3240c623-8236-4763-a898-ea8b759100c1 button.colab-df-convert');\n",
              "      buttonEl.style.display =\n",
              "        google.colab.kernel.accessAllowed ? 'block' : 'none';\n",
              "\n",
              "      async function convertToInteractive(key) {\n",
              "        const element = document.querySelector('#df-3240c623-8236-4763-a898-ea8b759100c1');\n",
              "        const dataTable =\n",
              "          await google.colab.kernel.invokeFunction('convertToInteractive',\n",
              "                                                    [key], {});\n",
              "        if (!dataTable) return;\n",
              "\n",
              "        const docLinkHtml = 'Like what you see? Visit the ' +\n",
              "          '<a target=\"_blank\" href=https://colab.research.google.com/notebooks/data_table.ipynb>data table notebook</a>'\n",
              "          + ' to learn more about interactive tables.';\n",
              "        element.innerHTML = '';\n",
              "        dataTable['output_type'] = 'display_data';\n",
              "        await google.colab.output.renderOutput(dataTable, element);\n",
              "        const docLink = document.createElement('div');\n",
              "        docLink.innerHTML = docLinkHtml;\n",
              "        element.appendChild(docLink);\n",
              "      }\n",
              "    </script>\n",
              "  </div>\n",
              "\n",
              "\n",
              "<div id=\"df-4ca65407-80d3-4dd0-8d1b-f8d1f78623c4\">\n",
              "  <button class=\"colab-df-quickchart\" onclick=\"quickchart('df-4ca65407-80d3-4dd0-8d1b-f8d1f78623c4')\"\n",
              "            title=\"Suggest charts\"\n",
              "            style=\"display:none;\">\n",
              "\n",
              "<svg xmlns=\"http://www.w3.org/2000/svg\" height=\"24px\"viewBox=\"0 0 24 24\"\n",
              "     width=\"24px\">\n",
              "    <g>\n",
              "        <path d=\"M19 3H5c-1.1 0-2 .9-2 2v14c0 1.1.9 2 2 2h14c1.1 0 2-.9 2-2V5c0-1.1-.9-2-2-2zM9 17H7v-7h2v7zm4 0h-2V7h2v10zm4 0h-2v-4h2v4z\"/>\n",
              "    </g>\n",
              "</svg>\n",
              "  </button>\n",
              "\n",
              "<style>\n",
              "  .colab-df-quickchart {\n",
              "      --bg-color: #E8F0FE;\n",
              "      --fill-color: #1967D2;\n",
              "      --hover-bg-color: #E2EBFA;\n",
              "      --hover-fill-color: #174EA6;\n",
              "      --disabled-fill-color: #AAA;\n",
              "      --disabled-bg-color: #DDD;\n",
              "  }\n",
              "\n",
              "  [theme=dark] .colab-df-quickchart {\n",
              "      --bg-color: #3B4455;\n",
              "      --fill-color: #D2E3FC;\n",
              "      --hover-bg-color: #434B5C;\n",
              "      --hover-fill-color: #FFFFFF;\n",
              "      --disabled-bg-color: #3B4455;\n",
              "      --disabled-fill-color: #666;\n",
              "  }\n",
              "\n",
              "  .colab-df-quickchart {\n",
              "    background-color: var(--bg-color);\n",
              "    border: none;\n",
              "    border-radius: 50%;\n",
              "    cursor: pointer;\n",
              "    display: none;\n",
              "    fill: var(--fill-color);\n",
              "    height: 32px;\n",
              "    padding: 0;\n",
              "    width: 32px;\n",
              "  }\n",
              "\n",
              "  .colab-df-quickchart:hover {\n",
              "    background-color: var(--hover-bg-color);\n",
              "    box-shadow: 0 1px 2px rgba(60, 64, 67, 0.3), 0 1px 3px 1px rgba(60, 64, 67, 0.15);\n",
              "    fill: var(--button-hover-fill-color);\n",
              "  }\n",
              "\n",
              "  .colab-df-quickchart-complete:disabled,\n",
              "  .colab-df-quickchart-complete:disabled:hover {\n",
              "    background-color: var(--disabled-bg-color);\n",
              "    fill: var(--disabled-fill-color);\n",
              "    box-shadow: none;\n",
              "  }\n",
              "\n",
              "  .colab-df-spinner {\n",
              "    border: 2px solid var(--fill-color);\n",
              "    border-color: transparent;\n",
              "    border-bottom-color: var(--fill-color);\n",
              "    animation:\n",
              "      spin 1s steps(1) infinite;\n",
              "  }\n",
              "\n",
              "  @keyframes spin {\n",
              "    0% {\n",
              "      border-color: transparent;\n",
              "      border-bottom-color: var(--fill-color);\n",
              "      border-left-color: var(--fill-color);\n",
              "    }\n",
              "    20% {\n",
              "      border-color: transparent;\n",
              "      border-left-color: var(--fill-color);\n",
              "      border-top-color: var(--fill-color);\n",
              "    }\n",
              "    30% {\n",
              "      border-color: transparent;\n",
              "      border-left-color: var(--fill-color);\n",
              "      border-top-color: var(--fill-color);\n",
              "      border-right-color: var(--fill-color);\n",
              "    }\n",
              "    40% {\n",
              "      border-color: transparent;\n",
              "      border-right-color: var(--fill-color);\n",
              "      border-top-color: var(--fill-color);\n",
              "    }\n",
              "    60% {\n",
              "      border-color: transparent;\n",
              "      border-right-color: var(--fill-color);\n",
              "    }\n",
              "    80% {\n",
              "      border-color: transparent;\n",
              "      border-right-color: var(--fill-color);\n",
              "      border-bottom-color: var(--fill-color);\n",
              "    }\n",
              "    90% {\n",
              "      border-color: transparent;\n",
              "      border-bottom-color: var(--fill-color);\n",
              "    }\n",
              "  }\n",
              "</style>\n",
              "\n",
              "  <script>\n",
              "    async function quickchart(key) {\n",
              "      const quickchartButtonEl =\n",
              "        document.querySelector('#' + key + ' button');\n",
              "      quickchartButtonEl.disabled = true;  // To prevent multiple clicks.\n",
              "      quickchartButtonEl.classList.add('colab-df-spinner');\n",
              "      try {\n",
              "        const charts = await google.colab.kernel.invokeFunction(\n",
              "            'suggestCharts', [key], {});\n",
              "      } catch (error) {\n",
              "        console.error('Error during call to suggestCharts:', error);\n",
              "      }\n",
              "      quickchartButtonEl.classList.remove('colab-df-spinner');\n",
              "      quickchartButtonEl.classList.add('colab-df-quickchart-complete');\n",
              "    }\n",
              "    (() => {\n",
              "      let quickchartButtonEl =\n",
              "        document.querySelector('#df-4ca65407-80d3-4dd0-8d1b-f8d1f78623c4 button');\n",
              "      quickchartButtonEl.style.display =\n",
              "        google.colab.kernel.accessAllowed ? 'block' : 'none';\n",
              "    })();\n",
              "  </script>\n",
              "</div>\n",
              "    </div>\n",
              "  </div>\n"
            ],
            "application/vnd.google.colaboratory.intrinsic+json": {
              "type": "dataframe",
              "variable_name": "df"
            }
          },
          "metadata": {},
          "execution_count": 83
        }
      ]
    },
    {
      "cell_type": "code",
      "source": [
        "df = pd.read_parquet('/content/drive/MyDrive/Expedia/Data/exploded_df_top50dest_searched_100Krows.parquet')"
      ],
      "metadata": {
        "id": "7i2E0eiCPTVc"
      },
      "execution_count": null,
      "outputs": []
    },
    {
      "cell_type": "code",
      "source": [
        "print(len(df['point_of_sale'].value_counts()))\n",
        "print(len(df['geo_location_country'].value_counts()))\n",
        "print(len(df['is_mobile'].value_counts()))\n",
        "print(len(df['destination_id'].value_counts()))\n",
        "print(len(df['sort_type'].value_counts()))\n",
        "print(len(df['search_day_of_week'].value_counts()))\n",
        "print(len(df['search_hour_of_day'].value_counts()))\n",
        "print(len(df['is_travel_ad'].value_counts()))\n",
        "print(len(df['review_rating'].value_counts()))\n",
        "print(len(df['star_rating'].value_counts()))\n",
        "print(len(df['is_free_cancellation'].value_counts()))\n",
        "print(len(df['is_drr'].value_counts()))\n",
        "print(len(df['price_bucket'].value_counts()))"
      ],
      "metadata": {
        "colab": {
          "base_uri": "https://localhost:8080/"
        },
        "id": "MNptM6NlVYCT",
        "outputId": "7f413873-ddc8-4f61-9685-ddb4264e6e4d"
      },
      "execution_count": null,
      "outputs": [
        {
          "output_type": "stream",
          "name": "stdout",
          "text": [
            "61\n",
            "71\n",
            "2\n",
            "50\n",
            "7\n",
            "7\n",
            "24\n",
            "2\n",
            "6\n",
            "7\n",
            "2\n",
            "2\n",
            "5\n"
          ]
        }
      ]
    },
    {
      "cell_type": "code",
      "source": [
        "df.info()"
      ],
      "metadata": {
        "colab": {
          "base_uri": "https://localhost:8080/"
        },
        "id": "DVHEaTsaVhDP",
        "outputId": "d98ba0ea-46cc-4a6f-f287-9159f472249b"
      },
      "execution_count": null,
      "outputs": [
        {
          "output_type": "stream",
          "name": "stdout",
          "text": [
            "<class 'pandas.core.frame.DataFrame'>\n",
            "RangeIndex: 575994 entries, 0 to 575993\n",
            "Data columns (total 31 columns):\n",
            " #   Column                Non-Null Count   Dtype              \n",
            "---  ------                --------------   -----              \n",
            " 0   user_id               575994 non-null  int64              \n",
            " 1   search_id             575994 non-null  int64              \n",
            " 2   search_timestamp      575994 non-null  datetime64[ns, UTC]\n",
            " 3   point_of_sale         575994 non-null  int64              \n",
            " 4   geo_location_country  575994 non-null  int64              \n",
            " 5   is_mobile             575994 non-null  int64              \n",
            " 6   destination_id        575994 non-null  int64              \n",
            " 7   checkin_date          575994 non-null  object             \n",
            " 8   checkout_date         575994 non-null  object             \n",
            " 9   adult_count           575994 non-null  int64              \n",
            " 10  child_count           575994 non-null  int64              \n",
            " 11  infant_count          575994 non-null  int64              \n",
            " 12  room_count            575994 non-null  int64              \n",
            " 13  sort_type             575994 non-null  object             \n",
            " 14  length_of_stay        575994 non-null  float64            \n",
            " 15  booking_window        575994 non-null  float64            \n",
            " 16  search_day_of_week    575994 non-null  int64              \n",
            " 17  search_hour_of_day    575994 non-null  int64              \n",
            " 18  rank                  575994 non-null  int64              \n",
            " 19  is_travel_ad          575994 non-null  int64              \n",
            " 20  review_rating         575951 non-null  float64            \n",
            " 21  review_count          575951 non-null  float64            \n",
            " 22  star_rating           536347 non-null  float64            \n",
            " 23  is_free_cancellation  575994 non-null  int64              \n",
            " 24  is_drr                575994 non-null  int64              \n",
            " 25  price_bucket          552789 non-null  float64            \n",
            " 26  num_clicks            575994 non-null  int64              \n",
            " 27  is_trans              575994 non-null  int64              \n",
            " 28  rank_noad             575994 non-null  float64            \n",
            " 29  checkin_day           575994 non-null  int32              \n",
            " 30  checkout_day          575994 non-null  int32              \n",
            "dtypes: datetime64[ns, UTC](1), float64(7), int32(2), int64(18), object(3)\n",
            "memory usage: 131.8+ MB\n"
          ]
        }
      ]
    },
    {
      "cell_type": "code",
      "source": [
        "df['is_mobile'] = df['is_mobile'].astype('category')\n",
        "df['destination_id'] = df['destination_id'].astype('category')\n",
        "df['sort_type'] = df['sort_type'].astype('category')\n",
        "df['search_day_of_week'] = df['search_day_of_week'].astype('category')\n",
        "df['is_travel_ad'] = df['is_travel_ad'].astype('category')\n",
        "df['is_free_cancellation'] = df['is_free_cancellation'].astype('category')\n",
        "df['is_drr'] = df['is_drr'].astype('category')"
      ],
      "metadata": {
        "id": "yri_Pc_QXuuF"
      },
      "execution_count": null,
      "outputs": []
    },
    {
      "cell_type": "code",
      "source": [
        "df.head()"
      ],
      "metadata": {
        "colab": {
          "base_uri": "https://localhost:8080/",
          "height": 309
        },
        "id": "N0K3nzQdY7RO",
        "outputId": "5aba5778-8d5b-4a2b-e475-594645f8255b"
      },
      "execution_count": null,
      "outputs": [
        {
          "output_type": "execute_result",
          "data": {
            "text/plain": [
              "   user_id  search_id          search_timestamp  point_of_sale  \\\n",
              "0        3          3 2021-07-16 01:08:00+00:00             12   \n",
              "1        3          3 2021-07-16 01:08:00+00:00             12   \n",
              "2        3          3 2021-07-16 01:08:00+00:00             12   \n",
              "3        3          3 2021-07-16 01:08:00+00:00             12   \n",
              "4        3          3 2021-07-16 01:08:00+00:00             12   \n",
              "\n",
              "   geo_location_country is_mobile destination_id checkin_date checkout_date  \\\n",
              "0                     1         0             13   2021-08-25    2021-08-28   \n",
              "1                     1         0             13   2021-08-25    2021-08-28   \n",
              "2                     1         0             13   2021-08-25    2021-08-28   \n",
              "3                     1         0             13   2021-08-25    2021-08-28   \n",
              "4                     1         0             13   2021-08-25    2021-08-28   \n",
              "\n",
              "   adult_count  child_count  infant_count  room_count    sort_type  \\\n",
              "0            2            0             0           1  RECOMMENDED   \n",
              "1            2            0             0           1  RECOMMENDED   \n",
              "2            2            0             0           1  RECOMMENDED   \n",
              "3            2            0             0           1  RECOMMENDED   \n",
              "4            2            0             0           1  RECOMMENDED   \n",
              "\n",
              "   length_of_stay  booking_window search_day_of_week  search_hour_of_day  \\\n",
              "0             3.0            39.0                  4                   1   \n",
              "1             3.0            39.0                  4                   1   \n",
              "2             3.0            39.0                  4                   1   \n",
              "3             3.0            39.0                  4                   1   \n",
              "4             3.0            39.0                  4                   1   \n",
              "\n",
              "   rank is_travel_ad  review_rating  review_count  star_rating  \\\n",
              "0     1            1            4.0        1625.0          5.0   \n",
              "1     2            1            4.0         275.0          4.0   \n",
              "2     3            1            4.0        1275.0          5.0   \n",
              "3     4            1            5.0        1250.0          5.0   \n",
              "4     5            0            4.0        5200.0          5.0   \n",
              "\n",
              "  is_free_cancellation is_drr  price_bucket  num_clicks  is_trans  rank_noad  \\\n",
              "0                    0      0           5.0           0         0        0.0   \n",
              "1                    1      1           4.0           0         0        0.0   \n",
              "2                    1      0           4.0           0         0        0.0   \n",
              "3                    1      1           5.0           0         0        0.0   \n",
              "4                    1      1           5.0           0         0        1.0   \n",
              "\n",
              "   checkin_day  checkout_day  \n",
              "0            2             2  \n",
              "1            2             2  \n",
              "2            2             2  \n",
              "3            2             2  \n",
              "4            2             2  "
            ],
            "text/html": [
              "\n",
              "  <div id=\"df-37c4352c-eabc-43fe-b8ae-2879e2dbdb2a\" class=\"colab-df-container\">\n",
              "    <div>\n",
              "<style scoped>\n",
              "    .dataframe tbody tr th:only-of-type {\n",
              "        vertical-align: middle;\n",
              "    }\n",
              "\n",
              "    .dataframe tbody tr th {\n",
              "        vertical-align: top;\n",
              "    }\n",
              "\n",
              "    .dataframe thead th {\n",
              "        text-align: right;\n",
              "    }\n",
              "</style>\n",
              "<table border=\"1\" class=\"dataframe\">\n",
              "  <thead>\n",
              "    <tr style=\"text-align: right;\">\n",
              "      <th></th>\n",
              "      <th>user_id</th>\n",
              "      <th>search_id</th>\n",
              "      <th>search_timestamp</th>\n",
              "      <th>point_of_sale</th>\n",
              "      <th>geo_location_country</th>\n",
              "      <th>is_mobile</th>\n",
              "      <th>destination_id</th>\n",
              "      <th>checkin_date</th>\n",
              "      <th>checkout_date</th>\n",
              "      <th>adult_count</th>\n",
              "      <th>child_count</th>\n",
              "      <th>infant_count</th>\n",
              "      <th>room_count</th>\n",
              "      <th>sort_type</th>\n",
              "      <th>length_of_stay</th>\n",
              "      <th>booking_window</th>\n",
              "      <th>search_day_of_week</th>\n",
              "      <th>search_hour_of_day</th>\n",
              "      <th>rank</th>\n",
              "      <th>is_travel_ad</th>\n",
              "      <th>review_rating</th>\n",
              "      <th>review_count</th>\n",
              "      <th>star_rating</th>\n",
              "      <th>is_free_cancellation</th>\n",
              "      <th>is_drr</th>\n",
              "      <th>price_bucket</th>\n",
              "      <th>num_clicks</th>\n",
              "      <th>is_trans</th>\n",
              "      <th>rank_noad</th>\n",
              "      <th>checkin_day</th>\n",
              "      <th>checkout_day</th>\n",
              "    </tr>\n",
              "  </thead>\n",
              "  <tbody>\n",
              "    <tr>\n",
              "      <th>0</th>\n",
              "      <td>3</td>\n",
              "      <td>3</td>\n",
              "      <td>2021-07-16 01:08:00+00:00</td>\n",
              "      <td>12</td>\n",
              "      <td>1</td>\n",
              "      <td>0</td>\n",
              "      <td>13</td>\n",
              "      <td>2021-08-25</td>\n",
              "      <td>2021-08-28</td>\n",
              "      <td>2</td>\n",
              "      <td>0</td>\n",
              "      <td>0</td>\n",
              "      <td>1</td>\n",
              "      <td>RECOMMENDED</td>\n",
              "      <td>3.0</td>\n",
              "      <td>39.0</td>\n",
              "      <td>4</td>\n",
              "      <td>1</td>\n",
              "      <td>1</td>\n",
              "      <td>1</td>\n",
              "      <td>4.0</td>\n",
              "      <td>1625.0</td>\n",
              "      <td>5.0</td>\n",
              "      <td>0</td>\n",
              "      <td>0</td>\n",
              "      <td>5.0</td>\n",
              "      <td>0</td>\n",
              "      <td>0</td>\n",
              "      <td>0.0</td>\n",
              "      <td>2</td>\n",
              "      <td>2</td>\n",
              "    </tr>\n",
              "    <tr>\n",
              "      <th>1</th>\n",
              "      <td>3</td>\n",
              "      <td>3</td>\n",
              "      <td>2021-07-16 01:08:00+00:00</td>\n",
              "      <td>12</td>\n",
              "      <td>1</td>\n",
              "      <td>0</td>\n",
              "      <td>13</td>\n",
              "      <td>2021-08-25</td>\n",
              "      <td>2021-08-28</td>\n",
              "      <td>2</td>\n",
              "      <td>0</td>\n",
              "      <td>0</td>\n",
              "      <td>1</td>\n",
              "      <td>RECOMMENDED</td>\n",
              "      <td>3.0</td>\n",
              "      <td>39.0</td>\n",
              "      <td>4</td>\n",
              "      <td>1</td>\n",
              "      <td>2</td>\n",
              "      <td>1</td>\n",
              "      <td>4.0</td>\n",
              "      <td>275.0</td>\n",
              "      <td>4.0</td>\n",
              "      <td>1</td>\n",
              "      <td>1</td>\n",
              "      <td>4.0</td>\n",
              "      <td>0</td>\n",
              "      <td>0</td>\n",
              "      <td>0.0</td>\n",
              "      <td>2</td>\n",
              "      <td>2</td>\n",
              "    </tr>\n",
              "    <tr>\n",
              "      <th>2</th>\n",
              "      <td>3</td>\n",
              "      <td>3</td>\n",
              "      <td>2021-07-16 01:08:00+00:00</td>\n",
              "      <td>12</td>\n",
              "      <td>1</td>\n",
              "      <td>0</td>\n",
              "      <td>13</td>\n",
              "      <td>2021-08-25</td>\n",
              "      <td>2021-08-28</td>\n",
              "      <td>2</td>\n",
              "      <td>0</td>\n",
              "      <td>0</td>\n",
              "      <td>1</td>\n",
              "      <td>RECOMMENDED</td>\n",
              "      <td>3.0</td>\n",
              "      <td>39.0</td>\n",
              "      <td>4</td>\n",
              "      <td>1</td>\n",
              "      <td>3</td>\n",
              "      <td>1</td>\n",
              "      <td>4.0</td>\n",
              "      <td>1275.0</td>\n",
              "      <td>5.0</td>\n",
              "      <td>1</td>\n",
              "      <td>0</td>\n",
              "      <td>4.0</td>\n",
              "      <td>0</td>\n",
              "      <td>0</td>\n",
              "      <td>0.0</td>\n",
              "      <td>2</td>\n",
              "      <td>2</td>\n",
              "    </tr>\n",
              "    <tr>\n",
              "      <th>3</th>\n",
              "      <td>3</td>\n",
              "      <td>3</td>\n",
              "      <td>2021-07-16 01:08:00+00:00</td>\n",
              "      <td>12</td>\n",
              "      <td>1</td>\n",
              "      <td>0</td>\n",
              "      <td>13</td>\n",
              "      <td>2021-08-25</td>\n",
              "      <td>2021-08-28</td>\n",
              "      <td>2</td>\n",
              "      <td>0</td>\n",
              "      <td>0</td>\n",
              "      <td>1</td>\n",
              "      <td>RECOMMENDED</td>\n",
              "      <td>3.0</td>\n",
              "      <td>39.0</td>\n",
              "      <td>4</td>\n",
              "      <td>1</td>\n",
              "      <td>4</td>\n",
              "      <td>1</td>\n",
              "      <td>5.0</td>\n",
              "      <td>1250.0</td>\n",
              "      <td>5.0</td>\n",
              "      <td>1</td>\n",
              "      <td>1</td>\n",
              "      <td>5.0</td>\n",
              "      <td>0</td>\n",
              "      <td>0</td>\n",
              "      <td>0.0</td>\n",
              "      <td>2</td>\n",
              "      <td>2</td>\n",
              "    </tr>\n",
              "    <tr>\n",
              "      <th>4</th>\n",
              "      <td>3</td>\n",
              "      <td>3</td>\n",
              "      <td>2021-07-16 01:08:00+00:00</td>\n",
              "      <td>12</td>\n",
              "      <td>1</td>\n",
              "      <td>0</td>\n",
              "      <td>13</td>\n",
              "      <td>2021-08-25</td>\n",
              "      <td>2021-08-28</td>\n",
              "      <td>2</td>\n",
              "      <td>0</td>\n",
              "      <td>0</td>\n",
              "      <td>1</td>\n",
              "      <td>RECOMMENDED</td>\n",
              "      <td>3.0</td>\n",
              "      <td>39.0</td>\n",
              "      <td>4</td>\n",
              "      <td>1</td>\n",
              "      <td>5</td>\n",
              "      <td>0</td>\n",
              "      <td>4.0</td>\n",
              "      <td>5200.0</td>\n",
              "      <td>5.0</td>\n",
              "      <td>1</td>\n",
              "      <td>1</td>\n",
              "      <td>5.0</td>\n",
              "      <td>0</td>\n",
              "      <td>0</td>\n",
              "      <td>1.0</td>\n",
              "      <td>2</td>\n",
              "      <td>2</td>\n",
              "    </tr>\n",
              "  </tbody>\n",
              "</table>\n",
              "</div>\n",
              "    <div class=\"colab-df-buttons\">\n",
              "\n",
              "  <div class=\"colab-df-container\">\n",
              "    <button class=\"colab-df-convert\" onclick=\"convertToInteractive('df-37c4352c-eabc-43fe-b8ae-2879e2dbdb2a')\"\n",
              "            title=\"Convert this dataframe to an interactive table.\"\n",
              "            style=\"display:none;\">\n",
              "\n",
              "  <svg xmlns=\"http://www.w3.org/2000/svg\" height=\"24px\" viewBox=\"0 -960 960 960\">\n",
              "    <path d=\"M120-120v-720h720v720H120Zm60-500h600v-160H180v160Zm220 220h160v-160H400v160Zm0 220h160v-160H400v160ZM180-400h160v-160H180v160Zm440 0h160v-160H620v160ZM180-180h160v-160H180v160Zm440 0h160v-160H620v160Z\"/>\n",
              "  </svg>\n",
              "    </button>\n",
              "\n",
              "  <style>\n",
              "    .colab-df-container {\n",
              "      display:flex;\n",
              "      gap: 12px;\n",
              "    }\n",
              "\n",
              "    .colab-df-convert {\n",
              "      background-color: #E8F0FE;\n",
              "      border: none;\n",
              "      border-radius: 50%;\n",
              "      cursor: pointer;\n",
              "      display: none;\n",
              "      fill: #1967D2;\n",
              "      height: 32px;\n",
              "      padding: 0 0 0 0;\n",
              "      width: 32px;\n",
              "    }\n",
              "\n",
              "    .colab-df-convert:hover {\n",
              "      background-color: #E2EBFA;\n",
              "      box-shadow: 0px 1px 2px rgba(60, 64, 67, 0.3), 0px 1px 3px 1px rgba(60, 64, 67, 0.15);\n",
              "      fill: #174EA6;\n",
              "    }\n",
              "\n",
              "    .colab-df-buttons div {\n",
              "      margin-bottom: 4px;\n",
              "    }\n",
              "\n",
              "    [theme=dark] .colab-df-convert {\n",
              "      background-color: #3B4455;\n",
              "      fill: #D2E3FC;\n",
              "    }\n",
              "\n",
              "    [theme=dark] .colab-df-convert:hover {\n",
              "      background-color: #434B5C;\n",
              "      box-shadow: 0px 1px 3px 1px rgba(0, 0, 0, 0.15);\n",
              "      filter: drop-shadow(0px 1px 2px rgba(0, 0, 0, 0.3));\n",
              "      fill: #FFFFFF;\n",
              "    }\n",
              "  </style>\n",
              "\n",
              "    <script>\n",
              "      const buttonEl =\n",
              "        document.querySelector('#df-37c4352c-eabc-43fe-b8ae-2879e2dbdb2a button.colab-df-convert');\n",
              "      buttonEl.style.display =\n",
              "        google.colab.kernel.accessAllowed ? 'block' : 'none';\n",
              "\n",
              "      async function convertToInteractive(key) {\n",
              "        const element = document.querySelector('#df-37c4352c-eabc-43fe-b8ae-2879e2dbdb2a');\n",
              "        const dataTable =\n",
              "          await google.colab.kernel.invokeFunction('convertToInteractive',\n",
              "                                                    [key], {});\n",
              "        if (!dataTable) return;\n",
              "\n",
              "        const docLinkHtml = 'Like what you see? Visit the ' +\n",
              "          '<a target=\"_blank\" href=https://colab.research.google.com/notebooks/data_table.ipynb>data table notebook</a>'\n",
              "          + ' to learn more about interactive tables.';\n",
              "        element.innerHTML = '';\n",
              "        dataTable['output_type'] = 'display_data';\n",
              "        await google.colab.output.renderOutput(dataTable, element);\n",
              "        const docLink = document.createElement('div');\n",
              "        docLink.innerHTML = docLinkHtml;\n",
              "        element.appendChild(docLink);\n",
              "      }\n",
              "    </script>\n",
              "  </div>\n",
              "\n",
              "\n",
              "<div id=\"df-e6c0fac6-f7d8-4bb5-b115-f6dadefaffeb\">\n",
              "  <button class=\"colab-df-quickchart\" onclick=\"quickchart('df-e6c0fac6-f7d8-4bb5-b115-f6dadefaffeb')\"\n",
              "            title=\"Suggest charts\"\n",
              "            style=\"display:none;\">\n",
              "\n",
              "<svg xmlns=\"http://www.w3.org/2000/svg\" height=\"24px\"viewBox=\"0 0 24 24\"\n",
              "     width=\"24px\">\n",
              "    <g>\n",
              "        <path d=\"M19 3H5c-1.1 0-2 .9-2 2v14c0 1.1.9 2 2 2h14c1.1 0 2-.9 2-2V5c0-1.1-.9-2-2-2zM9 17H7v-7h2v7zm4 0h-2V7h2v10zm4 0h-2v-4h2v4z\"/>\n",
              "    </g>\n",
              "</svg>\n",
              "  </button>\n",
              "\n",
              "<style>\n",
              "  .colab-df-quickchart {\n",
              "      --bg-color: #E8F0FE;\n",
              "      --fill-color: #1967D2;\n",
              "      --hover-bg-color: #E2EBFA;\n",
              "      --hover-fill-color: #174EA6;\n",
              "      --disabled-fill-color: #AAA;\n",
              "      --disabled-bg-color: #DDD;\n",
              "  }\n",
              "\n",
              "  [theme=dark] .colab-df-quickchart {\n",
              "      --bg-color: #3B4455;\n",
              "      --fill-color: #D2E3FC;\n",
              "      --hover-bg-color: #434B5C;\n",
              "      --hover-fill-color: #FFFFFF;\n",
              "      --disabled-bg-color: #3B4455;\n",
              "      --disabled-fill-color: #666;\n",
              "  }\n",
              "\n",
              "  .colab-df-quickchart {\n",
              "    background-color: var(--bg-color);\n",
              "    border: none;\n",
              "    border-radius: 50%;\n",
              "    cursor: pointer;\n",
              "    display: none;\n",
              "    fill: var(--fill-color);\n",
              "    height: 32px;\n",
              "    padding: 0;\n",
              "    width: 32px;\n",
              "  }\n",
              "\n",
              "  .colab-df-quickchart:hover {\n",
              "    background-color: var(--hover-bg-color);\n",
              "    box-shadow: 0 1px 2px rgba(60, 64, 67, 0.3), 0 1px 3px 1px rgba(60, 64, 67, 0.15);\n",
              "    fill: var(--button-hover-fill-color);\n",
              "  }\n",
              "\n",
              "  .colab-df-quickchart-complete:disabled,\n",
              "  .colab-df-quickchart-complete:disabled:hover {\n",
              "    background-color: var(--disabled-bg-color);\n",
              "    fill: var(--disabled-fill-color);\n",
              "    box-shadow: none;\n",
              "  }\n",
              "\n",
              "  .colab-df-spinner {\n",
              "    border: 2px solid var(--fill-color);\n",
              "    border-color: transparent;\n",
              "    border-bottom-color: var(--fill-color);\n",
              "    animation:\n",
              "      spin 1s steps(1) infinite;\n",
              "  }\n",
              "\n",
              "  @keyframes spin {\n",
              "    0% {\n",
              "      border-color: transparent;\n",
              "      border-bottom-color: var(--fill-color);\n",
              "      border-left-color: var(--fill-color);\n",
              "    }\n",
              "    20% {\n",
              "      border-color: transparent;\n",
              "      border-left-color: var(--fill-color);\n",
              "      border-top-color: var(--fill-color);\n",
              "    }\n",
              "    30% {\n",
              "      border-color: transparent;\n",
              "      border-left-color: var(--fill-color);\n",
              "      border-top-color: var(--fill-color);\n",
              "      border-right-color: var(--fill-color);\n",
              "    }\n",
              "    40% {\n",
              "      border-color: transparent;\n",
              "      border-right-color: var(--fill-color);\n",
              "      border-top-color: var(--fill-color);\n",
              "    }\n",
              "    60% {\n",
              "      border-color: transparent;\n",
              "      border-right-color: var(--fill-color);\n",
              "    }\n",
              "    80% {\n",
              "      border-color: transparent;\n",
              "      border-right-color: var(--fill-color);\n",
              "      border-bottom-color: var(--fill-color);\n",
              "    }\n",
              "    90% {\n",
              "      border-color: transparent;\n",
              "      border-bottom-color: var(--fill-color);\n",
              "    }\n",
              "  }\n",
              "</style>\n",
              "\n",
              "  <script>\n",
              "    async function quickchart(key) {\n",
              "      const quickchartButtonEl =\n",
              "        document.querySelector('#' + key + ' button');\n",
              "      quickchartButtonEl.disabled = true;  // To prevent multiple clicks.\n",
              "      quickchartButtonEl.classList.add('colab-df-spinner');\n",
              "      try {\n",
              "        const charts = await google.colab.kernel.invokeFunction(\n",
              "            'suggestCharts', [key], {});\n",
              "      } catch (error) {\n",
              "        console.error('Error during call to suggestCharts:', error);\n",
              "      }\n",
              "      quickchartButtonEl.classList.remove('colab-df-spinner');\n",
              "      quickchartButtonEl.classList.add('colab-df-quickchart-complete');\n",
              "    }\n",
              "    (() => {\n",
              "      let quickchartButtonEl =\n",
              "        document.querySelector('#df-e6c0fac6-f7d8-4bb5-b115-f6dadefaffeb button');\n",
              "      quickchartButtonEl.style.display =\n",
              "        google.colab.kernel.accessAllowed ? 'block' : 'none';\n",
              "    })();\n",
              "  </script>\n",
              "</div>\n",
              "    </div>\n",
              "  </div>\n"
            ],
            "application/vnd.google.colaboratory.intrinsic+json": {
              "type": "dataframe",
              "variable_name": "df"
            }
          },
          "metadata": {},
          "execution_count": 140
        }
      ]
    },
    {
      "cell_type": "code",
      "source": [
        "df['star_rating'] = df['star_rating'].astype('category')\n",
        "df['review_rating'] = df['review_rating'].astype('category')\n",
        "df['price_bucket'] = df['price_bucket'].astype('category')"
      ],
      "metadata": {
        "id": "vwB5xW0TdEOy"
      },
      "execution_count": null,
      "outputs": []
    },
    {
      "cell_type": "code",
      "source": [
        "df2 = df.copy()"
      ],
      "metadata": {
        "id": "0kcEPJulY9pC"
      },
      "execution_count": null,
      "outputs": []
    },
    {
      "cell_type": "markdown",
      "source": [
        "## LIGHTGBM"
      ],
      "metadata": {
        "id": "sQ0UxJkSukGI"
      }
    },
    {
      "cell_type": "code",
      "source": [
        "df = pd.read_parquet('/content/drive/MyDrive/Expedia/Data/exploded_df_top50dest_searched_100Krows.parquet')"
      ],
      "metadata": {
        "id": "X3VZuScquc37"
      },
      "execution_count": 269,
      "outputs": []
    },
    {
      "cell_type": "code",
      "source": [
        "df.shape"
      ],
      "metadata": {
        "colab": {
          "base_uri": "https://localhost:8080/"
        },
        "id": "vhyL90TaqkHL",
        "outputId": "34f1797a-59a4-4857-8ab6-d5c6bd51c544"
      },
      "execution_count": 270,
      "outputs": [
        {
          "output_type": "execute_result",
          "data": {
            "text/plain": [
              "(80386, 29)"
            ]
          },
          "metadata": {},
          "execution_count": 270
        }
      ]
    },
    {
      "cell_type": "code",
      "source": [
        "df_m = df.groupby('search_id', as_index=False).agg({'num_clicks':'sum', 'is_trans':'sum'})\n",
        "\n",
        "no_s_id = df_m[df_m['num_clicks'] != 0]['search_id'].tolist()\n",
        "\n",
        "df = df[df['search_id'].isin(no_s_id)]\n",
        "df.shape"
      ],
      "metadata": {
        "colab": {
          "base_uri": "https://localhost:8080/"
        },
        "id": "5fEX6Ib0qbpQ",
        "outputId": "1946ea0f-b5e5-4091-ac75-a455874c8ae1"
      },
      "execution_count": 271,
      "outputs": [
        {
          "output_type": "execute_result",
          "data": {
            "text/plain": [
              "(80386, 29)"
            ]
          },
          "metadata": {},
          "execution_count": 271
        }
      ]
    },
    {
      "cell_type": "code",
      "source": [
        "df.groupby('search_id').agg({'num_clicks':'sum', 'is_trans':'sum'})"
      ],
      "metadata": {
        "colab": {
          "base_uri": "https://localhost:8080/",
          "height": 450
        },
        "id": "XjnjgTPepflQ",
        "outputId": "ca8487ed-d61d-4bc9-dd03-7b4dd0547f6d"
      },
      "execution_count": 272,
      "outputs": [
        {
          "output_type": "execute_result",
          "data": {
            "text/plain": [
              "           num_clicks  is_trans\n",
              "search_id                      \n",
              "2                   1         0\n",
              "82                  2         0\n",
              "113                 1         1\n",
              "139                 2         0\n",
              "141                 4         0\n",
              "...               ...       ...\n",
              "99431               2         0\n",
              "99508               2         0\n",
              "99663               1         0\n",
              "99669               3         0\n",
              "99731               1         0\n",
              "\n",
              "[2798 rows x 2 columns]"
            ],
            "text/html": [
              "\n",
              "  <div id=\"df-dd883f86-4a8a-4bad-a332-2865b7449e8f\" class=\"colab-df-container\">\n",
              "    <div>\n",
              "<style scoped>\n",
              "    .dataframe tbody tr th:only-of-type {\n",
              "        vertical-align: middle;\n",
              "    }\n",
              "\n",
              "    .dataframe tbody tr th {\n",
              "        vertical-align: top;\n",
              "    }\n",
              "\n",
              "    .dataframe thead th {\n",
              "        text-align: right;\n",
              "    }\n",
              "</style>\n",
              "<table border=\"1\" class=\"dataframe\">\n",
              "  <thead>\n",
              "    <tr style=\"text-align: right;\">\n",
              "      <th></th>\n",
              "      <th>num_clicks</th>\n",
              "      <th>is_trans</th>\n",
              "    </tr>\n",
              "    <tr>\n",
              "      <th>search_id</th>\n",
              "      <th></th>\n",
              "      <th></th>\n",
              "    </tr>\n",
              "  </thead>\n",
              "  <tbody>\n",
              "    <tr>\n",
              "      <th>2</th>\n",
              "      <td>1</td>\n",
              "      <td>0</td>\n",
              "    </tr>\n",
              "    <tr>\n",
              "      <th>82</th>\n",
              "      <td>2</td>\n",
              "      <td>0</td>\n",
              "    </tr>\n",
              "    <tr>\n",
              "      <th>113</th>\n",
              "      <td>1</td>\n",
              "      <td>1</td>\n",
              "    </tr>\n",
              "    <tr>\n",
              "      <th>139</th>\n",
              "      <td>2</td>\n",
              "      <td>0</td>\n",
              "    </tr>\n",
              "    <tr>\n",
              "      <th>141</th>\n",
              "      <td>4</td>\n",
              "      <td>0</td>\n",
              "    </tr>\n",
              "    <tr>\n",
              "      <th>...</th>\n",
              "      <td>...</td>\n",
              "      <td>...</td>\n",
              "    </tr>\n",
              "    <tr>\n",
              "      <th>99431</th>\n",
              "      <td>2</td>\n",
              "      <td>0</td>\n",
              "    </tr>\n",
              "    <tr>\n",
              "      <th>99508</th>\n",
              "      <td>2</td>\n",
              "      <td>0</td>\n",
              "    </tr>\n",
              "    <tr>\n",
              "      <th>99663</th>\n",
              "      <td>1</td>\n",
              "      <td>0</td>\n",
              "    </tr>\n",
              "    <tr>\n",
              "      <th>99669</th>\n",
              "      <td>3</td>\n",
              "      <td>0</td>\n",
              "    </tr>\n",
              "    <tr>\n",
              "      <th>99731</th>\n",
              "      <td>1</td>\n",
              "      <td>0</td>\n",
              "    </tr>\n",
              "  </tbody>\n",
              "</table>\n",
              "<p>2798 rows × 2 columns</p>\n",
              "</div>\n",
              "    <div class=\"colab-df-buttons\">\n",
              "\n",
              "  <div class=\"colab-df-container\">\n",
              "    <button class=\"colab-df-convert\" onclick=\"convertToInteractive('df-dd883f86-4a8a-4bad-a332-2865b7449e8f')\"\n",
              "            title=\"Convert this dataframe to an interactive table.\"\n",
              "            style=\"display:none;\">\n",
              "\n",
              "  <svg xmlns=\"http://www.w3.org/2000/svg\" height=\"24px\" viewBox=\"0 -960 960 960\">\n",
              "    <path d=\"M120-120v-720h720v720H120Zm60-500h600v-160H180v160Zm220 220h160v-160H400v160Zm0 220h160v-160H400v160ZM180-400h160v-160H180v160Zm440 0h160v-160H620v160ZM180-180h160v-160H180v160Zm440 0h160v-160H620v160Z\"/>\n",
              "  </svg>\n",
              "    </button>\n",
              "\n",
              "  <style>\n",
              "    .colab-df-container {\n",
              "      display:flex;\n",
              "      gap: 12px;\n",
              "    }\n",
              "\n",
              "    .colab-df-convert {\n",
              "      background-color: #E8F0FE;\n",
              "      border: none;\n",
              "      border-radius: 50%;\n",
              "      cursor: pointer;\n",
              "      display: none;\n",
              "      fill: #1967D2;\n",
              "      height: 32px;\n",
              "      padding: 0 0 0 0;\n",
              "      width: 32px;\n",
              "    }\n",
              "\n",
              "    .colab-df-convert:hover {\n",
              "      background-color: #E2EBFA;\n",
              "      box-shadow: 0px 1px 2px rgba(60, 64, 67, 0.3), 0px 1px 3px 1px rgba(60, 64, 67, 0.15);\n",
              "      fill: #174EA6;\n",
              "    }\n",
              "\n",
              "    .colab-df-buttons div {\n",
              "      margin-bottom: 4px;\n",
              "    }\n",
              "\n",
              "    [theme=dark] .colab-df-convert {\n",
              "      background-color: #3B4455;\n",
              "      fill: #D2E3FC;\n",
              "    }\n",
              "\n",
              "    [theme=dark] .colab-df-convert:hover {\n",
              "      background-color: #434B5C;\n",
              "      box-shadow: 0px 1px 3px 1px rgba(0, 0, 0, 0.15);\n",
              "      filter: drop-shadow(0px 1px 2px rgba(0, 0, 0, 0.3));\n",
              "      fill: #FFFFFF;\n",
              "    }\n",
              "  </style>\n",
              "\n",
              "    <script>\n",
              "      const buttonEl =\n",
              "        document.querySelector('#df-dd883f86-4a8a-4bad-a332-2865b7449e8f button.colab-df-convert');\n",
              "      buttonEl.style.display =\n",
              "        google.colab.kernel.accessAllowed ? 'block' : 'none';\n",
              "\n",
              "      async function convertToInteractive(key) {\n",
              "        const element = document.querySelector('#df-dd883f86-4a8a-4bad-a332-2865b7449e8f');\n",
              "        const dataTable =\n",
              "          await google.colab.kernel.invokeFunction('convertToInteractive',\n",
              "                                                    [key], {});\n",
              "        if (!dataTable) return;\n",
              "\n",
              "        const docLinkHtml = 'Like what you see? Visit the ' +\n",
              "          '<a target=\"_blank\" href=https://colab.research.google.com/notebooks/data_table.ipynb>data table notebook</a>'\n",
              "          + ' to learn more about interactive tables.';\n",
              "        element.innerHTML = '';\n",
              "        dataTable['output_type'] = 'display_data';\n",
              "        await google.colab.output.renderOutput(dataTable, element);\n",
              "        const docLink = document.createElement('div');\n",
              "        docLink.innerHTML = docLinkHtml;\n",
              "        element.appendChild(docLink);\n",
              "      }\n",
              "    </script>\n",
              "  </div>\n",
              "\n",
              "\n",
              "<div id=\"df-242127e8-f014-45a1-9ce6-8ff799192d65\">\n",
              "  <button class=\"colab-df-quickchart\" onclick=\"quickchart('df-242127e8-f014-45a1-9ce6-8ff799192d65')\"\n",
              "            title=\"Suggest charts\"\n",
              "            style=\"display:none;\">\n",
              "\n",
              "<svg xmlns=\"http://www.w3.org/2000/svg\" height=\"24px\"viewBox=\"0 0 24 24\"\n",
              "     width=\"24px\">\n",
              "    <g>\n",
              "        <path d=\"M19 3H5c-1.1 0-2 .9-2 2v14c0 1.1.9 2 2 2h14c1.1 0 2-.9 2-2V5c0-1.1-.9-2-2-2zM9 17H7v-7h2v7zm4 0h-2V7h2v10zm4 0h-2v-4h2v4z\"/>\n",
              "    </g>\n",
              "</svg>\n",
              "  </button>\n",
              "\n",
              "<style>\n",
              "  .colab-df-quickchart {\n",
              "      --bg-color: #E8F0FE;\n",
              "      --fill-color: #1967D2;\n",
              "      --hover-bg-color: #E2EBFA;\n",
              "      --hover-fill-color: #174EA6;\n",
              "      --disabled-fill-color: #AAA;\n",
              "      --disabled-bg-color: #DDD;\n",
              "  }\n",
              "\n",
              "  [theme=dark] .colab-df-quickchart {\n",
              "      --bg-color: #3B4455;\n",
              "      --fill-color: #D2E3FC;\n",
              "      --hover-bg-color: #434B5C;\n",
              "      --hover-fill-color: #FFFFFF;\n",
              "      --disabled-bg-color: #3B4455;\n",
              "      --disabled-fill-color: #666;\n",
              "  }\n",
              "\n",
              "  .colab-df-quickchart {\n",
              "    background-color: var(--bg-color);\n",
              "    border: none;\n",
              "    border-radius: 50%;\n",
              "    cursor: pointer;\n",
              "    display: none;\n",
              "    fill: var(--fill-color);\n",
              "    height: 32px;\n",
              "    padding: 0;\n",
              "    width: 32px;\n",
              "  }\n",
              "\n",
              "  .colab-df-quickchart:hover {\n",
              "    background-color: var(--hover-bg-color);\n",
              "    box-shadow: 0 1px 2px rgba(60, 64, 67, 0.3), 0 1px 3px 1px rgba(60, 64, 67, 0.15);\n",
              "    fill: var(--button-hover-fill-color);\n",
              "  }\n",
              "\n",
              "  .colab-df-quickchart-complete:disabled,\n",
              "  .colab-df-quickchart-complete:disabled:hover {\n",
              "    background-color: var(--disabled-bg-color);\n",
              "    fill: var(--disabled-fill-color);\n",
              "    box-shadow: none;\n",
              "  }\n",
              "\n",
              "  .colab-df-spinner {\n",
              "    border: 2px solid var(--fill-color);\n",
              "    border-color: transparent;\n",
              "    border-bottom-color: var(--fill-color);\n",
              "    animation:\n",
              "      spin 1s steps(1) infinite;\n",
              "  }\n",
              "\n",
              "  @keyframes spin {\n",
              "    0% {\n",
              "      border-color: transparent;\n",
              "      border-bottom-color: var(--fill-color);\n",
              "      border-left-color: var(--fill-color);\n",
              "    }\n",
              "    20% {\n",
              "      border-color: transparent;\n",
              "      border-left-color: var(--fill-color);\n",
              "      border-top-color: var(--fill-color);\n",
              "    }\n",
              "    30% {\n",
              "      border-color: transparent;\n",
              "      border-left-color: var(--fill-color);\n",
              "      border-top-color: var(--fill-color);\n",
              "      border-right-color: var(--fill-color);\n",
              "    }\n",
              "    40% {\n",
              "      border-color: transparent;\n",
              "      border-right-color: var(--fill-color);\n",
              "      border-top-color: var(--fill-color);\n",
              "    }\n",
              "    60% {\n",
              "      border-color: transparent;\n",
              "      border-right-color: var(--fill-color);\n",
              "    }\n",
              "    80% {\n",
              "      border-color: transparent;\n",
              "      border-right-color: var(--fill-color);\n",
              "      border-bottom-color: var(--fill-color);\n",
              "    }\n",
              "    90% {\n",
              "      border-color: transparent;\n",
              "      border-bottom-color: var(--fill-color);\n",
              "    }\n",
              "  }\n",
              "</style>\n",
              "\n",
              "  <script>\n",
              "    async function quickchart(key) {\n",
              "      const quickchartButtonEl =\n",
              "        document.querySelector('#' + key + ' button');\n",
              "      quickchartButtonEl.disabled = true;  // To prevent multiple clicks.\n",
              "      quickchartButtonEl.classList.add('colab-df-spinner');\n",
              "      try {\n",
              "        const charts = await google.colab.kernel.invokeFunction(\n",
              "            'suggestCharts', [key], {});\n",
              "      } catch (error) {\n",
              "        console.error('Error during call to suggestCharts:', error);\n",
              "      }\n",
              "      quickchartButtonEl.classList.remove('colab-df-spinner');\n",
              "      quickchartButtonEl.classList.add('colab-df-quickchart-complete');\n",
              "    }\n",
              "    (() => {\n",
              "      let quickchartButtonEl =\n",
              "        document.querySelector('#df-242127e8-f014-45a1-9ce6-8ff799192d65 button');\n",
              "      quickchartButtonEl.style.display =\n",
              "        google.colab.kernel.accessAllowed ? 'block' : 'none';\n",
              "    })();\n",
              "  </script>\n",
              "</div>\n",
              "    </div>\n",
              "  </div>\n"
            ],
            "application/vnd.google.colaboratory.intrinsic+json": {
              "type": "dataframe",
              "summary": "{\n  \"name\": \"df\",\n  \"rows\": 2798,\n  \"fields\": [\n    {\n      \"column\": \"search_id\",\n      \"properties\": {\n        \"dtype\": \"number\",\n        \"std\": 28689,\n        \"min\": 2,\n        \"max\": 99731,\n        \"num_unique_values\": 2798,\n        \"samples\": [\n          61802,\n          74861,\n          96675\n        ],\n        \"semantic_type\": \"\",\n        \"description\": \"\"\n      }\n    },\n    {\n      \"column\": \"num_clicks\",\n      \"properties\": {\n        \"dtype\": \"number\",\n        \"std\": 2,\n        \"min\": 1,\n        \"max\": 30,\n        \"num_unique_values\": 20,\n        \"samples\": [\n          1,\n          17,\n          16\n        ],\n        \"semantic_type\": \"\",\n        \"description\": \"\"\n      }\n    },\n    {\n      \"column\": \"is_trans\",\n      \"properties\": {\n        \"dtype\": \"number\",\n        \"std\": 1,\n        \"min\": 0,\n        \"max\": 30,\n        \"num_unique_values\": 13,\n        \"samples\": [\n          24,\n          5,\n          0\n        ],\n        \"semantic_type\": \"\",\n        \"description\": \"\"\n      }\n    }\n  ]\n}"
            }
          },
          "metadata": {},
          "execution_count": 272
        }
      ]
    },
    {
      "cell_type": "code",
      "source": [
        "from sklearn.datasets import dump_svmlight_file\n",
        "from sklearn.preprocessing import StandardScaler, OneHotEncoder\n",
        "import xgboost as xgb\n",
        "from sklearn.model_selection import train_test_split\n",
        "\n",
        "from sklearn.model_selection import train_test_split\n",
        "from sklearn.linear_model import LogisticRegression\n",
        "from sklearn.compose import ColumnTransformer\n",
        "from sklearn.pipeline import Pipeline\n",
        "from sklearn.impute import SimpleImputer\n",
        "from sklearn.preprocessing import StandardScaler, OneHotEncoder\n",
        "from sklearn.metrics import confusion_matrix, classification_report\n",
        "from sklearn.impute import KNNImputer\n",
        "from sklearn.model_selection import GroupShuffleSplit\n",
        "\n",
        "from sklearn.metrics import ndcg_score"
      ],
      "metadata": {
        "id": "Ee6yIcFMujQs"
      },
      "execution_count": 273,
      "outputs": []
    },
    {
      "cell_type": "code",
      "source": [
        "df.shape"
      ],
      "metadata": {
        "colab": {
          "base_uri": "https://localhost:8080/"
        },
        "id": "uQQfSpS5uyrL",
        "outputId": "dbcdda37-f7ae-4caa-df44-634ca7067be7"
      },
      "execution_count": 274,
      "outputs": [
        {
          "output_type": "execute_result",
          "data": {
            "text/plain": [
              "(80386, 29)"
            ]
          },
          "metadata": {},
          "execution_count": 274
        }
      ]
    },
    {
      "cell_type": "code",
      "source": [
        "df['review_count'] = df['review_count'].fillna(0)"
      ],
      "metadata": {
        "id": "2KHQnOo0vuYY"
      },
      "execution_count": 275,
      "outputs": []
    },
    {
      "cell_type": "code",
      "source": [
        "df['star_rating'] = df['star_rating'].astype('category')\n",
        "df['star_rating'] = df['star_rating'].cat.add_categories('Not Available')\n",
        "df['star_rating'] = df['star_rating'].fillna('Not Available')"
      ],
      "metadata": {
        "id": "a3-7OSO7vuYa"
      },
      "execution_count": 276,
      "outputs": []
    },
    {
      "cell_type": "code",
      "source": [
        "df['review_rating'] = df['review_rating'].astype('category')\n",
        "df['review_rating'] = df['review_rating'].cat.add_categories('Not Available')\n",
        "df['review_rating'] = df['review_rating'].fillna('Not Available')"
      ],
      "metadata": {
        "id": "v66I4I-YvuYb"
      },
      "execution_count": 277,
      "outputs": []
    },
    {
      "cell_type": "code",
      "source": [
        "df['price_bucket'] = df['price_bucket'].astype('category')\n",
        "df['price_bucket'] = df['price_bucket'].cat.add_categories('Not Available')\n",
        "df['price_bucket'] = df['price_bucket'].fillna('Not Available')"
      ],
      "metadata": {
        "id": "L4yaCA8uvuYb"
      },
      "execution_count": 278,
      "outputs": []
    },
    {
      "cell_type": "code",
      "source": [
        "df['is_mobile'] = df['is_mobile'].astype('category')\n",
        "df['destination_id'] = df['destination_id'].astype('category')\n",
        "df['sort_type'] = df['sort_type'].astype('category')\n",
        "df['search_day_of_week'] = df['search_day_of_week'].astype('category')\n",
        "df['is_travel_ad'] = df['is_travel_ad'].astype('category')\n",
        "df['is_free_cancellation'] = df['is_free_cancellation'].astype('category')\n",
        "df['is_drr'] = df['is_drr'].astype('category')"
      ],
      "metadata": {
        "id": "r8JJZdYQvuYb"
      },
      "execution_count": 279,
      "outputs": []
    },
    {
      "cell_type": "code",
      "source": [
        "df2=df.copy()"
      ],
      "metadata": {
        "id": "QD-TtJhKv9yN"
      },
      "execution_count": 280,
      "outputs": []
    },
    {
      "cell_type": "code",
      "source": [
        "#Assigning +1 per each click and +2 per booking, having as max value 3\n",
        "df2['relevance'] = df2['num_clicks'] + 2 * df2['is_trans']\n",
        "df2.loc[df2['relevance'] > 3, 'relevance'] = 3\n",
        "df2['relevance'].value_counts()"
      ],
      "metadata": {
        "colab": {
          "base_uri": "https://localhost:8080/"
        },
        "id": "ge3a-_EgyFe2",
        "outputId": "7bcf2c4d-08c5-45d4-c28c-3009f5bd9dc1"
      },
      "execution_count": 177,
      "outputs": [
        {
          "output_type": "execute_result",
          "data": {
            "text/plain": [
              "relevance\n",
              "0    65036\n",
              "1     3792\n",
              "3      486\n",
              "2      284\n",
              "Name: count, dtype: int64"
            ]
          },
          "metadata": {},
          "execution_count": 177
        }
      ]
    },
    {
      "cell_type": "code",
      "source": [
        "#1 if there is a click and value 2 if there is a booking\n",
        "'''\n",
        "df2['relevance'] = df2['num_clicks'] + 2 * df2['is_trans']\n",
        "df2.loc[df2['relevance'] > 3, 'relevance'] = 3\n",
        "df2['relevance'].value_counts()\n",
        "'''"
      ],
      "metadata": {
        "id": "_oyI0ZalMxh0"
      },
      "execution_count": null,
      "outputs": []
    },
    {
      "cell_type": "code",
      "source": [
        "for j,i in df2.iterrows():\n",
        "  if i['num_clicks'] == 0:\n",
        "    df2.loc[j,'relevance'] = 0\n",
        "  elif i['num_clicks'] >= 1 & i['is_trans'] == 0:\n",
        "    df2.loc[j,'relevance'] = 1\n",
        "  elif i['is_trans'] >= 1:\n",
        "    df2.loc[j,'relevance'] = 2\n",
        "\n",
        "df2['relevance'].value_counts()"
      ],
      "metadata": {
        "colab": {
          "base_uri": "https://localhost:8080/"
        },
        "id": "QlV2-WbTOHz9",
        "outputId": "973f5ba5-4ce1-4811-8bfb-6c06a12b335d"
      },
      "execution_count": 284,
      "outputs": [
        {
          "output_type": "execute_result",
          "data": {
            "text/plain": [
              "relevance\n",
              "0.0    75351\n",
              "1.0     4653\n",
              "2.0      382\n",
              "Name: count, dtype: int64"
            ]
          },
          "metadata": {},
          "execution_count": 284
        }
      ]
    },
    {
      "cell_type": "code",
      "source": [
        "df2.groupby('search_id').agg({'relevance':'sum'})"
      ],
      "metadata": {
        "colab": {
          "base_uri": "https://localhost:8080/",
          "height": 450
        },
        "id": "4lUmuOxJpYns",
        "outputId": "f8a652d1-f7a7-477b-e153-e7f759be7a63"
      },
      "execution_count": 178,
      "outputs": [
        {
          "output_type": "execute_result",
          "data": {
            "text/plain": [
              "           relevance\n",
              "search_id           \n",
              "57                 1\n",
              "82                 2\n",
              "113                3\n",
              "139                2\n",
              "141                4\n",
              "...              ...\n",
              "99663              1\n",
              "99669              3\n",
              "99698              1\n",
              "99700              1\n",
              "99731              1\n",
              "\n",
              "[2432 rows x 1 columns]"
            ],
            "text/html": [
              "\n",
              "  <div id=\"df-a61adbb4-7c5c-43ad-80c6-916aa79bdbc4\" class=\"colab-df-container\">\n",
              "    <div>\n",
              "<style scoped>\n",
              "    .dataframe tbody tr th:only-of-type {\n",
              "        vertical-align: middle;\n",
              "    }\n",
              "\n",
              "    .dataframe tbody tr th {\n",
              "        vertical-align: top;\n",
              "    }\n",
              "\n",
              "    .dataframe thead th {\n",
              "        text-align: right;\n",
              "    }\n",
              "</style>\n",
              "<table border=\"1\" class=\"dataframe\">\n",
              "  <thead>\n",
              "    <tr style=\"text-align: right;\">\n",
              "      <th></th>\n",
              "      <th>relevance</th>\n",
              "    </tr>\n",
              "    <tr>\n",
              "      <th>search_id</th>\n",
              "      <th></th>\n",
              "    </tr>\n",
              "  </thead>\n",
              "  <tbody>\n",
              "    <tr>\n",
              "      <th>57</th>\n",
              "      <td>1</td>\n",
              "    </tr>\n",
              "    <tr>\n",
              "      <th>82</th>\n",
              "      <td>2</td>\n",
              "    </tr>\n",
              "    <tr>\n",
              "      <th>113</th>\n",
              "      <td>3</td>\n",
              "    </tr>\n",
              "    <tr>\n",
              "      <th>139</th>\n",
              "      <td>2</td>\n",
              "    </tr>\n",
              "    <tr>\n",
              "      <th>141</th>\n",
              "      <td>4</td>\n",
              "    </tr>\n",
              "    <tr>\n",
              "      <th>...</th>\n",
              "      <td>...</td>\n",
              "    </tr>\n",
              "    <tr>\n",
              "      <th>99663</th>\n",
              "      <td>1</td>\n",
              "    </tr>\n",
              "    <tr>\n",
              "      <th>99669</th>\n",
              "      <td>3</td>\n",
              "    </tr>\n",
              "    <tr>\n",
              "      <th>99698</th>\n",
              "      <td>1</td>\n",
              "    </tr>\n",
              "    <tr>\n",
              "      <th>99700</th>\n",
              "      <td>1</td>\n",
              "    </tr>\n",
              "    <tr>\n",
              "      <th>99731</th>\n",
              "      <td>1</td>\n",
              "    </tr>\n",
              "  </tbody>\n",
              "</table>\n",
              "<p>2432 rows × 1 columns</p>\n",
              "</div>\n",
              "    <div class=\"colab-df-buttons\">\n",
              "\n",
              "  <div class=\"colab-df-container\">\n",
              "    <button class=\"colab-df-convert\" onclick=\"convertToInteractive('df-a61adbb4-7c5c-43ad-80c6-916aa79bdbc4')\"\n",
              "            title=\"Convert this dataframe to an interactive table.\"\n",
              "            style=\"display:none;\">\n",
              "\n",
              "  <svg xmlns=\"http://www.w3.org/2000/svg\" height=\"24px\" viewBox=\"0 -960 960 960\">\n",
              "    <path d=\"M120-120v-720h720v720H120Zm60-500h600v-160H180v160Zm220 220h160v-160H400v160Zm0 220h160v-160H400v160ZM180-400h160v-160H180v160Zm440 0h160v-160H620v160ZM180-180h160v-160H180v160Zm440 0h160v-160H620v160Z\"/>\n",
              "  </svg>\n",
              "    </button>\n",
              "\n",
              "  <style>\n",
              "    .colab-df-container {\n",
              "      display:flex;\n",
              "      gap: 12px;\n",
              "    }\n",
              "\n",
              "    .colab-df-convert {\n",
              "      background-color: #E8F0FE;\n",
              "      border: none;\n",
              "      border-radius: 50%;\n",
              "      cursor: pointer;\n",
              "      display: none;\n",
              "      fill: #1967D2;\n",
              "      height: 32px;\n",
              "      padding: 0 0 0 0;\n",
              "      width: 32px;\n",
              "    }\n",
              "\n",
              "    .colab-df-convert:hover {\n",
              "      background-color: #E2EBFA;\n",
              "      box-shadow: 0px 1px 2px rgba(60, 64, 67, 0.3), 0px 1px 3px 1px rgba(60, 64, 67, 0.15);\n",
              "      fill: #174EA6;\n",
              "    }\n",
              "\n",
              "    .colab-df-buttons div {\n",
              "      margin-bottom: 4px;\n",
              "    }\n",
              "\n",
              "    [theme=dark] .colab-df-convert {\n",
              "      background-color: #3B4455;\n",
              "      fill: #D2E3FC;\n",
              "    }\n",
              "\n",
              "    [theme=dark] .colab-df-convert:hover {\n",
              "      background-color: #434B5C;\n",
              "      box-shadow: 0px 1px 3px 1px rgba(0, 0, 0, 0.15);\n",
              "      filter: drop-shadow(0px 1px 2px rgba(0, 0, 0, 0.3));\n",
              "      fill: #FFFFFF;\n",
              "    }\n",
              "  </style>\n",
              "\n",
              "    <script>\n",
              "      const buttonEl =\n",
              "        document.querySelector('#df-a61adbb4-7c5c-43ad-80c6-916aa79bdbc4 button.colab-df-convert');\n",
              "      buttonEl.style.display =\n",
              "        google.colab.kernel.accessAllowed ? 'block' : 'none';\n",
              "\n",
              "      async function convertToInteractive(key) {\n",
              "        const element = document.querySelector('#df-a61adbb4-7c5c-43ad-80c6-916aa79bdbc4');\n",
              "        const dataTable =\n",
              "          await google.colab.kernel.invokeFunction('convertToInteractive',\n",
              "                                                    [key], {});\n",
              "        if (!dataTable) return;\n",
              "\n",
              "        const docLinkHtml = 'Like what you see? Visit the ' +\n",
              "          '<a target=\"_blank\" href=https://colab.research.google.com/notebooks/data_table.ipynb>data table notebook</a>'\n",
              "          + ' to learn more about interactive tables.';\n",
              "        element.innerHTML = '';\n",
              "        dataTable['output_type'] = 'display_data';\n",
              "        await google.colab.output.renderOutput(dataTable, element);\n",
              "        const docLink = document.createElement('div');\n",
              "        docLink.innerHTML = docLinkHtml;\n",
              "        element.appendChild(docLink);\n",
              "      }\n",
              "    </script>\n",
              "  </div>\n",
              "\n",
              "\n",
              "<div id=\"df-dc4f3125-4acd-456c-a0cb-a775a683765c\">\n",
              "  <button class=\"colab-df-quickchart\" onclick=\"quickchart('df-dc4f3125-4acd-456c-a0cb-a775a683765c')\"\n",
              "            title=\"Suggest charts\"\n",
              "            style=\"display:none;\">\n",
              "\n",
              "<svg xmlns=\"http://www.w3.org/2000/svg\" height=\"24px\"viewBox=\"0 0 24 24\"\n",
              "     width=\"24px\">\n",
              "    <g>\n",
              "        <path d=\"M19 3H5c-1.1 0-2 .9-2 2v14c0 1.1.9 2 2 2h14c1.1 0 2-.9 2-2V5c0-1.1-.9-2-2-2zM9 17H7v-7h2v7zm4 0h-2V7h2v10zm4 0h-2v-4h2v4z\"/>\n",
              "    </g>\n",
              "</svg>\n",
              "  </button>\n",
              "\n",
              "<style>\n",
              "  .colab-df-quickchart {\n",
              "      --bg-color: #E8F0FE;\n",
              "      --fill-color: #1967D2;\n",
              "      --hover-bg-color: #E2EBFA;\n",
              "      --hover-fill-color: #174EA6;\n",
              "      --disabled-fill-color: #AAA;\n",
              "      --disabled-bg-color: #DDD;\n",
              "  }\n",
              "\n",
              "  [theme=dark] .colab-df-quickchart {\n",
              "      --bg-color: #3B4455;\n",
              "      --fill-color: #D2E3FC;\n",
              "      --hover-bg-color: #434B5C;\n",
              "      --hover-fill-color: #FFFFFF;\n",
              "      --disabled-bg-color: #3B4455;\n",
              "      --disabled-fill-color: #666;\n",
              "  }\n",
              "\n",
              "  .colab-df-quickchart {\n",
              "    background-color: var(--bg-color);\n",
              "    border: none;\n",
              "    border-radius: 50%;\n",
              "    cursor: pointer;\n",
              "    display: none;\n",
              "    fill: var(--fill-color);\n",
              "    height: 32px;\n",
              "    padding: 0;\n",
              "    width: 32px;\n",
              "  }\n",
              "\n",
              "  .colab-df-quickchart:hover {\n",
              "    background-color: var(--hover-bg-color);\n",
              "    box-shadow: 0 1px 2px rgba(60, 64, 67, 0.3), 0 1px 3px 1px rgba(60, 64, 67, 0.15);\n",
              "    fill: var(--button-hover-fill-color);\n",
              "  }\n",
              "\n",
              "  .colab-df-quickchart-complete:disabled,\n",
              "  .colab-df-quickchart-complete:disabled:hover {\n",
              "    background-color: var(--disabled-bg-color);\n",
              "    fill: var(--disabled-fill-color);\n",
              "    box-shadow: none;\n",
              "  }\n",
              "\n",
              "  .colab-df-spinner {\n",
              "    border: 2px solid var(--fill-color);\n",
              "    border-color: transparent;\n",
              "    border-bottom-color: var(--fill-color);\n",
              "    animation:\n",
              "      spin 1s steps(1) infinite;\n",
              "  }\n",
              "\n",
              "  @keyframes spin {\n",
              "    0% {\n",
              "      border-color: transparent;\n",
              "      border-bottom-color: var(--fill-color);\n",
              "      border-left-color: var(--fill-color);\n",
              "    }\n",
              "    20% {\n",
              "      border-color: transparent;\n",
              "      border-left-color: var(--fill-color);\n",
              "      border-top-color: var(--fill-color);\n",
              "    }\n",
              "    30% {\n",
              "      border-color: transparent;\n",
              "      border-left-color: var(--fill-color);\n",
              "      border-top-color: var(--fill-color);\n",
              "      border-right-color: var(--fill-color);\n",
              "    }\n",
              "    40% {\n",
              "      border-color: transparent;\n",
              "      border-right-color: var(--fill-color);\n",
              "      border-top-color: var(--fill-color);\n",
              "    }\n",
              "    60% {\n",
              "      border-color: transparent;\n",
              "      border-right-color: var(--fill-color);\n",
              "    }\n",
              "    80% {\n",
              "      border-color: transparent;\n",
              "      border-right-color: var(--fill-color);\n",
              "      border-bottom-color: var(--fill-color);\n",
              "    }\n",
              "    90% {\n",
              "      border-color: transparent;\n",
              "      border-bottom-color: var(--fill-color);\n",
              "    }\n",
              "  }\n",
              "</style>\n",
              "\n",
              "  <script>\n",
              "    async function quickchart(key) {\n",
              "      const quickchartButtonEl =\n",
              "        document.querySelector('#' + key + ' button');\n",
              "      quickchartButtonEl.disabled = true;  // To prevent multiple clicks.\n",
              "      quickchartButtonEl.classList.add('colab-df-spinner');\n",
              "      try {\n",
              "        const charts = await google.colab.kernel.invokeFunction(\n",
              "            'suggestCharts', [key], {});\n",
              "      } catch (error) {\n",
              "        console.error('Error during call to suggestCharts:', error);\n",
              "      }\n",
              "      quickchartButtonEl.classList.remove('colab-df-spinner');\n",
              "      quickchartButtonEl.classList.add('colab-df-quickchart-complete');\n",
              "    }\n",
              "    (() => {\n",
              "      let quickchartButtonEl =\n",
              "        document.querySelector('#df-dc4f3125-4acd-456c-a0cb-a775a683765c button');\n",
              "      quickchartButtonEl.style.display =\n",
              "        google.colab.kernel.accessAllowed ? 'block' : 'none';\n",
              "    })();\n",
              "  </script>\n",
              "</div>\n",
              "    </div>\n",
              "  </div>\n"
            ],
            "application/vnd.google.colaboratory.intrinsic+json": {
              "type": "dataframe",
              "summary": "{\n  \"name\": \"df2\",\n  \"rows\": 2432,\n  \"fields\": [\n    {\n      \"column\": \"search_id\",\n      \"properties\": {\n        \"dtype\": \"number\",\n        \"std\": 28721,\n        \"min\": 57,\n        \"max\": 99731,\n        \"num_unique_values\": 2432,\n        \"samples\": [\n          15619,\n          84836,\n          23352\n        ],\n        \"semantic_type\": \"\",\n        \"description\": \"\"\n      }\n    },\n    {\n      \"column\": \"relevance\",\n      \"properties\": {\n        \"dtype\": \"number\",\n        \"std\": 6,\n        \"min\": 1,\n        \"max\": 90,\n        \"num_unique_values\": 28,\n        \"samples\": [\n          33,\n          21,\n          6\n        ],\n        \"semantic_type\": \"\",\n        \"description\": \"\"\n      }\n    }\n  ]\n}"
            }
          },
          "metadata": {},
          "execution_count": 178
        }
      ]
    },
    {
      "cell_type": "code",
      "source": [
        "def split_by_qid(df2, test_size):\n",
        "    gss = GroupShuffleSplit(test_size=test_size, n_splits=1, random_state=42)\n",
        "    ids = df2['search_id'].unique()\n",
        "    train_idx, test_idx = next(gss.split(ids, groups=ids))\n",
        "    return df2[df2['search_id'].isin(ids[train_idx])], df2[df2['search_id'].isin(ids[test_idx])]\n",
        "\n",
        "#_, temp_df = split_by_qid(df2, test_size=0.2)\n",
        "train_df, test_df = split_by_qid(df2, test_size=0.3)\n",
        "\n",
        "train_df.shape, test_df.shape"
      ],
      "metadata": {
        "colab": {
          "base_uri": "https://localhost:8080/"
        },
        "id": "mT7ajxKmwAKX",
        "outputId": "68b36c3b-4e08-4da8-9a75-3e1c953bcd0d"
      },
      "execution_count": 179,
      "outputs": [
        {
          "output_type": "execute_result",
          "data": {
            "text/plain": [
              "((48771, 32), (20827, 32))"
            ]
          },
          "metadata": {},
          "execution_count": 179
        }
      ]
    },
    {
      "cell_type": "code",
      "source": [
        "train_df.columns"
      ],
      "metadata": {
        "colab": {
          "base_uri": "https://localhost:8080/"
        },
        "id": "uTkUjQMkwcTp",
        "outputId": "1b2b10ea-6430-43c1-a8a0-0619308c1a6e"
      },
      "execution_count": 180,
      "outputs": [
        {
          "output_type": "execute_result",
          "data": {
            "text/plain": [
              "Index(['user_id', 'search_id', 'search_timestamp', 'point_of_sale',\n",
              "       'geo_location_country', 'is_mobile', 'destination_id', 'checkin_date',\n",
              "       'checkout_date', 'adult_count', 'child_count', 'infant_count',\n",
              "       'room_count', 'sort_type', 'length_of_stay', 'booking_window',\n",
              "       'search_day_of_week', 'search_hour_of_day', 'rank', 'is_travel_ad',\n",
              "       'review_rating', 'review_count', 'star_rating', 'is_free_cancellation',\n",
              "       'is_drr', 'price_bucket', 'num_clicks', 'is_trans', 'rank_noad',\n",
              "       'checkin_day', 'checkout_day', 'relevance'],\n",
              "      dtype='object')"
            ]
          },
          "metadata": {},
          "execution_count": 180
        }
      ]
    },
    {
      "cell_type": "code",
      "source": [
        "train_df.drop(columns=['user_id','search_timestamp','checkin_date','checkout_date', 'rank','rank_noad','num_clicks','is_trans'], inplace=True)\n",
        "test_df.drop(columns=['user_id','search_timestamp','checkin_date','checkout_date', 'rank','rank_noad','num_clicks','is_trans'], inplace=True)\n",
        "\n",
        "train_df.shape, test_df.shape"
      ],
      "metadata": {
        "colab": {
          "base_uri": "https://localhost:8080/"
        },
        "id": "YF_1VAuGxHsj",
        "outputId": "a3abb120-d170-434d-e602-b701fc3ceab9"
      },
      "execution_count": 181,
      "outputs": [
        {
          "output_type": "stream",
          "name": "stderr",
          "text": [
            "<ipython-input-181-afa73b9ce157>:1: SettingWithCopyWarning: \n",
            "A value is trying to be set on a copy of a slice from a DataFrame\n",
            "\n",
            "See the caveats in the documentation: https://pandas.pydata.org/pandas-docs/stable/user_guide/indexing.html#returning-a-view-versus-a-copy\n",
            "  train_df.drop(columns=['user_id','search_timestamp','checkin_date','checkout_date', 'rank','rank_noad','num_clicks','is_trans'], inplace=True)\n",
            "<ipython-input-181-afa73b9ce157>:2: SettingWithCopyWarning: \n",
            "A value is trying to be set on a copy of a slice from a DataFrame\n",
            "\n",
            "See the caveats in the documentation: https://pandas.pydata.org/pandas-docs/stable/user_guide/indexing.html#returning-a-view-versus-a-copy\n",
            "  test_df.drop(columns=['user_id','search_timestamp','checkin_date','checkout_date', 'rank','rank_noad','num_clicks','is_trans'], inplace=True)\n"
          ]
        },
        {
          "output_type": "execute_result",
          "data": {
            "text/plain": [
              "((48771, 24), (20827, 24))"
            ]
          },
          "metadata": {},
          "execution_count": 181
        }
      ]
    },
    {
      "cell_type": "code",
      "source": [
        "X_train = train_df.drop(columns=['relevance'])\n",
        "y_train = train_df['relevance']\n",
        "\n",
        "X_test = test_df.drop(columns=['relevance'])\n",
        "y_test = test_df['relevance']\n",
        "\n",
        "query_id_train = X_train['search_id']\n",
        "\n",
        "query_id_test = X_test['search_id']"
      ],
      "metadata": {
        "id": "e6t0L-280WDB"
      },
      "execution_count": 182,
      "outputs": []
    },
    {
      "cell_type": "code",
      "source": [
        "categorical_features = X_train.select_dtypes(include=['category']).columns.tolist()\n",
        "numeric_features = X_train.select_dtypes(exclude=['category']).columns.tolist()\n",
        "\n",
        "numeric_features.remove('search_id')\n",
        "\n",
        "categorical_features, numeric_features"
      ],
      "metadata": {
        "colab": {
          "base_uri": "https://localhost:8080/"
        },
        "id": "-IaO1vVZAT4Y",
        "outputId": "fed387d5-d1b0-43fe-df02-3ec295c68e74"
      },
      "execution_count": 183,
      "outputs": [
        {
          "output_type": "execute_result",
          "data": {
            "text/plain": [
              "(['is_mobile',\n",
              "  'destination_id',\n",
              "  'sort_type',\n",
              "  'search_day_of_week',\n",
              "  'is_travel_ad',\n",
              "  'review_rating',\n",
              "  'star_rating',\n",
              "  'is_free_cancellation',\n",
              "  'is_drr',\n",
              "  'price_bucket'],\n",
              " ['point_of_sale',\n",
              "  'geo_location_country',\n",
              "  'adult_count',\n",
              "  'child_count',\n",
              "  'infant_count',\n",
              "  'room_count',\n",
              "  'length_of_stay',\n",
              "  'booking_window',\n",
              "  'search_hour_of_day',\n",
              "  'review_count',\n",
              "  'checkin_day',\n",
              "  'checkout_day'])"
            ]
          },
          "metadata": {},
          "execution_count": 183
        }
      ]
    },
    {
      "cell_type": "code",
      "source": [
        "scaler=StandardScaler()\n",
        "X_train[numeric_features] = scaler.fit_transform(X_train[numeric_features])\n",
        "X_test[numeric_features] = scaler.transform(X_test[numeric_features])"
      ],
      "metadata": {
        "id": "IKIw2Dx3-Tj1"
      },
      "execution_count": 184,
      "outputs": []
    },
    {
      "cell_type": "code",
      "source": [
        "X_train = pd.get_dummies(X_train, columns=categorical_features)\n",
        "X_test = pd.get_dummies(X_test, columns=categorical_features)"
      ],
      "metadata": {
        "id": "2nY0rEORAhnT"
      },
      "execution_count": 185,
      "outputs": []
    },
    {
      "cell_type": "code",
      "source": [
        "X_train.shape, X_test.shape"
      ],
      "metadata": {
        "colab": {
          "base_uri": "https://localhost:8080/"
        },
        "id": "SIvmRnAYBb2K",
        "outputId": "18dc340e-0fef-438c-ec9f-64fc4c9eba6f"
      },
      "execution_count": 186,
      "outputs": [
        {
          "output_type": "execute_result",
          "data": {
            "text/plain": [
              "((48771, 105), (20827, 105))"
            ]
          },
          "metadata": {},
          "execution_count": 186
        }
      ]
    },
    {
      "cell_type": "code",
      "source": [],
      "metadata": {
        "id": "Ve5qwuLHWRWd"
      },
      "execution_count": null,
      "outputs": []
    },
    {
      "cell_type": "code",
      "source": [
        "#file_path = 'train_allrank.svmlight'\n",
        "#dump_svmlight_file(X_train, y_train, f=file_path, query_id=query_id_train)\n",
        "\n",
        "#file_path = 'test_allrank.svmlight'\n",
        "#dump_svmlight_file(X_test, y_test, f=file_path, query_id=query_id_test)"
      ],
      "metadata": {
        "id": "0l9DrkrD2Nf0"
      },
      "execution_count": 187,
      "outputs": []
    },
    {
      "cell_type": "code",
      "source": [
        "X_train_2 = X_train.drop(columns=['search_id'])\n",
        "X_train_2.head()"
      ],
      "metadata": {
        "colab": {
          "base_uri": "https://localhost:8080/",
          "height": 258
        },
        "id": "yn3qOWD_TgHw",
        "outputId": "16733a7f-388d-4043-ae83-8d3b7fa8ac1d"
      },
      "execution_count": 188,
      "outputs": [
        {
          "output_type": "execute_result",
          "data": {
            "text/plain": [
              "     point_of_sale  geo_location_country  adult_count  child_count  \\\n",
              "213      -0.281087             -0.217177    -0.209892    -0.343648   \n",
              "214      -0.281087             -0.217177    -0.209892    -0.343648   \n",
              "215      -0.281087             -0.217177    -0.209892    -0.343648   \n",
              "216      -0.281087             -0.217177    -0.209892    -0.343648   \n",
              "217      -0.281087             -0.217177    -0.209892    -0.343648   \n",
              "\n",
              "     infant_count  room_count  length_of_stay  booking_window  \\\n",
              "213           0.0   -0.012809       -0.117679       -0.119596   \n",
              "214           0.0   -0.012809       -0.117679       -0.119596   \n",
              "215           0.0   -0.012809       -0.117679       -0.119596   \n",
              "216           0.0   -0.012809       -0.117679       -0.119596   \n",
              "217           0.0   -0.012809       -0.117679       -0.119596   \n",
              "\n",
              "     search_hour_of_day  review_count  checkin_day  checkout_day  is_mobile_0  \\\n",
              "213            0.103637     -0.299801    -0.570552     -0.570552        False   \n",
              "214            0.103637     -0.522338    -0.570552     -0.570552        False   \n",
              "215            0.103637     -0.566845    -0.570552     -0.570552        False   \n",
              "216            0.103637     -0.000966    -0.570552     -0.570552        False   \n",
              "217            0.103637     -0.344309    -0.570552     -0.570552        False   \n",
              "\n",
              "     is_mobile_1  destination_id_1  destination_id_2  destination_id_3  \\\n",
              "213         True             False             False             False   \n",
              "214         True             False             False             False   \n",
              "215         True             False             False             False   \n",
              "216         True             False             False             False   \n",
              "217         True             False             False             False   \n",
              "\n",
              "     destination_id_4  destination_id_5  destination_id_6  destination_id_7  \\\n",
              "213             False             False             False             False   \n",
              "214             False             False             False             False   \n",
              "215             False             False             False             False   \n",
              "216             False             False             False             False   \n",
              "217             False             False             False             False   \n",
              "\n",
              "     destination_id_8  destination_id_9  destination_id_10  destination_id_11  \\\n",
              "213             False             False              False              False   \n",
              "214             False             False              False              False   \n",
              "215             False             False              False              False   \n",
              "216             False             False              False              False   \n",
              "217             False             False              False              False   \n",
              "\n",
              "     destination_id_12  destination_id_13  destination_id_14  \\\n",
              "213              False              False              False   \n",
              "214              False              False              False   \n",
              "215              False              False              False   \n",
              "216              False              False              False   \n",
              "217              False              False              False   \n",
              "\n",
              "     destination_id_15  destination_id_16  destination_id_17  \\\n",
              "213              False              False              False   \n",
              "214              False              False              False   \n",
              "215              False              False              False   \n",
              "216              False              False              False   \n",
              "217              False              False              False   \n",
              "\n",
              "     destination_id_18  destination_id_19  destination_id_20  \\\n",
              "213              False              False              False   \n",
              "214              False              False              False   \n",
              "215              False              False              False   \n",
              "216              False              False              False   \n",
              "217              False              False              False   \n",
              "\n",
              "     destination_id_21  destination_id_22  destination_id_23  \\\n",
              "213              False              False              False   \n",
              "214              False              False              False   \n",
              "215              False              False              False   \n",
              "216              False              False              False   \n",
              "217              False              False              False   \n",
              "\n",
              "     destination_id_24  destination_id_25  destination_id_26  \\\n",
              "213              False              False              False   \n",
              "214              False              False              False   \n",
              "215              False              False              False   \n",
              "216              False              False              False   \n",
              "217              False              False              False   \n",
              "\n",
              "     destination_id_27  destination_id_28  destination_id_29  \\\n",
              "213              False              False              False   \n",
              "214              False              False              False   \n",
              "215              False              False              False   \n",
              "216              False              False              False   \n",
              "217              False              False              False   \n",
              "\n",
              "     destination_id_30  destination_id_31  destination_id_32  \\\n",
              "213              False              False              False   \n",
              "214              False              False              False   \n",
              "215              False              False              False   \n",
              "216              False              False              False   \n",
              "217              False              False              False   \n",
              "\n",
              "     destination_id_33  destination_id_34  destination_id_35  \\\n",
              "213              False              False              False   \n",
              "214              False              False              False   \n",
              "215              False              False              False   \n",
              "216              False              False              False   \n",
              "217              False              False              False   \n",
              "\n",
              "     destination_id_36  destination_id_37  destination_id_38  \\\n",
              "213              False              False              False   \n",
              "214              False              False              False   \n",
              "215              False              False              False   \n",
              "216              False              False              False   \n",
              "217              False              False              False   \n",
              "\n",
              "     destination_id_39  destination_id_40  destination_id_41  \\\n",
              "213              False              False               True   \n",
              "214              False              False               True   \n",
              "215              False              False               True   \n",
              "216              False              False               True   \n",
              "217              False              False               True   \n",
              "\n",
              "     destination_id_44  destination_id_45  destination_id_55  \\\n",
              "213              False              False              False   \n",
              "214              False              False              False   \n",
              "215              False              False              False   \n",
              "216              False              False              False   \n",
              "217              False              False              False   \n",
              "\n",
              "     destination_id_56  destination_id_59  destination_id_60  \\\n",
              "213              False              False              False   \n",
              "214              False              False              False   \n",
              "215              False              False              False   \n",
              "216              False              False              False   \n",
              "217              False              False              False   \n",
              "\n",
              "     destination_id_66  destination_id_71  destination_id_76  sort_type_DEALS  \\\n",
              "213              False              False              False            False   \n",
              "214              False              False              False            False   \n",
              "215              False              False              False            False   \n",
              "216              False              False              False            False   \n",
              "217              False              False              False            False   \n",
              "\n",
              "     sort_type_GUEST RATINGS DESCENDING  sort_type_PRICE ASCENDING  \\\n",
              "213                               False                      False   \n",
              "214                               False                      False   \n",
              "215                               False                      False   \n",
              "216                               False                      False   \n",
              "217                               False                      False   \n",
              "\n",
              "     sort_type_RECOMMENDED  sort_type_SPECIAL - DIRECT HOTEL SEARCH  \\\n",
              "213                   True                                    False   \n",
              "214                   True                                    False   \n",
              "215                   True                                    False   \n",
              "216                   True                                    False   \n",
              "217                   True                                    False   \n",
              "\n",
              "     sort_type_STAR RATING DESCENDING  sort_type_VACATION RENTAL  \\\n",
              "213                             False                      False   \n",
              "214                             False                      False   \n",
              "215                             False                      False   \n",
              "216                             False                      False   \n",
              "217                             False                      False   \n",
              "\n",
              "     search_day_of_week_0  search_day_of_week_1  search_day_of_week_2  \\\n",
              "213                 False                 False                 False   \n",
              "214                 False                 False                 False   \n",
              "215                 False                 False                 False   \n",
              "216                 False                 False                 False   \n",
              "217                 False                 False                 False   \n",
              "\n",
              "     search_day_of_week_3  search_day_of_week_4  search_day_of_week_5  \\\n",
              "213                  True                 False                 False   \n",
              "214                  True                 False                 False   \n",
              "215                  True                 False                 False   \n",
              "216                  True                 False                 False   \n",
              "217                  True                 False                 False   \n",
              "\n",
              "     search_day_of_week_6  is_travel_ad_0  is_travel_ad_1  review_rating_0.0  \\\n",
              "213                 False            True           False              False   \n",
              "214                 False           False            True              False   \n",
              "215                 False           False            True               True   \n",
              "216                 False            True           False              False   \n",
              "217                 False            True           False              False   \n",
              "\n",
              "     review_rating_1.0  review_rating_2.0  review_rating_3.0  \\\n",
              "213              False              False              False   \n",
              "214              False              False              False   \n",
              "215              False              False              False   \n",
              "216              False              False              False   \n",
              "217              False              False              False   \n",
              "\n",
              "     review_rating_4.0  review_rating_5.0  review_rating_Not Available  \\\n",
              "213               True              False                        False   \n",
              "214              False               True                        False   \n",
              "215              False              False                        False   \n",
              "216               True              False                        False   \n",
              "217               True              False                        False   \n",
              "\n",
              "     star_rating_0.0  star_rating_1.0  star_rating_2.0  star_rating_3.0  \\\n",
              "213            False            False            False            False   \n",
              "214            False            False            False            False   \n",
              "215            False            False            False            False   \n",
              "216            False            False            False            False   \n",
              "217            False            False            False            False   \n",
              "\n",
              "     star_rating_4.0  star_rating_5.0  star_rating_Not Available  \\\n",
              "213            False             True                      False   \n",
              "214            False             True                      False   \n",
              "215            False             True                      False   \n",
              "216             True            False                      False   \n",
              "217             True            False                      False   \n",
              "\n",
              "     is_free_cancellation_0  is_free_cancellation_1  is_drr_0  is_drr_1  \\\n",
              "213                    True                   False      True     False   \n",
              "214                   False                    True      True     False   \n",
              "215                   False                    True     False      True   \n",
              "216                   False                    True     False      True   \n",
              "217                   False                    True     False      True   \n",
              "\n",
              "     price_bucket_1.0  price_bucket_2.0  price_bucket_3.0  price_bucket_4.0  \\\n",
              "213             False             False             False             False   \n",
              "214             False             False             False             False   \n",
              "215             False             False             False             False   \n",
              "216             False             False             False              True   \n",
              "217             False             False             False             False   \n",
              "\n",
              "     price_bucket_5.0  price_bucket_Not Available  \n",
              "213              True                       False  \n",
              "214              True                       False  \n",
              "215              True                       False  \n",
              "216             False                       False  \n",
              "217              True                       False  "
            ],
            "text/html": [
              "\n",
              "  <div id=\"df-bf236ed1-8ef1-491d-a324-aa3fe25884d1\" class=\"colab-df-container\">\n",
              "    <div>\n",
              "<style scoped>\n",
              "    .dataframe tbody tr th:only-of-type {\n",
              "        vertical-align: middle;\n",
              "    }\n",
              "\n",
              "    .dataframe tbody tr th {\n",
              "        vertical-align: top;\n",
              "    }\n",
              "\n",
              "    .dataframe thead th {\n",
              "        text-align: right;\n",
              "    }\n",
              "</style>\n",
              "<table border=\"1\" class=\"dataframe\">\n",
              "  <thead>\n",
              "    <tr style=\"text-align: right;\">\n",
              "      <th></th>\n",
              "      <th>point_of_sale</th>\n",
              "      <th>geo_location_country</th>\n",
              "      <th>adult_count</th>\n",
              "      <th>child_count</th>\n",
              "      <th>infant_count</th>\n",
              "      <th>room_count</th>\n",
              "      <th>length_of_stay</th>\n",
              "      <th>booking_window</th>\n",
              "      <th>search_hour_of_day</th>\n",
              "      <th>review_count</th>\n",
              "      <th>checkin_day</th>\n",
              "      <th>checkout_day</th>\n",
              "      <th>is_mobile_0</th>\n",
              "      <th>is_mobile_1</th>\n",
              "      <th>destination_id_1</th>\n",
              "      <th>destination_id_2</th>\n",
              "      <th>destination_id_3</th>\n",
              "      <th>destination_id_4</th>\n",
              "      <th>destination_id_5</th>\n",
              "      <th>destination_id_6</th>\n",
              "      <th>destination_id_7</th>\n",
              "      <th>destination_id_8</th>\n",
              "      <th>destination_id_9</th>\n",
              "      <th>destination_id_10</th>\n",
              "      <th>destination_id_11</th>\n",
              "      <th>destination_id_12</th>\n",
              "      <th>destination_id_13</th>\n",
              "      <th>destination_id_14</th>\n",
              "      <th>destination_id_15</th>\n",
              "      <th>destination_id_16</th>\n",
              "      <th>destination_id_17</th>\n",
              "      <th>destination_id_18</th>\n",
              "      <th>destination_id_19</th>\n",
              "      <th>destination_id_20</th>\n",
              "      <th>destination_id_21</th>\n",
              "      <th>destination_id_22</th>\n",
              "      <th>destination_id_23</th>\n",
              "      <th>destination_id_24</th>\n",
              "      <th>destination_id_25</th>\n",
              "      <th>destination_id_26</th>\n",
              "      <th>destination_id_27</th>\n",
              "      <th>destination_id_28</th>\n",
              "      <th>destination_id_29</th>\n",
              "      <th>destination_id_30</th>\n",
              "      <th>destination_id_31</th>\n",
              "      <th>destination_id_32</th>\n",
              "      <th>destination_id_33</th>\n",
              "      <th>destination_id_34</th>\n",
              "      <th>destination_id_35</th>\n",
              "      <th>destination_id_36</th>\n",
              "      <th>destination_id_37</th>\n",
              "      <th>destination_id_38</th>\n",
              "      <th>destination_id_39</th>\n",
              "      <th>destination_id_40</th>\n",
              "      <th>destination_id_41</th>\n",
              "      <th>destination_id_44</th>\n",
              "      <th>destination_id_45</th>\n",
              "      <th>destination_id_55</th>\n",
              "      <th>destination_id_56</th>\n",
              "      <th>destination_id_59</th>\n",
              "      <th>destination_id_60</th>\n",
              "      <th>destination_id_66</th>\n",
              "      <th>destination_id_71</th>\n",
              "      <th>destination_id_76</th>\n",
              "      <th>sort_type_DEALS</th>\n",
              "      <th>sort_type_GUEST RATINGS DESCENDING</th>\n",
              "      <th>sort_type_PRICE ASCENDING</th>\n",
              "      <th>sort_type_RECOMMENDED</th>\n",
              "      <th>sort_type_SPECIAL - DIRECT HOTEL SEARCH</th>\n",
              "      <th>sort_type_STAR RATING DESCENDING</th>\n",
              "      <th>sort_type_VACATION RENTAL</th>\n",
              "      <th>search_day_of_week_0</th>\n",
              "      <th>search_day_of_week_1</th>\n",
              "      <th>search_day_of_week_2</th>\n",
              "      <th>search_day_of_week_3</th>\n",
              "      <th>search_day_of_week_4</th>\n",
              "      <th>search_day_of_week_5</th>\n",
              "      <th>search_day_of_week_6</th>\n",
              "      <th>is_travel_ad_0</th>\n",
              "      <th>is_travel_ad_1</th>\n",
              "      <th>review_rating_0.0</th>\n",
              "      <th>review_rating_1.0</th>\n",
              "      <th>review_rating_2.0</th>\n",
              "      <th>review_rating_3.0</th>\n",
              "      <th>review_rating_4.0</th>\n",
              "      <th>review_rating_5.0</th>\n",
              "      <th>review_rating_Not Available</th>\n",
              "      <th>star_rating_0.0</th>\n",
              "      <th>star_rating_1.0</th>\n",
              "      <th>star_rating_2.0</th>\n",
              "      <th>star_rating_3.0</th>\n",
              "      <th>star_rating_4.0</th>\n",
              "      <th>star_rating_5.0</th>\n",
              "      <th>star_rating_Not Available</th>\n",
              "      <th>is_free_cancellation_0</th>\n",
              "      <th>is_free_cancellation_1</th>\n",
              "      <th>is_drr_0</th>\n",
              "      <th>is_drr_1</th>\n",
              "      <th>price_bucket_1.0</th>\n",
              "      <th>price_bucket_2.0</th>\n",
              "      <th>price_bucket_3.0</th>\n",
              "      <th>price_bucket_4.0</th>\n",
              "      <th>price_bucket_5.0</th>\n",
              "      <th>price_bucket_Not Available</th>\n",
              "    </tr>\n",
              "  </thead>\n",
              "  <tbody>\n",
              "    <tr>\n",
              "      <th>213</th>\n",
              "      <td>-0.281087</td>\n",
              "      <td>-0.217177</td>\n",
              "      <td>-0.209892</td>\n",
              "      <td>-0.343648</td>\n",
              "      <td>0.0</td>\n",
              "      <td>-0.012809</td>\n",
              "      <td>-0.117679</td>\n",
              "      <td>-0.119596</td>\n",
              "      <td>0.103637</td>\n",
              "      <td>-0.299801</td>\n",
              "      <td>-0.570552</td>\n",
              "      <td>-0.570552</td>\n",
              "      <td>False</td>\n",
              "      <td>True</td>\n",
              "      <td>False</td>\n",
              "      <td>False</td>\n",
              "      <td>False</td>\n",
              "      <td>False</td>\n",
              "      <td>False</td>\n",
              "      <td>False</td>\n",
              "      <td>False</td>\n",
              "      <td>False</td>\n",
              "      <td>False</td>\n",
              "      <td>False</td>\n",
              "      <td>False</td>\n",
              "      <td>False</td>\n",
              "      <td>False</td>\n",
              "      <td>False</td>\n",
              "      <td>False</td>\n",
              "      <td>False</td>\n",
              "      <td>False</td>\n",
              "      <td>False</td>\n",
              "      <td>False</td>\n",
              "      <td>False</td>\n",
              "      <td>False</td>\n",
              "      <td>False</td>\n",
              "      <td>False</td>\n",
              "      <td>False</td>\n",
              "      <td>False</td>\n",
              "      <td>False</td>\n",
              "      <td>False</td>\n",
              "      <td>False</td>\n",
              "      <td>False</td>\n",
              "      <td>False</td>\n",
              "      <td>False</td>\n",
              "      <td>False</td>\n",
              "      <td>False</td>\n",
              "      <td>False</td>\n",
              "      <td>False</td>\n",
              "      <td>False</td>\n",
              "      <td>False</td>\n",
              "      <td>False</td>\n",
              "      <td>False</td>\n",
              "      <td>False</td>\n",
              "      <td>True</td>\n",
              "      <td>False</td>\n",
              "      <td>False</td>\n",
              "      <td>False</td>\n",
              "      <td>False</td>\n",
              "      <td>False</td>\n",
              "      <td>False</td>\n",
              "      <td>False</td>\n",
              "      <td>False</td>\n",
              "      <td>False</td>\n",
              "      <td>False</td>\n",
              "      <td>False</td>\n",
              "      <td>False</td>\n",
              "      <td>True</td>\n",
              "      <td>False</td>\n",
              "      <td>False</td>\n",
              "      <td>False</td>\n",
              "      <td>False</td>\n",
              "      <td>False</td>\n",
              "      <td>False</td>\n",
              "      <td>True</td>\n",
              "      <td>False</td>\n",
              "      <td>False</td>\n",
              "      <td>False</td>\n",
              "      <td>True</td>\n",
              "      <td>False</td>\n",
              "      <td>False</td>\n",
              "      <td>False</td>\n",
              "      <td>False</td>\n",
              "      <td>False</td>\n",
              "      <td>True</td>\n",
              "      <td>False</td>\n",
              "      <td>False</td>\n",
              "      <td>False</td>\n",
              "      <td>False</td>\n",
              "      <td>False</td>\n",
              "      <td>False</td>\n",
              "      <td>False</td>\n",
              "      <td>True</td>\n",
              "      <td>False</td>\n",
              "      <td>True</td>\n",
              "      <td>False</td>\n",
              "      <td>True</td>\n",
              "      <td>False</td>\n",
              "      <td>False</td>\n",
              "      <td>False</td>\n",
              "      <td>False</td>\n",
              "      <td>False</td>\n",
              "      <td>True</td>\n",
              "      <td>False</td>\n",
              "    </tr>\n",
              "    <tr>\n",
              "      <th>214</th>\n",
              "      <td>-0.281087</td>\n",
              "      <td>-0.217177</td>\n",
              "      <td>-0.209892</td>\n",
              "      <td>-0.343648</td>\n",
              "      <td>0.0</td>\n",
              "      <td>-0.012809</td>\n",
              "      <td>-0.117679</td>\n",
              "      <td>-0.119596</td>\n",
              "      <td>0.103637</td>\n",
              "      <td>-0.522338</td>\n",
              "      <td>-0.570552</td>\n",
              "      <td>-0.570552</td>\n",
              "      <td>False</td>\n",
              "      <td>True</td>\n",
              "      <td>False</td>\n",
              "      <td>False</td>\n",
              "      <td>False</td>\n",
              "      <td>False</td>\n",
              "      <td>False</td>\n",
              "      <td>False</td>\n",
              "      <td>False</td>\n",
              "      <td>False</td>\n",
              "      <td>False</td>\n",
              "      <td>False</td>\n",
              "      <td>False</td>\n",
              "      <td>False</td>\n",
              "      <td>False</td>\n",
              "      <td>False</td>\n",
              "      <td>False</td>\n",
              "      <td>False</td>\n",
              "      <td>False</td>\n",
              "      <td>False</td>\n",
              "      <td>False</td>\n",
              "      <td>False</td>\n",
              "      <td>False</td>\n",
              "      <td>False</td>\n",
              "      <td>False</td>\n",
              "      <td>False</td>\n",
              "      <td>False</td>\n",
              "      <td>False</td>\n",
              "      <td>False</td>\n",
              "      <td>False</td>\n",
              "      <td>False</td>\n",
              "      <td>False</td>\n",
              "      <td>False</td>\n",
              "      <td>False</td>\n",
              "      <td>False</td>\n",
              "      <td>False</td>\n",
              "      <td>False</td>\n",
              "      <td>False</td>\n",
              "      <td>False</td>\n",
              "      <td>False</td>\n",
              "      <td>False</td>\n",
              "      <td>False</td>\n",
              "      <td>True</td>\n",
              "      <td>False</td>\n",
              "      <td>False</td>\n",
              "      <td>False</td>\n",
              "      <td>False</td>\n",
              "      <td>False</td>\n",
              "      <td>False</td>\n",
              "      <td>False</td>\n",
              "      <td>False</td>\n",
              "      <td>False</td>\n",
              "      <td>False</td>\n",
              "      <td>False</td>\n",
              "      <td>False</td>\n",
              "      <td>True</td>\n",
              "      <td>False</td>\n",
              "      <td>False</td>\n",
              "      <td>False</td>\n",
              "      <td>False</td>\n",
              "      <td>False</td>\n",
              "      <td>False</td>\n",
              "      <td>True</td>\n",
              "      <td>False</td>\n",
              "      <td>False</td>\n",
              "      <td>False</td>\n",
              "      <td>False</td>\n",
              "      <td>True</td>\n",
              "      <td>False</td>\n",
              "      <td>False</td>\n",
              "      <td>False</td>\n",
              "      <td>False</td>\n",
              "      <td>False</td>\n",
              "      <td>True</td>\n",
              "      <td>False</td>\n",
              "      <td>False</td>\n",
              "      <td>False</td>\n",
              "      <td>False</td>\n",
              "      <td>False</td>\n",
              "      <td>False</td>\n",
              "      <td>True</td>\n",
              "      <td>False</td>\n",
              "      <td>False</td>\n",
              "      <td>True</td>\n",
              "      <td>True</td>\n",
              "      <td>False</td>\n",
              "      <td>False</td>\n",
              "      <td>False</td>\n",
              "      <td>False</td>\n",
              "      <td>False</td>\n",
              "      <td>True</td>\n",
              "      <td>False</td>\n",
              "    </tr>\n",
              "    <tr>\n",
              "      <th>215</th>\n",
              "      <td>-0.281087</td>\n",
              "      <td>-0.217177</td>\n",
              "      <td>-0.209892</td>\n",
              "      <td>-0.343648</td>\n",
              "      <td>0.0</td>\n",
              "      <td>-0.012809</td>\n",
              "      <td>-0.117679</td>\n",
              "      <td>-0.119596</td>\n",
              "      <td>0.103637</td>\n",
              "      <td>-0.566845</td>\n",
              "      <td>-0.570552</td>\n",
              "      <td>-0.570552</td>\n",
              "      <td>False</td>\n",
              "      <td>True</td>\n",
              "      <td>False</td>\n",
              "      <td>False</td>\n",
              "      <td>False</td>\n",
              "      <td>False</td>\n",
              "      <td>False</td>\n",
              "      <td>False</td>\n",
              "      <td>False</td>\n",
              "      <td>False</td>\n",
              "      <td>False</td>\n",
              "      <td>False</td>\n",
              "      <td>False</td>\n",
              "      <td>False</td>\n",
              "      <td>False</td>\n",
              "      <td>False</td>\n",
              "      <td>False</td>\n",
              "      <td>False</td>\n",
              "      <td>False</td>\n",
              "      <td>False</td>\n",
              "      <td>False</td>\n",
              "      <td>False</td>\n",
              "      <td>False</td>\n",
              "      <td>False</td>\n",
              "      <td>False</td>\n",
              "      <td>False</td>\n",
              "      <td>False</td>\n",
              "      <td>False</td>\n",
              "      <td>False</td>\n",
              "      <td>False</td>\n",
              "      <td>False</td>\n",
              "      <td>False</td>\n",
              "      <td>False</td>\n",
              "      <td>False</td>\n",
              "      <td>False</td>\n",
              "      <td>False</td>\n",
              "      <td>False</td>\n",
              "      <td>False</td>\n",
              "      <td>False</td>\n",
              "      <td>False</td>\n",
              "      <td>False</td>\n",
              "      <td>False</td>\n",
              "      <td>True</td>\n",
              "      <td>False</td>\n",
              "      <td>False</td>\n",
              "      <td>False</td>\n",
              "      <td>False</td>\n",
              "      <td>False</td>\n",
              "      <td>False</td>\n",
              "      <td>False</td>\n",
              "      <td>False</td>\n",
              "      <td>False</td>\n",
              "      <td>False</td>\n",
              "      <td>False</td>\n",
              "      <td>False</td>\n",
              "      <td>True</td>\n",
              "      <td>False</td>\n",
              "      <td>False</td>\n",
              "      <td>False</td>\n",
              "      <td>False</td>\n",
              "      <td>False</td>\n",
              "      <td>False</td>\n",
              "      <td>True</td>\n",
              "      <td>False</td>\n",
              "      <td>False</td>\n",
              "      <td>False</td>\n",
              "      <td>False</td>\n",
              "      <td>True</td>\n",
              "      <td>True</td>\n",
              "      <td>False</td>\n",
              "      <td>False</td>\n",
              "      <td>False</td>\n",
              "      <td>False</td>\n",
              "      <td>False</td>\n",
              "      <td>False</td>\n",
              "      <td>False</td>\n",
              "      <td>False</td>\n",
              "      <td>False</td>\n",
              "      <td>False</td>\n",
              "      <td>False</td>\n",
              "      <td>True</td>\n",
              "      <td>False</td>\n",
              "      <td>False</td>\n",
              "      <td>True</td>\n",
              "      <td>False</td>\n",
              "      <td>True</td>\n",
              "      <td>False</td>\n",
              "      <td>False</td>\n",
              "      <td>False</td>\n",
              "      <td>False</td>\n",
              "      <td>True</td>\n",
              "      <td>False</td>\n",
              "    </tr>\n",
              "    <tr>\n",
              "      <th>216</th>\n",
              "      <td>-0.281087</td>\n",
              "      <td>-0.217177</td>\n",
              "      <td>-0.209892</td>\n",
              "      <td>-0.343648</td>\n",
              "      <td>0.0</td>\n",
              "      <td>-0.012809</td>\n",
              "      <td>-0.117679</td>\n",
              "      <td>-0.119596</td>\n",
              "      <td>0.103637</td>\n",
              "      <td>-0.000966</td>\n",
              "      <td>-0.570552</td>\n",
              "      <td>-0.570552</td>\n",
              "      <td>False</td>\n",
              "      <td>True</td>\n",
              "      <td>False</td>\n",
              "      <td>False</td>\n",
              "      <td>False</td>\n",
              "      <td>False</td>\n",
              "      <td>False</td>\n",
              "      <td>False</td>\n",
              "      <td>False</td>\n",
              "      <td>False</td>\n",
              "      <td>False</td>\n",
              "      <td>False</td>\n",
              "      <td>False</td>\n",
              "      <td>False</td>\n",
              "      <td>False</td>\n",
              "      <td>False</td>\n",
              "      <td>False</td>\n",
              "      <td>False</td>\n",
              "      <td>False</td>\n",
              "      <td>False</td>\n",
              "      <td>False</td>\n",
              "      <td>False</td>\n",
              "      <td>False</td>\n",
              "      <td>False</td>\n",
              "      <td>False</td>\n",
              "      <td>False</td>\n",
              "      <td>False</td>\n",
              "      <td>False</td>\n",
              "      <td>False</td>\n",
              "      <td>False</td>\n",
              "      <td>False</td>\n",
              "      <td>False</td>\n",
              "      <td>False</td>\n",
              "      <td>False</td>\n",
              "      <td>False</td>\n",
              "      <td>False</td>\n",
              "      <td>False</td>\n",
              "      <td>False</td>\n",
              "      <td>False</td>\n",
              "      <td>False</td>\n",
              "      <td>False</td>\n",
              "      <td>False</td>\n",
              "      <td>True</td>\n",
              "      <td>False</td>\n",
              "      <td>False</td>\n",
              "      <td>False</td>\n",
              "      <td>False</td>\n",
              "      <td>False</td>\n",
              "      <td>False</td>\n",
              "      <td>False</td>\n",
              "      <td>False</td>\n",
              "      <td>False</td>\n",
              "      <td>False</td>\n",
              "      <td>False</td>\n",
              "      <td>False</td>\n",
              "      <td>True</td>\n",
              "      <td>False</td>\n",
              "      <td>False</td>\n",
              "      <td>False</td>\n",
              "      <td>False</td>\n",
              "      <td>False</td>\n",
              "      <td>False</td>\n",
              "      <td>True</td>\n",
              "      <td>False</td>\n",
              "      <td>False</td>\n",
              "      <td>False</td>\n",
              "      <td>True</td>\n",
              "      <td>False</td>\n",
              "      <td>False</td>\n",
              "      <td>False</td>\n",
              "      <td>False</td>\n",
              "      <td>False</td>\n",
              "      <td>True</td>\n",
              "      <td>False</td>\n",
              "      <td>False</td>\n",
              "      <td>False</td>\n",
              "      <td>False</td>\n",
              "      <td>False</td>\n",
              "      <td>False</td>\n",
              "      <td>True</td>\n",
              "      <td>False</td>\n",
              "      <td>False</td>\n",
              "      <td>False</td>\n",
              "      <td>True</td>\n",
              "      <td>False</td>\n",
              "      <td>True</td>\n",
              "      <td>False</td>\n",
              "      <td>False</td>\n",
              "      <td>False</td>\n",
              "      <td>True</td>\n",
              "      <td>False</td>\n",
              "      <td>False</td>\n",
              "    </tr>\n",
              "    <tr>\n",
              "      <th>217</th>\n",
              "      <td>-0.281087</td>\n",
              "      <td>-0.217177</td>\n",
              "      <td>-0.209892</td>\n",
              "      <td>-0.343648</td>\n",
              "      <td>0.0</td>\n",
              "      <td>-0.012809</td>\n",
              "      <td>-0.117679</td>\n",
              "      <td>-0.119596</td>\n",
              "      <td>0.103637</td>\n",
              "      <td>-0.344309</td>\n",
              "      <td>-0.570552</td>\n",
              "      <td>-0.570552</td>\n",
              "      <td>False</td>\n",
              "      <td>True</td>\n",
              "      <td>False</td>\n",
              "      <td>False</td>\n",
              "      <td>False</td>\n",
              "      <td>False</td>\n",
              "      <td>False</td>\n",
              "      <td>False</td>\n",
              "      <td>False</td>\n",
              "      <td>False</td>\n",
              "      <td>False</td>\n",
              "      <td>False</td>\n",
              "      <td>False</td>\n",
              "      <td>False</td>\n",
              "      <td>False</td>\n",
              "      <td>False</td>\n",
              "      <td>False</td>\n",
              "      <td>False</td>\n",
              "      <td>False</td>\n",
              "      <td>False</td>\n",
              "      <td>False</td>\n",
              "      <td>False</td>\n",
              "      <td>False</td>\n",
              "      <td>False</td>\n",
              "      <td>False</td>\n",
              "      <td>False</td>\n",
              "      <td>False</td>\n",
              "      <td>False</td>\n",
              "      <td>False</td>\n",
              "      <td>False</td>\n",
              "      <td>False</td>\n",
              "      <td>False</td>\n",
              "      <td>False</td>\n",
              "      <td>False</td>\n",
              "      <td>False</td>\n",
              "      <td>False</td>\n",
              "      <td>False</td>\n",
              "      <td>False</td>\n",
              "      <td>False</td>\n",
              "      <td>False</td>\n",
              "      <td>False</td>\n",
              "      <td>False</td>\n",
              "      <td>True</td>\n",
              "      <td>False</td>\n",
              "      <td>False</td>\n",
              "      <td>False</td>\n",
              "      <td>False</td>\n",
              "      <td>False</td>\n",
              "      <td>False</td>\n",
              "      <td>False</td>\n",
              "      <td>False</td>\n",
              "      <td>False</td>\n",
              "      <td>False</td>\n",
              "      <td>False</td>\n",
              "      <td>False</td>\n",
              "      <td>True</td>\n",
              "      <td>False</td>\n",
              "      <td>False</td>\n",
              "      <td>False</td>\n",
              "      <td>False</td>\n",
              "      <td>False</td>\n",
              "      <td>False</td>\n",
              "      <td>True</td>\n",
              "      <td>False</td>\n",
              "      <td>False</td>\n",
              "      <td>False</td>\n",
              "      <td>True</td>\n",
              "      <td>False</td>\n",
              "      <td>False</td>\n",
              "      <td>False</td>\n",
              "      <td>False</td>\n",
              "      <td>False</td>\n",
              "      <td>True</td>\n",
              "      <td>False</td>\n",
              "      <td>False</td>\n",
              "      <td>False</td>\n",
              "      <td>False</td>\n",
              "      <td>False</td>\n",
              "      <td>False</td>\n",
              "      <td>True</td>\n",
              "      <td>False</td>\n",
              "      <td>False</td>\n",
              "      <td>False</td>\n",
              "      <td>True</td>\n",
              "      <td>False</td>\n",
              "      <td>True</td>\n",
              "      <td>False</td>\n",
              "      <td>False</td>\n",
              "      <td>False</td>\n",
              "      <td>False</td>\n",
              "      <td>True</td>\n",
              "      <td>False</td>\n",
              "    </tr>\n",
              "  </tbody>\n",
              "</table>\n",
              "</div>\n",
              "    <div class=\"colab-df-buttons\">\n",
              "\n",
              "  <div class=\"colab-df-container\">\n",
              "    <button class=\"colab-df-convert\" onclick=\"convertToInteractive('df-bf236ed1-8ef1-491d-a324-aa3fe25884d1')\"\n",
              "            title=\"Convert this dataframe to an interactive table.\"\n",
              "            style=\"display:none;\">\n",
              "\n",
              "  <svg xmlns=\"http://www.w3.org/2000/svg\" height=\"24px\" viewBox=\"0 -960 960 960\">\n",
              "    <path d=\"M120-120v-720h720v720H120Zm60-500h600v-160H180v160Zm220 220h160v-160H400v160Zm0 220h160v-160H400v160ZM180-400h160v-160H180v160Zm440 0h160v-160H620v160ZM180-180h160v-160H180v160Zm440 0h160v-160H620v160Z\"/>\n",
              "  </svg>\n",
              "    </button>\n",
              "\n",
              "  <style>\n",
              "    .colab-df-container {\n",
              "      display:flex;\n",
              "      gap: 12px;\n",
              "    }\n",
              "\n",
              "    .colab-df-convert {\n",
              "      background-color: #E8F0FE;\n",
              "      border: none;\n",
              "      border-radius: 50%;\n",
              "      cursor: pointer;\n",
              "      display: none;\n",
              "      fill: #1967D2;\n",
              "      height: 32px;\n",
              "      padding: 0 0 0 0;\n",
              "      width: 32px;\n",
              "    }\n",
              "\n",
              "    .colab-df-convert:hover {\n",
              "      background-color: #E2EBFA;\n",
              "      box-shadow: 0px 1px 2px rgba(60, 64, 67, 0.3), 0px 1px 3px 1px rgba(60, 64, 67, 0.15);\n",
              "      fill: #174EA6;\n",
              "    }\n",
              "\n",
              "    .colab-df-buttons div {\n",
              "      margin-bottom: 4px;\n",
              "    }\n",
              "\n",
              "    [theme=dark] .colab-df-convert {\n",
              "      background-color: #3B4455;\n",
              "      fill: #D2E3FC;\n",
              "    }\n",
              "\n",
              "    [theme=dark] .colab-df-convert:hover {\n",
              "      background-color: #434B5C;\n",
              "      box-shadow: 0px 1px 3px 1px rgba(0, 0, 0, 0.15);\n",
              "      filter: drop-shadow(0px 1px 2px rgba(0, 0, 0, 0.3));\n",
              "      fill: #FFFFFF;\n",
              "    }\n",
              "  </style>\n",
              "\n",
              "    <script>\n",
              "      const buttonEl =\n",
              "        document.querySelector('#df-bf236ed1-8ef1-491d-a324-aa3fe25884d1 button.colab-df-convert');\n",
              "      buttonEl.style.display =\n",
              "        google.colab.kernel.accessAllowed ? 'block' : 'none';\n",
              "\n",
              "      async function convertToInteractive(key) {\n",
              "        const element = document.querySelector('#df-bf236ed1-8ef1-491d-a324-aa3fe25884d1');\n",
              "        const dataTable =\n",
              "          await google.colab.kernel.invokeFunction('convertToInteractive',\n",
              "                                                    [key], {});\n",
              "        if (!dataTable) return;\n",
              "\n",
              "        const docLinkHtml = 'Like what you see? Visit the ' +\n",
              "          '<a target=\"_blank\" href=https://colab.research.google.com/notebooks/data_table.ipynb>data table notebook</a>'\n",
              "          + ' to learn more about interactive tables.';\n",
              "        element.innerHTML = '';\n",
              "        dataTable['output_type'] = 'display_data';\n",
              "        await google.colab.output.renderOutput(dataTable, element);\n",
              "        const docLink = document.createElement('div');\n",
              "        docLink.innerHTML = docLinkHtml;\n",
              "        element.appendChild(docLink);\n",
              "      }\n",
              "    </script>\n",
              "  </div>\n",
              "\n",
              "\n",
              "<div id=\"df-99528ac1-50fc-4b11-94ec-60b44fba61af\">\n",
              "  <button class=\"colab-df-quickchart\" onclick=\"quickchart('df-99528ac1-50fc-4b11-94ec-60b44fba61af')\"\n",
              "            title=\"Suggest charts\"\n",
              "            style=\"display:none;\">\n",
              "\n",
              "<svg xmlns=\"http://www.w3.org/2000/svg\" height=\"24px\"viewBox=\"0 0 24 24\"\n",
              "     width=\"24px\">\n",
              "    <g>\n",
              "        <path d=\"M19 3H5c-1.1 0-2 .9-2 2v14c0 1.1.9 2 2 2h14c1.1 0 2-.9 2-2V5c0-1.1-.9-2-2-2zM9 17H7v-7h2v7zm4 0h-2V7h2v10zm4 0h-2v-4h2v4z\"/>\n",
              "    </g>\n",
              "</svg>\n",
              "  </button>\n",
              "\n",
              "<style>\n",
              "  .colab-df-quickchart {\n",
              "      --bg-color: #E8F0FE;\n",
              "      --fill-color: #1967D2;\n",
              "      --hover-bg-color: #E2EBFA;\n",
              "      --hover-fill-color: #174EA6;\n",
              "      --disabled-fill-color: #AAA;\n",
              "      --disabled-bg-color: #DDD;\n",
              "  }\n",
              "\n",
              "  [theme=dark] .colab-df-quickchart {\n",
              "      --bg-color: #3B4455;\n",
              "      --fill-color: #D2E3FC;\n",
              "      --hover-bg-color: #434B5C;\n",
              "      --hover-fill-color: #FFFFFF;\n",
              "      --disabled-bg-color: #3B4455;\n",
              "      --disabled-fill-color: #666;\n",
              "  }\n",
              "\n",
              "  .colab-df-quickchart {\n",
              "    background-color: var(--bg-color);\n",
              "    border: none;\n",
              "    border-radius: 50%;\n",
              "    cursor: pointer;\n",
              "    display: none;\n",
              "    fill: var(--fill-color);\n",
              "    height: 32px;\n",
              "    padding: 0;\n",
              "    width: 32px;\n",
              "  }\n",
              "\n",
              "  .colab-df-quickchart:hover {\n",
              "    background-color: var(--hover-bg-color);\n",
              "    box-shadow: 0 1px 2px rgba(60, 64, 67, 0.3), 0 1px 3px 1px rgba(60, 64, 67, 0.15);\n",
              "    fill: var(--button-hover-fill-color);\n",
              "  }\n",
              "\n",
              "  .colab-df-quickchart-complete:disabled,\n",
              "  .colab-df-quickchart-complete:disabled:hover {\n",
              "    background-color: var(--disabled-bg-color);\n",
              "    fill: var(--disabled-fill-color);\n",
              "    box-shadow: none;\n",
              "  }\n",
              "\n",
              "  .colab-df-spinner {\n",
              "    border: 2px solid var(--fill-color);\n",
              "    border-color: transparent;\n",
              "    border-bottom-color: var(--fill-color);\n",
              "    animation:\n",
              "      spin 1s steps(1) infinite;\n",
              "  }\n",
              "\n",
              "  @keyframes spin {\n",
              "    0% {\n",
              "      border-color: transparent;\n",
              "      border-bottom-color: var(--fill-color);\n",
              "      border-left-color: var(--fill-color);\n",
              "    }\n",
              "    20% {\n",
              "      border-color: transparent;\n",
              "      border-left-color: var(--fill-color);\n",
              "      border-top-color: var(--fill-color);\n",
              "    }\n",
              "    30% {\n",
              "      border-color: transparent;\n",
              "      border-left-color: var(--fill-color);\n",
              "      border-top-color: var(--fill-color);\n",
              "      border-right-color: var(--fill-color);\n",
              "    }\n",
              "    40% {\n",
              "      border-color: transparent;\n",
              "      border-right-color: var(--fill-color);\n",
              "      border-top-color: var(--fill-color);\n",
              "    }\n",
              "    60% {\n",
              "      border-color: transparent;\n",
              "      border-right-color: var(--fill-color);\n",
              "    }\n",
              "    80% {\n",
              "      border-color: transparent;\n",
              "      border-right-color: var(--fill-color);\n",
              "      border-bottom-color: var(--fill-color);\n",
              "    }\n",
              "    90% {\n",
              "      border-color: transparent;\n",
              "      border-bottom-color: var(--fill-color);\n",
              "    }\n",
              "  }\n",
              "</style>\n",
              "\n",
              "  <script>\n",
              "    async function quickchart(key) {\n",
              "      const quickchartButtonEl =\n",
              "        document.querySelector('#' + key + ' button');\n",
              "      quickchartButtonEl.disabled = true;  // To prevent multiple clicks.\n",
              "      quickchartButtonEl.classList.add('colab-df-spinner');\n",
              "      try {\n",
              "        const charts = await google.colab.kernel.invokeFunction(\n",
              "            'suggestCharts', [key], {});\n",
              "      } catch (error) {\n",
              "        console.error('Error during call to suggestCharts:', error);\n",
              "      }\n",
              "      quickchartButtonEl.classList.remove('colab-df-spinner');\n",
              "      quickchartButtonEl.classList.add('colab-df-quickchart-complete');\n",
              "    }\n",
              "    (() => {\n",
              "      let quickchartButtonEl =\n",
              "        document.querySelector('#df-99528ac1-50fc-4b11-94ec-60b44fba61af button');\n",
              "      quickchartButtonEl.style.display =\n",
              "        google.colab.kernel.accessAllowed ? 'block' : 'none';\n",
              "    })();\n",
              "  </script>\n",
              "</div>\n",
              "    </div>\n",
              "  </div>\n"
            ],
            "application/vnd.google.colaboratory.intrinsic+json": {
              "type": "dataframe",
              "variable_name": "X_train_2"
            }
          },
          "metadata": {},
          "execution_count": 188
        }
      ]
    },
    {
      "cell_type": "code",
      "source": [
        "import lightgbm as lgb\n",
        "\n",
        "X_train_arr = X_train_2.values\n",
        "\n",
        "y_train_array = y_train.values.ravel()\n",
        "\n",
        "query_group_sizes_train = []\n",
        "for i in X_train['search_id'].value_counts():\n",
        "  query_group_sizes_train.append(i)\n",
        "\n",
        "query_group_sizes_train_arr = np.array(query_group_sizes_train)\n",
        "\n",
        "\n",
        "# Define LightGBM parameters for ranker\n",
        "params = {\n",
        "    'objective': 'lambdarank',  # Ranking objective\n",
        "    'metric': 'ndcg',  # Evaluation metric\n",
        "    'learning_rate': 0.1,\n",
        "    'verbose': 0\n",
        "}\n",
        "\n",
        "\n",
        "train_data = lgb.Dataset(X_train_arr, label=y_train_array, group=query_group_sizes_train_arr)\n",
        "\n",
        "\n",
        "num_rounds = 100\n",
        "ranker_model = lgb.train(params, train_data, num_rounds)"
      ],
      "metadata": {
        "id": "W0quU-MVU4qH"
      },
      "execution_count": 189,
      "outputs": []
    },
    {
      "cell_type": "code",
      "source": [
        "X_test_2 = X_test.drop(columns=['search_id'])\n",
        "X_test_arr = X_test_2.values\n",
        "\n",
        "y_test_array = y_test.values.ravel()\n",
        "\n",
        "query_group_sizes_test = []\n",
        "for i in X_test['search_id'].value_counts():\n",
        "  query_group_sizes_test.append(i)\n",
        "query_group_sizes_test_arr = np.array(query_group_sizes_test)\n",
        "\n",
        "test_data = lgb.Dataset(X_test_arr, label=y_test_array, group=query_group_sizes_test_arr, reference=train_data)"
      ],
      "metadata": {
        "id": "rUZyrtIHVggn"
      },
      "execution_count": 190,
      "outputs": []
    },
    {
      "cell_type": "code",
      "source": [
        "test_predictions = ranker_model.predict(X_test_arr.astype(float))\n",
        "\n",
        "y_test_df = pd.DataFrame({'relevance_score': y_test, 'predicted_ranking': test_predictions})\n",
        "y_test_df.head()"
      ],
      "metadata": {
        "colab": {
          "base_uri": "https://localhost:8080/",
          "height": 204
        },
        "id": "DEuSprJPWRRa",
        "outputId": "8ac3394c-6f05-4811-df38-a806c38983e1"
      },
      "execution_count": 191,
      "outputs": [
        {
          "output_type": "execute_result",
          "data": {
            "text/plain": [
              "      relevance_score  predicted_ranking\n",
              "1395                0          -0.133200\n",
              "1396                0          -0.676039\n",
              "1397                0          -0.273163\n",
              "1398                0          -0.004834\n",
              "1399                0          -0.298361"
            ],
            "text/html": [
              "\n",
              "  <div id=\"df-e0819a6d-79b2-43cb-a51b-6fdf948469af\" class=\"colab-df-container\">\n",
              "    <div>\n",
              "<style scoped>\n",
              "    .dataframe tbody tr th:only-of-type {\n",
              "        vertical-align: middle;\n",
              "    }\n",
              "\n",
              "    .dataframe tbody tr th {\n",
              "        vertical-align: top;\n",
              "    }\n",
              "\n",
              "    .dataframe thead th {\n",
              "        text-align: right;\n",
              "    }\n",
              "</style>\n",
              "<table border=\"1\" class=\"dataframe\">\n",
              "  <thead>\n",
              "    <tr style=\"text-align: right;\">\n",
              "      <th></th>\n",
              "      <th>relevance_score</th>\n",
              "      <th>predicted_ranking</th>\n",
              "    </tr>\n",
              "  </thead>\n",
              "  <tbody>\n",
              "    <tr>\n",
              "      <th>1395</th>\n",
              "      <td>0</td>\n",
              "      <td>-0.133200</td>\n",
              "    </tr>\n",
              "    <tr>\n",
              "      <th>1396</th>\n",
              "      <td>0</td>\n",
              "      <td>-0.676039</td>\n",
              "    </tr>\n",
              "    <tr>\n",
              "      <th>1397</th>\n",
              "      <td>0</td>\n",
              "      <td>-0.273163</td>\n",
              "    </tr>\n",
              "    <tr>\n",
              "      <th>1398</th>\n",
              "      <td>0</td>\n",
              "      <td>-0.004834</td>\n",
              "    </tr>\n",
              "    <tr>\n",
              "      <th>1399</th>\n",
              "      <td>0</td>\n",
              "      <td>-0.298361</td>\n",
              "    </tr>\n",
              "  </tbody>\n",
              "</table>\n",
              "</div>\n",
              "    <div class=\"colab-df-buttons\">\n",
              "\n",
              "  <div class=\"colab-df-container\">\n",
              "    <button class=\"colab-df-convert\" onclick=\"convertToInteractive('df-e0819a6d-79b2-43cb-a51b-6fdf948469af')\"\n",
              "            title=\"Convert this dataframe to an interactive table.\"\n",
              "            style=\"display:none;\">\n",
              "\n",
              "  <svg xmlns=\"http://www.w3.org/2000/svg\" height=\"24px\" viewBox=\"0 -960 960 960\">\n",
              "    <path d=\"M120-120v-720h720v720H120Zm60-500h600v-160H180v160Zm220 220h160v-160H400v160Zm0 220h160v-160H400v160ZM180-400h160v-160H180v160Zm440 0h160v-160H620v160ZM180-180h160v-160H180v160Zm440 0h160v-160H620v160Z\"/>\n",
              "  </svg>\n",
              "    </button>\n",
              "\n",
              "  <style>\n",
              "    .colab-df-container {\n",
              "      display:flex;\n",
              "      gap: 12px;\n",
              "    }\n",
              "\n",
              "    .colab-df-convert {\n",
              "      background-color: #E8F0FE;\n",
              "      border: none;\n",
              "      border-radius: 50%;\n",
              "      cursor: pointer;\n",
              "      display: none;\n",
              "      fill: #1967D2;\n",
              "      height: 32px;\n",
              "      padding: 0 0 0 0;\n",
              "      width: 32px;\n",
              "    }\n",
              "\n",
              "    .colab-df-convert:hover {\n",
              "      background-color: #E2EBFA;\n",
              "      box-shadow: 0px 1px 2px rgba(60, 64, 67, 0.3), 0px 1px 3px 1px rgba(60, 64, 67, 0.15);\n",
              "      fill: #174EA6;\n",
              "    }\n",
              "\n",
              "    .colab-df-buttons div {\n",
              "      margin-bottom: 4px;\n",
              "    }\n",
              "\n",
              "    [theme=dark] .colab-df-convert {\n",
              "      background-color: #3B4455;\n",
              "      fill: #D2E3FC;\n",
              "    }\n",
              "\n",
              "    [theme=dark] .colab-df-convert:hover {\n",
              "      background-color: #434B5C;\n",
              "      box-shadow: 0px 1px 3px 1px rgba(0, 0, 0, 0.15);\n",
              "      filter: drop-shadow(0px 1px 2px rgba(0, 0, 0, 0.3));\n",
              "      fill: #FFFFFF;\n",
              "    }\n",
              "  </style>\n",
              "\n",
              "    <script>\n",
              "      const buttonEl =\n",
              "        document.querySelector('#df-e0819a6d-79b2-43cb-a51b-6fdf948469af button.colab-df-convert');\n",
              "      buttonEl.style.display =\n",
              "        google.colab.kernel.accessAllowed ? 'block' : 'none';\n",
              "\n",
              "      async function convertToInteractive(key) {\n",
              "        const element = document.querySelector('#df-e0819a6d-79b2-43cb-a51b-6fdf948469af');\n",
              "        const dataTable =\n",
              "          await google.colab.kernel.invokeFunction('convertToInteractive',\n",
              "                                                    [key], {});\n",
              "        if (!dataTable) return;\n",
              "\n",
              "        const docLinkHtml = 'Like what you see? Visit the ' +\n",
              "          '<a target=\"_blank\" href=https://colab.research.google.com/notebooks/data_table.ipynb>data table notebook</a>'\n",
              "          + ' to learn more about interactive tables.';\n",
              "        element.innerHTML = '';\n",
              "        dataTable['output_type'] = 'display_data';\n",
              "        await google.colab.output.renderOutput(dataTable, element);\n",
              "        const docLink = document.createElement('div');\n",
              "        docLink.innerHTML = docLinkHtml;\n",
              "        element.appendChild(docLink);\n",
              "      }\n",
              "    </script>\n",
              "  </div>\n",
              "\n",
              "\n",
              "<div id=\"df-265c128c-8f69-48a1-9cd7-d5430c587558\">\n",
              "  <button class=\"colab-df-quickchart\" onclick=\"quickchart('df-265c128c-8f69-48a1-9cd7-d5430c587558')\"\n",
              "            title=\"Suggest charts\"\n",
              "            style=\"display:none;\">\n",
              "\n",
              "<svg xmlns=\"http://www.w3.org/2000/svg\" height=\"24px\"viewBox=\"0 0 24 24\"\n",
              "     width=\"24px\">\n",
              "    <g>\n",
              "        <path d=\"M19 3H5c-1.1 0-2 .9-2 2v14c0 1.1.9 2 2 2h14c1.1 0 2-.9 2-2V5c0-1.1-.9-2-2-2zM9 17H7v-7h2v7zm4 0h-2V7h2v10zm4 0h-2v-4h2v4z\"/>\n",
              "    </g>\n",
              "</svg>\n",
              "  </button>\n",
              "\n",
              "<style>\n",
              "  .colab-df-quickchart {\n",
              "      --bg-color: #E8F0FE;\n",
              "      --fill-color: #1967D2;\n",
              "      --hover-bg-color: #E2EBFA;\n",
              "      --hover-fill-color: #174EA6;\n",
              "      --disabled-fill-color: #AAA;\n",
              "      --disabled-bg-color: #DDD;\n",
              "  }\n",
              "\n",
              "  [theme=dark] .colab-df-quickchart {\n",
              "      --bg-color: #3B4455;\n",
              "      --fill-color: #D2E3FC;\n",
              "      --hover-bg-color: #434B5C;\n",
              "      --hover-fill-color: #FFFFFF;\n",
              "      --disabled-bg-color: #3B4455;\n",
              "      --disabled-fill-color: #666;\n",
              "  }\n",
              "\n",
              "  .colab-df-quickchart {\n",
              "    background-color: var(--bg-color);\n",
              "    border: none;\n",
              "    border-radius: 50%;\n",
              "    cursor: pointer;\n",
              "    display: none;\n",
              "    fill: var(--fill-color);\n",
              "    height: 32px;\n",
              "    padding: 0;\n",
              "    width: 32px;\n",
              "  }\n",
              "\n",
              "  .colab-df-quickchart:hover {\n",
              "    background-color: var(--hover-bg-color);\n",
              "    box-shadow: 0 1px 2px rgba(60, 64, 67, 0.3), 0 1px 3px 1px rgba(60, 64, 67, 0.15);\n",
              "    fill: var(--button-hover-fill-color);\n",
              "  }\n",
              "\n",
              "  .colab-df-quickchart-complete:disabled,\n",
              "  .colab-df-quickchart-complete:disabled:hover {\n",
              "    background-color: var(--disabled-bg-color);\n",
              "    fill: var(--disabled-fill-color);\n",
              "    box-shadow: none;\n",
              "  }\n",
              "\n",
              "  .colab-df-spinner {\n",
              "    border: 2px solid var(--fill-color);\n",
              "    border-color: transparent;\n",
              "    border-bottom-color: var(--fill-color);\n",
              "    animation:\n",
              "      spin 1s steps(1) infinite;\n",
              "  }\n",
              "\n",
              "  @keyframes spin {\n",
              "    0% {\n",
              "      border-color: transparent;\n",
              "      border-bottom-color: var(--fill-color);\n",
              "      border-left-color: var(--fill-color);\n",
              "    }\n",
              "    20% {\n",
              "      border-color: transparent;\n",
              "      border-left-color: var(--fill-color);\n",
              "      border-top-color: var(--fill-color);\n",
              "    }\n",
              "    30% {\n",
              "      border-color: transparent;\n",
              "      border-left-color: var(--fill-color);\n",
              "      border-top-color: var(--fill-color);\n",
              "      border-right-color: var(--fill-color);\n",
              "    }\n",
              "    40% {\n",
              "      border-color: transparent;\n",
              "      border-right-color: var(--fill-color);\n",
              "      border-top-color: var(--fill-color);\n",
              "    }\n",
              "    60% {\n",
              "      border-color: transparent;\n",
              "      border-right-color: var(--fill-color);\n",
              "    }\n",
              "    80% {\n",
              "      border-color: transparent;\n",
              "      border-right-color: var(--fill-color);\n",
              "      border-bottom-color: var(--fill-color);\n",
              "    }\n",
              "    90% {\n",
              "      border-color: transparent;\n",
              "      border-bottom-color: var(--fill-color);\n",
              "    }\n",
              "  }\n",
              "</style>\n",
              "\n",
              "  <script>\n",
              "    async function quickchart(key) {\n",
              "      const quickchartButtonEl =\n",
              "        document.querySelector('#' + key + ' button');\n",
              "      quickchartButtonEl.disabled = true;  // To prevent multiple clicks.\n",
              "      quickchartButtonEl.classList.add('colab-df-spinner');\n",
              "      try {\n",
              "        const charts = await google.colab.kernel.invokeFunction(\n",
              "            'suggestCharts', [key], {});\n",
              "      } catch (error) {\n",
              "        console.error('Error during call to suggestCharts:', error);\n",
              "      }\n",
              "      quickchartButtonEl.classList.remove('colab-df-spinner');\n",
              "      quickchartButtonEl.classList.add('colab-df-quickchart-complete');\n",
              "    }\n",
              "    (() => {\n",
              "      let quickchartButtonEl =\n",
              "        document.querySelector('#df-265c128c-8f69-48a1-9cd7-d5430c587558 button');\n",
              "      quickchartButtonEl.style.display =\n",
              "        google.colab.kernel.accessAllowed ? 'block' : 'none';\n",
              "    })();\n",
              "  </script>\n",
              "</div>\n",
              "    </div>\n",
              "  </div>\n"
            ],
            "application/vnd.google.colaboratory.intrinsic+json": {
              "type": "dataframe",
              "variable_name": "y_test_df",
              "summary": "{\n  \"name\": \"y_test_df\",\n  \"rows\": 20827,\n  \"fields\": [\n    {\n      \"column\": \"relevance_score\",\n      \"properties\": {\n        \"dtype\": \"number\",\n        \"std\": 0,\n        \"min\": 0,\n        \"max\": 3,\n        \"num_unique_values\": 4,\n        \"samples\": [\n          2,\n          3,\n          0\n        ],\n        \"semantic_type\": \"\",\n        \"description\": \"\"\n      }\n    },\n    {\n      \"column\": \"predicted_ranking\",\n      \"properties\": {\n        \"dtype\": \"number\",\n        \"std\": 0.4746135582071693,\n        \"min\": -2.6128015693670625,\n        \"max\": 2.1874404574103448,\n        \"num_unique_values\": 18744,\n        \"samples\": [\n          -1.3959188870725925,\n          -0.6163451148366619,\n          -0.6088889932710787\n        ],\n        \"semantic_type\": \"\",\n        \"description\": \"\"\n      }\n    }\n  ]\n}"
            }
          },
          "metadata": {},
          "execution_count": 191
        }
      ]
    },
    {
      "cell_type": "code",
      "source": [
        "test_predictions[:40]"
      ],
      "metadata": {
        "colab": {
          "base_uri": "https://localhost:8080/"
        },
        "id": "oAZbI55jz15x",
        "outputId": "1691c80a-3198-471a-b484-b70d9d2c8cb5"
      },
      "execution_count": 192,
      "outputs": [
        {
          "output_type": "execute_result",
          "data": {
            "text/plain": [
              "array([-0.13319972, -0.67603905, -0.27316283, -0.00483367, -0.2983612 ,\n",
              "       -0.29637829, -0.05355126, -0.31937287, -0.54413186, -0.96655918,\n",
              "       -0.23236754, -0.60861456, -0.23236754, -0.41302788, -0.29733445,\n",
              "       -0.34530916,  0.07964477, -0.48982551, -0.2826423 , -0.28913911,\n",
              "       -0.3197965 , -0.29187538, -0.14189569, -0.18473725, -0.13442734,\n",
              "       -0.64692977, -0.24702413, -0.05310363, -0.69188152,  0.12812731,\n",
              "       -0.36924399, -0.55268675,  0.26003741,  0.02504164,  0.1319388 ,\n",
              "       -0.00718254, -0.19001127, -0.01571302, -0.10666863,  0.01901501])"
            ]
          },
          "metadata": {},
          "execution_count": 192
        }
      ]
    },
    {
      "cell_type": "code",
      "source": [
        "plt.style.use('fivethirtyeight')\n",
        "plt.scatter(y_test_df[\"relevance_score\"], y_test_df[\"predicted_ranking\"])\n",
        "plt.show()"
      ],
      "metadata": {
        "colab": {
          "base_uri": "https://localhost:8080/",
          "height": 449
        },
        "id": "DYrlON6RvJQk",
        "outputId": "245cabf1-9503-4593-d0a0-d30fb7dbc252"
      },
      "execution_count": 193,
      "outputs": [
        {
          "output_type": "display_data",
          "data": {
            "text/plain": [
              "<Figure size 640x480 with 1 Axes>"
            ],
            "image/png": "[encoded data removed]"
          },
          "metadata": {}
        }
      ]
    },
    {
      "cell_type": "code",
      "source": [
        "print('Mean predicted score for 0 relevance values:',np.mean(y_test_df[y_test_df['relevance_score'] == 0]['predicted_ranking']))\n",
        "print('Mean predicted score for 1 relevance values:',np.mean(y_test_df[y_test_df['relevance_score'] == 1]['predicted_ranking']))\n",
        "print('Mean predicted score for 2 relevance values:',np.mean(y_test_df[y_test_df['relevance_score'] == 2]['predicted_ranking']))\n",
        "print('Mean predicted score for 3 relevance values:',np.mean(y_test_df[y_test_df['relevance_score'] == 3]['predicted_ranking']))"
      ],
      "metadata": {
        "colab": {
          "base_uri": "https://localhost:8080/"
        },
        "id": "iBiOo5fm2nYg",
        "outputId": "3e14f406-d2f9-4b99-dd8b-25c0a1dab7e6"
      },
      "execution_count": 194,
      "outputs": [
        {
          "output_type": "stream",
          "name": "stdout",
          "text": [
            "Mean predicted score for 0 relevance values: -0.4520847615209581\n",
            "Mean predicted score for 1 relevance values: -0.26299383820932254\n",
            "Mean predicted score for 2 relevance values: -0.2632539899351535\n",
            "Mean predicted score for 3 relevance values: -0.19418461200911327\n"
          ]
        }
      ]
    },
    {
      "cell_type": "code",
      "source": [
        "column_names = []\n",
        "for i in [3,94,2,1,0,6,10,8,7,9]:\n",
        "  column_names.append(X_train_2.columns[i])\n",
        "\n",
        "fig, ax = plt.subplots(figsize=(10, 8))\n",
        "plt.style.use('fivethirtyeight')\n",
        "lgb.plot_importance(ranker_model, max_num_features=10, ax=ax)\n",
        "ax.set_yticklabels(column_names)\n",
        "plt.show()"
      ],
      "metadata": {
        "colab": {
          "base_uri": "https://localhost:8080/",
          "height": 741
        },
        "id": "vuPR1JQPviOL",
        "outputId": "9fe4322d-6e7a-4776-fb22-cc7c810f92bd"
      },
      "execution_count": 195,
      "outputs": [
        {
          "output_type": "display_data",
          "data": {
            "text/plain": [
              "<Figure size 1000x800 with 1 Axes>"
            ],
            "image/png": "[encoded data removed]"
          },
          "metadata": {}
        }
      ]
    },
    {
      "cell_type": "markdown",
      "source": [
        "## Calculating NDCG for the predicted scores"
      ],
      "metadata": {
        "id": "W96_fWnxGhew"
      }
    },
    {
      "cell_type": "code",
      "source": [
        "test_df['predicted_score'] = test_predictions\n",
        "test_df.shape"
      ],
      "metadata": {
        "colab": {
          "base_uri": "https://localhost:8080/"
        },
        "id": "iGAUcOeNFr1L",
        "outputId": "7ee91530-fa77-4e68-ed13-405dd0ea2e5d"
      },
      "execution_count": 221,
      "outputs": [
        {
          "output_type": "stream",
          "name": "stderr",
          "text": [
            "<ipython-input-221-d97ebf8bfbaa>:1: SettingWithCopyWarning: \n",
            "A value is trying to be set on a copy of a slice from a DataFrame.\n",
            "Try using .loc[row_indexer,col_indexer] = value instead\n",
            "\n",
            "See the caveats in the documentation: https://pandas.pydata.org/pandas-docs/stable/user_guide/indexing.html#returning-a-view-versus-a-copy\n",
            "  test_df['predicted_score'] = test_predictions\n"
          ]
        },
        {
          "output_type": "execute_result",
          "data": {
            "text/plain": [
              "(20827, 25)"
            ]
          },
          "metadata": {},
          "execution_count": 221
        }
      ]
    },
    {
      "cell_type": "code",
      "source": [
        "ndcg_per_query = []\n",
        "for group_name, group_df in test_df.groupby('search_id'):\n",
        "    pred_scores = group_df['predicted_score']\n",
        "    true_labels = sorted(group_df['relevance'],reverse=True)  # Assuming predicted scores are the same as true labels\n",
        "    ndcg = ndcg_score([true_labels], [pred_scores])\n",
        "    ndcg_per_query.append(ndcg)\n",
        "\n",
        "print('NDCG mean taking into account all values of the ranking', np.mean(ndcg_per_query))"
      ],
      "metadata": {
        "colab": {
          "base_uri": "https://localhost:8080/"
        },
        "id": "MIIiD6xLF0WM",
        "outputId": "437b2a72-4d87-4fc0-dbe2-b26e7f0cc8b1"
      },
      "execution_count": 268,
      "outputs": [
        {
          "output_type": "stream",
          "name": "stdout",
          "text": [
            "NDCG mean taking into account all values of the ranking 0.46052436716543427\n"
          ]
        }
      ]
    },
    {
      "cell_type": "code",
      "source": [
        "[0,0,0,2,1,0]\n",
        "[2,1,0,0,0,0]"
      ],
      "metadata": {
        "id": "NLpev7xCIqjb"
      },
      "execution_count": null,
      "outputs": []
    },
    {
      "cell_type": "code",
      "source": [
        "ndcg_per_query = []\n",
        "for group_name, group_df in test_df.groupby('search_id'):\n",
        "    pred_scores = group_df['predicted_score']\n",
        "    true_labels = sorted(group_df['relevance'],reverse=True)  # Assuming predicted scores are the same as true labels\n",
        "    ndcg = ndcg_score([true_labels], [pred_scores], k=20)\n",
        "    ndcg_per_query.append(ndcg)\n",
        "\n",
        "print('NDCG mean taking into account the first 20 values of the ranking', np.mean(ndcg_per_query))"
      ],
      "metadata": {
        "colab": {
          "base_uri": "https://localhost:8080/"
        },
        "id": "ggH6wpLdGCiy",
        "outputId": "99c4bf19-ceaf-4b06-a492-5f95bca01830"
      },
      "execution_count": 226,
      "outputs": [
        {
          "output_type": "stream",
          "name": "stdout",
          "text": [
            "NDCG mean taking into account the first 20 values of the ranking 0.4124853657063803\n"
          ]
        }
      ]
    },
    {
      "cell_type": "code",
      "source": [
        "ndcg_per_query = []\n",
        "for group_name, group_df in test_df.groupby('search_id'):\n",
        "    pred_scores = group_df['predicted_score']\n",
        "    true_labels = sorted(group_df['relevance'],reverse=True)  # Assuming predicted scores are the same as true labels\n",
        "    ndcg = ndcg_score([true_labels], [pred_scores], k=10)\n",
        "    ndcg_per_query.append(ndcg)\n",
        "\n",
        "print('NDCG mean taking into account the first 10 values of the ranking', np.mean(ndcg_per_query))"
      ],
      "metadata": {
        "colab": {
          "base_uri": "https://localhost:8080/"
        },
        "id": "4phUnOm1G3ob",
        "outputId": "6abd4caf-0d19-46fd-a0fc-70bbd1e95fb9"
      },
      "execution_count": 227,
      "outputs": [
        {
          "output_type": "stream",
          "name": "stdout",
          "text": [
            "NDCG mean taking into account the first 10 values of the ranking 0.34290931705818667\n"
          ]
        }
      ]
    },
    {
      "cell_type": "code",
      "source": [
        "ndcg_per_query = []\n",
        "for group_name, group_df in test_df.groupby('search_id'):\n",
        "    pred_scores = group_df['predicted_score']\n",
        "    true_labels = sorted(group_df['relevance'],reverse=True)  # Assuming predicted scores are the same as true labels\n",
        "    ndcg = ndcg_score([true_labels], [pred_scores], k=5)\n",
        "    ndcg_per_query.append(ndcg)\n",
        "\n",
        "print('NDCG mean taking into account the first 5 values of the ranking', np.mean(ndcg_per_query))"
      ],
      "metadata": {
        "colab": {
          "base_uri": "https://localhost:8080/"
        },
        "id": "2Dqd-F9rG6MP",
        "outputId": "95ef51f9-fba6-4d28-bdce-1fb9828434a4"
      },
      "execution_count": 228,
      "outputs": [
        {
          "output_type": "stream",
          "name": "stdout",
          "text": [
            "NDCG mean taking into account the first 5 values of the ranking 0.27063338918747987\n"
          ]
        }
      ]
    },
    {
      "cell_type": "code",
      "source": [
        "ndcg_per_query = []\n",
        "for group_name, group_df in test_df.groupby('search_id'):\n",
        "    pred_scores = group_df['predicted_score']\n",
        "    true_labels = sorted(group_df['relevance'],reverse=True)  # Assuming predicted scores are the same as true labels\n",
        "    ndcg = ndcg_score([true_labels], [pred_scores], k=1)\n",
        "    ndcg_per_query.append(ndcg)\n",
        "\n",
        "print('NDCG mean taking into account the first 1 values of the ranking', np.mean(ndcg_per_query))"
      ],
      "metadata": {
        "colab": {
          "base_uri": "https://localhost:8080/"
        },
        "id": "LOmOMis-G92m",
        "outputId": "9cc57fe4-0324-42dd-91be-04fa22de41fb"
      },
      "execution_count": 229,
      "outputs": [
        {
          "output_type": "stream",
          "name": "stdout",
          "text": [
            "NDCG mean taking into account the first 1 values of the ranking 0.19063926940639267\n"
          ]
        }
      ]
    },
    {
      "cell_type": "code",
      "source": [
        "'''\n",
        "# Calculate NDCG score per query\n",
        "ndcg_per_query_all = []\n",
        "start_idx = 0\n",
        "for group_size in query_group_sizes_test_arr:\n",
        "    end_idx = start_idx + group_size\n",
        "    true_labels = np.sort(y_test_array[start_idx:end_idx])[::-1]\n",
        "    pred_scores = test_predictions[start_idx:end_idx]\n",
        "    ndcg = ndcg_score([true_labels], [pred_scores])\n",
        "    ndcg_per_query_all.append(ndcg)\n",
        "    start_idx = end_idx\n",
        "\n",
        "print(\"NDCG per query:\", ndcg_per_query_all)\n",
        "print(\"Mean NDCG:\", np.mean(ndcg_per_query_all))\n",
        "print(len(ndcg_per_query_all))\n",
        "print(X_test['search_id'].nunique())\n",
        "'''"
      ],
      "metadata": {
        "colab": {
          "base_uri": "https://localhost:8080/"
        },
        "id": "jFPNBLceoiut",
        "outputId": "91eedc50-2c4a-4fb7-aeda-6cedcd0916bf"
      },
      "execution_count": 196,
      "outputs": [
        {
          "output_type": "stream",
          "name": "stdout",
          "text": [
            "NDCG per query: [0.3214167066127604, 0.3030671453540137, 0.21274605355336274, 0.463513540760659, 0.35620718710802235, 0.27894294565112965, 0.30852755538171533, 0.3154648767857289, 0.21030991785715258, 0.36215407379234504, 0.34407004351137266, 0.6847279431224611, 0.3977981569336171, 0.24732527105911295, 0.36847441342662796, 0.3784164111154849, 0.2697537276230929, 0.22595703645726406, 0.2559580248098152, 0.23137821315975948, 0.20584683246043411, 0.38685280723454163, 0.302643559198199, 0.5570247215350469, 0.23540891336663794, 0.3108947010438266, 0.22106472945750344, 0.35620718710802235, 0.38895809436805423, 0.0, 0.588617436717873, 0.35590190813216166, 0.36243418501131447, 0.28906482631788766, 1.0, 0.42386243864745554, 0.2708035414664961, 0.6309297535714573, 0.9197207891481877, 0.4509167926889799, 0.49666207838883264, 0.7392665298429149, 0.43510120664030877, 1.0, 0.38685280723454163, 0.4306765580733929, 0.3333333333333335, 0.7809096050200935, 0.6309297535714573, 0.5, 0.38685280723454163, 0.6865919252436439, 0.35912216938250047, 0.4306765580733929, 0.5, 0.7393616002282353, 0.203795047090507, 0.21274605355336274, 0.7512484757149767, 0.20693071506847183, 0.3519405758495258, 0.2932898926115071, 0.30345369424682445, 0.9197207891481877, 0.22106472945750344, 0.21810429198553116, 0.3333333333333335, 0.25390729676789603, 0.21810429198553116, 0.6309297535714573, 1.0, 0.28189630540097854, 0.2626495350371938, 0.0, 0.48454010005667403, 0.22767024869695263, 0.0, 0.26757927957261946, 0.2702381544273198, 0.35620718710802235, 0.4227898344066506, 0.2446505421182259, 0.3168346606487979, 0.541669085375018, 0.22265427683753947, 0.3452676425105822, 0.2508400915248959, 0.0, 0.2685463096095976, 0.2702381544273198, 0.3333333333333335, 1.0, 0.3876140394812886, 0.26972195010574607, 0.2825855589527339, 0.26753612725628434, 0.22106472945750344, 0.4306765580733929, 0.4824755593907551, 0.0, 0.20801459767650954, 0.22776409535809586, 0.3421706376182503, 0.20584683246043411, 0.5585509012307065, 0.0, 0.28070314517801576, 0.3076839322922219, 0.3092733480703433, 0.0, 0.265764095647322, 0.0, 0.7903864795495061, 0.2242438242175755, 0.0, 0.6356141991409109, 0.23894777988090546, 0.4306765580733929, 0.2446505421182259, 0.3644594876849889, 0.23540891336663794, 0.31463752614283413, 0.23137821315975948, 0.0, 0.25649450236443533, 0.33446034383568285, 0.22767024869695263, 0.29479628486780396, 0.3502714625447976, 0.21274605355336274, 0.6309297535714573, 0.20801459767650954, 0.27894294565112965, 0.28501828547328256, 0.201849086582099, 0.20801459767650954, 0.20801459767650954, 0.21030991785715258, 0.25, 0.268103515182807, 0.28906482631788766, 1.0, 0.25, 0.23540891336663794, 0.28906482631788766, 0.20584683246043411, 0.5092484695254945, 0.46566103041923995, 0.201849086582099, 0.201849086582099, 0.33192596420807435, 0.45507900143868435, 0.3281455983885722, 0.36215407379234504, 0.2153382790366969, 0.3333333333333335, 0.3333333333333335, 0.25, 0.4981535956339321, 0.34735837256301155, 0.8194270280062368, 0.2913806550491312, 0.25, 0.3154648767857289, 0.22106472945750344, 0.23137821315975948, 0.23540891336663794, 1.0, 0.6309297535714573, 0.2446505421182259, 0.3333333333333335, 0.2626495350371938, 0.5027959742923621, 0.3382821118732559, 0.203795047090507, 0.201849086582099, 0.29812885973344383, 0.5714285040141095, 0.20801459767650954, 0.21030991785715258, 0.22736741030194232, 0.21810429198553116, 0.38527094460562933, 0.20801459767650954, 0.2153382790366969, 0.4306765580733929, 0.2668252628890432, 0.25939558125302153, 0.3154648767857289, 0.27741412015231814, 0.3814038551884975, 0.2499776082628628, 0.23540891336663794, 0.201849086582099, 0.0, 0.28528570138931586, 0.7455440007602138, 0.2907389309737101, 0.8091509451814296, 0.22952423092835605, 0.22106472945750344, 0.27496315413138656, 0.22767024869695263, 0.3010299956639808, 0.27894294565112965, 0.536064111378387, 0.7406907593850466, 0.3154648767857289, 0.2559580248098152, 0.28400388598450865, 0.23540891336663794, 0.21810429198553116, 0.24732527105911295, 0.20584683246043411, 0.23981246656813138, 0.203795047090507, 0.31184135857453305, 0.0, 0.37945026190737263, 0.3529059644758602, 0.0, 0.3498733509230798, 0.44232156802313627, 0.3010299956639808, 0.2702381544273198, 0.34709723473123527, 0.4372243305417585, 0.4176766388528446, 0.2551653432076241, 0.32576285367142155, 0.3196408110800477, 0.3154648767857289, 0.5249810332008935, 0.31910818865004204, 0.21274605355336274, 0.258400827123761, 0.21030991785715258, 0.21274605355336274, 0.43062411638656717, 0.20584683246043411, 0.201849086582099, 0.45719190066436216, 0.21810429198553116, 0.4140749156809286, 0.7125545225237159, 0.0, 1.0, 0.27894294565112965, 0.6693149645371719, 0.21030991785715258, 0.23540891336663794, 0.2446505421182259, 0.3010299956639808, 0.3765978890921855, 0.4400168140577585, 0.9521072228441915, 0.4824755593907551, 0.2446505421182259, 0.28906482631788766, 0.3415156411574977, 0.325782981075734, 0.0, 0.7406907593850466, 0.202822066836303, 0.3052911396299799, 0.5205828415955679, 0.6934264036172708, 0.3333333333333335, 0.201849086582099, 0.20584683246043411, 0.23137821315975948, 0.25, 0.0, 0.7393616002282353, 0.20801459767650954, 0.3298550410634432, 0.4853506053405267, 0.566611462246084, 0.203795047090507, 0.2446505421182259, 0.2446505421182259, 0.0, 0.3467132018086355, 0.8772153153380493, 0.3154648767857289, 0.0, 0.7659903075434483, 0.4470299953006161, 0.2976271125740857, 0.0, 0.3706656904013185, 0.2242438242175755, 0.541679714848182, 0.23981246656813138, 0.22767024869695263, 0.22767024869695263, 0.21030991785715258, 0.46761642147193755, 0.20801459767650954, 0.3171896044173569, 0.3704356939752878, 0.28906482631788766, 0.34660724127458925, 0.5, 0.36058154085766786, 0.40823079683701424, 0.38685280723454163, 0.571161582414123, 0.3925901996163269, 0.29241500403211607, 0.7430246495360312, 0.26475933005215063, 0.36709422354306376, 0.35620718710802235, 0.79027943830439, 0.5053923247730089, 0.21274605355336274, 0.23137821315975948, 0.20584683246043411, 0.2951216573970964, 1.0, 0.3902825300353676, 0.33086995206441383, 0.0, 0.2586863953840751, 0.2153382790366969, 0.34595100343775237, 0.0, 0.43324856559096264, 0.2048763909523874, 1.0, 0.7206236095471894, 0.22767024869695263, 0.27894294565112965, 0.28897400566422543, 0.3333333333333335, 0.25699042230934444, 0.3154648767857289, 0.21274605355336274, 0.5148262847529541, 0.5223980255208653, 0.21274605355336274, 0.21274605355336274, 0.27894294565112965, 0.22767024869695263, 0.26678457168355874, 0.3154648767857289, 0.8065735963827294, 0.20584683246043411, 0.3374288550189386, 0.7435918382736327, 0.3115360461903101, 0.201849086582099, 0.41868435195017534, 0.25390729676789603, 0.28906482631788766, 0.268103515182807, 0.2679391168221716, 0.5, 0.2446505421182259, 0.35620718710802235, 0.3113255350387427, 0.2038303220443467, 0.2446505421182259, 0.25, 0.2702381544273198, 0.20801459767650954, 0.25702594140821416, 0.20801459767650954, 0.23981246656813138, 0.3305968050512631, 0.3380498759498163, 0.29187569497433213, 0.0, 0.6213549039708058, 0.38685280723454163, 1.0, 0.4496685957107532, 0.37800210039683885, 0.2888320164776884, 0.4355339178332914, 0.2446505421182259, 0.45992105269649336, 0.0, 0.23137821315975948, 0.31798276946713805, 0.8772153153380493, 0.21030991785715258, 0.36923177405559193, 0.35620718710802235, 0.5, 0.0, 0.28906482631788766, 0.5311931216172626, 0.0, 1.0, 0.5780136823717547, 0.27616546993404284, 0.36460181087143395, 1.0, 0.4457046190400127, 0.48658748297243903, 0.203795047090507, 0.28906482631788766, 0.35620718710802235, 0.418369247902013, 0.3432238378776134, 0.22106472945750344, 0.0, 0.5280375743843363, 0.3333333333333335, 0.5589756910939265, 0.38685280723454163, 0.2446505421182259, 0.48391400295138937, 0.25, 0.5189394302980869, 0.32245931534714883, 0.5437713091520254, 0.21810429198553116, 0.38685280723454163, 0.201849086582099, 0.3904964501380394, 0.3632675831375429, 0.20801459767650954, 0.6309297535714573, 0.25, 0.3154648767857289, 0.2153382790366969, 0.3341792311619774, 0.3010299956639808, 0.6309297535714573, 0.4306765580733929, 0.7353973031231401, 0.43292873935667014, 0.7788429585306881, 0.22767024869695263, 0.25, 0.2446505421182259, 0.2559580248098152, 0.20584683246043411, 0.37534738119609407, 0.5037741005903241, 0.4002371899444308, 0.27894294565112965, 0.26095309502621145, 0.3147647878493943, 0.5, 0.42966504728484317, 0.3010299956639808, 0.38685280723454163, 0.2609849970311429, 0.3418768689024836, 0.2559580248098152, 0.2831543518407066, 0.201849086582099, 0.3766545094979328, 0.31352663252441526, 0.3793430627349536, 0.3010299956639808, 0.22432626745734385, 0.27004001937292454, 0.26417467986920057, 0.6863968873888839, 0.7420981285103058, 0.47249343242145814, 0.5008765588245218, 0.4522639239072948, 0.2664438447322568, 0.20801459767650954, 0.5, 0.7145292561795134, 0.6408875864705458, 0.0, 0.31003608014795064, 0.5527766988752602, 0.498725438712091, 0.0, 0.7278025747937302, 0.3419385028300165, 0.6787622294601762, 0.22106472945750344, 0.27894294565112965, 0.42654118872470975, 0.4029831335977323, 0.2626495350371938, 0.26757927957261946, 0.0, 0.2502335175907483, 0.295155700057359, 0.4118338404354352, 0.0, 0.347686834221509, 0.0, 0.29612500092368205, 0.28906482631788766, 0.3814348121219731, 0.6242368316978585, 0.27894294565112965, 0.3010299956639808, 0.40940772572411044, 0.9981687961726674, 0.2153382790366969, 0.37619192338389784, 0.6309297535714573, 0.22767024869695263, 0.5652223227540871, 0.23540891336663794, 1.0, 0.2446505421182259, 0.3333333333333335, 0.2559580248098152, 0.27894294565112965, 0.21030991785715258, 0.6838342349496759, 0.35660169991872925, 0.338280806956687, 0.2153382790366969, 0.27894294565112965, 0.23981246656813138, 0.30783239841027504, 0.21810429198553116, 0.4045029735174613, 0.2889092425324045, 0.49232466649150847, 1.0, 0.6995674986129442, 0.25, 0.37112554316098556, 0.5228326273459122, 0.201849086582099, 0.5192066710756247, 0.6474643452741996, 0.23981246656813138, 0.2338337845070843, 0.8823621674143346, 0.23540891336663794, 0.2702381544273198, 0.21274605355336274, 0.2140421662950298, 0.23404745943231403, 0.2702381544273198, 0.5, 0.20801459767650954, 0.22767024869695263, 0.27894294565112965, 0.3927679984419914, 0.23540891336663794, 0.21030991785715258, 0.23540891336663794, 0.25, 0.32644459864556236, 0.0, 0.3478800394492139, 0.34735837256301155, 0.26997244415796146, 0.2446505421182259, 0.3333333333333335, 0.2626495350371938, 0.2446505421182259, 0.3447702602206779, 0.2825855589527339, 0.6841178640209122, 0.35346073974309633, 0.25390729676789603, 0.3154648767857289, 0.3977981569336171, 0.23137821315975948, 0.32148950920528746, 0.3333333333333335, 0.28906482631788766, 0.2702381544273198, 1.0, 0.2559580248098152, 0.201849086582099, 0.44380442798108927, 0.3352953054832653, 0.23540891336663794, 0.0, 0.20584683246043411, 0.4781009865581258, 0.2446505421182259, 0.0, 0.3135681562560165, 0.44354103957421515, 0.2626495350371938, 0.456580389491067, 0.6507855548069186, 0.3154648767857289, 0.203795047090507, 0.7601875334318686, 0.0, 0.40876468265396726, 0.6134439221792148, 0.3220701680935653, 0.6309297535714573, 0.704577819493805, 0.3894886445337151, 0.27894294565112965, 0.3127361064316397, 0.32719237827433806, 0.2559580248098152, 0.37679308663404654, 0.33052608497541225, 0.3107901042423448, 0.2626495350371938, 0.9254904664164788, 0.6309297535714573, 0.22767024869695263, 0.3609609135693822, 0.3305968050512631, 0.20801459767650954, 0.3661531760404779, 0.30512016439298495, 0.2626495350371938, 0.0, 0.7406907593850466, 0.203795047090507, 0.41966535800339066, 0.28480602588929427, 0.22265427683753947, 0.46533827903669644, 0.6309297535714573, 0.23137821315975948, 0.23761068996738466, 0.21672128551111403, 0.3154648767857289, 0.4974105099683101, 0.203795047090507, 0.21810429198553116, 0.3333333333333335, 0.26449615403117105, 0.20584683246043411, 0.2626495350371938, 0.47696531881587384, 0.3095320578026167, 0.2626495350371938, 0.2333935632631987, 0.21274605355336274, 0.20584683246043411, 0.9325210919548241, 0.2574932351611123, 0.4536139370491393, 0.3028990510639529, 0.8709783242629269, 0.2559580248098152, 1.0, 0.2692752526473501, 0.21672128551111403, 0.2153382790366969, 0.22767024869695263, 0.22106472945750344, 0.38685280723454163, 0.25395770571950704, 0.38685280723454163, 0.2559580248098152, 0.4918134967560441, 0.31793763757015553, 0.27894294565112965, 0.0, 0.2446505421182259, 0.3415156411574977, 0.20801459767650954, 0.5, 0.21274605355336274, 0.28448351099751784, 0.35620718710802235, 0.8065735963827294, 0.2702381544273198, 0.27894294565112965, 0.0, 0.5, 0.3540801262001577, 0.3333333333333335, 0.3706656904013185, 0.0, 0.2242438242175755, 0.0, 0.2702381544273198, 0.27894294565112965, 0.23981246656813138, 0.0, 0.6309297535714573, 0.2446505421182259, 0.0, 0.25, 0.0, 0.38685280723454163, 0.2702381544273198, 0.0, 0.27894294565112965, 0.0, 0.38685280723454163, 0.40859634600158434, 0.0, 0.6309297535714573, 1.0, 0.0, 0.38685280723454163, 1.0, 0.38685280723454163, 0.0, 0.0, 0.5, 0.0, 0.0, 0.0, 1.0, 0.0, 0.0, 0.3154648767857289, 0.0, 0.0, 0.0, 0.0, 0.0, 0.35620718710802235, 0.0, 0.0, 0.6309297535714573, 0.0, 0.0, 0.0, 0.0, 0.0, 0.0, 0.0, 0.0, 0.0, 0.0]\n",
            "Mean NDCG: 0.33959195880337295\n",
            "730\n",
            "730\n"
          ]
        }
      ]
    },
    {
      "cell_type": "code",
      "source": [
        "'''\n",
        "# Calculate NDCG score per query\n",
        "ndcg_per_query_all = []\n",
        "start_idx = 0\n",
        "for group_size in query_group_sizes_test_arr:\n",
        "    end_idx = start_idx + group_size\n",
        "    true_labels = y_test_array[start_idx:end_idx]\n",
        "    pred_scores = test_predictions[start_idx:end_idx]\n",
        "    ndcg = ndcg_score([true_labels], [pred_scores])\n",
        "    ndcg_per_query_all.append(ndcg)\n",
        "    start_idx = end_idx\n",
        "\n",
        "print(\"NDCG per query:\", ndcg_per_query_all)\n",
        "print(\"Mean NDCG:\", np.mean(ndcg_per_query_all))\n",
        "print(len(ndcg_per_query_all))\n",
        "print(X_test['search_id'].nunique())\n",
        "'''"
      ],
      "metadata": {
        "colab": {
          "base_uri": "https://localhost:8080/"
        },
        "id": "pj2UJnazBLf1",
        "outputId": "15571d60-d49a-4297-eaa0-e9e28d5e8dae"
      },
      "execution_count": 162,
      "outputs": [
        {
          "output_type": "stream",
          "name": "stdout",
          "text": [
            "NDCG per query: [0.3656367148009526, 0.2825855589527339, 0.2559580248098152, 0.513731794275724, 0.38685280723454163, 0.21810429198553116, 0.6240505200038378, 0.38685280723454163, 0.4306765580733929, 0.3706656904013185, 0.31704041646102765, 0.7859179601476224, 0.26335857466483625, 0.3333333333333335, 0.8184209655592564, 0.39227380201641415, 0.39991709360355915, 1.0, 0.38685280723454163, 0.28906482631788766, 0.3154648767857289, 0.20801459767650954, 0.2832683419367569, 0.3290750888408867, 0.28906482631788766, 0.49451339166233815, 0.21810429198553116, 0.38685280723454163, 0.4824755593907551, 0.0, 0.5593747413620771, 0.8175295903539447, 0.4144918668898639, 0.27894294565112965, 0.4306765580733929, 0.32341236039713706, 0.45560514958746057, 0.4306765580733929, 0.3544692287064792, 0.4410033534795527, 0.47068551880180887, 0.8457371962750816, 0.8065735963827294, 1.0, 0.23981246656813138, 0.4306765580733929, 0.3333333333333335, 0.9100146011600025, 0.6309297535714573, 0.2153382790366969, 0.4306765580733929, 0.33463288072657654, 0.31838276464031967, 0.2593037799235045, 0.2559580248098152, 1.0, 0.203795047090507, 0.23137821315975948, 0.39805255356599695, 0.3010299956639808, 0.3050554208617989, 0.5498877726211616, 0.29187569497433213, 0.3129019859337124, 0.2559580248098152, 0.4306765580733929, 1.0, 0.7631539858737962, 0.25, 0.4306765580733929, 0.6309297535714573, 0.2913806550491312, 0.2242438242175755, 0.0, 0.5699935800170961, 0.23540891336663794, 0.0, 0.3894405208858823, 0.22106472945750344, 0.6309297535714573, 0.3179519859432667, 0.4306765580733929, 0.35766919577985085, 0.666847853384667, 0.5, 0.6204523130795587, 0.4246216619438801, 0.0, 0.44030363074375556, 0.6309297535714573, 0.4306765580733929, 0.23137821315975948, 0.535733988625186, 0.29066535586292874, 0.25939558125302153, 0.29198643867879587, 0.22106472945750344, 0.22767024869695263, 0.5012658353418871, 0.0, 0.23981246656813138, 0.35620718710802235, 0.2705547218454979, 0.5, 0.7405142627563599, 0.0, 0.5109559939712155, 0.3189825639565942, 0.57064171895532, 0.0, 0.442118814669053, 0.0, 0.25994444182380316, 1.0, 0.0, 0.4365569895438414, 0.24015613398300814, 0.2153382790366969, 0.38685280723454163, 0.5714285040141095, 1.0, 0.35912216938250047, 0.38685280723454163, 0.0, 0.4029831335977323, 0.45579148375582484, 0.27894294565112965, 0.5000000000000001, 0.27708984517874763, 0.35620718710802235, 1.0, 0.3010299956639808, 0.20588549240915022, 0.5335369259702558, 0.5, 0.23137821315975948, 0.3154648767857289, 0.3010299956639808, 0.2664438447322568, 0.45560514958746057, 0.5, 0.4306765580733929, 0.3333333333333335, 0.21274605355336274, 0.6309297535714573, 0.25, 0.7658278586234731, 0.43707413170503473, 0.35620718710802235, 0.2559580248098152, 0.5012658353418871, 0.3200841854728852, 0.37092774713032256, 0.2895837028899958, 0.38685280723454163, 0.20584683246043411, 0.28906482631788766, 0.2559580248098152, 0.45401416592691574, 0.7574875071481795, 0.3688204466820793, 0.33415854148264323, 0.35620718710802235, 0.2153382790366969, 0.6309297535714573, 0.4306765580733929, 0.6309297535714573, 0.21810429198553116, 0.3154648767857289, 0.3010299956639808, 0.2702381544273198, 0.3154648767857289, 0.33609786732739894, 0.5912352048230278, 0.22265427683753947, 0.35620718710802235, 0.3697857884197946, 0.37092774713032256, 0.3243991050595312, 0.5, 0.4114350473367147, 1.0, 0.5249869506715844, 0.20584683246043411, 0.21274605355336274, 0.2593037799235045, 0.6509209298071323, 0.4111084632390009, 0.5, 0.5311931216172626, 0.7010488091358208, 0.8065735963827294, 0.28906482631788766, 0.2153382790366969, 0.0, 0.3644594876849889, 0.43451344747548953, 0.6934264036172708, 0.41612494517515514, 0.3333333333333335, 0.203795047090507, 0.7601875334318686, 0.3010299956639808, 0.3154648767857289, 0.2242438242175755, 0.6948045658159636, 0.354389190696824, 0.4306765580733929, 0.20801459767650954, 0.2446505421182259, 0.38685280723454163, 0.6309297535714573, 0.3154648767857289, 0.2559580248098152, 0.3154648767857289, 0.23540891336663794, 0.4951671616370508, 0.0, 0.8315546295836228, 0.4327880038455061, 0.0, 0.8519590445170675, 0.5237715822331125, 1.0, 0.22767024869695263, 0.5305316519780983, 0.3568739860654071, 0.3683373274719375, 0.3529401216960418, 0.37800210039683885, 0.33776671799999197, 0.22106472945750344, 0.37274293105562, 0.29065858957097096, 0.2242438242175755, 0.31373155929063307, 0.5, 1.0, 0.8175295903539447, 0.28906482631788766, 0.38685280723454163, 0.5146321803002656, 0.6309297535714573, 0.28059907943835505, 0.6290964236119106, 0.0, 1.0, 0.21030991785715258, 0.7007958805205501, 0.5, 0.5, 0.27894294565112965, 0.2626495350371938, 0.4593061404046729, 0.5545051190525425, 0.9572368197357193, 0.3047828534036357, 1.0, 0.21810429198553116, 0.26335857466483625, 0.7721385774990275, 0.0, 0.2617596257491006, 0.28906482631788766, 0.3654477774845744, 0.3032935912997024, 0.8065735963827294, 0.6309297535714573, 0.46533827903669644, 0.23137821315975948, 0.35620718710802235, 0.201849086582099, 0.0, 0.2818347856967184, 0.6309297535714573, 0.3605397959135592, 0.36221830400513944, 0.4258585909863988, 0.3154648767857289, 0.201849086582099, 0.6309297535714573, 0.0, 0.3684142299265021, 0.7903864795495061, 0.21327373037058586, 0.0, 0.6106792539722355, 0.45735927086898054, 0.30833889757965394, 0.0, 0.40556213768577004, 0.2559580248098152, 0.5557116030854166, 1.0, 0.6309297535714573, 0.6309297535714573, 0.6309297535714573, 0.2719967016894589, 0.4306765580733929, 0.3716942350095289, 0.5464745707318633, 0.6309297535714573, 0.5518331289811786, 0.22106472945750344, 0.3999205264158514, 0.7506416640794558, 0.20584683246043411, 0.46461242699631716, 0.9407662247971145, 0.4648536698336168, 0.799571322887914, 0.329338758611535, 0.5027959742923621, 0.2702381544273198, 0.929429616218201, 0.4667871469697662, 0.23137821315975948, 0.5, 0.3154648767857289, 0.4606555846506617, 0.35620718710802235, 0.3080831657556184, 0.361322341966416, 0.0, 0.3367288498329476, 0.203795047090507, 0.5714285040141095, 0.0, 0.65356252043362, 0.28906482631788766, 0.2242438242175755, 0.46520354563011285, 0.5, 1.0, 0.48381288316677684, 0.23540891336663794, 0.6146553820282719, 0.27894294565112965, 0.20584683246043411, 0.6058838395299488, 0.6509209298071323, 0.5654648767857287, 0.22967529986023139, 0.28906482631788766, 0.3333333333333335, 0.2947728594502346, 0.23137821315975948, 0.2664454070588446, 1.0, 0.31987934785120375, 0.442118814669053, 0.5322167572813571, 0.22265427683753947, 0.5639712783688897, 0.4102772205007088, 0.2593037799235045, 0.2617596257491006, 0.2919101732280064, 0.28906482631788766, 0.3154648767857289, 0.22952423092835605, 0.4140931275966472, 0.2702381544273198, 0.4306765580733929, 0.23540891336663794, 0.23981246656813138, 0.203795047090507, 0.31798276946713805, 0.25, 0.3333333333333335, 0.36542522267769456, 0.7014077022544635, 0.2871324962273049, 0.0, 0.7162479869601717, 0.20482093977547056, 0.3878313233726768, 0.749241211396724, 0.6052602440527058, 0.2855520113946616, 0.49716956768902204, 0.27894294565112965, 0.5936243874965308, 0.0, 0.23137821315975948, 0.7788429585306881, 0.57064171895532, 0.23981246656813138, 0.27748498617458434, 1.0, 0.25, 0.0, 0.4306765580733929, 0.2566590529709511, 0.0, 0.38685280723454163, 0.37583303194771917, 0.4972566958311691, 0.6294152442991986, 0.2559580248098152, 0.4471644762071992, 0.5757812547275352, 0.20801459767650954, 0.5, 1.0, 0.5165673401961159, 0.36938260358165553, 0.2702381544273198, 0.0, 0.3282912246618996, 0.27894294565112965, 0.44064563839056137, 0.23761068996738466, 0.2153382790366969, 0.6510685166851613, 1.0, 0.33816125652688, 0.28832692235801627, 0.32103987717605575, 1.0, 0.5, 0.35620718710802235, 0.7021655139563866, 0.3309636902914517, 0.2559580248098152, 0.3010299956639808, 0.2446505421182259, 0.5, 0.22106472945750344, 1.0, 0.6309297535714573, 0.2195845107215173, 0.2529790124049076, 0.7654147548159168, 0.38494594760664885, 0.3482723708517656, 0.2242438242175755, 0.21274605355336274, 0.6309297535714573, 0.27894294565112965, 1.0, 0.6240505200038378, 0.65894994495207, 0.5809449147376349, 0.21810429198553116, 0.28599918611225705, 0.31861992936773376, 0.22106472945750344, 0.5660237710323185, 0.23761068996738466, 0.2593037799235045, 0.4341171630023173, 0.5437927516124713, 1.0, 0.37092774713032256, 0.2626495350371938, 0.4416955896439159, 0.9197207891481877, 0.7966850442836542, 1.0, 0.23981246656813138, 0.5478956323237498, 0.40156259388658816, 0.6008795426959416, 0.3618149835636156, 0.5173656893904669, 0.7489608072230658, 0.8065735963827294, 1.0, 0.22767024869695263, 0.21810429198553116, 0.34525336855002214, 0.8006352572767204, 0.0, 0.2793633731799917, 0.2976271125740857, 0.3880621596844379, 0.0, 0.7278025747937302, 0.5422646033501791, 0.37953017688879886, 0.2626495350371938, 0.21274605355336274, 0.3302796448449605, 0.3352953054832653, 0.201849086582099, 0.30128025876065084, 0.0, 0.26606223087556835, 0.7977228895450265, 0.47760668045044724, 0.0, 0.5862045766042516, 0.0, 0.27216069065132564, 0.2626495350371938, 0.3886203485864159, 0.6492655460321806, 0.2529790124049076, 0.3154648767857289, 0.9765986547973184, 0.9981687961726674, 0.4306765580733929, 0.500539540619424, 0.22106472945750344, 0.21274605355336274, 0.3768473251337203, 0.20584683246043411, 0.21274605355336274, 0.23540891336663794, 0.2626495350371938, 0.22106472945750344, 0.3010299956639808, 0.5, 0.6867781978821408, 0.3807272036822271, 0.3626576261349771, 0.20801459767650954, 0.3010299956639808, 0.38685280723454163, 0.43534765419264915, 1.0, 0.5592145176378875, 0.27509004231004763, 0.5431063825431764, 0.27894294565112965, 0.49378880300799344, 0.3010299956639808, 0.710653111150051, 0.6489927953853308, 0.28906482631788766, 0.9873036514182735, 0.6779000556803868, 0.35620718710802235, 0.3285759034274669, 0.38032400715358, 0.20584683246043411, 0.35620718710802235, 0.2153382790366969, 0.35620718710802235, 0.36229422381190685, 0.3333333333333335, 0.2140421662950298, 0.23553319769817627, 0.6309297535714573, 0.6309297535714573, 0.6107281462618803, 0.5, 0.27894294565112965, 0.2626495350371938, 0.3333333333333335, 0.37679308663404654, 0.0, 0.4173937304258208, 0.6240505200038378, 0.2533771354250023, 0.3010299956639808, 0.35620718710802235, 0.2702381544273198, 0.20801459767650954, 0.6309297535714573, 0.45560514958746057, 0.5472191044710231, 0.44080294967870653, 0.26308878490591187, 0.25, 0.25994444182380316, 0.6309297535714573, 0.6187256693079048, 0.203795047090507, 0.2242438242175755, 1.0, 0.27894294565112965, 0.22106472945750344, 0.23137821315975948, 0.7830022519025882, 0.3220701680935653, 0.2626495350371938, 0.0, 0.22767024869695263, 0.38768537531522057, 0.5, 0.0, 0.5855034845073568, 0.5260998709518234, 0.3010299956639808, 0.3706656904013185, 0.6278791937307276, 0.21274605355336274, 0.35620718710802235, 0.5118091682575903, 0.0, 0.24732527105911295, 0.9674679834891693, 0.4911492931622972, 0.4306765580733929, 0.8640800360216766, 0.5780516606580854, 0.2702381544273198, 0.5106160080346275, 0.7528907922298269, 0.38685280723454163, 0.40289347853452584, 0.35766919577985085, 0.3352953054832653, 0.2242438242175755, 0.3396118261628903, 0.3333333333333335, 0.4306765580733929, 0.3272460798923854, 0.39048451096066084, 0.3154648767857289, 0.35991840535352465, 0.5223980255208653, 1.0, 0.0, 0.27950120565414144, 0.4306765580733929, 0.7045582108392332, 0.43062411638656717, 0.4306765580733929, 0.2446505421182259, 0.4306765580733929, 0.20584683246043411, 0.25, 0.25, 0.4306765580733929, 0.7175003976966428, 0.21274605355336274, 0.256202519949003, 0.4306765580733929, 0.40289347853452584, 0.2626495350371938, 0.28906482631788766, 0.41281823584090377, 0.3618149835636156, 0.3010299956639808, 0.35620718710802235, 0.38685280723454163, 0.6309297535714573, 0.4734041411762039, 0.4251109476617991, 0.9197207891481877, 0.6546154994739983, 0.36784497565238317, 0.38685280723454163, 0.20584683246043411, 0.5109559939712155, 0.5, 1.0, 0.2702381544273198, 0.2626495350371938, 0.3333333333333335, 0.5912352048230278, 0.22767024869695263, 0.31639176581524303, 0.6379641719382826, 0.2338337845070843, 0.20584683246043411, 0.0, 0.4306765580733929, 0.528721709100536, 0.22767024869695263, 1.0, 0.35620718710802235, 0.44864381935215875, 0.28906482631788766, 0.33161603744597806, 1.0, 1.0, 0.0, 0.4306765580733929, 0.7992712065004851, 0.5, 0.4059370244385852, 0.0, 0.3010299956639808, 0.0, 0.6309297535714573, 0.2626495350371938, 0.6309297535714573, 0.0, 0.3010299956639808, 0.3010299956639808, 0.0, 0.3333333333333335, 0.0, 0.35620718710802235, 1.0, 0.0, 1.0, 0.0, 1.0, 0.6074381030068696, 0.0, 0.38685280723454163, 0.4306765580733929, 0.0, 0.3154648767857289, 0.28906482631788766, 0.35620718710802235, 0.0, 0.0, 0.4306765580733929, 0.0, 0.0, 0.0, 1.0, 0.0, 0.0, 0.5, 0.0, 0.0, 0.0, 0.0, 0.0, 0.38685280723454163, 0.0, 0.0, 1.0, 0.0, 0.0, 0.0, 0.0, 0.0, 0.0, 0.0, 0.0, 0.0, 0.0]\n",
            "Mean NDCG: 0.39904951251744586\n",
            "730\n",
            "730\n"
          ]
        }
      ]
    },
    {
      "cell_type": "code",
      "source": [
        "'''\n",
        "test_ndcg = ndcg_score([y_test], [test_predictions])\n",
        "print(\"Test NDCG Score for All:\", test_ndcg)\n",
        "\n",
        "test_ndcg = ndcg_score([y_test], [test_predictions], k=5)\n",
        "print(\"Test NDCG Score 5k:\", test_ndcg)\n",
        "\n",
        "test_ndcg = ndcg_score([y_test], [test_predictions], k=10)\n",
        "print(\"Test NDCG Score 10k:\", test_ndcg)\n",
        "\n",
        "test_ndcg = ndcg_score([y_test], [test_predictions], k=20)\n",
        "print(\"Test NDCG Score 20k:\", test_ndcg)\n",
        "'''"
      ],
      "metadata": {
        "colab": {
          "base_uri": "https://localhost:8080/"
        },
        "id": "yktw1ajpX-_F",
        "outputId": "eb9af639-18cc-4c01-bc11-49facac70075"
      },
      "execution_count": 84,
      "outputs": [
        {
          "output_type": "stream",
          "name": "stdout",
          "text": [
            "Test NDCG Score for All: 0.6578695512023721\n",
            "Test NDCG Score 5k: 0.17654490573801399\n",
            "Test NDCG Score 10k: 0.13665030494884475\n",
            "Test NDCG Score 20k: 0.147805709612043\n"
          ]
        }
      ]
    },
    {
      "cell_type": "code",
      "source": [
        "'''\n",
        "from keras.models import Sequential\n",
        "from keras.layers import Dense, Dropout\n",
        "from keras.optimizers import Adam\n",
        "from sklearn.metrics import ndcg_score\n",
        "\n",
        "# Define a simple neural network architecture\n",
        "def create_model(input_dim):\n",
        "    model = Sequential()\n",
        "    model.add(Dense(64, input_dim=input_dim, activation='relu'))\n",
        "    model.add(Dropout(0.2))\n",
        "    model.add(Dense(32, activation='relu'))\n",
        "    model.add(Dropout(0.2))\n",
        "    model.add(Dense(1, activation='linear'))  # Output layer for pointwise approach\n",
        "    model.compile(loss='mean_squared_error', optimizer=Adam(learning_rate=0.001))\n",
        "    return model\n",
        "\n",
        "# Convert query_id_train and query_id_test to numpy arrays\n",
        "query_id_train_np = query_id_train.to_numpy().astype(np.float32)\n",
        "query_id_test_np = query_id_test.to_numpy().astype(np.float32)\n",
        "\n",
        "# Convert y_train and y_test to numpy arrays\n",
        "y_train_np = y_train.to_numpy().astype(np.float32)\n",
        "y_test_np = y_test.to_numpy().astype(np.float32)\n",
        "\n",
        "# Define input dimensions (number of features)\n",
        "input_dim = X_train.shape[1]\n",
        "\n",
        "# Create the neural network model\n",
        "model = create_model(input_dim)\n",
        "\n",
        "model.fit(X_train.values, y_train, epochs=10, batch_size=32, verbose=1)\n",
        "'''"
      ],
      "metadata": {
        "id": "I1Uzr-v-Hd9A"
      },
      "execution_count": null,
      "outputs": []
    },
    {
      "cell_type": "markdown",
      "source": [
        "## Computing NDCG for the original Dataset"
      ],
      "metadata": {
        "id": "pfHen83M6Veg"
      }
    },
    {
      "cell_type": "code",
      "source": [
        "df_ex = pd.read_parquet('/content/drive/MyDrive/Expedia/Data/exploded_df_100Krows.parquet')"
      ],
      "metadata": {
        "id": "cXrfZcItLCEX"
      },
      "execution_count": 121,
      "outputs": []
    },
    {
      "cell_type": "code",
      "source": [
        "import tqdm as tqdm"
      ],
      "metadata": {
        "id": "Ps7vAvme5Im0"
      },
      "execution_count": 123,
      "outputs": []
    },
    {
      "cell_type": "code",
      "source": [
        "df_ex.shape"
      ],
      "metadata": {
        "colab": {
          "base_uri": "https://localhost:8080/"
        },
        "id": "MjzBxYt35AU4",
        "outputId": "771264a9-aae4-43c0-8085-870e0b79b47e"
      },
      "execution_count": 122,
      "outputs": [
        {
          "output_type": "execute_result",
          "data": {
            "text/plain": [
              "(2574386, 29)"
            ]
          },
          "metadata": {},
          "execution_count": 122
        }
      ]
    },
    {
      "cell_type": "code",
      "source": [
        "df_m = df_ex.groupby('search_id', as_index=False).agg({'num_clicks':'sum', 'is_trans':'sum'})\n",
        "\n",
        "no_s_id = df_m[df_m['num_clicks'] != 0]['search_id'].tolist()\n",
        "\n",
        "df_ex = df_ex[df_ex['search_id'].isin(no_s_id)]\n",
        "df_ex.shape"
      ],
      "metadata": {
        "colab": {
          "base_uri": "https://localhost:8080/"
        },
        "id": "Qpfjk3AM5Cjh",
        "outputId": "828f33e1-344d-44d5-bf16-2dc5122488cc"
      },
      "execution_count": 124,
      "outputs": [
        {
          "output_type": "execute_result",
          "data": {
            "text/plain": [
              "(466018, 29)"
            ]
          },
          "metadata": {},
          "execution_count": 124
        }
      ]
    },
    {
      "cell_type": "code",
      "source": [
        "df_ex2 = df_ex.copy()\n",
        "df_ex2['relevance'] = df_ex2['num_clicks'] + 2 * df_ex2['is_trans']\n",
        "df_ex2.loc[df_ex2['relevance'] > 3, 'relevance'] = 3\n",
        "df_ex2['relevance'].value_counts()"
      ],
      "metadata": {
        "colab": {
          "base_uri": "https://localhost:8080/"
        },
        "id": "s0Ff4MRJ5OpY",
        "outputId": "67b41f98-b0da-4f0b-916d-2e6f0b95ce57"
      },
      "execution_count": 125,
      "outputs": [
        {
          "output_type": "execute_result",
          "data": {
            "text/plain": [
              "relevance\n",
              "0    435945\n",
              "1     25565\n",
              "3      2420\n",
              "2      2088\n",
              "Name: count, dtype: int64"
            ]
          },
          "metadata": {},
          "execution_count": 125
        }
      ]
    },
    {
      "cell_type": "code",
      "source": [
        "ndcg_per_query_df = []\n",
        "for group_name, group_df in df_ex2.groupby('search_id'):\n",
        "    pred_scores = group_df['relevance']\n",
        "    true_labels = sorted(pred_scores,reverse=True)  # Assuming predicted scores are the same as true labels\n",
        "    ndcg = ndcg_score([true_labels], [pred_scores])\n",
        "    ndcg_per_query_df.append(ndcg)\n",
        "\n",
        "print('NDCG mean taking into account all values of the ranking', np.mean(ndcg_per_query_df))"
      ],
      "metadata": {
        "colab": {
          "base_uri": "https://localhost:8080/"
        },
        "id": "mE3e4-Lj7EEH",
        "outputId": "f6bb39e6-228c-4f45-dfc3-4d04f6269336"
      },
      "execution_count": 230,
      "outputs": [
        {
          "output_type": "stream",
          "name": "stdout",
          "text": [
            "NDCG mean taking into account all values of the ranking 0.624264756239976\n"
          ]
        }
      ]
    },
    {
      "cell_type": "code",
      "source": [
        "ndcg_per_query_df_k20 = []\n",
        "for group_name, group_df in df_ex2.groupby('search_id'):\n",
        "    pred_scores = group_df['relevance']\n",
        "    true_labels = sorted(pred_scores,reverse=True)  # Assuming predicted scores are the same as true labels\n",
        "    ndcg = ndcg_score([true_labels], [pred_scores], k=20)\n",
        "    ndcg_per_query_df_k20.append(ndcg)\n",
        "\n",
        "print('NDCG mean taking into account first 20 values of the ranking', np.mean(ndcg_per_query_df_k20))"
      ],
      "metadata": {
        "colab": {
          "base_uri": "https://localhost:8080/"
        },
        "id": "IQEiLXmeHRvx",
        "outputId": "ed8d0ba1-efb4-4973-98ee-ddf5db41056d"
      },
      "execution_count": 234,
      "outputs": [
        {
          "output_type": "stream",
          "name": "stdout",
          "text": [
            "NDCG mean taking into account first 20 values of the ranking 0.5819610183289134\n"
          ]
        }
      ]
    },
    {
      "cell_type": "code",
      "source": [
        "ndcg_per_query_df_k10 = []\n",
        "for group_name, group_df in df_ex2.groupby('search_id'):\n",
        "    pred_scores = group_df['relevance']\n",
        "    true_labels = sorted(pred_scores,reverse=True)  # Assuming predicted scores are the same as true labels\n",
        "    ndcg = ndcg_score([true_labels], [pred_scores], k=10)\n",
        "    ndcg_per_query_df_k10.append(ndcg)\n",
        "\n",
        "print('NDCG mean taking into account first 10 values of the ranking', np.mean(ndcg_per_query_df_k10))"
      ],
      "metadata": {
        "colab": {
          "base_uri": "https://localhost:8080/"
        },
        "id": "OKEdPBKj90JW",
        "outputId": "b34d8bb7-db29-49ef-df50-efc388c7d584"
      },
      "execution_count": 235,
      "outputs": [
        {
          "output_type": "stream",
          "name": "stdout",
          "text": [
            "NDCG mean taking into account first 10 values of the ranking 0.5283816716872791\n"
          ]
        }
      ]
    },
    {
      "cell_type": "code",
      "source": [
        "ndcg_per_query_df_k5 = []\n",
        "for group_name, group_df in df_ex2.groupby('search_id'):\n",
        "    pred_scores = group_df['relevance']\n",
        "    true_labels = sorted(pred_scores,reverse=True)  # Assuming predicted scores are the same as true labels\n",
        "    ndcg = ndcg_score([true_labels], [pred_scores], k=5)\n",
        "    ndcg_per_query_df_k5.append(ndcg)\n",
        "\n",
        "print('NDCG mean taking into account first 5 values of the ranking', np.mean(ndcg_per_query_df_k5))"
      ],
      "metadata": {
        "colab": {
          "base_uri": "https://localhost:8080/"
        },
        "id": "ioXhWx1BHaiO",
        "outputId": "efa0614e-d3a2-4760-bb0d-a589608a314f"
      },
      "execution_count": 236,
      "outputs": [
        {
          "output_type": "stream",
          "name": "stdout",
          "text": [
            "NDCG mean taking into account first 5 values of the ranking 0.49070150670203\n"
          ]
        }
      ]
    },
    {
      "cell_type": "code",
      "source": [
        "ndcg_per_query_df_k1 = []\n",
        "for group_name, group_df in df_ex2.groupby('search_id'):\n",
        "    pred_scores = group_df['relevance']\n",
        "    true_labels = sorted(pred_scores,reverse=True)  # Assuming predicted scores are the same as true labels\n",
        "    ndcg = ndcg_score([true_labels], [pred_scores], k=1)\n",
        "    ndcg_per_query_df_k1.append(ndcg)\n",
        "\n",
        "print('NDCG mean taking into account first of the ranking', np.mean(ndcg_per_query_df_k1))"
      ],
      "metadata": {
        "colab": {
          "base_uri": "https://localhost:8080/"
        },
        "id": "OXUSdiRcHjM8",
        "outputId": "1b2a64c5-610f-4cb4-9030-a39d54b26a75"
      },
      "execution_count": 237,
      "outputs": [
        {
          "output_type": "stream",
          "name": "stdout",
          "text": [
            "NDCG mean taking into account first of the ranking 0.4424592753545088\n"
          ]
        }
      ]
    },
    {
      "cell_type": "markdown",
      "source": [
        "## Verifying NDCG function works correctly"
      ],
      "metadata": {
        "id": "JMbXfhEgFFkO"
      }
    },
    {
      "cell_type": "code",
      "source": [
        "ndcg_per_query = []\n",
        "for group_name, group_df in test_df.groupby('search_id'):\n",
        "    pred_scores = group_df['relevance']\n",
        "    true_labels = sorted(pred_scores,reverse=True)  # Assuming predicted scores are the same as true labels\n",
        "    ndcg = ndcg_score([true_labels], [pred_scores])\n",
        "    ndcg_per_query.append(ndcg)"
      ],
      "metadata": {
        "id": "67z9jIBhE_A_"
      },
      "execution_count": 215,
      "outputs": []
    },
    {
      "cell_type": "code",
      "source": [
        "ndcg_per_query[0]"
      ],
      "metadata": {
        "colab": {
          "base_uri": "https://localhost:8080/"
        },
        "id": "7JzikmaxEsYQ",
        "outputId": "e4c2e1c6-f0b7-4894-bf17-27c362320fc3"
      },
      "execution_count": 216,
      "outputs": [
        {
          "output_type": "execute_result",
          "data": {
            "text/plain": [
              "0.28143382902899594"
            ]
          },
          "metadata": {},
          "execution_count": 216
        }
      ]
    },
    {
      "cell_type": "code",
      "source": [
        "INDCG = sorted(test_df[test_df['search_id'] == 281]['relevance'].tolist(), reverse=True)\n",
        "DCG = test_df[test_df['search_id'] == 281]['relevance'].tolist()\n",
        "ndcg_score([INDCG], [DCG])"
      ],
      "metadata": {
        "colab": {
          "base_uri": "https://localhost:8080/"
        },
        "id": "ySSLP6LnEnYP",
        "outputId": "a2af1364-8a5f-481d-d815-5f0a8aa20a3a"
      },
      "execution_count": 217,
      "outputs": [
        {
          "output_type": "execute_result",
          "data": {
            "text/plain": [
              "0.28143382902899594"
            ]
          },
          "metadata": {},
          "execution_count": 217
        }
      ]
    },
    {
      "cell_type": "code",
      "source": [
        "sorted(a, reverse=True)"
      ],
      "metadata": {
        "colab": {
          "base_uri": "https://localhost:8080/"
        },
        "id": "mdZry50Z_XDe",
        "outputId": "7103d7c0-3578-4ace-e00e-5e065b594ff8"
      },
      "execution_count": 156,
      "outputs": [
        {
          "output_type": "execute_result",
          "data": {
            "text/plain": [
              "[1, 0, 0, 0]"
            ]
          },
          "metadata": {},
          "execution_count": 156
        }
      ]
    },
    {
      "cell_type": "code",
      "source": [
        "a"
      ],
      "metadata": {
        "colab": {
          "base_uri": "https://localhost:8080/"
        },
        "id": "_M2FiGXs_p81",
        "outputId": "3c8ce54e-928e-4721-ebb9-7b130b11a511"
      },
      "execution_count": 157,
      "outputs": [
        {
          "output_type": "execute_result",
          "data": {
            "text/plain": [
              "[0, 0, 0, 1]"
            ]
          },
          "metadata": {},
          "execution_count": 157
        }
      ]
    },
    {
      "cell_type": "code",
      "source": [
        "a = [0,0,0,1]\n",
        "b = a\n",
        "ndcg_score([a], [b])"
      ],
      "metadata": {
        "colab": {
          "base_uri": "https://localhost:8080/"
        },
        "id": "hR60O-Ur_ArI",
        "outputId": "9a36e22e-4c9c-4380-ff80-f3c8cb507beb"
      },
      "execution_count": 285,
      "outputs": [
        {
          "output_type": "execute_result",
          "data": {
            "text/plain": [
              "1.0"
            ]
          },
          "metadata": {},
          "execution_count": 285
        }
      ]
    },
    {
      "cell_type": "code",
      "source": [],
      "metadata": {
        "id": "cGs2pxmc-VHo"
      },
      "execution_count": null,
      "outputs": []
    }
  ],
  "metadata": {
    "accelerator": "GPU",
    "colab": {
      "gpuType": "T4",
      "machine_shape": "hm",
      "provenance": []
    },
    "kernelspec": {
      "display_name": "Python 3",
      "name": "python3"
    },
    "language_info": {
      "name": "python"
    }
  },
  "nbformat": 4,
  "nbformat_minor": 0
}