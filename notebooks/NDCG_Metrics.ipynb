{
  "cells": [
    {
      "cell_type": "code",
      "execution_count": 1,
      "metadata": {
        "colab": {
          "base_uri": "https://localhost:8080/"
        },
        "id": "pXvhv3cC2yIw",
        "outputId": "fc56db03-1b1c-4205-f1c6-a0281e25e4a5"
      },
      "outputs": [
        {
          "name": "stdout",
          "output_type": "stream",
          "text": [
            "Mounted at /content/drive\n"
          ]
        }
      ],
      "source": [
        "import pandas as pd\n",
        "import numpy as np\n",
        "from google.colab import drive\n",
        "drive.mount('/content/drive')\n",
        "import seaborn as sns"
      ]
    },
    {
      "cell_type": "code",
      "execution_count": 2,
      "metadata": {
        "id": "Fnqjylfe45bF"
      },
      "outputs": [],
      "source": [
        "df = pd.read_csv('/content/drive/MyDrive/Expedia/Data/main.tsv.gz', compression='gzip', sep='\\t')"
      ]
    },
    {
      "cell_type": "code",
      "execution_count": 3,
      "metadata": {
        "colab": {
          "base_uri": "https://localhost:8080/",
          "height": 309
        },
        "id": "fsOaQScB5ljW",
        "outputId": "d423b825-4dd1-49db-88ed-f64227288721"
      },
      "outputs": [
        {
          "data": {
            "application/vnd.google.colaboratory.intrinsic+json": {
              "type": "dataframe",
              "variable_name": "df"
            },
            "text/html": [
              "\n",
              "  <div id=\"df-c5164afb-1e27-4301-8c6b-abef3c34b185\" class=\"colab-df-container\">\n",
              "    <div>\n",
              "<style scoped>\n",
              "    .dataframe tbody tr th:only-of-type {\n",
              "        vertical-align: middle;\n",
              "    }\n",
              "\n",
              "    .dataframe tbody tr th {\n",
              "        vertical-align: top;\n",
              "    }\n",
              "\n",
              "    .dataframe thead th {\n",
              "        text-align: right;\n",
              "    }\n",
              "</style>\n",
              "<table border=\"1\" class=\"dataframe\">\n",
              "  <thead>\n",
              "    <tr style=\"text-align: right;\">\n",
              "      <th></th>\n",
              "      <th>user_id</th>\n",
              "      <th>search_id</th>\n",
              "      <th>search_timestamp</th>\n",
              "      <th>point_of_sale</th>\n",
              "      <th>geo_location_country</th>\n",
              "      <th>is_mobile</th>\n",
              "      <th>destination_id</th>\n",
              "      <th>checkin_date</th>\n",
              "      <th>checkout_date</th>\n",
              "      <th>adult_count</th>\n",
              "      <th>child_count</th>\n",
              "      <th>infant_count</th>\n",
              "      <th>room_count</th>\n",
              "      <th>sort_type</th>\n",
              "      <th>applied_filters</th>\n",
              "      <th>impressions</th>\n",
              "    </tr>\n",
              "  </thead>\n",
              "  <tbody>\n",
              "    <tr>\n",
              "      <th>0</th>\n",
              "      <td>001bbff3030c95740d4c55bb72e823e9</td>\n",
              "      <td>541933a931216d270f53277c2de068d0</td>\n",
              "      <td>2021-07-02T19:38:00.000Z</td>\n",
              "      <td>2</td>\n",
              "      <td>1</td>\n",
              "      <td>0</td>\n",
              "      <td>898</td>\n",
              "      <td>2021-07-04</td>\n",
              "      <td>2021-07-05</td>\n",
              "      <td>2</td>\n",
              "      <td>0</td>\n",
              "      <td>0</td>\n",
              "      <td>1</td>\n",
              "      <td>RECOMMENDED</td>\n",
              "      <td>NaN</td>\n",
              "      <td>1,5695234,1,4.0,250.0,2.0,1,0,3,0,0|2,1734546,...</td>\n",
              "    </tr>\n",
              "    <tr>\n",
              "      <th>1</th>\n",
              "      <td>002ba2a7c74dbffc32e4568af230d49a</td>\n",
              "      <td>25b8ebecb15b8f3edb5eed36a1f699b4</td>\n",
              "      <td>2021-06-23T03:39:00.000Z</td>\n",
              "      <td>1</td>\n",
              "      <td>1</td>\n",
              "      <td>0</td>\n",
              "      <td>50</td>\n",
              "      <td>2021-09-10</td>\n",
              "      <td>2021-09-14</td>\n",
              "      <td>2</td>\n",
              "      <td>0</td>\n",
              "      <td>0</td>\n",
              "      <td>1</td>\n",
              "      <td>PRICE ASCENDING</td>\n",
              "      <td>NaN</td>\n",
              "      <td>1,5151135,0,null,null,null,1,1,1,0,0</td>\n",
              "    </tr>\n",
              "    <tr>\n",
              "      <th>2</th>\n",
              "      <td>00c5152ed6ef5b937e8320a260bde084</td>\n",
              "      <td>349c86ff1be41553878e01988ca209d1</td>\n",
              "      <td>2021-06-10T00:08:00.000Z</td>\n",
              "      <td>1</td>\n",
              "      <td>1</td>\n",
              "      <td>0</td>\n",
              "      <td>49</td>\n",
              "      <td>2021-07-07</td>\n",
              "      <td>2021-07-12</td>\n",
              "      <td>2</td>\n",
              "      <td>0</td>\n",
              "      <td>0</td>\n",
              "      <td>1</td>\n",
              "      <td>RECOMMENDED</td>\n",
              "      <td>NaN</td>\n",
              "      <td>1,1624072,0,4.0,1250.0,4.0,1,1,2,1,0|2,5170759...</td>\n",
              "    </tr>\n",
              "    <tr>\n",
              "      <th>3</th>\n",
              "      <td>00d5e2bca7962f67d5695e7e7b92feb8</td>\n",
              "      <td>d3b41f5d906b3f5e56bcafd4a7428634</td>\n",
              "      <td>2021-07-16T01:08:00.000Z</td>\n",
              "      <td>12</td>\n",
              "      <td>1</td>\n",
              "      <td>0</td>\n",
              "      <td>13</td>\n",
              "      <td>2021-08-25</td>\n",
              "      <td>2021-08-28</td>\n",
              "      <td>2</td>\n",
              "      <td>0</td>\n",
              "      <td>0</td>\n",
              "      <td>1</td>\n",
              "      <td>RECOMMENDED</td>\n",
              "      <td>NaN</td>\n",
              "      <td>1,2391667,1,4.0,1625.0,5.0,0,0,5,0,0|2,4930059...</td>\n",
              "    </tr>\n",
              "    <tr>\n",
              "      <th>4</th>\n",
              "      <td>013f92616fe583c4ba0c3919b69cf3d9</td>\n",
              "      <td>a359fd984e5ae5be64af5226dd1e9fe2</td>\n",
              "      <td>2021-07-07T20:49:00.000Z</td>\n",
              "      <td>1</td>\n",
              "      <td>1</td>\n",
              "      <td>0</td>\n",
              "      <td>206</td>\n",
              "      <td>2021-08-30</td>\n",
              "      <td>2021-09-04</td>\n",
              "      <td>1</td>\n",
              "      <td>0</td>\n",
              "      <td>0</td>\n",
              "      <td>1</td>\n",
              "      <td>RECOMMENDED</td>\n",
              "      <td>VIPONLY:FALSE</td>\n",
              "      <td>1,6714720,1,5.0,225.0,3.0,1,0,5,0,0|2,5593294,...</td>\n",
              "    </tr>\n",
              "  </tbody>\n",
              "</table>\n",
              "</div>\n",
              "    <div class=\"colab-df-buttons\">\n",
              "\n",
              "  <div class=\"colab-df-container\">\n",
              "    <button class=\"colab-df-convert\" onclick=\"convertToInteractive('df-c5164afb-1e27-4301-8c6b-abef3c34b185')\"\n",
              "            title=\"Convert this dataframe to an interactive table.\"\n",
              "            style=\"display:none;\">\n",
              "\n",
              "  <svg xmlns=\"http://www.w3.org/2000/svg\" height=\"24px\" viewBox=\"0 -960 960 960\">\n",
              "    <path d=\"M120-120v-720h720v720H120Zm60-500h600v-160H180v160Zm220 220h160v-160H400v160Zm0 220h160v-160H400v160ZM180-400h160v-160H180v160Zm440 0h160v-160H620v160ZM180-180h160v-160H180v160Zm440 0h160v-160H620v160Z\"/>\n",
              "  </svg>\n",
              "    </button>\n",
              "\n",
              "  <style>\n",
              "    .colab-df-container {\n",
              "      display:flex;\n",
              "      gap: 12px;\n",
              "    }\n",
              "\n",
              "    .colab-df-convert {\n",
              "      background-color: #E8F0FE;\n",
              "      border: none;\n",
              "      border-radius: 50%;\n",
              "      cursor: pointer;\n",
              "      display: none;\n",
              "      fill: #1967D2;\n",
              "      height: 32px;\n",
              "      padding: 0 0 0 0;\n",
              "      width: 32px;\n",
              "    }\n",
              "\n",
              "    .colab-df-convert:hover {\n",
              "      background-color: #E2EBFA;\n",
              "      box-shadow: 0px 1px 2px rgba(60, 64, 67, 0.3), 0px 1px 3px 1px rgba(60, 64, 67, 0.15);\n",
              "      fill: #174EA6;\n",
              "    }\n",
              "\n",
              "    .colab-df-buttons div {\n",
              "      margin-bottom: 4px;\n",
              "    }\n",
              "\n",
              "    [theme=dark] .colab-df-convert {\n",
              "      background-color: #3B4455;\n",
              "      fill: #D2E3FC;\n",
              "    }\n",
              "\n",
              "    [theme=dark] .colab-df-convert:hover {\n",
              "      background-color: #434B5C;\n",
              "      box-shadow: 0px 1px 3px 1px rgba(0, 0, 0, 0.15);\n",
              "      filter: drop-shadow(0px 1px 2px rgba(0, 0, 0, 0.3));\n",
              "      fill: #FFFFFF;\n",
              "    }\n",
              "  </style>\n",
              "\n",
              "    <script>\n",
              "      const buttonEl =\n",
              "        document.querySelector('#df-c5164afb-1e27-4301-8c6b-abef3c34b185 button.colab-df-convert');\n",
              "      buttonEl.style.display =\n",
              "        google.colab.kernel.accessAllowed ? 'block' : 'none';\n",
              "\n",
              "      async function convertToInteractive(key) {\n",
              "        const element = document.querySelector('#df-c5164afb-1e27-4301-8c6b-abef3c34b185');\n",
              "        const dataTable =\n",
              "          await google.colab.kernel.invokeFunction('convertToInteractive',\n",
              "                                                    [key], {});\n",
              "        if (!dataTable) return;\n",
              "\n",
              "        const docLinkHtml = 'Like what you see? Visit the ' +\n",
              "          '<a target=\"_blank\" href=https://colab.research.google.com/notebooks/data_table.ipynb>data table notebook</a>'\n",
              "          + ' to learn more about interactive tables.';\n",
              "        element.innerHTML = '';\n",
              "        dataTable['output_type'] = 'display_data';\n",
              "        await google.colab.output.renderOutput(dataTable, element);\n",
              "        const docLink = document.createElement('div');\n",
              "        docLink.innerHTML = docLinkHtml;\n",
              "        element.appendChild(docLink);\n",
              "      }\n",
              "    </script>\n",
              "  </div>\n",
              "\n",
              "\n",
              "<div id=\"df-26ca660d-14bf-4230-bc38-10128e733644\">\n",
              "  <button class=\"colab-df-quickchart\" onclick=\"quickchart('df-26ca660d-14bf-4230-bc38-10128e733644')\"\n",
              "            title=\"Suggest charts\"\n",
              "            style=\"display:none;\">\n",
              "\n",
              "<svg xmlns=\"http://www.w3.org/2000/svg\" height=\"24px\"viewBox=\"0 0 24 24\"\n",
              "     width=\"24px\">\n",
              "    <g>\n",
              "        <path d=\"M19 3H5c-1.1 0-2 .9-2 2v14c0 1.1.9 2 2 2h14c1.1 0 2-.9 2-2V5c0-1.1-.9-2-2-2zM9 17H7v-7h2v7zm4 0h-2V7h2v10zm4 0h-2v-4h2v4z\"/>\n",
              "    </g>\n",
              "</svg>\n",
              "  </button>\n",
              "\n",
              "<style>\n",
              "  .colab-df-quickchart {\n",
              "      --bg-color: #E8F0FE;\n",
              "      --fill-color: #1967D2;\n",
              "      --hover-bg-color: #E2EBFA;\n",
              "      --hover-fill-color: #174EA6;\n",
              "      --disabled-fill-color: #AAA;\n",
              "      --disabled-bg-color: #DDD;\n",
              "  }\n",
              "\n",
              "  [theme=dark] .colab-df-quickchart {\n",
              "      --bg-color: #3B4455;\n",
              "      --fill-color: #D2E3FC;\n",
              "      --hover-bg-color: #434B5C;\n",
              "      --hover-fill-color: #FFFFFF;\n",
              "      --disabled-bg-color: #3B4455;\n",
              "      --disabled-fill-color: #666;\n",
              "  }\n",
              "\n",
              "  .colab-df-quickchart {\n",
              "    background-color: var(--bg-color);\n",
              "    border: none;\n",
              "    border-radius: 50%;\n",
              "    cursor: pointer;\n",
              "    display: none;\n",
              "    fill: var(--fill-color);\n",
              "    height: 32px;\n",
              "    padding: 0;\n",
              "    width: 32px;\n",
              "  }\n",
              "\n",
              "  .colab-df-quickchart:hover {\n",
              "    background-color: var(--hover-bg-color);\n",
              "    box-shadow: 0 1px 2px rgba(60, 64, 67, 0.3), 0 1px 3px 1px rgba(60, 64, 67, 0.15);\n",
              "    fill: var(--button-hover-fill-color);\n",
              "  }\n",
              "\n",
              "  .colab-df-quickchart-complete:disabled,\n",
              "  .colab-df-quickchart-complete:disabled:hover {\n",
              "    background-color: var(--disabled-bg-color);\n",
              "    fill: var(--disabled-fill-color);\n",
              "    box-shadow: none;\n",
              "  }\n",
              "\n",
              "  .colab-df-spinner {\n",
              "    border: 2px solid var(--fill-color);\n",
              "    border-color: transparent;\n",
              "    border-bottom-color: var(--fill-color);\n",
              "    animation:\n",
              "      spin 1s steps(1) infinite;\n",
              "  }\n",
              "\n",
              "  @keyframes spin {\n",
              "    0% {\n",
              "      border-color: transparent;\n",
              "      border-bottom-color: var(--fill-color);\n",
              "      border-left-color: var(--fill-color);\n",
              "    }\n",
              "    20% {\n",
              "      border-color: transparent;\n",
              "      border-left-color: var(--fill-color);\n",
              "      border-top-color: var(--fill-color);\n",
              "    }\n",
              "    30% {\n",
              "      border-color: transparent;\n",
              "      border-left-color: var(--fill-color);\n",
              "      border-top-color: var(--fill-color);\n",
              "      border-right-color: var(--fill-color);\n",
              "    }\n",
              "    40% {\n",
              "      border-color: transparent;\n",
              "      border-right-color: var(--fill-color);\n",
              "      border-top-color: var(--fill-color);\n",
              "    }\n",
              "    60% {\n",
              "      border-color: transparent;\n",
              "      border-right-color: var(--fill-color);\n",
              "    }\n",
              "    80% {\n",
              "      border-color: transparent;\n",
              "      border-right-color: var(--fill-color);\n",
              "      border-bottom-color: var(--fill-color);\n",
              "    }\n",
              "    90% {\n",
              "      border-color: transparent;\n",
              "      border-bottom-color: var(--fill-color);\n",
              "    }\n",
              "  }\n",
              "</style>\n",
              "\n",
              "  <script>\n",
              "    async function quickchart(key) {\n",
              "      const quickchartButtonEl =\n",
              "        document.querySelector('#' + key + ' button');\n",
              "      quickchartButtonEl.disabled = true;  // To prevent multiple clicks.\n",
              "      quickchartButtonEl.classList.add('colab-df-spinner');\n",
              "      try {\n",
              "        const charts = await google.colab.kernel.invokeFunction(\n",
              "            'suggestCharts', [key], {});\n",
              "      } catch (error) {\n",
              "        console.error('Error during call to suggestCharts:', error);\n",
              "      }\n",
              "      quickchartButtonEl.classList.remove('colab-df-spinner');\n",
              "      quickchartButtonEl.classList.add('colab-df-quickchart-complete');\n",
              "    }\n",
              "    (() => {\n",
              "      let quickchartButtonEl =\n",
              "        document.querySelector('#df-26ca660d-14bf-4230-bc38-10128e733644 button');\n",
              "      quickchartButtonEl.style.display =\n",
              "        google.colab.kernel.accessAllowed ? 'block' : 'none';\n",
              "    })();\n",
              "  </script>\n",
              "</div>\n",
              "    </div>\n",
              "  </div>\n"
            ],
            "text/plain": [
              "                            user_id                         search_id  \\\n",
              "0  001bbff3030c95740d4c55bb72e823e9  541933a931216d270f53277c2de068d0   \n",
              "1  002ba2a7c74dbffc32e4568af230d49a  25b8ebecb15b8f3edb5eed36a1f699b4   \n",
              "2  00c5152ed6ef5b937e8320a260bde084  349c86ff1be41553878e01988ca209d1   \n",
              "3  00d5e2bca7962f67d5695e7e7b92feb8  d3b41f5d906b3f5e56bcafd4a7428634   \n",
              "4  013f92616fe583c4ba0c3919b69cf3d9  a359fd984e5ae5be64af5226dd1e9fe2   \n",
              "\n",
              "           search_timestamp  point_of_sale  geo_location_country  is_mobile  \\\n",
              "0  2021-07-02T19:38:00.000Z              2                     1          0   \n",
              "1  2021-06-23T03:39:00.000Z              1                     1          0   \n",
              "2  2021-06-10T00:08:00.000Z              1                     1          0   \n",
              "3  2021-07-16T01:08:00.000Z             12                     1          0   \n",
              "4  2021-07-07T20:49:00.000Z              1                     1          0   \n",
              "\n",
              "   destination_id checkin_date checkout_date  adult_count  child_count  \\\n",
              "0             898   2021-07-04    2021-07-05            2            0   \n",
              "1              50   2021-09-10    2021-09-14            2            0   \n",
              "2              49   2021-07-07    2021-07-12            2            0   \n",
              "3              13   2021-08-25    2021-08-28            2            0   \n",
              "4             206   2021-08-30    2021-09-04            1            0   \n",
              "\n",
              "   infant_count  room_count        sort_type applied_filters  \\\n",
              "0             0           1      RECOMMENDED             NaN   \n",
              "1             0           1  PRICE ASCENDING             NaN   \n",
              "2             0           1      RECOMMENDED             NaN   \n",
              "3             0           1      RECOMMENDED             NaN   \n",
              "4             0           1      RECOMMENDED   VIPONLY:FALSE   \n",
              "\n",
              "                                         impressions  \n",
              "0  1,5695234,1,4.0,250.0,2.0,1,0,3,0,0|2,1734546,...  \n",
              "1               1,5151135,0,null,null,null,1,1,1,0,0  \n",
              "2  1,1624072,0,4.0,1250.0,4.0,1,1,2,1,0|2,5170759...  \n",
              "3  1,2391667,1,4.0,1625.0,5.0,0,0,5,0,0|2,4930059...  \n",
              "4  1,6714720,1,5.0,225.0,3.0,1,0,5,0,0|2,5593294,...  "
            ]
          },
          "execution_count": 3,
          "metadata": {},
          "output_type": "execute_result"
        }
      ],
      "source": [
        "df.head()"
      ]
    },
    {
      "cell_type": "code",
      "execution_count": 4,
      "metadata": {
        "colab": {
          "base_uri": "https://localhost:8080/"
        },
        "id": "kMra3Qa562r3",
        "outputId": "2e8f595e-b821-4fc4-817a-2a998ab2ac1e"
      },
      "outputs": [
        {
          "data": {
            "text/plain": [
              "(2577809, 16)"
            ]
          },
          "execution_count": 4,
          "metadata": {},
          "output_type": "execute_result"
        }
      ],
      "source": [
        "df.shape"
      ]
    },
    {
      "cell_type": "code",
      "execution_count": 5,
      "metadata": {
        "colab": {
          "base_uri": "https://localhost:8080/"
        },
        "id": "RVbuQql0Ihta",
        "outputId": "1613e1d2-cc75-4fcf-d9f3-ec1218016ac7"
      },
      "outputs": [
        {
          "data": {
            "text/plain": [
              "(250000, 16)"
            ]
          },
          "execution_count": 5,
          "metadata": {},
          "output_type": "execute_result"
        }
      ],
      "source": [
        "df1 = df.iloc[:5000]\n",
        "df1.shape"
      ]
    },
    {
      "cell_type": "code",
      "execution_count": null,
      "metadata": {
        "colab": {
          "base_uri": "https://localhost:8080/",
          "height": 309
        },
        "id": "ynlU29ff7dlq",
        "outputId": "368c5a71-5156-410a-bc0e-4f71caecb553"
      },
      "outputs": [
        {
          "data": {
            "application/vnd.google.colaboratory.intrinsic+json": {
              "repr_error": "0",
              "type": "dataframe"
            },
            "text/html": [
              "\n",
              "  <div id=\"df-af9c6fcb-5270-4fb5-83e7-cf178167e0f0\" class=\"colab-df-container\">\n",
              "    <div>\n",
              "<style scoped>\n",
              "    .dataframe tbody tr th:only-of-type {\n",
              "        vertical-align: middle;\n",
              "    }\n",
              "\n",
              "    .dataframe tbody tr th {\n",
              "        vertical-align: top;\n",
              "    }\n",
              "\n",
              "    .dataframe thead th {\n",
              "        text-align: right;\n",
              "    }\n",
              "</style>\n",
              "<table border=\"1\" class=\"dataframe\">\n",
              "  <thead>\n",
              "    <tr style=\"text-align: right;\">\n",
              "      <th></th>\n",
              "      <th>user_id</th>\n",
              "      <th>search_id</th>\n",
              "      <th>search_timestamp</th>\n",
              "      <th>point_of_sale</th>\n",
              "      <th>geo_location_country</th>\n",
              "      <th>is_mobile</th>\n",
              "      <th>destination_id</th>\n",
              "      <th>checkin_date</th>\n",
              "      <th>checkout_date</th>\n",
              "      <th>adult_count</th>\n",
              "      <th>child_count</th>\n",
              "      <th>infant_count</th>\n",
              "      <th>room_count</th>\n",
              "      <th>sort_type</th>\n",
              "      <th>applied_filters</th>\n",
              "      <th>impressions</th>\n",
              "    </tr>\n",
              "  </thead>\n",
              "  <tbody>\n",
              "    <tr>\n",
              "      <th>4</th>\n",
              "      <td>013f92616fe583c4ba0c3919b69cf3d9</td>\n",
              "      <td>a359fd984e5ae5be64af5226dd1e9fe2</td>\n",
              "      <td>2021-07-07T20:49:00.000Z</td>\n",
              "      <td>1</td>\n",
              "      <td>1</td>\n",
              "      <td>0</td>\n",
              "      <td>206</td>\n",
              "      <td>2021-08-30</td>\n",
              "      <td>2021-09-04</td>\n",
              "      <td>1</td>\n",
              "      <td>0</td>\n",
              "      <td>0</td>\n",
              "      <td>1</td>\n",
              "      <td>RECOMMENDED</td>\n",
              "      <td>VIPONLY:FALSE</td>\n",
              "      <td>1,6714720,1,5.0,225.0,3.0,1,0,5,0,0|2,5593294,...</td>\n",
              "    </tr>\n",
              "    <tr>\n",
              "      <th>5</th>\n",
              "      <td>0152236295041a611d45ed97353d73df</td>\n",
              "      <td>cc8875772f124695111939cc8c08e59a</td>\n",
              "      <td>2021-06-10T14:49:00.000Z</td>\n",
              "      <td>2</td>\n",
              "      <td>1</td>\n",
              "      <td>1</td>\n",
              "      <td>9</td>\n",
              "      <td>2021-06-10</td>\n",
              "      <td>2021-06-11</td>\n",
              "      <td>2</td>\n",
              "      <td>0</td>\n",
              "      <td>0</td>\n",
              "      <td>1</td>\n",
              "      <td>RECOMMENDED</td>\n",
              "      <td>PRICE:0</td>\n",
              "      <td>1,3894329,0,5.0,1025.0,3.0,0,1,4,0,0|2,2785866...</td>\n",
              "    </tr>\n",
              "    <tr>\n",
              "      <th>14</th>\n",
              "      <td>018e7d1f2484459af14daf74d8aabb95</td>\n",
              "      <td>dd89d215b0a608de71666da440e3fdcc</td>\n",
              "      <td>2021-06-18T21:20:00.000Z</td>\n",
              "      <td>6</td>\n",
              "      <td>4</td>\n",
              "      <td>0</td>\n",
              "      <td>1</td>\n",
              "      <td>2021-08-01</td>\n",
              "      <td>2021-08-06</td>\n",
              "      <td>2</td>\n",
              "      <td>0</td>\n",
              "      <td>0</td>\n",
              "      <td>1</td>\n",
              "      <td>RECOMMENDED</td>\n",
              "      <td>VIPONLY:FALSE</td>\n",
              "      <td>1,3955773,0,4.0,225.0,3.0,1,0,2,0,0|2,3091054,...</td>\n",
              "    </tr>\n",
              "    <tr>\n",
              "      <th>16</th>\n",
              "      <td>022618a80fb6c8614855c66204e0e03b</td>\n",
              "      <td>daabcde78180d12e2f99dc933ae43e3c</td>\n",
              "      <td>2021-06-28T13:29:00.000Z</td>\n",
              "      <td>11</td>\n",
              "      <td>4</td>\n",
              "      <td>0</td>\n",
              "      <td>143</td>\n",
              "      <td>2021-08-19</td>\n",
              "      <td>2021-08-22</td>\n",
              "      <td>6</td>\n",
              "      <td>0</td>\n",
              "      <td>0</td>\n",
              "      <td>1</td>\n",
              "      <td>RECOMMENDED</td>\n",
              "      <td>MEALPLAN:ALL_INCLUSIVE</td>\n",
              "      <td>1,6934307,0,0.0,0.0,null,0,0,null,0,0|2,512506...</td>\n",
              "    </tr>\n",
              "    <tr>\n",
              "      <th>17</th>\n",
              "      <td>023fc9d701c799c627bb9fc68fa55816</td>\n",
              "      <td>197e29f822ed8ef83b9d339b892ced5e</td>\n",
              "      <td>2021-06-19T02:20:00.000Z</td>\n",
              "      <td>3</td>\n",
              "      <td>2</td>\n",
              "      <td>0</td>\n",
              "      <td>7811</td>\n",
              "      <td>2021-06-19</td>\n",
              "      <td>2021-06-20</td>\n",
              "      <td>2</td>\n",
              "      <td>0</td>\n",
              "      <td>0</td>\n",
              "      <td>1</td>\n",
              "      <td>RECOMMENDED</td>\n",
              "      <td>VIPONLY:FALSE</td>\n",
              "      <td>1,6365186,0,5.0,475.0,4.0,0,0,5,0,0|2,2063282,...</td>\n",
              "    </tr>\n",
              "  </tbody>\n",
              "</table>\n",
              "</div>\n",
              "    <div class=\"colab-df-buttons\">\n",
              "\n",
              "  <div class=\"colab-df-container\">\n",
              "    <button class=\"colab-df-convert\" onclick=\"convertToInteractive('df-af9c6fcb-5270-4fb5-83e7-cf178167e0f0')\"\n",
              "            title=\"Convert this dataframe to an interactive table.\"\n",
              "            style=\"display:none;\">\n",
              "\n",
              "  <svg xmlns=\"http://www.w3.org/2000/svg\" height=\"24px\" viewBox=\"0 -960 960 960\">\n",
              "    <path d=\"M120-120v-720h720v720H120Zm60-500h600v-160H180v160Zm220 220h160v-160H400v160Zm0 220h160v-160H400v160ZM180-400h160v-160H180v160Zm440 0h160v-160H620v160ZM180-180h160v-160H180v160Zm440 0h160v-160H620v160Z\"/>\n",
              "  </svg>\n",
              "    </button>\n",
              "\n",
              "  <style>\n",
              "    .colab-df-container {\n",
              "      display:flex;\n",
              "      gap: 12px;\n",
              "    }\n",
              "\n",
              "    .colab-df-convert {\n",
              "      background-color: #E8F0FE;\n",
              "      border: none;\n",
              "      border-radius: 50%;\n",
              "      cursor: pointer;\n",
              "      display: none;\n",
              "      fill: #1967D2;\n",
              "      height: 32px;\n",
              "      padding: 0 0 0 0;\n",
              "      width: 32px;\n",
              "    }\n",
              "\n",
              "    .colab-df-convert:hover {\n",
              "      background-color: #E2EBFA;\n",
              "      box-shadow: 0px 1px 2px rgba(60, 64, 67, 0.3), 0px 1px 3px 1px rgba(60, 64, 67, 0.15);\n",
              "      fill: #174EA6;\n",
              "    }\n",
              "\n",
              "    .colab-df-buttons div {\n",
              "      margin-bottom: 4px;\n",
              "    }\n",
              "\n",
              "    [theme=dark] .colab-df-convert {\n",
              "      background-color: #3B4455;\n",
              "      fill: #D2E3FC;\n",
              "    }\n",
              "\n",
              "    [theme=dark] .colab-df-convert:hover {\n",
              "      background-color: #434B5C;\n",
              "      box-shadow: 0px 1px 3px 1px rgba(0, 0, 0, 0.15);\n",
              "      filter: drop-shadow(0px 1px 2px rgba(0, 0, 0, 0.3));\n",
              "      fill: #FFFFFF;\n",
              "    }\n",
              "  </style>\n",
              "\n",
              "    <script>\n",
              "      const buttonEl =\n",
              "        document.querySelector('#df-af9c6fcb-5270-4fb5-83e7-cf178167e0f0 button.colab-df-convert');\n",
              "      buttonEl.style.display =\n",
              "        google.colab.kernel.accessAllowed ? 'block' : 'none';\n",
              "\n",
              "      async function convertToInteractive(key) {\n",
              "        const element = document.querySelector('#df-af9c6fcb-5270-4fb5-83e7-cf178167e0f0');\n",
              "        const dataTable =\n",
              "          await google.colab.kernel.invokeFunction('convertToInteractive',\n",
              "                                                    [key], {});\n",
              "        if (!dataTable) return;\n",
              "\n",
              "        const docLinkHtml = 'Like what you see? Visit the ' +\n",
              "          '<a target=\"_blank\" href=https://colab.research.google.com/notebooks/data_table.ipynb>data table notebook</a>'\n",
              "          + ' to learn more about interactive tables.';\n",
              "        element.innerHTML = '';\n",
              "        dataTable['output_type'] = 'display_data';\n",
              "        await google.colab.output.renderOutput(dataTable, element);\n",
              "        const docLink = document.createElement('div');\n",
              "        docLink.innerHTML = docLinkHtml;\n",
              "        element.appendChild(docLink);\n",
              "      }\n",
              "    </script>\n",
              "  </div>\n",
              "\n",
              "\n",
              "<div id=\"df-0e7c1a22-fcfa-42d1-b672-6fa6b8e6ddfa\">\n",
              "  <button class=\"colab-df-quickchart\" onclick=\"quickchart('df-0e7c1a22-fcfa-42d1-b672-6fa6b8e6ddfa')\"\n",
              "            title=\"Suggest charts\"\n",
              "            style=\"display:none;\">\n",
              "\n",
              "<svg xmlns=\"http://www.w3.org/2000/svg\" height=\"24px\"viewBox=\"0 0 24 24\"\n",
              "     width=\"24px\">\n",
              "    <g>\n",
              "        <path d=\"M19 3H5c-1.1 0-2 .9-2 2v14c0 1.1.9 2 2 2h14c1.1 0 2-.9 2-2V5c0-1.1-.9-2-2-2zM9 17H7v-7h2v7zm4 0h-2V7h2v10zm4 0h-2v-4h2v4z\"/>\n",
              "    </g>\n",
              "</svg>\n",
              "  </button>\n",
              "\n",
              "<style>\n",
              "  .colab-df-quickchart {\n",
              "      --bg-color: #E8F0FE;\n",
              "      --fill-color: #1967D2;\n",
              "      --hover-bg-color: #E2EBFA;\n",
              "      --hover-fill-color: #174EA6;\n",
              "      --disabled-fill-color: #AAA;\n",
              "      --disabled-bg-color: #DDD;\n",
              "  }\n",
              "\n",
              "  [theme=dark] .colab-df-quickchart {\n",
              "      --bg-color: #3B4455;\n",
              "      --fill-color: #D2E3FC;\n",
              "      --hover-bg-color: #434B5C;\n",
              "      --hover-fill-color: #FFFFFF;\n",
              "      --disabled-bg-color: #3B4455;\n",
              "      --disabled-fill-color: #666;\n",
              "  }\n",
              "\n",
              "  .colab-df-quickchart {\n",
              "    background-color: var(--bg-color);\n",
              "    border: none;\n",
              "    border-radius: 50%;\n",
              "    cursor: pointer;\n",
              "    display: none;\n",
              "    fill: var(--fill-color);\n",
              "    height: 32px;\n",
              "    padding: 0;\n",
              "    width: 32px;\n",
              "  }\n",
              "\n",
              "  .colab-df-quickchart:hover {\n",
              "    background-color: var(--hover-bg-color);\n",
              "    box-shadow: 0 1px 2px rgba(60, 64, 67, 0.3), 0 1px 3px 1px rgba(60, 64, 67, 0.15);\n",
              "    fill: var(--button-hover-fill-color);\n",
              "  }\n",
              "\n",
              "  .colab-df-quickchart-complete:disabled,\n",
              "  .colab-df-quickchart-complete:disabled:hover {\n",
              "    background-color: var(--disabled-bg-color);\n",
              "    fill: var(--disabled-fill-color);\n",
              "    box-shadow: none;\n",
              "  }\n",
              "\n",
              "  .colab-df-spinner {\n",
              "    border: 2px solid var(--fill-color);\n",
              "    border-color: transparent;\n",
              "    border-bottom-color: var(--fill-color);\n",
              "    animation:\n",
              "      spin 1s steps(1) infinite;\n",
              "  }\n",
              "\n",
              "  @keyframes spin {\n",
              "    0% {\n",
              "      border-color: transparent;\n",
              "      border-bottom-color: var(--fill-color);\n",
              "      border-left-color: var(--fill-color);\n",
              "    }\n",
              "    20% {\n",
              "      border-color: transparent;\n",
              "      border-left-color: var(--fill-color);\n",
              "      border-top-color: var(--fill-color);\n",
              "    }\n",
              "    30% {\n",
              "      border-color: transparent;\n",
              "      border-left-color: var(--fill-color);\n",
              "      border-top-color: var(--fill-color);\n",
              "      border-right-color: var(--fill-color);\n",
              "    }\n",
              "    40% {\n",
              "      border-color: transparent;\n",
              "      border-right-color: var(--fill-color);\n",
              "      border-top-color: var(--fill-color);\n",
              "    }\n",
              "    60% {\n",
              "      border-color: transparent;\n",
              "      border-right-color: var(--fill-color);\n",
              "    }\n",
              "    80% {\n",
              "      border-color: transparent;\n",
              "      border-right-color: var(--fill-color);\n",
              "      border-bottom-color: var(--fill-color);\n",
              "    }\n",
              "    90% {\n",
              "      border-color: transparent;\n",
              "      border-bottom-color: var(--fill-color);\n",
              "    }\n",
              "  }\n",
              "</style>\n",
              "\n",
              "  <script>\n",
              "    async function quickchart(key) {\n",
              "      const quickchartButtonEl =\n",
              "        document.querySelector('#' + key + ' button');\n",
              "      quickchartButtonEl.disabled = true;  // To prevent multiple clicks.\n",
              "      quickchartButtonEl.classList.add('colab-df-spinner');\n",
              "      try {\n",
              "        const charts = await google.colab.kernel.invokeFunction(\n",
              "            'suggestCharts', [key], {});\n",
              "      } catch (error) {\n",
              "        console.error('Error during call to suggestCharts:', error);\n",
              "      }\n",
              "      quickchartButtonEl.classList.remove('colab-df-spinner');\n",
              "      quickchartButtonEl.classList.add('colab-df-quickchart-complete');\n",
              "    }\n",
              "    (() => {\n",
              "      let quickchartButtonEl =\n",
              "        document.querySelector('#df-0e7c1a22-fcfa-42d1-b672-6fa6b8e6ddfa button');\n",
              "      quickchartButtonEl.style.display =\n",
              "        google.colab.kernel.accessAllowed ? 'block' : 'none';\n",
              "    })();\n",
              "  </script>\n",
              "</div>\n",
              "    </div>\n",
              "  </div>\n"
            ],
            "text/plain": [
              "                             user_id                         search_id  \\\n",
              "4   013f92616fe583c4ba0c3919b69cf3d9  a359fd984e5ae5be64af5226dd1e9fe2   \n",
              "5   0152236295041a611d45ed97353d73df  cc8875772f124695111939cc8c08e59a   \n",
              "14  018e7d1f2484459af14daf74d8aabb95  dd89d215b0a608de71666da440e3fdcc   \n",
              "16  022618a80fb6c8614855c66204e0e03b  daabcde78180d12e2f99dc933ae43e3c   \n",
              "17  023fc9d701c799c627bb9fc68fa55816  197e29f822ed8ef83b9d339b892ced5e   \n",
              "\n",
              "            search_timestamp  point_of_sale  geo_location_country  is_mobile  \\\n",
              "4   2021-07-07T20:49:00.000Z              1                     1          0   \n",
              "5   2021-06-10T14:49:00.000Z              2                     1          1   \n",
              "14  2021-06-18T21:20:00.000Z              6                     4          0   \n",
              "16  2021-06-28T13:29:00.000Z             11                     4          0   \n",
              "17  2021-06-19T02:20:00.000Z              3                     2          0   \n",
              "\n",
              "    destination_id checkin_date checkout_date  adult_count  child_count  \\\n",
              "4              206   2021-08-30    2021-09-04            1            0   \n",
              "5                9   2021-06-10    2021-06-11            2            0   \n",
              "14               1   2021-08-01    2021-08-06            2            0   \n",
              "16             143   2021-08-19    2021-08-22            6            0   \n",
              "17            7811   2021-06-19    2021-06-20            2            0   \n",
              "\n",
              "    infant_count  room_count    sort_type         applied_filters  \\\n",
              "4              0           1  RECOMMENDED           VIPONLY:FALSE   \n",
              "5              0           1  RECOMMENDED                 PRICE:0   \n",
              "14             0           1  RECOMMENDED           VIPONLY:FALSE   \n",
              "16             0           1  RECOMMENDED  MEALPLAN:ALL_INCLUSIVE   \n",
              "17             0           1  RECOMMENDED           VIPONLY:FALSE   \n",
              "\n",
              "                                          impressions  \n",
              "4   1,6714720,1,5.0,225.0,3.0,1,0,5,0,0|2,5593294,...  \n",
              "5   1,3894329,0,5.0,1025.0,3.0,0,1,4,0,0|2,2785866...  \n",
              "14  1,3955773,0,4.0,225.0,3.0,1,0,2,0,0|2,3091054,...  \n",
              "16  1,6934307,0,0.0,0.0,null,0,0,null,0,0|2,512506...  \n",
              "17  1,6365186,0,5.0,475.0,4.0,0,0,5,0,0|2,2063282,...  "
            ]
          },
          "execution_count": 6,
          "metadata": {},
          "output_type": "execute_result"
        }
      ],
      "source": [
        "df[df['applied_filters'].notna()].head()"
      ]
    },
    {
      "cell_type": "code",
      "execution_count": null,
      "metadata": {
        "colab": {
          "base_uri": "https://localhost:8080/",
          "height": 73
        },
        "id": "3L0VHlBqHeKn",
        "outputId": "3ca7a990-deb0-4bfc-bc8e-ff99fc677ab3"
      },
      "outputs": [
        {
          "data": {
            "application/vnd.google.colaboratory.intrinsic+json": {
              "repr_error": "Out of range float values are not JSON compliant: nan",
              "type": "dataframe"
            },
            "text/html": [
              "\n",
              "  <div id=\"df-3ee22c11-b153-48fe-afdd-56df602067b9\" class=\"colab-df-container\">\n",
              "    <div>\n",
              "<style scoped>\n",
              "    .dataframe tbody tr th:only-of-type {\n",
              "        vertical-align: middle;\n",
              "    }\n",
              "\n",
              "    .dataframe tbody tr th {\n",
              "        vertical-align: top;\n",
              "    }\n",
              "\n",
              "    .dataframe thead th {\n",
              "        text-align: right;\n",
              "    }\n",
              "</style>\n",
              "<table border=\"1\" class=\"dataframe\">\n",
              "  <thead>\n",
              "    <tr style=\"text-align: right;\">\n",
              "      <th></th>\n",
              "      <th>user_id</th>\n",
              "      <th>search_id</th>\n",
              "      <th>search_timestamp</th>\n",
              "      <th>point_of_sale</th>\n",
              "      <th>geo_location_country</th>\n",
              "      <th>is_mobile</th>\n",
              "      <th>destination_id</th>\n",
              "      <th>checkin_date</th>\n",
              "      <th>checkout_date</th>\n",
              "      <th>adult_count</th>\n",
              "      <th>child_count</th>\n",
              "      <th>infant_count</th>\n",
              "      <th>room_count</th>\n",
              "      <th>sort_type</th>\n",
              "      <th>applied_filters</th>\n",
              "      <th>impressions</th>\n",
              "    </tr>\n",
              "  </thead>\n",
              "  <tbody>\n",
              "  </tbody>\n",
              "</table>\n",
              "</div>\n",
              "    <div class=\"colab-df-buttons\">\n",
              "\n",
              "  <div class=\"colab-df-container\">\n",
              "    <button class=\"colab-df-convert\" onclick=\"convertToInteractive('df-3ee22c11-b153-48fe-afdd-56df602067b9')\"\n",
              "            title=\"Convert this dataframe to an interactive table.\"\n",
              "            style=\"display:none;\">\n",
              "\n",
              "  <svg xmlns=\"http://www.w3.org/2000/svg\" height=\"24px\" viewBox=\"0 -960 960 960\">\n",
              "    <path d=\"M120-120v-720h720v720H120Zm60-500h600v-160H180v160Zm220 220h160v-160H400v160Zm0 220h160v-160H400v160ZM180-400h160v-160H180v160Zm440 0h160v-160H620v160ZM180-180h160v-160H180v160Zm440 0h160v-160H620v160Z\"/>\n",
              "  </svg>\n",
              "    </button>\n",
              "\n",
              "  <style>\n",
              "    .colab-df-container {\n",
              "      display:flex;\n",
              "      gap: 12px;\n",
              "    }\n",
              "\n",
              "    .colab-df-convert {\n",
              "      background-color: #E8F0FE;\n",
              "      border: none;\n",
              "      border-radius: 50%;\n",
              "      cursor: pointer;\n",
              "      display: none;\n",
              "      fill: #1967D2;\n",
              "      height: 32px;\n",
              "      padding: 0 0 0 0;\n",
              "      width: 32px;\n",
              "    }\n",
              "\n",
              "    .colab-df-convert:hover {\n",
              "      background-color: #E2EBFA;\n",
              "      box-shadow: 0px 1px 2px rgba(60, 64, 67, 0.3), 0px 1px 3px 1px rgba(60, 64, 67, 0.15);\n",
              "      fill: #174EA6;\n",
              "    }\n",
              "\n",
              "    .colab-df-buttons div {\n",
              "      margin-bottom: 4px;\n",
              "    }\n",
              "\n",
              "    [theme=dark] .colab-df-convert {\n",
              "      background-color: #3B4455;\n",
              "      fill: #D2E3FC;\n",
              "    }\n",
              "\n",
              "    [theme=dark] .colab-df-convert:hover {\n",
              "      background-color: #434B5C;\n",
              "      box-shadow: 0px 1px 3px 1px rgba(0, 0, 0, 0.15);\n",
              "      filter: drop-shadow(0px 1px 2px rgba(0, 0, 0, 0.3));\n",
              "      fill: #FFFFFF;\n",
              "    }\n",
              "  </style>\n",
              "\n",
              "    <script>\n",
              "      const buttonEl =\n",
              "        document.querySelector('#df-3ee22c11-b153-48fe-afdd-56df602067b9 button.colab-df-convert');\n",
              "      buttonEl.style.display =\n",
              "        google.colab.kernel.accessAllowed ? 'block' : 'none';\n",
              "\n",
              "      async function convertToInteractive(key) {\n",
              "        const element = document.querySelector('#df-3ee22c11-b153-48fe-afdd-56df602067b9');\n",
              "        const dataTable =\n",
              "          await google.colab.kernel.invokeFunction('convertToInteractive',\n",
              "                                                    [key], {});\n",
              "        if (!dataTable) return;\n",
              "\n",
              "        const docLinkHtml = 'Like what you see? Visit the ' +\n",
              "          '<a target=\"_blank\" href=https://colab.research.google.com/notebooks/data_table.ipynb>data table notebook</a>'\n",
              "          + ' to learn more about interactive tables.';\n",
              "        element.innerHTML = '';\n",
              "        dataTable['output_type'] = 'display_data';\n",
              "        await google.colab.output.renderOutput(dataTable, element);\n",
              "        const docLink = document.createElement('div');\n",
              "        docLink.innerHTML = docLinkHtml;\n",
              "        element.appendChild(docLink);\n",
              "      }\n",
              "    </script>\n",
              "  </div>\n",
              "\n",
              "    </div>\n",
              "  </div>\n"
            ],
            "text/plain": [
              "Empty DataFrame\n",
              "Columns: [user_id, search_id, search_timestamp, point_of_sale, geo_location_country, is_mobile, destination_id, checkin_date, checkout_date, adult_count, child_count, infant_count, room_count, sort_type, applied_filters, impressions]\n",
              "Index: []"
            ]
          },
          "execution_count": 50,
          "metadata": {},
          "output_type": "execute_result"
        }
      ],
      "source": [
        "df[df['impressions'].isna()]"
      ]
    },
    {
      "cell_type": "code",
      "execution_count": null,
      "metadata": {
        "colab": {
          "base_uri": "https://localhost:8080/"
        },
        "id": "YafKW59D7354",
        "outputId": "5e1b4a34-02e9-4d60-e239-0113a6d5582a"
      },
      "outputs": [
        {
          "data": {
            "text/plain": [
              "applied_filters\n",
              "False    1728645\n",
              "True      849164\n",
              "Name: count, dtype: int64"
            ]
          },
          "execution_count": 19,
          "metadata": {},
          "output_type": "execute_result"
        }
      ],
      "source": [
        "df['applied_filters'].notna().value_counts()"
      ]
    },
    {
      "cell_type": "code",
      "execution_count": null,
      "metadata": {
        "colab": {
          "base_uri": "https://localhost:8080/"
        },
        "id": "u4RAJBCm8cTU",
        "outputId": "f8e38b48-39ba-4b1a-9fbe-383f476a013d"
      },
      "outputs": [
        {
          "data": {
            "text/plain": [
              "sort_type\n",
              "RECOMMENDED                      2268515\n",
              "PRICE ASCENDING                   243345\n",
              "SPECIAL - DIRECT HOTEL SEARCH      17959\n",
              "GUEST RATINGS DESCENDING           15399\n",
              "STAR RATING DESCENDING             14468\n",
              "DEALS                               9137\n",
              "VACATION RENTAL                     8563\n",
              "BEST_SELLER                          423\n",
              "Name: count, dtype: int64"
            ]
          },
          "execution_count": 20,
          "metadata": {},
          "output_type": "execute_result"
        }
      ],
      "source": [
        "df['sort_type'].value_counts()"
      ]
    },
    {
      "cell_type": "code",
      "execution_count": null,
      "metadata": {
        "colab": {
          "base_uri": "https://localhost:8080/"
        },
        "id": "nhPqwCF-9K-l",
        "outputId": "a93617ad-7b38-4ab3-847f-ff06775e665d"
      },
      "outputs": [
        {
          "data": {
            "text/plain": [
              "38914"
            ]
          },
          "execution_count": 24,
          "metadata": {},
          "output_type": "execute_result"
        }
      ],
      "source": [
        "len(df['applied_filters'].value_counts())"
      ]
    },
    {
      "cell_type": "code",
      "execution_count": null,
      "metadata": {
        "colab": {
          "base_uri": "https://localhost:8080/"
        },
        "id": "guHsdMcp9ZK_",
        "outputId": "9872c724-095d-4b72-bdb5-629a356ec826"
      },
      "outputs": [
        {
          "data": {
            "text/plain": [
              "applied_filters\n",
              "VIPONLY:FALSE                                                                             334737\n",
              "MEALPLAN:ALL_INCLUSIVE                                                                     44622\n",
              "PROPERTYNAME:XXX                                                                           28925\n",
              "AMENITY:17                                                                                 15148\n",
              "AMENITY:72                                                                                 13998\n",
              "                                                                                           ...  \n",
              "LODGING:CONDO|LODGING:VACATIONHOME|LODGING:APARTHOTEL|LODGING:APARTMENT|LODGING:VILLA          1\n",
              "AMENITY:19|AMENITY:27|AMENITY:14|PAYMENTTYPE:FREE_CANCELLATION|MEALPLAN:FREE_BREAKFAST         1\n",
              "AMENITY:19|AMENITY:27|AMENITY:66|PAYMENTTYPE:FREE_CANCELLATION|MEALPLAN:FREE_BREAKFAST         1\n",
              "STAR:4.0|PRICE:4|POI:XXX                                                                       1\n",
              "STAR:5.0|PRICE:4|POI:XXX                                                                       1\n",
              "Name: count, Length: 38914, dtype: int64"
            ]
          },
          "execution_count": 23,
          "metadata": {},
          "output_type": "execute_result"
        }
      ],
      "source": [
        "df['applied_filters'].value_counts()"
      ]
    },
    {
      "cell_type": "code",
      "execution_count": null,
      "metadata": {
        "colab": {
          "base_uri": "https://localhost:8080/"
        },
        "id": "v2f0SINX9tGi",
        "outputId": "81cb4eb8-26fd-4d5d-bb3f-b7c6fd4fe422"
      },
      "outputs": [
        {
          "data": {
            "text/plain": [
              "179"
            ]
          },
          "execution_count": 25,
          "metadata": {},
          "output_type": "execute_result"
        }
      ],
      "source": [
        "len(df['point_of_sale'].value_counts())"
      ]
    },
    {
      "cell_type": "code",
      "execution_count": null,
      "metadata": {
        "colab": {
          "base_uri": "https://localhost:8080/"
        },
        "id": "G4EgpkEo90XS",
        "outputId": "bb7ded60-45df-42dc-ae92-b2f0a57dff33"
      },
      "outputs": [
        {
          "data": {
            "text/plain": [
              "219"
            ]
          },
          "execution_count": 26,
          "metadata": {},
          "output_type": "execute_result"
        }
      ],
      "source": [
        "len(df['geo_location_country'].value_counts())"
      ]
    },
    {
      "cell_type": "code",
      "execution_count": null,
      "metadata": {
        "colab": {
          "base_uri": "https://localhost:8080/"
        },
        "id": "8OnxNzKi946n",
        "outputId": "4b0de190-6ad4-49c9-bf28-64d992804411"
      },
      "outputs": [
        {
          "data": {
            "text/plain": [
              "71026"
            ]
          },
          "execution_count": 27,
          "metadata": {},
          "output_type": "execute_result"
        }
      ],
      "source": [
        "len(df['destination_id'].value_counts())"
      ]
    },
    {
      "cell_type": "code",
      "execution_count": null,
      "metadata": {
        "colab": {
          "base_uri": "https://localhost:8080/"
        },
        "id": "XPpeDDvu-Im3",
        "outputId": "c3611178-0eda-4374-f2ee-756a534dc2f7"
      },
      "outputs": [
        {
          "data": {
            "text/plain": [
              "is_mobile\n",
              "0    1464515\n",
              "1    1113294\n",
              "Name: count, dtype: int64"
            ]
          },
          "execution_count": 29,
          "metadata": {},
          "output_type": "execute_result"
        }
      ],
      "source": [
        "df['is_mobile'].value_counts()"
      ]
    },
    {
      "cell_type": "code",
      "execution_count": null,
      "metadata": {
        "id": "4WN772pJ-MNJ"
      },
      "outputs": [],
      "source": [
        "impressions_test = df['impressions'][0]"
      ]
    },
    {
      "cell_type": "code",
      "execution_count": null,
      "metadata": {
        "id": "ab9cFMKh-ZvM"
      },
      "outputs": [],
      "source": [
        "impressions_test = impressions_test.split('|')"
      ]
    },
    {
      "cell_type": "code",
      "execution_count": null,
      "metadata": {
        "colab": {
          "base_uri": "https://localhost:8080/"
        },
        "id": "HXRPiHHB_PGE",
        "outputId": "c0003113-05a5-43fb-9ebd-3e6bcf756336"
      },
      "outputs": [
        {
          "data": {
            "text/plain": [
              "['1,5695234,1,4.0,250.0,2.0,1,0,3,0,0',\n",
              " '2,1734546,1,4.0,1000.0,2.0,1,0,4,0,0',\n",
              " '3,5675938,0,5.0,700.0,3.0,1,0,3,0,0',\n",
              " '4,5695234,0,4.0,250.0,2.0,1,0,3,0,0',\n",
              " '5,2012023,0,4.0,625.0,2.0,0,0,1,0,0',\n",
              " '6,309921,0,5.0,525.0,3.0,1,0,5,0,0',\n",
              " '7,2722643,0,4.0,75.0,3.0,1,1,2,1,0',\n",
              " '8,1734546,0,4.0,1000.0,2.0,1,0,4,0,0',\n",
              " '9,1197530,0,4.0,250.0,3.0,1,0,2,1,0',\n",
              " '10,2951009,0,4.0,575.0,2.0,1,1,4,0,0',\n",
              " '11,253160,0,4.0,650.0,3.0,1,0,5,0,0',\n",
              " '12,4869920,0,4.0,225.0,3.0,1,0,1,4,0',\n",
              " '13,1329950,0,5.0,225.0,3.0,1,0,4,0,0',\n",
              " '14,5608470,0,4.0,1025.0,2.0,0,0,4,0,0',\n",
              " '15,1866033,0,5.0,775.0,3.0,0,0,5,0,0',\n",
              " '16,465816,0,4.0,425.0,3.0,1,0,4,0,0',\n",
              " '17,6939020,0,4.0,50.0,3.0,1,0,2,0,0',\n",
              " '18,4510738,0,4.0,275.0,3.0,1,0,1,0,0',\n",
              " '19,1117381,0,5.0,25.0,3.0,1,0,5,0,0',\n",
              " '20,6907341,0,4.0,325.0,3.0,1,0,3,0,0',\n",
              " '21,4418490,0,4.0,225.0,3.0,1,0,4,0,0',\n",
              " '22,6794958,0,3.0,225.0,2.0,1,0,1,0,0',\n",
              " '23,2815253,0,4.0,150.0,3.0,1,1,1,0,0',\n",
              " '24,5168834,0,3.0,950.0,2.0,1,0,2,0,0',\n",
              " '25,5190616,0,4.0,1725.0,3.0,1,0,5,0,0',\n",
              " '26,2119278,0,4.0,1025.0,3.0,1,0,5,0,0',\n",
              " '27,2296127,0,4.0,1025.0,3.0,1,0,4,0,0',\n",
              " '28,5192533,0,4.0,2050.0,3.0,1,0,5,0,0',\n",
              " '29,1040428,0,5.0,200.0,3.0,1,0,3,0,0',\n",
              " '30,6450799,0,4.0,900.0,2.0,1,0,1,0,0',\n",
              " '31,5385224,0,4.0,1025.0,3.0,0,0,2,0,0',\n",
              " '32,81866,0,3.0,1025.0,3.0,1,0,3,0,0',\n",
              " '33,3166094,0,4.0,325.0,3.0,1,0,4,0,0',\n",
              " '34,4537987,0,4.0,300.0,3.0,0,0,3,0,0',\n",
              " '35,1195167,0,4.0,1025.0,3.0,1,0,4,0,0',\n",
              " '36,3290227,0,4.0,1025.0,2.0,1,1,1,0,0',\n",
              " '37,1997696,0,4.0,950.0,3.0,1,0,3,0,0',\n",
              " '38,3172054,0,4.0,75.0,3.0,1,0,2,0,0',\n",
              " '39,1108919,0,3.0,1025.0,3.0,0,1,1,0,0',\n",
              " '40,1351944,0,4.0,25.0,3.0,1,0,3,0,0',\n",
              " '41,3370536,0,4.0,700.0,3.0,0,0,3,0,0',\n",
              " '42,961265,0,4.0,1000.0,3.0,1,0,2,0,0',\n",
              " '43,4583496,0,4.0,450.0,3.0,1,0,2,0,0',\n",
              " '44,5442751,0,5.0,650.0,3.0,1,1,2,0,0',\n",
              " '45,1295403,0,4.0,1025.0,4.0,1,0,3,0,0',\n",
              " '46,3555115,0,4.0,575.0,3.0,1,0,4,0,0',\n",
              " '47,6260111,0,4.0,925.0,3.0,1,0,2,0,0',\n",
              " '48,2513762,0,3.0,700.0,2.0,1,1,1,0,0',\n",
              " '49,2405166,0,3.0,600.0,3.0,1,0,2,0,0',\n",
              " '50,1153943,0,4.0,1025.0,3.0,1,1,1,0,0',\n",
              " '51,7027178,0,5.0,450.0,3.0,1,0,3,0,0',\n",
              " '52,253220,0,4.0,425.0,3.0,1,0,2,0,0',\n",
              " '53,6195037,0,4.0,275.0,3.0,1,0,1,0,0',\n",
              " '54,1909002,0,4.0,400.0,3.0,1,0,5,0,0',\n",
              " '55,5139269,0,4.0,1025.0,3.0,0,0,5,0,0',\n",
              " '56,643963,0,4.0,1025.0,3.0,1,0,5,0,0',\n",
              " '57,5103269,0,4.0,675.0,3.0,0,0,5,0,0',\n",
              " '58,1738468,0,4.0,1000.0,3.0,1,0,1,0,0',\n",
              " '59,2681566,0,4.0,950.0,4.0,0,0,null,0,0',\n",
              " '60,4647648,0,5.0,275.0,3.0,0,0,null,0,0',\n",
              " '61,1841572,0,4.0,775.0,3.0,0,0,null,0,0',\n",
              " '62,4911486,0,4.0,300.0,3.0,0,0,null,0,0',\n",
              " '63,6935321,0,3.0,775.0,2.0,0,0,null,0,0',\n",
              " '64,3983490,0,3.0,125.0,3.0,0,0,null,0,0',\n",
              " '65,1787762,0,4.0,325.0,2.0,0,0,null,0,0',\n",
              " '66,2853931,0,5.0,725.0,3.0,0,0,null,0,0',\n",
              " '67,4007670,0,3.0,300.0,2.0,0,0,null,0,0',\n",
              " '68,4500664,0,2.0,100.0,null,0,0,null,0,0',\n",
              " '69,3210534,0,4.0,200.0,3.0,0,0,null,0,0',\n",
              " '70,4353789,0,5.0,75.0,3.0,0,0,null,0,0',\n",
              " '71,340190,0,4.0,50.0,2.0,0,0,null,0,0',\n",
              " '72,4301452,0,5.0,50.0,4.0,0,0,null,0,0',\n",
              " '73,5102454,0,5.0,75.0,null,0,0,null,0,0',\n",
              " '74,3146984,0,0.0,0.0,4.0,0,0,null,0,0',\n",
              " '75,6844961,0,0.0,0.0,null,0,0,null,0,0',\n",
              " '76,5396462,0,5.0,25.0,null,0,0,null,0,0',\n",
              " '77,2236849,0,5.0,25.0,null,0,0,null,0,0',\n",
              " '78,2030671,0,5.0,25.0,null,0,0,null,0,0',\n",
              " '79,5649312,0,0.0,0.0,null,0,0,null,0,0',\n",
              " '80,6998707,0,0.0,0.0,null,0,0,null,0,0',\n",
              " '81,2677811,0,0.0,0.0,null,0,0,null,0,0',\n",
              " '82,981222,0,0.0,0.0,null,0,0,null,0,0',\n",
              " '83,6407573,0,5.0,25.0,null,0,0,null,0,0',\n",
              " '84,4314739,0,5.0,25.0,null,0,0,null,0,0',\n",
              " '85,5366216,0,3.0,25.0,null,0,0,null,0,0',\n",
              " '86,6025477,0,3.0,25.0,null,0,0,null,0,0',\n",
              " '87,5794401,0,0.0,0.0,null,0,0,null,0,0',\n",
              " '88,1166437,0,5.0,25.0,null,0,0,null,0,0',\n",
              " '89,2640312,0,0.0,0.0,null,0,0,null,0,0',\n",
              " '90,27265,0,5.0,25.0,null,0,0,null,0,0',\n",
              " '91,1893631,0,4.0,1025.0,2.0,0,0,null,0,0',\n",
              " '92,872757,0,4.0,2075.0,4.0,0,0,null,0,0',\n",
              " '93,5877295,0,4.0,550.0,2.0,0,0,null,0,0',\n",
              " '94,4985129,0,4.0,650.0,3.0,0,0,null,0,0',\n",
              " '95,5728460,0,5.0,1025.0,3.0,0,0,null,0,0',\n",
              " '96,1196036,0,4.0,1000.0,2.0,0,0,null,0,0',\n",
              " '97,1201229,0,4.0,350.0,3.0,0,0,null,0,0',\n",
              " '98,6866257,0,4.0,650.0,3.0,0,0,null,0,0',\n",
              " '99,6811418,0,4.0,750.0,3.0,0,0,null,0,0',\n",
              " '100,3026157,0,4.0,150.0,3.0,0,0,null,0,0']"
            ]
          },
          "execution_count": 38,
          "metadata": {},
          "output_type": "execute_result"
        }
      ],
      "source": [
        "impressions_test"
      ]
    },
    {
      "cell_type": "code",
      "execution_count": 6,
      "metadata": {
        "id": "hNOGC0XryxG9"
      },
      "outputs": [],
      "source": [
        "ranking = []\n",
        "clicks = []\n",
        "bookings = []\n",
        "for i in df1['impressions']:\n",
        "  a = i.split('|')\n",
        "  for j in a:\n",
        "    j=j.split(',')\n",
        "    ranking.append(int(j[0]))\n",
        "    clicks.append(int(j[-2]))\n",
        "    bookings.append(int(j[-1]))"
      ]
    },
    {
      "cell_type": "code",
      "execution_count": null,
      "metadata": {
        "id": "yCmEzdDDljbt"
      },
      "outputs": [],
      "source": [
        "#Not Sure if this works properly\n",
        "sublist_r = []\n",
        "sublist_c = []\n",
        "sublist_b = []\n",
        "sublists_rank = []\n",
        "sublists_click = []\n",
        "sublists_book = []\n",
        "\n",
        "for i, value in enumerate(ranking):\n",
        "    if value == 1 and i != 0:\n",
        "        sublists_rank.append(sublist_r)\n",
        "        sublists_click.append(sublist_c)\n",
        "        sublists_book.append(sublist_b)\n",
        "        sublist_r = []\n",
        "        sublist_c = []\n",
        "        sublist_b = []\n",
        "    else:\n",
        "        sublist_r.append(value)\n",
        "        sublist_c.append(clicks[i])\n",
        "        sublist_b.append(bookings[i])\n",
        "\n",
        "# Append the last sublist\n",
        "sublists_rank.append(sublist_r)\n",
        "sublists_click.append(sublist_c)\n",
        "sublists_book.append(sublist_b)"
      ]
    },
    {
      "cell_type": "code",
      "execution_count": null,
      "metadata": {
        "id": "KRqbkR6B3jcW"
      },
      "outputs": [],
      "source": [
        "sublist_r = []\n",
        "sublist_c = []\n",
        "sublist_b = []\n",
        "sublists_rank = []\n",
        "sublists_click = []\n",
        "sublists_book = []\n",
        "\n",
        "for i, value in enumerate(ranking):\n",
        "    sublist_r.append(value)\n",
        "    sublist_c.append(clicks[i])\n",
        "    sublist_b.append(bookings[i])\n",
        "\n",
        "    # Check if the next value is 1 or if it's the last value\n",
        "    if (i < len(ranking) - 1 and ranking[i + 1] == 1) or i == len(ranking) - 1:\n",
        "        sublists_rank.append(sublist_r)\n",
        "        sublists_click.append(sublist_c)\n",
        "        sublists_book.append(sublist_b)\n",
        "        sublist_r = []\n",
        "        sublist_c = []\n",
        "        sublist_b = []"
      ]
    },
    {
      "cell_type": "code",
      "execution_count": 23,
      "metadata": {
        "id": "oxr45PcgJsB5"
      },
      "outputs": [],
      "source": [
        "#Not sure if this works properly\n",
        "def compute_ndcg(rankings, clicks, bookings):\n",
        "    \"\"\"\n",
        "    Compute Normalized Discounted Cumulative Gain (NDCG) for a list of rankings, clicks, and bookings.\n",
        "    :param rankings: List of rankings for each search ID.\n",
        "    :param clicks: List of clicks for each search ID.\n",
        "    :param bookings: List of bookings for each search ID.\n",
        "    :return: NDCG for each search ID and average NDCG.\n",
        "    \"\"\"\n",
        "    ndcg_scores = []\n",
        "    for rank, click, booking in zip(rankings, clicks, bookings):\n",
        "        # Calculate relevance scores based on clicks and bookings\n",
        "        relevance = np.where(booking > 0, 2 * booking, np.where(click > 0, click, 0))\n",
        "\n",
        "        # Calculate Discounted Cumulative Gain (DCG)\n",
        "        dcg = np.sum(relevance / np.log2(np.arange(2, len(rank) + 2)))\n",
        "\n",
        "        # Calculate Ideal DCG (IDCG)\n",
        "        ideal_relevance = sorted(relevance, reverse=True)\n",
        "        idcg = np.sum(ideal_relevance / np.log2(np.arange(2, len(rank) + 2)))\n",
        "\n",
        "        # Calculate NDCG\n",
        "        if idcg == 0:  # Handle the case when all items have relevance score 0\n",
        "            ndcg = 0\n",
        "        else:\n",
        "            ndcg = dcg / idcg\n",
        "        ndcg_scores.append(ndcg)\n",
        "\n",
        "    avg_ndcg = np.mean(ndcg_scores)\n",
        "    return ndcg_scores, avg_ndcg"
      ]
    },
    {
      "cell_type": "code",
      "execution_count": 29,
      "metadata": {
        "id": "0-nc52QuOIe1"
      },
      "outputs": [],
      "source": [
        "def compute_ndcg(rankings, clicks, bookings):\n",
        "    \"\"\"\n",
        "    Compute Normalized Discounted Cumulative Gain (NDCG) for a list of rankings, clicks, and bookings.\n",
        "    :param rankings: List of rankings for each search ID.\n",
        "    :param clicks: List of clicks for each search ID.\n",
        "    :param bookings: List of bookings for each search ID.\n",
        "    :return: NDCG for each search ID and average NDCG.\n",
        "    \"\"\"\n",
        "    ndcg_scores = []\n",
        "    for rank, click, booking_list in zip(rankings, clicks, bookings):\n",
        "        # Calculate relevance scores based on clicks and bookings\n",
        "        relevance = []\n",
        "        for booking, click_count in zip(booking_list, click):\n",
        "            if booking > 0:\n",
        "                relevance.append(2 * booking)\n",
        "            elif click_count > 0:\n",
        "                relevance.append(click_count)\n",
        "            else:\n",
        "                relevance.append(0)\n",
        "\n",
        "        # Calculate Discounted Cumulative Gain (DCG)\n",
        "        dcg = np.sum(relevance / np.log2(np.arange(2, len(rank) + 2)))\n",
        "\n",
        "        # Calculate Ideal DCG (IDCG)\n",
        "        ideal_relevance = sorted(relevance, reverse=True)\n",
        "        idcg = np.sum(ideal_relevance / np.log2(np.arange(2, len(rank) + 2)))\n",
        "\n",
        "        # Calculate NDCG\n",
        "        if idcg == 0:  # Handle the case when all items have relevance score 0\n",
        "            ndcg = 0\n",
        "        else:\n",
        "            ndcg = dcg / idcg\n",
        "        ndcg_scores.append(ndcg)\n",
        "\n",
        "    avg_ndcg = np.mean(ndcg_scores)\n",
        "    return ndcg_scores, avg_ndcg"
      ]
    },
    {
      "cell_type": "code",
      "execution_count": 30,
      "metadata": {
        "id": "usnkaO_DJy0y"
      },
      "outputs": [],
      "source": [
        "ndcg_scores, avg_ndcg = compute_ndcg(sublists_rank, sublists_click, sublists_book)"
      ]
    },
    {
      "cell_type": "code",
      "execution_count": 31,
      "metadata": {
        "colab": {
          "base_uri": "https://localhost:8080/"
        },
        "id": "Ip3kmlU8NRHV",
        "outputId": "b586fb17-ae29-4e34-f2fe-8107a6fa9171"
      },
      "outputs": [
        {
          "data": {
            "text/plain": [
              "0.012125303282963898"
            ]
          },
          "execution_count": 31,
          "metadata": {},
          "output_type": "execute_result"
        }
      ],
      "source": [
        "avg_ndcg"
      ]
    },
    {
      "cell_type": "code",
      "execution_count": 16,
      "metadata": {
        "colab": {
          "base_uri": "https://localhost:8080/"
        },
        "id": "CSNhYJzrLqGn",
        "outputId": "abcd1f29-6ccc-47fc-f1b6-5dede3e177f0"
      },
      "outputs": [
        {
          "data": {
            "text/plain": [
              "array([2, 3, 4, 5, 6, 7, 8, 9])"
            ]
          },
          "execution_count": 16,
          "metadata": {},
          "output_type": "execute_result"
        }
      ],
      "source": [
        "np.arange(2,10)"
      ]
    },
    {
      "cell_type": "code",
      "execution_count": 14,
      "metadata": {
        "colab": {
          "base_uri": "https://localhost:8080/"
        },
        "id": "SmFfX58CKAp7",
        "outputId": "6f437d22-a998-40a9-a580-c63d2730932c"
      },
      "outputs": [
        {
          "data": {
            "text/plain": [
              "249122"
            ]
          },
          "execution_count": 14,
          "metadata": {},
          "output_type": "execute_result"
        }
      ],
      "source": [
        "len(ndcg_scores)"
      ]
    },
    {
      "cell_type": "code",
      "execution_count": 15,
      "metadata": {
        "colab": {
          "base_uri": "https://localhost:8080/"
        },
        "id": "pnO6P4tyKQyw",
        "outputId": "aa9b342a-d53f-4522-8686-ac15075dc27b"
      },
      "outputs": [
        {
          "data": {
            "text/plain": [
              "0.12658645925386358"
            ]
          },
          "execution_count": 15,
          "metadata": {},
          "output_type": "execute_result"
        }
      ],
      "source": [
        "#Booking = 2\n",
        "#Click = 1\n",
        "avg_ndcg"
      ]
    },
    {
      "cell_type": "code",
      "execution_count": null,
      "metadata": {
        "id": "CNyjX42PLIzo"
      },
      "outputs": [],
      "source": []
    }
  ],
  "metadata": {
    "accelerator": "GPU",
    "colab": {
      "gpuType": "T4",
      "machine_shape": "hm",
      "provenance": []
    },
    "kernelspec": {
      "display_name": "Python 3",
      "name": "python3"
    },
    "language_info": {
      "name": "python"
    }
  },
  "nbformat": 4,
  "nbformat_minor": 0
}
