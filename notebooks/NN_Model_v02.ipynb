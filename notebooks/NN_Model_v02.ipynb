{
  "nbformat": 4,
  "nbformat_minor": 0,
  "metadata": {
    "colab": {
      "provenance": [],
      "machine_shape": "hm"
    },
    "kernelspec": {
      "name": "python3",
      "display_name": "Python 3"
    },
    "language_info": {
      "name": "python"
    }
  },
  "cells": [
    {
      "cell_type": "code",
      "execution_count": 1,
      "metadata": {
        "colab": {
          "base_uri": "https://localhost:8080/"
        },
        "id": "d-9Nj7pFTshy",
        "outputId": "be6f4aa3-f865-4c70-8c66-b52df5d6f4e9"
      },
      "outputs": [
        {
          "output_type": "stream",
          "name": "stdout",
          "text": [
            "Drive already mounted at /content/drive; to attempt to forcibly remount, call drive.mount(\"/content/drive\", force_remount=True).\n"
          ]
        }
      ],
      "source": [
        "import pandas as pd\n",
        "import numpy as np\n",
        "from google.colab import drive\n",
        "drive.mount('/content/drive')\n",
        "import seaborn as sns\n",
        "import matplotlib.pyplot as plt\n",
        "from tqdm import tqdm\n",
        "\n",
        "from sklearn.datasets import dump_svmlight_file\n",
        "from sklearn.preprocessing import StandardScaler, OneHotEncoder\n",
        "import xgboost as xgb\n",
        "from sklearn.model_selection import train_test_split\n",
        "\n",
        "from sklearn.model_selection import train_test_split\n",
        "from sklearn.linear_model import LogisticRegression\n",
        "from sklearn.compose import ColumnTransformer\n",
        "from sklearn.pipeline import Pipeline\n",
        "from sklearn.impute import SimpleImputer\n",
        "from sklearn.preprocessing import StandardScaler, OneHotEncoder\n",
        "from sklearn.metrics import confusion_matrix, classification_report\n",
        "from sklearn.impute import KNNImputer\n",
        "from sklearn.model_selection import GroupShuffleSplit\n",
        "\n",
        "from sklearn.metrics import ndcg_score\n",
        "\n",
        "import tensorflow as tf\n",
        "from tensorflow.keras import layers, models"
      ]
    },
    {
      "cell_type": "code",
      "source": [
        "pd.set_option('display.max_columns', None)"
      ],
      "metadata": {
        "id": "fY24cywrTxH3"
      },
      "execution_count": 2,
      "outputs": []
    },
    {
      "cell_type": "code",
      "source": [
        "df_amenities = pd.read_csv('/content/drive/My Drive/Expedia/Data/exploded_df_100Krows_Top500Destinations__LeftJoin_Amenities_NaHandled_17April.csv')"
      ],
      "metadata": {
        "id": "Gh59r6qNTyub"
      },
      "execution_count": 3,
      "outputs": []
    },
    {
      "cell_type": "code",
      "source": [
        "for i,j in df_amenities.iterrows():\n",
        "  if (j['num_clicks'] > 0) & (j['is_trans'] == 0):\n",
        "    df_amenities.at[i,'relevance'] = 1\n",
        "  elif (j['num_clicks'] > 0) & (j['is_trans'] > 0):\n",
        "    df_amenities.at[i,'relevance'] = 2\n",
        "  else:\n",
        "    df_amenities.at[i,'relevance'] = 0\n",
        "\n",
        "df_amenities['relevance'].value_counts()"
      ],
      "metadata": {
        "colab": {
          "base_uri": "https://localhost:8080/"
        },
        "id": "t7Ov44hyUAh7",
        "outputId": "bb64f39b-cb1a-4741-fcb0-3ac0674f5231"
      },
      "execution_count": 4,
      "outputs": [
        {
          "output_type": "execute_result",
          "data": {
            "text/plain": [
              "relevance\n",
              "0.0    195442\n",
              "1.0     13546\n",
              "2.0       993\n",
              "Name: count, dtype: int64"
            ]
          },
          "metadata": {},
          "execution_count": 4
        }
      ]
    },
    {
      "cell_type": "code",
      "source": [
        "df_amenities.head()"
      ],
      "metadata": {
        "colab": {
          "base_uri": "https://localhost:8080/",
          "height": 224
        },
        "id": "u_Ww8thscnty",
        "outputId": "b8b4277d-29c0-428d-e991-5abb1174139a"
      },
      "execution_count": 5,
      "outputs": [
        {
          "output_type": "execute_result",
          "data": {
            "text/plain": [
              "   user_id  search_id  point_of_sale  geo_location_country  is_mobile  \\\n",
              "0        2          2              1                     1          0   \n",
              "1        2          2              1                     1          0   \n",
              "2        2          2              1                     1          0   \n",
              "3        2          2              1                     1          0   \n",
              "4        2          2              1                     1          0   \n",
              "\n",
              "   destination_id checkin_date checkout_date  adult_count  child_count  \\\n",
              "0              49   2021-07-07    2021-07-12            2            0   \n",
              "1              49   2021-07-07    2021-07-12            2            0   \n",
              "2              49   2021-07-07    2021-07-12            2            0   \n",
              "3              49   2021-07-07    2021-07-12            2            0   \n",
              "4              49   2021-07-07    2021-07-12            2            0   \n",
              "\n",
              "   infant_count  room_count    sort_type  length_of_stay  booking_window  \\\n",
              "0             0           1  RECOMMENDED             5.0            26.0   \n",
              "1             0           1  RECOMMENDED             5.0            26.0   \n",
              "2             0           1  RECOMMENDED             5.0            26.0   \n",
              "3             0           1  RECOMMENDED             5.0            26.0   \n",
              "4             0           1  RECOMMENDED             5.0            26.0   \n",
              "\n",
              "   search_day_of_week  search_hour_of_day  checkin_day  checkout_day  rank  \\\n",
              "0                   3                   0            2             2     1   \n",
              "1                   3                   0            2             2     2   \n",
              "2                   3                   0            2             2     3   \n",
              "3                   3                   0            2             2     4   \n",
              "4                   3                   0            2             2     5   \n",
              "\n",
              "   prop_id  is_travel_ad  review_rating  review_count star_rating  \\\n",
              "0  1624072             0            4.0        1250.0         4.0   \n",
              "1  5170759             1            4.0        1025.0         3.0   \n",
              "2  1342604             1            4.0        1375.0         4.0   \n",
              "3  5866319             0            4.0        2225.0         4.0   \n",
              "4  2935403             0            5.0        1050.0         4.0   \n",
              "\n",
              "   is_free_cancellation  is_drr  price_bucket  num_clicks  is_trans  \\\n",
              "0                     1       1           2.0           1         0   \n",
              "1                     0       0           1.0           0         0   \n",
              "2                     1       1           4.0           0         0   \n",
              "3                     1       1           1.0           0         0   \n",
              "4                     1       1           2.0           0         0   \n",
              "\n",
              "   rank_noad  AirConditioning  AirportTransfer  Bar  \\\n",
              "0        1.0              1.0              0.0  0.0   \n",
              "1        0.0              0.0              0.0  1.0   \n",
              "2        0.0              0.0              0.0  1.0   \n",
              "3        2.0              0.0              0.0  1.0   \n",
              "4        3.0              0.0              0.0  1.0   \n",
              "\n",
              "   FreeAirportTransportation  FreeBreakfast  FreeParking  FreeWiFi  Gym  \\\n",
              "0                        0.0            0.0          0.0       1.0  1.0   \n",
              "1                        0.0            0.0          0.0       1.0  1.0   \n",
              "2                        0.0            0.0          0.0       1.0  1.0   \n",
              "3                        0.0            0.0          0.0       0.0  1.0   \n",
              "4                        0.0            0.0          0.0       1.0  1.0   \n",
              "\n",
              "   HighSpeedInternet  HotTub  LaundryFacility  Parking  PetsAllowed  \\\n",
              "0                1.0     0.0              1.0      0.0          0.0   \n",
              "1                1.0     0.0              1.0      1.0          0.0   \n",
              "2                1.0     0.0              1.0      1.0          1.0   \n",
              "3                0.0     0.0              1.0      1.0          1.0   \n",
              "4                0.0     0.0              1.0      1.0          1.0   \n",
              "\n",
              "   PrivatePool  SpaServices  SwimmingPool  WasherDryer  WiFi  relevance  \n",
              "0          0.0          0.0           0.0          0.0   0.0        1.0  \n",
              "1          0.0          0.0           1.0          0.0   0.0        0.0  \n",
              "2          0.0          0.0           1.0          0.0   1.0        0.0  \n",
              "3          0.0          0.0           0.0          0.0   1.0        0.0  \n",
              "4          0.0          0.0           0.0          0.0   0.0        0.0  "
            ],
            "text/html": [
              "\n",
              "  <div id=\"df-959ef03c-efea-4470-b484-49ba2ce5750f\" class=\"colab-df-container\">\n",
              "    <div>\n",
              "<style scoped>\n",
              "    .dataframe tbody tr th:only-of-type {\n",
              "        vertical-align: middle;\n",
              "    }\n",
              "\n",
              "    .dataframe tbody tr th {\n",
              "        vertical-align: top;\n",
              "    }\n",
              "\n",
              "    .dataframe thead th {\n",
              "        text-align: right;\n",
              "    }\n",
              "</style>\n",
              "<table border=\"1\" class=\"dataframe\">\n",
              "  <thead>\n",
              "    <tr style=\"text-align: right;\">\n",
              "      <th></th>\n",
              "      <th>user_id</th>\n",
              "      <th>search_id</th>\n",
              "      <th>point_of_sale</th>\n",
              "      <th>geo_location_country</th>\n",
              "      <th>is_mobile</th>\n",
              "      <th>destination_id</th>\n",
              "      <th>checkin_date</th>\n",
              "      <th>checkout_date</th>\n",
              "      <th>adult_count</th>\n",
              "      <th>child_count</th>\n",
              "      <th>infant_count</th>\n",
              "      <th>room_count</th>\n",
              "      <th>sort_type</th>\n",
              "      <th>length_of_stay</th>\n",
              "      <th>booking_window</th>\n",
              "      <th>search_day_of_week</th>\n",
              "      <th>search_hour_of_day</th>\n",
              "      <th>checkin_day</th>\n",
              "      <th>checkout_day</th>\n",
              "      <th>rank</th>\n",
              "      <th>prop_id</th>\n",
              "      <th>is_travel_ad</th>\n",
              "      <th>review_rating</th>\n",
              "      <th>review_count</th>\n",
              "      <th>star_rating</th>\n",
              "      <th>is_free_cancellation</th>\n",
              "      <th>is_drr</th>\n",
              "      <th>price_bucket</th>\n",
              "      <th>num_clicks</th>\n",
              "      <th>is_trans</th>\n",
              "      <th>rank_noad</th>\n",
              "      <th>AirConditioning</th>\n",
              "      <th>AirportTransfer</th>\n",
              "      <th>Bar</th>\n",
              "      <th>FreeAirportTransportation</th>\n",
              "      <th>FreeBreakfast</th>\n",
              "      <th>FreeParking</th>\n",
              "      <th>FreeWiFi</th>\n",
              "      <th>Gym</th>\n",
              "      <th>HighSpeedInternet</th>\n",
              "      <th>HotTub</th>\n",
              "      <th>LaundryFacility</th>\n",
              "      <th>Parking</th>\n",
              "      <th>PetsAllowed</th>\n",
              "      <th>PrivatePool</th>\n",
              "      <th>SpaServices</th>\n",
              "      <th>SwimmingPool</th>\n",
              "      <th>WasherDryer</th>\n",
              "      <th>WiFi</th>\n",
              "      <th>relevance</th>\n",
              "    </tr>\n",
              "  </thead>\n",
              "  <tbody>\n",
              "    <tr>\n",
              "      <th>0</th>\n",
              "      <td>2</td>\n",
              "      <td>2</td>\n",
              "      <td>1</td>\n",
              "      <td>1</td>\n",
              "      <td>0</td>\n",
              "      <td>49</td>\n",
              "      <td>2021-07-07</td>\n",
              "      <td>2021-07-12</td>\n",
              "      <td>2</td>\n",
              "      <td>0</td>\n",
              "      <td>0</td>\n",
              "      <td>1</td>\n",
              "      <td>RECOMMENDED</td>\n",
              "      <td>5.0</td>\n",
              "      <td>26.0</td>\n",
              "      <td>3</td>\n",
              "      <td>0</td>\n",
              "      <td>2</td>\n",
              "      <td>2</td>\n",
              "      <td>1</td>\n",
              "      <td>1624072</td>\n",
              "      <td>0</td>\n",
              "      <td>4.0</td>\n",
              "      <td>1250.0</td>\n",
              "      <td>4.0</td>\n",
              "      <td>1</td>\n",
              "      <td>1</td>\n",
              "      <td>2.0</td>\n",
              "      <td>1</td>\n",
              "      <td>0</td>\n",
              "      <td>1.0</td>\n",
              "      <td>1.0</td>\n",
              "      <td>0.0</td>\n",
              "      <td>0.0</td>\n",
              "      <td>0.0</td>\n",
              "      <td>0.0</td>\n",
              "      <td>0.0</td>\n",
              "      <td>1.0</td>\n",
              "      <td>1.0</td>\n",
              "      <td>1.0</td>\n",
              "      <td>0.0</td>\n",
              "      <td>1.0</td>\n",
              "      <td>0.0</td>\n",
              "      <td>0.0</td>\n",
              "      <td>0.0</td>\n",
              "      <td>0.0</td>\n",
              "      <td>0.0</td>\n",
              "      <td>0.0</td>\n",
              "      <td>0.0</td>\n",
              "      <td>1.0</td>\n",
              "    </tr>\n",
              "    <tr>\n",
              "      <th>1</th>\n",
              "      <td>2</td>\n",
              "      <td>2</td>\n",
              "      <td>1</td>\n",
              "      <td>1</td>\n",
              "      <td>0</td>\n",
              "      <td>49</td>\n",
              "      <td>2021-07-07</td>\n",
              "      <td>2021-07-12</td>\n",
              "      <td>2</td>\n",
              "      <td>0</td>\n",
              "      <td>0</td>\n",
              "      <td>1</td>\n",
              "      <td>RECOMMENDED</td>\n",
              "      <td>5.0</td>\n",
              "      <td>26.0</td>\n",
              "      <td>3</td>\n",
              "      <td>0</td>\n",
              "      <td>2</td>\n",
              "      <td>2</td>\n",
              "      <td>2</td>\n",
              "      <td>5170759</td>\n",
              "      <td>1</td>\n",
              "      <td>4.0</td>\n",
              "      <td>1025.0</td>\n",
              "      <td>3.0</td>\n",
              "      <td>0</td>\n",
              "      <td>0</td>\n",
              "      <td>1.0</td>\n",
              "      <td>0</td>\n",
              "      <td>0</td>\n",
              "      <td>0.0</td>\n",
              "      <td>0.0</td>\n",
              "      <td>0.0</td>\n",
              "      <td>1.0</td>\n",
              "      <td>0.0</td>\n",
              "      <td>0.0</td>\n",
              "      <td>0.0</td>\n",
              "      <td>1.0</td>\n",
              "      <td>1.0</td>\n",
              "      <td>1.0</td>\n",
              "      <td>0.0</td>\n",
              "      <td>1.0</td>\n",
              "      <td>1.0</td>\n",
              "      <td>0.0</td>\n",
              "      <td>0.0</td>\n",
              "      <td>0.0</td>\n",
              "      <td>1.0</td>\n",
              "      <td>0.0</td>\n",
              "      <td>0.0</td>\n",
              "      <td>0.0</td>\n",
              "    </tr>\n",
              "    <tr>\n",
              "      <th>2</th>\n",
              "      <td>2</td>\n",
              "      <td>2</td>\n",
              "      <td>1</td>\n",
              "      <td>1</td>\n",
              "      <td>0</td>\n",
              "      <td>49</td>\n",
              "      <td>2021-07-07</td>\n",
              "      <td>2021-07-12</td>\n",
              "      <td>2</td>\n",
              "      <td>0</td>\n",
              "      <td>0</td>\n",
              "      <td>1</td>\n",
              "      <td>RECOMMENDED</td>\n",
              "      <td>5.0</td>\n",
              "      <td>26.0</td>\n",
              "      <td>3</td>\n",
              "      <td>0</td>\n",
              "      <td>2</td>\n",
              "      <td>2</td>\n",
              "      <td>3</td>\n",
              "      <td>1342604</td>\n",
              "      <td>1</td>\n",
              "      <td>4.0</td>\n",
              "      <td>1375.0</td>\n",
              "      <td>4.0</td>\n",
              "      <td>1</td>\n",
              "      <td>1</td>\n",
              "      <td>4.0</td>\n",
              "      <td>0</td>\n",
              "      <td>0</td>\n",
              "      <td>0.0</td>\n",
              "      <td>0.0</td>\n",
              "      <td>0.0</td>\n",
              "      <td>1.0</td>\n",
              "      <td>0.0</td>\n",
              "      <td>0.0</td>\n",
              "      <td>0.0</td>\n",
              "      <td>1.0</td>\n",
              "      <td>1.0</td>\n",
              "      <td>1.0</td>\n",
              "      <td>0.0</td>\n",
              "      <td>1.0</td>\n",
              "      <td>1.0</td>\n",
              "      <td>1.0</td>\n",
              "      <td>0.0</td>\n",
              "      <td>0.0</td>\n",
              "      <td>1.0</td>\n",
              "      <td>0.0</td>\n",
              "      <td>1.0</td>\n",
              "      <td>0.0</td>\n",
              "    </tr>\n",
              "    <tr>\n",
              "      <th>3</th>\n",
              "      <td>2</td>\n",
              "      <td>2</td>\n",
              "      <td>1</td>\n",
              "      <td>1</td>\n",
              "      <td>0</td>\n",
              "      <td>49</td>\n",
              "      <td>2021-07-07</td>\n",
              "      <td>2021-07-12</td>\n",
              "      <td>2</td>\n",
              "      <td>0</td>\n",
              "      <td>0</td>\n",
              "      <td>1</td>\n",
              "      <td>RECOMMENDED</td>\n",
              "      <td>5.0</td>\n",
              "      <td>26.0</td>\n",
              "      <td>3</td>\n",
              "      <td>0</td>\n",
              "      <td>2</td>\n",
              "      <td>2</td>\n",
              "      <td>4</td>\n",
              "      <td>5866319</td>\n",
              "      <td>0</td>\n",
              "      <td>4.0</td>\n",
              "      <td>2225.0</td>\n",
              "      <td>4.0</td>\n",
              "      <td>1</td>\n",
              "      <td>1</td>\n",
              "      <td>1.0</td>\n",
              "      <td>0</td>\n",
              "      <td>0</td>\n",
              "      <td>2.0</td>\n",
              "      <td>0.0</td>\n",
              "      <td>0.0</td>\n",
              "      <td>1.0</td>\n",
              "      <td>0.0</td>\n",
              "      <td>0.0</td>\n",
              "      <td>0.0</td>\n",
              "      <td>0.0</td>\n",
              "      <td>1.0</td>\n",
              "      <td>0.0</td>\n",
              "      <td>0.0</td>\n",
              "      <td>1.0</td>\n",
              "      <td>1.0</td>\n",
              "      <td>1.0</td>\n",
              "      <td>0.0</td>\n",
              "      <td>0.0</td>\n",
              "      <td>0.0</td>\n",
              "      <td>0.0</td>\n",
              "      <td>1.0</td>\n",
              "      <td>0.0</td>\n",
              "    </tr>\n",
              "    <tr>\n",
              "      <th>4</th>\n",
              "      <td>2</td>\n",
              "      <td>2</td>\n",
              "      <td>1</td>\n",
              "      <td>1</td>\n",
              "      <td>0</td>\n",
              "      <td>49</td>\n",
              "      <td>2021-07-07</td>\n",
              "      <td>2021-07-12</td>\n",
              "      <td>2</td>\n",
              "      <td>0</td>\n",
              "      <td>0</td>\n",
              "      <td>1</td>\n",
              "      <td>RECOMMENDED</td>\n",
              "      <td>5.0</td>\n",
              "      <td>26.0</td>\n",
              "      <td>3</td>\n",
              "      <td>0</td>\n",
              "      <td>2</td>\n",
              "      <td>2</td>\n",
              "      <td>5</td>\n",
              "      <td>2935403</td>\n",
              "      <td>0</td>\n",
              "      <td>5.0</td>\n",
              "      <td>1050.0</td>\n",
              "      <td>4.0</td>\n",
              "      <td>1</td>\n",
              "      <td>1</td>\n",
              "      <td>2.0</td>\n",
              "      <td>0</td>\n",
              "      <td>0</td>\n",
              "      <td>3.0</td>\n",
              "      <td>0.0</td>\n",
              "      <td>0.0</td>\n",
              "      <td>1.0</td>\n",
              "      <td>0.0</td>\n",
              "      <td>0.0</td>\n",
              "      <td>0.0</td>\n",
              "      <td>1.0</td>\n",
              "      <td>1.0</td>\n",
              "      <td>0.0</td>\n",
              "      <td>0.0</td>\n",
              "      <td>1.0</td>\n",
              "      <td>1.0</td>\n",
              "      <td>1.0</td>\n",
              "      <td>0.0</td>\n",
              "      <td>0.0</td>\n",
              "      <td>0.0</td>\n",
              "      <td>0.0</td>\n",
              "      <td>0.0</td>\n",
              "      <td>0.0</td>\n",
              "    </tr>\n",
              "  </tbody>\n",
              "</table>\n",
              "</div>\n",
              "    <div class=\"colab-df-buttons\">\n",
              "\n",
              "  <div class=\"colab-df-container\">\n",
              "    <button class=\"colab-df-convert\" onclick=\"convertToInteractive('df-959ef03c-efea-4470-b484-49ba2ce5750f')\"\n",
              "            title=\"Convert this dataframe to an interactive table.\"\n",
              "            style=\"display:none;\">\n",
              "\n",
              "  <svg xmlns=\"http://www.w3.org/2000/svg\" height=\"24px\" viewBox=\"0 -960 960 960\">\n",
              "    <path d=\"M120-120v-720h720v720H120Zm60-500h600v-160H180v160Zm220 220h160v-160H400v160Zm0 220h160v-160H400v160ZM180-400h160v-160H180v160Zm440 0h160v-160H620v160ZM180-180h160v-160H180v160Zm440 0h160v-160H620v160Z\"/>\n",
              "  </svg>\n",
              "    </button>\n",
              "\n",
              "  <style>\n",
              "    .colab-df-container {\n",
              "      display:flex;\n",
              "      gap: 12px;\n",
              "    }\n",
              "\n",
              "    .colab-df-convert {\n",
              "      background-color: #E8F0FE;\n",
              "      border: none;\n",
              "      border-radius: 50%;\n",
              "      cursor: pointer;\n",
              "      display: none;\n",
              "      fill: #1967D2;\n",
              "      height: 32px;\n",
              "      padding: 0 0 0 0;\n",
              "      width: 32px;\n",
              "    }\n",
              "\n",
              "    .colab-df-convert:hover {\n",
              "      background-color: #E2EBFA;\n",
              "      box-shadow: 0px 1px 2px rgba(60, 64, 67, 0.3), 0px 1px 3px 1px rgba(60, 64, 67, 0.15);\n",
              "      fill: #174EA6;\n",
              "    }\n",
              "\n",
              "    .colab-df-buttons div {\n",
              "      margin-bottom: 4px;\n",
              "    }\n",
              "\n",
              "    [theme=dark] .colab-df-convert {\n",
              "      background-color: #3B4455;\n",
              "      fill: #D2E3FC;\n",
              "    }\n",
              "\n",
              "    [theme=dark] .colab-df-convert:hover {\n",
              "      background-color: #434B5C;\n",
              "      box-shadow: 0px 1px 3px 1px rgba(0, 0, 0, 0.15);\n",
              "      filter: drop-shadow(0px 1px 2px rgba(0, 0, 0, 0.3));\n",
              "      fill: #FFFFFF;\n",
              "    }\n",
              "  </style>\n",
              "\n",
              "    <script>\n",
              "      const buttonEl =\n",
              "        document.querySelector('#df-959ef03c-efea-4470-b484-49ba2ce5750f button.colab-df-convert');\n",
              "      buttonEl.style.display =\n",
              "        google.colab.kernel.accessAllowed ? 'block' : 'none';\n",
              "\n",
              "      async function convertToInteractive(key) {\n",
              "        const element = document.querySelector('#df-959ef03c-efea-4470-b484-49ba2ce5750f');\n",
              "        const dataTable =\n",
              "          await google.colab.kernel.invokeFunction('convertToInteractive',\n",
              "                                                    [key], {});\n",
              "        if (!dataTable) return;\n",
              "\n",
              "        const docLinkHtml = 'Like what you see? Visit the ' +\n",
              "          '<a target=\"_blank\" href=https://colab.research.google.com/notebooks/data_table.ipynb>data table notebook</a>'\n",
              "          + ' to learn more about interactive tables.';\n",
              "        element.innerHTML = '';\n",
              "        dataTable['output_type'] = 'display_data';\n",
              "        await google.colab.output.renderOutput(dataTable, element);\n",
              "        const docLink = document.createElement('div');\n",
              "        docLink.innerHTML = docLinkHtml;\n",
              "        element.appendChild(docLink);\n",
              "      }\n",
              "    </script>\n",
              "  </div>\n",
              "\n",
              "\n",
              "<div id=\"df-1a4f536a-cfbc-45f1-bdf6-62247e83b220\">\n",
              "  <button class=\"colab-df-quickchart\" onclick=\"quickchart('df-1a4f536a-cfbc-45f1-bdf6-62247e83b220')\"\n",
              "            title=\"Suggest charts\"\n",
              "            style=\"display:none;\">\n",
              "\n",
              "<svg xmlns=\"http://www.w3.org/2000/svg\" height=\"24px\"viewBox=\"0 0 24 24\"\n",
              "     width=\"24px\">\n",
              "    <g>\n",
              "        <path d=\"M19 3H5c-1.1 0-2 .9-2 2v14c0 1.1.9 2 2 2h14c1.1 0 2-.9 2-2V5c0-1.1-.9-2-2-2zM9 17H7v-7h2v7zm4 0h-2V7h2v10zm4 0h-2v-4h2v4z\"/>\n",
              "    </g>\n",
              "</svg>\n",
              "  </button>\n",
              "\n",
              "<style>\n",
              "  .colab-df-quickchart {\n",
              "      --bg-color: #E8F0FE;\n",
              "      --fill-color: #1967D2;\n",
              "      --hover-bg-color: #E2EBFA;\n",
              "      --hover-fill-color: #174EA6;\n",
              "      --disabled-fill-color: #AAA;\n",
              "      --disabled-bg-color: #DDD;\n",
              "  }\n",
              "\n",
              "  [theme=dark] .colab-df-quickchart {\n",
              "      --bg-color: #3B4455;\n",
              "      --fill-color: #D2E3FC;\n",
              "      --hover-bg-color: #434B5C;\n",
              "      --hover-fill-color: #FFFFFF;\n",
              "      --disabled-bg-color: #3B4455;\n",
              "      --disabled-fill-color: #666;\n",
              "  }\n",
              "\n",
              "  .colab-df-quickchart {\n",
              "    background-color: var(--bg-color);\n",
              "    border: none;\n",
              "    border-radius: 50%;\n",
              "    cursor: pointer;\n",
              "    display: none;\n",
              "    fill: var(--fill-color);\n",
              "    height: 32px;\n",
              "    padding: 0;\n",
              "    width: 32px;\n",
              "  }\n",
              "\n",
              "  .colab-df-quickchart:hover {\n",
              "    background-color: var(--hover-bg-color);\n",
              "    box-shadow: 0 1px 2px rgba(60, 64, 67, 0.3), 0 1px 3px 1px rgba(60, 64, 67, 0.15);\n",
              "    fill: var(--button-hover-fill-color);\n",
              "  }\n",
              "\n",
              "  .colab-df-quickchart-complete:disabled,\n",
              "  .colab-df-quickchart-complete:disabled:hover {\n",
              "    background-color: var(--disabled-bg-color);\n",
              "    fill: var(--disabled-fill-color);\n",
              "    box-shadow: none;\n",
              "  }\n",
              "\n",
              "  .colab-df-spinner {\n",
              "    border: 2px solid var(--fill-color);\n",
              "    border-color: transparent;\n",
              "    border-bottom-color: var(--fill-color);\n",
              "    animation:\n",
              "      spin 1s steps(1) infinite;\n",
              "  }\n",
              "\n",
              "  @keyframes spin {\n",
              "    0% {\n",
              "      border-color: transparent;\n",
              "      border-bottom-color: var(--fill-color);\n",
              "      border-left-color: var(--fill-color);\n",
              "    }\n",
              "    20% {\n",
              "      border-color: transparent;\n",
              "      border-left-color: var(--fill-color);\n",
              "      border-top-color: var(--fill-color);\n",
              "    }\n",
              "    30% {\n",
              "      border-color: transparent;\n",
              "      border-left-color: var(--fill-color);\n",
              "      border-top-color: var(--fill-color);\n",
              "      border-right-color: var(--fill-color);\n",
              "    }\n",
              "    40% {\n",
              "      border-color: transparent;\n",
              "      border-right-color: var(--fill-color);\n",
              "      border-top-color: var(--fill-color);\n",
              "    }\n",
              "    60% {\n",
              "      border-color: transparent;\n",
              "      border-right-color: var(--fill-color);\n",
              "    }\n",
              "    80% {\n",
              "      border-color: transparent;\n",
              "      border-right-color: var(--fill-color);\n",
              "      border-bottom-color: var(--fill-color);\n",
              "    }\n",
              "    90% {\n",
              "      border-color: transparent;\n",
              "      border-bottom-color: var(--fill-color);\n",
              "    }\n",
              "  }\n",
              "</style>\n",
              "\n",
              "  <script>\n",
              "    async function quickchart(key) {\n",
              "      const quickchartButtonEl =\n",
              "        document.querySelector('#' + key + ' button');\n",
              "      quickchartButtonEl.disabled = true;  // To prevent multiple clicks.\n",
              "      quickchartButtonEl.classList.add('colab-df-spinner');\n",
              "      try {\n",
              "        const charts = await google.colab.kernel.invokeFunction(\n",
              "            'suggestCharts', [key], {});\n",
              "      } catch (error) {\n",
              "        console.error('Error during call to suggestCharts:', error);\n",
              "      }\n",
              "      quickchartButtonEl.classList.remove('colab-df-spinner');\n",
              "      quickchartButtonEl.classList.add('colab-df-quickchart-complete');\n",
              "    }\n",
              "    (() => {\n",
              "      let quickchartButtonEl =\n",
              "        document.querySelector('#df-1a4f536a-cfbc-45f1-bdf6-62247e83b220 button');\n",
              "      quickchartButtonEl.style.display =\n",
              "        google.colab.kernel.accessAllowed ? 'block' : 'none';\n",
              "    })();\n",
              "  </script>\n",
              "</div>\n",
              "    </div>\n",
              "  </div>\n"
            ],
            "application/vnd.google.colaboratory.intrinsic+json": {
              "type": "dataframe",
              "variable_name": "df_amenities"
            }
          },
          "metadata": {},
          "execution_count": 5
        }
      ]
    },
    {
      "cell_type": "code",
      "source": [
        "def split_by_qid(df2, test_size):\n",
        "    gss = GroupShuffleSplit(test_size=test_size, n_splits=1, random_state=42)\n",
        "    ids = df2['search_id'].unique()\n",
        "    train_idx, test_idx = next(gss.split(ids, groups=ids))\n",
        "    return df2[df2['search_id'].isin(ids[train_idx])], df2[df2['search_id'].isin(ids[test_idx])]\n",
        "\n",
        "train_df, temp_df = split_by_qid(df_amenities, test_size=0.4)\n",
        "val_df, test_df = split_by_qid(temp_df, test_size=0.5)\n",
        "\n",
        "train_df.shape, val_df.shape, test_df.shape"
      ],
      "metadata": {
        "colab": {
          "base_uri": "https://localhost:8080/"
        },
        "id": "saKK6rRYWOi6",
        "outputId": "3b46dff6-5083-4568-fd20-5c3909ba8354"
      },
      "execution_count": 6,
      "outputs": [
        {
          "output_type": "execute_result",
          "data": {
            "text/plain": [
              "((126060, 50), (42075, 50), (41846, 50))"
            ]
          },
          "metadata": {},
          "execution_count": 6
        }
      ]
    },
    {
      "cell_type": "code",
      "source": [
        "train_df.drop(columns=['user_id','checkin_date','checkout_date','rank_noad','rank','num_clicks','is_trans', 'prop_id'], inplace=True)\n",
        "val_df.drop(columns=['user_id','checkin_date','checkout_date','rank_noad','rank','num_clicks','is_trans', 'prop_id'], inplace=True)\n",
        "test_df.drop(columns=['user_id','checkin_date','checkout_date','rank_noad','rank','num_clicks','is_trans', 'prop_id'], inplace=True)\n",
        "\n",
        "train_df.shape, val_df.shape, test_df.shape"
      ],
      "metadata": {
        "colab": {
          "base_uri": "https://localhost:8080/"
        },
        "id": "l9UZf6GnWS8K",
        "outputId": "3b6a6906-a7d4-4651-fa18-667ec887c60f"
      },
      "execution_count": 7,
      "outputs": [
        {
          "output_type": "stream",
          "name": "stderr",
          "text": [
            "<ipython-input-7-10aee2fb5569>:1: SettingWithCopyWarning: \n",
            "A value is trying to be set on a copy of a slice from a DataFrame\n",
            "\n",
            "See the caveats in the documentation: https://pandas.pydata.org/pandas-docs/stable/user_guide/indexing.html#returning-a-view-versus-a-copy\n",
            "  train_df.drop(columns=['user_id','checkin_date','checkout_date','rank_noad','rank','num_clicks','is_trans', 'prop_id'], inplace=True)\n",
            "<ipython-input-7-10aee2fb5569>:2: SettingWithCopyWarning: \n",
            "A value is trying to be set on a copy of a slice from a DataFrame\n",
            "\n",
            "See the caveats in the documentation: https://pandas.pydata.org/pandas-docs/stable/user_guide/indexing.html#returning-a-view-versus-a-copy\n",
            "  val_df.drop(columns=['user_id','checkin_date','checkout_date','rank_noad','rank','num_clicks','is_trans', 'prop_id'], inplace=True)\n",
            "<ipython-input-7-10aee2fb5569>:3: SettingWithCopyWarning: \n",
            "A value is trying to be set on a copy of a slice from a DataFrame\n",
            "\n",
            "See the caveats in the documentation: https://pandas.pydata.org/pandas-docs/stable/user_guide/indexing.html#returning-a-view-versus-a-copy\n",
            "  test_df.drop(columns=['user_id','checkin_date','checkout_date','rank_noad','rank','num_clicks','is_trans', 'prop_id'], inplace=True)\n"
          ]
        },
        {
          "output_type": "execute_result",
          "data": {
            "text/plain": [
              "((126060, 42), (42075, 42), (41846, 42))"
            ]
          },
          "metadata": {},
          "execution_count": 7
        }
      ]
    },
    {
      "cell_type": "code",
      "source": [
        "X_train_t = train_df.drop(columns=['relevance'])\n",
        "y_train = train_df['relevance']\n",
        "\n",
        "X_val_t = val_df.drop(columns=['relevance'])\n",
        "y_val = val_df['relevance']\n",
        "\n",
        "X_test_t = test_df.drop(columns=['relevance'])\n",
        "y_test = test_df['relevance']\n",
        "\n",
        "query_id_train = X_train_t['search_id']\n",
        "\n",
        "query_id_val = X_val_t['search_id']\n",
        "\n",
        "query_id_test = X_test_t['search_id']"
      ],
      "metadata": {
        "id": "Yfn7n1MIWVPk"
      },
      "execution_count": 8,
      "outputs": []
    },
    {
      "cell_type": "code",
      "source": [
        "object_col = ['point_of_sale', 'geo_location_country', 'is_mobile', 'destination_id','sort_type', 'search_day_of_week','search_hour_of_day', 'checkin_day', 'checkout_day', 'is_travel_ad',\n",
        "              'review_rating','star_rating','is_free_cancellation', 'is_drr', 'AirConditioning', 'AirportTransfer', 'Bar', 'FreeAirportTransportation', 'FreeBreakfast', 'FreeParking', 'FreeWiFi',\n",
        "              'Gym', 'HighSpeedInternet', 'HotTub', 'LaundryFacility', 'Parking', 'PetsAllowed', 'PrivatePool', 'SpaServices', 'SwimmingPool', 'SpaServices', 'WasherDryer', 'WiFi']\n",
        "\n",
        "for i in object_col:\n",
        "  X_train_t[i]=X_train_t[i].astype('object')\n",
        "\n",
        "for i in object_col:\n",
        "  X_val_t[i]=X_train_t[i].astype('object')\n",
        "\n",
        "for i in object_col:\n",
        "  X_test_t[i]=X_test_t[i].astype('object')"
      ],
      "metadata": {
        "id": "j_vf71v-WXvt"
      },
      "execution_count": 9,
      "outputs": []
    },
    {
      "cell_type": "code",
      "source": [
        "categorical_features = X_train_t.select_dtypes(include=['object']).columns.tolist()\n",
        "numeric_features = X_train_t.select_dtypes(exclude=['object']).columns.tolist()\n",
        "\n",
        "numeric_features.remove('search_id')\n",
        "numeric_features"
      ],
      "metadata": {
        "colab": {
          "base_uri": "https://localhost:8080/"
        },
        "id": "27vykLZIWhMs",
        "outputId": "2730ce17-0a0c-426a-b94f-8ea86700e6d0"
      },
      "execution_count": 10,
      "outputs": [
        {
          "output_type": "execute_result",
          "data": {
            "text/plain": [
              "['adult_count',\n",
              " 'child_count',\n",
              " 'infant_count',\n",
              " 'room_count',\n",
              " 'length_of_stay',\n",
              " 'booking_window',\n",
              " 'review_count',\n",
              " 'price_bucket']"
            ]
          },
          "metadata": {},
          "execution_count": 10
        }
      ]
    },
    {
      "cell_type": "code",
      "source": [
        "combined_df = pd.concat([X_train_t, X_val_t, X_test_t])\n",
        "combined_df = pd.get_dummies(combined_df, columns=categorical_features)\n",
        "\n",
        "combined_df.shape"
      ],
      "metadata": {
        "colab": {
          "base_uri": "https://localhost:8080/"
        },
        "id": "vP3xqWGCWjwP",
        "outputId": "5bd10944-f968-4c82-9194-c9ce4a3cc670"
      },
      "execution_count": 11,
      "outputs": [
        {
          "output_type": "execute_result",
          "data": {
            "text/plain": [
              "(209981, 742)"
            ]
          },
          "metadata": {},
          "execution_count": 11
        }
      ]
    },
    {
      "cell_type": "code",
      "source": [
        "X_train = combined_df[:len(X_train_t)]\n",
        "X_val = combined_df[len(X_train_t):len(X_train_t)+len(X_val_t)]\n",
        "X_test = combined_df[len(X_train_t)+len(X_val_t):]\n",
        "\n",
        "X_train.shape, X_val.shape, X_test.shape"
      ],
      "metadata": {
        "colab": {
          "base_uri": "https://localhost:8080/"
        },
        "id": "1CfWJ6e6WoDP",
        "outputId": "e5fb0d62-b258-4014-fc93-4df891521bb2"
      },
      "execution_count": 12,
      "outputs": [
        {
          "output_type": "execute_result",
          "data": {
            "text/plain": [
              "((126060, 742), (42075, 742), (41846, 742))"
            ]
          },
          "metadata": {},
          "execution_count": 12
        }
      ]
    },
    {
      "cell_type": "code",
      "source": [
        "scaler=StandardScaler()\n",
        "X_train[numeric_features] = scaler.fit_transform(X_train[numeric_features])\n",
        "X_val[numeric_features] = scaler.fit_transform(X_val[numeric_features])\n",
        "X_test[numeric_features] = scaler.transform(X_test[numeric_features])"
      ],
      "metadata": {
        "colab": {
          "base_uri": "https://localhost:8080/"
        },
        "id": "DxLYYcFMWoeD",
        "outputId": "53b9c135-a8bd-4e3e-a04a-999c53ccf394"
      },
      "execution_count": 13,
      "outputs": [
        {
          "output_type": "stream",
          "name": "stderr",
          "text": [
            "<ipython-input-13-03753182f5e6>:2: SettingWithCopyWarning: \n",
            "A value is trying to be set on a copy of a slice from a DataFrame.\n",
            "Try using .loc[row_indexer,col_indexer] = value instead\n",
            "\n",
            "See the caveats in the documentation: https://pandas.pydata.org/pandas-docs/stable/user_guide/indexing.html#returning-a-view-versus-a-copy\n",
            "  X_train[numeric_features] = scaler.fit_transform(X_train[numeric_features])\n",
            "<ipython-input-13-03753182f5e6>:3: SettingWithCopyWarning: \n",
            "A value is trying to be set on a copy of a slice from a DataFrame.\n",
            "Try using .loc[row_indexer,col_indexer] = value instead\n",
            "\n",
            "See the caveats in the documentation: https://pandas.pydata.org/pandas-docs/stable/user_guide/indexing.html#returning-a-view-versus-a-copy\n",
            "  X_val[numeric_features] = scaler.fit_transform(X_val[numeric_features])\n",
            "<ipython-input-13-03753182f5e6>:4: SettingWithCopyWarning: \n",
            "A value is trying to be set on a copy of a slice from a DataFrame.\n",
            "Try using .loc[row_indexer,col_indexer] = value instead\n",
            "\n",
            "See the caveats in the documentation: https://pandas.pydata.org/pandas-docs/stable/user_guide/indexing.html#returning-a-view-versus-a-copy\n",
            "  X_test[numeric_features] = scaler.transform(X_test[numeric_features])\n"
          ]
        }
      ]
    },
    {
      "cell_type": "markdown",
      "source": [
        "### MSE LOSS FUNCTION"
      ],
      "metadata": {
        "id": "XQe2_PhbW6mO"
      }
    },
    {
      "cell_type": "code",
      "source": [
        "loss_fn_mse = 'mse'"
      ],
      "metadata": {
        "id": "soHUO7MdWqGv"
      },
      "execution_count": 14,
      "outputs": []
    },
    {
      "cell_type": "markdown",
      "source": [
        "### RANKNET LOSS FUNCTION"
      ],
      "metadata": {
        "id": "yOVyqYRdWusg"
      }
    },
    {
      "cell_type": "code",
      "source": [
        "def ranknet_loss(y_true, y_pred):\n",
        "    # Compute pairwise differences in predicted scores\n",
        "    diff = tf.expand_dims(y_pred, axis=1) - tf.expand_dims(y_pred, axis=0)\n",
        "\n",
        "    # Compute the sigmoid function of the differences\n",
        "    sigma = tf.math.sigmoid(diff)\n",
        "\n",
        "    # Clip values of sigma to avoid log(0) or log(1)\n",
        "    sigma = tf.clip_by_value(sigma, clip_value_min=1e-7, clip_value_max=1-1e-7)\n",
        "\n",
        "    # Create a mask to zero out comparisons between identical items\n",
        "    mask = tf.eye(tf.shape(sigma)[0])\n",
        "    masked_sigma = sigma * (1 - mask)\n",
        "\n",
        "    # Compute the RankNet loss\n",
        "    loss = -tf.reduce_mean(masked_sigma * tf.math.log(sigma) + (1 - masked_sigma) * tf.math.log(1 - sigma))\n",
        "\n",
        "    return loss"
      ],
      "metadata": {
        "id": "wc-N8CthWuMf"
      },
      "execution_count": 15,
      "outputs": []
    },
    {
      "cell_type": "markdown",
      "source": [
        "### SOFTRANK LOSS METRIC"
      ],
      "metadata": {
        "id": "X0KWLdGsWzbo"
      }
    },
    {
      "cell_type": "code",
      "source": [
        "def softrank_loss(y_true, y_pred):\n",
        "    \"\"\"\n",
        "    SoftRank loss function for learning-to-rank.\n",
        "\n",
        "    Args:\n",
        "    - y_true: True labels (ground truth)\n",
        "    - y_pred: Predicted scores\n",
        "\n",
        "    Returns:\n",
        "    - Loss value\n",
        "    \"\"\"\n",
        "    # Cast y_true to float32\n",
        "    y_true = tf.cast(y_true, tf.float32)\n",
        "\n",
        "    # Compute pairwise differences in predicted scores\n",
        "    diff = tf.expand_dims(y_pred, axis=1) - tf.expand_dims(y_pred, axis=0)\n",
        "\n",
        "    # Compute pairwise probabilities\n",
        "    sigma = tf.math.sigmoid(diff)\n",
        "\n",
        "    # Compute pairwise cross-entropy loss\n",
        "    loss = -tf.reduce_mean(y_true * tf.math.log(sigma + 1e-10) + (1 - y_true) * tf.math.log(1 - sigma + 1e-10))\n",
        "\n",
        "    return loss"
      ],
      "metadata": {
        "id": "-E8IH71TW1o9"
      },
      "execution_count": 16,
      "outputs": []
    },
    {
      "cell_type": "markdown",
      "source": [
        "### NDCG METRIC"
      ],
      "metadata": {
        "id": "VFRTSMbeO63F"
      }
    },
    {
      "cell_type": "code",
      "source": [
        "def ndcg(y_score, y_true, k):\n",
        "    order = tf.argsort(y_score, direction='DESCENDING')\n",
        "    y_true = tf.gather(y_true, order[:k], axis=1)\n",
        "\n",
        "    gain = tf.pow(2.0, y_true) - 1\n",
        "\n",
        "    discounts = tf.math.log(tf.cast(tf.range(1, k + 1), tf.float32) + 1.0) / tf.math.log(2.0)\n",
        "    return tf.reduce_sum(gain / discounts, axis=1)\n",
        "\n",
        "\n",
        "def ndcg_metric(y_true, y_pred):\n",
        "    k = 30  # Define your value of k\n",
        "    idcg = ndcg(y_true, y_true, k)\n",
        "    return tf.reduce_mean(ndcg(y_pred, y_true, k=30) / idcg)"
      ],
      "metadata": {
        "id": "qclZT-_envgU"
      },
      "execution_count": 28,
      "outputs": []
    },
    {
      "cell_type": "code",
      "source": [
        "def ndcg(y_score, y_true, k):\n",
        "    order = np.argsort(y_score)[::-1]\n",
        "    y_true = np.take(y_true, order[:k])\n",
        "\n",
        "    gain = 2 ** y_true - 1\n",
        "\n",
        "    discounts = np.log2(np.arange(len(y_true)) + 2)\n",
        "    return np.sum(gain / discounts)\n",
        "\n",
        "\n",
        "qids = np.unique(query_id_val)\n",
        "\n",
        "ndcg_ = list()\n",
        "\n",
        "for i, qid in enumerate(qids):\n",
        "    y = y_val[query_id_val == qid]\n",
        "\n",
        "    if np.sum(y) == 0:\n",
        "        continue\n",
        "\n",
        "    X_val1 = X_val[X_val['search_id'] == qid]\n",
        "\n",
        "    X_val_2 = X_val1.drop(columns=['search_id'])\n",
        "    X_val_arr = X_val_2.values.astype(int)\n",
        "\n",
        "    p = model.predict(X_val_arr, verbose=False)\n",
        "    p = p.flatten()\n",
        "\n",
        "    idcg = ndcg(y, y, k=30)\n",
        "    ndcg_.append(ndcg(p, y, k=30) / idcg)\n",
        "\n",
        "np.mean(ndcg_)"
      ],
      "metadata": {
        "id": "wnycXMsonu4Q"
      },
      "execution_count": null,
      "outputs": []
    },
    {
      "cell_type": "code",
      "source": [
        "def ndcg(y_score, y_true, k):\n",
        "    order = tf.argsort(y_score, direction='DESCENDING')\n",
        "    y_true = tf.gather(y_true, order[:k], axis=1)\n",
        "\n",
        "    gain = tf.pow(2.0, y_true) - 1\n",
        "\n",
        "    discounts = tf.math.log(tf.cast(tf.range(1, k + 1), tf.float32) + 1.0) / tf.math.log(2.0)\n",
        "    return tf.reduce_sum(gain / discounts, axis=1)\n",
        "\n",
        "def ndcg_metric(y_true, y_pred):\n",
        "    k = 30  # Define your value of k\n",
        "    ndcg_value = ndcg(y_pred, y_true, k)\n",
        "    return tf.reduce_mean(ndcg_value)"
      ],
      "metadata": {
        "id": "RDHhISycS5WH"
      },
      "execution_count": 17,
      "outputs": []
    },
    {
      "cell_type": "code",
      "source": [
        "def ndcg(y_score, y_true, k):\n",
        "    order = tf.argsort(y_score, direction='DESCENDING')\n",
        "    y_true = tf.gather(y_true, order[:k], axis=0)\n",
        "\n",
        "    gain = tf.pow(2.0, y_true) - 1\n",
        "\n",
        "    discounts = tf.math.log(tf.cast(tf.range(1, k + 1), tf.float32) + 2.0) / tf.math.log(2.0)\n",
        "    return tf.reduce_sum(gain / discounts)\n",
        "\n",
        "# Define the custom metric function\n",
        "def ndcg_metric(y_true, y_pred):\n",
        "    # Assuming y_true is the ground truth and y_pred is the predicted scores\n",
        "    k = 30  # Define the value of k\n",
        "    return tf.py_function(ndcg, [y_pred, y_true, k], tf.float32)\n"
      ],
      "metadata": {
        "id": "aGsF1mYOpYJv"
      },
      "execution_count": 30,
      "outputs": []
    },
    {
      "cell_type": "code",
      "source": [
        "def ndcg(y_score, y_true, k):\n",
        "    order = tf.argsort(y_score, direction='DESCENDING')\n",
        "    y_true_sorted = tf.gather(y_true, order, axis=0)\n",
        "\n",
        "    gain = 2 ** y_true_sorted - 1\n",
        "\n",
        "    discounts = tf.math.log(tf.cast(tf.range(1, k + 1), tf.float32) + 1.0) / tf.math.log(2.0)\n",
        "    dcg = tf.reduce_sum(gain / discounts, axis=1)\n",
        "\n",
        "    # Ideal Discounted Cumulative Gain (IDCG)\n",
        "    ideal_order = tf.argsort(y_true, direction='DESCENDING')\n",
        "    ideal_gain = 2 ** tf.gather(y_true, ideal_order, axis=0) - 1\n",
        "    ideal_dcg = tf.reduce_sum(ideal_gain / discounts, axis=1)\n",
        "\n",
        "    # Normalized Discounted Cumulative Gain (NDCG)\n",
        "    ndcg = dcg / ideal_dcg\n",
        "    return ndcg\n",
        "\n",
        "\n",
        "def ndcg_metric(y_true, y_pred):\n",
        "    # Assuming y_true is the ground truth and y_pred is the predicted scores\n",
        "    k = 30  # Define the value of k\n",
        "    return tf.py_function(ndcg, [y_pred, y_true, k], tf.float32)"
      ],
      "metadata": {
        "id": "qg-6AUf3qM_Q"
      },
      "execution_count": 34,
      "outputs": []
    },
    {
      "cell_type": "markdown",
      "source": [
        "### NN ARCHITECTURE"
      ],
      "metadata": {
        "id": "N1LWASufW350"
      }
    },
    {
      "cell_type": "code",
      "source": [
        "!pip install tensorflow-ranking"
      ],
      "metadata": {
        "id": "x7wyN14-hqVy"
      },
      "execution_count": null,
      "outputs": []
    },
    {
      "cell_type": "code",
      "source": [
        "import tensorflow_ranking as tfr"
      ],
      "metadata": {
        "id": "awywB-L4fyH1"
      },
      "execution_count": 18,
      "outputs": []
    },
    {
      "cell_type": "code",
      "source": [
        "early_stopping_cb = tf.keras.callbacks.EarlyStopping(patience=5, restore_best_weights=True, monitor='val_ndcg_metric', mode='max')\n",
        "\n",
        "X_train_2 = X_train.drop(columns=['search_id'])\n",
        "X_train_arr = X_train_2.values.astype(int)\n",
        "y_train_array = y_train.values.ravel()\n",
        "\n",
        "X_val_2 = X_val.drop(columns=['search_id'])\n",
        "X_val_arr = X_val_2.values.astype(int)\n",
        "y_val_array = y_val.values.ravel()\n",
        "\n",
        "np.random.seed(42)\n",
        "tf.random.set_seed(42)\n",
        "\n",
        "# Define the architecture of the neural network\n",
        "model = models.Sequential([\n",
        "    layers.Dense(64, activation='relu', input_shape=(X_train_arr.shape[1],)),\n",
        "    #layers.Dense(128, activation='relu'),\n",
        "    #layers.Dense(64, activation='relu'),\n",
        "    layers.Dense(64, activation='relu'),\n",
        "    layers.Dense(32, activation='relu'),\n",
        "    layers.Dense(1)  # Output layer with linear activation for ranking scores\n",
        "])\n",
        "\n",
        "# Choose an appropriate optimizer and loss function\n",
        "loss = tfr.keras.losses.ApproxNDCGLoss(temperature=0.1)\n",
        "optimizer = tf.keras.optimizers.Adam(learning_rate=0.0005)\n",
        "\n",
        "# Compile the model\n",
        "model.compile(optimizer=optimizer, loss=loss, metrics=[ndcg_metric, 'accuracy'])\n",
        "\n",
        "# Train the model\n",
        "history = model.fit(X_train_arr, y_train_array,\n",
        "                    epochs=30, validation_data=[X_val_arr, y_val_array],\n",
        "                    verbose=True, callbacks=[early_stopping_cb]\n",
        "                    )  # Using validation split\n",
        "history"
      ],
      "metadata": {
        "colab": {
          "base_uri": "https://localhost:8080/"
        },
        "id": "_fO9CENvW5GM",
        "outputId": "881b12cc-65a4-48f7-cbc0-a8d8b145b41d"
      },
      "execution_count": 35,
      "outputs": [
        {
          "output_type": "stream",
          "name": "stdout",
          "text": [
            "Epoch 1/30\n",
            "3940/3940 [==============================] - 39s 9ms/step - loss: -0.0684 - ndcg_metric: nan - accuracy: 0.9316 - val_loss: -0.0718 - val_ndcg_metric: nan - val_accuracy: 0.9282\n",
            "Epoch 2/30\n",
            "3940/3940 [==============================] - 37s 9ms/step - loss: -0.0684 - ndcg_metric: nan - accuracy: 0.9316 - val_loss: -0.0718 - val_ndcg_metric: nan - val_accuracy: 0.9282\n",
            "Epoch 3/30\n",
            "3940/3940 [==============================] - 33s 8ms/step - loss: -0.0684 - ndcg_metric: nan - accuracy: 0.9316 - val_loss: -0.0718 - val_ndcg_metric: nan - val_accuracy: 0.9282\n",
            "Epoch 4/30\n",
            "3940/3940 [==============================] - 34s 9ms/step - loss: -0.0684 - ndcg_metric: nan - accuracy: 0.9316 - val_loss: -0.0718 - val_ndcg_metric: nan - val_accuracy: 0.9282\n",
            "Epoch 5/30\n",
            "3940/3940 [==============================] - 36s 9ms/step - loss: -0.0684 - ndcg_metric: nan - accuracy: 0.9316 - val_loss: -0.0718 - val_ndcg_metric: nan - val_accuracy: 0.9282\n"
          ]
        },
        {
          "output_type": "execute_result",
          "data": {
            "text/plain": [
              "<keras.src.callbacks.History at 0x7fcbde337c70>"
            ]
          },
          "metadata": {},
          "execution_count": 35
        }
      ]
    },
    {
      "cell_type": "code",
      "source": [
        "pip install tensorflow"
      ],
      "metadata": {
        "colab": {
          "base_uri": "https://localhost:8080/"
        },
        "id": "43qwNjAQ6ZfC",
        "outputId": "35b8aefb-0ace-409e-ce50-022eb19cc36d"
      },
      "execution_count": 37,
      "outputs": [
        {
          "output_type": "stream",
          "name": "stdout",
          "text": [
            "Requirement already satisfied: tensorflow in /usr/local/lib/python3.10/dist-packages (2.15.1)\n",
            "Requirement already satisfied: absl-py>=1.0.0 in /usr/local/lib/python3.10/dist-packages (from tensorflow) (1.4.0)\n",
            "Requirement already satisfied: astunparse>=1.6.0 in /usr/local/lib/python3.10/dist-packages (from tensorflow) (1.6.3)\n",
            "Requirement already satisfied: flatbuffers>=23.5.26 in /usr/local/lib/python3.10/dist-packages (from tensorflow) (24.3.25)\n",
            "Requirement already satisfied: gast!=0.5.0,!=0.5.1,!=0.5.2,>=0.2.1 in /usr/local/lib/python3.10/dist-packages (from tensorflow) (0.5.4)\n",
            "Requirement already satisfied: google-pasta>=0.1.1 in /usr/local/lib/python3.10/dist-packages (from tensorflow) (0.2.0)\n",
            "Requirement already satisfied: h5py>=2.9.0 in /usr/local/lib/python3.10/dist-packages (from tensorflow) (3.9.0)\n",
            "Requirement already satisfied: libclang>=13.0.0 in /usr/local/lib/python3.10/dist-packages (from tensorflow) (18.1.1)\n",
            "Requirement already satisfied: ml-dtypes~=0.3.1 in /usr/local/lib/python3.10/dist-packages (from tensorflow) (0.3.2)\n",
            "Requirement already satisfied: numpy<2.0.0,>=1.23.5 in /usr/local/lib/python3.10/dist-packages (from tensorflow) (1.25.2)\n",
            "Requirement already satisfied: opt-einsum>=2.3.2 in /usr/local/lib/python3.10/dist-packages (from tensorflow) (3.3.0)\n",
            "Requirement already satisfied: packaging in /usr/local/lib/python3.10/dist-packages (from tensorflow) (24.0)\n",
            "Requirement already satisfied: protobuf!=4.21.0,!=4.21.1,!=4.21.2,!=4.21.3,!=4.21.4,!=4.21.5,<5.0.0dev,>=3.20.3 in /usr/local/lib/python3.10/dist-packages (from tensorflow) (3.20.3)\n",
            "Requirement already satisfied: setuptools in /usr/local/lib/python3.10/dist-packages (from tensorflow) (67.7.2)\n",
            "Requirement already satisfied: six>=1.12.0 in /usr/local/lib/python3.10/dist-packages (from tensorflow) (1.16.0)\n",
            "Requirement already satisfied: termcolor>=1.1.0 in /usr/local/lib/python3.10/dist-packages (from tensorflow) (2.4.0)\n",
            "Requirement already satisfied: typing-extensions>=3.6.6 in /usr/local/lib/python3.10/dist-packages (from tensorflow) (4.11.0)\n",
            "Requirement already satisfied: wrapt<1.15,>=1.11.0 in /usr/local/lib/python3.10/dist-packages (from tensorflow) (1.14.1)\n",
            "Requirement already satisfied: tensorflow-io-gcs-filesystem>=0.23.1 in /usr/local/lib/python3.10/dist-packages (from tensorflow) (0.36.0)\n",
            "Requirement already satisfied: grpcio<2.0,>=1.24.3 in /usr/local/lib/python3.10/dist-packages (from tensorflow) (1.62.1)\n",
            "Requirement already satisfied: tensorboard<2.16,>=2.15 in /usr/local/lib/python3.10/dist-packages (from tensorflow) (2.15.2)\n",
            "Requirement already satisfied: tensorflow-estimator<2.16,>=2.15.0 in /usr/local/lib/python3.10/dist-packages (from tensorflow) (2.15.0)\n",
            "Requirement already satisfied: keras<2.16,>=2.15.0 in /usr/local/lib/python3.10/dist-packages (from tensorflow) (2.15.0)\n",
            "Requirement already satisfied: wheel<1.0,>=0.23.0 in /usr/local/lib/python3.10/dist-packages (from astunparse>=1.6.0->tensorflow) (0.43.0)\n",
            "Requirement already satisfied: google-auth<3,>=1.6.3 in /usr/local/lib/python3.10/dist-packages (from tensorboard<2.16,>=2.15->tensorflow) (2.27.0)\n",
            "Requirement already satisfied: google-auth-oauthlib<2,>=0.5 in /usr/local/lib/python3.10/dist-packages (from tensorboard<2.16,>=2.15->tensorflow) (1.2.0)\n",
            "Requirement already satisfied: markdown>=2.6.8 in /usr/local/lib/python3.10/dist-packages (from tensorboard<2.16,>=2.15->tensorflow) (3.6)\n",
            "Requirement already satisfied: requests<3,>=2.21.0 in /usr/local/lib/python3.10/dist-packages (from tensorboard<2.16,>=2.15->tensorflow) (2.31.0)\n",
            "Requirement already satisfied: tensorboard-data-server<0.8.0,>=0.7.0 in /usr/local/lib/python3.10/dist-packages (from tensorboard<2.16,>=2.15->tensorflow) (0.7.2)\n",
            "Requirement already satisfied: werkzeug>=1.0.1 in /usr/local/lib/python3.10/dist-packages (from tensorboard<2.16,>=2.15->tensorflow) (3.0.2)\n",
            "Requirement already satisfied: cachetools<6.0,>=2.0.0 in /usr/local/lib/python3.10/dist-packages (from google-auth<3,>=1.6.3->tensorboard<2.16,>=2.15->tensorflow) (5.3.3)\n",
            "Requirement already satisfied: pyasn1-modules>=0.2.1 in /usr/local/lib/python3.10/dist-packages (from google-auth<3,>=1.6.3->tensorboard<2.16,>=2.15->tensorflow) (0.4.0)\n",
            "Requirement already satisfied: rsa<5,>=3.1.4 in /usr/local/lib/python3.10/dist-packages (from google-auth<3,>=1.6.3->tensorboard<2.16,>=2.15->tensorflow) (4.9)\n",
            "Requirement already satisfied: requests-oauthlib>=0.7.0 in /usr/local/lib/python3.10/dist-packages (from google-auth-oauthlib<2,>=0.5->tensorboard<2.16,>=2.15->tensorflow) (1.3.1)\n",
            "Requirement already satisfied: charset-normalizer<4,>=2 in /usr/local/lib/python3.10/dist-packages (from requests<3,>=2.21.0->tensorboard<2.16,>=2.15->tensorflow) (3.3.2)\n",
            "Requirement already satisfied: idna<4,>=2.5 in /usr/local/lib/python3.10/dist-packages (from requests<3,>=2.21.0->tensorboard<2.16,>=2.15->tensorflow) (3.7)\n",
            "Requirement already satisfied: urllib3<3,>=1.21.1 in /usr/local/lib/python3.10/dist-packages (from requests<3,>=2.21.0->tensorboard<2.16,>=2.15->tensorflow) (2.0.7)\n",
            "Requirement already satisfied: certifi>=2017.4.17 in /usr/local/lib/python3.10/dist-packages (from requests<3,>=2.21.0->tensorboard<2.16,>=2.15->tensorflow) (2024.2.2)\n",
            "Requirement already satisfied: MarkupSafe>=2.1.1 in /usr/local/lib/python3.10/dist-packages (from werkzeug>=1.0.1->tensorboard<2.16,>=2.15->tensorflow) (2.1.5)\n",
            "Requirement already satisfied: pyasn1<0.7.0,>=0.4.6 in /usr/local/lib/python3.10/dist-packages (from pyasn1-modules>=0.2.1->google-auth<3,>=1.6.3->tensorboard<2.16,>=2.15->tensorflow) (0.6.0)\n",
            "Requirement already satisfied: oauthlib>=3.0.0 in /usr/local/lib/python3.10/dist-packages (from requests-oauthlib>=0.7.0->google-auth-oauthlib<2,>=0.5->tensorboard<2.16,>=2.15->tensorflow) (3.2.2)\n"
          ]
        }
      ]
    },
    {
      "cell_type": "code",
      "source": [
        "from tensorflow.keras.layers import Input, Concatenate, Embedding, Dense\n",
        "from tensorflow.keras.models import Model\n",
        "\n",
        "early_stopping_cb = tf.keras.callbacks.EarlyStopping(patience=5, restore_best_weights=True, monitor='mae', mode='max')\n",
        "\n",
        "# Input layers for features and search_id\n",
        "input_features = Input(shape=(X_train_arr.shape[1],), name='features')\n",
        "input_query_id = Input(shape=(1,), name='search_id')\n",
        "\n",
        "# Embedding or concatenation layer for search_id\n",
        "# Example using concatenation:\n",
        "concatenated_inputs = Concatenate()([input_features, input_query_id])\n",
        "\n",
        "# Example using embedding:\n",
        "# embedding_layer = Embedding(input_dim=num_unique_query_ids, output_dim=embedding_dim)(input_query_id)\n",
        "# flattened_embedding = Flatten()(embedding_layer)\n",
        "# concatenated_inputs = Concatenate()([input_features, flattened_embedding])\n",
        "\n",
        "# Define the rest of your model architecture\n",
        "dense_layer_1 = Dense(64, activation='relu')(concatenated_inputs)\n",
        "dense_layer_2 = Dense(32, activation='relu')(dense_layer_1)\n",
        "output_layer = Dense(1, activation='linear')(dense_layer_2)\n",
        "\n",
        "# Define the model\n",
        "model = Model(inputs=[input_features, input_query_id], outputs=output_layer)\n",
        "\n",
        "# Compile the model\n",
        "model.compile(optimizer='adam', loss='mse', metrics=['mae'])\n",
        "\n",
        "# Fit the model with both features and search_id\n",
        "history = model.fit({'features': X_train_arr, 'search_id': query_id_train}, y_train_array,\n",
        "                    epochs=30, validation_data=({'features': X_val_arr, 'search_id': query_id_val}, y_val_array),\n",
        "                    verbose=True, callbacks=[early_stopping_cb])"
      ],
      "metadata": {
        "colab": {
          "base_uri": "https://localhost:8080/"
        },
        "id": "_GINVnI2w41b",
        "outputId": "8fb5bc73-6e22-4ec6-bc81-fc91f83b2122"
      },
      "execution_count": 39,
      "outputs": [
        {
          "output_type": "stream",
          "name": "stdout",
          "text": [
            "Epoch 1/30\n",
            "3940/3940 [==============================] - 16s 4ms/step - loss: 888.1544 - mae: 4.0039 - val_loss: 0.6713 - val_mae: 0.6783\n",
            "Epoch 2/30\n",
            "3940/3940 [==============================] - 14s 4ms/step - loss: 120.2319 - mae: 3.1564 - val_loss: 0.6942 - val_mae: 0.7153\n",
            "Epoch 3/30\n",
            "3940/3940 [==============================] - 13s 3ms/step - loss: 59.1854 - mae: 2.3409 - val_loss: 0.9248 - val_mae: 0.8223\n",
            "Epoch 4/30\n",
            "3940/3940 [==============================] - 14s 4ms/step - loss: 44.0007 - mae: 2.0198 - val_loss: 0.0945 - val_mae: 0.1232\n",
            "Epoch 5/30\n",
            "3940/3940 [==============================] - 13s 3ms/step - loss: 43.6882 - mae: 1.6307 - val_loss: 0.5797 - val_mae: 0.6272\n",
            "Epoch 6/30\n",
            "3940/3940 [==============================] - 13s 3ms/step - loss: 16.9366 - mae: 1.3329 - val_loss: 0.1372 - val_mae: 0.2943\n"
          ]
        }
      ]
    },
    {
      "cell_type": "code",
      "source": [
        "X_test_2 = X_test.drop(columns=['search_id'])  # Remove 'search_id' column if present\n",
        "X_test_arr = X_test_2.values.astype(int)  # Convert to numpy array\n",
        "query_id_test_arr = query_id_test.values.reshape(-1, 1)  # Reshape query IDs to match the shape of input_query_id\n",
        "\n",
        "# Perform predictions on test data\n",
        "predictions = model.predict({'features': X_test_arr, 'search_id': query_id_test_arr})\n",
        "\n",
        "# Flatten the predictions if necessary\n",
        "predictions = predictions.flatten()\n",
        "\n",
        "len(predictions)"
      ],
      "metadata": {
        "colab": {
          "base_uri": "https://localhost:8080/"
        },
        "id": "dIRZ2ezr8FSN",
        "outputId": "616d4386-70ca-4e13-ae20-83b84e10b16d"
      },
      "execution_count": 53,
      "outputs": [
        {
          "output_type": "stream",
          "name": "stdout",
          "text": [
            "1308/1308 [==============================] - 2s 2ms/step\n"
          ]
        },
        {
          "output_type": "execute_result",
          "data": {
            "text/plain": [
              "41846"
            ]
          },
          "metadata": {},
          "execution_count": 53
        }
      ]
    },
    {
      "cell_type": "code",
      "source": [
        "def ndcg(y_score, y_true, k):\n",
        "    order = np.argsort(y_score)[::-1]\n",
        "    y_true = np.take(y_true, order[:k])\n",
        "\n",
        "    gain = 2 ** y_true - 1\n",
        "\n",
        "    discounts = np.log2(np.arange(len(y_true)) + 2)\n",
        "    return np.sum(gain / discounts)"
      ],
      "metadata": {
        "id": "DZjO1NeiHqh8"
      },
      "execution_count": 73,
      "outputs": []
    },
    {
      "cell_type": "code",
      "source": [
        "qids = np.unique(query_id_test)\n",
        "\n",
        "ndcg_ = list()\n",
        "\n",
        "for i, qid in enumerate(qids[:]):\n",
        "    y = y_test[query_id_test == qid]\n",
        "\n",
        "    if np.sum(y) == 0:\n",
        "        continue\n",
        "\n",
        "    X_test1 = X_test[X_test['search_id'] == qid]\n",
        "    qid_test = X_test1['search_id']\n",
        "    X_test1 = X_test1.drop(columns=['search_id'])\n",
        "\n",
        "    X_test_arr = X_test1.values.astype(int)\n",
        "    query_id_test_arr = qid_test.values.astype(int)\n",
        "\n",
        "    predictions = model.predict({'features': X_test_arr, 'search_id': query_id_test_arr}, verbose=False)\n",
        "    predictions = predictions.flatten()\n",
        "\n",
        "    idcg = ndcg(y, y, k=30)\n",
        "    ndcg_.append(ndcg(predictions, y, k=30) / idcg)\n",
        "\n",
        "np.mean(ndcg_)"
      ],
      "metadata": {
        "colab": {
          "base_uri": "https://localhost:8080/"
        },
        "id": "ZrdD3xHuBnfB",
        "outputId": "f8623b76-f429-4181-e844-c7894652ee0a"
      },
      "execution_count": 81,
      "outputs": [
        {
          "output_type": "execute_result",
          "data": {
            "text/plain": [
              "0.3873868258980352"
            ]
          },
          "metadata": {},
          "execution_count": 81
        }
      ]
    },
    {
      "cell_type": "code",
      "source": [
        "def ndcg(y_score, y_true, k):\n",
        "    order = np.argsort(y_score)[::-1]\n",
        "    y_true = np.take(y_true, order[:k])\n",
        "\n",
        "    gain = 2 ** y_true - 1\n",
        "\n",
        "    discounts = np.log2(np.arange(len(y_true)) + 2)\n",
        "    return np.sum(gain / discounts)\n",
        "\n",
        "\n",
        "qids = np.unique(query_id_val)\n",
        "\n",
        "ndcg_ = list()\n",
        "\n",
        "for i, qid in enumerate(qids):\n",
        "    y = y_test[query_id_test == qid]\n",
        "\n",
        "    if np.sum(y) == 0:\n",
        "        continue\n",
        "\n",
        "    X_val1 = X_val[X_val['search_id'] == qid]\n",
        "\n",
        "    X_val_2 = X_val.drop(columns=['search_id'])\n",
        "    X_val_arr = X_val_2.values.astype(int)\n",
        "    query_id_val_arr = query_id_val.values.astype(int)\n",
        "\n",
        "    p = model.predict({'features': X_test_arr, 'search_id': query_id_test_arr})\n",
        "    p = p.flatten()\n",
        "\n",
        "    idcg = ndcg(y, y, k=30)\n",
        "    ndcg_.append(ndcg(p, y, k=30) / idcg)\n",
        "\n",
        "np.mean(ndcg_)"
      ],
      "metadata": {
        "colab": {
          "base_uri": "https://localhost:8080/"
        },
        "id": "wa5KV4CVk6Zi",
        "outputId": "eeea553a-5741-45a6-a972-cfabe504c7be"
      },
      "execution_count": 58,
      "outputs": [
        {
          "output_type": "stream",
          "name": "stderr",
          "text": [
            "/usr/local/lib/python3.10/dist-packages/numpy/core/fromnumeric.py:3504: RuntimeWarning: Mean of empty slice.\n",
            "  return _methods._mean(a, axis=axis, dtype=dtype,\n",
            "/usr/local/lib/python3.10/dist-packages/numpy/core/_methods.py:129: RuntimeWarning: invalid value encountered in scalar divide\n",
            "  ret = ret.dtype.type(ret / rcount)\n"
          ]
        },
        {
          "output_type": "execute_result",
          "data": {
            "text/plain": [
              "nan"
            ]
          },
          "metadata": {},
          "execution_count": 58
        }
      ]
    },
    {
      "cell_type": "code",
      "source": [
        "ndcg_ = []\n",
        "\n",
        "for qid in qids:\n",
        "    # Filter data corresponding to the current query ID\n",
        "    mask = (query_id_val == qid)\n",
        "    y = y_val[mask]\n",
        "    X_val_subset = X_val[mask]\n",
        "\n",
        "    if np.sum(y) == 0:\n",
        "        continue\n",
        "\n",
        "    X_val_subset_arr = X_val_subset.values.astype(float)  # Convert to float if necessary\n",
        "    query_id_val_arr = np.full_like(y, qid, dtype=int)\n",
        "\n",
        "    # Create a dictionary with input data\n",
        "    input_data = {'features': X_val_subset_arr, 'search_id': query_id_val_arr}\n",
        "\n",
        "    # Use the input dictionary when calling model.predict\n",
        "    p = model.predict(input_data, verbose=False).flatten()\n",
        "\n",
        "    idcg = ndcg(y, y, k=30)\n",
        "    ndcg_.append(ndcg(p, y, k=30) / idcg)\n",
        "\n",
        "mean_ndcg = np.mean(ndcg_)"
      ],
      "metadata": {
        "colab": {
          "base_uri": "https://localhost:8080/",
          "height": 605
        },
        "id": "DMl5qRii_HQV",
        "outputId": "c4170c16-011a-4c58-9d40-92ad82983bbf"
      },
      "execution_count": 49,
      "outputs": [
        {
          "output_type": "error",
          "ename": "ValueError",
          "evalue": "in user code:\n\n    File \"/usr/local/lib/python3.10/dist-packages/keras/src/engine/training.py\", line 2440, in predict_function  *\n        return step_function(self, iterator)\n    File \"/usr/local/lib/python3.10/dist-packages/keras/src/engine/training.py\", line 2425, in step_function  **\n        outputs = model.distribute_strategy.run(run_step, args=(data,))\n    File \"/usr/local/lib/python3.10/dist-packages/keras/src/engine/training.py\", line 2413, in run_step  **\n        outputs = model.predict_step(data)\n    File \"/usr/local/lib/python3.10/dist-packages/keras/src/engine/training.py\", line 2381, in predict_step\n        return self(x, training=False)\n    File \"/usr/local/lib/python3.10/dist-packages/keras/src/utils/traceback_utils.py\", line 70, in error_handler\n        raise e.with_traceback(filtered_tb) from None\n    File \"/usr/local/lib/python3.10/dist-packages/keras/src/engine/input_spec.py\", line 298, in assert_input_compatibility\n        raise ValueError(\n\n    ValueError: Input 0 of layer \"model_1\" is incompatible with the layer: expected shape=(None, 741), found shape=(None, 742)\n",
          "traceback": [
            "\u001b[0;31m---------------------------------------------------------------------------\u001b[0m",
            "\u001b[0;31mValueError\u001b[0m                                Traceback (most recent call last)",
            "\u001b[0;32m<ipython-input-49-c36291fb478c>\u001b[0m in \u001b[0;36m<cell line: 3>\u001b[0;34m()\u001b[0m\n\u001b[1;32m     17\u001b[0m \u001b[0;34m\u001b[0m\u001b[0m\n\u001b[1;32m     18\u001b[0m     \u001b[0;31m# Use the input dictionary when calling model.predict\u001b[0m\u001b[0;34m\u001b[0m\u001b[0;34m\u001b[0m\u001b[0m\n\u001b[0;32m---> 19\u001b[0;31m     \u001b[0mp\u001b[0m \u001b[0;34m=\u001b[0m \u001b[0mmodel\u001b[0m\u001b[0;34m.\u001b[0m\u001b[0mpredict\u001b[0m\u001b[0;34m(\u001b[0m\u001b[0minput_data\u001b[0m\u001b[0;34m,\u001b[0m \u001b[0mverbose\u001b[0m\u001b[0;34m=\u001b[0m\u001b[0;32mFalse\u001b[0m\u001b[0;34m)\u001b[0m\u001b[0;34m.\u001b[0m\u001b[0mflatten\u001b[0m\u001b[0;34m(\u001b[0m\u001b[0;34m)\u001b[0m\u001b[0;34m\u001b[0m\u001b[0;34m\u001b[0m\u001b[0m\n\u001b[0m\u001b[1;32m     20\u001b[0m \u001b[0;34m\u001b[0m\u001b[0m\n\u001b[1;32m     21\u001b[0m     \u001b[0midcg\u001b[0m \u001b[0;34m=\u001b[0m \u001b[0mndcg\u001b[0m\u001b[0;34m(\u001b[0m\u001b[0my\u001b[0m\u001b[0;34m,\u001b[0m \u001b[0my\u001b[0m\u001b[0;34m,\u001b[0m \u001b[0mk\u001b[0m\u001b[0;34m=\u001b[0m\u001b[0;36m30\u001b[0m\u001b[0;34m)\u001b[0m\u001b[0;34m\u001b[0m\u001b[0;34m\u001b[0m\u001b[0m\n",
            "\u001b[0;32m/usr/local/lib/python3.10/dist-packages/keras/src/utils/traceback_utils.py\u001b[0m in \u001b[0;36merror_handler\u001b[0;34m(*args, **kwargs)\u001b[0m\n\u001b[1;32m     68\u001b[0m             \u001b[0;31m# To get the full stack trace, call:\u001b[0m\u001b[0;34m\u001b[0m\u001b[0;34m\u001b[0m\u001b[0m\n\u001b[1;32m     69\u001b[0m             \u001b[0;31m# `tf.debugging.disable_traceback_filtering()`\u001b[0m\u001b[0;34m\u001b[0m\u001b[0;34m\u001b[0m\u001b[0m\n\u001b[0;32m---> 70\u001b[0;31m             \u001b[0;32mraise\u001b[0m \u001b[0me\u001b[0m\u001b[0;34m.\u001b[0m\u001b[0mwith_traceback\u001b[0m\u001b[0;34m(\u001b[0m\u001b[0mfiltered_tb\u001b[0m\u001b[0;34m)\u001b[0m \u001b[0;32mfrom\u001b[0m \u001b[0;32mNone\u001b[0m\u001b[0;34m\u001b[0m\u001b[0;34m\u001b[0m\u001b[0m\n\u001b[0m\u001b[1;32m     71\u001b[0m         \u001b[0;32mfinally\u001b[0m\u001b[0;34m:\u001b[0m\u001b[0;34m\u001b[0m\u001b[0;34m\u001b[0m\u001b[0m\n\u001b[1;32m     72\u001b[0m             \u001b[0;32mdel\u001b[0m \u001b[0mfiltered_tb\u001b[0m\u001b[0;34m\u001b[0m\u001b[0;34m\u001b[0m\u001b[0m\n",
            "\u001b[0;32m/usr/local/lib/python3.10/dist-packages/keras/src/engine/training.py\u001b[0m in \u001b[0;36mtf__predict_function\u001b[0;34m(iterator)\u001b[0m\n\u001b[1;32m     13\u001b[0m                 \u001b[0;32mtry\u001b[0m\u001b[0;34m:\u001b[0m\u001b[0;34m\u001b[0m\u001b[0;34m\u001b[0m\u001b[0m\n\u001b[1;32m     14\u001b[0m                     \u001b[0mdo_return\u001b[0m \u001b[0;34m=\u001b[0m \u001b[0;32mTrue\u001b[0m\u001b[0;34m\u001b[0m\u001b[0;34m\u001b[0m\u001b[0m\n\u001b[0;32m---> 15\u001b[0;31m                     \u001b[0mretval_\u001b[0m \u001b[0;34m=\u001b[0m \u001b[0mag__\u001b[0m\u001b[0;34m.\u001b[0m\u001b[0mconverted_call\u001b[0m\u001b[0;34m(\u001b[0m\u001b[0mag__\u001b[0m\u001b[0;34m.\u001b[0m\u001b[0mld\u001b[0m\u001b[0;34m(\u001b[0m\u001b[0mstep_function\u001b[0m\u001b[0;34m)\u001b[0m\u001b[0;34m,\u001b[0m \u001b[0;34m(\u001b[0m\u001b[0mag__\u001b[0m\u001b[0;34m.\u001b[0m\u001b[0mld\u001b[0m\u001b[0;34m(\u001b[0m\u001b[0mself\u001b[0m\u001b[0;34m)\u001b[0m\u001b[0;34m,\u001b[0m \u001b[0mag__\u001b[0m\u001b[0;34m.\u001b[0m\u001b[0mld\u001b[0m\u001b[0;34m(\u001b[0m\u001b[0miterator\u001b[0m\u001b[0;34m)\u001b[0m\u001b[0;34m)\u001b[0m\u001b[0;34m,\u001b[0m \u001b[0;32mNone\u001b[0m\u001b[0;34m,\u001b[0m \u001b[0mfscope\u001b[0m\u001b[0;34m)\u001b[0m\u001b[0;34m\u001b[0m\u001b[0;34m\u001b[0m\u001b[0m\n\u001b[0m\u001b[1;32m     16\u001b[0m                 \u001b[0;32mexcept\u001b[0m\u001b[0;34m:\u001b[0m\u001b[0;34m\u001b[0m\u001b[0;34m\u001b[0m\u001b[0m\n\u001b[1;32m     17\u001b[0m                     \u001b[0mdo_return\u001b[0m \u001b[0;34m=\u001b[0m \u001b[0;32mFalse\u001b[0m\u001b[0;34m\u001b[0m\u001b[0;34m\u001b[0m\u001b[0m\n",
            "\u001b[0;31mValueError\u001b[0m: in user code:\n\n    File \"/usr/local/lib/python3.10/dist-packages/keras/src/engine/training.py\", line 2440, in predict_function  *\n        return step_function(self, iterator)\n    File \"/usr/local/lib/python3.10/dist-packages/keras/src/engine/training.py\", line 2425, in step_function  **\n        outputs = model.distribute_strategy.run(run_step, args=(data,))\n    File \"/usr/local/lib/python3.10/dist-packages/keras/src/engine/training.py\", line 2413, in run_step  **\n        outputs = model.predict_step(data)\n    File \"/usr/local/lib/python3.10/dist-packages/keras/src/engine/training.py\", line 2381, in predict_step\n        return self(x, training=False)\n    File \"/usr/local/lib/python3.10/dist-packages/keras/src/utils/traceback_utils.py\", line 70, in error_handler\n        raise e.with_traceback(filtered_tb) from None\n    File \"/usr/local/lib/python3.10/dist-packages/keras/src/engine/input_spec.py\", line 298, in assert_input_compatibility\n        raise ValueError(\n\n    ValueError: Input 0 of layer \"model_1\" is incompatible with the layer: expected shape=(None, 741), found shape=(None, 742)\n"
          ]
        }
      ]
    },
    {
      "cell_type": "code",
      "source": [
        "query_id_val"
      ],
      "metadata": {
        "colab": {
          "base_uri": "https://localhost:8080/"
        },
        "id": "GZ3tYAKe-Wzr",
        "outputId": "4b890495-dbde-4a81-e864-f1e70564179c"
      },
      "execution_count": 45,
      "outputs": [
        {
          "output_type": "execute_result",
          "data": {
            "text/plain": [
              "238         113\n",
              "239         113\n",
              "240         113\n",
              "241         113\n",
              "242         113\n",
              "          ...  \n",
              "209778    99863\n",
              "209779    99863\n",
              "209780    99863\n",
              "209781    99863\n",
              "209782    99863\n",
              "Name: search_id, Length: 42075, dtype: int64"
            ]
          },
          "metadata": {},
          "execution_count": 45
        }
      ]
    },
    {
      "cell_type": "markdown",
      "source": [
        "### EVALUATION TRAIN AND VAL LOSS"
      ],
      "metadata": {
        "id": "bD3N3xzuXIdN"
      }
    },
    {
      "cell_type": "code",
      "source": [
        "train_loss = history.history['loss']\n",
        "val_loss = history.history['val_loss']\n",
        "\n",
        "epochs = range(1, len(train_loss) + 1)\n",
        "plt.style.use('fivethirtyeight')\n",
        "plt.plot(epochs, train_loss, label='Training loss', marker='o', alpha=0.7)\n",
        "plt.plot(epochs, val_loss, label='Validation loss', marker='o', alpha=0.7)\n",
        "plt.title('Training and validation loss')\n",
        "plt.xlabel('Epochs')\n",
        "plt.ylabel('Loss')\n",
        "plt.legend()\n",
        "\n",
        "plt.show()"
      ],
      "metadata": {
        "colab": {
          "base_uri": "https://localhost:8080/",
          "height": 508
        },
        "id": "mcqAbeIAXGyc",
        "outputId": "7c402314-08db-4f18-d94f-49343f1f6351"
      },
      "execution_count": 357,
      "outputs": [
        {
          "output_type": "display_data",
          "data": {
            "text/plain": [
              "<Figure size 640x480 with 1 Axes>"
            ],
            "image/png": "[encoded data removed]"
          },
          "metadata": {}
        }
      ]
    },
    {
      "cell_type": "markdown",
      "source": [
        "### TEST PREDICTIONS AND EVALUATION"
      ],
      "metadata": {
        "id": "XzeL1fiXXM2e"
      }
    },
    {
      "cell_type": "code",
      "source": [
        "X_test_2 = X_test.drop(columns=['search_id'])\n",
        "X_test_arr = X_test_2.values.astype(int)\n",
        "y_test_array = y_test.values.ravel()\n",
        "\n",
        "test_loss = model.evaluate(X_test_arr, y_test_array)\n",
        "\n",
        "predictions = model.predict(X_test_arr.astype(float))\n",
        "\n",
        "predictions = predictions.reshape(-1)\n",
        "\n",
        "test_df['predicted_score'] = predictions\n",
        "\n",
        "y_test_df = pd.DataFrame({'relevance_score': y_test, 'predicted_ranking': predictions})\n",
        "y_test_df.head()"
      ],
      "metadata": {
        "colab": {
          "base_uri": "https://localhost:8080/",
          "height": 340
        },
        "id": "3KXMKscwXHWI",
        "outputId": "3adeb325-ea59-493f-a76f-1c5e88bec258"
      },
      "execution_count": 358,
      "outputs": [
        {
          "output_type": "stream",
          "name": "stdout",
          "text": [
            "1308/1308 [==============================] - 2s 2ms/step - loss: 0.0805 - ndcg_metric: 0.7300 - accuracy: 0.9309\n",
            "1308/1308 [==============================] - 2s 1ms/step\n"
          ]
        },
        {
          "output_type": "stream",
          "name": "stderr",
          "text": [
            "<ipython-input-358-c8c51102caab>:11: SettingWithCopyWarning: \n",
            "A value is trying to be set on a copy of a slice from a DataFrame.\n",
            "Try using .loc[row_indexer,col_indexer] = value instead\n",
            "\n",
            "See the caveats in the documentation: https://pandas.pydata.org/pandas-docs/stable/user_guide/indexing.html#returning-a-view-versus-a-copy\n",
            "  test_df['predicted_score'] = predictions\n"
          ]
        },
        {
          "output_type": "execute_result",
          "data": {
            "text/plain": [
              "   relevance_score  predicted_ranking\n",
              "0              1.0           0.117271\n",
              "1              0.0           0.120173\n",
              "2              0.0           0.103796\n",
              "3              0.0           0.161382\n",
              "4              0.0           0.111887"
            ],
            "text/html": [
              "\n",
              "  <div id=\"df-e4faec6b-72e1-4d01-a167-5aeb2ab6681f\" class=\"colab-df-container\">\n",
              "    <div>\n",
              "<style scoped>\n",
              "    .dataframe tbody tr th:only-of-type {\n",
              "        vertical-align: middle;\n",
              "    }\n",
              "\n",
              "    .dataframe tbody tr th {\n",
              "        vertical-align: top;\n",
              "    }\n",
              "\n",
              "    .dataframe thead th {\n",
              "        text-align: right;\n",
              "    }\n",
              "</style>\n",
              "<table border=\"1\" class=\"dataframe\">\n",
              "  <thead>\n",
              "    <tr style=\"text-align: right;\">\n",
              "      <th></th>\n",
              "      <th>relevance_score</th>\n",
              "      <th>predicted_ranking</th>\n",
              "    </tr>\n",
              "  </thead>\n",
              "  <tbody>\n",
              "    <tr>\n",
              "      <th>0</th>\n",
              "      <td>1.0</td>\n",
              "      <td>0.117271</td>\n",
              "    </tr>\n",
              "    <tr>\n",
              "      <th>1</th>\n",
              "      <td>0.0</td>\n",
              "      <td>0.120173</td>\n",
              "    </tr>\n",
              "    <tr>\n",
              "      <th>2</th>\n",
              "      <td>0.0</td>\n",
              "      <td>0.103796</td>\n",
              "    </tr>\n",
              "    <tr>\n",
              "      <th>3</th>\n",
              "      <td>0.0</td>\n",
              "      <td>0.161382</td>\n",
              "    </tr>\n",
              "    <tr>\n",
              "      <th>4</th>\n",
              "      <td>0.0</td>\n",
              "      <td>0.111887</td>\n",
              "    </tr>\n",
              "  </tbody>\n",
              "</table>\n",
              "</div>\n",
              "    <div class=\"colab-df-buttons\">\n",
              "\n",
              "  <div class=\"colab-df-container\">\n",
              "    <button class=\"colab-df-convert\" onclick=\"convertToInteractive('df-e4faec6b-72e1-4d01-a167-5aeb2ab6681f')\"\n",
              "            title=\"Convert this dataframe to an interactive table.\"\n",
              "            style=\"display:none;\">\n",
              "\n",
              "  <svg xmlns=\"http://www.w3.org/2000/svg\" height=\"24px\" viewBox=\"0 -960 960 960\">\n",
              "    <path d=\"M120-120v-720h720v720H120Zm60-500h600v-160H180v160Zm220 220h160v-160H400v160Zm0 220h160v-160H400v160ZM180-400h160v-160H180v160Zm440 0h160v-160H620v160ZM180-180h160v-160H180v160Zm440 0h160v-160H620v160Z\"/>\n",
              "  </svg>\n",
              "    </button>\n",
              "\n",
              "  <style>\n",
              "    .colab-df-container {\n",
              "      display:flex;\n",
              "      gap: 12px;\n",
              "    }\n",
              "\n",
              "    .colab-df-convert {\n",
              "      background-color: #E8F0FE;\n",
              "      border: none;\n",
              "      border-radius: 50%;\n",
              "      cursor: pointer;\n",
              "      display: none;\n",
              "      fill: #1967D2;\n",
              "      height: 32px;\n",
              "      padding: 0 0 0 0;\n",
              "      width: 32px;\n",
              "    }\n",
              "\n",
              "    .colab-df-convert:hover {\n",
              "      background-color: #E2EBFA;\n",
              "      box-shadow: 0px 1px 2px rgba(60, 64, 67, 0.3), 0px 1px 3px 1px rgba(60, 64, 67, 0.15);\n",
              "      fill: #174EA6;\n",
              "    }\n",
              "\n",
              "    .colab-df-buttons div {\n",
              "      margin-bottom: 4px;\n",
              "    }\n",
              "\n",
              "    [theme=dark] .colab-df-convert {\n",
              "      background-color: #3B4455;\n",
              "      fill: #D2E3FC;\n",
              "    }\n",
              "\n",
              "    [theme=dark] .colab-df-convert:hover {\n",
              "      background-color: #434B5C;\n",
              "      box-shadow: 0px 1px 3px 1px rgba(0, 0, 0, 0.15);\n",
              "      filter: drop-shadow(0px 1px 2px rgba(0, 0, 0, 0.3));\n",
              "      fill: #FFFFFF;\n",
              "    }\n",
              "  </style>\n",
              "\n",
              "    <script>\n",
              "      const buttonEl =\n",
              "        document.querySelector('#df-e4faec6b-72e1-4d01-a167-5aeb2ab6681f button.colab-df-convert');\n",
              "      buttonEl.style.display =\n",
              "        google.colab.kernel.accessAllowed ? 'block' : 'none';\n",
              "\n",
              "      async function convertToInteractive(key) {\n",
              "        const element = document.querySelector('#df-e4faec6b-72e1-4d01-a167-5aeb2ab6681f');\n",
              "        const dataTable =\n",
              "          await google.colab.kernel.invokeFunction('convertToInteractive',\n",
              "                                                    [key], {});\n",
              "        if (!dataTable) return;\n",
              "\n",
              "        const docLinkHtml = 'Like what you see? Visit the ' +\n",
              "          '<a target=\"_blank\" href=https://colab.research.google.com/notebooks/data_table.ipynb>data table notebook</a>'\n",
              "          + ' to learn more about interactive tables.';\n",
              "        element.innerHTML = '';\n",
              "        dataTable['output_type'] = 'display_data';\n",
              "        await google.colab.output.renderOutput(dataTable, element);\n",
              "        const docLink = document.createElement('div');\n",
              "        docLink.innerHTML = docLinkHtml;\n",
              "        element.appendChild(docLink);\n",
              "      }\n",
              "    </script>\n",
              "  </div>\n",
              "\n",
              "\n",
              "<div id=\"df-e66c7b99-d3ff-4db0-aa6a-3241819a6d98\">\n",
              "  <button class=\"colab-df-quickchart\" onclick=\"quickchart('df-e66c7b99-d3ff-4db0-aa6a-3241819a6d98')\"\n",
              "            title=\"Suggest charts\"\n",
              "            style=\"display:none;\">\n",
              "\n",
              "<svg xmlns=\"http://www.w3.org/2000/svg\" height=\"24px\"viewBox=\"0 0 24 24\"\n",
              "     width=\"24px\">\n",
              "    <g>\n",
              "        <path d=\"M19 3H5c-1.1 0-2 .9-2 2v14c0 1.1.9 2 2 2h14c1.1 0 2-.9 2-2V5c0-1.1-.9-2-2-2zM9 17H7v-7h2v7zm4 0h-2V7h2v10zm4 0h-2v-4h2v4z\"/>\n",
              "    </g>\n",
              "</svg>\n",
              "  </button>\n",
              "\n",
              "<style>\n",
              "  .colab-df-quickchart {\n",
              "      --bg-color: #E8F0FE;\n",
              "      --fill-color: #1967D2;\n",
              "      --hover-bg-color: #E2EBFA;\n",
              "      --hover-fill-color: #174EA6;\n",
              "      --disabled-fill-color: #AAA;\n",
              "      --disabled-bg-color: #DDD;\n",
              "  }\n",
              "\n",
              "  [theme=dark] .colab-df-quickchart {\n",
              "      --bg-color: #3B4455;\n",
              "      --fill-color: #D2E3FC;\n",
              "      --hover-bg-color: #434B5C;\n",
              "      --hover-fill-color: #FFFFFF;\n",
              "      --disabled-bg-color: #3B4455;\n",
              "      --disabled-fill-color: #666;\n",
              "  }\n",
              "\n",
              "  .colab-df-quickchart {\n",
              "    background-color: var(--bg-color);\n",
              "    border: none;\n",
              "    border-radius: 50%;\n",
              "    cursor: pointer;\n",
              "    display: none;\n",
              "    fill: var(--fill-color);\n",
              "    height: 32px;\n",
              "    padding: 0;\n",
              "    width: 32px;\n",
              "  }\n",
              "\n",
              "  .colab-df-quickchart:hover {\n",
              "    background-color: var(--hover-bg-color);\n",
              "    box-shadow: 0 1px 2px rgba(60, 64, 67, 0.3), 0 1px 3px 1px rgba(60, 64, 67, 0.15);\n",
              "    fill: var(--button-hover-fill-color);\n",
              "  }\n",
              "\n",
              "  .colab-df-quickchart-complete:disabled,\n",
              "  .colab-df-quickchart-complete:disabled:hover {\n",
              "    background-color: var(--disabled-bg-color);\n",
              "    fill: var(--disabled-fill-color);\n",
              "    box-shadow: none;\n",
              "  }\n",
              "\n",
              "  .colab-df-spinner {\n",
              "    border: 2px solid var(--fill-color);\n",
              "    border-color: transparent;\n",
              "    border-bottom-color: var(--fill-color);\n",
              "    animation:\n",
              "      spin 1s steps(1) infinite;\n",
              "  }\n",
              "\n",
              "  @keyframes spin {\n",
              "    0% {\n",
              "      border-color: transparent;\n",
              "      border-bottom-color: var(--fill-color);\n",
              "      border-left-color: var(--fill-color);\n",
              "    }\n",
              "    20% {\n",
              "      border-color: transparent;\n",
              "      border-left-color: var(--fill-color);\n",
              "      border-top-color: var(--fill-color);\n",
              "    }\n",
              "    30% {\n",
              "      border-color: transparent;\n",
              "      border-left-color: var(--fill-color);\n",
              "      border-top-color: var(--fill-color);\n",
              "      border-right-color: var(--fill-color);\n",
              "    }\n",
              "    40% {\n",
              "      border-color: transparent;\n",
              "      border-right-color: var(--fill-color);\n",
              "      border-top-color: var(--fill-color);\n",
              "    }\n",
              "    60% {\n",
              "      border-color: transparent;\n",
              "      border-right-color: var(--fill-color);\n",
              "    }\n",
              "    80% {\n",
              "      border-color: transparent;\n",
              "      border-right-color: var(--fill-color);\n",
              "      border-bottom-color: var(--fill-color);\n",
              "    }\n",
              "    90% {\n",
              "      border-color: transparent;\n",
              "      border-bottom-color: var(--fill-color);\n",
              "    }\n",
              "  }\n",
              "</style>\n",
              "\n",
              "  <script>\n",
              "    async function quickchart(key) {\n",
              "      const quickchartButtonEl =\n",
              "        document.querySelector('#' + key + ' button');\n",
              "      quickchartButtonEl.disabled = true;  // To prevent multiple clicks.\n",
              "      quickchartButtonEl.classList.add('colab-df-spinner');\n",
              "      try {\n",
              "        const charts = await google.colab.kernel.invokeFunction(\n",
              "            'suggestCharts', [key], {});\n",
              "      } catch (error) {\n",
              "        console.error('Error during call to suggestCharts:', error);\n",
              "      }\n",
              "      quickchartButtonEl.classList.remove('colab-df-spinner');\n",
              "      quickchartButtonEl.classList.add('colab-df-quickchart-complete');\n",
              "    }\n",
              "    (() => {\n",
              "      let quickchartButtonEl =\n",
              "        document.querySelector('#df-e66c7b99-d3ff-4db0-aa6a-3241819a6d98 button');\n",
              "      quickchartButtonEl.style.display =\n",
              "        google.colab.kernel.accessAllowed ? 'block' : 'none';\n",
              "    })();\n",
              "  </script>\n",
              "</div>\n",
              "    </div>\n",
              "  </div>\n"
            ],
            "application/vnd.google.colaboratory.intrinsic+json": {
              "type": "dataframe",
              "variable_name": "y_test_df",
              "summary": "{\n  \"name\": \"y_test_df\",\n  \"rows\": 41846,\n  \"fields\": [\n    {\n      \"column\": \"relevance_score\",\n      \"properties\": {\n        \"dtype\": \"number\",\n        \"std\": 0.28190407467590045,\n        \"min\": 0.0,\n        \"max\": 2.0,\n        \"num_unique_values\": 3,\n        \"samples\": [\n          1.0,\n          0.0,\n          2.0\n        ],\n        \"semantic_type\": \"\",\n        \"description\": \"\"\n      }\n    },\n    {\n      \"column\": \"predicted_ranking\",\n      \"properties\": {\n        \"dtype\": \"float32\",\n        \"num_unique_values\": 40348,\n        \"samples\": [\n          0.10961715877056122,\n          0.129655122756958,\n          0.08815491199493408\n        ],\n        \"semantic_type\": \"\",\n        \"description\": \"\"\n      }\n    }\n  ]\n}"
            }
          },
          "metadata": {},
          "execution_count": 358
        }
      ]
    },
    {
      "cell_type": "code",
      "source": [
        "plt.style.use('fivethirtyeight')\n",
        "plt.scatter(y_test_df[\"relevance_score\"], y_test_df[\"predicted_ranking\"])\n",
        "plt.show()"
      ],
      "metadata": {
        "colab": {
          "base_uri": "https://localhost:8080/",
          "height": 454
        },
        "id": "7-fMIKLiXVdi",
        "outputId": "417d835c-3cd5-44e3-9a87-4086d7b5ab1a"
      },
      "execution_count": 345,
      "outputs": [
        {
          "output_type": "display_data",
          "data": {
            "text/plain": [
              "<Figure size 640x480 with 1 Axes>"
            ],
            "image/png": "[encoded data removed]"
          },
          "metadata": {}
        }
      ]
    },
    {
      "cell_type": "code",
      "source": [
        "print('Mean predicted score for 0 relevance values:',np.mean(y_test_df[y_test_df['relevance_score'] == 0]['predicted_ranking']))\n",
        "print('Mean predicted score for 1 relevance values:',np.mean(y_test_df[y_test_df['relevance_score'] == 1]['predicted_ranking']))\n",
        "print('Mean predicted score for 2 relevance values:',np.mean(y_test_df[y_test_df['relevance_score'] == 2]['predicted_ranking']))\n",
        "print('Mean predicted score for 3 relevance values:',np.mean(y_test_df[y_test_df['relevance_score'] == 3]['predicted_ranking']))"
      ],
      "metadata": {
        "colab": {
          "base_uri": "https://localhost:8080/"
        },
        "id": "FcXAD4VkXXqb",
        "outputId": "305b7199-d5ef-4598-e592-4b13d2a9efac"
      },
      "execution_count": 346,
      "outputs": [
        {
          "output_type": "stream",
          "name": "stdout",
          "text": [
            "Mean predicted score for 0 relevance values: 0.081629366\n",
            "Mean predicted score for 1 relevance values: 0.0882183\n",
            "Mean predicted score for 2 relevance values: 0.08923919\n",
            "Mean predicted score for 3 relevance values: nan\n"
          ]
        }
      ]
    },
    {
      "cell_type": "code",
      "source": [
        "ndcg_noad_nn_all = []\n",
        "for group_name, group_df in test_df.groupby('search_id'):\n",
        "    pred_scores = group_df['predicted_score']\n",
        "    true_labels = sorted(group_df['relevance'],reverse=True)\n",
        "    ndcg = ndcg_score([true_labels], [pred_scores])\n",
        "    ndcg_noad_nn_all.append(ndcg)\n",
        "\n",
        "print('NDCG mean taking into account all values of the ranking', np.mean(ndcg_noad_nn_all))"
      ],
      "metadata": {
        "colab": {
          "base_uri": "https://localhost:8080/"
        },
        "id": "YtiTmuKiXfol",
        "outputId": "2779292a-8658-4fb8-cdca-5178e408e82f"
      },
      "execution_count": 337,
      "outputs": [
        {
          "output_type": "stream",
          "name": "stdout",
          "text": [
            "NDCG mean taking into account all values of the ranking 0.32403404957409676\n"
          ]
        }
      ]
    },
    {
      "cell_type": "code",
      "source": [
        "ndcg_noad_nn_k20 = []\n",
        "for group_name, group_df in test_df.groupby('search_id'):\n",
        "    pred_scores = group_df['predicted_score']\n",
        "    true_labels = sorted(group_df['relevance'],reverse=True)\n",
        "    ndcg = ndcg_score([true_labels], [pred_scores], k=20)\n",
        "    ndcg_noad_nn_k20.append(ndcg)\n",
        "\n",
        "print('NDCG mean taking into account the first 20 values of the ranking', np.mean(ndcg_noad_nn_k20))"
      ],
      "metadata": {
        "colab": {
          "base_uri": "https://localhost:8080/"
        },
        "id": "9H3lhSUcXkqL",
        "outputId": "e8ae7c3e-b192-4f43-9b70-feaf49194096"
      },
      "execution_count": 338,
      "outputs": [
        {
          "output_type": "stream",
          "name": "stdout",
          "text": [
            "NDCG mean taking into account the first 20 values of the ranking 0.21053643808607797\n"
          ]
        }
      ]
    },
    {
      "cell_type": "markdown",
      "source": [
        "### TEST EVALUATION NEW NDCG FUNCTION"
      ],
      "metadata": {
        "id": "u74DbISdY0jj"
      }
    },
    {
      "cell_type": "code",
      "source": [
        "def ndcg(y_score, y_true, k):\n",
        "    order = np.argsort(y_score)[::-1]\n",
        "    y_true = np.take(y_true, order[:k])\n",
        "\n",
        "    gain = 2 ** y_true - 1\n",
        "\n",
        "    discounts = np.log2(np.arange(len(y_true)) + 2)\n",
        "    return np.sum(gain / discounts)"
      ],
      "metadata": {
        "id": "eRdugs6SY2m9"
      },
      "execution_count": 20,
      "outputs": []
    },
    {
      "cell_type": "code",
      "source": [
        "qids = np.unique(query_id_test)\n",
        "\n",
        "ndcg_ = list()\n",
        "\n",
        "for i, qid in enumerate(qids):\n",
        "    y = y_test[query_id_test == qid]\n",
        "\n",
        "    #if np.sum(y) == 0:\n",
        "    #    continue\n",
        "\n",
        "    X_test1 = X_test[X_test['search_id'] == qid]\n",
        "\n",
        "    X_test_2 = X_test1.drop(columns=['search_id'])\n",
        "    X_test_arr = X_test_2.values.astype(int)\n",
        "\n",
        "    p = model.predict(X_test_arr, verbose=False)\n",
        "    p = p.flatten()\n",
        "\n",
        "    idcg = ndcg(y, y, k=30)\n",
        "    ndcg_.append(ndcg(p, y, k=30) / idcg)\n",
        "\n",
        "np.mean(ndcg_)"
      ],
      "metadata": {
        "colab": {
          "base_uri": "https://localhost:8080/"
        },
        "id": "ssEQ5BEDGXeO",
        "outputId": "f0a037ab-f6fe-4df5-c346-401010337e99"
      },
      "execution_count": 21,
      "outputs": [
        {
          "output_type": "execute_result",
          "data": {
            "text/plain": [
              "0.3871069047868138"
            ]
          },
          "metadata": {},
          "execution_count": 21
        }
      ]
    },
    {
      "cell_type": "code",
      "source": [
        "mse_r = [0.43]\n",
        "ranknet_r = [0.39]\n",
        "softrank_r = [0.35]"
      ],
      "metadata": {
        "id": "fKRTksNcJEw5"
      },
      "execution_count": null,
      "outputs": []
    },
    {
      "cell_type": "code",
      "source": [],
      "metadata": {
        "id": "m3wrMvgpPJuq"
      },
      "execution_count": null,
      "outputs": []
    }
  ]
}