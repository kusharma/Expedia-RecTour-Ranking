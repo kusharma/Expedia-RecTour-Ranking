{
  "nbformat": 4,
  "nbformat_minor": 0,
  "metadata": {
    "colab": {
      "provenance": [],
      "machine_shape": "hm"
    },
    "kernelspec": {
      "name": "python3",
      "display_name": "Python 3"
    },
    "language_info": {
      "name": "python"
    }
  },
  "cells": [
    {
      "cell_type": "code",
      "execution_count": 1,
      "metadata": {
        "colab": {
          "base_uri": "https://localhost:8080/"
        },
        "id": "qB4UREVyRcpo",
        "outputId": "8ce5be5f-cd1a-418c-ec07-e4cc94a29812"
      },
      "outputs": [
        {
          "output_type": "stream",
          "name": "stdout",
          "text": [
            "Requirement already satisfied: tensorflow-ranking in /usr/local/lib/python3.10/dist-packages (0.5.5)\n",
            "Requirement already satisfied: absl-py>=0.1.6 in /usr/local/lib/python3.10/dist-packages (from tensorflow-ranking) (1.4.0)\n",
            "Requirement already satisfied: numpy>=1.23.2 in /usr/local/lib/python3.10/dist-packages (from tensorflow-ranking) (1.25.2)\n",
            "Requirement already satisfied: six>=1.10.0 in /usr/local/lib/python3.10/dist-packages (from tensorflow-ranking) (1.16.0)\n",
            "Requirement already satisfied: tensorflow-serving-api<3.0.0,>=2.0.0 in /usr/local/lib/python3.10/dist-packages (from tensorflow-ranking) (2.15.1)\n",
            "Requirement already satisfied: tensorflow<2.16.0 in /usr/local/lib/python3.10/dist-packages (from tensorflow-ranking) (2.15.1)\n",
            "Requirement already satisfied: astunparse>=1.6.0 in /usr/local/lib/python3.10/dist-packages (from tensorflow<2.16.0->tensorflow-ranking) (1.6.3)\n",
            "Requirement already satisfied: flatbuffers>=23.5.26 in /usr/local/lib/python3.10/dist-packages (from tensorflow<2.16.0->tensorflow-ranking) (24.3.25)\n",
            "Requirement already satisfied: gast!=0.5.0,!=0.5.1,!=0.5.2,>=0.2.1 in /usr/local/lib/python3.10/dist-packages (from tensorflow<2.16.0->tensorflow-ranking) (0.5.4)\n",
            "Requirement already satisfied: google-pasta>=0.1.1 in /usr/local/lib/python3.10/dist-packages (from tensorflow<2.16.0->tensorflow-ranking) (0.2.0)\n",
            "Requirement already satisfied: h5py>=2.9.0 in /usr/local/lib/python3.10/dist-packages (from tensorflow<2.16.0->tensorflow-ranking) (3.9.0)\n",
            "Requirement already satisfied: libclang>=13.0.0 in /usr/local/lib/python3.10/dist-packages (from tensorflow<2.16.0->tensorflow-ranking) (18.1.1)\n",
            "Requirement already satisfied: ml-dtypes~=0.3.1 in /usr/local/lib/python3.10/dist-packages (from tensorflow<2.16.0->tensorflow-ranking) (0.3.2)\n",
            "Requirement already satisfied: opt-einsum>=2.3.2 in /usr/local/lib/python3.10/dist-packages (from tensorflow<2.16.0->tensorflow-ranking) (3.3.0)\n",
            "Requirement already satisfied: packaging in /usr/local/lib/python3.10/dist-packages (from tensorflow<2.16.0->tensorflow-ranking) (24.0)\n",
            "Requirement already satisfied: protobuf!=4.21.0,!=4.21.1,!=4.21.2,!=4.21.3,!=4.21.4,!=4.21.5,<5.0.0dev,>=3.20.3 in /usr/local/lib/python3.10/dist-packages (from tensorflow<2.16.0->tensorflow-ranking) (3.20.3)\n",
            "Requirement already satisfied: setuptools in /usr/local/lib/python3.10/dist-packages (from tensorflow<2.16.0->tensorflow-ranking) (67.7.2)\n",
            "Requirement already satisfied: termcolor>=1.1.0 in /usr/local/lib/python3.10/dist-packages (from tensorflow<2.16.0->tensorflow-ranking) (2.4.0)\n",
            "Requirement already satisfied: typing-extensions>=3.6.6 in /usr/local/lib/python3.10/dist-packages (from tensorflow<2.16.0->tensorflow-ranking) (4.11.0)\n",
            "Requirement already satisfied: wrapt<1.15,>=1.11.0 in /usr/local/lib/python3.10/dist-packages (from tensorflow<2.16.0->tensorflow-ranking) (1.14.1)\n",
            "Requirement already satisfied: tensorflow-io-gcs-filesystem>=0.23.1 in /usr/local/lib/python3.10/dist-packages (from tensorflow<2.16.0->tensorflow-ranking) (0.36.0)\n",
            "Requirement already satisfied: grpcio<2.0,>=1.24.3 in /usr/local/lib/python3.10/dist-packages (from tensorflow<2.16.0->tensorflow-ranking) (1.62.2)\n",
            "Requirement already satisfied: tensorboard<2.16,>=2.15 in /usr/local/lib/python3.10/dist-packages (from tensorflow<2.16.0->tensorflow-ranking) (2.15.2)\n",
            "Requirement already satisfied: tensorflow-estimator<2.16,>=2.15.0 in /usr/local/lib/python3.10/dist-packages (from tensorflow<2.16.0->tensorflow-ranking) (2.15.0)\n",
            "Requirement already satisfied: keras<2.16,>=2.15.0 in /usr/local/lib/python3.10/dist-packages (from tensorflow<2.16.0->tensorflow-ranking) (2.15.0)\n",
            "Requirement already satisfied: wheel<1.0,>=0.23.0 in /usr/local/lib/python3.10/dist-packages (from astunparse>=1.6.0->tensorflow<2.16.0->tensorflow-ranking) (0.43.0)\n",
            "Requirement already satisfied: google-auth<3,>=1.6.3 in /usr/local/lib/python3.10/dist-packages (from tensorboard<2.16,>=2.15->tensorflow<2.16.0->tensorflow-ranking) (2.27.0)\n",
            "Requirement already satisfied: google-auth-oauthlib<2,>=0.5 in /usr/local/lib/python3.10/dist-packages (from tensorboard<2.16,>=2.15->tensorflow<2.16.0->tensorflow-ranking) (1.2.0)\n",
            "Requirement already satisfied: markdown>=2.6.8 in /usr/local/lib/python3.10/dist-packages (from tensorboard<2.16,>=2.15->tensorflow<2.16.0->tensorflow-ranking) (3.6)\n",
            "Requirement already satisfied: requests<3,>=2.21.0 in /usr/local/lib/python3.10/dist-packages (from tensorboard<2.16,>=2.15->tensorflow<2.16.0->tensorflow-ranking) (2.31.0)\n",
            "Requirement already satisfied: tensorboard-data-server<0.8.0,>=0.7.0 in /usr/local/lib/python3.10/dist-packages (from tensorboard<2.16,>=2.15->tensorflow<2.16.0->tensorflow-ranking) (0.7.2)\n",
            "Requirement already satisfied: werkzeug>=1.0.1 in /usr/local/lib/python3.10/dist-packages (from tensorboard<2.16,>=2.15->tensorflow<2.16.0->tensorflow-ranking) (3.0.2)\n",
            "Requirement already satisfied: cachetools<6.0,>=2.0.0 in /usr/local/lib/python3.10/dist-packages (from google-auth<3,>=1.6.3->tensorboard<2.16,>=2.15->tensorflow<2.16.0->tensorflow-ranking) (5.3.3)\n",
            "Requirement already satisfied: pyasn1-modules>=0.2.1 in /usr/local/lib/python3.10/dist-packages (from google-auth<3,>=1.6.3->tensorboard<2.16,>=2.15->tensorflow<2.16.0->tensorflow-ranking) (0.4.0)\n",
            "Requirement already satisfied: rsa<5,>=3.1.4 in /usr/local/lib/python3.10/dist-packages (from google-auth<3,>=1.6.3->tensorboard<2.16,>=2.15->tensorflow<2.16.0->tensorflow-ranking) (4.9)\n",
            "Requirement already satisfied: requests-oauthlib>=0.7.0 in /usr/local/lib/python3.10/dist-packages (from google-auth-oauthlib<2,>=0.5->tensorboard<2.16,>=2.15->tensorflow<2.16.0->tensorflow-ranking) (1.3.1)\n",
            "Requirement already satisfied: charset-normalizer<4,>=2 in /usr/local/lib/python3.10/dist-packages (from requests<3,>=2.21.0->tensorboard<2.16,>=2.15->tensorflow<2.16.0->tensorflow-ranking) (3.3.2)\n",
            "Requirement already satisfied: idna<4,>=2.5 in /usr/local/lib/python3.10/dist-packages (from requests<3,>=2.21.0->tensorboard<2.16,>=2.15->tensorflow<2.16.0->tensorflow-ranking) (3.7)\n",
            "Requirement already satisfied: urllib3<3,>=1.21.1 in /usr/local/lib/python3.10/dist-packages (from requests<3,>=2.21.0->tensorboard<2.16,>=2.15->tensorflow<2.16.0->tensorflow-ranking) (2.0.7)\n",
            "Requirement already satisfied: certifi>=2017.4.17 in /usr/local/lib/python3.10/dist-packages (from requests<3,>=2.21.0->tensorboard<2.16,>=2.15->tensorflow<2.16.0->tensorflow-ranking) (2024.2.2)\n",
            "Requirement already satisfied: MarkupSafe>=2.1.1 in /usr/local/lib/python3.10/dist-packages (from werkzeug>=1.0.1->tensorboard<2.16,>=2.15->tensorflow<2.16.0->tensorflow-ranking) (2.1.5)\n",
            "Requirement already satisfied: pyasn1<0.7.0,>=0.4.6 in /usr/local/lib/python3.10/dist-packages (from pyasn1-modules>=0.2.1->google-auth<3,>=1.6.3->tensorboard<2.16,>=2.15->tensorflow<2.16.0->tensorflow-ranking) (0.6.0)\n",
            "Requirement already satisfied: oauthlib>=3.0.0 in /usr/local/lib/python3.10/dist-packages (from requests-oauthlib>=0.7.0->google-auth-oauthlib<2,>=0.5->tensorboard<2.16,>=2.15->tensorflow<2.16.0->tensorflow-ranking) (3.2.2)\n",
            "Requirement already satisfied: tensorflow in /usr/local/lib/python3.10/dist-packages (2.15.1)\n",
            "Requirement already satisfied: absl-py>=1.0.0 in /usr/local/lib/python3.10/dist-packages (from tensorflow) (1.4.0)\n",
            "Requirement already satisfied: astunparse>=1.6.0 in /usr/local/lib/python3.10/dist-packages (from tensorflow) (1.6.3)\n",
            "Requirement already satisfied: flatbuffers>=23.5.26 in /usr/local/lib/python3.10/dist-packages (from tensorflow) (24.3.25)\n",
            "Requirement already satisfied: gast!=0.5.0,!=0.5.1,!=0.5.2,>=0.2.1 in /usr/local/lib/python3.10/dist-packages (from tensorflow) (0.5.4)\n",
            "Requirement already satisfied: google-pasta>=0.1.1 in /usr/local/lib/python3.10/dist-packages (from tensorflow) (0.2.0)\n",
            "Requirement already satisfied: h5py>=2.9.0 in /usr/local/lib/python3.10/dist-packages (from tensorflow) (3.9.0)\n",
            "Requirement already satisfied: libclang>=13.0.0 in /usr/local/lib/python3.10/dist-packages (from tensorflow) (18.1.1)\n",
            "Requirement already satisfied: ml-dtypes~=0.3.1 in /usr/local/lib/python3.10/dist-packages (from tensorflow) (0.3.2)\n",
            "Requirement already satisfied: numpy<2.0.0,>=1.23.5 in /usr/local/lib/python3.10/dist-packages (from tensorflow) (1.25.2)\n",
            "Requirement already satisfied: opt-einsum>=2.3.2 in /usr/local/lib/python3.10/dist-packages (from tensorflow) (3.3.0)\n",
            "Requirement already satisfied: packaging in /usr/local/lib/python3.10/dist-packages (from tensorflow) (24.0)\n",
            "Requirement already satisfied: protobuf!=4.21.0,!=4.21.1,!=4.21.2,!=4.21.3,!=4.21.4,!=4.21.5,<5.0.0dev,>=3.20.3 in /usr/local/lib/python3.10/dist-packages (from tensorflow) (3.20.3)\n",
            "Requirement already satisfied: setuptools in /usr/local/lib/python3.10/dist-packages (from tensorflow) (67.7.2)\n",
            "Requirement already satisfied: six>=1.12.0 in /usr/local/lib/python3.10/dist-packages (from tensorflow) (1.16.0)\n",
            "Requirement already satisfied: termcolor>=1.1.0 in /usr/local/lib/python3.10/dist-packages (from tensorflow) (2.4.0)\n",
            "Requirement already satisfied: typing-extensions>=3.6.6 in /usr/local/lib/python3.10/dist-packages (from tensorflow) (4.11.0)\n",
            "Requirement already satisfied: wrapt<1.15,>=1.11.0 in /usr/local/lib/python3.10/dist-packages (from tensorflow) (1.14.1)\n",
            "Requirement already satisfied: tensorflow-io-gcs-filesystem>=0.23.1 in /usr/local/lib/python3.10/dist-packages (from tensorflow) (0.36.0)\n",
            "Requirement already satisfied: grpcio<2.0,>=1.24.3 in /usr/local/lib/python3.10/dist-packages (from tensorflow) (1.62.2)\n",
            "Requirement already satisfied: tensorboard<2.16,>=2.15 in /usr/local/lib/python3.10/dist-packages (from tensorflow) (2.15.2)\n",
            "Requirement already satisfied: tensorflow-estimator<2.16,>=2.15.0 in /usr/local/lib/python3.10/dist-packages (from tensorflow) (2.15.0)\n",
            "Requirement already satisfied: keras<2.16,>=2.15.0 in /usr/local/lib/python3.10/dist-packages (from tensorflow) (2.15.0)\n",
            "Requirement already satisfied: wheel<1.0,>=0.23.0 in /usr/local/lib/python3.10/dist-packages (from astunparse>=1.6.0->tensorflow) (0.43.0)\n",
            "Requirement already satisfied: google-auth<3,>=1.6.3 in /usr/local/lib/python3.10/dist-packages (from tensorboard<2.16,>=2.15->tensorflow) (2.27.0)\n",
            "Requirement already satisfied: google-auth-oauthlib<2,>=0.5 in /usr/local/lib/python3.10/dist-packages (from tensorboard<2.16,>=2.15->tensorflow) (1.2.0)\n",
            "Requirement already satisfied: markdown>=2.6.8 in /usr/local/lib/python3.10/dist-packages (from tensorboard<2.16,>=2.15->tensorflow) (3.6)\n",
            "Requirement already satisfied: requests<3,>=2.21.0 in /usr/local/lib/python3.10/dist-packages (from tensorboard<2.16,>=2.15->tensorflow) (2.31.0)\n",
            "Requirement already satisfied: tensorboard-data-server<0.8.0,>=0.7.0 in /usr/local/lib/python3.10/dist-packages (from tensorboard<2.16,>=2.15->tensorflow) (0.7.2)\n",
            "Requirement already satisfied: werkzeug>=1.0.1 in /usr/local/lib/python3.10/dist-packages (from tensorboard<2.16,>=2.15->tensorflow) (3.0.2)\n",
            "Requirement already satisfied: cachetools<6.0,>=2.0.0 in /usr/local/lib/python3.10/dist-packages (from google-auth<3,>=1.6.3->tensorboard<2.16,>=2.15->tensorflow) (5.3.3)\n",
            "Requirement already satisfied: pyasn1-modules>=0.2.1 in /usr/local/lib/python3.10/dist-packages (from google-auth<3,>=1.6.3->tensorboard<2.16,>=2.15->tensorflow) (0.4.0)\n",
            "Requirement already satisfied: rsa<5,>=3.1.4 in /usr/local/lib/python3.10/dist-packages (from google-auth<3,>=1.6.3->tensorboard<2.16,>=2.15->tensorflow) (4.9)\n",
            "Requirement already satisfied: requests-oauthlib>=0.7.0 in /usr/local/lib/python3.10/dist-packages (from google-auth-oauthlib<2,>=0.5->tensorboard<2.16,>=2.15->tensorflow) (1.3.1)\n",
            "Requirement already satisfied: charset-normalizer<4,>=2 in /usr/local/lib/python3.10/dist-packages (from requests<3,>=2.21.0->tensorboard<2.16,>=2.15->tensorflow) (3.3.2)\n",
            "Requirement already satisfied: idna<4,>=2.5 in /usr/local/lib/python3.10/dist-packages (from requests<3,>=2.21.0->tensorboard<2.16,>=2.15->tensorflow) (3.7)\n",
            "Requirement already satisfied: urllib3<3,>=1.21.1 in /usr/local/lib/python3.10/dist-packages (from requests<3,>=2.21.0->tensorboard<2.16,>=2.15->tensorflow) (2.0.7)\n",
            "Requirement already satisfied: certifi>=2017.4.17 in /usr/local/lib/python3.10/dist-packages (from requests<3,>=2.21.0->tensorboard<2.16,>=2.15->tensorflow) (2024.2.2)\n",
            "Requirement already satisfied: MarkupSafe>=2.1.1 in /usr/local/lib/python3.10/dist-packages (from werkzeug>=1.0.1->tensorboard<2.16,>=2.15->tensorflow) (2.1.5)\n",
            "Requirement already satisfied: pyasn1<0.7.0,>=0.4.6 in /usr/local/lib/python3.10/dist-packages (from pyasn1-modules>=0.2.1->google-auth<3,>=1.6.3->tensorboard<2.16,>=2.15->tensorflow) (0.6.0)\n",
            "Requirement already satisfied: oauthlib>=3.0.0 in /usr/local/lib/python3.10/dist-packages (from requests-oauthlib>=0.7.0->google-auth-oauthlib<2,>=0.5->tensorboard<2.16,>=2.15->tensorflow) (3.2.2)\n",
            "Requirement already satisfied: category_encoders in /usr/local/lib/python3.10/dist-packages (2.6.3)\n",
            "Requirement already satisfied: numpy>=1.14.0 in /usr/local/lib/python3.10/dist-packages (from category_encoders) (1.25.2)\n",
            "Requirement already satisfied: scikit-learn>=0.20.0 in /usr/local/lib/python3.10/dist-packages (from category_encoders) (1.2.2)\n",
            "Requirement already satisfied: scipy>=1.0.0 in /usr/local/lib/python3.10/dist-packages (from category_encoders) (1.11.4)\n",
            "Requirement already satisfied: statsmodels>=0.9.0 in /usr/local/lib/python3.10/dist-packages (from category_encoders) (0.14.2)\n",
            "Requirement already satisfied: pandas>=1.0.5 in /usr/local/lib/python3.10/dist-packages (from category_encoders) (2.0.3)\n",
            "Requirement already satisfied: patsy>=0.5.1 in /usr/local/lib/python3.10/dist-packages (from category_encoders) (0.5.6)\n",
            "Requirement already satisfied: python-dateutil>=2.8.2 in /usr/local/lib/python3.10/dist-packages (from pandas>=1.0.5->category_encoders) (2.8.2)\n",
            "Requirement already satisfied: pytz>=2020.1 in /usr/local/lib/python3.10/dist-packages (from pandas>=1.0.5->category_encoders) (2023.4)\n",
            "Requirement already satisfied: tzdata>=2022.1 in /usr/local/lib/python3.10/dist-packages (from pandas>=1.0.5->category_encoders) (2024.1)\n",
            "Requirement already satisfied: six in /usr/local/lib/python3.10/dist-packages (from patsy>=0.5.1->category_encoders) (1.16.0)\n",
            "Requirement already satisfied: joblib>=1.1.1 in /usr/local/lib/python3.10/dist-packages (from scikit-learn>=0.20.0->category_encoders) (1.4.0)\n",
            "Requirement already satisfied: threadpoolctl>=2.0.0 in /usr/local/lib/python3.10/dist-packages (from scikit-learn>=0.20.0->category_encoders) (3.4.0)\n",
            "Requirement already satisfied: packaging>=21.3 in /usr/local/lib/python3.10/dist-packages (from statsmodels>=0.9.0->category_encoders) (24.0)\n",
            "Requirement already satisfied: rbo in /usr/local/lib/python3.10/dist-packages (0.1.3)\n",
            "Requirement already satisfied: numpy<2.0,>=1.18 in /usr/local/lib/python3.10/dist-packages (from rbo) (1.25.2)\n",
            "Requirement already satisfied: tqdm<5.0.0,>=4.59.0 in /usr/local/lib/python3.10/dist-packages (from rbo) (4.66.2)\n"
          ]
        }
      ],
      "source": [
        "!pip install tensorflow-ranking\n",
        "!pip install tensorflow\n",
        "!pip install category_encoders\n",
        "!pip install rbo"
      ]
    },
    {
      "cell_type": "code",
      "source": [
        "import pandas as pd\n",
        "import numpy as np\n",
        "from google.colab import drive\n",
        "drive.mount('/content/drive')\n",
        "import seaborn as sns\n",
        "import matplotlib.pyplot as plt\n",
        "from tqdm import tqdm\n",
        "\n",
        "import rbo\n",
        "import category_encoders as ce\n",
        "from sklearn.datasets import dump_svmlight_file\n",
        "from sklearn.preprocessing import StandardScaler, OneHotEncoder\n",
        "import xgboost as xgb\n",
        "from sklearn.model_selection import train_test_split\n",
        "\n",
        "from sklearn.linear_model import LogisticRegression\n",
        "from sklearn.compose import ColumnTransformer\n",
        "from sklearn.pipeline import Pipeline\n",
        "from sklearn.impute import SimpleImputer\n",
        "from sklearn.preprocessing import StandardScaler, OneHotEncoder\n",
        "from sklearn.metrics import confusion_matrix, classification_report\n",
        "from sklearn.impute import KNNImputer\n",
        "from sklearn.model_selection import GroupShuffleSplit\n",
        "\n",
        "from sklearn.metrics import ndcg_score\n",
        "\n",
        "import tensorflow as tf\n",
        "from tensorflow.keras import layers, models\n",
        "import tensorflow_ranking as tfr\n",
        "from tensorflow.keras.layers import Input, Concatenate, Embedding, Dense, Dropout, BatchNormalization\n",
        "from tensorflow.keras.models import Model\n",
        "from tensorflow.keras.callbacks import LearningRateScheduler\n",
        "from tensorflow.keras.regularizers import l2"
      ],
      "metadata": {
        "colab": {
          "base_uri": "https://localhost:8080/"
        },
        "id": "W3vphCeMRfgD",
        "outputId": "ff553bd7-ad6d-47b9-f018-7202c03f0bdf"
      },
      "execution_count": 2,
      "outputs": [
        {
          "output_type": "stream",
          "name": "stdout",
          "text": [
            "Drive already mounted at /content/drive; to attempt to forcibly remount, call drive.mount(\"/content/drive\", force_remount=True).\n"
          ]
        }
      ]
    },
    {
      "cell_type": "markdown",
      "source": [
        "### STANDARD RELEVANCE SCORE\n",
        "- 0 (no clicks)\n",
        "- 1 (click)\n",
        "- 2 (transaction)"
      ],
      "metadata": {
        "id": "Ljk_-q0GmvCv"
      }
    },
    {
      "cell_type": "code",
      "source": [
        "X_train_pp = pd.read_csv('/content/drive/MyDrive/Expedia/allRankNew/allRank/expedia_data/Millionrows_allRank/target_relevance/train.csv')\n",
        "y_train_pp = pd.read_csv('/content/drive/MyDrive/Expedia/allRankNew/allRank/expedia_data/Millionrows_allRank/target_relevance/y_train.csv')\n",
        "\n",
        "X_val_pp = pd.read_csv('/content/drive/MyDrive/Expedia/allRankNew/allRank/expedia_data/Millionrows_allRank/target_relevance/vali.csv')\n",
        "y_val_pp = pd.read_csv('/content/drive/MyDrive/Expedia/allRankNew/allRank/expedia_data/Millionrows_allRank/target_relevance/y_vali.csv')\n",
        "\n",
        "X_test_pp = pd.read_csv('/content/drive/MyDrive/Expedia/allRankNew/allRank/expedia_data/Millionrows_allRank/target_relevance/test.csv')\n",
        "y_test_pp = pd.read_csv('/content/drive/MyDrive/Expedia/allRankNew/allRank/expedia_data/Millionrows_allRank/target_relevance/y_test.csv')"
      ],
      "metadata": {
        "id": "xUhWCbfaR6QI"
      },
      "execution_count": 3,
      "outputs": []
    },
    {
      "cell_type": "markdown",
      "source": [
        "### NDCG METRICS FOR THE NEURAL NETWORK"
      ],
      "metadata": {
        "id": "nv6k7pJhSBWX"
      }
    },
    {
      "cell_type": "code",
      "source": [
        "def ndcg_metric_30(y_true, y_pred):\n",
        "    k = 30\n",
        "    y_score = tf.squeeze(y_pred, axis=-1)\n",
        "    y_true = tf.squeeze(y_true, axis=-1)\n",
        "\n",
        "    order = tf.argsort(y_score, direction='DESCENDING')\n",
        "    y_true_sorted = tf.gather(y_true, order)\n",
        "\n",
        "    gain = tf.pow(2.0, y_true_sorted) - 1.0\n",
        "    discounts = tf.math.log(tf.range(tf.shape(y_true_sorted)[0], dtype=tf.float32) + 2.0) / tf.math.log(2.0)\n",
        "\n",
        "    dcg = tf.reduce_sum(gain / discounts)\n",
        "\n",
        "    ideal_order = tf.argsort(y_true, direction='DESCENDING')\n",
        "    ideal_y_true = tf.gather(y_true, ideal_order)[:k]\n",
        "    ideal_gain = tf.pow(2.0, ideal_y_true) - 1.0\n",
        "    ideal_dcg = tf.reduce_sum(ideal_gain / discounts[:tf.shape(ideal_gain)[0]])\n",
        "\n",
        "    ndcg = tf.where(tf.equal(ideal_dcg, 0), 0.0, dcg / ideal_dcg)\n",
        "    return ndcg"
      ],
      "metadata": {
        "id": "EOhWkKq4RiKV"
      },
      "execution_count": 4,
      "outputs": []
    },
    {
      "cell_type": "code",
      "source": [
        "def ndcg_metric_20(y_true, y_pred):\n",
        "    k = 20\n",
        "    y_score = tf.squeeze(y_pred, axis=-1)\n",
        "    y_true = tf.squeeze(y_true, axis=-1)\n",
        "\n",
        "    order = tf.argsort(y_score, direction='DESCENDING')\n",
        "    y_true_sorted = tf.gather(y_true, order)\n",
        "\n",
        "    gain = tf.pow(2.0, y_true_sorted) - 1.0\n",
        "    discounts = tf.math.log(tf.range(tf.shape(y_true_sorted)[0], dtype=tf.float32) + 2.0) / tf.math.log(2.0)\n",
        "\n",
        "    dcg = tf.reduce_sum(gain / discounts)\n",
        "\n",
        "    ideal_order = tf.argsort(y_true, direction='DESCENDING')\n",
        "    ideal_y_true = tf.gather(y_true, ideal_order)[:k]\n",
        "    ideal_gain = tf.pow(2.0, ideal_y_true) - 1.0\n",
        "    ideal_dcg = tf.reduce_sum(ideal_gain / discounts[:tf.shape(ideal_gain)[0]])\n",
        "\n",
        "    ndcg = tf.where(tf.equal(ideal_dcg, 0), 0.0, dcg / ideal_dcg)\n",
        "    return ndcg"
      ],
      "metadata": {
        "id": "UbjnEY1URtsZ"
      },
      "execution_count": 5,
      "outputs": []
    },
    {
      "cell_type": "code",
      "source": [
        "def ndcg_metric_10(y_true, y_pred):\n",
        "    k = 10\n",
        "    y_score = tf.squeeze(y_pred, axis=-1)\n",
        "    y_true = tf.squeeze(y_true, axis=-1)\n",
        "\n",
        "    order = tf.argsort(y_score, direction='DESCENDING')\n",
        "    y_true_sorted = tf.gather(y_true, order)\n",
        "\n",
        "    gain = tf.pow(2.0, y_true_sorted) - 1.0\n",
        "    discounts = tf.math.log(tf.range(tf.shape(y_true_sorted)[0], dtype=tf.float32) + 2.0) / tf.math.log(2.0)\n",
        "\n",
        "    dcg = tf.reduce_sum(gain / discounts)\n",
        "\n",
        "    ideal_order = tf.argsort(y_true, direction='DESCENDING')\n",
        "    ideal_y_true = tf.gather(y_true, ideal_order)[:k]\n",
        "    ideal_gain = tf.pow(2.0, ideal_y_true) - 1.0\n",
        "    ideal_dcg = tf.reduce_sum(ideal_gain / discounts[:tf.shape(ideal_gain)[0]])\n",
        "\n",
        "    ndcg = tf.where(tf.equal(ideal_dcg, 0), 0.0, dcg / ideal_dcg)\n",
        "    return ndcg"
      ],
      "metadata": {
        "id": "qrzgjO_tR0wI"
      },
      "execution_count": 6,
      "outputs": []
    },
    {
      "cell_type": "code",
      "source": [
        "def ndcg_metric_5(y_true, y_pred):\n",
        "    k = 5\n",
        "    y_score = tf.squeeze(y_pred, axis=-1)\n",
        "    y_true = tf.squeeze(y_true, axis=-1)\n",
        "\n",
        "    order = tf.argsort(y_score, direction='DESCENDING')\n",
        "    y_true_sorted = tf.gather(y_true, order)\n",
        "\n",
        "    gain = tf.pow(2.0, y_true_sorted) - 1.0\n",
        "    discounts = tf.math.log(tf.range(tf.shape(y_true_sorted)[0], dtype=tf.float32) + 2.0) / tf.math.log(2.0)\n",
        "\n",
        "    dcg = tf.reduce_sum(gain / discounts)\n",
        "\n",
        "    ideal_order = tf.argsort(y_true, direction='DESCENDING')\n",
        "    ideal_y_true = tf.gather(y_true, ideal_order)[:k]\n",
        "    ideal_gain = tf.pow(2.0, ideal_y_true) - 1.0\n",
        "    ideal_dcg = tf.reduce_sum(ideal_gain / discounts[:tf.shape(ideal_gain)[0]])\n",
        "\n",
        "    ndcg = tf.where(tf.equal(ideal_dcg, 0), 0.0, dcg / ideal_dcg)\n",
        "    return ndcg"
      ],
      "metadata": {
        "id": "h6Mo9KDHR28v"
      },
      "execution_count": 7,
      "outputs": []
    },
    {
      "cell_type": "markdown",
      "source": [
        "### NEURAL NETWORK ARCHITECTURE"
      ],
      "metadata": {
        "id": "jv6tlYWFSFJm"
      }
    },
    {
      "cell_type": "code",
      "source": [
        "query_id_train_pp = X_train_pp['qid']\n",
        "query_id_val_pp = X_val_pp['qid']\n",
        "query_id_test_pp = X_test_pp['qid']\n",
        "\n",
        "\n",
        "X_train_2_pp = X_train_pp.drop(columns=['qid'])\n",
        "X_train_arr_pp = X_train_2_pp.values.astype(float)\n",
        "\n",
        "X_val_2_pp = X_val_pp.drop(columns=['qid'])\n",
        "X_val_arr_pp = X_val_2_pp.values.astype(float)\n",
        "\n",
        "X_test_2_pp = X_test_pp.drop(columns=['qid'])\n",
        "X_test_arr_pp = X_test_2_pp.values.astype(float)\n",
        "\n",
        "\n",
        "y_train_array_pp = y_train_pp.values.astype(int).ravel()\n",
        "y_train_array_pp = y_train_array_pp.flatten().astype(float)\n",
        "\n",
        "y_val_array_pp = y_val_pp.values.astype(int).ravel()\n",
        "y_val_array_pp = y_val_array_pp.flatten().astype(float)\n",
        "\n",
        "y_test_array_pp = y_test_pp.values.astype(int).ravel()\n",
        "y_test_array_pp = y_test_array_pp.flatten().astype(float)"
      ],
      "metadata": {
        "id": "4XbWlYgLSAUr"
      },
      "execution_count": 8,
      "outputs": []
    },
    {
      "cell_type": "code",
      "source": [
        "early_stopping_cb = tf.keras.callbacks.EarlyStopping(patience=5,restore_best_weights=True, monitor='val_ndcg_metric_5', mode='max')\n",
        "\n",
        "np.random.seed(42)\n",
        "tf.random.set_seed(42)\n",
        "\n",
        "# Input layers for features and search_id\n",
        "input_features = Input(shape=(X_train_arr_pp.shape[1],), name='features')\n",
        "input_query_id = Input(shape=(1,), name='search_id')\n",
        "\n",
        "# Embedding or concatenation layer for search_id\n",
        "concatenated_inputs = Concatenate()([input_features, input_query_id])\n",
        "\n",
        "# Define the rest of your model architecture\n",
        "dense_layer_1 = Dense(128, activation='relu')(concatenated_inputs)\n",
        "batch_norm_1 = BatchNormalization()(dense_layer_1)\n",
        "dense_layer_2 = Dense(512, activation='relu')(dense_layer_1)\n",
        "dropout_layer = Dropout(0.3)(dense_layer_2)\n",
        "dense_layer_3 = Dense(1024, activation='relu')(dense_layer_2)\n",
        "dropout_layer = Dropout(0.3)(dense_layer_3)\n",
        "dense_layer_4 = Dense(512, activation='relu')(dense_layer_3)\n",
        "dense_layer_5 = Dense(256, activation='relu')(dense_layer_4)\n",
        "dense_layer_6 = Dense(128, activation='relu')(dense_layer_5)\n",
        "dense_layer_7 = Dense(64, activation='relu')(dense_layer_6)\n",
        "dense_layer_8 = Dense(32, activation='relu')(dense_layer_7)\n",
        "output_layer = Dense(1)(dense_layer_8)\n",
        "\n",
        "#Losses\n",
        "loss_ndcgapprox = tfr.keras.losses.ApproxNDCGLoss(temperature=0.1)\n",
        "loss_clickeml = tfr.keras.losses.ClickEMLoss()\n",
        "\n",
        "#Optimizer\n",
        "optimizer = tf.keras.optimizers.Adam(learning_rate=0.001)\n",
        "\n",
        "# Define the model\n",
        "model = Model(inputs=[input_features, input_query_id], outputs=output_layer)\n",
        "\n",
        "# Compile the model\n",
        "model.compile(optimizer=optimizer, loss=loss_ndcgapprox, metrics=[ndcg_metric_30, ndcg_metric_20, ndcg_metric_10, ndcg_metric_5])\n",
        "\n",
        "# Fit the model with both features and search_id\n",
        "history = model.fit({'features': X_train_arr_pp, 'search_id': query_id_train_pp}, y_train_array_pp,\n",
        "                    epochs=50, validation_data=({'features': X_val_arr_pp, 'search_id': query_id_val_pp}, y_val_array_pp),\n",
        "                    verbose=True, batch_size=64, callbacks=[early_stopping_cb])"
      ],
      "metadata": {
        "id": "gDS_QPO_SRUT"
      },
      "execution_count": null,
      "outputs": []
    },
    {
      "cell_type": "markdown",
      "source": [
        "### NDCG COMPUTATION FOR PREDICTIONS"
      ],
      "metadata": {
        "id": "GHPm0H-GSeM5"
      }
    },
    {
      "cell_type": "code",
      "source": [
        "def ndcg(y_score, y_true, k):\n",
        "    order = np.argsort(y_score)[::-1]\n",
        "    y_true = np.take(y_true, order[:k])\n",
        "\n",
        "    gain = 2 ** y_true - 1\n",
        "\n",
        "    discounts = np.log2(np.arange(len(y_true)) + 2)\n",
        "    return np.sum(gain / discounts)"
      ],
      "metadata": {
        "id": "XuF763zCShQg"
      },
      "execution_count": 60,
      "outputs": []
    },
    {
      "cell_type": "code",
      "source": [
        "y_test_pred = y_test_pp['relevance']\n",
        "query_id_test_pp = X_test_pp['qid']\n",
        "qids = np.unique(query_id_test_pp)\n",
        "\n",
        "ndcg_5 = list()\n",
        "ndcg_10 = list()\n",
        "ndcg_20 = list()\n",
        "ndcg_30 = list()\n",
        "predict_values = list()\n",
        "\n",
        "for i, qid in tqdm(enumerate(qids[:]), total=len(qids)):\n",
        "    query_id_test_pp = X_test_pp['qid']\n",
        "    y = y_test_pred[query_id_test_pp == qid]\n",
        "\n",
        "    if np.sum(y) == 0:\n",
        "        continue\n",
        "\n",
        "    X_test_2_pp = X_test_pp[X_test_pp['qid'] == qid]\n",
        "\n",
        "    query_id_test_pp = X_test_2_pp['qid']\n",
        "\n",
        "    X_test_2_pp = X_test_2_pp.drop(columns=['qid'])\n",
        "    X_test_arr_pp = X_test_2_pp.values.astype(float)\n",
        "\n",
        "    predictions = model.predict({'features': X_test_arr_pp, 'search_id': query_id_test_pp}, verbose=False)\n",
        "    predictions = predictions.flatten()\n",
        "    predict_values.append([predictions])\n",
        "\n",
        "    for i in [5,10,20,30]:\n",
        "      idcg = ndcg(y, y, k=i)\n",
        "      eval(f\"ndcg_{i}\").append(ndcg(predictions, y, k=i) / idcg)\n",
        "\n",
        "\n",
        "print(f'NDCG K5 {np.mean(ndcg_5)}')\n",
        "print(f'NDCG K10 {np.mean(ndcg_10)}')\n",
        "print(f'NDCG K20 {np.mean(ndcg_20)}')\n",
        "print(f'NDCG K30 {np.mean(ndcg_30)}')"
      ],
      "metadata": {
        "colab": {
          "base_uri": "https://localhost:8080/"
        },
        "id": "UQPKBK-ESiQx",
        "outputId": "0679adb5-10fa-4378-99bc-ab647ea02061"
      },
      "execution_count": 12,
      "outputs": [
        {
          "output_type": "stream",
          "name": "stderr",
          "text": [
            "100%|██████████| 12779/12779 [20:54<00:00, 10.18it/s]"
          ]
        },
        {
          "output_type": "stream",
          "name": "stdout",
          "text": [
            "NDCG K5 0.09189581456145615\n",
            "NDCG K10 0.13087893332724962\n",
            "NDCG K20 0.2064624696367247\n",
            "NDCG K30 0.3175791924342896\n"
          ]
        },
        {
          "output_type": "stream",
          "name": "stderr",
          "text": [
            "\n"
          ]
        }
      ]
    },
    {
      "cell_type": "code",
      "source": [
        "unique_qid = X_test_pp['qid'].unique()\n",
        "testtt = X_test_pp[X_test_pp['qid'].isin(unique_qid[:5000])]\n",
        "testtt.shape[0]\n",
        "t_testtt = y_test_pp[:testtt.shape[0]]"
      ],
      "metadata": {
        "colab": {
          "base_uri": "https://localhost:8080/"
        },
        "id": "gDoA6h176N-K",
        "outputId": "253d1126-9f89-41aa-9d8a-034e9377ec8c"
      },
      "execution_count": 61,
      "outputs": [
        {
          "output_type": "execute_result",
          "data": {
            "text/plain": [
              "115181"
            ]
          },
          "metadata": {},
          "execution_count": 61
        }
      ]
    },
    {
      "cell_type": "code",
      "source": [
        "y_test_pred = t_testtt['relevance']\n",
        "query_id_test_pp = testtt['qid']\n",
        "qids = np.unique(query_id_test_pp)\n",
        "\n",
        "ndcg_5 = list()\n",
        "ndcg_10 = list()\n",
        "ndcg_20 = list()\n",
        "ndcg_30 = list()\n",
        "predict_values = list()\n",
        "\n",
        "for i, qid in tqdm(enumerate(qids[:]), total=len(qids)):\n",
        "    query_id_test_pp = testtt['qid']\n",
        "    y = y_test_pred[query_id_test_pp == qid]\n",
        "\n",
        "    if np.sum(y) == 0:\n",
        "        continue\n",
        "\n",
        "    X_test_2_pp = testtt[testtt['qid'] == qid]\n",
        "\n",
        "    query_id_test_pp = X_test_2_pp['qid']\n",
        "\n",
        "    X_test_2_pp = X_test_2_pp.drop(columns=['qid'])\n",
        "    X_test_arr_pp = X_test_2_pp.values.astype(float)\n",
        "\n",
        "    predictions = model.predict({'features': X_test_arr_pp, 'search_id': query_id_test_pp}, verbose=False)\n",
        "    predictions = predictions.flatten()\n",
        "    predict_values.append([predictions])\n",
        "\n",
        "    for i in [5,10,20,30]:\n",
        "      idcg = ndcg(y, y, k=i)\n",
        "      eval(f\"ndcg_{i}\").append(ndcg(predictions, y, k=i) / idcg)\n",
        "\n",
        "\n",
        "print(f'NDCG K5 {np.mean(ndcg_5)}')\n",
        "print(f'NDCG K10 {np.mean(ndcg_10)}')\n",
        "print(f'NDCG K20 {np.mean(ndcg_20)}')\n",
        "print(f'NDCG K30 {np.mean(ndcg_30)}')"
      ],
      "metadata": {
        "colab": {
          "base_uri": "https://localhost:8080/"
        },
        "id": "Z4okznCQrM7W",
        "outputId": "500e000b-3a9a-43a5-9e9a-208fe65e9247"
      },
      "execution_count": 19,
      "outputs": [
        {
          "output_type": "stream",
          "name": "stderr",
          "text": [
            "100%|██████████| 4340/4340 [06:56<00:00, 10.41it/s]\n"
          ]
        },
        {
          "output_type": "stream",
          "name": "stdout",
          "text": [
            "NDCG K5 0.5110292595765948\n",
            "NDCG K10 0.5657914933663625\n",
            "NDCG K20 0.6131877895740369\n",
            "NDCG K30 0.6251830678687013\n"
          ]
        }
      ]
    },
    {
      "cell_type": "code",
      "source": [
        "scratch_nn_andcg = [0.51, 0.57, 0.61, 0.63]"
      ],
      "metadata": {
        "id": "T_EqCojT50p2"
      },
      "execution_count": 64,
      "outputs": []
    },
    {
      "cell_type": "markdown",
      "source": [
        "### PENDING TO COMPUTE RBO"
      ],
      "metadata": {
        "id": "L8sGeI-dTS1a"
      }
    },
    {
      "cell_type": "code",
      "source": [
        "s = [0.4, 0.5, 0.5, 0.3]\n",
        "t = [0.6,0.7,0.7,0.5]\n",
        "\n",
        "rbo.RankingSimilarity(np.argsort(np.array(s)).tolist(),np.argsort(np.array(t)).tolist()).rbo()"
      ],
      "metadata": {
        "id": "K774ZpCwTUXp"
      },
      "execution_count": null,
      "outputs": []
    },
    {
      "cell_type": "markdown",
      "source": [
        "### PLOT COMPARISON"
      ],
      "metadata": {
        "id": "JQ3tu_tRTad_"
      }
    },
    {
      "cell_type": "code",
      "source": [
        "ks = ['K5', 'K10', 'K20', 'K30']\n",
        "\n",
        "scratch_nn_sdg = [0.51, 0.57, 0.61, 0.63]\n",
        "nn_allrank = [0.22, 0.28, 0.36, 0.42]\n",
        "xgboost_ndcg = [0.562, 0.62, 0.66, 0.67]\n",
        "lightgbm_ndcg = [0.57, 0.62, 0.66, 0.68]\n",
        "\n",
        "original_df = [0.47, 0.51, 0.57, 0.61]"
      ],
      "metadata": {
        "id": "6Mylhz4Q631h"
      },
      "execution_count": 34,
      "outputs": []
    },
    {
      "cell_type": "code",
      "source": [
        "plt.style.use('fivethirtyeight')\n",
        "plt.figure(figsize=(10,6))\n",
        "\n",
        "plt.plot(ks, original_df, label='Original DF', alpha=0.7, linestyle='--', marker='o')\n",
        "plt.plot(ks, xgboost_ndcg, label='XGBRanker', alpha=0.7, marker='o')\n",
        "plt.plot(ks, lightgbm_ndcg, label='LGBMRanker', alpha=0.7, marker='o')\n",
        "plt.plot(ks, scratch_nn_sdg, label='Scratch Neural Network', alpha=0.7, marker='o')\n",
        "plt.plot(ks, nn_allrank, label='AllRank Neural Network', alpha=0.7, marker='o')\n",
        "\n",
        "for i, (x, y) in enumerate(zip(ks, original_df)):\n",
        "    plt.text(x, y-0.01, f'{y:.2f}', ha='center', va='top')\n",
        "\n",
        "#for i, (x, y) in enumerate(zip(ks, xgboost_ndcg)):\n",
        " #   plt.text(x, y+0.01, f'{y:.2f}', ha='center', va='bottom')\n",
        "\n",
        "for i, (x, y) in enumerate(zip(ks, lightgbm_ndcg)):\n",
        "    plt.text(x, y+0.01, f'{y:.2f}', ha='center', va='bottom')\n",
        "\n",
        "for i, (x, y) in enumerate(zip(ks, scratch_nn_sdg)):\n",
        "    plt.text(x, y+0.01, f'{y:.2f}', ha='center', va='bottom')\n",
        "\n",
        "for i, (x, y) in enumerate(zip(ks, nn_allrank)):\n",
        "    plt.text(x, y+0.01, f'{y:.2f}', ha='center', va='bottom')\n",
        "\n",
        "plt.title('')\n",
        "plt.ylabel('NDCG Score')\n",
        "plt.xlabel('Ranking')\n",
        "plt.legend(loc='upper left')\n",
        "plt.ylim(0,1)\n",
        "plt.show()"
      ],
      "metadata": {
        "colab": {
          "base_uri": "https://localhost:8080/",
          "height": 603
        },
        "id": "5dCsBzkiIg2r",
        "outputId": "964da6fa-40e4-4844-c50f-13def8b1b4a8"
      },
      "execution_count": 43,
      "outputs": [
        {
          "output_type": "display_data",
          "data": {
            "text/plain": [
              "<Figure size 1000x600 with 1 Axes>"
            ],
            "image/png": "[encoded data removed]"
          },
          "metadata": {}
        }
      ]
    },
    {
      "cell_type": "markdown",
      "source": [
        "### PRICE_BUCKET RELEVANCE SCORE\n",
        "Adding to the traditional relevance score, 1 if price bucket is between 1-3, and 2 if 4-5"
      ],
      "metadata": {
        "id": "jQd7wwPam9UU"
      }
    },
    {
      "cell_type": "code",
      "source": [
        "X_train_pp = pd.read_csv('/content/drive/MyDrive/Expedia/allRankNew/allRank/expedia_data/Millionrows_allRank/target_relevance/train.csv')\n",
        "y_train_pp = pd.read_csv('/content/drive/MyDrive/Expedia/allRankNew/allRank/expedia_data/Millionrows_allRank/target_relevance/y_train.csv')\n",
        "\n",
        "X_val_pp = pd.read_csv('/content/drive/MyDrive/Expedia/allRankNew/allRank/expedia_data/Millionrows_allRank/target_relevance/vali.csv')\n",
        "y_val_pp = pd.read_csv('/content/drive/MyDrive/Expedia/allRankNew/allRank/expedia_data/Millionrows_allRank/target_relevance/y_vali.csv')\n",
        "\n",
        "X_test_pp = pd.read_csv('/content/drive/MyDrive/Expedia/allRankNew/allRank/expedia_data/Millionrows_allRank/target_relevance/test.csv')\n",
        "y_test_pp = pd.read_csv('/content/drive/MyDrive/Expedia/allRankNew/allRank/expedia_data/Millionrows_allRank/target_relevance/y_test.csv')"
      ],
      "metadata": {
        "id": "vAUDbu_3nNh6"
      },
      "execution_count": null,
      "outputs": []
    },
    {
      "cell_type": "code",
      "source": [
        "query_id_train_pp = X_train_pp['qid']\n",
        "query_id_val_pp = X_val_pp['qid']\n",
        "query_id_test_pp = X_test_pp['qid']\n",
        "\n",
        "\n",
        "X_train_2_pp = X_train_pp.drop(columns=['qid'])\n",
        "X_train_arr_pp = X_train_2_pp.values.astype(float)\n",
        "\n",
        "X_val_2_pp = X_val_pp.drop(columns=['qid'])\n",
        "X_val_arr_pp = X_val_2_pp.values.astype(float)\n",
        "\n",
        "X_test_2_pp = X_test_pp.drop(columns=['qid'])\n",
        "X_test_arr_pp = X_test_2_pp.values.astype(float)\n",
        "\n",
        "\n",
        "y_train_array_pp = y_train_pp.values.astype(int).ravel()\n",
        "y_train_array_pp = y_train_array_pp.flatten().astype(float)\n",
        "\n",
        "y_val_array_pp = y_val_pp.values.astype(int).ravel()\n",
        "y_val_array_pp = y_val_array_pp.flatten().astype(float)\n",
        "\n",
        "y_test_array_pp = y_test_pp.values.astype(int).ravel()\n",
        "y_test_array_pp = y_test_array_pp.flatten().astype(float)"
      ],
      "metadata": {
        "id": "FtEEhy49nVHB"
      },
      "execution_count": null,
      "outputs": []
    },
    {
      "cell_type": "code",
      "source": [
        "early_stopping_cb = tf.keras.callbacks.EarlyStopping(patience=2, restore_best_weights=True, monitor='val_ndcg_metric_5', mode='max')\n",
        "\n",
        "np.random.seed(42)\n",
        "tf.random.set_seed(42)\n",
        "\n",
        "# Input layers for features and search_id\n",
        "input_features = Input(shape=(X_train_arr_pp.shape[1],), name='features')\n",
        "input_query_id = Input(shape=(1,), name='search_id')\n",
        "\n",
        "# Embedding or concatenation layer for search_id\n",
        "concatenated_inputs = Concatenate()([input_features, input_query_id])\n",
        "\n",
        "# Define the rest of your model architecture\n",
        "dense_layer_1 = Dense(128, activation='relu')(concatenated_inputs)\n",
        "batch_norm_1 = BatchNormalization()(dense_layer_1)\n",
        "dense_layer_2 = Dense(512, activation='relu')(dense_layer_1)\n",
        "dropout_layer = Dropout(0.3)(dense_layer_2)\n",
        "dense_layer_3 = Dense(1024, activation='relu')(dense_layer_2)\n",
        "dropout_layer = Dropout(0.3)(dense_layer_3)\n",
        "dense_layer_4 = Dense(512, activation='relu')(dense_layer_3)\n",
        "dense_layer_5 = Dense(256, activation='relu')(dense_layer_4)\n",
        "dense_layer_6 = Dense(128, activation='relu')(dense_layer_5)\n",
        "dense_layer_7 = Dense(64, activation='relu')(dense_layer_6)\n",
        "dense_layer_8 = Dense(32, activation='relu')(dense_layer_7)\n",
        "output_layer = Dense(1)(dense_layer_8)\n",
        "\n",
        "#Losses\n",
        "loss_ndcgapprox = tfr.keras.losses.ApproxNDCGLoss(temperature=0.1)\n",
        "loss_clickeml = tfr.keras.losses.ClickEMLoss()\n",
        "\n",
        "#Optimizer\n",
        "optimizer = tf.keras.optimizers.Adam(learning_rate=0.001)\n",
        "\n",
        "# Define the model\n",
        "model = Model(inputs=[input_features, input_query_id], outputs=output_layer)\n",
        "\n",
        "# Compile the model\n",
        "model.compile(optimizer=optimizer, loss=loss_ndcgapprox, metrics=[ndcg_metric_30, ndcg_metric_20, ndcg_metric_10, ndcg_metric_5])\n",
        "\n",
        "# Fit the model with both features and search_id\n",
        "history = model.fit({'features': X_train_arr_pp, 'search_id': query_id_train_pp}, y_train_array_pp,\n",
        "                    epochs=50, validation_data=({'features': X_val_arr_pp, 'search_id': query_id_val_pp}, y_val_array_pp),\n",
        "                    verbose=True, batch_size=64, callbacks=[early_stopping_cb])"
      ],
      "metadata": {
        "colab": {
          "base_uri": "https://localhost:8080/"
        },
        "outputId": "80ba25cc-470b-44c4-b201-86e0ae3d762d",
        "id": "BAMVFrs1nVHB"
      },
      "execution_count": null,
      "outputs": [
        {
          "output_type": "stream",
          "name": "stdout",
          "text": [
            "Epoch 1/50\n",
            "13702/13702 [==============================] - 174s 12ms/step - loss: -0.0719 - ndcg_metric_30: 0.3614 - ndcg_metric_20: 0.3614 - ndcg_metric_10: 0.3615 - ndcg_metric_5: 0.3868 - val_loss: -0.0732 - val_ndcg_metric_30: 0.3181 - val_ndcg_metric_20: 0.3191 - val_ndcg_metric_10: 0.3260 - val_ndcg_metric_5: 0.3589\n",
            "Epoch 2/50\n",
            "13702/13702 [==============================] - 168s 12ms/step - loss: -0.0719 - ndcg_metric_30: 0.3614 - ndcg_metric_20: 0.3614 - ndcg_metric_10: 0.3616 - ndcg_metric_5: 0.3869 - val_loss: -0.0732 - val_ndcg_metric_30: 0.3181 - val_ndcg_metric_20: 0.3191 - val_ndcg_metric_10: 0.3260 - val_ndcg_metric_5: 0.3589\n",
            "Epoch 3/50\n",
            "13702/13702 [==============================] - 168s 12ms/step - loss: -0.0719 - ndcg_metric_30: 0.3613 - ndcg_metric_20: 0.3613 - ndcg_metric_10: 0.3615 - ndcg_metric_5: 0.3870 - val_loss: -0.0732 - val_ndcg_metric_30: 0.3181 - val_ndcg_metric_20: 0.3191 - val_ndcg_metric_10: 0.3260 - val_ndcg_metric_5: 0.3589\n",
            "Epoch 4/50\n",
            "13702/13702 [==============================] - 169s 12ms/step - loss: -0.0719 - ndcg_metric_30: 0.3620 - ndcg_metric_20: 0.3620 - ndcg_metric_10: 0.3622 - ndcg_metric_5: 0.3876 - val_loss: -0.0732 - val_ndcg_metric_30: 0.3181 - val_ndcg_metric_20: 0.3191 - val_ndcg_metric_10: 0.3260 - val_ndcg_metric_5: 0.3589\n"
          ]
        }
      ]
    },
    {
      "cell_type": "code",
      "source": [
        "y_test_pred = y_test_pp['relevance']\n",
        "query_id_test_pp = X_test_pp['qid']\n",
        "qids = np.unique(query_id_test_pp)\n",
        "\n",
        "ndcg_5 = list()\n",
        "ndcg_10 = list()\n",
        "ndcg_20 = list()\n",
        "ndcg_30 = list()\n",
        "predict_values = list()\n",
        "\n",
        "for i, qid in tqdm(enumerate(qids[:]), total=len(qids)):\n",
        "    query_id_test_pp = X_test_pp['qid']\n",
        "    y = y_test_pred[query_id_test_pp == qid]\n",
        "\n",
        "    if np.sum(y) == 0:\n",
        "        continue\n",
        "\n",
        "    X_test_2_pp = X_test_pp[X_test_pp['qid'] == qid]\n",
        "\n",
        "    query_id_test_pp = X_test_2_pp['qid']\n",
        "\n",
        "    X_test_2_pp = X_test_2_pp.drop(columns=['qid'])\n",
        "    X_test_arr_pp = X_test_2_pp.values.astype(float)\n",
        "\n",
        "    predictions = model.predict({'features': X_test_arr_pp, 'search_id': query_id_test_pp}, verbose=False)\n",
        "    predictions = predictions.flatten()\n",
        "    predict_values.append([predictions])\n",
        "\n",
        "    for i in [5,10,20,30]:\n",
        "      idcg = ndcg(y, y, k=i)\n",
        "      eval(f\"ndcg_{i}\").append(ndcg(predictions, y, k=i) / idcg)\n",
        "\n",
        "\n",
        "print(f'NDCG K5 {np.mean(ndcg_5)}')\n",
        "print(f'NDCG K10 {np.mean(ndcg_10)}')\n",
        "print(f'NDCG K20 {np.mean(ndcg_20)}')\n",
        "print(f'NDCG K30 {np.mean(ndcg_30)}')"
      ],
      "metadata": {
        "colab": {
          "base_uri": "https://localhost:8080/"
        },
        "outputId": "0679adb5-10fa-4378-99bc-ab647ea02061",
        "id": "NvpmX5iOndYY"
      },
      "execution_count": null,
      "outputs": [
        {
          "output_type": "stream",
          "name": "stderr",
          "text": [
            " 36%|███▋      | 4649/12779 [07:22<13:13, 10.25it/s]"
          ]
        }
      ]
    },
    {
      "cell_type": "markdown",
      "source": [
        "### REVIEW RATING - REVIEW COUNT RELEVANCE SCORE\n",
        "\n",
        "- If relevance is not equal to 0:\n",
        "    - If review count is greater than 200 and review rating is 4, sum 2\n",
        "    - If review_count is greater than 200 and review rating is 5, sum 3\n",
        "    - If review count is greater than 200 and review rating is 3 or below, deduct 1\n",
        "    - If review count is lower than 200 but review rating is equal to 4 or 5, add 1\n",
        ""
      ],
      "metadata": {
        "id": "ZEU2O8Vwof9g"
      }
    },
    {
      "cell_type": "code",
      "source": [],
      "metadata": {
        "id": "6M5JL_h5p2Rg"
      },
      "execution_count": null,
      "outputs": []
    }
  ]
}