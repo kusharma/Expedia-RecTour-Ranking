{
  "nbformat": 4,
  "nbformat_minor": 0,
  "metadata": {
    "colab": {
      "provenance": [],
      "machine_shape": "hm"
    },
    "kernelspec": {
      "name": "python3",
      "display_name": "Python 3"
    },
    "language_info": {
      "name": "python"
    }
  },
  "cells": [
    {
      "cell_type": "code",
      "execution_count": 1,
      "metadata": {
        "colab": {
          "base_uri": "https://localhost:8080/"
        },
        "id": "qB4UREVyRcpo",
        "outputId": "74e7dd83-92b1-426b-96a2-1c9b96087dc3"
      },
      "outputs": [
        {
          "output_type": "stream",
          "name": "stdout",
          "text": [
            "Collecting tensorflow-ranking\n",
            "  Downloading tensorflow_ranking-0.5.5-py2.py3-none-any.whl (147 kB)\n",
            "\u001b[?25l     \u001b[90m━━━━━━━━━━━━━━━━━━━━━━━━━━━━━━━━━━━━━━━━\u001b[0m \u001b[32m0.0/147.8 kB\u001b[0m \u001b[31m?\u001b[0m eta \u001b[36m-:--:--\u001b[0m\r\u001b[2K     \u001b[91m━━━━━━━━━━━━━━━━━━━━━━━━━━━━━━━━━━━━━━\u001b[0m\u001b[91m╸\u001b[0m\u001b[90m━\u001b[0m \u001b[32m143.4/147.8 kB\u001b[0m \u001b[31m5.8 MB/s\u001b[0m eta \u001b[36m0:00:01\u001b[0m\r\u001b[2K     \u001b[90m━━━━━━━━━━━━━━━━━━━━━━━━━━━━━━━━━━━━━━━━\u001b[0m \u001b[32m147.8/147.8 kB\u001b[0m \u001b[31m3.8 MB/s\u001b[0m eta \u001b[36m0:00:00\u001b[0m\n",
            "\u001b[?25hRequirement already satisfied: absl-py>=0.1.6 in /usr/local/lib/python3.10/dist-packages (from tensorflow-ranking) (1.4.0)\n",
            "Requirement already satisfied: numpy>=1.23.2 in /usr/local/lib/python3.10/dist-packages (from tensorflow-ranking) (1.25.2)\n",
            "Requirement already satisfied: six>=1.10.0 in /usr/local/lib/python3.10/dist-packages (from tensorflow-ranking) (1.16.0)\n",
            "Collecting tensorflow-serving-api<3.0.0,>=2.0.0 (from tensorflow-ranking)\n",
            "  Downloading tensorflow_serving_api-2.16.1-py2.py3-none-any.whl (26 kB)\n",
            "Requirement already satisfied: tensorflow<2.16.0 in /usr/local/lib/python3.10/dist-packages (from tensorflow-ranking) (2.15.0)\n",
            "Requirement already satisfied: astunparse>=1.6.0 in /usr/local/lib/python3.10/dist-packages (from tensorflow<2.16.0->tensorflow-ranking) (1.6.3)\n",
            "Requirement already satisfied: flatbuffers>=23.5.26 in /usr/local/lib/python3.10/dist-packages (from tensorflow<2.16.0->tensorflow-ranking) (24.3.25)\n",
            "Requirement already satisfied: gast!=0.5.0,!=0.5.1,!=0.5.2,>=0.2.1 in /usr/local/lib/python3.10/dist-packages (from tensorflow<2.16.0->tensorflow-ranking) (0.5.4)\n",
            "Requirement already satisfied: google-pasta>=0.1.1 in /usr/local/lib/python3.10/dist-packages (from tensorflow<2.16.0->tensorflow-ranking) (0.2.0)\n",
            "Requirement already satisfied: h5py>=2.9.0 in /usr/local/lib/python3.10/dist-packages (from tensorflow<2.16.0->tensorflow-ranking) (3.9.0)\n",
            "Requirement already satisfied: libclang>=13.0.0 in /usr/local/lib/python3.10/dist-packages (from tensorflow<2.16.0->tensorflow-ranking) (18.1.1)\n",
            "Requirement already satisfied: ml-dtypes~=0.2.0 in /usr/local/lib/python3.10/dist-packages (from tensorflow<2.16.0->tensorflow-ranking) (0.2.0)\n",
            "Requirement already satisfied: opt-einsum>=2.3.2 in /usr/local/lib/python3.10/dist-packages (from tensorflow<2.16.0->tensorflow-ranking) (3.3.0)\n",
            "Requirement already satisfied: packaging in /usr/local/lib/python3.10/dist-packages (from tensorflow<2.16.0->tensorflow-ranking) (24.0)\n",
            "Requirement already satisfied: protobuf!=4.21.0,!=4.21.1,!=4.21.2,!=4.21.3,!=4.21.4,!=4.21.5,<5.0.0dev,>=3.20.3 in /usr/local/lib/python3.10/dist-packages (from tensorflow<2.16.0->tensorflow-ranking) (3.20.3)\n",
            "Requirement already satisfied: setuptools in /usr/local/lib/python3.10/dist-packages (from tensorflow<2.16.0->tensorflow-ranking) (67.7.2)\n",
            "Requirement already satisfied: termcolor>=1.1.0 in /usr/local/lib/python3.10/dist-packages (from tensorflow<2.16.0->tensorflow-ranking) (2.4.0)\n",
            "Requirement already satisfied: typing-extensions>=3.6.6 in /usr/local/lib/python3.10/dist-packages (from tensorflow<2.16.0->tensorflow-ranking) (4.11.0)\n",
            "Requirement already satisfied: wrapt<1.15,>=1.11.0 in /usr/local/lib/python3.10/dist-packages (from tensorflow<2.16.0->tensorflow-ranking) (1.14.1)\n",
            "Requirement already satisfied: tensorflow-io-gcs-filesystem>=0.23.1 in /usr/local/lib/python3.10/dist-packages (from tensorflow<2.16.0->tensorflow-ranking) (0.36.0)\n",
            "Requirement already satisfied: grpcio<2.0,>=1.24.3 in /usr/local/lib/python3.10/dist-packages (from tensorflow<2.16.0->tensorflow-ranking) (1.62.2)\n",
            "Requirement already satisfied: tensorboard<2.16,>=2.15 in /usr/local/lib/python3.10/dist-packages (from tensorflow<2.16.0->tensorflow-ranking) (2.15.2)\n",
            "Requirement already satisfied: tensorflow-estimator<2.16,>=2.15.0 in /usr/local/lib/python3.10/dist-packages (from tensorflow<2.16.0->tensorflow-ranking) (2.15.0)\n",
            "Requirement already satisfied: keras<2.16,>=2.15.0 in /usr/local/lib/python3.10/dist-packages (from tensorflow<2.16.0->tensorflow-ranking) (2.15.0)\n",
            "INFO: pip is looking at multiple versions of tensorflow-serving-api to determine which version is compatible with other requirements. This could take a while.\n",
            "  Downloading tensorflow_serving_api-2.15.1-py2.py3-none-any.whl (26 kB)\n",
            "Collecting tensorflow<2.16.0 (from tensorflow-ranking)\n",
            "  Downloading tensorflow-2.15.1-cp310-cp310-manylinux_2_17_x86_64.manylinux2014_x86_64.whl (475.2 MB)\n",
            "\u001b[2K     \u001b[90m━━━━━━━━━━━━━━━━━━━━━━━━━━━━━━━━━━━━━━━━\u001b[0m \u001b[32m475.2/475.2 MB\u001b[0m \u001b[31m2.0 MB/s\u001b[0m eta \u001b[36m0:00:00\u001b[0m\n",
            "\u001b[?25hCollecting ml-dtypes~=0.3.1 (from tensorflow<2.16.0->tensorflow-ranking)\n",
            "  Downloading ml_dtypes-0.3.2-cp310-cp310-manylinux_2_17_x86_64.manylinux2014_x86_64.whl (2.2 MB)\n",
            "\u001b[2K     \u001b[90m━━━━━━━━━━━━━━━━━━━━━━━━━━━━━━━━━━━━━━━━\u001b[0m \u001b[32m2.2/2.2 MB\u001b[0m \u001b[31m58.8 MB/s\u001b[0m eta \u001b[36m0:00:00\u001b[0m\n",
            "\u001b[?25hRequirement already satisfied: wheel<1.0,>=0.23.0 in /usr/local/lib/python3.10/dist-packages (from astunparse>=1.6.0->tensorflow<2.16.0->tensorflow-ranking) (0.43.0)\n",
            "Requirement already satisfied: google-auth<3,>=1.6.3 in /usr/local/lib/python3.10/dist-packages (from tensorboard<2.16,>=2.15->tensorflow<2.16.0->tensorflow-ranking) (2.27.0)\n",
            "Requirement already satisfied: google-auth-oauthlib<2,>=0.5 in /usr/local/lib/python3.10/dist-packages (from tensorboard<2.16,>=2.15->tensorflow<2.16.0->tensorflow-ranking) (1.2.0)\n",
            "Requirement already satisfied: markdown>=2.6.8 in /usr/local/lib/python3.10/dist-packages (from tensorboard<2.16,>=2.15->tensorflow<2.16.0->tensorflow-ranking) (3.6)\n",
            "Requirement already satisfied: requests<3,>=2.21.0 in /usr/local/lib/python3.10/dist-packages (from tensorboard<2.16,>=2.15->tensorflow<2.16.0->tensorflow-ranking) (2.31.0)\n",
            "Requirement already satisfied: tensorboard-data-server<0.8.0,>=0.7.0 in /usr/local/lib/python3.10/dist-packages (from tensorboard<2.16,>=2.15->tensorflow<2.16.0->tensorflow-ranking) (0.7.2)\n",
            "Requirement already satisfied: werkzeug>=1.0.1 in /usr/local/lib/python3.10/dist-packages (from tensorboard<2.16,>=2.15->tensorflow<2.16.0->tensorflow-ranking) (3.0.2)\n",
            "Requirement already satisfied: cachetools<6.0,>=2.0.0 in /usr/local/lib/python3.10/dist-packages (from google-auth<3,>=1.6.3->tensorboard<2.16,>=2.15->tensorflow<2.16.0->tensorflow-ranking) (5.3.3)\n",
            "Requirement already satisfied: pyasn1-modules>=0.2.1 in /usr/local/lib/python3.10/dist-packages (from google-auth<3,>=1.6.3->tensorboard<2.16,>=2.15->tensorflow<2.16.0->tensorflow-ranking) (0.4.0)\n",
            "Requirement already satisfied: rsa<5,>=3.1.4 in /usr/local/lib/python3.10/dist-packages (from google-auth<3,>=1.6.3->tensorboard<2.16,>=2.15->tensorflow<2.16.0->tensorflow-ranking) (4.9)\n",
            "Requirement already satisfied: requests-oauthlib>=0.7.0 in /usr/local/lib/python3.10/dist-packages (from google-auth-oauthlib<2,>=0.5->tensorboard<2.16,>=2.15->tensorflow<2.16.0->tensorflow-ranking) (1.3.1)\n",
            "Requirement already satisfied: charset-normalizer<4,>=2 in /usr/local/lib/python3.10/dist-packages (from requests<3,>=2.21.0->tensorboard<2.16,>=2.15->tensorflow<2.16.0->tensorflow-ranking) (3.3.2)\n",
            "Requirement already satisfied: idna<4,>=2.5 in /usr/local/lib/python3.10/dist-packages (from requests<3,>=2.21.0->tensorboard<2.16,>=2.15->tensorflow<2.16.0->tensorflow-ranking) (3.7)\n",
            "Requirement already satisfied: urllib3<3,>=1.21.1 in /usr/local/lib/python3.10/dist-packages (from requests<3,>=2.21.0->tensorboard<2.16,>=2.15->tensorflow<2.16.0->tensorflow-ranking) (2.0.7)\n",
            "Requirement already satisfied: certifi>=2017.4.17 in /usr/local/lib/python3.10/dist-packages (from requests<3,>=2.21.0->tensorboard<2.16,>=2.15->tensorflow<2.16.0->tensorflow-ranking) (2024.2.2)\n",
            "Requirement already satisfied: MarkupSafe>=2.1.1 in /usr/local/lib/python3.10/dist-packages (from werkzeug>=1.0.1->tensorboard<2.16,>=2.15->tensorflow<2.16.0->tensorflow-ranking) (2.1.5)\n",
            "Requirement already satisfied: pyasn1<0.7.0,>=0.4.6 in /usr/local/lib/python3.10/dist-packages (from pyasn1-modules>=0.2.1->google-auth<3,>=1.6.3->tensorboard<2.16,>=2.15->tensorflow<2.16.0->tensorflow-ranking) (0.6.0)\n",
            "Requirement already satisfied: oauthlib>=3.0.0 in /usr/local/lib/python3.10/dist-packages (from requests-oauthlib>=0.7.0->google-auth-oauthlib<2,>=0.5->tensorboard<2.16,>=2.15->tensorflow<2.16.0->tensorflow-ranking) (3.2.2)\n",
            "Installing collected packages: ml-dtypes, tensorflow, tensorflow-serving-api, tensorflow-ranking\n",
            "  Attempting uninstall: ml-dtypes\n",
            "    Found existing installation: ml-dtypes 0.2.0\n",
            "    Uninstalling ml-dtypes-0.2.0:\n",
            "      Successfully uninstalled ml-dtypes-0.2.0\n",
            "  Attempting uninstall: tensorflow\n",
            "    Found existing installation: tensorflow 2.15.0\n",
            "    Uninstalling tensorflow-2.15.0:\n",
            "      Successfully uninstalled tensorflow-2.15.0\n",
            "Successfully installed ml-dtypes-0.3.2 tensorflow-2.15.1 tensorflow-ranking-0.5.5 tensorflow-serving-api-2.15.1\n",
            "Requirement already satisfied: tensorflow in /usr/local/lib/python3.10/dist-packages (2.15.1)\n",
            "Requirement already satisfied: absl-py>=1.0.0 in /usr/local/lib/python3.10/dist-packages (from tensorflow) (1.4.0)\n",
            "Requirement already satisfied: astunparse>=1.6.0 in /usr/local/lib/python3.10/dist-packages (from tensorflow) (1.6.3)\n",
            "Requirement already satisfied: flatbuffers>=23.5.26 in /usr/local/lib/python3.10/dist-packages (from tensorflow) (24.3.25)\n",
            "Requirement already satisfied: gast!=0.5.0,!=0.5.1,!=0.5.2,>=0.2.1 in /usr/local/lib/python3.10/dist-packages (from tensorflow) (0.5.4)\n",
            "Requirement already satisfied: google-pasta>=0.1.1 in /usr/local/lib/python3.10/dist-packages (from tensorflow) (0.2.0)\n",
            "Requirement already satisfied: h5py>=2.9.0 in /usr/local/lib/python3.10/dist-packages (from tensorflow) (3.9.0)\n",
            "Requirement already satisfied: libclang>=13.0.0 in /usr/local/lib/python3.10/dist-packages (from tensorflow) (18.1.1)\n",
            "Requirement already satisfied: ml-dtypes~=0.3.1 in /usr/local/lib/python3.10/dist-packages (from tensorflow) (0.3.2)\n",
            "Requirement already satisfied: numpy<2.0.0,>=1.23.5 in /usr/local/lib/python3.10/dist-packages (from tensorflow) (1.25.2)\n",
            "Requirement already satisfied: opt-einsum>=2.3.2 in /usr/local/lib/python3.10/dist-packages (from tensorflow) (3.3.0)\n",
            "Requirement already satisfied: packaging in /usr/local/lib/python3.10/dist-packages (from tensorflow) (24.0)\n",
            "Requirement already satisfied: protobuf!=4.21.0,!=4.21.1,!=4.21.2,!=4.21.3,!=4.21.4,!=4.21.5,<5.0.0dev,>=3.20.3 in /usr/local/lib/python3.10/dist-packages (from tensorflow) (3.20.3)\n",
            "Requirement already satisfied: setuptools in /usr/local/lib/python3.10/dist-packages (from tensorflow) (67.7.2)\n",
            "Requirement already satisfied: six>=1.12.0 in /usr/local/lib/python3.10/dist-packages (from tensorflow) (1.16.0)\n",
            "Requirement already satisfied: termcolor>=1.1.0 in /usr/local/lib/python3.10/dist-packages (from tensorflow) (2.4.0)\n",
            "Requirement already satisfied: typing-extensions>=3.6.6 in /usr/local/lib/python3.10/dist-packages (from tensorflow) (4.11.0)\n",
            "Requirement already satisfied: wrapt<1.15,>=1.11.0 in /usr/local/lib/python3.10/dist-packages (from tensorflow) (1.14.1)\n",
            "Requirement already satisfied: tensorflow-io-gcs-filesystem>=0.23.1 in /usr/local/lib/python3.10/dist-packages (from tensorflow) (0.36.0)\n",
            "Requirement already satisfied: grpcio<2.0,>=1.24.3 in /usr/local/lib/python3.10/dist-packages (from tensorflow) (1.62.2)\n",
            "Requirement already satisfied: tensorboard<2.16,>=2.15 in /usr/local/lib/python3.10/dist-packages (from tensorflow) (2.15.2)\n",
            "Requirement already satisfied: tensorflow-estimator<2.16,>=2.15.0 in /usr/local/lib/python3.10/dist-packages (from tensorflow) (2.15.0)\n",
            "Requirement already satisfied: keras<2.16,>=2.15.0 in /usr/local/lib/python3.10/dist-packages (from tensorflow) (2.15.0)\n",
            "Requirement already satisfied: wheel<1.0,>=0.23.0 in /usr/local/lib/python3.10/dist-packages (from astunparse>=1.6.0->tensorflow) (0.43.0)\n",
            "Requirement already satisfied: google-auth<3,>=1.6.3 in /usr/local/lib/python3.10/dist-packages (from tensorboard<2.16,>=2.15->tensorflow) (2.27.0)\n",
            "Requirement already satisfied: google-auth-oauthlib<2,>=0.5 in /usr/local/lib/python3.10/dist-packages (from tensorboard<2.16,>=2.15->tensorflow) (1.2.0)\n",
            "Requirement already satisfied: markdown>=2.6.8 in /usr/local/lib/python3.10/dist-packages (from tensorboard<2.16,>=2.15->tensorflow) (3.6)\n",
            "Requirement already satisfied: requests<3,>=2.21.0 in /usr/local/lib/python3.10/dist-packages (from tensorboard<2.16,>=2.15->tensorflow) (2.31.0)\n",
            "Requirement already satisfied: tensorboard-data-server<0.8.0,>=0.7.0 in /usr/local/lib/python3.10/dist-packages (from tensorboard<2.16,>=2.15->tensorflow) (0.7.2)\n",
            "Requirement already satisfied: werkzeug>=1.0.1 in /usr/local/lib/python3.10/dist-packages (from tensorboard<2.16,>=2.15->tensorflow) (3.0.2)\n",
            "Requirement already satisfied: cachetools<6.0,>=2.0.0 in /usr/local/lib/python3.10/dist-packages (from google-auth<3,>=1.6.3->tensorboard<2.16,>=2.15->tensorflow) (5.3.3)\n",
            "Requirement already satisfied: pyasn1-modules>=0.2.1 in /usr/local/lib/python3.10/dist-packages (from google-auth<3,>=1.6.3->tensorboard<2.16,>=2.15->tensorflow) (0.4.0)\n",
            "Requirement already satisfied: rsa<5,>=3.1.4 in /usr/local/lib/python3.10/dist-packages (from google-auth<3,>=1.6.3->tensorboard<2.16,>=2.15->tensorflow) (4.9)\n",
            "Requirement already satisfied: requests-oauthlib>=0.7.0 in /usr/local/lib/python3.10/dist-packages (from google-auth-oauthlib<2,>=0.5->tensorboard<2.16,>=2.15->tensorflow) (1.3.1)\n",
            "Requirement already satisfied: charset-normalizer<4,>=2 in /usr/local/lib/python3.10/dist-packages (from requests<3,>=2.21.0->tensorboard<2.16,>=2.15->tensorflow) (3.3.2)\n",
            "Requirement already satisfied: idna<4,>=2.5 in /usr/local/lib/python3.10/dist-packages (from requests<3,>=2.21.0->tensorboard<2.16,>=2.15->tensorflow) (3.7)\n",
            "Requirement already satisfied: urllib3<3,>=1.21.1 in /usr/local/lib/python3.10/dist-packages (from requests<3,>=2.21.0->tensorboard<2.16,>=2.15->tensorflow) (2.0.7)\n",
            "Requirement already satisfied: certifi>=2017.4.17 in /usr/local/lib/python3.10/dist-packages (from requests<3,>=2.21.0->tensorboard<2.16,>=2.15->tensorflow) (2024.2.2)\n",
            "Requirement already satisfied: MarkupSafe>=2.1.1 in /usr/local/lib/python3.10/dist-packages (from werkzeug>=1.0.1->tensorboard<2.16,>=2.15->tensorflow) (2.1.5)\n",
            "Requirement already satisfied: pyasn1<0.7.0,>=0.4.6 in /usr/local/lib/python3.10/dist-packages (from pyasn1-modules>=0.2.1->google-auth<3,>=1.6.3->tensorboard<2.16,>=2.15->tensorflow) (0.6.0)\n",
            "Requirement already satisfied: oauthlib>=3.0.0 in /usr/local/lib/python3.10/dist-packages (from requests-oauthlib>=0.7.0->google-auth-oauthlib<2,>=0.5->tensorboard<2.16,>=2.15->tensorflow) (3.2.2)\n",
            "Collecting category_encoders\n",
            "  Downloading category_encoders-2.6.3-py2.py3-none-any.whl (81 kB)\n",
            "\u001b[2K     \u001b[90m━━━━━━━━━━━━━━━━━━━━━━━━━━━━━━━━━━━━━━━━\u001b[0m \u001b[32m81.9/81.9 kB\u001b[0m \u001b[31m2.8 MB/s\u001b[0m eta \u001b[36m0:00:00\u001b[0m\n",
            "\u001b[?25hRequirement already satisfied: numpy>=1.14.0 in /usr/local/lib/python3.10/dist-packages (from category_encoders) (1.25.2)\n",
            "Requirement already satisfied: scikit-learn>=0.20.0 in /usr/local/lib/python3.10/dist-packages (from category_encoders) (1.2.2)\n",
            "Requirement already satisfied: scipy>=1.0.0 in /usr/local/lib/python3.10/dist-packages (from category_encoders) (1.11.4)\n",
            "Requirement already satisfied: statsmodels>=0.9.0 in /usr/local/lib/python3.10/dist-packages (from category_encoders) (0.14.2)\n",
            "Requirement already satisfied: pandas>=1.0.5 in /usr/local/lib/python3.10/dist-packages (from category_encoders) (2.0.3)\n",
            "Requirement already satisfied: patsy>=0.5.1 in /usr/local/lib/python3.10/dist-packages (from category_encoders) (0.5.6)\n",
            "Requirement already satisfied: python-dateutil>=2.8.2 in /usr/local/lib/python3.10/dist-packages (from pandas>=1.0.5->category_encoders) (2.8.2)\n",
            "Requirement already satisfied: pytz>=2020.1 in /usr/local/lib/python3.10/dist-packages (from pandas>=1.0.5->category_encoders) (2023.4)\n",
            "Requirement already satisfied: tzdata>=2022.1 in /usr/local/lib/python3.10/dist-packages (from pandas>=1.0.5->category_encoders) (2024.1)\n",
            "Requirement already satisfied: six in /usr/local/lib/python3.10/dist-packages (from patsy>=0.5.1->category_encoders) (1.16.0)\n",
            "Requirement already satisfied: joblib>=1.1.1 in /usr/local/lib/python3.10/dist-packages (from scikit-learn>=0.20.0->category_encoders) (1.4.0)\n",
            "Requirement already satisfied: threadpoolctl>=2.0.0 in /usr/local/lib/python3.10/dist-packages (from scikit-learn>=0.20.0->category_encoders) (3.4.0)\n",
            "Requirement already satisfied: packaging>=21.3 in /usr/local/lib/python3.10/dist-packages (from statsmodels>=0.9.0->category_encoders) (24.0)\n",
            "Installing collected packages: category_encoders\n",
            "Successfully installed category_encoders-2.6.3\n",
            "Collecting rbo\n",
            "  Downloading rbo-0.1.3-py3-none-any.whl (7.8 kB)\n",
            "Requirement already satisfied: numpy<2.0,>=1.18 in /usr/local/lib/python3.10/dist-packages (from rbo) (1.25.2)\n",
            "Requirement already satisfied: tqdm<5.0.0,>=4.59.0 in /usr/local/lib/python3.10/dist-packages (from rbo) (4.66.2)\n",
            "Installing collected packages: rbo\n",
            "Successfully installed rbo-0.1.3\n"
          ]
        }
      ],
      "source": [
        "!pip install tensorflow-ranking\n",
        "!pip install tensorflow\n",
        "!pip install category_encoders\n",
        "!pip install rbo"
      ]
    },
    {
      "cell_type": "code",
      "source": [
        "import pandas as pd\n",
        "import numpy as np\n",
        "from google.colab import drive\n",
        "drive.mount('/content/drive')\n",
        "import seaborn as sns\n",
        "import matplotlib.pyplot as plt\n",
        "from tqdm import tqdm\n",
        "\n",
        "import rbo\n",
        "import category_encoders as ce\n",
        "from sklearn.datasets import dump_svmlight_file\n",
        "from sklearn.preprocessing import StandardScaler, OneHotEncoder\n",
        "import xgboost as xgb\n",
        "from sklearn.model_selection import train_test_split\n",
        "\n",
        "from sklearn.linear_model import LogisticRegression\n",
        "from sklearn.compose import ColumnTransformer\n",
        "from sklearn.pipeline import Pipeline\n",
        "from sklearn.impute import SimpleImputer\n",
        "from sklearn.preprocessing import StandardScaler, OneHotEncoder\n",
        "from sklearn.metrics import confusion_matrix, classification_report\n",
        "from sklearn.impute import KNNImputer\n",
        "from sklearn.model_selection import GroupShuffleSplit\n",
        "\n",
        "from sklearn.metrics import ndcg_score\n",
        "\n",
        "import tensorflow as tf\n",
        "from tensorflow.keras import layers, models\n",
        "import tensorflow_ranking as tfr\n",
        "from tensorflow.keras.layers import Input, Concatenate, Embedding, Dense, Dropout, BatchNormalization\n",
        "from tensorflow.keras.models import Model\n",
        "from tensorflow.keras.callbacks import LearningRateScheduler\n",
        "from tensorflow.keras.regularizers import l2"
      ],
      "metadata": {
        "colab": {
          "base_uri": "https://localhost:8080/"
        },
        "id": "W3vphCeMRfgD",
        "outputId": "52df4623-91c0-4178-9ccc-73fc6bc77857"
      },
      "execution_count": 2,
      "outputs": [
        {
          "output_type": "stream",
          "name": "stdout",
          "text": [
            "Mounted at /content/drive\n"
          ]
        }
      ]
    },
    {
      "cell_type": "markdown",
      "source": [
        "### STANDARD RELEVANCE SCORE\n",
        "- 0 (no clicks)\n",
        "- 1 (click)\n",
        "- 2 (transaction)"
      ],
      "metadata": {
        "id": "Ljk_-q0GmvCv"
      }
    },
    {
      "cell_type": "code",
      "source": [
        "X_train_pp = pd.read_csv('/content/drive/MyDrive/Expedia/allRankNew/allRank/expedia_data/Millionrows_allRank/target_relevance/train.csv')\n",
        "y_train_pp = pd.read_csv('/content/drive/MyDrive/Expedia/allRankNew/allRank/expedia_data/Millionrows_allRank/target_relevance/y_train.csv')\n",
        "\n",
        "X_val_pp = pd.read_csv('/content/drive/MyDrive/Expedia/allRankNew/allRank/expedia_data/Millionrows_allRank/target_relevance/vali.csv')\n",
        "y_val_pp = pd.read_csv('/content/drive/MyDrive/Expedia/allRankNew/allRank/expedia_data/Millionrows_allRank/target_relevance/y_vali.csv')\n",
        "\n",
        "X_test_pp = pd.read_csv('/content/drive/MyDrive/Expedia/allRankNew/allRank/expedia_data/Millionrows_allRank/target_relevance/test.csv')\n",
        "y_test_pp = pd.read_csv('/content/drive/MyDrive/Expedia/allRankNew/allRank/expedia_data/Millionrows_allRank/target_relevance/y_test.csv')"
      ],
      "metadata": {
        "id": "xUhWCbfaR6QI"
      },
      "execution_count": 15,
      "outputs": []
    },
    {
      "cell_type": "markdown",
      "source": [
        "### NDCG METRICS FOR THE NEURAL NETWORK"
      ],
      "metadata": {
        "id": "nv6k7pJhSBWX"
      }
    },
    {
      "cell_type": "code",
      "source": [
        "pd.set_option('display.max_columns', None)"
      ],
      "metadata": {
        "id": "CjR6PWNRiGHZ"
      },
      "execution_count": 16,
      "outputs": []
    },
    {
      "cell_type": "code",
      "source": [
        "X_train_pp.head()"
      ],
      "metadata": {
        "colab": {
          "base_uri": "https://localhost:8080/",
          "height": 221
        },
        "id": "pHQ6spbZh2pP",
        "outputId": "5cb3e3af-e46c-4d17-abd7-9a90ed2220b4"
      },
      "execution_count": 17,
      "outputs": [
        {
          "output_type": "execute_result",
          "data": {
            "text/plain": [
              "   qid  is_mobile  adult_count  child_count  length_of_stay  booking_window  \\\n",
              "0   47          0     1.020496          1.0       -0.315826       -0.393425   \n",
              "1   47          0     1.020496          1.0       -0.315826       -0.393425   \n",
              "2   47          0     1.020496          1.0       -0.315826       -0.393425   \n",
              "3   47          0     1.020496          1.0       -0.315826       -0.393425   \n",
              "4   47          0     1.020496          1.0       -0.315826       -0.393425   \n",
              "\n",
              "   review_rating  review_count  star_rating  is_free_cancellation  is_drr  \\\n",
              "0              4     -0.157157            3                     1       0   \n",
              "1              4     -0.157157            3                     1       1   \n",
              "2              5     -0.128536            4                     1       0   \n",
              "3              4     -0.347965            4                     1       0   \n",
              "4              4     -0.395666            4                     1       0   \n",
              "\n",
              "   price_bucket  rank_noad  AirConditioning  AirportTransfer  Bar  \\\n",
              "0             2        1.0                1                0    1   \n",
              "1             1        2.0                0                0    0   \n",
              "2             3        3.0                0                0    1   \n",
              "3             5        4.0                0                0    1   \n",
              "4             4        5.0                0                0    1   \n",
              "\n",
              "   FreeAirportTransportation  FreeBreakfast  FreeParking  FreeWiFi  Gym  \\\n",
              "0                          0              0            0         1    1   \n",
              "1                          0              1            0         1    1   \n",
              "2                          0              1            0         1    1   \n",
              "3                          0              0            0         0    1   \n",
              "4                          0              0            0         0    0   \n",
              "\n",
              "   HighSpeedInternet  HotTub  LaundryFacility  Parking  PetsAllowed  \\\n",
              "0                  1       0                1        1            0   \n",
              "1                  1       0                1        1            1   \n",
              "2                  1       1                1        1            0   \n",
              "3                  0       0                1        1            1   \n",
              "4                  0       0                1        1            0   \n",
              "\n",
              "   PrivatePool  SpaServices  SwimmingPool  WasherDryer  WiFi  \\\n",
              "0            0            0             1            0     0   \n",
              "1            0            0             0            0     0   \n",
              "2            0            0             1            0     0   \n",
              "3            0            0             0            0     1   \n",
              "4            0            0             0            0     1   \n",
              "\n",
              "   number_of_amenities  point_of_sale_target  geo_location_country_target  \\\n",
              "0                    8              0.079125                     0.074679   \n",
              "1                    7              0.079125                     0.074679   \n",
              "2                    9              0.079125                     0.074679   \n",
              "3                    6              0.079125                     0.074679   \n",
              "4                    4              0.079125                     0.074679   \n",
              "\n",
              "   destination_id_target  prop_id_target  checkin_day_0  checkin_day_1  \\\n",
              "0               0.095423        0.075758          False          False   \n",
              "1               0.095423        0.115730          False          False   \n",
              "2               0.095423        0.224597          False          False   \n",
              "3               0.095423        0.018275          False          False   \n",
              "4               0.095423        0.073171          False          False   \n",
              "\n",
              "   checkin_day_2  checkin_day_3  checkin_day_4  checkin_day_5  checkin_day_6  \\\n",
              "0          False          False          False           True          False   \n",
              "1          False          False          False           True          False   \n",
              "2          False          False          False           True          False   \n",
              "3          False          False          False           True          False   \n",
              "4          False          False          False           True          False   \n",
              "\n",
              "   checkout_day_0  checkout_day_1  checkout_day_2  checkout_day_3  \\\n",
              "0           False           False           False           False   \n",
              "1           False           False           False           False   \n",
              "2           False           False           False           False   \n",
              "3           False           False           False           False   \n",
              "4           False           False           False           False   \n",
              "\n",
              "   checkout_day_4  checkout_day_5  checkout_day_6  checkin_month_1  \\\n",
              "0           False            True           False            False   \n",
              "1           False            True           False            False   \n",
              "2           False            True           False            False   \n",
              "3           False            True           False            False   \n",
              "4           False            True           False            False   \n",
              "\n",
              "   checkin_month_2  checkin_month_3  checkin_month_4  checkin_month_5  \\\n",
              "0            False            False            False            False   \n",
              "1            False            False            False            False   \n",
              "2            False            False            False            False   \n",
              "3            False            False            False            False   \n",
              "4            False            False            False            False   \n",
              "\n",
              "   checkin_month_6  checkin_month_7  checkin_month_8  checkin_month_9  \\\n",
              "0            False             True            False            False   \n",
              "1            False             True            False            False   \n",
              "2            False             True            False            False   \n",
              "3            False             True            False            False   \n",
              "4            False             True            False            False   \n",
              "\n",
              "   checkin_month_10  checkin_month_11  checkin_month_12  \n",
              "0             False             False             False  \n",
              "1             False             False             False  \n",
              "2             False             False             False  \n",
              "3             False             False             False  \n",
              "4             False             False             False  "
            ],
            "text/html": [
              "\n",
              "  <div id=\"df-4eecbfad-b8e0-4f4c-ab47-994851c70126\" class=\"colab-df-container\">\n",
              "    <div>\n",
              "<style scoped>\n",
              "    .dataframe tbody tr th:only-of-type {\n",
              "        vertical-align: middle;\n",
              "    }\n",
              "\n",
              "    .dataframe tbody tr th {\n",
              "        vertical-align: top;\n",
              "    }\n",
              "\n",
              "    .dataframe thead th {\n",
              "        text-align: right;\n",
              "    }\n",
              "</style>\n",
              "<table border=\"1\" class=\"dataframe\">\n",
              "  <thead>\n",
              "    <tr style=\"text-align: right;\">\n",
              "      <th></th>\n",
              "      <th>qid</th>\n",
              "      <th>is_mobile</th>\n",
              "      <th>adult_count</th>\n",
              "      <th>child_count</th>\n",
              "      <th>length_of_stay</th>\n",
              "      <th>booking_window</th>\n",
              "      <th>review_rating</th>\n",
              "      <th>review_count</th>\n",
              "      <th>star_rating</th>\n",
              "      <th>is_free_cancellation</th>\n",
              "      <th>is_drr</th>\n",
              "      <th>price_bucket</th>\n",
              "      <th>rank_noad</th>\n",
              "      <th>AirConditioning</th>\n",
              "      <th>AirportTransfer</th>\n",
              "      <th>Bar</th>\n",
              "      <th>FreeAirportTransportation</th>\n",
              "      <th>FreeBreakfast</th>\n",
              "      <th>FreeParking</th>\n",
              "      <th>FreeWiFi</th>\n",
              "      <th>Gym</th>\n",
              "      <th>HighSpeedInternet</th>\n",
              "      <th>HotTub</th>\n",
              "      <th>LaundryFacility</th>\n",
              "      <th>Parking</th>\n",
              "      <th>PetsAllowed</th>\n",
              "      <th>PrivatePool</th>\n",
              "      <th>SpaServices</th>\n",
              "      <th>SwimmingPool</th>\n",
              "      <th>WasherDryer</th>\n",
              "      <th>WiFi</th>\n",
              "      <th>number_of_amenities</th>\n",
              "      <th>point_of_sale_target</th>\n",
              "      <th>geo_location_country_target</th>\n",
              "      <th>destination_id_target</th>\n",
              "      <th>prop_id_target</th>\n",
              "      <th>checkin_day_0</th>\n",
              "      <th>checkin_day_1</th>\n",
              "      <th>checkin_day_2</th>\n",
              "      <th>checkin_day_3</th>\n",
              "      <th>checkin_day_4</th>\n",
              "      <th>checkin_day_5</th>\n",
              "      <th>checkin_day_6</th>\n",
              "      <th>checkout_day_0</th>\n",
              "      <th>checkout_day_1</th>\n",
              "      <th>checkout_day_2</th>\n",
              "      <th>checkout_day_3</th>\n",
              "      <th>checkout_day_4</th>\n",
              "      <th>checkout_day_5</th>\n",
              "      <th>checkout_day_6</th>\n",
              "      <th>checkin_month_1</th>\n",
              "      <th>checkin_month_2</th>\n",
              "      <th>checkin_month_3</th>\n",
              "      <th>checkin_month_4</th>\n",
              "      <th>checkin_month_5</th>\n",
              "      <th>checkin_month_6</th>\n",
              "      <th>checkin_month_7</th>\n",
              "      <th>checkin_month_8</th>\n",
              "      <th>checkin_month_9</th>\n",
              "      <th>checkin_month_10</th>\n",
              "      <th>checkin_month_11</th>\n",
              "      <th>checkin_month_12</th>\n",
              "    </tr>\n",
              "  </thead>\n",
              "  <tbody>\n",
              "    <tr>\n",
              "      <th>0</th>\n",
              "      <td>47</td>\n",
              "      <td>0</td>\n",
              "      <td>1.020496</td>\n",
              "      <td>1.0</td>\n",
              "      <td>-0.315826</td>\n",
              "      <td>-0.393425</td>\n",
              "      <td>4</td>\n",
              "      <td>-0.157157</td>\n",
              "      <td>3</td>\n",
              "      <td>1</td>\n",
              "      <td>0</td>\n",
              "      <td>2</td>\n",
              "      <td>1.0</td>\n",
              "      <td>1</td>\n",
              "      <td>0</td>\n",
              "      <td>1</td>\n",
              "      <td>0</td>\n",
              "      <td>0</td>\n",
              "      <td>0</td>\n",
              "      <td>1</td>\n",
              "      <td>1</td>\n",
              "      <td>1</td>\n",
              "      <td>0</td>\n",
              "      <td>1</td>\n",
              "      <td>1</td>\n",
              "      <td>0</td>\n",
              "      <td>0</td>\n",
              "      <td>0</td>\n",
              "      <td>1</td>\n",
              "      <td>0</td>\n",
              "      <td>0</td>\n",
              "      <td>8</td>\n",
              "      <td>0.079125</td>\n",
              "      <td>0.074679</td>\n",
              "      <td>0.095423</td>\n",
              "      <td>0.075758</td>\n",
              "      <td>False</td>\n",
              "      <td>False</td>\n",
              "      <td>False</td>\n",
              "      <td>False</td>\n",
              "      <td>False</td>\n",
              "      <td>True</td>\n",
              "      <td>False</td>\n",
              "      <td>False</td>\n",
              "      <td>False</td>\n",
              "      <td>False</td>\n",
              "      <td>False</td>\n",
              "      <td>False</td>\n",
              "      <td>True</td>\n",
              "      <td>False</td>\n",
              "      <td>False</td>\n",
              "      <td>False</td>\n",
              "      <td>False</td>\n",
              "      <td>False</td>\n",
              "      <td>False</td>\n",
              "      <td>False</td>\n",
              "      <td>True</td>\n",
              "      <td>False</td>\n",
              "      <td>False</td>\n",
              "      <td>False</td>\n",
              "      <td>False</td>\n",
              "      <td>False</td>\n",
              "    </tr>\n",
              "    <tr>\n",
              "      <th>1</th>\n",
              "      <td>47</td>\n",
              "      <td>0</td>\n",
              "      <td>1.020496</td>\n",
              "      <td>1.0</td>\n",
              "      <td>-0.315826</td>\n",
              "      <td>-0.393425</td>\n",
              "      <td>4</td>\n",
              "      <td>-0.157157</td>\n",
              "      <td>3</td>\n",
              "      <td>1</td>\n",
              "      <td>1</td>\n",
              "      <td>1</td>\n",
              "      <td>2.0</td>\n",
              "      <td>0</td>\n",
              "      <td>0</td>\n",
              "      <td>0</td>\n",
              "      <td>0</td>\n",
              "      <td>1</td>\n",
              "      <td>0</td>\n",
              "      <td>1</td>\n",
              "      <td>1</td>\n",
              "      <td>1</td>\n",
              "      <td>0</td>\n",
              "      <td>1</td>\n",
              "      <td>1</td>\n",
              "      <td>1</td>\n",
              "      <td>0</td>\n",
              "      <td>0</td>\n",
              "      <td>0</td>\n",
              "      <td>0</td>\n",
              "      <td>0</td>\n",
              "      <td>7</td>\n",
              "      <td>0.079125</td>\n",
              "      <td>0.074679</td>\n",
              "      <td>0.095423</td>\n",
              "      <td>0.115730</td>\n",
              "      <td>False</td>\n",
              "      <td>False</td>\n",
              "      <td>False</td>\n",
              "      <td>False</td>\n",
              "      <td>False</td>\n",
              "      <td>True</td>\n",
              "      <td>False</td>\n",
              "      <td>False</td>\n",
              "      <td>False</td>\n",
              "      <td>False</td>\n",
              "      <td>False</td>\n",
              "      <td>False</td>\n",
              "      <td>True</td>\n",
              "      <td>False</td>\n",
              "      <td>False</td>\n",
              "      <td>False</td>\n",
              "      <td>False</td>\n",
              "      <td>False</td>\n",
              "      <td>False</td>\n",
              "      <td>False</td>\n",
              "      <td>True</td>\n",
              "      <td>False</td>\n",
              "      <td>False</td>\n",
              "      <td>False</td>\n",
              "      <td>False</td>\n",
              "      <td>False</td>\n",
              "    </tr>\n",
              "    <tr>\n",
              "      <th>2</th>\n",
              "      <td>47</td>\n",
              "      <td>0</td>\n",
              "      <td>1.020496</td>\n",
              "      <td>1.0</td>\n",
              "      <td>-0.315826</td>\n",
              "      <td>-0.393425</td>\n",
              "      <td>5</td>\n",
              "      <td>-0.128536</td>\n",
              "      <td>4</td>\n",
              "      <td>1</td>\n",
              "      <td>0</td>\n",
              "      <td>3</td>\n",
              "      <td>3.0</td>\n",
              "      <td>0</td>\n",
              "      <td>0</td>\n",
              "      <td>1</td>\n",
              "      <td>0</td>\n",
              "      <td>1</td>\n",
              "      <td>0</td>\n",
              "      <td>1</td>\n",
              "      <td>1</td>\n",
              "      <td>1</td>\n",
              "      <td>1</td>\n",
              "      <td>1</td>\n",
              "      <td>1</td>\n",
              "      <td>0</td>\n",
              "      <td>0</td>\n",
              "      <td>0</td>\n",
              "      <td>1</td>\n",
              "      <td>0</td>\n",
              "      <td>0</td>\n",
              "      <td>9</td>\n",
              "      <td>0.079125</td>\n",
              "      <td>0.074679</td>\n",
              "      <td>0.095423</td>\n",
              "      <td>0.224597</td>\n",
              "      <td>False</td>\n",
              "      <td>False</td>\n",
              "      <td>False</td>\n",
              "      <td>False</td>\n",
              "      <td>False</td>\n",
              "      <td>True</td>\n",
              "      <td>False</td>\n",
              "      <td>False</td>\n",
              "      <td>False</td>\n",
              "      <td>False</td>\n",
              "      <td>False</td>\n",
              "      <td>False</td>\n",
              "      <td>True</td>\n",
              "      <td>False</td>\n",
              "      <td>False</td>\n",
              "      <td>False</td>\n",
              "      <td>False</td>\n",
              "      <td>False</td>\n",
              "      <td>False</td>\n",
              "      <td>False</td>\n",
              "      <td>True</td>\n",
              "      <td>False</td>\n",
              "      <td>False</td>\n",
              "      <td>False</td>\n",
              "      <td>False</td>\n",
              "      <td>False</td>\n",
              "    </tr>\n",
              "    <tr>\n",
              "      <th>3</th>\n",
              "      <td>47</td>\n",
              "      <td>0</td>\n",
              "      <td>1.020496</td>\n",
              "      <td>1.0</td>\n",
              "      <td>-0.315826</td>\n",
              "      <td>-0.393425</td>\n",
              "      <td>4</td>\n",
              "      <td>-0.347965</td>\n",
              "      <td>4</td>\n",
              "      <td>1</td>\n",
              "      <td>0</td>\n",
              "      <td>5</td>\n",
              "      <td>4.0</td>\n",
              "      <td>0</td>\n",
              "      <td>0</td>\n",
              "      <td>1</td>\n",
              "      <td>0</td>\n",
              "      <td>0</td>\n",
              "      <td>0</td>\n",
              "      <td>0</td>\n",
              "      <td>1</td>\n",
              "      <td>0</td>\n",
              "      <td>0</td>\n",
              "      <td>1</td>\n",
              "      <td>1</td>\n",
              "      <td>1</td>\n",
              "      <td>0</td>\n",
              "      <td>0</td>\n",
              "      <td>0</td>\n",
              "      <td>0</td>\n",
              "      <td>1</td>\n",
              "      <td>6</td>\n",
              "      <td>0.079125</td>\n",
              "      <td>0.074679</td>\n",
              "      <td>0.095423</td>\n",
              "      <td>0.018275</td>\n",
              "      <td>False</td>\n",
              "      <td>False</td>\n",
              "      <td>False</td>\n",
              "      <td>False</td>\n",
              "      <td>False</td>\n",
              "      <td>True</td>\n",
              "      <td>False</td>\n",
              "      <td>False</td>\n",
              "      <td>False</td>\n",
              "      <td>False</td>\n",
              "      <td>False</td>\n",
              "      <td>False</td>\n",
              "      <td>True</td>\n",
              "      <td>False</td>\n",
              "      <td>False</td>\n",
              "      <td>False</td>\n",
              "      <td>False</td>\n",
              "      <td>False</td>\n",
              "      <td>False</td>\n",
              "      <td>False</td>\n",
              "      <td>True</td>\n",
              "      <td>False</td>\n",
              "      <td>False</td>\n",
              "      <td>False</td>\n",
              "      <td>False</td>\n",
              "      <td>False</td>\n",
              "    </tr>\n",
              "    <tr>\n",
              "      <th>4</th>\n",
              "      <td>47</td>\n",
              "      <td>0</td>\n",
              "      <td>1.020496</td>\n",
              "      <td>1.0</td>\n",
              "      <td>-0.315826</td>\n",
              "      <td>-0.393425</td>\n",
              "      <td>4</td>\n",
              "      <td>-0.395666</td>\n",
              "      <td>4</td>\n",
              "      <td>1</td>\n",
              "      <td>0</td>\n",
              "      <td>4</td>\n",
              "      <td>5.0</td>\n",
              "      <td>0</td>\n",
              "      <td>0</td>\n",
              "      <td>1</td>\n",
              "      <td>0</td>\n",
              "      <td>0</td>\n",
              "      <td>0</td>\n",
              "      <td>0</td>\n",
              "      <td>0</td>\n",
              "      <td>0</td>\n",
              "      <td>0</td>\n",
              "      <td>1</td>\n",
              "      <td>1</td>\n",
              "      <td>0</td>\n",
              "      <td>0</td>\n",
              "      <td>0</td>\n",
              "      <td>0</td>\n",
              "      <td>0</td>\n",
              "      <td>1</td>\n",
              "      <td>4</td>\n",
              "      <td>0.079125</td>\n",
              "      <td>0.074679</td>\n",
              "      <td>0.095423</td>\n",
              "      <td>0.073171</td>\n",
              "      <td>False</td>\n",
              "      <td>False</td>\n",
              "      <td>False</td>\n",
              "      <td>False</td>\n",
              "      <td>False</td>\n",
              "      <td>True</td>\n",
              "      <td>False</td>\n",
              "      <td>False</td>\n",
              "      <td>False</td>\n",
              "      <td>False</td>\n",
              "      <td>False</td>\n",
              "      <td>False</td>\n",
              "      <td>True</td>\n",
              "      <td>False</td>\n",
              "      <td>False</td>\n",
              "      <td>False</td>\n",
              "      <td>False</td>\n",
              "      <td>False</td>\n",
              "      <td>False</td>\n",
              "      <td>False</td>\n",
              "      <td>True</td>\n",
              "      <td>False</td>\n",
              "      <td>False</td>\n",
              "      <td>False</td>\n",
              "      <td>False</td>\n",
              "      <td>False</td>\n",
              "    </tr>\n",
              "  </tbody>\n",
              "</table>\n",
              "</div>\n",
              "    <div class=\"colab-df-buttons\">\n",
              "\n",
              "  <div class=\"colab-df-container\">\n",
              "    <button class=\"colab-df-convert\" onclick=\"convertToInteractive('df-4eecbfad-b8e0-4f4c-ab47-994851c70126')\"\n",
              "            title=\"Convert this dataframe to an interactive table.\"\n",
              "            style=\"display:none;\">\n",
              "\n",
              "  <svg xmlns=\"http://www.w3.org/2000/svg\" height=\"24px\" viewBox=\"0 -960 960 960\">\n",
              "    <path d=\"M120-120v-720h720v720H120Zm60-500h600v-160H180v160Zm220 220h160v-160H400v160Zm0 220h160v-160H400v160ZM180-400h160v-160H180v160Zm440 0h160v-160H620v160ZM180-180h160v-160H180v160Zm440 0h160v-160H620v160Z\"/>\n",
              "  </svg>\n",
              "    </button>\n",
              "\n",
              "  <style>\n",
              "    .colab-df-container {\n",
              "      display:flex;\n",
              "      gap: 12px;\n",
              "    }\n",
              "\n",
              "    .colab-df-convert {\n",
              "      background-color: #E8F0FE;\n",
              "      border: none;\n",
              "      border-radius: 50%;\n",
              "      cursor: pointer;\n",
              "      display: none;\n",
              "      fill: #1967D2;\n",
              "      height: 32px;\n",
              "      padding: 0 0 0 0;\n",
              "      width: 32px;\n",
              "    }\n",
              "\n",
              "    .colab-df-convert:hover {\n",
              "      background-color: #E2EBFA;\n",
              "      box-shadow: 0px 1px 2px rgba(60, 64, 67, 0.3), 0px 1px 3px 1px rgba(60, 64, 67, 0.15);\n",
              "      fill: #174EA6;\n",
              "    }\n",
              "\n",
              "    .colab-df-buttons div {\n",
              "      margin-bottom: 4px;\n",
              "    }\n",
              "\n",
              "    [theme=dark] .colab-df-convert {\n",
              "      background-color: #3B4455;\n",
              "      fill: #D2E3FC;\n",
              "    }\n",
              "\n",
              "    [theme=dark] .colab-df-convert:hover {\n",
              "      background-color: #434B5C;\n",
              "      box-shadow: 0px 1px 3px 1px rgba(0, 0, 0, 0.15);\n",
              "      filter: drop-shadow(0px 1px 2px rgba(0, 0, 0, 0.3));\n",
              "      fill: #FFFFFF;\n",
              "    }\n",
              "  </style>\n",
              "\n",
              "    <script>\n",
              "      const buttonEl =\n",
              "        document.querySelector('#df-4eecbfad-b8e0-4f4c-ab47-994851c70126 button.colab-df-convert');\n",
              "      buttonEl.style.display =\n",
              "        google.colab.kernel.accessAllowed ? 'block' : 'none';\n",
              "\n",
              "      async function convertToInteractive(key) {\n",
              "        const element = document.querySelector('#df-4eecbfad-b8e0-4f4c-ab47-994851c70126');\n",
              "        const dataTable =\n",
              "          await google.colab.kernel.invokeFunction('convertToInteractive',\n",
              "                                                    [key], {});\n",
              "        if (!dataTable) return;\n",
              "\n",
              "        const docLinkHtml = 'Like what you see? Visit the ' +\n",
              "          '<a target=\"_blank\" href=https://colab.research.google.com/notebooks/data_table.ipynb>data table notebook</a>'\n",
              "          + ' to learn more about interactive tables.';\n",
              "        element.innerHTML = '';\n",
              "        dataTable['output_type'] = 'display_data';\n",
              "        await google.colab.output.renderOutput(dataTable, element);\n",
              "        const docLink = document.createElement('div');\n",
              "        docLink.innerHTML = docLinkHtml;\n",
              "        element.appendChild(docLink);\n",
              "      }\n",
              "    </script>\n",
              "  </div>\n",
              "\n",
              "\n",
              "<div id=\"df-960bf107-5898-4b0b-bfd2-70cea5e43ef9\">\n",
              "  <button class=\"colab-df-quickchart\" onclick=\"quickchart('df-960bf107-5898-4b0b-bfd2-70cea5e43ef9')\"\n",
              "            title=\"Suggest charts\"\n",
              "            style=\"display:none;\">\n",
              "\n",
              "<svg xmlns=\"http://www.w3.org/2000/svg\" height=\"24px\"viewBox=\"0 0 24 24\"\n",
              "     width=\"24px\">\n",
              "    <g>\n",
              "        <path d=\"M19 3H5c-1.1 0-2 .9-2 2v14c0 1.1.9 2 2 2h14c1.1 0 2-.9 2-2V5c0-1.1-.9-2-2-2zM9 17H7v-7h2v7zm4 0h-2V7h2v10zm4 0h-2v-4h2v4z\"/>\n",
              "    </g>\n",
              "</svg>\n",
              "  </button>\n",
              "\n",
              "<style>\n",
              "  .colab-df-quickchart {\n",
              "      --bg-color: #E8F0FE;\n",
              "      --fill-color: #1967D2;\n",
              "      --hover-bg-color: #E2EBFA;\n",
              "      --hover-fill-color: #174EA6;\n",
              "      --disabled-fill-color: #AAA;\n",
              "      --disabled-bg-color: #DDD;\n",
              "  }\n",
              "\n",
              "  [theme=dark] .colab-df-quickchart {\n",
              "      --bg-color: #3B4455;\n",
              "      --fill-color: #D2E3FC;\n",
              "      --hover-bg-color: #434B5C;\n",
              "      --hover-fill-color: #FFFFFF;\n",
              "      --disabled-bg-color: #3B4455;\n",
              "      --disabled-fill-color: #666;\n",
              "  }\n",
              "\n",
              "  .colab-df-quickchart {\n",
              "    background-color: var(--bg-color);\n",
              "    border: none;\n",
              "    border-radius: 50%;\n",
              "    cursor: pointer;\n",
              "    display: none;\n",
              "    fill: var(--fill-color);\n",
              "    height: 32px;\n",
              "    padding: 0;\n",
              "    width: 32px;\n",
              "  }\n",
              "\n",
              "  .colab-df-quickchart:hover {\n",
              "    background-color: var(--hover-bg-color);\n",
              "    box-shadow: 0 1px 2px rgba(60, 64, 67, 0.3), 0 1px 3px 1px rgba(60, 64, 67, 0.15);\n",
              "    fill: var(--button-hover-fill-color);\n",
              "  }\n",
              "\n",
              "  .colab-df-quickchart-complete:disabled,\n",
              "  .colab-df-quickchart-complete:disabled:hover {\n",
              "    background-color: var(--disabled-bg-color);\n",
              "    fill: var(--disabled-fill-color);\n",
              "    box-shadow: none;\n",
              "  }\n",
              "\n",
              "  .colab-df-spinner {\n",
              "    border: 2px solid var(--fill-color);\n",
              "    border-color: transparent;\n",
              "    border-bottom-color: var(--fill-color);\n",
              "    animation:\n",
              "      spin 1s steps(1) infinite;\n",
              "  }\n",
              "\n",
              "  @keyframes spin {\n",
              "    0% {\n",
              "      border-color: transparent;\n",
              "      border-bottom-color: var(--fill-color);\n",
              "      border-left-color: var(--fill-color);\n",
              "    }\n",
              "    20% {\n",
              "      border-color: transparent;\n",
              "      border-left-color: var(--fill-color);\n",
              "      border-top-color: var(--fill-color);\n",
              "    }\n",
              "    30% {\n",
              "      border-color: transparent;\n",
              "      border-left-color: var(--fill-color);\n",
              "      border-top-color: var(--fill-color);\n",
              "      border-right-color: var(--fill-color);\n",
              "    }\n",
              "    40% {\n",
              "      border-color: transparent;\n",
              "      border-right-color: var(--fill-color);\n",
              "      border-top-color: var(--fill-color);\n",
              "    }\n",
              "    60% {\n",
              "      border-color: transparent;\n",
              "      border-right-color: var(--fill-color);\n",
              "    }\n",
              "    80% {\n",
              "      border-color: transparent;\n",
              "      border-right-color: var(--fill-color);\n",
              "      border-bottom-color: var(--fill-color);\n",
              "    }\n",
              "    90% {\n",
              "      border-color: transparent;\n",
              "      border-bottom-color: var(--fill-color);\n",
              "    }\n",
              "  }\n",
              "</style>\n",
              "\n",
              "  <script>\n",
              "    async function quickchart(key) {\n",
              "      const quickchartButtonEl =\n",
              "        document.querySelector('#' + key + ' button');\n",
              "      quickchartButtonEl.disabled = true;  // To prevent multiple clicks.\n",
              "      quickchartButtonEl.classList.add('colab-df-spinner');\n",
              "      try {\n",
              "        const charts = await google.colab.kernel.invokeFunction(\n",
              "            'suggestCharts', [key], {});\n",
              "      } catch (error) {\n",
              "        console.error('Error during call to suggestCharts:', error);\n",
              "      }\n",
              "      quickchartButtonEl.classList.remove('colab-df-spinner');\n",
              "      quickchartButtonEl.classList.add('colab-df-quickchart-complete');\n",
              "    }\n",
              "    (() => {\n",
              "      let quickchartButtonEl =\n",
              "        document.querySelector('#df-960bf107-5898-4b0b-bfd2-70cea5e43ef9 button');\n",
              "      quickchartButtonEl.style.display =\n",
              "        google.colab.kernel.accessAllowed ? 'block' : 'none';\n",
              "    })();\n",
              "  </script>\n",
              "</div>\n",
              "    </div>\n",
              "  </div>\n"
            ],
            "application/vnd.google.colaboratory.intrinsic+json": {
              "type": "dataframe",
              "variable_name": "X_train_pp"
            }
          },
          "metadata": {},
          "execution_count": 17
        }
      ]
    },
    {
      "cell_type": "code",
      "source": [
        "X_train_pp = X_train_pp.drop(columns=['rank_noad'])\n",
        "X_val_pp = X_val_pp.drop(columns=['rank_noad'])\n",
        "X_test_pp = X_test_pp.drop(columns=['rank_noad'])"
      ],
      "metadata": {
        "id": "Kcv9wGDhiJc7"
      },
      "execution_count": 18,
      "outputs": []
    },
    {
      "cell_type": "code",
      "source": [
        "def ndcg_metric_30(y_true, y_pred):\n",
        "    k = 30\n",
        "    y_score = tf.squeeze(y_pred, axis=-1)\n",
        "    y_true = tf.squeeze(y_true, axis=-1)\n",
        "\n",
        "    order = tf.argsort(y_score, direction='DESCENDING')\n",
        "    y_true_sorted = tf.gather(y_true, order)\n",
        "\n",
        "    gain = tf.pow(2.0, y_true_sorted) - 1.0\n",
        "    discounts = tf.math.log(tf.range(tf.shape(y_true_sorted)[0], dtype=tf.float32) + 2.0) / tf.math.log(2.0)\n",
        "\n",
        "    dcg = tf.reduce_sum(gain / discounts)\n",
        "\n",
        "    ideal_order = tf.argsort(y_true, direction='DESCENDING')\n",
        "    ideal_y_true = tf.gather(y_true, ideal_order)[:k]\n",
        "    ideal_gain = tf.pow(2.0, ideal_y_true) - 1.0\n",
        "    ideal_dcg = tf.reduce_sum(ideal_gain / discounts[:tf.shape(ideal_gain)[0]])\n",
        "\n",
        "    ndcg = tf.where(tf.equal(ideal_dcg, 0), 0.0, dcg / ideal_dcg)\n",
        "    return ndcg"
      ],
      "metadata": {
        "id": "EOhWkKq4RiKV"
      },
      "execution_count": 19,
      "outputs": []
    },
    {
      "cell_type": "code",
      "source": [
        "def ndcg_metric_20(y_true, y_pred):\n",
        "    k = 20\n",
        "    y_score = tf.squeeze(y_pred, axis=-1)\n",
        "    y_true = tf.squeeze(y_true, axis=-1)\n",
        "\n",
        "    order = tf.argsort(y_score, direction='DESCENDING')\n",
        "    y_true_sorted = tf.gather(y_true, order)\n",
        "\n",
        "    gain = tf.pow(2.0, y_true_sorted) - 1.0\n",
        "    discounts = tf.math.log(tf.range(tf.shape(y_true_sorted)[0], dtype=tf.float32) + 2.0) / tf.math.log(2.0)\n",
        "\n",
        "    dcg = tf.reduce_sum(gain / discounts)\n",
        "\n",
        "    ideal_order = tf.argsort(y_true, direction='DESCENDING')\n",
        "    ideal_y_true = tf.gather(y_true, ideal_order)[:k]\n",
        "    ideal_gain = tf.pow(2.0, ideal_y_true) - 1.0\n",
        "    ideal_dcg = tf.reduce_sum(ideal_gain / discounts[:tf.shape(ideal_gain)[0]])\n",
        "\n",
        "    ndcg = tf.where(tf.equal(ideal_dcg, 0), 0.0, dcg / ideal_dcg)\n",
        "    return ndcg"
      ],
      "metadata": {
        "id": "UbjnEY1URtsZ"
      },
      "execution_count": 20,
      "outputs": []
    },
    {
      "cell_type": "code",
      "source": [
        "def ndcg_metric_10(y_true, y_pred):\n",
        "    k = 10\n",
        "    y_score = tf.squeeze(y_pred, axis=-1)\n",
        "    y_true = tf.squeeze(y_true, axis=-1)\n",
        "\n",
        "    order = tf.argsort(y_score, direction='DESCENDING')\n",
        "    y_true_sorted = tf.gather(y_true, order)\n",
        "\n",
        "    gain = tf.pow(2.0, y_true_sorted) - 1.0\n",
        "    discounts = tf.math.log(tf.range(tf.shape(y_true_sorted)[0], dtype=tf.float32) + 2.0) / tf.math.log(2.0)\n",
        "\n",
        "    dcg = tf.reduce_sum(gain / discounts)\n",
        "\n",
        "    ideal_order = tf.argsort(y_true, direction='DESCENDING')\n",
        "    ideal_y_true = tf.gather(y_true, ideal_order)[:k]\n",
        "    ideal_gain = tf.pow(2.0, ideal_y_true) - 1.0\n",
        "    ideal_dcg = tf.reduce_sum(ideal_gain / discounts[:tf.shape(ideal_gain)[0]])\n",
        "\n",
        "    ndcg = tf.where(tf.equal(ideal_dcg, 0), 0.0, dcg / ideal_dcg)\n",
        "    return ndcg"
      ],
      "metadata": {
        "id": "qrzgjO_tR0wI"
      },
      "execution_count": 21,
      "outputs": []
    },
    {
      "cell_type": "code",
      "source": [
        "def ndcg_metric_5(y_true, y_pred):\n",
        "    k = 5\n",
        "    y_score = tf.squeeze(y_pred, axis=-1)\n",
        "    y_true = tf.squeeze(y_true, axis=-1)\n",
        "\n",
        "    order = tf.argsort(y_score, direction='DESCENDING')\n",
        "    y_true_sorted = tf.gather(y_true, order)\n",
        "\n",
        "    gain = tf.pow(2.0, y_true_sorted) - 1.0\n",
        "    discounts = tf.math.log(tf.range(tf.shape(y_true_sorted)[0], dtype=tf.float32) + 2.0) / tf.math.log(2.0)\n",
        "\n",
        "    dcg = tf.reduce_sum(gain / discounts)\n",
        "\n",
        "    ideal_order = tf.argsort(y_true, direction='DESCENDING')\n",
        "    ideal_y_true = tf.gather(y_true, ideal_order)[:k]\n",
        "    ideal_gain = tf.pow(2.0, ideal_y_true) - 1.0\n",
        "    ideal_dcg = tf.reduce_sum(ideal_gain / discounts[:tf.shape(ideal_gain)[0]])\n",
        "\n",
        "    ndcg = tf.where(tf.equal(ideal_dcg, 0), 0.0, dcg / ideal_dcg)\n",
        "    return ndcg"
      ],
      "metadata": {
        "id": "h6Mo9KDHR28v"
      },
      "execution_count": 22,
      "outputs": []
    },
    {
      "cell_type": "markdown",
      "source": [
        "### NEURAL NETWORK ARCHITECTURE"
      ],
      "metadata": {
        "id": "jv6tlYWFSFJm"
      }
    },
    {
      "cell_type": "code",
      "source": [
        "query_id_train_pp = X_train_pp['qid']\n",
        "query_id_val_pp = X_val_pp['qid']\n",
        "query_id_test_pp = X_test_pp['qid']\n",
        "\n",
        "\n",
        "X_train_2_pp = X_train_pp.drop(columns=['qid'])\n",
        "X_train_arr_pp = X_train_2_pp.values.astype(float)\n",
        "\n",
        "X_val_2_pp = X_val_pp.drop(columns=['qid'])\n",
        "X_val_arr_pp = X_val_2_pp.values.astype(float)\n",
        "\n",
        "X_test_2_pp = X_test_pp.drop(columns=['qid'])\n",
        "X_test_arr_pp = X_test_2_pp.values.astype(float)\n",
        "\n",
        "\n",
        "y_train_array_pp = y_train_pp.values.astype(int).ravel()\n",
        "y_train_array_pp = y_train_array_pp.flatten().astype(float)\n",
        "\n",
        "y_val_array_pp = y_val_pp.values.astype(int).ravel()\n",
        "y_val_array_pp = y_val_array_pp.flatten().astype(float)\n",
        "\n",
        "y_test_array_pp = y_test_pp.values.astype(int).ravel()\n",
        "y_test_array_pp = y_test_array_pp.flatten().astype(float)"
      ],
      "metadata": {
        "id": "4XbWlYgLSAUr"
      },
      "execution_count": 23,
      "outputs": []
    },
    {
      "cell_type": "code",
      "source": [
        "early_stopping_cb = tf.keras.callbacks.EarlyStopping(patience=5,restore_best_weights=True, monitor='val_ndcg_metric_5', mode='max')\n",
        "\n",
        "np.random.seed(42)\n",
        "tf.random.set_seed(42)\n",
        "\n",
        "# Input layers for features and search_id\n",
        "input_features = Input(shape=(X_train_arr_pp.shape[1],), name='features')\n",
        "input_query_id = Input(shape=(1,), name='search_id')\n",
        "\n",
        "# Embedding or concatenation layer for search_id\n",
        "concatenated_inputs = Concatenate()([input_features, input_query_id])\n",
        "\n",
        "# Define the rest of your model architecture\n",
        "dense_layer_1 = Dense(128, activation='relu')(concatenated_inputs)\n",
        "batch_norm_1 = BatchNormalization()(dense_layer_1)\n",
        "#dense_layer_2 = Dense(512, activation='relu')(dense_layer_1)\n",
        "#dense_layer_3 = Dense(1024, activation='relu')(dense_layer_2)\n",
        "#dropout_layer = Dropout(0.3)(dense_layer_3)\n",
        "#dense_layer_4 = Dense(512, activation='relu')(dense_layer_3)\n",
        "dense_layer_5 = Dense(256, activation='relu')(dense_layer_1)\n",
        "dense_layer_6 = Dense(128, activation='relu')(dense_layer_5)\n",
        "dense_layer_7 = Dense(64, activation='relu')(dense_layer_6)\n",
        "dense_layer_8 = Dense(32, activation='relu')(dense_layer_7)\n",
        "output_layer = Dense(1)(dense_layer_8)\n",
        "\n",
        "#Losses\n",
        "loss_ndcgapprox = tfr.keras.losses.ApproxNDCGLoss(temperature=0.1)\n",
        "loss_clickeml = tfr.keras.losses.ClickEMLoss()\n",
        "\n",
        "#Optimizer\n",
        "optimizer = tf.keras.optimizers.Adam(learning_rate=0.001)\n",
        "\n",
        "# Define the model\n",
        "model = Model(inputs=[input_features, input_query_id], outputs=output_layer)\n",
        "\n",
        "# Compile the model\n",
        "model.compile(optimizer=optimizer, loss=loss_ndcgapprox, metrics=[ndcg_metric_5])\n",
        "\n",
        "# Fit the model with both features and search_id\n",
        "history = model.fit({'features': X_train_arr_pp, 'search_id': query_id_train_pp}, y_train_array_pp,\n",
        "                    epochs=50, validation_data=({'features': X_val_arr_pp, 'search_id': query_id_val_pp}, y_val_array_pp),\n",
        "                    verbose=True, batch_size=64, callbacks=[early_stopping_cb])"
      ],
      "metadata": {
        "id": "gDS_QPO_SRUT",
        "colab": {
          "base_uri": "https://localhost:8080/"
        },
        "outputId": "572e77ec-d075-4741-f07a-0b0aa07f0aaa"
      },
      "execution_count": 24,
      "outputs": [
        {
          "output_type": "stream",
          "name": "stdout",
          "text": [
            "Epoch 1/50\n",
            "13702/13702 [==============================] - 69s 5ms/step - loss: -0.0719 - ndcg_metric_5: 0.3869 - val_loss: -0.0732 - val_ndcg_metric_5: 0.3828\n",
            "Epoch 2/50\n",
            "13702/13702 [==============================] - 67s 5ms/step - loss: -0.0719 - ndcg_metric_5: 0.3869 - val_loss: -0.0732 - val_ndcg_metric_5: 0.3828\n",
            "Epoch 3/50\n",
            "13702/13702 [==============================] - 66s 5ms/step - loss: -0.0719 - ndcg_metric_5: 0.3870 - val_loss: -0.0732 - val_ndcg_metric_5: 0.3828\n",
            "Epoch 4/50\n",
            "13702/13702 [==============================] - 67s 5ms/step - loss: -0.0719 - ndcg_metric_5: 0.3876 - val_loss: -0.0732 - val_ndcg_metric_5: 0.3828\n",
            "Epoch 5/50\n",
            "13702/13702 [==============================] - 69s 5ms/step - loss: -0.0719 - ndcg_metric_5: 0.3880 - val_loss: -0.0732 - val_ndcg_metric_5: 0.3828\n",
            "Epoch 6/50\n",
            "13702/13702 [==============================] - 70s 5ms/step - loss: -0.0719 - ndcg_metric_5: 0.3873 - val_loss: -0.0732 - val_ndcg_metric_5: 0.3828\n"
          ]
        }
      ]
    },
    {
      "cell_type": "markdown",
      "source": [
        "### NDCG COMPUTATION FOR PREDICTIONS"
      ],
      "metadata": {
        "id": "GHPm0H-GSeM5"
      }
    },
    {
      "cell_type": "code",
      "source": [
        "def ndcg(y_score, y_true, k):\n",
        "    order = np.argsort(y_score)[::-1]\n",
        "    y_true = np.take(y_true, order[:k])\n",
        "\n",
        "    gain = 2 ** y_true - 1\n",
        "\n",
        "    discounts = np.log2(np.arange(len(y_true)) + 2)\n",
        "    return np.sum(gain / discounts)"
      ],
      "metadata": {
        "id": "XuF763zCShQg"
      },
      "execution_count": 25,
      "outputs": []
    },
    {
      "cell_type": "code",
      "source": [
        "y_test_pred = y_test_pp['relevance']\n",
        "query_id_test_pp = X_test_pp['qid']\n",
        "qids = np.unique(query_id_test_pp)\n",
        "\n",
        "ndcg_5 = list()\n",
        "ndcg_10 = list()\n",
        "ndcg_20 = list()\n",
        "ndcg_30 = list()\n",
        "predict_values = list()\n",
        "\n",
        "for i, qid in tqdm(enumerate(qids[:]), total=len(qids)):\n",
        "    query_id_test_pp = X_test_pp['qid']\n",
        "    y = y_test_pred[query_id_test_pp == qid]\n",
        "\n",
        "    if np.sum(y) == 0:\n",
        "        continue\n",
        "\n",
        "    X_test_2_pp = X_test_pp[X_test_pp['qid'] == qid]\n",
        "\n",
        "    query_id_test_pp = X_test_2_pp['qid']\n",
        "\n",
        "    X_test_2_pp = X_test_2_pp.drop(columns=['qid'])\n",
        "    X_test_arr_pp = X_test_2_pp.values.astype(float)\n",
        "\n",
        "    predictions = model.predict({'features': X_test_arr_pp, 'search_id': query_id_test_pp}, verbose=False)\n",
        "    predictions = predictions.flatten()\n",
        "    predict_values.append([predictions])\n",
        "\n",
        "    for i in [5,10,20,30]:\n",
        "      idcg = ndcg(y, y, k=i)\n",
        "      eval(f\"ndcg_{i}\").append(ndcg(predictions, y, k=i) / idcg)\n",
        "\n",
        "\n",
        "print(f'NDCG K5 {np.mean(ndcg_5)}')\n",
        "print(f'NDCG K10 {np.mean(ndcg_10)}')\n",
        "print(f'NDCG K20 {np.mean(ndcg_20)}')\n",
        "print(f'NDCG K30 {np.mean(ndcg_30)}')"
      ],
      "metadata": {
        "colab": {
          "base_uri": "https://localhost:8080/"
        },
        "id": "UQPKBK-ESiQx",
        "outputId": "6b9106d5-6593-4c3e-d708-70de1ed2489d"
      },
      "execution_count": 26,
      "outputs": [
        {
          "output_type": "stream",
          "name": "stderr",
          "text": [
            "100%|██████████| 12779/12779 [19:56<00:00, 10.68it/s]"
          ]
        },
        {
          "output_type": "stream",
          "name": "stdout",
          "text": [
            "NDCG K5 0.1678415685377167\n",
            "NDCG K10 0.23677712178936325\n",
            "NDCG K20 0.3335979623488874\n",
            "NDCG K30 0.38030904720319686\n"
          ]
        },
        {
          "output_type": "stream",
          "name": "stderr",
          "text": [
            "\n"
          ]
        }
      ]
    },
    {
      "cell_type": "code",
      "source": [
        "unique_qid = X_test_pp['qid'].unique()\n",
        "testtt = X_test_pp[X_test_pp['qid'].isin(unique_qid[:500])]\n",
        "testtt.shape[0]\n",
        "t_testtt = y_test_pp[:testtt.shape[0]]"
      ],
      "metadata": {
        "id": "gDoA6h176N-K"
      },
      "execution_count": 107,
      "outputs": []
    },
    {
      "cell_type": "code",
      "source": [
        "y_test_pred = t_testtt['relevance']\n",
        "query_id_test_pp = testtt['qid']\n",
        "qids = np.unique(query_id_test_pp)\n",
        "\n",
        "ndcg_5 = list()\n",
        "ndcg_10 = list()\n",
        "ndcg_20 = list()\n",
        "ndcg_30 = list()\n",
        "predict_values = list()\n",
        "\n",
        "for i, qid in tqdm(enumerate(qids[:]), total=len(qids)):\n",
        "    query_id_test_pp = testtt['qid']\n",
        "    y = y_test_pred[query_id_test_pp == qid]\n",
        "\n",
        "    if np.sum(y) == 0:\n",
        "        continue\n",
        "\n",
        "    X_test_2_pp = testtt[testtt['qid'] == qid]\n",
        "\n",
        "    query_id_test_pp = X_test_2_pp['qid']\n",
        "\n",
        "    X_test_2_pp = X_test_2_pp.drop(columns=['qid'])\n",
        "    X_test_arr_pp = X_test_2_pp.values.astype(float)\n",
        "\n",
        "    predictions = model.predict({'features': X_test_arr_pp, 'search_id': query_id_test_pp}, verbose=False)\n",
        "    predictions = predictions.flatten()\n",
        "    predict_values.append([predictions])\n",
        "\n",
        "    for i in [5,10,20,30]:\n",
        "      idcg = ndcg(y, y, k=i)\n",
        "      eval(f\"ndcg_{i}\").append(ndcg(predictions, y, k=i) / idcg)\n",
        "\n",
        "\n",
        "print(f'NDCG K5 {np.mean(ndcg_5)}')\n",
        "print(f'NDCG K10 {np.mean(ndcg_10)}')\n",
        "print(f'NDCG K20 {np.mean(ndcg_20)}')\n",
        "print(f'NDCG K30 {np.mean(ndcg_30)}')"
      ],
      "metadata": {
        "colab": {
          "base_uri": "https://localhost:8080/"
        },
        "id": "Z4okznCQrM7W",
        "outputId": "6c8c727f-7d5c-412e-8237-b6d6d3d1c846"
      },
      "execution_count": 108,
      "outputs": [
        {
          "output_type": "stream",
          "name": "stderr",
          "text": [
            "100%|██████████| 500/500 [00:38<00:00, 12.99it/s]"
          ]
        },
        {
          "output_type": "stream",
          "name": "stdout",
          "text": [
            "NDCG K5 0.501869321551276\n",
            "NDCG K10 0.5617920037012842\n",
            "NDCG K20 0.6005449305711997\n",
            "NDCG K30 0.6115901741421633\n"
          ]
        },
        {
          "output_type": "stream",
          "name": "stderr",
          "text": [
            "\n"
          ]
        }
      ]
    },
    {
      "cell_type": "code",
      "source": [
        "pred_rbo = model.predict({'features': X_test_arr_pp, 'search_id': query_id_test_pp})"
      ],
      "metadata": {
        "colab": {
          "base_uri": "https://localhost:8080/"
        },
        "id": "6Uc602qtAih3",
        "outputId": "5874d6dc-8192-46dc-f381-36a65d2e835f"
      },
      "execution_count": 37,
      "outputs": [
        {
          "output_type": "stream",
          "name": "stdout",
          "text": [
            "9159/9159 [==============================] - 17s 2ms/step\n"
          ]
        }
      ]
    },
    {
      "cell_type": "code",
      "source": [
        "scratch_nn_andcg = [0.51, 0.57, 0.61, 0.63]"
      ],
      "metadata": {
        "id": "T_EqCojT50p2"
      },
      "execution_count": null,
      "outputs": []
    },
    {
      "cell_type": "markdown",
      "source": [
        "WITHOUT PROP_ID 2 EPOCHS\n",
        "- K5 0.0872718979999956\n",
        "- NDCG K10 0.12586011957430057\n",
        "- NDCG K20 0.20052890579009477\n",
        "- NDCG K30 0.31414689685750613\n",
        "\n",
        "WITHOUT PROP_ID 25 EPOCHS\n",
        "- NDCG K5 0.4783645998206443\n",
        "- NDCG K10 0.5365250795771305\n",
        "- NDCG K20 0.5828685803829531\n",
        "- NDCG K30 0.5950768832585804\n",
        "\n",
        "\n"
      ],
      "metadata": {
        "id": "jW2nJon_sPrv"
      }
    },
    {
      "cell_type": "markdown",
      "source": [
        "RUNNING just 2 EPOCHS:\n",
        "- NDCG K5 0.21395663719615304\n",
        "- NDCG K10 0.2882926997434941\n",
        "- NDCG K20 0.38191068440407794\n",
        "- NDCG K30 0.4157879526293884\n",
        "\n",
        "RUNNING 11 EPOCHS:\n",
        "- NDCG K5 0.2593172827907193\n",
        "- NDCG K10 0.33880707482557637\n",
        "- NDCG K20 0.4193044875602093\n",
        "- NDCG K30 0.44707773677879903"
      ],
      "metadata": {
        "id": "dGIslsxQU5Q2"
      }
    },
    {
      "cell_type": "markdown",
      "source": [
        "### PENDING TO COMPUTE RBO"
      ],
      "metadata": {
        "id": "L8sGeI-dTS1a"
      }
    },
    {
      "cell_type": "code",
      "source": [
        "len(predict_values)"
      ],
      "metadata": {
        "colab": {
          "base_uri": "https://localhost:8080/"
        },
        "id": "m35aIKVACFBS",
        "outputId": "22091e38-caca-4b91-eb8d-17310297c5f9"
      },
      "execution_count": 81,
      "outputs": [
        {
          "output_type": "execute_result",
          "data": {
            "text/plain": [
              "500"
            ]
          },
          "metadata": {},
          "execution_count": 81
        }
      ]
    },
    {
      "cell_type": "code",
      "source": [
        "rbo.RankingSimilarity(np.argsort(np.array(predict_values[0]))[0].tolist(),np.argsort(np.array(predict_values[1]))[0].tolist()).rbo()"
      ],
      "metadata": {
        "colab": {
          "base_uri": "https://localhost:8080/"
        },
        "id": "b2uEzLnfA3Tv",
        "outputId": "6333ee39-206e-4826-ea19-87943e4a625d"
      },
      "execution_count": 48,
      "outputs": [
        {
          "output_type": "execute_result",
          "data": {
            "text/plain": [
              "0.41299866611675545"
            ]
          },
          "metadata": {},
          "execution_count": 48
        }
      ]
    },
    {
      "cell_type": "code",
      "source": [
        "len(predict_values2)"
      ],
      "metadata": {
        "colab": {
          "base_uri": "https://localhost:8080/"
        },
        "id": "eyvuumuEEPDk",
        "outputId": "586b7f5f-3122-4b53-94e0-6d1678df6315"
      },
      "execution_count": 82,
      "outputs": [
        {
          "output_type": "execute_result",
          "data": {
            "text/plain": [
              "500"
            ]
          },
          "metadata": {},
          "execution_count": 82
        }
      ]
    },
    {
      "cell_type": "code",
      "source": [
        "predict_values[:2]"
      ],
      "metadata": {
        "colab": {
          "base_uri": "https://localhost:8080/"
        },
        "id": "pskDIDk7KjUT",
        "outputId": "dde8a731-cbed-49ad-9a42-c8364bd5b3ea"
      },
      "execution_count": 85,
      "outputs": [
        {
          "output_type": "execute_result",
          "data": {
            "text/plain": [
              "[[array([ 1.7916496 ,  1.6572597 ,  1.528369  ,  1.3368037 ,  0.96729124,\n",
              "          1.3491042 ,  1.0677645 ,  0.94756055,  0.81275594,  0.5601784 ,\n",
              "          1.3901912 ,  0.58318233,  0.5909226 ,  0.9924338 ,  0.70431936,\n",
              "          0.5142576 ,  0.3686579 ,  0.11152542,  0.16763079,  0.15408671,\n",
              "         -0.18819773,  0.24172854,  0.29134405, -0.21294165,  0.53911215],\n",
              "        dtype=float32)],\n",
              " [array([ 2.44446   ,  1.5254047 ,  1.6997004 ,  1.6167855 ,  1.0502257 ,\n",
              "          1.1247458 ,  0.9310522 ,  1.0742755 ,  0.96121955,  0.91325593,\n",
              "          0.33600974,  0.5003464 ,  0.2654798 , -0.19075704,  0.0427537 ,\n",
              "          0.0987227 , -0.76512456,  0.07446647, -0.84468484, -0.5554378 ,\n",
              "         -0.39141536], dtype=float32)]]"
            ]
          },
          "metadata": {},
          "execution_count": 85
        }
      ]
    },
    {
      "cell_type": "code",
      "source": [
        "comp_rbo = []\n",
        "for i in range(len(predict_values)):\n",
        "  comp_rbo.append(rbo.RankingSimilarity(np.argsort(np.array(predict_values[i]))[0].tolist(),np.argsort(np.array(predict_values2[i]))[0].tolist()).rbo())\n",
        "\n",
        "np.mean(comp_rbo)"
      ],
      "metadata": {
        "colab": {
          "base_uri": "https://localhost:8080/"
        },
        "id": "fJT5BbdiC8Qa",
        "outputId": "c716c14e-ac8f-4cea-ab54-41ea4116142f"
      },
      "execution_count": 83,
      "outputs": [
        {
          "output_type": "execute_result",
          "data": {
            "text/plain": [
              "0.7930397250543556"
            ]
          },
          "metadata": {},
          "execution_count": 83
        }
      ]
    },
    {
      "cell_type": "code",
      "source": [
        "s = [0.4, 0.5, 0.5, 0.3]\n",
        "t = [0.6,0.7,0.7,0.5]\n",
        "\n",
        "rbo.RankingSimilarity(np.argsort(np.array(s)).tolist(),np.argsort(np.array(t)).tolist()).rbo()"
      ],
      "metadata": {
        "id": "K774ZpCwTUXp",
        "colab": {
          "base_uri": "https://localhost:8080/"
        },
        "outputId": "cae1a53a-92b9-4868-e7ea-eb4306220165"
      },
      "execution_count": 12,
      "outputs": [
        {
          "output_type": "execute_result",
          "data": {
            "text/plain": [
              "1.0"
            ]
          },
          "metadata": {},
          "execution_count": 12
        }
      ]
    },
    {
      "cell_type": "markdown",
      "source": [
        "### PLOT COMPARISON"
      ],
      "metadata": {
        "id": "JQ3tu_tRTad_"
      }
    },
    {
      "cell_type": "code",
      "source": [
        "#XGBRANK\n",
        "xgb_rank_lambdamart = [0.5738, 0.6259, 0.6713, 0.6830]\n",
        "xgb_norank_lambdamart = [0.33, 0.40, 0.48, 0.50]\n",
        "\n",
        "\n",
        "\n",
        "#LGBMRANK\n",
        "lgbm_norank_lambdamart = [0.31, 0.39, 0.46, 0.49]\n",
        "\n",
        "\n",
        "\n",
        "#ScratchNN\n",
        "scratchnn_rank_andcg = [0.45, 0.51, 0.56, 0.57]\n",
        "scratchnn_norank_andcg = [0.17, 0.24, 0.34, 0.38]\n",
        "\n",
        "\n",
        "\n",
        "#AllRank NN\n",
        "allrank_norank_andcg = [0.36, 0.43, 0.49, 0.51]\n",
        "\n",
        "ks = ['K5', 'K10', 'K20', 'K30']\n",
        "original_df = [0.47, 0.51, 0.57, 0.61]"
      ],
      "metadata": {
        "id": "qpecTNYrZTgi"
      },
      "execution_count": 27,
      "outputs": []
    },
    {
      "cell_type": "code",
      "source": [
        "## NO RANK\n",
        "\n",
        "plt.style.use('fivethirtyeight')\n",
        "plt.figure(figsize=(10,6), facecolor='white')\n",
        "plt.gca().set_facecolor('white')\n",
        "\n",
        "plt.plot(ks, original_df, label='Original DataFrame', alpha=0.7, linestyle='--', marker='o')\n",
        "plt.plot(ks, xgb_norank_lambdamart, label='XGBRanker', alpha=0.7, marker='o')\n",
        "plt.plot(ks, lgbm_norank_lambdamart, label='LGBMRanker', alpha=0.7, marker='o')\n",
        "plt.plot(ks, scratchnn_norank_andcg, label='Scratch Neural Network', alpha=0.7, marker='o')\n",
        "plt.plot(ks, allrank_norank_andcg, label='AllRank Neural Network', alpha=0.7, marker='o')\n",
        "\n",
        "for i, (x, y) in enumerate(zip(ks, original_df)):\n",
        "    plt.text(x, y+0.01, f'{y:.2f}', ha='center', va='bottom')\n",
        "\n",
        "#for i, (x, y) in enumerate(zip(ks, xgb_norank_lambdamart)):\n",
        " #   plt.text(x, y+0.01, f'{y:.2f}', ha='center', va='bottom')\n",
        "\n",
        "for i, (x, y) in enumerate(zip(ks, lgbm_norank_lambdamart)):\n",
        "    plt.text(x, y-0.01, f'{y:.2f}', ha='center', va='top')\n",
        "\n",
        "for i, (x, y) in enumerate(zip(ks, scratchnn_norank_andcg)):\n",
        "    plt.text(x, y-0.01, f'{y:.2f}', ha='center', va='top')\n",
        "\n",
        "for i, (x, y) in enumerate(zip(ks, allrank_norank_andcg)):\n",
        "    plt.text(x, y+0.01, f'{y:.2f}', ha='center', va='bottom')\n",
        "\n",
        "plt.title('')\n",
        "plt.ylabel('NDCG Score')\n",
        "plt.xlabel('Ranking')\n",
        "plt.legend(loc='upper left')\n",
        "plt.ylim(0.1,0.8)\n",
        "plt.show()"
      ],
      "metadata": {
        "colab": {
          "base_uri": "https://localhost:8080/",
          "height": 603
        },
        "id": "Dos6rICLnltK",
        "outputId": "8901dc11-65d7-457d-fce9-b7bbd270a4dc"
      },
      "execution_count": 31,
      "outputs": [
        {
          "output_type": "display_data",
          "data": {
            "text/plain": [
              "<Figure size 1000x600 with 1 Axes>"
            ],
            "image/png": "[encoded data removed]"
          },
          "metadata": {}
        }
      ]
    },
    {
      "cell_type": "code",
      "source": [
        "ks = ['K5', 'K10', 'K20', 'K30']\n",
        "\n",
        "scratch_nn_sdg = [0.45, 0.51, 0.56, 0.57]\n",
        "nn_allrank = [0.59, 0.64, 0.68, 0.69]\n",
        "xgboost_ndcg = [0.57, 0.63, 0.67, 0.68]\n",
        "lightgbm_ndcg = [0.56, 0.61, 0.66, 0.67]\n",
        "\n",
        "original_df = [0.47, 0.51, 0.57, 0.61]"
      ],
      "metadata": {
        "id": "6Mylhz4Q631h"
      },
      "execution_count": 91,
      "outputs": []
    },
    {
      "cell_type": "code",
      "source": [
        "ks = ['K5', 'K10', 'K20', 'K30']\n",
        "\n",
        "scratch_nn_sdg = [0.45, 0.51, 0.56, 0.57]\n",
        "nn_allrank = [0.59, 0.64, 0.68, 0.69]\n",
        "xgboost_ndcg = [0.57, 0.63, 0.67, 0.68]\n",
        "lightgbm_ndcg = [0.56, 0.61, 0.66, 0.67]\n",
        "\n",
        "original_df = [0.47, 0.51, 0.57, 0.61]\n",
        "\n",
        "plt.style.use('fivethirtyeight')\n",
        "plt.figure(figsize=(10,6), facecolor='white')\n",
        "plt.gca().set_facecolor('white')\n",
        "\n",
        "plt.plot(ks, original_df, label='Original DataFrame', alpha=0.7, linestyle='--', marker='o')\n",
        "plt.plot(ks, xgboost_ndcg, label='XGBRanker', alpha=0.7, marker='o')\n",
        "plt.plot(ks, lightgbm_ndcg, label='LGBMRanker', alpha=0.7, marker='o')\n",
        "plt.plot(ks, scratch_nn_sdg, label='Scratch Neural Network', alpha=0.7, marker='o')\n",
        "plt.plot(ks, nn_allrank, label='AllRank Neural Network', alpha=0.7, marker='o')\n",
        "\n",
        "for i, (x, y) in enumerate(zip(ks, original_df)):\n",
        "    plt.text(x, y+0.01, f'{y:.2f}', ha='center', va='bottom')\n",
        "\n",
        "#for i, (x, y) in enumerate(zip(ks, xgboost_ndcg)):\n",
        " #   plt.text(x, y+0.01, f'{y:.2f}', ha='center', va='bottom')\n",
        "\n",
        "for i, (x, y) in enumerate(zip(ks, lightgbm_ndcg)):\n",
        "    plt.text(x, y-0.01, f'{y:.2f}', ha='center', va='top')\n",
        "\n",
        "for i, (x, y) in enumerate(zip(ks, scratch_nn_sdg)):\n",
        "    plt.text(x, y-0.01, f'{y:.2f}', ha='center', va='top')\n",
        "\n",
        "for i, (x, y) in enumerate(zip(ks, nn_allrank)):\n",
        "    plt.text(x, y+0.01, f'{y:.2f}', ha='center', va='bottom')\n",
        "\n",
        "plt.title('')\n",
        "plt.ylabel('NDCG Score')\n",
        "plt.xlabel('Ranking')\n",
        "plt.legend(loc='upper left')\n",
        "plt.ylim(0.4,0.8)\n",
        "plt.show()"
      ],
      "metadata": {
        "colab": {
          "base_uri": "https://localhost:8080/",
          "height": 603
        },
        "id": "5dCsBzkiIg2r",
        "outputId": "da736a0e-a28b-496d-a00f-bc185b039dd5"
      },
      "execution_count": 32,
      "outputs": [
        {
          "output_type": "display_data",
          "data": {
            "text/plain": [
              "<Figure size 1000x600 with 1 Axes>"
            ],
            "image/png": "[encoded data removed]"
          },
          "metadata": {}
        }
      ]
    },
    {
      "cell_type": "markdown",
      "source": [
        "### PRICE_BUCKET RELEVANCE SCORE\n",
        "Adding to the traditional relevance score, 1 if price bucket is between 1-3, and 2 if 4-5"
      ],
      "metadata": {
        "id": "jQd7wwPam9UU"
      }
    },
    {
      "cell_type": "code",
      "source": [
        "X_train_pp = pd.read_csv('/content/drive/MyDrive/Expedia/allRankNew/allRank/expedia_data/Millionrows_allRank/target_relevance/train.csv')\n",
        "y_train_pp = pd.read_csv('/content/drive/MyDrive/Expedia/allRankNew/allRank/expedia_data/Millionrows_allRank/target_relevance/y_train.csv')\n",
        "\n",
        "X_val_pp = pd.read_csv('/content/drive/MyDrive/Expedia/allRankNew/allRank/expedia_data/Millionrows_allRank/target_relevance/vali.csv')\n",
        "y_val_pp = pd.read_csv('/content/drive/MyDrive/Expedia/allRankNew/allRank/expedia_data/Millionrows_allRank/target_relevance/y_vali.csv')\n",
        "\n",
        "X_test_pp = pd.read_csv('/content/drive/MyDrive/Expedia/allRankNew/allRank/expedia_data/Millionrows_allRank/target_relevance/test.csv')\n",
        "y_test_pp = pd.read_csv('/content/drive/MyDrive/Expedia/allRankNew/allRank/expedia_data/Millionrows_allRank/target_relevance/y_test.csv')"
      ],
      "metadata": {
        "id": "vAUDbu_3nNh6"
      },
      "execution_count": null,
      "outputs": []
    },
    {
      "cell_type": "code",
      "source": [
        "query_id_train_pp = X_train_pp['qid']\n",
        "query_id_val_pp = X_val_pp['qid']\n",
        "query_id_test_pp = X_test_pp['qid']\n",
        "\n",
        "\n",
        "X_train_2_pp = X_train_pp.drop(columns=['qid'])\n",
        "X_train_arr_pp = X_train_2_pp.values.astype(float)\n",
        "\n",
        "X_val_2_pp = X_val_pp.drop(columns=['qid'])\n",
        "X_val_arr_pp = X_val_2_pp.values.astype(float)\n",
        "\n",
        "X_test_2_pp = X_test_pp.drop(columns=['qid'])\n",
        "X_test_arr_pp = X_test_2_pp.values.astype(float)\n",
        "\n",
        "\n",
        "y_train_array_pp = y_train_pp.values.astype(int).ravel()\n",
        "y_train_array_pp = y_train_array_pp.flatten().astype(float)\n",
        "\n",
        "y_val_array_pp = y_val_pp.values.astype(int).ravel()\n",
        "y_val_array_pp = y_val_array_pp.flatten().astype(float)\n",
        "\n",
        "y_test_array_pp = y_test_pp.values.astype(int).ravel()\n",
        "y_test_array_pp = y_test_array_pp.flatten().astype(float)"
      ],
      "metadata": {
        "id": "FtEEhy49nVHB"
      },
      "execution_count": null,
      "outputs": []
    },
    {
      "cell_type": "code",
      "source": [
        "early_stopping_cb = tf.keras.callbacks.EarlyStopping(patience=2, restore_best_weights=True, monitor='val_ndcg_metric_5', mode='max')\n",
        "\n",
        "np.random.seed(42)\n",
        "tf.random.set_seed(42)\n",
        "\n",
        "# Input layers for features and search_id\n",
        "input_features = Input(shape=(X_train_arr_pp.shape[1],), name='features')\n",
        "input_query_id = Input(shape=(1,), name='search_id')\n",
        "\n",
        "# Embedding or concatenation layer for search_id\n",
        "concatenated_inputs = Concatenate()([input_features, input_query_id])\n",
        "\n",
        "# Define the rest of your model architecture\n",
        "dense_layer_1 = Dense(128, activation='relu')(concatenated_inputs)\n",
        "batch_norm_1 = BatchNormalization()(dense_layer_1)\n",
        "dense_layer_2 = Dense(512, activation='relu')(dense_layer_1)\n",
        "dropout_layer = Dropout(0.3)(dense_layer_2)\n",
        "dense_layer_3 = Dense(1024, activation='relu')(dense_layer_2)\n",
        "dropout_layer = Dropout(0.3)(dense_layer_3)\n",
        "dense_layer_4 = Dense(512, activation='relu')(dense_layer_3)\n",
        "dense_layer_5 = Dense(256, activation='relu')(dense_layer_4)\n",
        "dense_layer_6 = Dense(128, activation='relu')(dense_layer_5)\n",
        "dense_layer_7 = Dense(64, activation='relu')(dense_layer_6)\n",
        "dense_layer_8 = Dense(32, activation='relu')(dense_layer_7)\n",
        "output_layer = Dense(1)(dense_layer_8)\n",
        "\n",
        "#Losses\n",
        "loss_ndcgapprox = tfr.keras.losses.ApproxNDCGLoss(temperature=0.1)\n",
        "loss_clickeml = tfr.keras.losses.ClickEMLoss()\n",
        "\n",
        "#Optimizer\n",
        "optimizer = tf.keras.optimizers.Adam(learning_rate=0.001)\n",
        "\n",
        "# Define the model\n",
        "model = Model(inputs=[input_features, input_query_id], outputs=output_layer)\n",
        "\n",
        "# Compile the model\n",
        "model.compile(optimizer=optimizer, loss=loss_ndcgapprox, metrics=[ndcg_metric_30, ndcg_metric_20, ndcg_metric_10, ndcg_metric_5])\n",
        "\n",
        "# Fit the model with both features and search_id\n",
        "history = model.fit({'features': X_train_arr_pp, 'search_id': query_id_train_pp}, y_train_array_pp,\n",
        "                    epochs=50, validation_data=({'features': X_val_arr_pp, 'search_id': query_id_val_pp}, y_val_array_pp),\n",
        "                    verbose=True, batch_size=64, callbacks=[early_stopping_cb])"
      ],
      "metadata": {
        "colab": {
          "base_uri": "https://localhost:8080/"
        },
        "outputId": "80ba25cc-470b-44c4-b201-86e0ae3d762d",
        "id": "BAMVFrs1nVHB"
      },
      "execution_count": null,
      "outputs": [
        {
          "output_type": "stream",
          "name": "stdout",
          "text": [
            "Epoch 1/50\n",
            "13702/13702 [==============================] - 174s 12ms/step - loss: -0.0719 - ndcg_metric_30: 0.3614 - ndcg_metric_20: 0.3614 - ndcg_metric_10: 0.3615 - ndcg_metric_5: 0.3868 - val_loss: -0.0732 - val_ndcg_metric_30: 0.3181 - val_ndcg_metric_20: 0.3191 - val_ndcg_metric_10: 0.3260 - val_ndcg_metric_5: 0.3589\n",
            "Epoch 2/50\n",
            "13702/13702 [==============================] - 168s 12ms/step - loss: -0.0719 - ndcg_metric_30: 0.3614 - ndcg_metric_20: 0.3614 - ndcg_metric_10: 0.3616 - ndcg_metric_5: 0.3869 - val_loss: -0.0732 - val_ndcg_metric_30: 0.3181 - val_ndcg_metric_20: 0.3191 - val_ndcg_metric_10: 0.3260 - val_ndcg_metric_5: 0.3589\n",
            "Epoch 3/50\n",
            "13702/13702 [==============================] - 168s 12ms/step - loss: -0.0719 - ndcg_metric_30: 0.3613 - ndcg_metric_20: 0.3613 - ndcg_metric_10: 0.3615 - ndcg_metric_5: 0.3870 - val_loss: -0.0732 - val_ndcg_metric_30: 0.3181 - val_ndcg_metric_20: 0.3191 - val_ndcg_metric_10: 0.3260 - val_ndcg_metric_5: 0.3589\n",
            "Epoch 4/50\n",
            "13702/13702 [==============================] - 169s 12ms/step - loss: -0.0719 - ndcg_metric_30: 0.3620 - ndcg_metric_20: 0.3620 - ndcg_metric_10: 0.3622 - ndcg_metric_5: 0.3876 - val_loss: -0.0732 - val_ndcg_metric_30: 0.3181 - val_ndcg_metric_20: 0.3191 - val_ndcg_metric_10: 0.3260 - val_ndcg_metric_5: 0.3589\n"
          ]
        }
      ]
    },
    {
      "cell_type": "code",
      "source": [
        "y_test_pred = y_test_pp['relevance']\n",
        "query_id_test_pp = X_test_pp['qid']\n",
        "qids = np.unique(query_id_test_pp)\n",
        "\n",
        "ndcg_5 = list()\n",
        "ndcg_10 = list()\n",
        "ndcg_20 = list()\n",
        "ndcg_30 = list()\n",
        "predict_values = list()\n",
        "\n",
        "for i, qid in tqdm(enumerate(qids[:]), total=len(qids)):\n",
        "    query_id_test_pp = X_test_pp['qid']\n",
        "    y = y_test_pred[query_id_test_pp == qid]\n",
        "\n",
        "    if np.sum(y) == 0:\n",
        "        continue\n",
        "\n",
        "    X_test_2_pp = X_test_pp[X_test_pp['qid'] == qid]\n",
        "\n",
        "    query_id_test_pp = X_test_2_pp['qid']\n",
        "\n",
        "    X_test_2_pp = X_test_2_pp.drop(columns=['qid'])\n",
        "    X_test_arr_pp = X_test_2_pp.values.astype(float)\n",
        "\n",
        "    predictions = model.predict({'features': X_test_arr_pp, 'search_id': query_id_test_pp}, verbose=False)\n",
        "    predictions = predictions.flatten()\n",
        "    predict_values.append([predictions])\n",
        "\n",
        "    for i in [5,10,20,30]:\n",
        "      idcg = ndcg(y, y, k=i)\n",
        "      eval(f\"ndcg_{i}\").append(ndcg(predictions, y, k=i) / idcg)\n",
        "\n",
        "\n",
        "print(f'NDCG K5 {np.mean(ndcg_5)}')\n",
        "print(f'NDCG K10 {np.mean(ndcg_10)}')\n",
        "print(f'NDCG K20 {np.mean(ndcg_20)}')\n",
        "print(f'NDCG K30 {np.mean(ndcg_30)}')"
      ],
      "metadata": {
        "colab": {
          "base_uri": "https://localhost:8080/"
        },
        "outputId": "0679adb5-10fa-4378-99bc-ab647ea02061",
        "id": "NvpmX5iOndYY"
      },
      "execution_count": null,
      "outputs": [
        {
          "output_type": "stream",
          "name": "stderr",
          "text": [
            " 36%|███▋      | 4649/12779 [07:22<13:13, 10.25it/s]"
          ]
        }
      ]
    },
    {
      "cell_type": "markdown",
      "source": [
        "### REVIEW RATING - REVIEW COUNT RELEVANCE SCORE\n",
        "\n",
        "- If relevance is not equal to 0:\n",
        "    - If review count is greater than 200 and review rating is 4, sum 2\n",
        "    - If review_count is greater than 200 and review rating is 5, sum 3\n",
        "    - If review count is greater than 200 and review rating is 3 or below, deduct 1\n",
        "    - If review count is lower than 200 but review rating is equal to 4 or 5, add 1\n"
      ],
      "metadata": {
        "id": "ZEU2O8Vwof9g"
      }
    },
    {
      "cell_type": "code",
      "source": [
        "X_train_pp_rr = pd.read_csv('/content/drive/MyDrive/Expedia/Data/workstation_1millionrows/target_combined_click_reviewrating_review_count_relevance/train.csv')\n",
        "y_train_pp_rr = pd.read_csv('/content/drive/MyDrive/Expedia/Data/workstation_1millionrows/target_combined_click_reviewrating_review_count_relevance/y_train.csv')\n",
        "\n",
        "X_val_pp_rr = pd.read_csv('/content/drive/MyDrive/Expedia/Data/workstation_1millionrows/target_combined_click_reviewrating_review_count_relevance/vali.csv')\n",
        "y_val_pp_rr = pd.read_csv('/content/drive/MyDrive/Expedia/Data/workstation_1millionrows/target_combined_click_reviewrating_review_count_relevance/y_vali.csv')\n",
        "\n",
        "X_test_pp_rr = pd.read_csv('/content/drive/MyDrive/Expedia/Data/workstation_1millionrows/target_combined_click_reviewrating_review_count_relevance/test.csv')\n",
        "y_test_pp_rr = pd.read_csv('/content/drive/MyDrive/Expedia/Data/workstation_1millionrows/target_combined_click_reviewrating_review_count_relevance/y_test.csv')"
      ],
      "metadata": {
        "id": "6M5JL_h5p2Rg"
      },
      "execution_count": null,
      "outputs": []
    },
    {
      "cell_type": "code",
      "source": [
        "X_train_pp_rr = X_train_pp_rr.drop(columns=['prop_id_target'])\n",
        "X_val_pp_rr = X_val_pp_rr.drop(columns=['prop_id_target'])\n",
        "X_test_pp_rr = X_test_pp_rr.drop(columns=['prop_id_target'])"
      ],
      "metadata": {
        "id": "d8VRXxragSMP"
      },
      "execution_count": null,
      "outputs": []
    },
    {
      "cell_type": "code",
      "source": [
        "query_id_train_pp_rr = X_train_pp_rr['qid']\n",
        "query_id_val_pp_rr = X_val_pp_rr['qid']\n",
        "query_id_test_pp_rr = X_test_pp_rr['qid']\n",
        "\n",
        "\n",
        "X_train_2_pp_rr = X_train_pp_rr.drop(columns=['qid'])\n",
        "X_train_arr_pp_rr = X_train_2_pp_rr.values.astype(float)\n",
        "\n",
        "X_val_2_pp_rr = X_val_pp_rr.drop(columns=['qid'])\n",
        "X_val_arr_pp_rr = X_val_2_pp_rr.values.astype(float)\n",
        "\n",
        "X_test_2_pp_rr = X_test_pp_rr.drop(columns=['qid'])\n",
        "X_test_arr_pp_rr = X_test_2_pp_rr.values.astype(float)\n",
        "\n",
        "\n",
        "y_train_array_pp_rr = y_train_pp_rr.values.astype(int).ravel()\n",
        "y_train_array_pp_rr = y_train_array_pp_rr.flatten().astype(float)\n",
        "\n",
        "y_val_array_pp_rr = y_val_pp_rr.values.astype(int).ravel()\n",
        "y_val_array_pp_rr = y_val_array_pp_rr.flatten().astype(float)\n",
        "\n",
        "y_test_array_pp_rr = y_test_pp_rr.values.astype(int).ravel()\n",
        "y_test_array_pp_rr = y_test_array_pp_rr.flatten().astype(float)"
      ],
      "metadata": {
        "id": "DZnMgpvUgpNX"
      },
      "execution_count": null,
      "outputs": []
    },
    {
      "cell_type": "code",
      "source": [
        "early_stopping_cb = tf.keras.callbacks.EarlyStopping(patience=10,restore_best_weights=True, monitor='val_ndcg_metric_5', mode='max')\n",
        "\n",
        "np.random.seed(42)\n",
        "tf.random.set_seed(42)\n",
        "\n",
        "# Input layers for features and search_id\n",
        "input_features = Input(shape=(X_train_arr_pp_rr.shape[1],), name='features')\n",
        "input_query_id = Input(shape=(1,), name='search_id')\n",
        "\n",
        "# Embedding or concatenation layer for search_id\n",
        "concatenated_inputs = Concatenate()([input_features, input_query_id])\n",
        "\n",
        "# Define the rest of your model architecture\n",
        "dense_layer_1 = Dense(128, activation='relu')(concatenated_inputs)\n",
        "batch_norm_1 = BatchNormalization()(dense_layer_1)\n",
        "#dense_layer_2 = Dense(512, activation='relu')(dense_layer_1)\n",
        "#dense_layer_3 = Dense(1024, activation='relu')(dense_layer_2)\n",
        "#dropout_layer = Dropout(0.3)(dense_layer_3)\n",
        "#dense_layer_4 = Dense(512, activation='relu')(dense_layer_3)\n",
        "#dense_layer_5 = Dense(256, activation='relu')(dense_layer_4)\n",
        "#dense_layer_6 = Dense(128, activation='relu')(dense_layer_5)\n",
        "dense_layer_7 = Dense(64, activation='relu')(dense_layer_1)\n",
        "dense_layer_8 = Dense(32, activation='relu')(dense_layer_7)\n",
        "output_layer = Dense(1)(dense_layer_8)\n",
        "\n",
        "#Losses\n",
        "loss_ndcgapprox = tfr.keras.losses.ApproxNDCGLoss(temperature=0.1)\n",
        "loss_clickeml = tfr.keras.losses.ClickEMLoss()\n",
        "\n",
        "#Optimizer\n",
        "optimizer = tf.keras.optimizers.Adam(learning_rate=0.001)\n",
        "\n",
        "# Define the model\n",
        "model = Model(inputs=[input_features, input_query_id], outputs=output_layer)\n",
        "\n",
        "# Compile the model\n",
        "model.compile(optimizer=optimizer, loss=loss_ndcgapprox, metrics=[ndcg_metric_5])\n",
        "\n",
        "# Fit the model with both features and search_id\n",
        "history = model.fit({'features': X_train_arr_pp_rr, 'search_id': query_id_train_pp_rr}, y_train_array_pp_rr,\n",
        "                    epochs=50, validation_data=({'features': X_val_arr_pp_rr, 'search_id': query_id_val_pp_rr}, y_val_array_pp_rr),\n",
        "                    verbose=True, batch_size=64, callbacks=[early_stopping_cb])"
      ],
      "metadata": {
        "id": "Cq4hZXoEguR2"
      },
      "execution_count": null,
      "outputs": []
    },
    {
      "cell_type": "code",
      "source": [
        "unique_qid_rr = X_test_pp_rr['qid'].unique()\n",
        "testtt_rr = X_test_pp_rr[X_test_pp_rr['qid'].isin(unique_qid_rr[:3000])]\n",
        "testtt_rr.shape[0]\n",
        "t_testtt_rr = y_test_pp_rr[:testtt_rr.shape[0]]"
      ],
      "metadata": {
        "id": "-u2GZxN5g0HA"
      },
      "execution_count": null,
      "outputs": []
    },
    {
      "cell_type": "code",
      "source": [
        "y_test_pred_rr = t_testtt_rr['relevance']\n",
        "query_id_test_pp_rr = testtt_rr['qid']\n",
        "qids_rr = np.unique(query_id_test_pp_rr)\n",
        "\n",
        "ndcg_5_rr = list()\n",
        "ndcg_10_rr = list()\n",
        "ndcg_20_rr = list()\n",
        "ndcg_30_rr = list()\n",
        "predict_values_rr = list()\n",
        "\n",
        "for i, qid in tqdm(enumerate(qids_rr[:]), total=len(qids_rr)):\n",
        "    query_id_test_pp_rr = testtt_rr['qid']\n",
        "    y = y_test_pred_rr[query_id_test_pp_rr == qid]\n",
        "\n",
        "    if np.sum(y) == 0:\n",
        "        continue\n",
        "\n",
        "    X_test_2_pp = testtt_rr[testtt_rr['qid'] == qid]\n",
        "\n",
        "    query_id_test_pp_rr = X_test_2_pp['qid']\n",
        "\n",
        "    X_test_2_pp = X_test_2_pp.drop(columns=['qid'])\n",
        "    X_test_arr_pp = X_test_2_pp.values.astype(float)\n",
        "\n",
        "    predictions = model.predict({'features': X_test_arr_pp, 'search_id': query_id_test_pp_rr}, verbose=False)\n",
        "    predictions = predictions.flatten()\n",
        "    predict_values_rr.append([predictions])\n",
        "\n",
        "    for i in [5,10,20,30]:\n",
        "      idcg = ndcg(y, y, k=i)\n",
        "      eval(f\"ndcg_{i}\").append(ndcg(predictions, y, k=i) / idcg)\n",
        "\n",
        "\n",
        "print(f'NDCG K5 {np.mean(ndcg_5_rr)}')\n",
        "print(f'NDCG K10 {np.mean(ndcg_10_rr)}')\n",
        "print(f'NDCG K20 {np.mean(ndcg_20_rr)}')\n",
        "print(f'NDCG K30 {np.mean(ndcg_30_rr)}')"
      ],
      "metadata": {
        "id": "LA8-JIP-g0HB"
      },
      "execution_count": null,
      "outputs": []
    }
  ]
}